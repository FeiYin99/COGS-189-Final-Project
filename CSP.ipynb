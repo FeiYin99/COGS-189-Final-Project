{
 "cells": [
  {
   "cell_type": "code",
   "execution_count": 1,
   "id": "30a4bf62",
   "metadata": {},
   "outputs": [],
   "source": [
    "## Import packages\n",
    "## Import packages\n",
    "import os\n",
    "import mne\n",
    "import numpy as np\n",
    "import scipy.io as sio\n",
    "import matplotlib.pyplot as plt\n",
    "\n",
    "from scipy.signal import butter, sosfiltfilt, sosfreqz  \n",
    "from scipy.io import loadmat\n",
    "from sklearn.discriminant_analysis import LinearDiscriminantAnalysis\n",
    "from sklearn.metrics import roc_curve, auc"
   ]
  },
  {
   "cell_type": "code",
   "execution_count": 2,
   "id": "7e558dfd",
   "metadata": {},
   "outputs": [],
   "source": [
    "## Define directories\n",
    "data_dir = '/home/inffzy/Desktop/cogs189/cogs189_final_project/data'"
   ]
  },
  {
   "cell_type": "code",
   "execution_count": 3,
   "id": "3d20a5d1",
   "metadata": {},
   "outputs": [],
   "source": [
    "## Raw data directory names\n",
    "bc4_2a_processed_name = 'bci_competition_4_2a_processed'\n",
    "bc3_3a_processed_name = 'bci_competition_3_3a_processed'\n",
    "\n",
    "## Create list of all data paths\n",
    "bc4_2a_processed_data_paths = []\n",
    "bc3_3a_processed_data_paths = []\n",
    "\n",
    "## Add bc4_2a data paths\n",
    "for subject_idx in range(1, 10):\n",
    "    subject_name = 'A0' + str(subject_idx) + 'T'\n",
    "    bc4_2a_processed_data_paths.append(\n",
    "        os.path.join(data_dir, bc4_2a_processed_name, subject_name + '.npz'))\n",
    "    \n",
    "## Add bc3_3a data paths\n",
    "for subject_idx in range(1, 4):\n",
    "    subject_name = 'bc3_3a_s' + str(subject_idx)\n",
    "    bc3_3a_processed_data_paths.append(\n",
    "        os.path.join(data_dir, bc3_3a_processed_name, subject_name + '.npz'))"
   ]
  },
  {
   "cell_type": "code",
   "execution_count": 4,
   "id": "63404e10",
   "metadata": {},
   "outputs": [],
   "source": [
    "bc3_3a_s1_data_npz = np.load(bc3_3a_processed_data_paths[0])\n",
    "\n",
    "bc3_3a_s1_data = bc3_3a_s1_data_npz['processed_motor_imagery_data']\n",
    "bc3_3a_s1_labels = bc3_3a_s1_data_npz['descriptions']"
   ]
  },
  {
   "cell_type": "code",
   "execution_count": 5,
   "id": "cb87ebca",
   "metadata": {},
   "outputs": [
    {
     "data": {
      "text/plain": [
       "array([771, 772, 771, 771, 771, 770, 772, 772, 769, 770, 770, 769, 770,\n",
       "       772, 769, 770, 771, 769, 769, 771, 769, 771, 769, 769, 769, 770,\n",
       "       772, 771, 770, 772, 770, 770, 771, 772, 769, 770, 772, 771, 769,\n",
       "       772, 769, 772, 771, 769, 769, 770, 769, 772, 772, 770, 770, 771,\n",
       "       772, 769, 772, 772, 771, 769, 771, 772, 771, 771, 771, 772, 770,\n",
       "       772, 772, 769, 769, 771, 770, 772, 770, 769, 772, 770, 770, 772,\n",
       "       769, 770, 770, 772, 770, 771, 772, 772, 771, 771, 772, 770, 771,\n",
       "       770, 769, 771, 772, 769, 770, 769, 769, 771, 772, 771, 771, 769,\n",
       "       771, 772, 770, 770, 770, 772, 772, 771, 771, 772, 769, 771, 769,\n",
       "       771, 771, 769, 770, 770, 769, 769, 770, 770, 771, 772, 771, 769,\n",
       "       769, 770, 770, 769, 771, 771, 772, 770, 771, 769, 769, 770, 772,\n",
       "       770, 772, 772, 772, 770, 771])"
      ]
     },
     "execution_count": 5,
     "metadata": {},
     "output_type": "execute_result"
    }
   ],
   "source": [
    "bc3_3a_s1_labels"
   ]
  },
  {
   "cell_type": "code",
   "execution_count": 6,
   "id": "293f0eaa",
   "metadata": {},
   "outputs": [],
   "source": [
    "bc4_2a_s1_data_npz = np.load(bc4_2a_processed_data_paths[0])\n",
    "\n",
    "bc4_2a_s1_data = bc4_2a_s1_data_npz['processed_motor_imagery_data']\n",
    "bc4_2a_s1_labels = bc4_2a_s1_data_npz['descriptions']"
   ]
  },
  {
   "cell_type": "code",
   "execution_count": 7,
   "id": "aed87e72",
   "metadata": {},
   "outputs": [
    {
     "data": {
      "text/plain": [
       "array([772, 771, 770, 769, 769, 770, 771, 772, 770, 771, 769, 769, 769,\n",
       "       772, 770, 770, 769, 769, 771, 769, 770, 772, 771, 769, 772, 772,\n",
       "       770, 772, 772, 770, 769, 770, 771, 771, 771, 772, 771, 769, 772,\n",
       "       770, 771, 770, 771, 772, 771, 769, 769, 769, 772, 770, 771, 769,\n",
       "       771, 772, 769, 771, 771, 769, 771, 770, 772, 772, 772, 769, 772,\n",
       "       770, 772, 770, 769, 771, 770, 769, 771, 771, 769, 771, 772, 772,\n",
       "       770, 769, 770, 772, 770, 772, 771, 770, 770, 770, 771, 769, 770,\n",
       "       771, 771, 772, 769, 769, 770, 772, 772, 772, 770, 769, 771, 770,\n",
       "       772, 769, 772, 771, 770, 772, 772, 769, 770, 770, 771, 772, 770,\n",
       "       769, 769, 772, 770, 769, 771, 770, 770, 771, 769, 772, 771, 771,\n",
       "       771, 771, 769, 770, 769, 770, 769, 769, 771, 771, 770, 771, 772,\n",
       "       769, 772, 769, 769, 770, 772, 771, 770, 772, 771, 772, 771, 772,\n",
       "       770, 770, 772, 769, 770, 770, 770, 771, 772, 769, 772, 769, 771,\n",
       "       769, 772, 769, 771, 769, 770, 771, 771, 772, 769, 770, 772, 770,\n",
       "       771, 769, 772, 770, 772, 769, 769, 771, 771, 770, 772, 770, 770,\n",
       "       769, 770, 772, 772, 770, 770, 770, 770, 772, 771, 772, 769, 770,\n",
       "       771, 770, 769, 772, 769, 772, 769, 769, 769, 769, 771, 772, 770,\n",
       "       771, 771, 771, 772, 771, 769, 771, 769, 772, 770, 772, 772, 771,\n",
       "       772, 772, 771, 770, 772, 771, 769, 770, 770, 771, 770, 772, 771,\n",
       "       772, 770, 771, 769, 772, 769, 771, 772, 769, 771, 769, 770, 770,\n",
       "       769, 772, 769, 771, 771, 769, 771, 770, 770, 769, 771, 769, 770])"
      ]
     },
     "execution_count": 7,
     "metadata": {},
     "output_type": "execute_result"
    }
   ],
   "source": [
    "bc4_2a_s1_labels"
   ]
  },
  {
   "cell_type": "code",
   "execution_count": 9,
   "id": "27e0666a",
   "metadata": {},
   "outputs": [],
   "source": [
    "num_bc4_2a_channels = bc4_2a_s1_data.shape[1]"
   ]
  },
  {
   "cell_type": "code",
   "execution_count": 10,
   "id": "9509c1b3",
   "metadata": {},
   "outputs": [
    {
     "data": {
      "text/plain": [
       "(273, 25, 750)"
      ]
     },
     "execution_count": 10,
     "metadata": {},
     "output_type": "execute_result"
    }
   ],
   "source": [
    "bc4_2a_s1_data.shape"
   ]
  },
  {
   "cell_type": "code",
   "execution_count": 11,
   "id": "f24a38d1",
   "metadata": {},
   "outputs": [],
   "source": [
    "## Separate subject data by trial label\n",
    "bc4_2a_s1_data_c1 = bc4_2a_s1_data[bc4_2a_s1_labels == 769]\n",
    "bc4_2a_s1_data_c2 = bc4_2a_s1_data[bc4_2a_s1_labels == 770]\n",
    "bc4_2a_s1_data_c3 = bc4_2a_s1_data[bc4_2a_s1_labels == 771]\n",
    "bc4_2a_s1_data_c4 = bc4_2a_s1_data[bc4_2a_s1_labels == 772]\n",
    "\n",
    "num_bc4_2a_s1_c1_trials = bc4_2a_s1_data_c1.shape[0]\n",
    "num_bc4_2a_s1_c2_trials = bc4_2a_s1_data_c2.shape[0]\n",
    "num_bc4_2a_s1_c3_trials = bc4_2a_s1_data_c3.shape[0]\n",
    "num_bc4_2a_s1_c4_trials = bc4_2a_s1_data_c4.shape[0]"
   ]
  },
  {
   "cell_type": "code",
   "execution_count": 13,
   "id": "a478df58",
   "metadata": {},
   "outputs": [],
   "source": [
    "## Calculate normalized spatial covariance of each trial\n",
    "bc4_2a_s1_data_c1_trial_covs = np.zeros((num_bc4_2a_s1_c1_trials, num_bc4_2a_channels, num_bc4_2a_channels))\n",
    "bc4_2a_s1_data_c2_trial_covs = np.zeros((num_bc4_2a_s1_c2_trials, num_bc4_2a_channels, num_bc4_2a_channels))\n",
    "bc4_2a_s1_data_c3_trial_covs = np.zeros((num_bc4_2a_s1_c3_trials, num_bc4_2a_channels, num_bc4_2a_channels))\n",
    "bc4_2a_s1_data_c4_trial_covs = np.zeros((num_bc4_2a_s1_c4_trials, num_bc4_2a_channels, num_bc4_2a_channels))\n",
    "\n",
    "for i in range(num_bc4_2a_s1_c1_trials):\n",
    "    bc4_2a_s1_data_c1_trial = bc4_2a_s1_data_c1[i]\n",
    "    \n",
    "    ## Normalize spatial covariance\n",
    "    bc4_2a_s1_data_c1_trial_prod = bc4_2a_s1_data_c1_trial @ bc4_2a_s1_data_c1_trial.T\n",
    "    bc4_2a_s1_data_c1_trial_cov = bc4_2a_s1_data_c1_trial_prod / np.trace(bc4_2a_s1_data_c1_trial_prod)\n",
    "    \n",
    "    bc4_2a_s1_data_c1_trial_covs[i] = bc4_2a_s1_data_c1_trial_cov\n",
    "\n",
    "for i in range(num_bc4_2a_s1_c2_trials):\n",
    "    bc4_2a_s1_data_c2_trial = bc4_2a_s1_data_c2[i]\n",
    "    \n",
    "    ## Normalize spatial covariance\n",
    "    bc4_2a_s1_data_c2_trial_prod = bc4_2a_s1_data_c2_trial @ bc4_2a_s1_data_c2_trial.T\n",
    "    bc4_2a_s1_data_c2_trial_cov = bc4_2a_s1_data_c2_trial_prod / np.trace(bc4_2a_s1_data_c2_trial_prod)\n",
    "    bc4_2a_s1_data_c2_trial_covs[i] = bc4_2a_s1_data_c2_trial_cov\n",
    "\n",
    "for i in range(num_bc4_2a_s1_c3_trials):\n",
    "    bc4_2a_s1_data_c3_trial = bc4_2a_s1_data_c3[i]\n",
    "    \n",
    "    ## Normalize spatial covariance\n",
    "    bc4_2a_s1_data_c3_trial_prod = bc4_2a_s1_data_c3_trial @ bc4_2a_s1_data_c3_trial.T\n",
    "    bc4_2a_s1_data_c3_trial_cov = bc4_2a_s1_data_c3_trial_prod / np.trace(bc4_2a_s1_data_c3_trial_prod)\n",
    "    bc4_2a_s1_data_c3_trial_covs[i] = bc4_2a_s1_data_c3_trial_cov\n",
    "\n",
    "for i in range(num_bc4_2a_s1_c4_trials):\n",
    "    bc4_2a_s1_data_c4_trial = bc4_2a_s1_data_c4[i]\n",
    "    \n",
    "    ## Normalize spatial covariance\n",
    "    bc4_2a_s1_data_c4_trial_prod = bc4_2a_s1_data_c4_trial @ bc4_2a_s1_data_c4_trial.T\n",
    "    bc4_2a_s1_data_c4_trial_cov = bc4_2a_s1_data_c4_trial_prod / np.trace(bc4_2a_s1_data_c4_trial_prod)\n",
    "    bc4_2a_s1_data_c4_trial_covs[i] = bc4_2a_s1_data_c4_trial_cov"
   ]
  },
  {
   "cell_type": "code",
   "execution_count": 14,
   "id": "0a6060c2",
   "metadata": {},
   "outputs": [],
   "source": [
    "## Calculate averaged normalized spatial covariance\n",
    "bc4_2a_s1_data_c1_trial_cov_avg = np.mean(bc4_2a_s1_data_c1_trial_covs, axis=0)\n",
    "bc4_2a_s1_data_c2_trial_cov_avg = np.mean(bc4_2a_s1_data_c2_trial_covs, axis=0)\n",
    "bc4_2a_s1_data_c3_trial_cov_avg = np.mean(bc4_2a_s1_data_c3_trial_covs, axis=0)\n",
    "bc4_2a_s1_data_c4_trial_cov_avg = np.mean(bc4_2a_s1_data_c4_trial_covs, axis=0)"
   ]
  },
  {
   "cell_type": "code",
   "execution_count": 15,
   "id": "e5dd7321",
   "metadata": {},
   "outputs": [],
   "source": [
    "## Calculate composite spatial covariance\n",
    "R12 = bc4_2a_s1_data_c1_trial_cov_avg + bc4_2a_s1_data_c2_trial_cov_avg\n",
    "R13 = bc4_2a_s1_data_c1_trial_cov_avg + bc4_2a_s1_data_c3_trial_cov_avg\n",
    "R14 = bc4_2a_s1_data_c1_trial_cov_avg + bc4_2a_s1_data_c4_trial_cov_avg\n",
    "R23 = bc4_2a_s1_data_c2_trial_cov_avg + bc4_2a_s1_data_c3_trial_cov_avg\n",
    "R24 = bc4_2a_s1_data_c2_trial_cov_avg + bc4_2a_s1_data_c4_trial_cov_avg\n",
    "R34 = bc4_2a_s1_data_c3_trial_cov_avg + bc4_2a_s1_data_c4_trial_cov_avg"
   ]
  },
  {
   "cell_type": "code",
   "execution_count": 16,
   "id": "44edb94b",
   "metadata": {},
   "outputs": [],
   "source": [
    "## Eigen-decompose composite spatial covariance\n",
    "R12_eigval, R12_eigvec = np.linalg.eig(R12)\n",
    "R13_eigval, R13_eigvec = np.linalg.eig(R13)\n",
    "R14_eigval, R14_eigvec = np.linalg.eig(R14)\n",
    "R23_eigval, R23_eigvec = np.linalg.eig(R23)\n",
    "R24_eigval, R24_eigvec = np.linalg.eig(R24)\n",
    "R34_eigval, R34_eigvec = np.linalg.eig(R34)"
   ]
  },
  {
   "cell_type": "code",
   "execution_count": 17,
   "id": "1606323b",
   "metadata": {},
   "outputs": [],
   "source": [
    "## Create diagonal matrix of eigenvalues\n",
    "R12_eigval_diag = np.zeros_like(R12_eigvec)\n",
    "R13_eigval_diag = np.zeros_like(R13_eigvec)\n",
    "R14_eigval_diag = np.zeros_like(R14_eigvec)\n",
    "R23_eigval_diag = np.zeros_like(R23_eigvec)\n",
    "R24_eigval_diag = np.zeros_like(R24_eigvec)\n",
    "R34_eigval_diag = np.zeros_like(R34_eigvec)\n",
    "\n",
    "for i in range(R12_eigval.shape[0]):\n",
    "    R12_eigval_diag[i, i] = R12_eigval[i]\n",
    "    R13_eigval_diag[i, i] = R13_eigval[i]\n",
    "    R14_eigval_diag[i, i] = R14_eigval[i]\n",
    "    R23_eigval_diag[i, i] = R23_eigval[i]\n",
    "    R24_eigval_diag[i, i] = R24_eigval[i]\n",
    "    R34_eigval_diag[i, i] = R34_eigval[i]"
   ]
  },
  {
   "cell_type": "code",
   "execution_count": 18,
   "id": "8235d8f6",
   "metadata": {},
   "outputs": [],
   "source": [
    "## Calculate Whitening transformation matrix\n",
    "P12 = np.linalg.inv(np.sqrt(R12_eigval_diag)) @ R12_eigvec.T\n",
    "P13 = np.linalg.inv(np.sqrt(R13_eigval_diag)) @ R13_eigvec.T\n",
    "P14 = np.linalg.inv(np.sqrt(R14_eigval_diag)) @ R14_eigvec.T\n",
    "P23 = np.linalg.inv(np.sqrt(R23_eigval_diag)) @ R23_eigvec.T\n",
    "P24 = np.linalg.inv(np.sqrt(R24_eigval_diag)) @ R24_eigvec.T\n",
    "P34 = np.linalg.inv(np.sqrt(R34_eigval_diag)) @ R34_eigvec.T"
   ]
  },
  {
   "cell_type": "code",
   "execution_count": 19,
   "id": "21b09ef7",
   "metadata": {},
   "outputs": [],
   "source": [
    "## Whitening Transform average covariance\n",
    "S12_1 = P12 @ bc4_2a_s1_data_c1_trial_cov_avg @ P12.T\n",
    "S12_2 = P12 @ bc4_2a_s1_data_c2_trial_cov_avg @ P12.T\n",
    "S13_1 = P13 @ bc4_2a_s1_data_c1_trial_cov_avg @ P13.T\n",
    "S13_3 = P13 @ bc4_2a_s1_data_c3_trial_cov_avg @ P13.T\n",
    "S14_1 = P14 @ bc4_2a_s1_data_c1_trial_cov_avg @ P14.T\n",
    "S14_4 = P14 @ bc4_2a_s1_data_c4_trial_cov_avg @ P14.T\n",
    "S23_2 = P23 @ bc4_2a_s1_data_c2_trial_cov_avg @ P23.T\n",
    "S23_3 = P23 @ bc4_2a_s1_data_c3_trial_cov_avg @ P23.T\n",
    "S24_2 = P24 @ bc4_2a_s1_data_c2_trial_cov_avg @ P24.T\n",
    "S24_4 = P24 @ bc4_2a_s1_data_c4_trial_cov_avg @ P24.T\n",
    "S34_3 = P34 @ bc4_2a_s1_data_c3_trial_cov_avg @ P34.T\n",
    "S34_4 = P34 @ bc4_2a_s1_data_c4_trial_cov_avg @ P34.T"
   ]
  },
  {
   "cell_type": "code",
   "execution_count": 20,
   "id": "d1f5c5bb",
   "metadata": {},
   "outputs": [],
   "source": [
    "## Eigen-decompose of whitening transformed average covariance\n",
    "S12_1_eigval, S12_1_eigvec = np.linalg.eig(S12_1)\n",
    "S12_2_eigval, S12_2_eigvec = np.linalg.eig(S12_2)\n",
    "S13_1_eigval, S13_1_eigvec = np.linalg.eig(S13_1)\n",
    "S13_3_eigval, S13_3_eigvec = np.linalg.eig(S13_3)\n",
    "S14_1_eigval, S14_1_eigvec = np.linalg.eig(S14_1)\n",
    "S14_4_eigval, S14_4_eigvec = np.linalg.eig(S14_4)\n",
    "S23_2_eigval, S23_2_eigvec = np.linalg.eig(S23_2)\n",
    "S23_3_eigval, S23_3_eigvec = np.linalg.eig(S23_3)\n",
    "S24_2_eigval, S24_2_eigvec = np.linalg.eig(S24_2)\n",
    "S24_4_eigval, S24_4_eigvec = np.linalg.eig(S24_4)\n",
    "S34_3_eigval, S34_3_eigvec = np.linalg.eig(S34_3)\n",
    "S34_4_eigval, S34_4_eigvec = np.linalg.eig(S34_4)"
   ]
  },
  {
   "cell_type": "code",
   "execution_count": 36,
   "id": "b4f4db71",
   "metadata": {},
   "outputs": [
    {
     "data": {
      "text/plain": [
       "array([1., 1., 1., 1., 1., 1., 1., 1., 1., 1., 1., 1., 1., 1., 1., 1., 1.,\n",
       "       1., 1., 1., 1., 1., 1., 1., 1.])"
      ]
     },
     "execution_count": 36,
     "metadata": {},
     "output_type": "execute_result"
    }
   ],
   "source": [
    "S12_1_eigval + S12_2_eigval"
   ]
  },
  {
   "cell_type": "code",
   "execution_count": 33,
   "id": "c3c39ea6",
   "metadata": {},
   "outputs": [],
   "source": [
    "## Take the largest 3 and smallest 3 eigenvectors to contruct projection matrix W\n",
    "num_dim_per_label = 3\n",
    "top_n_indices, bot_n_indices = get_top_bot_n_indices(S12_1_eigval, num_dim_per_label)\n",
    "\n",
    "S12_1_eigvec_extracted = S12_1_eigvec[top_n_indices + bot_n_indices]\n",
    "\n",
    "W12 = S12_1_eigvec_extracted @ P12"
   ]
  },
  {
   "cell_type": "code",
   "execution_count": 34,
   "id": "f51b0449",
   "metadata": {},
   "outputs": [
    {
     "data": {
      "text/plain": [
       "(6, 25)"
      ]
     },
     "execution_count": 34,
     "metadata": {},
     "output_type": "execute_result"
    }
   ],
   "source": [
    "W12.shape"
   ]
  },
  {
   "cell_type": "code",
   "execution_count": 29,
   "id": "9f44d697",
   "metadata": {},
   "outputs": [],
   "source": [
    "def get_top_bot_n_indices(arr_np, n):\n",
    "    sort_indices = np.argsort(arr_np)\n",
    "    top_n_indices = sort_indices[:n]\n",
    "    bot_n_indices = sort_indices[-n:]\n",
    "    return list(top_n_indices), list(bot_n_indices)"
   ]
  },
  {
   "cell_type": "code",
   "execution_count": 35,
   "id": "6a71a2c1",
   "metadata": {},
   "outputs": [
    {
     "data": {
      "text/plain": [
       "(69, 25, 750)"
      ]
     },
     "execution_count": 35,
     "metadata": {},
     "output_type": "execute_result"
    }
   ],
   "source": [
    "bc4_2a_s1_data_c1.shape"
   ]
  },
  {
   "cell_type": "code",
   "execution_count": 25,
   "id": "29d9e593",
   "metadata": {},
   "outputs": [],
   "source": []
  },
  {
   "cell_type": "code",
   "execution_count": 27,
   "id": "b7a91e29",
   "metadata": {},
   "outputs": [
    {
     "data": {
      "text/plain": [
       "array([1, 6, 7])"
      ]
     },
     "execution_count": 27,
     "metadata": {},
     "output_type": "execute_result"
    }
   ],
   "source": [
    "top_n_indices"
   ]
  },
  {
   "cell_type": "code",
   "execution_count": 28,
   "id": "fa383a98",
   "metadata": {},
   "outputs": [
    {
     "data": {
      "text/plain": [
       "array([3, 2, 0])"
      ]
     },
     "execution_count": 28,
     "metadata": {},
     "output_type": "execute_result"
    }
   ],
   "source": [
    "bot_n_indices"
   ]
  },
  {
   "cell_type": "code",
   "execution_count": null,
   "id": "1ba584ec",
   "metadata": {},
   "outputs": [],
   "source": []
  },
  {
   "cell_type": "code",
   "execution_count": null,
   "id": "bf2a42c8",
   "metadata": {},
   "outputs": [],
   "source": [
    "R12_eigval_diag.shape"
   ]
  },
  {
   "cell_type": "code",
   "execution_count": null,
   "id": "f565c4ac",
   "metadata": {},
   "outputs": [],
   "source": [
    "eigvec_12.shape"
   ]
  },
  {
   "cell_type": "code",
   "execution_count": null,
   "id": "dc795dfb",
   "metadata": {},
   "outputs": [],
   "source": [
    "P12.shape"
   ]
  },
  {
   "cell_type": "code",
   "execution_count": null,
   "id": "7e9505e6",
   "metadata": {},
   "outputs": [],
   "source": [
    "S1.shape"
   ]
  },
  {
   "cell_type": "code",
   "execution_count": null,
   "id": "d136e4d7",
   "metadata": {},
   "outputs": [],
   "source": []
  }
 ],
 "metadata": {
  "kernelspec": {
   "display_name": "Python 3 (ipykernel)",
   "language": "python",
   "name": "python3"
  },
  "language_info": {
   "codemirror_mode": {
    "name": "ipython",
    "version": 3
   },
   "file_extension": ".py",
   "mimetype": "text/x-python",
   "name": "python",
   "nbconvert_exporter": "python",
   "pygments_lexer": "ipython3",
   "version": "3.9.7"
  }
 },
 "nbformat": 4,
 "nbformat_minor": 5
}
