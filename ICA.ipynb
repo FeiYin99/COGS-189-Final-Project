{
 "cells": [
  {
   "cell_type": "code",
   "execution_count": 108,
   "id": "c8935dca",
   "metadata": {},
   "outputs": [],
   "source": [
    "import os\n",
    "import mne\n",
    "import numpy as np\n",
    "import matplotlib.pyplot as plt\n",
    "\n",
    "from scipy.signal import butter, sosfiltfilt, sosfreqz  \n",
    "from scipy.io import loadmat\n",
    "from sklearn.discriminant_analysis import LinearDiscriminantAnalysis\n",
    "from sklearn.metrics import roc_curve, auc\n",
    "\n",
    "from sklearn.decomposition import FastICA"
   ]
  },
  {
   "cell_type": "code",
   "execution_count": 109,
   "id": "fb6f5ff3",
   "metadata": {},
   "outputs": [
    {
     "name": "stdout",
     "output_type": "stream",
     "text": [
      "['processed_motor_imagery_data', 'descriptions', 'onsets']\n",
      "(273, 22, 750)\n"
     ]
    }
   ],
   "source": [
    "data_dir = 'data'\n",
    "bc4_2a_raw_name = 'bci_competition_4_2a_raw'\n",
    "bc4_2a_processed_name = 'bci_competition_4_2a_processed'\n",
    "\n",
    "bc4_2a_raw_dir = os.path.join(data_dir, bc4_2a_raw_name)\n",
    "bc4_2a_processed_dir = os.path.join(data_dir, bc4_2a_processed_name)\n",
    "\n",
    "processed_dataset_path = os.path.join(bc4_2a_processed_dir, 'A01T.npz')\n",
    "processed_dataset_npz = np.load(processed_dataset_path)\n",
    "print(processed_dataset_npz.files)\n",
    "print(processed_dataset_npz['processed_motor_imagery_data'].shape)"
   ]
  },
  {
   "cell_type": "code",
   "execution_count": 110,
   "id": "b59b6547",
   "metadata": {
    "scrolled": true
   },
   "outputs": [
    {
     "name": "stdout",
     "output_type": "stream",
     "text": [
      "Extracting EDF parameters from /Users/oliviazhao/Documents/GitHub/COGS-189-Final-Project/data/bci_competition_4_2a_raw/A01T.gdf...\n",
      "GDF file detected\n",
      "Setting channel info structure...\n",
      "Could not determine channel type of the following channels, they will be set as EEG:\n",
      "EEG-Fz, EEG, EEG, EEG, EEG, EEG, EEG, EEG-C3, EEG, EEG-Cz, EEG, EEG-C4, EEG, EEG, EEG, EEG, EEG, EEG, EEG, EEG-Pz, EEG, EEG, EOG-left, EOG-central, EOG-right\n",
      "Creating raw.info structure...\n"
     ]
    },
    {
     "name": "stderr",
     "output_type": "stream",
     "text": [
      "/Users/oliviazhao/opt/anaconda3/lib/python3.8/site-packages/mne/io/edf/edf.py:1131: DeprecationWarning: The binary mode of fromstring is deprecated, as it behaves surprisingly on unicode inputs. Use frombuffer instead\n",
      "  etmode = np.fromstring(etmode, UINT8).tolist()[0]\n",
      "/Users/oliviazhao/opt/anaconda3/lib/python3.8/contextlib.py:120: RuntimeWarning: Channel names are not unique, found duplicates for: {'EEG'}. Applying running numbers for duplicates.\n",
      "  next(self.gen)\n"
     ]
    }
   ],
   "source": [
    "for i in range(1, 10):\n",
    "\n",
    "    subject_name = 'A0' + str(i) + 'T'\n",
    "    subject_path = os.path.join(bc4_2a_raw_dir, subject_name + '.gdf')\n",
    "    subject_mne = mne.io.read_raw_gdf(subject_path)\n",
    "    raw_data = subject_mne.get_data()[:22]\n",
    "    X = raw_data.T  # Observations (mixed signal)\n",
    "    ica = FastICA(n_components=22)\n",
    "    S_ = ica.fit_transform(X)  # Recovered signals\n",
    "    A_ = ica.mixing_  # Get estimated mixing matrix\n",
    "    \n",
    "    \n",
    "    \n",
    "    annotations = subject_mne.annotations\n",
    "    annotations_list = list(annotations)\n",
    "    \n",
    "    ## Convert annotation dictionary into lists\n",
    "    descriptions = []\n",
    "    onsets = []\n",
    "\n",
    "    for i in range(len(annotations_list) - 1):\n",
    "        \n",
    "        description_cur = annotations_list[i]['description']\n",
    "        description_next = annotations_list[i + 1]['description']\n",
    "        \n",
    "        ## Check if the current trial is valid and has a known cue\n",
    "        if description_cur == '768' and description_next in ['769', '770', '771', '772']:    \n",
    "            onsets.append(annotations_list[i]['onset'])\n",
    "            descriptions.append(int(description_next))\n",
    "    \n",
    "    descriptions = np.array(descriptions)\n",
    "    onsets = np.array(onsets)\n",
    "    \n",
    "    ## Process by onsets to create epochs\n",
    "    num_valid_trials = onsets.shape[0]\n",
    "\n",
    "    ## Initialize processed data array\n",
    "    processed_motor_imagery_data = np.zeros((num_valid_trials,\n",
    "                                             num_channels,\n",
    "                                             motor_imagery_trial_duration * sampling_f))\n",
    "    break\n",
    "\n"
   ]
  },
  {
   "cell_type": "code",
   "execution_count": 111,
   "id": "64aa1373",
   "metadata": {},
   "outputs": [
    {
     "data": {
      "text/plain": [
       "(22, 672528)"
      ]
     },
     "execution_count": 111,
     "metadata": {},
     "output_type": "execute_result"
    }
   ],
   "source": [
    "raw_data.shape"
   ]
  },
  {
   "cell_type": "code",
   "execution_count": 67,
   "id": "c9e67815",
   "metadata": {},
   "outputs": [
    {
     "data": {
      "text/plain": [
       "(672528, 22)"
      ]
     },
     "execution_count": 67,
     "metadata": {},
     "output_type": "execute_result"
    }
   ],
   "source": [
    "S_.shape"
   ]
  },
  {
   "cell_type": "code",
   "execution_count": 68,
   "id": "5ddd592b",
   "metadata": {},
   "outputs": [
    {
     "data": {
      "text/plain": [
       "(22, 22)"
      ]
     },
     "execution_count": 68,
     "metadata": {},
     "output_type": "execute_result"
    }
   ],
   "source": [
    "A_.shape"
   ]
  },
  {
   "cell_type": "code",
   "execution_count": null,
   "id": "82fe3e74",
   "metadata": {},
   "outputs": [],
   "source": [
    "S_ = S_.T"
   ]
  },
  {
   "cell_type": "code",
   "execution_count": null,
   "id": "8ace842a",
   "metadata": {},
   "outputs": [],
   "source": [
    "plt.plot(S_[1])"
   ]
  },
  {
   "cell_type": "code",
   "execution_count": null,
   "id": "77042b66",
   "metadata": {},
   "outputs": [],
   "source": [
    "plt.plot(S_[0])\n"
   ]
  },
  {
   "cell_type": "code",
   "execution_count": null,
   "id": "ee10821e",
   "metadata": {},
   "outputs": [],
   "source": [
    "plt.plot(S_[3])"
   ]
  },
  {
   "cell_type": "code",
   "execution_count": null,
   "id": "64796c45",
   "metadata": {},
   "outputs": [],
   "source": [
    "raw_data.shape\n",
    "\n"
   ]
  },
  {
   "cell_type": "code",
   "execution_count": null,
   "id": "1c55a406",
   "metadata": {},
   "outputs": [],
   "source": [
    "raw_data.shape\n",
    "ica = FastICA(n_components=3)\n",
    "S_ = ica.fit_transform(raw_data.T)  # Reconstruct signals\n",
    "A_ = ica.mixing_  # Get estimated mixing matrix"
   ]
  },
  {
   "cell_type": "code",
   "execution_count": null,
   "id": "1d96965a",
   "metadata": {},
   "outputs": [],
   "source": [
    "# dataset = processed_dataset_npz['processed_motor_imagery_data']\n",
    "# new_dataset = []\n",
    "# for i in range(25):\n",
    "#     new_dataset.append(list(dataset[i].flatten()))\n",
    "# new_dataset = np.array(new_dataset)\n",
    "    "
   ]
  },
  {
   "cell_type": "code",
   "execution_count": null,
   "id": "28a79d75",
   "metadata": {},
   "outputs": [],
   "source": [
    "new_dataset.shape"
   ]
  },
  {
   "cell_type": "code",
   "execution_count": null,
   "id": "b038b101",
   "metadata": {},
   "outputs": [],
   "source": [
    "labels = processed_dataset_npz[\"descriptions\"]\n"
   ]
  },
  {
   "cell_type": "code",
   "execution_count": null,
   "id": "8fa2fcef",
   "metadata": {},
   "outputs": [],
   "source": [
    "X.shape"
   ]
  },
  {
   "cell_type": "code",
   "execution_count": null,
   "id": "c78c9609",
   "metadata": {},
   "outputs": [],
   "source": [
    "\n",
    "ica = FastICA(n_components=3)\n",
    "S_ = ica.fit_transform(X)  # Reconstruct signals\n",
    "A_ = ica.mixing_  # Get estimated mixing matrix\n",
    "\n",
    "# We can `prove` that the ICA model applies by reverting the unmixing.\n",
    "assert np.allclose(X, np.dot(S_, A_.T) + ica.mean_)\n"
   ]
  },
  {
   "cell_type": "code",
   "execution_count": 40,
   "id": "996adac8",
   "metadata": {},
   "outputs": [
    {
     "data": {
      "text/plain": [
       "(25, 22)"
      ]
     },
     "execution_count": 40,
     "metadata": {},
     "output_type": "execute_result"
    }
   ],
   "source": [
    "S_.shape"
   ]
  },
  {
   "cell_type": "code",
   "execution_count": 4,
   "id": "05f118b3",
   "metadata": {},
   "outputs": [],
   "source": [
    "import numpy as np\n",
    "np.random.seed(0)\n",
    "from scipy import signal\n",
    "from scipy.io import wavfile\n",
    "from matplotlib import pyplot as plt\n",
    "import seaborn as sns\n",
    "sns.set(rc={'figure.figsize':(11.7,8.27)})"
   ]
  },
  {
   "cell_type": "code",
   "execution_count": 70,
   "id": "8dbffdcf",
   "metadata": {},
   "outputs": [],
   "source": [
    "np.random.seed(23)\n",
    "\n",
    "# Number of samples\n",
    "ns = np.linspace(0, 200, 1000)\n",
    "\n",
    "S = np.array([np.sin(ns * 1),\n",
    "              signal.sawtooth(ns * 1.9),\n",
    "              np.random.random(len(ns))]).T\n",
    "\n",
    "# Mixing matrix\n",
    "A = np.array([[0.5, 1, 0.2],\n",
    "              [1, 0.5, 0.4],\n",
    "              [0.5, 0.8, 1]])\n",
    "\n",
    "# Mixed signal matrix\n",
    "X = S.dot(A).T"
   ]
  },
  {
   "cell_type": "code",
   "execution_count": 82,
   "id": "c1027a4d",
   "metadata": {},
   "outputs": [
    {
     "data": {
      "text/plain": [
       "(1000,)"
      ]
     },
     "execution_count": 82,
     "metadata": {},
     "output_type": "execute_result"
    }
   ],
   "source": [
    "S.shape\n",
    "A.shape\n",
    "X.shape\n",
    "ns.shape"
   ]
  },
  {
   "cell_type": "code",
   "execution_count": 5,
   "id": "f899fabe",
   "metadata": {},
   "outputs": [],
   "source": [
    "def g(x):\n",
    "    return np.tanh(x)\n",
    "\n",
    "def g_der(x):\n",
    "    return 1 - g(x) * g(x)"
   ]
  },
  {
   "cell_type": "code",
   "execution_count": null,
   "id": "9e0e1de6",
   "metadata": {},
   "outputs": [],
   "source": [
    "S = ica(X, iterations=10)\n",
    "# actual = mix_sources([s1,s2,s3])\n",
    "# plot_mixture_sources_predictions(X, [s1, s2, s3], S)"
   ]
  },
  {
   "cell_type": "code",
   "execution_count": null,
   "id": "869e7e1f",
   "metadata": {},
   "outputs": [],
   "source": []
  },
  {
   "cell_type": "code",
   "execution_count": 75,
   "id": "aa1367ae",
   "metadata": {},
   "outputs": [
    {
     "name": "stdout",
     "output_type": "stream",
     "text": [
      "Extracting EDF parameters from /Users/oliviazhao/Documents/GitHub/COGS-189-Final-Project/data/bci_competition_4_2a_raw/A01T.gdf...\n",
      "GDF file detected\n",
      "Setting channel info structure...\n",
      "Could not determine channel type of the following channels, they will be set as EEG:\n",
      "EEG-Fz, EEG, EEG, EEG, EEG, EEG, EEG, EEG-C3, EEG, EEG-Cz, EEG, EEG-C4, EEG, EEG, EEG, EEG, EEG, EEG, EEG, EEG-Pz, EEG, EEG, EOG-left, EOG-central, EOG-right\n",
      "Creating raw.info structure...\n"
     ]
    },
    {
     "name": "stderr",
     "output_type": "stream",
     "text": [
      "/Users/oliviazhao/opt/anaconda3/lib/python3.8/site-packages/mne/io/edf/edf.py:1131: DeprecationWarning: The binary mode of fromstring is deprecated, as it behaves surprisingly on unicode inputs. Use frombuffer instead\n",
      "  etmode = np.fromstring(etmode, UINT8).tolist()[0]\n",
      "/Users/oliviazhao/opt/anaconda3/lib/python3.8/contextlib.py:120: RuntimeWarning: Channel names are not unique, found duplicates for: {'EEG'}. Applying running numbers for duplicates.\n",
      "  next(self.gen)\n"
     ]
    }
   ],
   "source": [
    "subject_name = 'A01T.gdf'\n",
    "subject_path = os.path.join(bc4_2a_raw_dir, subject_name)\n",
    "subject_mne = mne.io.read_raw_gdf(subject_path)\n",
    "raw_data = subject_mne.get_data()[:22]\n",
    "X = raw_data  # Observations (mixed signal)"
   ]
  },
  {
   "cell_type": "code",
   "execution_count": 98,
   "id": "3a65cd59",
   "metadata": {},
   "outputs": [],
   "source": [
    "# https://github.com/akcarsten/Independent_Component_Analysis"
   ]
  },
  {
   "cell_type": "code",
   "execution_count": 60,
   "id": "f59d568a",
   "metadata": {},
   "outputs": [],
   "source": [
    "def whiten(x):\n",
    "    \n",
    "    # center\n",
    "    mean = np.mean(x, axis=1, keepdims=True)\n",
    "    centered =  x - mean\n",
    "    \n",
    "    # covariance matrix\n",
    "    coVarM = np.cov(centered)\n",
    "\n",
    "    # Single value decomposition\n",
    "    U, S, V = np.linalg.svd(coVarM)\n",
    "\n",
    "    # Calculate diagonal matrix of eigenvalues\n",
    "    d = np.diag(1.0 / np.sqrt(S))\n",
    "\n",
    "    # Calculate whitening matrix\n",
    "    whiteM = np.dot(U, np.dot(d, U.T))\n",
    "\n",
    "    # Project onto whitening matrix\n",
    "    Xw = np.dot(whiteM, X)\n",
    "\n",
    "    return Xw, whiteM"
   ]
  },
  {
   "cell_type": "code",
   "execution_count": 61,
   "id": "320ed8aa",
   "metadata": {},
   "outputs": [],
   "source": [
    "def fastIca(signals,  alpha = 1, thresh=1e-8, iterations=1000):\n",
    "    m, n = signals.shape\n",
    "\n",
    "    # Initialize random weights\n",
    "    W = np.random.rand(m, m)\n",
    "\n",
    "    for c in range(m):\n",
    "            w = W[c, :].copy().reshape(m, 1)\n",
    "            w = w / np.sqrt((w ** 2).sum())\n",
    "\n",
    "            i = 0\n",
    "            lim = 100\n",
    "            while ((lim > thresh) & (i < iterations)):\n",
    "\n",
    "                # Dot product of weight and signal\n",
    "                ws = np.dot(w.T, signals)\n",
    "\n",
    "                # Pass w*s into contrast function g\n",
    "                wg = np.tanh(ws * alpha).T\n",
    "\n",
    "                # Pass w*s into g prime\n",
    "                wg_ = (1 - np.square(np.tanh(ws))) * alpha\n",
    "\n",
    "                # Update weights\n",
    "                wNew = (signals * wg.T).mean(axis=1) - wg_.mean() * w.squeeze()\n",
    "\n",
    "                # Decorrelate weights              \n",
    "                wNew = wNew - np.dot(np.dot(wNew, W[:c].T), W[:c])\n",
    "                wNew = wNew / np.sqrt((wNew ** 2).sum())\n",
    "\n",
    "                # Calculate limit condition\n",
    "                lim = np.abs(np.abs((wNew * w).sum()) - 1)\n",
    "\n",
    "                # Update weights\n",
    "                w = wNew\n",
    "\n",
    "                # Update counter\n",
    "                i += 1\n",
    "\n",
    "            W[c, :] = w.T\n",
    "    return W"
   ]
  },
  {
   "cell_type": "code",
   "execution_count": 99,
   "id": "bb0b20d8",
   "metadata": {},
   "outputs": [],
   "source": [
    "# Whiten mixed signals\n",
    "Xw, whiteM = whiten(X)"
   ]
  },
  {
   "cell_type": "code",
   "execution_count": 100,
   "id": "310e43d3",
   "metadata": {},
   "outputs": [],
   "source": [
    "W = fastIca(Xw)"
   ]
  },
  {
   "cell_type": "code",
   "execution_count": 107,
   "id": "46b3c6d2",
   "metadata": {},
   "outputs": [
    {
     "data": {
      "text/plain": [
       "array([[-1.58610954e-01, -2.18285175e-01, -1.94106923e-01,\n",
       "        -2.01600746e-01, -2.04119977e-01, -1.99300498e-01,\n",
       "        -2.94946367e-01, -2.14938682e-01, -1.96443511e-01,\n",
       "        -1.88161077e-01, -1.86349348e-01, -1.99695488e-01,\n",
       "        -2.64257821e-01, -2.13471291e-01, -1.99442104e-01,\n",
       "        -2.07816336e-01, -1.98509895e-01, -2.03770085e-01,\n",
       "        -2.22256566e-01, -1.87903829e-01, -2.31558638e-01,\n",
       "        -2.60914736e-01],\n",
       "       [ 3.71162373e-02,  4.57548013e-03,  1.95576011e-01,\n",
       "        -2.11404383e-02,  2.74740489e-03,  1.92155709e-02,\n",
       "         2.75316729e-02, -2.24703374e-01, -2.89054186e-01,\n",
       "         3.33434314e-01, -1.14537202e-01, -3.90159248e-02,\n",
       "        -2.19936410e-01,  1.21314151e-01, -6.37345885e-02,\n",
       "        -7.09711496e-02, -1.43102403e-01,  6.90463305e-01,\n",
       "        -4.30640104e-02, -4.98619375e-02, -2.91650164e-01,\n",
       "         2.00249420e-01],\n",
       "       [-1.06512928e-01, -2.87867548e-01,  6.97469982e-03,\n",
       "        -2.46357401e-02,  2.83260799e-02,  2.63808794e-01,\n",
       "        -5.60304180e-01, -1.08877558e-01, -4.84782964e-02,\n",
       "         7.94629439e-02, -1.36983731e-03,  5.34085058e-02,\n",
       "         6.88315888e-01,  3.94337950e-02, -1.20579963e-02,\n",
       "        -2.17253168e-02, -3.71932261e-02,  7.55607695e-02,\n",
       "         3.87266612e-02,  1.46076837e-02, -9.29107526e-02,\n",
       "         6.34888022e-02],\n",
       "       [ 7.80632014e-03, -6.82811457e-02, -3.59464407e-01,\n",
       "         2.38939083e-01, -8.47212524e-02,  2.07233022e-02,\n",
       "        -1.80531032e-02,  3.20515686e-01,  4.25936041e-01,\n",
       "        -1.92136870e-01, -5.81459287e-02, -2.78618638e-01,\n",
       "         3.59412256e-02, -2.96769085e-01,  1.92942381e-01,\n",
       "         1.89210880e-02, -2.22491023e-01,  4.55822245e-01,\n",
       "         2.48944430e-02, -4.46767241e-02, -1.07984594e-01,\n",
       "        -2.14110331e-02],\n",
       "       [-9.17649639e-01, -1.40812543e-01,  1.31268639e-02,\n",
       "         5.00747373e-02,  9.44598721e-02, -1.81227633e-01,\n",
       "         2.00652439e-01, -2.73271089e-02,  4.55714916e-02,\n",
       "         3.28757314e-02,  1.35230957e-03, -3.11078819e-02,\n",
       "         1.38520567e-02,  1.96975790e-02, -1.25307269e-02,\n",
       "         6.53879261e-02,  3.00884622e-02,  3.79906918e-02,\n",
       "         7.31933157e-02,  4.68551822e-02,  6.87670045e-02,\n",
       "         1.69903274e-01],\n",
       "       [ 2.06081691e-02, -1.56420940e-01, -9.26573297e-04,\n",
       "         3.83922277e-02, -1.58872307e-01,  1.02636667e-01,\n",
       "         1.46979015e-01,  2.48809243e-03, -1.21458730e-02,\n",
       "         3.76223688e-01, -2.73430902e-01,  1.58769098e-01,\n",
       "        -6.42769234e-03, -4.55557007e-01, -3.19106335e-02,\n",
       "        -4.45294255e-01,  8.36379478e-02, -4.30790829e-02,\n",
       "         4.38208855e-01,  1.69223514e-01,  1.51877805e-01,\n",
       "        -1.22983901e-01],\n",
       "       [ 1.03547820e-01, -5.34609009e-01, -5.18357402e-02,\n",
       "        -1.85881268e-02, -1.32035520e-01,  2.68853876e-01,\n",
       "         5.99777265e-01, -1.51301421e-02,  5.10000402e-02,\n",
       "         2.18164226e-02, -1.52468553e-02, -4.80110272e-03,\n",
       "         1.82282937e-01,  1.81630617e-01, -2.31289625e-01,\n",
       "         8.25760590e-02, -1.47834828e-01, -4.66501573e-02,\n",
       "        -2.59482388e-01,  6.80833029e-03, -9.38203611e-02,\n",
       "        -1.43830106e-01],\n",
       "       [ 9.31725039e-02,  2.72602329e-01, -1.41221077e-01,\n",
       "         1.99226988e-02,  1.61325549e-02, -6.56478857e-01,\n",
       "         2.14787067e-01,  6.14876103e-02, -1.05906083e-01,\n",
       "         1.46845290e-01, -9.70313234e-02,  1.99717733e-02,\n",
       "         5.18695412e-01,  3.37215513e-03, -1.59566089e-01,\n",
       "        -2.26208819e-02, -2.68219745e-02,  3.57665791e-02,\n",
       "        -1.18963310e-02,  8.23542337e-03, -2.12831961e-01,\n",
       "        -1.74353675e-01],\n",
       "       [-1.70906879e-02,  8.43964494e-02,  5.28445601e-03,\n",
       "        -8.16995174e-01,  2.07172387e-01,  4.88546535e-02,\n",
       "        -1.75258025e-02,  1.68901381e-01,  3.29667413e-01,\n",
       "         2.18606133e-01, -9.33407281e-02, -1.17520797e-01,\n",
       "        -1.84310495e-03, -8.82693217e-03, -1.47390433e-01,\n",
       "         1.15703673e-01, -1.12451760e-01,  7.17766851e-02,\n",
       "         6.99881352e-02, -4.13119137e-02,  9.56645332e-02,\n",
       "        -5.65210682e-02],\n",
       "       [-7.22526639e-03,  6.39342796e-02,  9.83004417e-02,\n",
       "         1.34488037e-01, -2.97648731e-02, -6.80007765e-02,\n",
       "        -6.95481764e-02, -9.88588585e-02, -5.59507403e-02,\n",
       "        -6.84409312e-04,  2.28196574e-01,  6.95377514e-02,\n",
       "        -1.85756845e-02,  7.76409764e-02, -1.53425733e-01,\n",
       "         7.54088916e-02, -7.76738187e-01,  2.21298951e-02,\n",
       "         2.14318015e-01,  1.32324108e-01,  3.82984496e-01,\n",
       "        -1.96009964e-01],\n",
       "       [ 9.71702296e-03, -1.28983925e-01,  5.37339936e-01,\n",
       "        -9.53153325e-02, -9.61051198e-02, -5.98047255e-02,\n",
       "         6.81430111e-02,  2.74627020e-01, -2.47304445e-01,\n",
       "        -1.77221852e-01, -7.82036930e-02,  1.21631836e-01,\n",
       "         7.44975014e-02, -4.52310766e-01,  1.62454094e-01,\n",
       "         4.15312797e-01, -1.11405723e-01, -2.76617653e-02,\n",
       "         7.37970633e-02, -1.66239337e-01, -1.54046623e-01,\n",
       "         9.83822893e-03],\n",
       "       [-5.11335765e-03, -1.84340442e-01, -6.08576776e-02,\n",
       "        -1.95764031e-01, -2.23585527e-01, -2.00591967e-01,\n",
       "        -7.91127379e-02, -3.29953456e-02, -3.01197143e-02,\n",
       "        -3.08591316e-01, -7.78155718e-03,  4.33305500e-01,\n",
       "        -2.80840052e-02,  8.55542142e-02,  1.40388580e-02,\n",
       "         5.59522649e-02,  2.95337750e-01,  4.56184690e-01,\n",
       "        -7.33082145e-02,  1.23927395e-01,  3.53197176e-01,\n",
       "        -3.00324683e-01],\n",
       "       [ 3.78070069e-02, -2.51374596e-01, -8.74401916e-02,\n",
       "        -1.04136299e-01, -7.62595440e-03, -1.20878337e-01,\n",
       "        -1.12882246e-02,  1.98210202e-01, -1.66961493e-01,\n",
       "        -6.27345900e-02, -2.06064658e-01, -9.96163018e-02,\n",
       "        -8.87089950e-02,  5.24149206e-01,  4.49791015e-01,\n",
       "        -2.25546340e-02, -8.26696033e-02, -9.87030211e-02,\n",
       "         4.73162912e-01,  5.01278270e-02, -1.87603774e-01,\n",
       "        -1.22552113e-01],\n",
       "       [ 8.26505142e-03,  3.87046291e-02, -1.26066318e-01,\n",
       "         3.41624648e-02,  2.66249529e-02,  1.47632446e-01,\n",
       "         7.11828012e-02, -1.51774398e-01, -1.41351783e-01,\n",
       "        -1.71607412e-01,  2.62481621e-01, -2.49067263e-01,\n",
       "         1.14830574e-02, -3.68086517e-02, -4.05052567e-01,\n",
       "         2.23251512e-01,  2.76232813e-01,  1.24002808e-01,\n",
       "         5.63336042e-01, -2.92303605e-01, -7.17203496e-02,\n",
       "        -1.88141193e-01],\n",
       "       [ 3.13588863e-02, -1.49362017e-02,  1.58051217e-02,\n",
       "         6.94253955e-02,  6.14714945e-02, -7.69388222e-02,\n",
       "        -4.70209504e-03, -2.93124590e-01,  4.90511686e-01,\n",
       "        -1.10456691e-01, -1.52586663e-01,  5.70108018e-01,\n",
       "        -8.09781760e-02,  6.52939449e-02, -7.56306258e-02,\n",
       "         2.91494972e-02, -1.31570776e-01, -7.75454495e-02,\n",
       "         2.09728294e-01, -3.14180191e-01, -3.15066849e-01,\n",
       "         1.19566968e-01],\n",
       "       [ 4.11617512e-02, -2.16523855e-02, -5.93382336e-01,\n",
       "        -1.40151742e-01,  1.61164073e-01,  6.08744490e-02,\n",
       "         1.16486047e-01, -2.65300326e-01, -3.03651407e-01,\n",
       "         1.71740643e-01,  8.79950060e-02,  2.16282665e-01,\n",
       "        -6.57558360e-03, -2.54838932e-01,  3.51161003e-01,\n",
       "         3.32668379e-01, -1.01782840e-01, -4.11315413e-02,\n",
       "        -2.05919433e-02, -6.26860395e-02,  6.72401037e-02,\n",
       "         1.27843072e-01],\n",
       "       [-2.36153829e-01,  3.50979889e-01,  9.79196796e-02,\n",
       "         5.75803076e-02,  2.13671696e-01,  3.63454665e-01,\n",
       "         8.30693033e-02, -1.02766177e-01, -4.20545706e-03,\n",
       "        -1.18291307e-03, -8.85672948e-02,  9.21839534e-02,\n",
       "         4.43519942e-02, -3.16988388e-03,  2.51285976e-01,\n",
       "        -3.38251451e-02, -1.53172213e-02,  5.88350914e-02,\n",
       "        -1.24886388e-01,  1.47879945e-02, -2.12143128e-01,\n",
       "        -6.82481648e-01],\n",
       "       [-1.00814295e-01, -3.82719292e-02, -6.60078816e-02,\n",
       "        -1.26622612e-01, -1.31857942e-01,  3.64225112e-03,\n",
       "        -1.20541862e-02,  3.77286102e-01, -6.10671396e-02,\n",
       "         1.61636736e-01,  6.92756986e-01,  2.78358847e-01,\n",
       "        -6.10255393e-02,  3.17215181e-03,  5.10225408e-02,\n",
       "        -3.30101840e-01, -3.48320304e-02,  6.25658937e-03,\n",
       "        -2.51613782e-02, -1.98275613e-01, -2.49738437e-01,\n",
       "        -4.43540696e-02],\n",
       "       [-1.07859390e-01,  3.74889167e-01, -4.17339289e-03,\n",
       "        -2.19628802e-01, -7.59742877e-01,  1.67004380e-01,\n",
       "         1.38760708e-01, -2.21103772e-01,  5.39576785e-02,\n",
       "        -9.24753591e-02,  3.87644332e-03, -8.56860872e-02,\n",
       "         1.73082237e-01,  7.40669113e-02,  1.77163075e-01,\n",
       "        -1.09517695e-03, -5.98596056e-02, -3.22885491e-02,\n",
       "         7.06067772e-02,  5.43562584e-03, -3.46829650e-02,\n",
       "         1.72725361e-01],\n",
       "       [-5.61139309e-03, -6.96406563e-03,  6.42008560e-02,\n",
       "         8.66186130e-02, -1.01841636e-02, -2.14742159e-02,\n",
       "         5.25781358e-02,  3.14199517e-02, -3.93581437e-02,\n",
       "         1.37188791e-01, -1.53150292e-01, -8.52153132e-02,\n",
       "         1.16958825e-01,  1.17176452e-01,  1.76180850e-01,\n",
       "        -1.64138718e-01, -4.33369986e-03,  3.48266309e-02,\n",
       "        -9.65721335e-02, -7.96178813e-01,  4.48302087e-01,\n",
       "        -4.54779420e-02],\n",
       "       [-2.65143005e-02,  1.87034850e-01, -1.11141986e-01,\n",
       "        -1.49236789e-01,  2.67526323e-01,  2.11550843e-01,\n",
       "         1.84901746e-01,  1.71861011e-01, -3.02463303e-01,\n",
       "        -5.41088134e-01, -1.80374419e-01,  1.53228333e-01,\n",
       "         1.29377567e-01, -9.63642148e-03, -1.47674124e-01,\n",
       "        -3.95027308e-01, -1.64789977e-01,  7.03677108e-02,\n",
       "         4.32951647e-02, -9.74553562e-03,  3.20830187e-02,\n",
       "         2.82091855e-01],\n",
       "       [ 1.31185648e-01, -1.81533200e-01,  2.52089330e-01,\n",
       "        -1.72270126e-01,  2.30244738e-01, -2.02943738e-01,\n",
       "         1.79349071e-01, -4.67127443e-01,  1.54314695e-01,\n",
       "        -2.23022966e-01,  3.33540887e-01, -2.50006703e-01,\n",
       "         1.29863629e-01, -1.62884930e-01,  3.48438838e-01,\n",
       "        -3.02315462e-01,  1.16833762e-02,  5.87972574e-02,\n",
       "         4.54332834e-02,  5.18695105e-02,  1.07922545e-02,\n",
       "         8.17742223e-03]])"
      ]
     },
     "execution_count": 107,
     "metadata": {},
     "output_type": "execute_result"
    }
   ],
   "source": [
    "# ica\n",
    "W"
   ]
  },
  {
   "cell_type": "code",
   "execution_count": 106,
   "id": "9dec0f22",
   "metadata": {},
   "outputs": [
    {
     "data": {
      "text/plain": [
       "array([[-5.94964589e-04, -7.76375797e-04, -6.62592581e-04,\n",
       "         3.68559425e-04, -1.00792766e-03,  4.56328921e-02,\n",
       "         9.41191565e-04,  1.44524036e-03, -2.24895393e-03,\n",
       "        -4.83238813e-04, -5.27388695e-04, -8.67171562e-03,\n",
       "         1.98453183e-04, -6.61293881e-04, -4.44253284e-04,\n",
       "         3.19971186e-03,  9.11428100e-04, -2.45229454e-03,\n",
       "        -2.61552973e-03, -1.97191611e-03,  1.71020347e-03,\n",
       "        -1.73397930e-04],\n",
       "       [-7.23212815e-04, -1.90818696e-04, -1.03716598e-03,\n",
       "        -2.14922867e-04, -1.34819277e-03,  4.56634222e-02,\n",
       "         6.86095413e-04,  1.23282939e-03, -1.38640093e-03,\n",
       "         1.63384626e-03, -5.39582671e-04, -5.24679011e-03,\n",
       "         2.09604615e-04,  8.64035283e-04, -5.39073048e-04,\n",
       "         3.12206467e-03,  1.30831297e-03, -3.00385779e-03,\n",
       "        -1.19636539e-03, -1.95702680e-03,  8.55938955e-04,\n",
       "        -2.47340404e-04],\n",
       "       [-7.13042937e-04, -4.25765415e-04, -1.00724905e-03,\n",
       "        -8.22471472e-06, -2.10560623e-03,  4.56596912e-02,\n",
       "         9.59561970e-04,  1.50960555e-03, -2.06580622e-03,\n",
       "         3.55919138e-04, -6.43042350e-04, -5.05104361e-03,\n",
       "         2.35416929e-04, -5.88373710e-04, -4.10773056e-04,\n",
       "         3.37759999e-03,  1.99815515e-03, -2.99473799e-03,\n",
       "        -2.18475485e-03, -2.05156703e-03,  1.23944111e-03,\n",
       "        -1.98722234e-04],\n",
       "       [-7.89300057e-04, -1.91691556e-03, -9.57239896e-04,\n",
       "         4.25965962e-04, -9.95223873e-04,  4.56593880e-02,\n",
       "         9.61419893e-04,  1.62521644e-03, -2.61443085e-03,\n",
       "        -6.67297184e-04, -5.65968599e-04, -5.07041126e-03,\n",
       "         1.14232165e-04,  7.33767926e-04, -3.38712667e-04,\n",
       "         3.63346977e-03,  2.16866108e-03, -2.77994783e-03,\n",
       "        -2.77548656e-03, -2.03876651e-03,  1.62643459e-03,\n",
       "        -1.19003842e-04],\n",
       "       [-4.62985422e-04, -3.93542193e-04, -7.04178245e-04,\n",
       "         4.25353316e-04, -3.39612751e-04,  4.56560481e-02,\n",
       "         7.76743488e-04,  8.11994780e-04, -2.96487958e-03,\n",
       "        -1.66553570e-03, -1.21932537e-04, -4.95772567e-03,\n",
       "         1.84702531e-04, -6.69568221e-04, -8.26972768e-05,\n",
       "         3.61845219e-03,  1.71262891e-03, -2.55816513e-03,\n",
       "        -2.79460530e-03, -2.20617047e-03,  1.72090766e-03,\n",
       "        -2.65539949e-04],\n",
       "       [-3.41259678e-04, -3.03052786e-04, -6.09978547e-04,\n",
       "         6.17318101e-04, -9.02705773e-05,  4.56540662e-02,\n",
       "         8.32865549e-04,  8.30676184e-05, -3.14510637e-03,\n",
       "        -3.13846965e-03, -9.98581162e-05, -5.20707157e-03,\n",
       "         5.85437540e-05,  7.28688390e-04,  1.11222877e-04,\n",
       "         3.53982875e-03,  1.03843315e-03, -2.06197599e-03,\n",
       "        -1.61393217e-03, -2.02074749e-03,  1.69653954e-03,\n",
       "        -2.38872278e-04],\n",
       "       [-7.74575965e-04,  1.31804381e-04, -9.58679515e-04,\n",
       "        -6.00287169e-04, -8.62834924e-04,  4.56689348e-02,\n",
       "         3.95805036e-04,  2.16286655e-04, -9.16320303e-04,\n",
       "         2.26031369e-03,  1.87483624e-04, -3.09971306e-03,\n",
       "         1.57332498e-04, -4.11630422e-04, -2.83184593e-04,\n",
       "         1.88203807e-03,  1.16754696e-03, -3.27154964e-05,\n",
       "        -5.61496145e-04, -1.62810134e-03, -7.33198812e-04,\n",
       "        -1.52131511e-04],\n",
       "       [-7.61032868e-04,  1.40418524e-04, -1.16418782e-03,\n",
       "        -1.22658186e-03, -1.25651765e-03,  4.56745288e-02,\n",
       "         1.56046105e-04,  5.58844268e-04, -1.66987334e-03,\n",
       "         1.04541642e-03,  2.18658155e-04, -3.44273328e-03,\n",
       "         1.46702829e-04,  1.01983142e-03, -9.80582326e-05,\n",
       "         2.30099303e-03,  2.20254623e-03, -2.02718400e-03,\n",
       "        -1.40515206e-03, -1.97330239e-03, -5.95068411e-04,\n",
       "        -1.59702870e-04],\n",
       "       [-7.07390411e-04, -6.51428735e-05, -9.75540285e-04,\n",
       "        -9.01514596e-04, -1.02010538e-03,  4.56707386e-02,\n",
       "         6.84549345e-05,  9.85565435e-04, -2.26253550e-03,\n",
       "         1.42277409e-04, -7.83244335e-04, -3.50202202e-03,\n",
       "         2.46935185e-04, -4.58712314e-04,  8.17265207e-05,\n",
       "         2.71446886e-03,  3.18189605e-03, -2.62549602e-03,\n",
       "        -1.92913570e-03, -2.18643139e-03,  8.86078594e-05,\n",
       "        -1.74241767e-04],\n",
       "       [-4.36617785e-04, -1.41941150e-04, -1.12188927e-03,\n",
       "         3.83753405e-04, -6.52900282e-04,  4.56692640e-02,\n",
       "         1.19998804e-03,  1.24807403e-03, -2.55377553e-03,\n",
       "        -7.33261357e-04, -3.84964829e-04, -3.41776558e-03,\n",
       "         1.51068358e-04,  7.63884645e-04,  3.47648576e-04,\n",
       "         3.11161036e-03,  3.95840979e-03, -2.69692110e-03,\n",
       "        -2.44286819e-03, -2.15787714e-03,  7.40153465e-04,\n",
       "        -2.76745651e-04],\n",
       "       [-4.89633797e-04, -2.55150943e-04, -7.03114020e-04,\n",
       "         3.67999653e-04, -2.06253919e-04,  4.56637523e-02,\n",
       "         6.16736236e-04, -5.31843992e-05, -2.71683179e-03,\n",
       "        -1.63155147e-03,  6.83412761e-05, -3.60909433e-03,\n",
       "         1.82013639e-04, -6.48545567e-04,  8.15110746e-04,\n",
       "         3.00978137e-03,  3.11519193e-03, -2.56552950e-03,\n",
       "        -2.15258566e-03, -2.18939624e-03,  1.28421745e-03,\n",
       "        -2.38906772e-04],\n",
       "       [-1.67802093e-04, -1.44761472e-04, -7.15960082e-04,\n",
       "         6.31330339e-04, -5.68030382e-05,  4.56624654e-02,\n",
       "         1.02399003e-03, -1.51362317e-03, -2.13086800e-03,\n",
       "        -2.72323993e-03, -1.50749330e-04, -3.51058623e-03,\n",
       "         5.13432631e-05,  7.19057558e-04,  1.33501962e-03,\n",
       "         2.81916712e-03,  2.28476427e-03, -2.10338736e-03,\n",
       "        -1.78381145e-03, -1.76615121e-03,  1.24998279e-03,\n",
       "        -3.59079292e-04],\n",
       "       [ 5.23589532e-05, -7.82454675e-05, -4.06640085e-04,\n",
       "         1.51831854e-04,  1.73398813e-04,  4.56531493e-02,\n",
       "         3.19323865e-04, -1.32072252e-03, -6.43135489e-05,\n",
       "        -4.74405095e-03, -1.67095851e-04, -3.35827557e-03,\n",
       "         7.98896045e-05, -5.79764427e-04,  1.33716443e-03,\n",
       "         2.37366359e-03,  1.15716308e-03, -1.33607337e-03,\n",
       "        -8.50299536e-04, -1.16903971e-03,  1.13247926e-03,\n",
       "        -3.88182021e-04],\n",
       "       [-1.91514548e-03,  8.56365517e-05, -1.10533136e-03,\n",
       "        -5.19576891e-04, -8.20000555e-04,  4.56754698e-02,\n",
       "         6.15449849e-04,  3.64472682e-05, -1.94965819e-03,\n",
       "         3.71298615e-04,  1.69077557e-04, -2.56043250e-03,\n",
       "         1.08343921e-04,  9.02396260e-04,  4.71756728e-04,\n",
       "         1.28566182e-03,  2.44445649e-03, -1.77970665e-03,\n",
       "        -1.34264749e-03, -1.86428976e-03, -2.19469332e-03,\n",
       "         2.80841476e-05],\n",
       "       [-4.90349698e-04,  4.84663450e-05, -9.24748718e-04,\n",
       "        -4.61105461e-04, -6.58924859e-04,  4.56733428e-02,\n",
       "         2.32940410e-04,  4.13743264e-04, -2.31292564e-03,\n",
       "        -1.70354882e-04, -8.15537026e-05, -2.65095649e-03,\n",
       "         2.18447672e-04, -4.76033459e-04,  8.83867364e-04,\n",
       "         1.75126542e-03,  3.37463087e-03, -2.43512455e-03,\n",
       "        -1.70468717e-03, -2.15179198e-03, -1.45573149e-03,\n",
       "        -2.55767165e-04],\n",
       "       [-4.68584439e-04,  4.53926904e-05, -6.55767698e-06,\n",
       "         2.38475447e-04, -5.15442775e-04,  4.56739367e-02,\n",
       "         5.25924896e-04,  4.49401276e-04, -2.51371085e-03,\n",
       "        -7.70401094e-04, -2.49789197e-04, -2.54883936e-03,\n",
       "         4.02709352e-05,  8.44206568e-04,  1.70704028e-03,\n",
       "         1.76293511e-03,  3.96513852e-03, -2.48987319e-03,\n",
       "        -1.83847739e-03, -2.30773981e-03, -5.71757475e-04,\n",
       "        -2.34992697e-04],\n",
       "       [-3.75394005e-04, -7.77022252e-05, -8.26803177e-04,\n",
       "         4.04486941e-04, -2.26539374e-04,  4.56689292e-02,\n",
       "         7.05020385e-04, -4.72477710e-04, -2.44278719e-03,\n",
       "        -1.44370844e-03, -1.23322120e-04, -2.66120213e-03,\n",
       "        -8.01884954e-04,  8.74371469e-05,  2.36634661e-03,\n",
       "         1.86348540e-03,  3.30501230e-03, -2.42448316e-03,\n",
       "        -1.71173395e-03, -1.86621826e-03,  3.12055984e-04,\n",
       "        -1.84936320e-04],\n",
       "       [-2.42114451e-04, -7.98834094e-05, -7.04807203e-04,\n",
       "         1.46176349e-04,  2.00499422e-05,  4.56646855e-02,\n",
       "         2.11882605e-03, -1.60586219e-03, -1.93367582e-03,\n",
       "        -2.20509569e-03, -1.37396816e-04, -2.59531865e-03,\n",
       "        -1.69296498e-04,  3.21657911e-05,  2.92448409e-03,\n",
       "         1.74352474e-03,  2.48651538e-03, -2.16936350e-03,\n",
       "        -1.42501070e-03, -1.29809732e-03,  6.71957662e-04,\n",
       "        -2.15945868e-04],\n",
       "       [-6.18280709e-04,  1.46371850e-04, -1.09689112e-03,\n",
       "        -2.73171666e-05, -5.27468523e-04,  4.56752327e-02,\n",
       "         4.89601582e-04,  4.06511426e-05, -2.31355130e-03,\n",
       "        -4.14415147e-04, -5.21404564e-06, -1.88121011e-03,\n",
       "         1.68445333e-04,  1.63711590e-04,  1.68200431e-03,\n",
       "        -2.54209611e-04,  2.60601241e-03, -2.26504583e-03,\n",
       "        -1.34144173e-03, -2.23439945e-03, -2.15379060e-03,\n",
       "         8.08505139e-04],\n",
       "       [-3.63302495e-04,  1.12390590e-04, -9.73857503e-04,\n",
       "         2.61965074e-04, -3.35245983e-04,  4.56741296e-02,\n",
       "         5.78533868e-04, -2.65873549e-06, -2.44822436e-03,\n",
       "        -8.61782782e-04, -1.27222323e-04, -1.92646895e-03,\n",
       "         1.92271757e-04,  1.20963268e-04,  2.67900520e-03,\n",
       "        -1.70193669e-04,  2.90459743e-03, -2.40847126e-03,\n",
       "        -1.44715775e-03, -2.32866708e-03, -1.21480468e-03,\n",
       "        -2.82756886e-04],\n",
       "       [-3.29439422e-04,  1.07204316e-04, -9.13426201e-04,\n",
       "         3.32849329e-04, -1.97551091e-04,  4.56728456e-02,\n",
       "         6.08693042e-04, -5.45316909e-04, -2.40166872e-03,\n",
       "        -1.31031218e-03, -1.28013247e-04, -1.90698849e-03,\n",
       "         1.72286358e-04,  1.02304474e-04,  3.36040295e-03,\n",
       "        -1.46756317e-04,  2.56743818e-03, -2.35161948e-03,\n",
       "        -1.35643232e-03, -1.13224549e-03, -3.00712541e-04,\n",
       "        -2.82699224e-04],\n",
       "       [-2.97383950e-04,  1.66169811e-04, -1.05996051e-03,\n",
       "         4.62422433e-04, -2.48025220e-04,  4.56760878e-02,\n",
       "         1.14139256e-03, -1.23409196e-04, -2.44694708e-03,\n",
       "        -9.49079448e-04, -1.32204762e-04, -1.24859496e-03,\n",
       "         1.23198201e-04,  8.36989675e-05,  2.23401958e-03,\n",
       "        -2.83221805e-03,  1.94624022e-03, -2.42159355e-03,\n",
       "        -1.14853129e-03, -1.60506781e-03, -9.43785162e-04,\n",
       "        -3.60348205e-04]])"
      ]
     },
     "execution_count": 106,
     "metadata": {},
     "output_type": "execute_result"
    }
   ],
   "source": [
    "# sklearn fastica\n",
    "A_"
   ]
  },
  {
   "cell_type": "code",
   "execution_count": null,
   "id": "fe2c715c",
   "metadata": {},
   "outputs": [],
   "source": []
  }
 ],
 "metadata": {
  "kernelspec": {
   "display_name": "Python 3 (ipykernel)",
   "language": "python",
   "name": "python3"
  },
  "language_info": {
   "codemirror_mode": {
    "name": "ipython",
    "version": 3
   },
   "file_extension": ".py",
   "mimetype": "text/x-python",
   "name": "python",
   "nbconvert_exporter": "python",
   "pygments_lexer": "ipython3",
   "version": "3.8.12"
  }
 },
 "nbformat": 4,
 "nbformat_minor": 5
}
