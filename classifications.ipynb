{
 "cells": [
  {
   "cell_type": "code",
   "execution_count": 1,
   "id": "30a4bf62",
   "metadata": {},
   "outputs": [],
   "source": [
    "## Import packages\n",
    "import os\n",
    "import mne\n",
    "import numpy as np\n",
    "import scipy as sp\n",
    "import scipy.io as sio\n",
    "import matplotlib.pyplot as plt\n",
    "\n",
    "from scipy.signal import butter, sosfiltfilt, sosfreqz  \n",
    "from scipy.io import loadmat\n",
    "from sklearn.utils import shuffle\n",
    "from sklearn.model_selection import train_test_split, cross_val_score\n",
    "from sklearn.multiclass import OneVsOneClassifier, OneVsRestClassifier\n",
    "from sklearn.discriminant_analysis import LinearDiscriminantAnalysis\n",
    "from sklearn.metrics import accuracy_score, roc_curve, auc\n",
    "\n",
    "import scripts.classification_utils as utils\n",
    "import scripts.CSP as csp\n",
    "import scripts.SACSP as sacsp"
   ]
  },
  {
   "cell_type": "code",
   "execution_count": 2,
   "id": "7e558dfd",
   "metadata": {},
   "outputs": [],
   "source": [
    "## Define directories\n",
    "data_dir = '/home/inffzy/Desktop/cogs189/cogs189_final_project/data'\n",
    "results_dir = '/home/inffzy/Desktop/cogs189/cogs189_final_project/results'"
   ]
  },
  {
   "cell_type": "code",
   "execution_count": 3,
   "id": "3d20a5d1",
   "metadata": {},
   "outputs": [],
   "source": [
    "## Raw data directory names\n",
    "bc4_2a_processed_name = 'bci_competition_4_2a_processed'\n",
    "bc3_3a_processed_name = 'bci_competition_3_3a_processed'\n",
    "\n",
    "## Create list of all data paths\n",
    "bc4_2a_processed_data_paths = []\n",
    "bc3_3a_processed_data_paths = []\n",
    "\n",
    "## Add bc4_2a data paths\n",
    "for subject_idx in range(1, 10):\n",
    "    subject_name = 'A0' + str(subject_idx) + 'T'\n",
    "    bc4_2a_processed_data_paths.append(\n",
    "        os.path.join(data_dir, bc4_2a_processed_name, subject_name + '.npz'))\n",
    "    \n",
    "## Add bc3_3a data paths\n",
    "for subject_idx in range(1, 4):\n",
    "    subject_name = 'bc3_3a_s' + str(subject_idx)\n",
    "    bc3_3a_processed_data_paths.append(\n",
    "        os.path.join(data_dir, bc3_3a_processed_name, subject_name + '.npz'))\n",
    "    \n",
    "all_data_paths = bc4_2a_processed_data_paths + bc3_3a_processed_data_paths"
   ]
  },
  {
   "cell_type": "code",
   "execution_count": 4,
   "id": "0b34365b",
   "metadata": {},
   "outputs": [],
   "source": [
    "## Define constants\n",
    "sampling_f = 250\n",
    "label_left_hand = 769\n",
    "label_right_hand = 770\n",
    "num_samples = 10\n",
    "test_split = 0.33\n",
    "random_state = 42\n",
    "num_cross_val = 5\n",
    "num_experiment = 10"
   ]
  },
  {
   "cell_type": "markdown",
   "id": "3e7d343c",
   "metadata": {},
   "source": [
    "## Regular CSP Visualization"
   ]
  },
  {
   "cell_type": "code",
   "execution_count": 5,
   "id": "0051a081",
   "metadata": {},
   "outputs": [
    {
     "name": "stdout",
     "output_type": "stream",
     "text": [
      "(138, 22, 500)\n",
      "(138, 22)\n"
     ]
    },
    {
     "data": {
      "text/plain": [
       "<matplotlib.collections.PathCollection at 0x7f1e7e204d30>"
      ]
     },
     "execution_count": 5,
     "metadata": {},
     "output_type": "execute_result"
    },
    {
     "data": {
      "image/png": "[encoded data removed]",
      "text/plain": [
       "<Figure size 432x288 with 1 Axes>"
      ]
     },
     "metadata": {
      "needs_background": "light"
     },
     "output_type": "display_data"
    }
   ],
   "source": [
    "data_npz = np.load(all_data_paths[0])\n",
    "data = data_npz['processed_motor_imagery_data']\n",
    "labels = data_npz['descriptions']\n",
    "\n",
    "## Extract left and right hand epochs\n",
    "data = data[np.any([labels == label_left_hand, labels == label_right_hand], axis=0)]\n",
    "labels = labels[np.any([labels == label_left_hand, labels == label_right_hand], axis=0)]\n",
    "\n",
    "print(data.shape)\n",
    "\n",
    "data_ds = np.mean(data, axis=-1)\n",
    "print(data_ds.shape)\n",
    "\n",
    "data_ds_c1 = data_ds[labels == label_left_hand]\n",
    "data_ds_c2 = data_ds[labels == label_right_hand]\n",
    "\n",
    "plt.scatter(data_ds_c1[:, 0], data_ds_c1[:, 1])\n",
    "plt.scatter(data_ds_c2[:, 0], data_ds_c2[:, 1])"
   ]
  },
  {
   "cell_type": "code",
   "execution_count": 6,
   "id": "386a0aec",
   "metadata": {},
   "outputs": [
    {
     "name": "stdout",
     "output_type": "stream",
     "text": [
      "(138, 2, 500)\n",
      "(138, 2)\n"
     ]
    },
    {
     "data": {
      "text/plain": [
       "<matplotlib.collections.PathCollection at 0x7f1e7d924190>"
      ]
     },
     "execution_count": 6,
     "metadata": {},
     "output_type": "execute_result"
    },
    {
     "data": {
      "image/png": "[encoded data removed]",
      "text/plain": [
       "<Figure size 432x288 with 1 Axes>"
      ]
     },
     "metadata": {
      "needs_background": "light"
     },
     "output_type": "display_data"
    }
   ],
   "source": [
    "data_c1 = data[labels == label_left_hand]\n",
    "data_c2 = data[labels == label_right_hand]\n",
    "csp_transform = csp.CSP(data_c1, data_c2, n_top=1)\n",
    "data_ = csp.apply_CSP_transform(data, csp_transform)\n",
    "\n",
    "print(data_.shape)\n",
    "\n",
    "data_ds = np.mean(data_, axis=-1)\n",
    "print(data_ds.shape)\n",
    "\n",
    "data_ds_c1 = data_ds[labels == label_left_hand]\n",
    "data_ds_c2 = data_ds[labels == label_right_hand]\n",
    "\n",
    "plt.scatter(data_ds_c1[:, 0], data_ds_c1[:, 1])\n",
    "plt.scatter(data_ds_c2[:, 0], data_ds_c2[:, 1])"
   ]
  },
  {
   "cell_type": "code",
   "execution_count": 7,
   "id": "7bcc9676",
   "metadata": {},
   "outputs": [],
   "source": [
    "extracted_features = csp.CSP_extract_features(data, csp_transform, n_top=1)"
   ]
  },
  {
   "cell_type": "code",
   "execution_count": 8,
   "id": "a611f373",
   "metadata": {},
   "outputs": [
    {
     "data": {
      "text/plain": [
       "(138, 2)"
      ]
     },
     "execution_count": 8,
     "metadata": {},
     "output_type": "execute_result"
    }
   ],
   "source": [
    "extracted_features.shape"
   ]
  },
  {
   "cell_type": "code",
   "execution_count": 9,
   "id": "1211ebfc",
   "metadata": {},
   "outputs": [
    {
     "name": "stdout",
     "output_type": "stream",
     "text": [
      "(138, 2, 500)\n",
      "(138, 2)\n"
     ]
    },
    {
     "data": {
      "text/plain": [
       "<matplotlib.collections.PathCollection at 0x7f1e7d8945b0>"
      ]
     },
     "execution_count": 9,
     "metadata": {},
     "output_type": "execute_result"
    },
    {
     "data": {
      "image/png": "[encoded data removed]",
      "text/plain": [
       "<Figure size 432x288 with 1 Axes>"
      ]
     },
     "metadata": {
      "needs_background": "light"
     },
     "output_type": "display_data"
    }
   ],
   "source": [
    "data_c1 = data[labels == label_left_hand]\n",
    "data_c2 = data[labels == label_right_hand]\n",
    "csp_transform = csp.CSP2(data_c1, data_c2, n_top=1)\n",
    "data_ = csp.apply_CSP_transform(data, csp_transform)\n",
    "\n",
    "print(data_.shape)\n",
    "\n",
    "data_ds = np.mean(data_, axis=-1)\n",
    "print(data_ds.shape)\n",
    "\n",
    "data_ds_c1 = data_ds[labels == label_left_hand]\n",
    "data_ds_c2 = data_ds[labels == label_right_hand]\n",
    "\n",
    "plt.scatter(data_ds_c1[:, 0], data_ds_c1[:, 1])\n",
    "plt.scatter(data_ds_c2[:, 0], data_ds_c2[:, 1])"
   ]
  },
  {
   "cell_type": "code",
   "execution_count": 10,
   "id": "5046e6a7",
   "metadata": {},
   "outputs": [
    {
     "name": "stderr",
     "output_type": "stream",
     "text": [
      "/home/inffzy/Desktop/cogs189/cogs189_final_project/scripts/SACSP.py:198: ComplexWarning: Casting complex values to real discards the imaginary part\n",
      "  E[i] = trial_fourier @ np.diag(h_or_l) @ np.matrix(trial_fourier).H\n",
      "/home/inffzy/Desktop/cogs189/cogs189_final_project/scripts/SACSP.py:225: ComplexWarning: Casting complex values to real discards the imaginary part\n",
      "  E[i] = np.matrix(trial_fourier).H @ w_or_v @ w_or_v.T @ trial_fourier\n",
      "/home/inffzy/Desktop/cogs189/cogs189_final_project/scripts/SACSP.py:177: ComplexWarning: Casting complex values to real discards the imaginary part\n",
      "  E[i] = trial_fourier @ np.diag(h_or_l) @ np.matrix(trial_fourier).H\n"
     ]
    }
   ],
   "source": [
    "data_c1 = data[labels == label_left_hand]\n",
    "data_c2 = data[labels == label_right_hand]\n",
    "\n",
    "c1_filter_pairs, c2_filter_pairs = sacsp.SACSP2(data_c1, data_c2)"
   ]
  },
  {
   "cell_type": "code",
   "execution_count": 11,
   "id": "4f44858e",
   "metadata": {},
   "outputs": [
    {
     "data": {
      "text/plain": [
       "3"
      ]
     },
     "execution_count": 11,
     "metadata": {},
     "output_type": "execute_result"
    }
   ],
   "source": [
    "len(c1_filter_pairs)"
   ]
  },
  {
   "cell_type": "code",
   "execution_count": 12,
   "id": "31e16bf4",
   "metadata": {},
   "outputs": [
    {
     "name": "stdout",
     "output_type": "stream",
     "text": [
      "(500,)\n"
     ]
    }
   ],
   "source": [
    "c1_spectral_filter1 = c1_filter_pairs[0][0]\n",
    "c1_spectral_filter2 = c1_filter_pairs[1][0]\n",
    "c1_spectral_filter3 = c1_filter_pairs[2][0]\n",
    "\n",
    "c2_spectral_filter1 = c2_filter_pairs[0][0]\n",
    "c2_spatial_filter1 = c2_filter_pairs[0][1]\n",
    "\n",
    "print(c1_spectral_filter1.shape)"
   ]
  },
  {
   "cell_type": "code",
   "execution_count": 13,
   "id": "688dcfff",
   "metadata": {},
   "outputs": [
    {
     "data": {
      "text/plain": [
       "[<matplotlib.lines.Line2D at 0x7f1e7d819790>]"
      ]
     },
     "execution_count": 13,
     "metadata": {},
     "output_type": "execute_result"
    },
    {
     "data": {
      "image/png": "[encoded data removed]",
      "text/plain": [
       "<Figure size 432x288 with 1 Axes>"
      ]
     },
     "metadata": {
      "needs_background": "light"
     },
     "output_type": "display_data"
    }
   ],
   "source": [
    "freq = np.fft.fftfreq(500) * sampling_f\n",
    "\n",
    "f1 = c1_spectral_filter1[1:100]\n",
    "f2 = c1_spectral_filter2[1:100]\n",
    "f3 = c1_spectral_filter3[1:100]\n",
    "\n",
    "plt.plot(freq[1:100], f1 / np.linalg.norm(f1))\n",
    "plt.plot(freq[1:100], f2 / np.linalg.norm(f2))\n",
    "plt.plot(freq[1:100], f3 / np.linalg.norm(f3))"
   ]
  },
  {
   "cell_type": "code",
   "execution_count": 14,
   "id": "2b58bab0",
   "metadata": {},
   "outputs": [
    {
     "data": {
      "text/plain": [
       "array([False, False, False, False, False, False, False, False, False,\n",
       "       False, False, False, False, False,  True,  True,  True,  True,\n",
       "        True,  True,  True,  True,  True,  True,  True,  True,  True,\n",
       "        True,  True,  True,  True, False, False, False, False, False,\n",
       "       False, False, False, False, False, False, False, False, False,\n",
       "       False, False, False, False, False, False, False, False, False,\n",
       "       False, False, False, False, False, False, False, False, False,\n",
       "       False, False, False, False, False, False, False, False, False,\n",
       "       False, False, False, False, False, False, False, False, False,\n",
       "       False, False, False, False, False, False, False, False, False,\n",
       "       False, False, False, False, False, False, False, False, False,\n",
       "       False, False, False, False, False, False, False, False, False,\n",
       "       False, False, False, False, False, False, False, False, False,\n",
       "       False, False, False, False, False, False, False, False, False,\n",
       "       False, False, False, False, False, False, False, False, False,\n",
       "       False, False, False, False, False, False, False, False, False,\n",
       "       False, False, False, False, False, False, False, False, False,\n",
       "       False, False, False, False, False, False, False, False, False,\n",
       "       False, False, False, False, False, False, False, False, False,\n",
       "       False, False, False, False, False, False, False, False, False,\n",
       "       False, False, False, False, False, False, False, False, False,\n",
       "       False, False, False, False, False, False, False, False, False,\n",
       "       False, False, False, False, False, False, False, False, False,\n",
       "       False, False, False, False, False, False, False, False, False,\n",
       "       False, False, False, False, False, False, False, False, False,\n",
       "       False, False, False, False, False, False, False, False, False,\n",
       "       False, False, False, False, False, False, False, False, False,\n",
       "       False, False, False, False, False, False, False, False, False,\n",
       "       False, False, False, False, False, False, False, False, False,\n",
       "       False, False, False, False, False, False, False, False, False,\n",
       "       False, False, False, False, False, False, False, False, False,\n",
       "       False, False, False, False, False, False, False, False, False,\n",
       "       False, False, False, False, False, False, False, False, False,\n",
       "       False, False, False, False, False, False, False, False, False,\n",
       "       False, False, False, False, False, False, False, False, False,\n",
       "       False, False, False, False, False, False, False, False, False,\n",
       "       False, False, False, False, False, False, False, False, False,\n",
       "       False, False, False, False, False, False, False, False, False,\n",
       "       False, False, False, False, False, False, False, False, False,\n",
       "       False, False, False, False, False, False, False, False, False,\n",
       "       False, False, False, False, False, False, False, False, False,\n",
       "       False, False, False, False, False, False, False, False, False,\n",
       "       False, False, False, False, False, False, False, False, False,\n",
       "       False, False, False, False, False, False, False, False, False,\n",
       "       False, False, False, False, False, False, False, False, False,\n",
       "       False, False, False, False, False, False, False, False, False,\n",
       "       False, False, False, False, False, False, False, False, False,\n",
       "       False, False, False, False, False, False, False, False, False,\n",
       "       False, False, False, False, False, False, False, False, False,\n",
       "       False, False, False, False, False, False, False, False, False,\n",
       "       False, False, False, False, False, False, False, False, False,\n",
       "       False, False, False, False, False, False, False, False, False,\n",
       "       False, False, False, False, False, False, False, False, False,\n",
       "       False, False, False, False, False, False, False, False, False,\n",
       "       False, False, False, False, False, False, False, False, False,\n",
       "       False, False, False, False, False])"
      ]
     },
     "execution_count": 14,
     "metadata": {},
     "output_type": "execute_result"
    }
   ],
   "source": [
    "freq = np.fft.fftfreq(500) * 250\n",
    "np.all([freq >= 7, freq <= 15], axis=0) "
   ]
  },
  {
   "cell_type": "code",
   "execution_count": 15,
   "id": "085c72d8",
   "metadata": {},
   "outputs": [
    {
     "data": {
      "text/plain": [
       "array([   0. ,    0.5,    1. ,    1.5,    2. ,    2.5,    3. ,    3.5,\n",
       "          4. ,    4.5,    5. ,    5.5,    6. ,    6.5,    7. ,    7.5,\n",
       "          8. ,    8.5,    9. ,    9.5,   10. ,   10.5,   11. ,   11.5,\n",
       "         12. ,   12.5,   13. ,   13.5,   14. ,   14.5,   15. ,   15.5,\n",
       "         16. ,   16.5,   17. ,   17.5,   18. ,   18.5,   19. ,   19.5,\n",
       "         20. ,   20.5,   21. ,   21.5,   22. ,   22.5,   23. ,   23.5,\n",
       "         24. ,   24.5,   25. ,   25.5,   26. ,   26.5,   27. ,   27.5,\n",
       "         28. ,   28.5,   29. ,   29.5,   30. ,   30.5,   31. ,   31.5,\n",
       "         32. ,   32.5,   33. ,   33.5,   34. ,   34.5,   35. ,   35.5,\n",
       "         36. ,   36.5,   37. ,   37.5,   38. ,   38.5,   39. ,   39.5,\n",
       "         40. ,   40.5,   41. ,   41.5,   42. ,   42.5,   43. ,   43.5,\n",
       "         44. ,   44.5,   45. ,   45.5,   46. ,   46.5,   47. ,   47.5,\n",
       "         48. ,   48.5,   49. ,   49.5,   50. ,   50.5,   51. ,   51.5,\n",
       "         52. ,   52.5,   53. ,   53.5,   54. ,   54.5,   55. ,   55.5,\n",
       "         56. ,   56.5,   57. ,   57.5,   58. ,   58.5,   59. ,   59.5,\n",
       "         60. ,   60.5,   61. ,   61.5,   62. ,   62.5,   63. ,   63.5,\n",
       "         64. ,   64.5,   65. ,   65.5,   66. ,   66.5,   67. ,   67.5,\n",
       "         68. ,   68.5,   69. ,   69.5,   70. ,   70.5,   71. ,   71.5,\n",
       "         72. ,   72.5,   73. ,   73.5,   74. ,   74.5,   75. ,   75.5,\n",
       "         76. ,   76.5,   77. ,   77.5,   78. ,   78.5,   79. ,   79.5,\n",
       "         80. ,   80.5,   81. ,   81.5,   82. ,   82.5,   83. ,   83.5,\n",
       "         84. ,   84.5,   85. ,   85.5,   86. ,   86.5,   87. ,   87.5,\n",
       "         88. ,   88.5,   89. ,   89.5,   90. ,   90.5,   91. ,   91.5,\n",
       "         92. ,   92.5,   93. ,   93.5,   94. ,   94.5,   95. ,   95.5,\n",
       "         96. ,   96.5,   97. ,   97.5,   98. ,   98.5,   99. ,   99.5,\n",
       "        100. ,  100.5,  101. ,  101.5,  102. ,  102.5,  103. ,  103.5,\n",
       "        104. ,  104.5,  105. ,  105.5,  106. ,  106.5,  107. ,  107.5,\n",
       "        108. ,  108.5,  109. ,  109.5,  110. ,  110.5,  111. ,  111.5,\n",
       "        112. ,  112.5,  113. ,  113.5,  114. ,  114.5,  115. ,  115.5,\n",
       "        116. ,  116.5,  117. ,  117.5,  118. ,  118.5,  119. ,  119.5,\n",
       "        120. ,  120.5,  121. ,  121.5,  122. ,  122.5,  123. ,  123.5,\n",
       "        124. ,  124.5, -125. , -124.5, -124. , -123.5, -123. , -122.5,\n",
       "       -122. , -121.5, -121. , -120.5, -120. , -119.5, -119. , -118.5,\n",
       "       -118. , -117.5, -117. , -116.5, -116. , -115.5, -115. , -114.5,\n",
       "       -114. , -113.5, -113. , -112.5, -112. , -111.5, -111. , -110.5,\n",
       "       -110. , -109.5, -109. , -108.5, -108. , -107.5, -107. , -106.5,\n",
       "       -106. , -105.5, -105. , -104.5, -104. , -103.5, -103. , -102.5,\n",
       "       -102. , -101.5, -101. , -100.5, -100. ,  -99.5,  -99. ,  -98.5,\n",
       "        -98. ,  -97.5,  -97. ,  -96.5,  -96. ,  -95.5,  -95. ,  -94.5,\n",
       "        -94. ,  -93.5,  -93. ,  -92.5,  -92. ,  -91.5,  -91. ,  -90.5,\n",
       "        -90. ,  -89.5,  -89. ,  -88.5,  -88. ,  -87.5,  -87. ,  -86.5,\n",
       "        -86. ,  -85.5,  -85. ,  -84.5,  -84. ,  -83.5,  -83. ,  -82.5,\n",
       "        -82. ,  -81.5,  -81. ,  -80.5,  -80. ,  -79.5,  -79. ,  -78.5,\n",
       "        -78. ,  -77.5,  -77. ,  -76.5,  -76. ,  -75.5,  -75. ,  -74.5,\n",
       "        -74. ,  -73.5,  -73. ,  -72.5,  -72. ,  -71.5,  -71. ,  -70.5,\n",
       "        -70. ,  -69.5,  -69. ,  -68.5,  -68. ,  -67.5,  -67. ,  -66.5,\n",
       "        -66. ,  -65.5,  -65. ,  -64.5,  -64. ,  -63.5,  -63. ,  -62.5,\n",
       "        -62. ,  -61.5,  -61. ,  -60.5,  -60. ,  -59.5,  -59. ,  -58.5,\n",
       "        -58. ,  -57.5,  -57. ,  -56.5,  -56. ,  -55.5,  -55. ,  -54.5,\n",
       "        -54. ,  -53.5,  -53. ,  -52.5,  -52. ,  -51.5,  -51. ,  -50.5,\n",
       "        -50. ,  -49.5,  -49. ,  -48.5,  -48. ,  -47.5,  -47. ,  -46.5,\n",
       "        -46. ,  -45.5,  -45. ,  -44.5,  -44. ,  -43.5,  -43. ,  -42.5,\n",
       "        -42. ,  -41.5,  -41. ,  -40.5,  -40. ,  -39.5,  -39. ,  -38.5,\n",
       "        -38. ,  -37.5,  -37. ,  -36.5,  -36. ,  -35.5,  -35. ,  -34.5,\n",
       "        -34. ,  -33.5,  -33. ,  -32.5,  -32. ,  -31.5,  -31. ,  -30.5,\n",
       "        -30. ,  -29.5,  -29. ,  -28.5,  -28. ,  -27.5,  -27. ,  -26.5,\n",
       "        -26. ,  -25.5,  -25. ,  -24.5,  -24. ,  -23.5,  -23. ,  -22.5,\n",
       "        -22. ,  -21.5,  -21. ,  -20.5,  -20. ,  -19.5,  -19. ,  -18.5,\n",
       "        -18. ,  -17.5,  -17. ,  -16.5,  -16. ,  -15.5,  -15. ,  -14.5,\n",
       "        -14. ,  -13.5,  -13. ,  -12.5,  -12. ,  -11.5,  -11. ,  -10.5,\n",
       "        -10. ,   -9.5,   -9. ,   -8.5,   -8. ,   -7.5,   -7. ,   -6.5,\n",
       "         -6. ,   -5.5,   -5. ,   -4.5,   -4. ,   -3.5,   -3. ,   -2.5,\n",
       "         -2. ,   -1.5,   -1. ,   -0.5])"
      ]
     },
     "execution_count": 15,
     "metadata": {},
     "output_type": "execute_result"
    }
   ],
   "source": [
    "freq"
   ]
  },
  {
   "cell_type": "code",
   "execution_count": 16,
   "id": "bd4bb772",
   "metadata": {},
   "outputs": [
    {
     "data": {
      "text/plain": [
       "[<matplotlib.lines.Line2D at 0x7f1e7d786040>]"
      ]
     },
     "execution_count": 16,
     "metadata": {},
     "output_type": "execute_result"
    },
    {
     "data": {
      "image/png": "[encoded data removed]",
      "text/plain": [
       "<Figure size 432x288 with 1 Axes>"
      ]
     },
     "metadata": {
      "needs_background": "light"
     },
     "output_type": "display_data"
    }
   ],
   "source": [
    "signal = c2_spectral_filter1[1:100]\n",
    "plt.plot(freq[1:100], signal / np.linalg.norm(signal))"
   ]
  },
  {
   "cell_type": "markdown",
   "id": "2392bc9e",
   "metadata": {},
   "source": [
    "### Note: each of the following classification experiment is run 10 times, each with a different random seed"
   ]
  },
  {
   "cell_type": "markdown",
   "id": "c190e137",
   "metadata": {},
   "source": [
    "## Binary Classification with LDA"
   ]
  },
  {
   "cell_type": "code",
   "execution_count": 17,
   "id": "46f91e7a",
   "metadata": {},
   "outputs": [
    {
     "name": "stdout",
     "output_type": "stream",
     "text": [
      "Cross validation score average:  0.5771929824561404\n",
      "Training accuracy:  0.9347826086956522\n",
      "Testing accuracy:  0.6086956521739131\n",
      "Cross validation score average:  0.47134502923976607\n",
      "Training accuracy:  0.9230769230769231\n",
      "Testing accuracy:  0.4666666666666667\n",
      "Cross validation score average:  0.5403508771929825\n",
      "Training accuracy:  0.8791208791208791\n",
      "Testing accuracy:  0.45652173913043476\n",
      "Cross validation score average:  0.5117647058823529\n",
      "Training accuracy:  0.8837209302325582\n",
      "Testing accuracy:  0.4186046511627907\n",
      "Cross validation score average:  0.5\n",
      "Training accuracy:  0.8255813953488372\n",
      "Testing accuracy:  0.4186046511627907\n",
      "Cross validation score average:  0.5333333333333333\n",
      "Training accuracy:  0.96\n",
      "Testing accuracy:  0.34210526315789475\n",
      "Cross validation score average:  0.515686274509804\n",
      "Training accuracy:  0.7865168539325843\n",
      "Testing accuracy:  0.5\n",
      "Cross validation score average:  0.5464052287581699\n",
      "Training accuracy:  0.9090909090909091\n",
      "Testing accuracy:  0.6136363636363636\n",
      "Cross validation score average:  0.4691666666666666\n",
      "Training accuracy:  0.961038961038961\n",
      "Testing accuracy:  0.5641025641025641\n",
      "Cross validation score average:  0.4355555555555556\n",
      "Training accuracy:  0.9791666666666666\n",
      "Testing accuracy:  0.6\n",
      "Cross validation score average:  0.5809523809523809\n",
      "Training accuracy:  1.0\n",
      "Testing accuracy:  0.5\n",
      "Cross validation score average:  0.2866666666666667\n",
      "Training accuracy:  1.0\n",
      "Testing accuracy:  0.5\n",
      "Cross validation score average:  0.5660818713450293\n",
      "Training accuracy:  0.8913043478260869\n",
      "Testing accuracy:  0.5652173913043478\n",
      "Cross validation score average:  0.49298245614035086\n",
      "Training accuracy:  0.9340659340659341\n",
      "Testing accuracy:  0.37777777777777777\n",
      "Cross validation score average:  0.5169590643274853\n",
      "Training accuracy:  0.8791208791208791\n",
      "Testing accuracy:  0.5217391304347826\n",
      "Cross validation score average:  0.5241830065359477\n",
      "Training accuracy:  0.8953488372093024\n",
      "Testing accuracy:  0.46511627906976744\n",
      "Cross validation score average:  0.40457516339869287\n",
      "Training accuracy:  0.8372093023255814\n",
      "Testing accuracy:  0.5348837209302325\n",
      "Cross validation score average:  0.4933333333333333\n",
      "Training accuracy:  0.9866666666666667\n",
      "Testing accuracy:  0.5789473684210527\n",
      "Cross validation score average:  0.4594771241830065\n",
      "Training accuracy:  0.8764044943820225\n",
      "Testing accuracy:  0.45454545454545453\n",
      "Cross validation score average:  0.5215686274509804\n",
      "Training accuracy:  0.9204545454545454\n",
      "Testing accuracy:  0.5909090909090909\n",
      "Cross validation score average:  0.48\n",
      "Training accuracy:  0.961038961038961\n",
      "Testing accuracy:  0.6666666666666666\n",
      "Cross validation score average:  0.4977777777777779\n",
      "Training accuracy:  1.0\n",
      "Testing accuracy:  0.44\n",
      "Cross validation score average:  0.6761904761904762\n",
      "Training accuracy:  1.0\n",
      "Testing accuracy:  0.625\n",
      "Cross validation score average:  0.56\n",
      "Training accuracy:  1.0\n",
      "Testing accuracy:  0.5\n",
      "Cross validation score average:  0.4988304093567251\n",
      "Training accuracy:  0.8369565217391305\n",
      "Testing accuracy:  0.5869565217391305\n",
      "Cross validation score average:  0.42748538011695913\n",
      "Training accuracy:  0.9010989010989011\n",
      "Testing accuracy:  0.4222222222222222\n",
      "Cross validation score average:  0.5736842105263158\n",
      "Training accuracy:  0.9340659340659341\n",
      "Testing accuracy:  0.41304347826086957\n",
      "Cross validation score average:  0.488235294117647\n",
      "Training accuracy:  0.7790697674418605\n",
      "Testing accuracy:  0.46511627906976744\n",
      "Cross validation score average:  0.47581699346405226\n",
      "Training accuracy:  0.813953488372093\n",
      "Testing accuracy:  0.3953488372093023\n",
      "Cross validation score average:  0.5333333333333333\n",
      "Training accuracy:  0.9733333333333334\n",
      "Testing accuracy:  0.47368421052631576\n",
      "Cross validation score average:  0.515686274509804\n",
      "Training accuracy:  0.8202247191011236\n",
      "Testing accuracy:  0.3181818181818182\n",
      "Cross validation score average:  0.6124183006535947\n",
      "Training accuracy:  0.9318181818181818\n",
      "Testing accuracy:  0.5681818181818182\n",
      "Cross validation score average:  0.43916666666666665\n",
      "Training accuracy:  0.961038961038961\n",
      "Testing accuracy:  0.4358974358974359\n",
      "Cross validation score average:  0.45999999999999996\n",
      "Training accuracy:  1.0\n",
      "Testing accuracy:  0.56\n",
      "Cross validation score average:  0.6761904761904762\n",
      "Training accuracy:  1.0\n",
      "Testing accuracy:  0.5625\n",
      "Cross validation score average:  0.3933333333333333\n",
      "Training accuracy:  1.0\n",
      "Testing accuracy:  0.42857142857142855\n",
      "Cross validation score average:  0.5228070175438597\n",
      "Training accuracy:  0.9347826086956522\n",
      "Testing accuracy:  0.5869565217391305\n",
      "Cross validation score average:  0.48479532163742683\n",
      "Training accuracy:  0.8791208791208791\n",
      "Testing accuracy:  0.4666666666666667\n",
      "Cross validation score average:  0.5947368421052632\n",
      "Training accuracy:  0.8571428571428571\n",
      "Testing accuracy:  0.5217391304347826\n",
      "Cross validation score average:  0.5934640522875817\n",
      "Training accuracy:  0.9186046511627907\n",
      "Testing accuracy:  0.3953488372093023\n",
      "Cross validation score average:  0.545751633986928\n",
      "Training accuracy:  0.8372093023255814\n",
      "Testing accuracy:  0.4186046511627907\n",
      "Cross validation score average:  0.6133333333333334\n",
      "Training accuracy:  0.9733333333333334\n",
      "Testing accuracy:  0.42105263157894735\n",
      "Cross validation score average:  0.41503267973856206\n",
      "Training accuracy:  0.8089887640449438\n",
      "Testing accuracy:  0.5\n",
      "Cross validation score average:  0.5209150326797386\n",
      "Training accuracy:  0.8863636363636364\n",
      "Testing accuracy:  0.75\n",
      "Cross validation score average:  0.43\n",
      "Training accuracy:  0.948051948051948\n",
      "Testing accuracy:  0.5128205128205128\n",
      "Cross validation score average:  0.43555555555555553\n",
      "Training accuracy:  1.0\n",
      "Testing accuracy:  0.48\n",
      "Cross validation score average:  0.7142857142857142\n",
      "Training accuracy:  1.0\n",
      "Testing accuracy:  0.4375\n",
      "Cross validation score average:  0.5866666666666667\n",
      "Training accuracy:  1.0\n",
      "Testing accuracy:  0.5714285714285714\n",
      "Cross validation score average:  0.48830409356725146\n",
      "Training accuracy:  0.8913043478260869\n",
      "Testing accuracy:  0.5217391304347826\n",
      "Cross validation score average:  0.47192982456140353\n",
      "Training accuracy:  0.9010989010989011\n",
      "Testing accuracy:  0.4222222222222222\n",
      "Cross validation score average:  0.5391812865497075\n",
      "Training accuracy:  0.945054945054945\n",
      "Testing accuracy:  0.3695652173913043\n",
      "Cross validation score average:  0.4764705882352942\n",
      "Training accuracy:  0.8488372093023255\n",
      "Testing accuracy:  0.3953488372093023\n",
      "Cross validation score average:  0.31568627450980397\n",
      "Training accuracy:  0.8604651162790697\n",
      "Testing accuracy:  0.3023255813953488\n",
      "Cross validation score average:  0.5066666666666666\n",
      "Training accuracy:  0.9333333333333333\n",
      "Testing accuracy:  0.4473684210526316\n",
      "Cross validation score average:  0.4045751633986928\n",
      "Training accuracy:  0.7415730337078652\n",
      "Testing accuracy:  0.5\n",
      "Cross validation score average:  0.5209150326797386\n",
      "Training accuracy:  0.9090909090909091\n",
      "Testing accuracy:  0.5681818181818182\n",
      "Cross validation score average:  0.5566666666666666\n",
      "Training accuracy:  0.974025974025974\n",
      "Testing accuracy:  0.46153846153846156\n",
      "Cross validation score average:  0.4177777777777778\n",
      "Training accuracy:  1.0\n",
      "Testing accuracy:  0.56\n",
      "Cross validation score average:  0.6761904761904762\n",
      "Training accuracy:  1.0\n",
      "Testing accuracy:  0.5\n",
      "Cross validation score average:  0.7533333333333333\n",
      "Training accuracy:  1.0\n",
      "Testing accuracy:  0.42857142857142855\n",
      "Cross validation score average:  0.45555555555555555\n",
      "Training accuracy:  0.8478260869565217\n",
      "Testing accuracy:  0.5434782608695652\n",
      "Cross validation score average:  0.5935672514619883\n",
      "Training accuracy:  0.945054945054945\n",
      "Testing accuracy:  0.4222222222222222\n",
      "Cross validation score average:  0.45964912280701753\n",
      "Training accuracy:  0.8791208791208791\n",
      "Testing accuracy:  0.41304347826086957\n",
      "Cross validation score average:  0.5228758169934641\n",
      "Training accuracy:  0.8255813953488372\n",
      "Testing accuracy:  0.4418604651162791\n",
      "Cross validation score average:  0.44183006535947716\n",
      "Training accuracy:  0.8372093023255814\n",
      "Testing accuracy:  0.3953488372093023\n",
      "Cross validation score average:  0.43999999999999995\n",
      "Training accuracy:  0.88\n",
      "Testing accuracy:  0.5\n",
      "Cross validation score average:  0.4836601307189543\n",
      "Training accuracy:  0.8426966292134831\n",
      "Testing accuracy:  0.38636363636363635\n",
      "Cross validation score average:  0.5790849673202614\n",
      "Training accuracy:  0.9204545454545454\n",
      "Testing accuracy:  0.4318181818181818\n",
      "Cross validation score average:  0.5433333333333333\n",
      "Training accuracy:  0.987012987012987\n",
      "Testing accuracy:  0.38461538461538464\n"
     ]
    },
    {
     "name": "stdout",
     "output_type": "stream",
     "text": [
      "Cross validation score average:  0.5222222222222223\n",
      "Training accuracy:  1.0\n",
      "Testing accuracy:  0.36\n",
      "Cross validation score average:  0.6761904761904762\n",
      "Training accuracy:  1.0\n",
      "Testing accuracy:  0.625\n",
      "Cross validation score average:  0.6266666666666667\n",
      "Training accuracy:  1.0\n",
      "Testing accuracy:  0.5\n",
      "Cross validation score average:  0.5128654970760234\n",
      "Training accuracy:  0.8804347826086957\n",
      "Testing accuracy:  0.6521739130434783\n",
      "Cross validation score average:  0.4269005847953216\n",
      "Training accuracy:  0.8681318681318682\n",
      "Testing accuracy:  0.4\n",
      "Cross validation score average:  0.6052631578947368\n",
      "Training accuracy:  0.978021978021978\n",
      "Testing accuracy:  0.5434782608695652\n",
      "Cross validation score average:  0.5359477124183006\n",
      "Training accuracy:  0.872093023255814\n",
      "Testing accuracy:  0.5116279069767442\n",
      "Cross validation score average:  0.43006535947712415\n",
      "Training accuracy:  0.813953488372093\n",
      "Testing accuracy:  0.5116279069767442\n",
      "Cross validation score average:  0.4533333333333334\n",
      "Training accuracy:  0.9733333333333334\n",
      "Testing accuracy:  0.5526315789473685\n",
      "Cross validation score average:  0.5398692810457517\n",
      "Training accuracy:  0.7865168539325843\n",
      "Testing accuracy:  0.4772727272727273\n",
      "Cross validation score average:  0.46601307189542485\n",
      "Training accuracy:  0.875\n",
      "Testing accuracy:  0.6590909090909091\n",
      "Cross validation score average:  0.4291666666666666\n",
      "Training accuracy:  0.961038961038961\n",
      "Testing accuracy:  0.5641025641025641\n",
      "Cross validation score average:  0.3133333333333333\n",
      "Training accuracy:  1.0\n",
      "Testing accuracy:  0.4\n",
      "Cross validation score average:  0.6142857142857142\n",
      "Training accuracy:  1.0\n",
      "Testing accuracy:  0.5625\n",
      "Cross validation score average:  0.4666666666666666\n",
      "Training accuracy:  1.0\n",
      "Testing accuracy:  0.42857142857142855\n",
      "Cross validation score average:  0.42397660818713445\n",
      "Training accuracy:  0.8478260869565217\n",
      "Testing accuracy:  0.6304347826086957\n",
      "Cross validation score average:  0.40701754385964917\n",
      "Training accuracy:  0.9010989010989011\n",
      "Testing accuracy:  0.5111111111111111\n",
      "Cross validation score average:  0.5169590643274853\n",
      "Training accuracy:  0.8571428571428571\n",
      "Testing accuracy:  0.43478260869565216\n",
      "Cross validation score average:  0.39477124183006534\n",
      "Training accuracy:  0.9418604651162791\n",
      "Testing accuracy:  0.46511627906976744\n",
      "Cross validation score average:  0.3137254901960785\n",
      "Training accuracy:  0.7906976744186046\n",
      "Testing accuracy:  0.37209302325581395\n",
      "Cross validation score average:  0.5333333333333333\n",
      "Training accuracy:  0.92\n",
      "Testing accuracy:  0.5526315789473685\n",
      "Cross validation score average:  0.47320261437908495\n",
      "Training accuracy:  0.7640449438202247\n",
      "Testing accuracy:  0.5\n",
      "Cross validation score average:  0.5444444444444445\n",
      "Training accuracy:  0.9318181818181818\n",
      "Testing accuracy:  0.6818181818181818\n",
      "Cross validation score average:  0.48166666666666663\n",
      "Training accuracy:  0.8961038961038961\n",
      "Testing accuracy:  0.46153846153846156\n",
      "Cross validation score average:  0.5377777777777777\n",
      "Training accuracy:  1.0\n",
      "Testing accuracy:  0.52\n",
      "Cross validation score average:  0.5476190476190476\n",
      "Training accuracy:  1.0\n",
      "Testing accuracy:  0.625\n",
      "Cross validation score average:  0.52\n",
      "Training accuracy:  1.0\n",
      "Testing accuracy:  0.5\n",
      "Cross validation score average:  0.6\n",
      "Training accuracy:  0.9565217391304348\n",
      "Testing accuracy:  0.45652173913043476\n",
      "Cross validation score average:  0.4614035087719298\n",
      "Training accuracy:  0.8901098901098901\n",
      "Testing accuracy:  0.4444444444444444\n",
      "Cross validation score average:  0.5157894736842106\n",
      "Training accuracy:  0.945054945054945\n",
      "Testing accuracy:  0.41304347826086957\n",
      "Cross validation score average:  0.569281045751634\n",
      "Training accuracy:  0.8953488372093024\n",
      "Testing accuracy:  0.4186046511627907\n",
      "Cross validation score average:  0.5490196078431373\n",
      "Training accuracy:  0.8604651162790697\n",
      "Testing accuracy:  0.37209302325581395\n",
      "Cross validation score average:  0.5866666666666667\n",
      "Training accuracy:  0.9733333333333334\n",
      "Testing accuracy:  0.42105263157894735\n",
      "Cross validation score average:  0.403921568627451\n",
      "Training accuracy:  0.8314606741573034\n",
      "Testing accuracy:  0.4772727272727273\n",
      "Cross validation score average:  0.5228758169934641\n",
      "Training accuracy:  0.9204545454545454\n",
      "Testing accuracy:  0.5909090909090909\n",
      "Cross validation score average:  0.5316666666666667\n",
      "Training accuracy:  0.922077922077922\n",
      "Testing accuracy:  0.4358974358974359\n",
      "Cross validation score average:  0.5022222222222222\n",
      "Training accuracy:  1.0\n",
      "Testing accuracy:  0.48\n",
      "Cross validation score average:  0.5571428571428572\n",
      "Training accuracy:  1.0\n",
      "Testing accuracy:  0.625\n",
      "Cross validation score average:  0.74\n",
      "Training accuracy:  1.0\n",
      "Testing accuracy:  0.5\n",
      "Cross validation score average:  0.5204678362573099\n",
      "Training accuracy:  0.9021739130434783\n",
      "Testing accuracy:  0.6086956521739131\n",
      "Cross validation score average:  0.49415204678362573\n",
      "Training accuracy:  0.9230769230769231\n",
      "Testing accuracy:  0.4444444444444444\n",
      "Cross validation score average:  0.5169590643274853\n",
      "Training accuracy:  0.9010989010989011\n",
      "Testing accuracy:  0.3695652173913043\n",
      "Cross validation score average:  0.3947712418300654\n",
      "Training accuracy:  0.8023255813953488\n",
      "Testing accuracy:  0.46511627906976744\n",
      "Cross validation score average:  0.3830065359477125\n",
      "Training accuracy:  0.7906976744186046\n",
      "Testing accuracy:  0.5116279069767442\n",
      "Cross validation score average:  0.42666666666666664\n",
      "Training accuracy:  0.8933333333333333\n",
      "Testing accuracy:  0.631578947368421\n",
      "Cross validation score average:  0.43660130718954243\n",
      "Training accuracy:  0.7528089887640449\n",
      "Testing accuracy:  0.4772727272727273\n",
      "Cross validation score average:  0.5901960784313725\n",
      "Training accuracy:  0.9090909090909091\n",
      "Testing accuracy:  0.5\n",
      "Cross validation score average:  0.46916666666666673\n",
      "Training accuracy:  0.935064935064935\n",
      "Testing accuracy:  0.4358974358974359\n",
      "Cross validation score average:  0.4\n",
      "Training accuracy:  1.0\n",
      "Testing accuracy:  0.4\n",
      "Cross validation score average:  0.7095238095238094\n",
      "Training accuracy:  1.0\n",
      "Testing accuracy:  0.75\n",
      "Cross validation score average:  0.44666666666666666\n",
      "Training accuracy:  1.0\n",
      "Testing accuracy:  0.42857142857142855\n"
     ]
    }
   ],
   "source": [
    "## results records training accuracy, cross validation average score, and testing accuracy for each subject\n",
    "results = np.zeros((num_experiment, len(all_data_paths), 3))\n",
    "\n",
    "for j in range(num_experiment):\n",
    "    for i, data_path in enumerate(all_data_paths):\n",
    "        \n",
    "        ## Load data\n",
    "        data_npz = np.load(data_path)\n",
    "        data = data_npz['processed_motor_imagery_data']\n",
    "        labels = data_npz['descriptions']\n",
    "        \n",
    "        ## Extract left and right hand epochs\n",
    "        data = data[np.any([labels == label_left_hand, labels == label_right_hand], axis=0)]\n",
    "        labels = labels[np.any([labels == label_left_hand, labels == label_right_hand], axis=0)]\n",
    "    \n",
    "        ## Downsample with windowed means\n",
    "        data_ds = utils.windowed_means(data, num_samples)\n",
    "        \n",
    "        ## Flatten data\n",
    "        data_ds_flattened = utils.flatten_dim12(data_ds)\n",
    "        \n",
    "        ## Prepare training and testing data\n",
    "        X_train, X_test, y_train, y_test = train_test_split(data_ds_flattened, \n",
    "                                                            labels, \n",
    "                                                            test_size=test_split, \n",
    "                                                            shuffle=True,\n",
    "                                                            random_state=j)\n",
    "        \n",
    "        ## Classification\n",
    "        clf = utils.LDA_classifier(X_train, y_train, cross_val=num_cross_val)\n",
    "        cross_val_score_avg = clf.train_binary()\n",
    "        predictions, train_accuracy = clf.test_binary()\n",
    "        predictions, test_accuracy = clf.test_binary(X_test, y_test)\n",
    "        results[j, i, :] = [train_accuracy, cross_val_score_avg, test_accuracy]"
   ]
  },
  {
   "cell_type": "code",
   "execution_count": 18,
   "id": "6982a87d",
   "metadata": {},
   "outputs": [
    {
     "name": "stdout",
     "output_type": "stream",
     "text": [
      "[[[0.93478261 0.57719298 0.60869565]\n",
      "  [0.92307692 0.47134503 0.46666667]\n",
      "  [0.87912088 0.54035088 0.45652174]\n",
      "  [0.88372093 0.51176471 0.41860465]\n",
      "  [0.8255814  0.5        0.41860465]\n",
      "  [0.96       0.53333333 0.34210526]\n",
      "  [0.78651685 0.51568627 0.5       ]\n",
      "  [0.90909091 0.54640523 0.61363636]\n",
      "  [0.96103896 0.46916667 0.56410256]\n",
      "  [0.97916667 0.43555556 0.6       ]\n",
      "  [1.         0.58095238 0.5       ]\n",
      "  [1.         0.28666667 0.5       ]]\n",
      "\n",
      " [[0.89130435 0.56608187 0.56521739]\n",
      "  [0.93406593 0.49298246 0.37777778]\n",
      "  [0.87912088 0.51695906 0.52173913]\n",
      "  [0.89534884 0.52418301 0.46511628]\n",
      "  [0.8372093  0.40457516 0.53488372]\n",
      "  [0.98666667 0.49333333 0.57894737]\n",
      "  [0.87640449 0.45947712 0.45454545]\n",
      "  [0.92045455 0.52156863 0.59090909]\n",
      "  [0.96103896 0.48       0.66666667]\n",
      "  [1.         0.49777778 0.44      ]\n",
      "  [1.         0.67619048 0.625     ]\n",
      "  [1.         0.56       0.5       ]]\n",
      "\n",
      " [[0.83695652 0.49883041 0.58695652]\n",
      "  [0.9010989  0.42748538 0.42222222]\n",
      "  [0.93406593 0.57368421 0.41304348]\n",
      "  [0.77906977 0.48823529 0.46511628]\n",
      "  [0.81395349 0.47581699 0.39534884]\n",
      "  [0.97333333 0.53333333 0.47368421]\n",
      "  [0.82022472 0.51568627 0.31818182]\n",
      "  [0.93181818 0.6124183  0.56818182]\n",
      "  [0.96103896 0.43916667 0.43589744]\n",
      "  [1.         0.46       0.56      ]\n",
      "  [1.         0.67619048 0.5625    ]\n",
      "  [1.         0.39333333 0.42857143]]\n",
      "\n",
      " [[0.93478261 0.52280702 0.58695652]\n",
      "  [0.87912088 0.48479532 0.46666667]\n",
      "  [0.85714286 0.59473684 0.52173913]\n",
      "  [0.91860465 0.59346405 0.39534884]\n",
      "  [0.8372093  0.54575163 0.41860465]\n",
      "  [0.97333333 0.61333333 0.42105263]\n",
      "  [0.80898876 0.41503268 0.5       ]\n",
      "  [0.88636364 0.52091503 0.75      ]\n",
      "  [0.94805195 0.43       0.51282051]\n",
      "  [1.         0.43555556 0.48      ]\n",
      "  [1.         0.71428571 0.4375    ]\n",
      "  [1.         0.58666667 0.57142857]]\n",
      "\n",
      " [[0.89130435 0.48830409 0.52173913]\n",
      "  [0.9010989  0.47192982 0.42222222]\n",
      "  [0.94505495 0.53918129 0.36956522]\n",
      "  [0.84883721 0.47647059 0.39534884]\n",
      "  [0.86046512 0.31568627 0.30232558]\n",
      "  [0.93333333 0.50666667 0.44736842]\n",
      "  [0.74157303 0.40457516 0.5       ]\n",
      "  [0.90909091 0.52091503 0.56818182]\n",
      "  [0.97402597 0.55666667 0.46153846]\n",
      "  [1.         0.41777778 0.56      ]\n",
      "  [1.         0.67619048 0.5       ]\n",
      "  [1.         0.75333333 0.42857143]]\n",
      "\n",
      " [[0.84782609 0.45555556 0.54347826]\n",
      "  [0.94505495 0.59356725 0.42222222]\n",
      "  [0.87912088 0.45964912 0.41304348]\n",
      "  [0.8255814  0.52287582 0.44186047]\n",
      "  [0.8372093  0.44183007 0.39534884]\n",
      "  [0.88       0.44       0.5       ]\n",
      "  [0.84269663 0.48366013 0.38636364]\n",
      "  [0.92045455 0.57908497 0.43181818]\n",
      "  [0.98701299 0.54333333 0.38461538]\n",
      "  [1.         0.52222222 0.36      ]\n",
      "  [1.         0.67619048 0.625     ]\n",
      "  [1.         0.62666667 0.5       ]]\n",
      "\n",
      " [[0.88043478 0.5128655  0.65217391]\n",
      "  [0.86813187 0.42690058 0.4       ]\n",
      "  [0.97802198 0.60526316 0.54347826]\n",
      "  [0.87209302 0.53594771 0.51162791]\n",
      "  [0.81395349 0.43006536 0.51162791]\n",
      "  [0.97333333 0.45333333 0.55263158]\n",
      "  [0.78651685 0.53986928 0.47727273]\n",
      "  [0.875      0.46601307 0.65909091]\n",
      "  [0.96103896 0.42916667 0.56410256]\n",
      "  [1.         0.31333333 0.4       ]\n",
      "  [1.         0.61428571 0.5625    ]\n",
      "  [1.         0.46666667 0.42857143]]\n",
      "\n",
      " [[0.84782609 0.42397661 0.63043478]\n",
      "  [0.9010989  0.40701754 0.51111111]\n",
      "  [0.85714286 0.51695906 0.43478261]\n",
      "  [0.94186047 0.39477124 0.46511628]\n",
      "  [0.79069767 0.31372549 0.37209302]\n",
      "  [0.92       0.53333333 0.55263158]\n",
      "  [0.76404494 0.47320261 0.5       ]\n",
      "  [0.93181818 0.54444444 0.68181818]\n",
      "  [0.8961039  0.48166667 0.46153846]\n",
      "  [1.         0.53777778 0.52      ]\n",
      "  [1.         0.54761905 0.625     ]\n",
      "  [1.         0.52       0.5       ]]\n",
      "\n",
      " [[0.95652174 0.6        0.45652174]\n",
      "  [0.89010989 0.46140351 0.44444444]\n",
      "  [0.94505495 0.51578947 0.41304348]\n",
      "  [0.89534884 0.56928105 0.41860465]\n",
      "  [0.86046512 0.54901961 0.37209302]\n",
      "  [0.97333333 0.58666667 0.42105263]\n",
      "  [0.83146067 0.40392157 0.47727273]\n",
      "  [0.92045455 0.52287582 0.59090909]\n",
      "  [0.92207792 0.53166667 0.43589744]\n",
      "  [1.         0.50222222 0.48      ]\n",
      "  [1.         0.55714286 0.625     ]\n",
      "  [1.         0.74       0.5       ]]\n",
      "\n",
      " [[0.90217391 0.52046784 0.60869565]\n",
      "  [0.92307692 0.49415205 0.44444444]\n",
      "  [0.9010989  0.51695906 0.36956522]\n",
      "  [0.80232558 0.39477124 0.46511628]\n",
      "  [0.79069767 0.38300654 0.51162791]\n",
      "  [0.89333333 0.42666667 0.63157895]\n",
      "  [0.75280899 0.43660131 0.47727273]\n",
      "  [0.90909091 0.59019608 0.5       ]\n",
      "  [0.93506494 0.46916667 0.43589744]\n",
      "  [1.         0.4        0.4       ]\n",
      "  [1.         0.70952381 0.75      ]\n",
      "  [1.         0.44666667 0.42857143]]]\n",
      "[[0.8923913  0.51660819 0.57608696]\n",
      " [0.90659341 0.47315789 0.43777778]\n",
      " [0.90549451 0.53795322 0.44565217]\n",
      " [0.86627907 0.50117647 0.44418605]\n",
      " [0.82674419 0.43594771 0.42325581]\n",
      " [0.94666667 0.512      0.49210526]\n",
      " [0.8011236  0.46477124 0.45909091]\n",
      " [0.91136364 0.54248366 0.59545455]\n",
      " [0.95064935 0.483      0.49230769]\n",
      " [0.99791667 0.45222222 0.48      ]\n",
      " [1.         0.64285714 0.58125   ]\n",
      " [1.         0.538      0.47857143]]\n"
     ]
    }
   ],
   "source": [
    "print(results)\n",
    "results_avg = np.mean(results, axis=0)\n",
    "print(results_avg)\n",
    "\n",
    "results_path = os.path.join(results_dir, '2_LDA.npy')\n",
    "np.save(results_path, results)"
   ]
  },
  {
   "cell_type": "markdown",
   "id": "476e9ffc",
   "metadata": {},
   "source": [
    "## Binary Classification with Regular CSP + LDA"
   ]
  },
  {
   "cell_type": "code",
   "execution_count": 19,
   "id": "4a6a22b7",
   "metadata": {},
   "outputs": [
    {
     "name": "stdout",
     "output_type": "stream",
     "text": [
      "Cross validation score average:  0.7818713450292397\n",
      "Training accuracy:  0.8043478260869565\n",
      "Testing accuracy:  0.6956521739130435\n",
      "Cross validation score average:  0.6596491228070175\n",
      "Training accuracy:  0.7032967032967034\n",
      "Testing accuracy:  0.5111111111111111\n",
      "Cross validation score average:  0.956140350877193\n",
      "Training accuracy:  0.9560439560439561\n",
      "Testing accuracy:  0.8478260869565217\n",
      "Cross validation score average:  0.8248366013071895\n",
      "Training accuracy:  0.8255813953488372\n",
      "Testing accuracy:  0.5581395348837209\n",
      "Cross validation score average:  0.592156862745098\n",
      "Training accuracy:  0.6395348837209303\n",
      "Testing accuracy:  0.627906976744186\n",
      "Cross validation score average:  0.8800000000000001\n",
      "Training accuracy:  0.8933333333333333\n",
      "Testing accuracy:  0.4473684210526316\n",
      "Cross validation score average:  0.8183006535947713\n",
      "Training accuracy:  0.8202247191011236\n",
      "Testing accuracy:  0.6590909090909091\n",
      "Cross validation score average:  0.9555555555555555\n",
      "Training accuracy:  0.9545454545454546\n",
      "Testing accuracy:  0.8636363636363636\n",
      "Cross validation score average:  0.8316666666666667\n",
      "Training accuracy:  0.8311688311688312\n",
      "Testing accuracy:  0.7435897435897436\n",
      "Cross validation score average:  0.9355555555555555\n",
      "Training accuracy:  0.9583333333333334\n",
      "Testing accuracy:  0.92\n",
      "Cross validation score average:  0.9380952380952381\n",
      "Training accuracy:  1.0\n",
      "Testing accuracy:  0.5625\n",
      "Cross validation score average:  0.8866666666666667\n",
      "Training accuracy:  0.8888888888888888\n",
      "Testing accuracy:  0.7857142857142857\n",
      "Cross validation score average:  0.802923976608187\n",
      "Training accuracy:  0.8152173913043478\n",
      "Testing accuracy:  0.782608695652174\n",
      "Cross validation score average:  0.6280701754385964\n",
      "Training accuracy:  0.7032967032967034\n",
      "Testing accuracy:  0.5333333333333333\n",
      "Cross validation score average:  0.9245614035087719\n",
      "Training accuracy:  0.9340659340659341\n",
      "Testing accuracy:  0.9130434782608695\n",
      "Cross validation score average:  0.7431372549019607\n",
      "Training accuracy:  0.7790697674418605\n",
      "Testing accuracy:  0.6511627906976745\n",
      "Cross validation score average:  0.6405228758169935\n",
      "Training accuracy:  0.6744186046511628\n",
      "Testing accuracy:  0.6046511627906976\n",
      "Cross validation score average:  0.7333333333333334\n",
      "Training accuracy:  0.76\n",
      "Testing accuracy:  0.6578947368421053\n",
      "Cross validation score average:  0.8084967320261438\n",
      "Training accuracy:  0.8202247191011236\n",
      "Testing accuracy:  0.6363636363636364\n",
      "Cross validation score average:  0.9549019607843137\n",
      "Training accuracy:  0.9659090909090909\n",
      "Testing accuracy:  0.9545454545454546\n",
      "Cross validation score average:  0.8724999999999999\n",
      "Training accuracy:  0.8701298701298701\n",
      "Testing accuracy:  0.8717948717948718\n",
      "Cross validation score average:  0.9333333333333333\n",
      "Training accuracy:  0.9583333333333334\n",
      "Testing accuracy:  0.8\n",
      "Cross validation score average:  0.9666666666666668\n",
      "Training accuracy:  1.0\n",
      "Testing accuracy:  0.625\n",
      "Cross validation score average:  1.0\n",
      "Training accuracy:  1.0\n",
      "Testing accuracy:  0.9285714285714286\n",
      "Cross validation score average:  0.7497076023391813\n",
      "Training accuracy:  0.7608695652173914\n",
      "Testing accuracy:  0.782608695652174\n",
      "Cross validation score average:  0.6690058479532163\n",
      "Training accuracy:  0.6923076923076923\n",
      "Testing accuracy:  0.4666666666666667\n",
      "Cross validation score average:  0.9228070175438596\n",
      "Training accuracy:  0.9230769230769231\n",
      "Testing accuracy:  0.9130434782608695\n",
      "Cross validation score average:  0.7673202614379084\n",
      "Training accuracy:  0.8023255813953488\n",
      "Testing accuracy:  0.627906976744186\n",
      "Cross validation score average:  0.6169934640522875\n",
      "Training accuracy:  0.6744186046511628\n",
      "Testing accuracy:  0.4186046511627907\n",
      "Cross validation score average:  0.7466666666666667\n",
      "Training accuracy:  0.76\n",
      "Testing accuracy:  0.5526315789473685\n",
      "Cross validation score average:  0.7875816993464052\n",
      "Training accuracy:  0.8089887640449438\n",
      "Testing accuracy:  0.6818181818181818\n",
      "Cross validation score average:  0.9320261437908496\n",
      "Training accuracy:  0.9545454545454546\n",
      "Testing accuracy:  0.9318181818181818\n",
      "Cross validation score average:  0.8700000000000001\n",
      "Training accuracy:  0.8961038961038961\n",
      "Testing accuracy:  0.6923076923076923\n",
      "Cross validation score average:  0.9800000000000001\n",
      "Training accuracy:  1.0\n",
      "Testing accuracy:  0.92\n",
      "Cross validation score average:  1.0\n",
      "Training accuracy:  1.0\n",
      "Testing accuracy:  0.4375\n",
      "Cross validation score average:  1.0\n",
      "Training accuracy:  1.0\n",
      "Testing accuracy:  0.8571428571428571\n",
      "Cross validation score average:  0.8140350877192983\n",
      "Training accuracy:  0.8369565217391305\n",
      "Testing accuracy:  0.6739130434782609\n",
      "Cross validation score average:  0.6064327485380117\n",
      "Training accuracy:  0.6263736263736264\n",
      "Testing accuracy:  0.4666666666666667\n",
      "Cross validation score average:  0.9222222222222223\n",
      "Training accuracy:  0.945054945054945\n",
      "Testing accuracy:  0.9130434782608695\n",
      "Cross validation score average:  0.777124183006536\n",
      "Training accuracy:  0.7790697674418605\n",
      "Testing accuracy:  0.6976744186046512\n",
      "Cross validation score average:  0.676470588235294\n",
      "Training accuracy:  0.7325581395348837\n",
      "Testing accuracy:  0.4883720930232558\n",
      "Cross validation score average:  0.7066666666666667\n",
      "Training accuracy:  0.7466666666666667\n",
      "Testing accuracy:  0.5\n",
      "Cross validation score average:  0.830718954248366\n",
      "Training accuracy:  0.8426966292134831\n",
      "Testing accuracy:  0.7045454545454546\n",
      "Cross validation score average:  0.9209150326797386\n",
      "Training accuracy:  0.9318181818181818\n",
      "Testing accuracy:  0.9090909090909091\n",
      "Cross validation score average:  0.7775\n",
      "Training accuracy:  0.8311688311688312\n",
      "Testing accuracy:  0.7435897435897436\n",
      "Cross validation score average:  0.96\n",
      "Training accuracy:  0.9791666666666666\n",
      "Testing accuracy:  0.84\n",
      "Cross validation score average:  1.0\n",
      "Training accuracy:  1.0\n",
      "Testing accuracy:  0.1875\n",
      "Cross validation score average:  0.96\n",
      "Training accuracy:  0.9629629629629629\n",
      "Testing accuracy:  1.0\n",
      "Cross validation score average:  0.7614035087719297\n",
      "Training accuracy:  0.782608695652174\n",
      "Testing accuracy:  0.717391304347826\n",
      "Cross validation score average:  0.6713450292397661\n",
      "Training accuracy:  0.7252747252747253\n",
      "Testing accuracy:  0.4666666666666667\n",
      "Cross validation score average:  0.9456140350877194\n",
      "Training accuracy:  0.967032967032967\n",
      "Testing accuracy:  0.9347826086956522\n",
      "Cross validation score average:  0.7797385620915032\n",
      "Training accuracy:  0.8023255813953488\n",
      "Testing accuracy:  0.5813953488372093\n",
      "Cross validation score average:  0.5810457516339869\n",
      "Training accuracy:  0.5930232558139535\n",
      "Testing accuracy:  0.4883720930232558\n",
      "Cross validation score average:  0.7733333333333334\n",
      "Training accuracy:  0.7866666666666666\n",
      "Testing accuracy:  0.6578947368421053\n",
      "Cross validation score average:  0.8084967320261438\n",
      "Training accuracy:  0.8426966292134831\n",
      "Testing accuracy:  0.6363636363636364\n",
      "Cross validation score average:  0.9666666666666666\n",
      "Training accuracy:  0.9772727272727273\n",
      "Testing accuracy:  0.9090909090909091\n",
      "Cross validation score average:  0.7775\n",
      "Training accuracy:  0.8051948051948052\n",
      "Testing accuracy:  0.6410256410256411\n",
      "Cross validation score average:  0.9199999999999999\n",
      "Training accuracy:  0.9583333333333334\n",
      "Testing accuracy:  0.96\n",
      "Cross validation score average:  1.0\n",
      "Training accuracy:  1.0\n",
      "Testing accuracy:  0.4375\n",
      "Cross validation score average:  0.9666666666666668\n",
      "Training accuracy:  0.9629629629629629\n",
      "Testing accuracy:  0.8571428571428571\n",
      "Cross validation score average:  0.7719298245614035\n",
      "Training accuracy:  0.7934782608695652\n",
      "Testing accuracy:  0.6739130434782609\n",
      "Cross validation score average:  0.7029239766081872\n",
      "Training accuracy:  0.7032967032967034\n",
      "Testing accuracy:  0.6\n",
      "Cross validation score average:  0.9339181286549707\n",
      "Training accuracy:  0.9560439560439561\n",
      "Testing accuracy:  0.9347826086956522\n",
      "Cross validation score average:  0.7777777777777778\n",
      "Training accuracy:  0.813953488372093\n",
      "Testing accuracy:  0.627906976744186\n",
      "Cross validation score average:  0.6274509803921569\n",
      "Training accuracy:  0.6395348837209303\n",
      "Testing accuracy:  0.6046511627906976\n",
      "Cross validation score average:  0.8\n",
      "Training accuracy:  0.84\n",
      "Testing accuracy:  0.42105263157894735\n",
      "Cross validation score average:  0.707843137254902\n",
      "Training accuracy:  0.7303370786516854\n",
      "Testing accuracy:  0.5909090909090909\n",
      "Cross validation score average:  1.0\n",
      "Training accuracy:  1.0\n",
      "Testing accuracy:  0.8636363636363636\n"
     ]
    },
    {
     "name": "stdout",
     "output_type": "stream",
     "text": [
      "Cross validation score average:  0.8058333333333334\n",
      "Training accuracy:  0.8181818181818182\n",
      "Testing accuracy:  0.6923076923076923\n",
      "Cross validation score average:  0.9577777777777777\n",
      "Training accuracy:  0.9583333333333334\n",
      "Testing accuracy:  0.88\n",
      "Cross validation score average:  1.0\n",
      "Training accuracy:  1.0\n",
      "Testing accuracy:  0.5\n",
      "Cross validation score average:  1.0\n",
      "Training accuracy:  1.0\n",
      "Testing accuracy:  0.5\n",
      "Cross validation score average:  0.7742690058479533\n",
      "Training accuracy:  0.8043478260869565\n",
      "Testing accuracy:  0.717391304347826\n",
      "Cross validation score average:  0.6801169590643276\n",
      "Training accuracy:  0.7472527472527473\n",
      "Testing accuracy:  0.5777777777777777\n",
      "Cross validation score average:  0.9023391812865498\n",
      "Training accuracy:  0.9120879120879121\n",
      "Testing accuracy:  0.8478260869565217\n",
      "Cross validation score average:  0.8366013071895425\n",
      "Training accuracy:  0.8255813953488372\n",
      "Testing accuracy:  0.5813953488372093\n",
      "Cross validation score average:  0.6143790849673202\n",
      "Training accuracy:  0.7209302325581395\n",
      "Testing accuracy:  0.5581395348837209\n",
      "Cross validation score average:  0.7333333333333334\n",
      "Training accuracy:  0.76\n",
      "Testing accuracy:  0.5526315789473685\n",
      "Cross validation score average:  0.7980392156862746\n",
      "Training accuracy:  0.8202247191011236\n",
      "Testing accuracy:  0.75\n",
      "Cross validation score average:  0.9424836601307189\n",
      "Training accuracy:  0.9545454545454546\n",
      "Testing accuracy:  0.9090909090909091\n",
      "Cross validation score average:  0.8325000000000001\n",
      "Training accuracy:  0.8311688311688312\n",
      "Testing accuracy:  0.8461538461538461\n",
      "Cross validation score average:  0.9177777777777777\n",
      "Training accuracy:  0.9375\n",
      "Testing accuracy:  0.92\n",
      "Cross validation score average:  1.0\n",
      "Training accuracy:  0.967741935483871\n",
      "Testing accuracy:  0.5\n",
      "Cross validation score average:  1.0\n",
      "Training accuracy:  1.0\n",
      "Testing accuracy:  0.8571428571428571\n",
      "Cross validation score average:  0.8140350877192983\n",
      "Training accuracy:  0.8152173913043478\n",
      "Testing accuracy:  0.782608695652174\n",
      "Cross validation score average:  0.6818713450292397\n",
      "Training accuracy:  0.7142857142857143\n",
      "Testing accuracy:  0.5111111111111111\n",
      "Cross validation score average:  0.9228070175438596\n",
      "Training accuracy:  0.945054945054945\n",
      "Testing accuracy:  0.8695652173913043\n",
      "Cross validation score average:  0.7679738562091504\n",
      "Training accuracy:  0.7674418604651163\n",
      "Testing accuracy:  0.6511627906976745\n",
      "Cross validation score average:  0.5928104575163399\n",
      "Training accuracy:  0.686046511627907\n",
      "Testing accuracy:  0.5348837209302325\n",
      "Cross validation score average:  0.7866666666666667\n",
      "Training accuracy:  0.7866666666666666\n",
      "Testing accuracy:  0.5526315789473685\n",
      "Cross validation score average:  0.842483660130719\n",
      "Training accuracy:  0.8539325842696629\n",
      "Testing accuracy:  0.6363636363636364\n",
      "Cross validation score average:  0.9882352941176471\n",
      "Training accuracy:  0.9886363636363636\n",
      "Testing accuracy:  0.8636363636363636\n",
      "Cross validation score average:  0.8166666666666668\n",
      "Training accuracy:  0.8311688311688312\n",
      "Testing accuracy:  0.7435897435897436\n",
      "Cross validation score average:  0.8977777777777778\n",
      "Training accuracy:  0.8958333333333334\n",
      "Testing accuracy:  0.96\n",
      "Cross validation score average:  0.9714285714285715\n",
      "Training accuracy:  0.967741935483871\n",
      "Testing accuracy:  0.5625\n",
      "Cross validation score average:  1.0\n",
      "Training accuracy:  1.0\n",
      "Testing accuracy:  0.7857142857142857\n",
      "Cross validation score average:  0.7929824561403508\n",
      "Training accuracy:  0.8043478260869565\n",
      "Testing accuracy:  0.7608695652173914\n",
      "Cross validation score average:  0.7473684210526316\n",
      "Training accuracy:  0.7472527472527473\n",
      "Testing accuracy:  0.4444444444444444\n",
      "Cross validation score average:  0.9116959064327486\n",
      "Training accuracy:  0.945054945054945\n",
      "Testing accuracy:  0.8695652173913043\n",
      "Cross validation score average:  0.7437908496732026\n",
      "Training accuracy:  0.7558139534883721\n",
      "Testing accuracy:  0.6744186046511628\n",
      "Cross validation score average:  0.6758169934640523\n",
      "Training accuracy:  0.7093023255813954\n",
      "Testing accuracy:  0.6046511627906976\n",
      "Cross validation score average:  0.8\n",
      "Training accuracy:  0.76\n",
      "Testing accuracy:  0.39473684210526316\n",
      "Cross validation score average:  0.8202614379084968\n",
      "Training accuracy:  0.8314606741573034\n",
      "Testing accuracy:  0.8181818181818182\n",
      "Cross validation score average:  0.95359477124183\n",
      "Training accuracy:  0.9431818181818182\n",
      "Testing accuracy:  0.9318181818181818\n",
      "Cross validation score average:  0.8066666666666669\n",
      "Training accuracy:  0.8181818181818182\n",
      "Testing accuracy:  0.6666666666666666\n",
      "Cross validation score average:  0.8933333333333333\n",
      "Training accuracy:  0.9166666666666666\n",
      "Testing accuracy:  0.96\n",
      "Cross validation score average:  1.0\n",
      "Training accuracy:  1.0\n",
      "Testing accuracy:  0.5625\n",
      "Cross validation score average:  1.0\n",
      "Training accuracy:  1.0\n",
      "Testing accuracy:  0.7857142857142857\n",
      "Cross validation score average:  0.783625730994152\n",
      "Training accuracy:  0.8043478260869565\n",
      "Testing accuracy:  0.8043478260869565\n",
      "Cross validation score average:  0.6140350877192983\n",
      "Training accuracy:  0.7032967032967034\n",
      "Testing accuracy:  0.5777777777777777\n",
      "Cross validation score average:  0.9239766081871345\n",
      "Training accuracy:  0.9230769230769231\n",
      "Testing accuracy:  0.8695652173913043\n",
      "Cross validation score average:  0.7326797385620916\n",
      "Training accuracy:  0.7906976744186046\n",
      "Testing accuracy:  0.5348837209302325\n",
      "Cross validation score average:  0.6509803921568627\n",
      "Training accuracy:  0.6744186046511628\n",
      "Testing accuracy:  0.6046511627906976\n",
      "Cross validation score average:  0.7466666666666667\n",
      "Training accuracy:  0.7733333333333333\n",
      "Testing accuracy:  0.39473684210526316\n",
      "Cross validation score average:  0.7973856209150327\n",
      "Training accuracy:  0.797752808988764\n",
      "Testing accuracy:  0.7045454545454546\n",
      "Cross validation score average:  0.9764705882352942\n",
      "Training accuracy:  0.9772727272727273\n",
      "Testing accuracy:  0.9772727272727273\n",
      "Cross validation score average:  0.79\n",
      "Training accuracy:  0.8181818181818182\n",
      "Testing accuracy:  0.7435897435897436\n",
      "Cross validation score average:  0.9577777777777777\n",
      "Training accuracy:  0.9375\n",
      "Testing accuracy:  0.88\n",
      "Cross validation score average:  0.9666666666666668\n",
      "Training accuracy:  0.967741935483871\n",
      "Testing accuracy:  0.5\n",
      "Cross validation score average:  0.9666666666666668\n",
      "Training accuracy:  1.0\n",
      "Testing accuracy:  1.0\n"
     ]
    }
   ],
   "source": [
    "## results records training accuracy, cross validation average score, and testing accuracy for each subject\n",
    "results = np.zeros((num_experiment, len(all_data_paths), 3))\n",
    "\n",
    "for j in range(num_experiment):\n",
    "    for i, data_path in enumerate(all_data_paths):\n",
    "        \n",
    "        ## Load data\n",
    "        data_npz = np.load(data_path)\n",
    "        data = data_npz['processed_motor_imagery_data']\n",
    "        labels = data_npz['descriptions']\n",
    "        \n",
    "        ## Extract left and right hand epochs\n",
    "        data = data[np.any([labels == label_left_hand, labels == label_right_hand], axis=0)]\n",
    "        labels = labels[np.any([labels == label_left_hand, labels == label_right_hand], axis=0)]\n",
    "        \n",
    "        ## Prepare training and testing data\n",
    "        X_train, X_test, y_train, y_test = train_test_split(data, \n",
    "                                                            labels, \n",
    "                                                            test_size=test_split, \n",
    "                                                            shuffle=True,\n",
    "                                                            random_state=j)\n",
    "        \n",
    "        ## Classification\n",
    "        clf = csp.CSP_LDA_classifier(X_train, y_train, cross_val=num_cross_val)\n",
    "        cross_val_score_avg = clf.train_binary()\n",
    "        predictions, train_accuracy = clf.test_binary()\n",
    "        predictions, test_accuracy = clf.test_binary(X_test, y_test)\n",
    "        results[j, i, :] = [train_accuracy, cross_val_score_avg, test_accuracy]"
   ]
  },
  {
   "cell_type": "code",
   "execution_count": 20,
   "id": "eb8783ef",
   "metadata": {},
   "outputs": [
    {
     "name": "stdout",
     "output_type": "stream",
     "text": [
      "[[[0.80434783 0.78187135 0.69565217]\n",
      "  [0.7032967  0.65964912 0.51111111]\n",
      "  [0.95604396 0.95614035 0.84782609]\n",
      "  [0.8255814  0.8248366  0.55813953]\n",
      "  [0.63953488 0.59215686 0.62790698]\n",
      "  [0.89333333 0.88       0.44736842]\n",
      "  [0.82022472 0.81830065 0.65909091]\n",
      "  [0.95454545 0.95555556 0.86363636]\n",
      "  [0.83116883 0.83166667 0.74358974]\n",
      "  [0.95833333 0.93555556 0.92      ]\n",
      "  [1.         0.93809524 0.5625    ]\n",
      "  [0.88888889 0.88666667 0.78571429]]\n",
      "\n",
      " [[0.81521739 0.80292398 0.7826087 ]\n",
      "  [0.7032967  0.62807018 0.53333333]\n",
      "  [0.93406593 0.9245614  0.91304348]\n",
      "  [0.77906977 0.74313725 0.65116279]\n",
      "  [0.6744186  0.64052288 0.60465116]\n",
      "  [0.76       0.73333333 0.65789474]\n",
      "  [0.82022472 0.80849673 0.63636364]\n",
      "  [0.96590909 0.95490196 0.95454545]\n",
      "  [0.87012987 0.8725     0.87179487]\n",
      "  [0.95833333 0.93333333 0.8       ]\n",
      "  [1.         0.96666667 0.625     ]\n",
      "  [1.         1.         0.92857143]]\n",
      "\n",
      " [[0.76086957 0.7497076  0.7826087 ]\n",
      "  [0.69230769 0.66900585 0.46666667]\n",
      "  [0.92307692 0.92280702 0.91304348]\n",
      "  [0.80232558 0.76732026 0.62790698]\n",
      "  [0.6744186  0.61699346 0.41860465]\n",
      "  [0.76       0.74666667 0.55263158]\n",
      "  [0.80898876 0.7875817  0.68181818]\n",
      "  [0.95454545 0.93202614 0.93181818]\n",
      "  [0.8961039  0.87       0.69230769]\n",
      "  [1.         0.98       0.92      ]\n",
      "  [1.         1.         0.4375    ]\n",
      "  [1.         1.         0.85714286]]\n",
      "\n",
      " [[0.83695652 0.81403509 0.67391304]\n",
      "  [0.62637363 0.60643275 0.46666667]\n",
      "  [0.94505495 0.92222222 0.91304348]\n",
      "  [0.77906977 0.77712418 0.69767442]\n",
      "  [0.73255814 0.67647059 0.48837209]\n",
      "  [0.74666667 0.70666667 0.5       ]\n",
      "  [0.84269663 0.83071895 0.70454545]\n",
      "  [0.93181818 0.92091503 0.90909091]\n",
      "  [0.83116883 0.7775     0.74358974]\n",
      "  [0.97916667 0.96       0.84      ]\n",
      "  [1.         1.         0.1875    ]\n",
      "  [0.96296296 0.96       1.        ]]\n",
      "\n",
      " [[0.7826087  0.76140351 0.7173913 ]\n",
      "  [0.72527473 0.67134503 0.46666667]\n",
      "  [0.96703297 0.94561404 0.93478261]\n",
      "  [0.80232558 0.77973856 0.58139535]\n",
      "  [0.59302326 0.58104575 0.48837209]\n",
      "  [0.78666667 0.77333333 0.65789474]\n",
      "  [0.84269663 0.80849673 0.63636364]\n",
      "  [0.97727273 0.96666667 0.90909091]\n",
      "  [0.80519481 0.7775     0.64102564]\n",
      "  [0.95833333 0.92       0.96      ]\n",
      "  [1.         1.         0.4375    ]\n",
      "  [0.96296296 0.96666667 0.85714286]]\n",
      "\n",
      " [[0.79347826 0.77192982 0.67391304]\n",
      "  [0.7032967  0.70292398 0.6       ]\n",
      "  [0.95604396 0.93391813 0.93478261]\n",
      "  [0.81395349 0.77777778 0.62790698]\n",
      "  [0.63953488 0.62745098 0.60465116]\n",
      "  [0.84       0.8        0.42105263]\n",
      "  [0.73033708 0.70784314 0.59090909]\n",
      "  [1.         1.         0.86363636]\n",
      "  [0.81818182 0.80583333 0.69230769]\n",
      "  [0.95833333 0.95777778 0.88      ]\n",
      "  [1.         1.         0.5       ]\n",
      "  [1.         1.         0.5       ]]\n",
      "\n",
      " [[0.80434783 0.77426901 0.7173913 ]\n",
      "  [0.74725275 0.68011696 0.57777778]\n",
      "  [0.91208791 0.90233918 0.84782609]\n",
      "  [0.8255814  0.83660131 0.58139535]\n",
      "  [0.72093023 0.61437908 0.55813953]\n",
      "  [0.76       0.73333333 0.55263158]\n",
      "  [0.82022472 0.79803922 0.75      ]\n",
      "  [0.95454545 0.94248366 0.90909091]\n",
      "  [0.83116883 0.8325     0.84615385]\n",
      "  [0.9375     0.91777778 0.92      ]\n",
      "  [0.96774194 1.         0.5       ]\n",
      "  [1.         1.         0.85714286]]\n",
      "\n",
      " [[0.81521739 0.81403509 0.7826087 ]\n",
      "  [0.71428571 0.68187135 0.51111111]\n",
      "  [0.94505495 0.92280702 0.86956522]\n",
      "  [0.76744186 0.76797386 0.65116279]\n",
      "  [0.68604651 0.59281046 0.53488372]\n",
      "  [0.78666667 0.78666667 0.55263158]\n",
      "  [0.85393258 0.84248366 0.63636364]\n",
      "  [0.98863636 0.98823529 0.86363636]\n",
      "  [0.83116883 0.81666667 0.74358974]\n",
      "  [0.89583333 0.89777778 0.96      ]\n",
      "  [0.96774194 0.97142857 0.5625    ]\n",
      "  [1.         1.         0.78571429]]\n",
      "\n",
      " [[0.80434783 0.79298246 0.76086957]\n",
      "  [0.74725275 0.74736842 0.44444444]\n",
      "  [0.94505495 0.91169591 0.86956522]\n",
      "  [0.75581395 0.74379085 0.6744186 ]\n",
      "  [0.70930233 0.67581699 0.60465116]\n",
      "  [0.76       0.8        0.39473684]\n",
      "  [0.83146067 0.82026144 0.81818182]\n",
      "  [0.94318182 0.95359477 0.93181818]\n",
      "  [0.81818182 0.80666667 0.66666667]\n",
      "  [0.91666667 0.89333333 0.96      ]\n",
      "  [1.         1.         0.5625    ]\n",
      "  [1.         1.         0.78571429]]\n",
      "\n",
      " [[0.80434783 0.78362573 0.80434783]\n",
      "  [0.7032967  0.61403509 0.57777778]\n",
      "  [0.92307692 0.92397661 0.86956522]\n",
      "  [0.79069767 0.73267974 0.53488372]\n",
      "  [0.6744186  0.65098039 0.60465116]\n",
      "  [0.77333333 0.74666667 0.39473684]\n",
      "  [0.79775281 0.79738562 0.70454545]\n",
      "  [0.97727273 0.97647059 0.97727273]\n",
      "  [0.81818182 0.79       0.74358974]\n",
      "  [0.9375     0.95777778 0.88      ]\n",
      "  [0.96774194 0.96666667 0.5       ]\n",
      "  [1.         0.96666667 1.        ]]]\n",
      "[[0.80217391 0.78467836 0.73913043]\n",
      " [0.70659341 0.66608187 0.51555556]\n",
      " [0.94065934 0.92660819 0.89130435]\n",
      " [0.79418605 0.77509804 0.61860465]\n",
      " [0.6744186  0.62686275 0.55348837]\n",
      " [0.78666667 0.77066667 0.51315789]\n",
      " [0.81685393 0.80196078 0.68181818]\n",
      " [0.96477273 0.95908497 0.91136364]\n",
      " [0.83506494 0.81808333 0.73846154]\n",
      " [0.95       0.93533333 0.904     ]\n",
      " [0.99032258 0.98428571 0.4875    ]\n",
      " [0.98148148 0.978      0.83571429]]\n"
     ]
    }
   ],
   "source": [
    "print(results)\n",
    "results_avg = np.mean(results, axis=0)\n",
    "print(results_avg)\n",
    "\n",
    "results_path = os.path.join(results_dir, '2_LDA_CSP.npy')\n",
    "np.save(results_path, results)"
   ]
  },
  {
   "cell_type": "markdown",
   "id": "d7b21449",
   "metadata": {},
   "source": [
    "## Binary Classification with Spectrally Adaptive CSP + LDA"
   ]
  },
  {
   "cell_type": "code",
   "execution_count": 21,
   "id": "09a6f1cd",
   "metadata": {},
   "outputs": [
    {
     "name": "stderr",
     "output_type": "stream",
     "text": [
      "/home/inffzy/Desktop/cogs189/cogs189_final_project/scripts/SACSP.py:198: ComplexWarning: Casting complex values to real discards the imaginary part\n",
      "  E[i] = trial_fourier @ np.diag(h_or_l) @ np.matrix(trial_fourier).H\n",
      "/home/inffzy/Desktop/cogs189/cogs189_final_project/scripts/SACSP.py:225: ComplexWarning: Casting complex values to real discards the imaginary part\n",
      "  E[i] = np.matrix(trial_fourier).H @ w_or_v @ w_or_v.T @ trial_fourier\n",
      "/home/inffzy/Desktop/cogs189/cogs189_final_project/scripts/SACSP.py:177: ComplexWarning: Casting complex values to real discards the imaginary part\n",
      "  E[i] = trial_fourier @ np.diag(h_or_l) @ np.matrix(trial_fourier).H\n",
      "/home/inffzy/Desktop/cogs189/cogs189_final_project/scripts/SACSP.py:410: ComplexWarning: Casting complex values to real discards the imaginary part\n",
      "  extracted_features[i, j] = extracted_feature[0, 0]\n"
     ]
    },
    {
     "name": "stdout",
     "output_type": "stream",
     "text": [
      "Cross validation score average:  0.5555555555555556\n"
     ]
    },
    {
     "name": "stderr",
     "output_type": "stream",
     "text": [
      "/home/inffzy/Desktop/cogs189/cogs189_final_project/scripts/SACSP.py:410: ComplexWarning: Casting complex values to real discards the imaginary part\n",
      "  extracted_features[i, j] = extracted_feature[0, 0]\n"
     ]
    },
    {
     "name": "stdout",
     "output_type": "stream",
     "text": [
      "Training accuracy:  0.5760869565217391\n",
      "Testing accuracy:  0.45652173913043476\n"
     ]
    },
    {
     "name": "stderr",
     "output_type": "stream",
     "text": [
      "/home/inffzy/Desktop/cogs189/cogs189_final_project/scripts/SACSP.py:410: ComplexWarning: Casting complex values to real discards the imaginary part\n",
      "  extracted_features[i, j] = extracted_feature[0, 0]\n",
      "/home/inffzy/Desktop/cogs189/cogs189_final_project/scripts/SACSP.py:198: ComplexWarning: Casting complex values to real discards the imaginary part\n",
      "  E[i] = trial_fourier @ np.diag(h_or_l) @ np.matrix(trial_fourier).H\n",
      "/home/inffzy/Desktop/cogs189/cogs189_final_project/scripts/SACSP.py:225: ComplexWarning: Casting complex values to real discards the imaginary part\n",
      "  E[i] = np.matrix(trial_fourier).H @ w_or_v @ w_or_v.T @ trial_fourier\n",
      "/home/inffzy/Desktop/cogs189/cogs189_final_project/scripts/SACSP.py:177: ComplexWarning: Casting complex values to real discards the imaginary part\n",
      "  E[i] = trial_fourier @ np.diag(h_or_l) @ np.matrix(trial_fourier).H\n",
      "/home/inffzy/Desktop/cogs189/cogs189_final_project/scripts/SACSP.py:410: ComplexWarning: Casting complex values to real discards the imaginary part\n",
      "  extracted_features[i, j] = extracted_feature[0, 0]\n"
     ]
    },
    {
     "name": "stdout",
     "output_type": "stream",
     "text": [
      "Cross validation score average:  0.5614035087719299\n"
     ]
    },
    {
     "name": "stderr",
     "output_type": "stream",
     "text": [
      "/home/inffzy/Desktop/cogs189/cogs189_final_project/scripts/SACSP.py:410: ComplexWarning: Casting complex values to real discards the imaginary part\n",
      "  extracted_features[i, j] = extracted_feature[0, 0]\n"
     ]
    },
    {
     "name": "stdout",
     "output_type": "stream",
     "text": [
      "Training accuracy:  0.5934065934065934\n",
      "Testing accuracy:  0.4888888888888889\n"
     ]
    },
    {
     "name": "stderr",
     "output_type": "stream",
     "text": [
      "/home/inffzy/Desktop/cogs189/cogs189_final_project/scripts/SACSP.py:410: ComplexWarning: Casting complex values to real discards the imaginary part\n",
      "  extracted_features[i, j] = extracted_feature[0, 0]\n",
      "/home/inffzy/Desktop/cogs189/cogs189_final_project/scripts/SACSP.py:198: ComplexWarning: Casting complex values to real discards the imaginary part\n",
      "  E[i] = trial_fourier @ np.diag(h_or_l) @ np.matrix(trial_fourier).H\n",
      "/home/inffzy/Desktop/cogs189/cogs189_final_project/scripts/SACSP.py:225: ComplexWarning: Casting complex values to real discards the imaginary part\n",
      "  E[i] = np.matrix(trial_fourier).H @ w_or_v @ w_or_v.T @ trial_fourier\n",
      "/home/inffzy/Desktop/cogs189/cogs189_final_project/scripts/SACSP.py:177: ComplexWarning: Casting complex values to real discards the imaginary part\n",
      "  E[i] = trial_fourier @ np.diag(h_or_l) @ np.matrix(trial_fourier).H\n",
      "/home/inffzy/Desktop/cogs189/cogs189_final_project/scripts/SACSP.py:410: ComplexWarning: Casting complex values to real discards the imaginary part\n",
      "  extracted_features[i, j] = extracted_feature[0, 0]\n"
     ]
    },
    {
     "name": "stdout",
     "output_type": "stream",
     "text": [
      "Cross validation score average:  0.9444444444444443\n"
     ]
    },
    {
     "name": "stderr",
     "output_type": "stream",
     "text": [
      "/home/inffzy/Desktop/cogs189/cogs189_final_project/scripts/SACSP.py:410: ComplexWarning: Casting complex values to real discards the imaginary part\n",
      "  extracted_features[i, j] = extracted_feature[0, 0]\n"
     ]
    },
    {
     "name": "stdout",
     "output_type": "stream",
     "text": [
      "Training accuracy:  0.967032967032967\n",
      "Testing accuracy:  0.8478260869565217\n"
     ]
    },
    {
     "name": "stderr",
     "output_type": "stream",
     "text": [
      "/home/inffzy/Desktop/cogs189/cogs189_final_project/scripts/SACSP.py:410: ComplexWarning: Casting complex values to real discards the imaginary part\n",
      "  extracted_features[i, j] = extracted_feature[0, 0]\n",
      "/home/inffzy/Desktop/cogs189/cogs189_final_project/scripts/SACSP.py:198: ComplexWarning: Casting complex values to real discards the imaginary part\n",
      "  E[i] = trial_fourier @ np.diag(h_or_l) @ np.matrix(trial_fourier).H\n",
      "/home/inffzy/Desktop/cogs189/cogs189_final_project/scripts/SACSP.py:225: ComplexWarning: Casting complex values to real discards the imaginary part\n",
      "  E[i] = np.matrix(trial_fourier).H @ w_or_v @ w_or_v.T @ trial_fourier\n",
      "/home/inffzy/Desktop/cogs189/cogs189_final_project/scripts/SACSP.py:177: ComplexWarning: Casting complex values to real discards the imaginary part\n",
      "  E[i] = trial_fourier @ np.diag(h_or_l) @ np.matrix(trial_fourier).H\n",
      "/home/inffzy/Desktop/cogs189/cogs189_final_project/scripts/SACSP.py:410: ComplexWarning: Casting complex values to real discards the imaginary part\n",
      "  extracted_features[i, j] = extracted_feature[0, 0]\n"
     ]
    },
    {
     "name": "stdout",
     "output_type": "stream",
     "text": [
      "Cross validation score average:  0.5816993464052288\n"
     ]
    },
    {
     "name": "stderr",
     "output_type": "stream",
     "text": [
      "/home/inffzy/Desktop/cogs189/cogs189_final_project/scripts/SACSP.py:410: ComplexWarning: Casting complex values to real discards the imaginary part\n",
      "  extracted_features[i, j] = extracted_feature[0, 0]\n"
     ]
    },
    {
     "name": "stdout",
     "output_type": "stream",
     "text": [
      "Training accuracy:  0.6162790697674418\n",
      "Testing accuracy:  0.46511627906976744\n"
     ]
    },
    {
     "name": "stderr",
     "output_type": "stream",
     "text": [
      "/home/inffzy/Desktop/cogs189/cogs189_final_project/scripts/SACSP.py:410: ComplexWarning: Casting complex values to real discards the imaginary part\n",
      "  extracted_features[i, j] = extracted_feature[0, 0]\n",
      "/home/inffzy/Desktop/cogs189/cogs189_final_project/scripts/SACSP.py:198: ComplexWarning: Casting complex values to real discards the imaginary part\n",
      "  E[i] = trial_fourier @ np.diag(h_or_l) @ np.matrix(trial_fourier).H\n",
      "/home/inffzy/Desktop/cogs189/cogs189_final_project/scripts/SACSP.py:225: ComplexWarning: Casting complex values to real discards the imaginary part\n",
      "  E[i] = np.matrix(trial_fourier).H @ w_or_v @ w_or_v.T @ trial_fourier\n",
      "/home/inffzy/Desktop/cogs189/cogs189_final_project/scripts/SACSP.py:177: ComplexWarning: Casting complex values to real discards the imaginary part\n",
      "  E[i] = trial_fourier @ np.diag(h_or_l) @ np.matrix(trial_fourier).H\n",
      "/home/inffzy/Desktop/cogs189/cogs189_final_project/scripts/SACSP.py:410: ComplexWarning: Casting complex values to real discards the imaginary part\n",
      "  extracted_features[i, j] = extracted_feature[0, 0]\n"
     ]
    },
    {
     "name": "stdout",
     "output_type": "stream",
     "text": [
      "Cross validation score average:  0.5941176470588235\n"
     ]
    },
    {
     "name": "stderr",
     "output_type": "stream",
     "text": [
      "/home/inffzy/Desktop/cogs189/cogs189_final_project/scripts/SACSP.py:410: ComplexWarning: Casting complex values to real discards the imaginary part\n",
      "  extracted_features[i, j] = extracted_feature[0, 0]\n"
     ]
    },
    {
     "name": "stdout",
     "output_type": "stream",
     "text": [
      "Training accuracy:  0.6046511627906976\n",
      "Testing accuracy:  0.4186046511627907\n"
     ]
    },
    {
     "name": "stderr",
     "output_type": "stream",
     "text": [
      "/home/inffzy/Desktop/cogs189/cogs189_final_project/scripts/SACSP.py:410: ComplexWarning: Casting complex values to real discards the imaginary part\n",
      "  extracted_features[i, j] = extracted_feature[0, 0]\n",
      "/home/inffzy/Desktop/cogs189/cogs189_final_project/scripts/SACSP.py:198: ComplexWarning: Casting complex values to real discards the imaginary part\n",
      "  E[i] = trial_fourier @ np.diag(h_or_l) @ np.matrix(trial_fourier).H\n",
      "/home/inffzy/Desktop/cogs189/cogs189_final_project/scripts/SACSP.py:225: ComplexWarning: Casting complex values to real discards the imaginary part\n",
      "  E[i] = np.matrix(trial_fourier).H @ w_or_v @ w_or_v.T @ trial_fourier\n",
      "/home/inffzy/Desktop/cogs189/cogs189_final_project/scripts/SACSP.py:177: ComplexWarning: Casting complex values to real discards the imaginary part\n",
      "  E[i] = trial_fourier @ np.diag(h_or_l) @ np.matrix(trial_fourier).H\n",
      "/home/inffzy/Desktop/cogs189/cogs189_final_project/scripts/SACSP.py:410: ComplexWarning: Casting complex values to real discards the imaginary part\n",
      "  extracted_features[i, j] = extracted_feature[0, 0]\n"
     ]
    },
    {
     "name": "stdout",
     "output_type": "stream",
     "text": [
      "Cross validation score average:  0.5466666666666666\n"
     ]
    },
    {
     "name": "stderr",
     "output_type": "stream",
     "text": [
      "/home/inffzy/Desktop/cogs189/cogs189_final_project/scripts/SACSP.py:410: ComplexWarning: Casting complex values to real discards the imaginary part\n",
      "  extracted_features[i, j] = extracted_feature[0, 0]\n"
     ]
    },
    {
     "name": "stdout",
     "output_type": "stream",
     "text": [
      "Training accuracy:  0.6133333333333333\n",
      "Testing accuracy:  0.34210526315789475\n"
     ]
    },
    {
     "name": "stderr",
     "output_type": "stream",
     "text": [
      "/home/inffzy/Desktop/cogs189/cogs189_final_project/scripts/SACSP.py:410: ComplexWarning: Casting complex values to real discards the imaginary part\n",
      "  extracted_features[i, j] = extracted_feature[0, 0]\n",
      "/home/inffzy/Desktop/cogs189/cogs189_final_project/scripts/SACSP.py:198: ComplexWarning: Casting complex values to real discards the imaginary part\n",
      "  E[i] = trial_fourier @ np.diag(h_or_l) @ np.matrix(trial_fourier).H\n",
      "/home/inffzy/Desktop/cogs189/cogs189_final_project/scripts/SACSP.py:225: ComplexWarning: Casting complex values to real discards the imaginary part\n",
      "  E[i] = np.matrix(trial_fourier).H @ w_or_v @ w_or_v.T @ trial_fourier\n",
      "/home/inffzy/Desktop/cogs189/cogs189_final_project/scripts/SACSP.py:177: ComplexWarning: Casting complex values to real discards the imaginary part\n",
      "  E[i] = trial_fourier @ np.diag(h_or_l) @ np.matrix(trial_fourier).H\n",
      "/home/inffzy/Desktop/cogs189/cogs189_final_project/scripts/SACSP.py:410: ComplexWarning: Casting complex values to real discards the imaginary part\n",
      "  extracted_features[i, j] = extracted_feature[0, 0]\n"
     ]
    },
    {
     "name": "stdout",
     "output_type": "stream",
     "text": [
      "Cross validation score average:  0.5065359477124183\n"
     ]
    },
    {
     "name": "stderr",
     "output_type": "stream",
     "text": [
      "/home/inffzy/Desktop/cogs189/cogs189_final_project/scripts/SACSP.py:410: ComplexWarning: Casting complex values to real discards the imaginary part\n",
      "  extracted_features[i, j] = extracted_feature[0, 0]\n"
     ]
    },
    {
     "name": "stdout",
     "output_type": "stream",
     "text": [
      "Training accuracy:  0.5842696629213483\n",
      "Testing accuracy:  0.5909090909090909\n"
     ]
    },
    {
     "name": "stderr",
     "output_type": "stream",
     "text": [
      "/home/inffzy/Desktop/cogs189/cogs189_final_project/scripts/SACSP.py:410: ComplexWarning: Casting complex values to real discards the imaginary part\n",
      "  extracted_features[i, j] = extracted_feature[0, 0]\n",
      "/home/inffzy/Desktop/cogs189/cogs189_final_project/scripts/SACSP.py:198: ComplexWarning: Casting complex values to real discards the imaginary part\n",
      "  E[i] = trial_fourier @ np.diag(h_or_l) @ np.matrix(trial_fourier).H\n",
      "/home/inffzy/Desktop/cogs189/cogs189_final_project/scripts/SACSP.py:225: ComplexWarning: Casting complex values to real discards the imaginary part\n",
      "  E[i] = np.matrix(trial_fourier).H @ w_or_v @ w_or_v.T @ trial_fourier\n",
      "/home/inffzy/Desktop/cogs189/cogs189_final_project/scripts/SACSP.py:177: ComplexWarning: Casting complex values to real discards the imaginary part\n",
      "  E[i] = trial_fourier @ np.diag(h_or_l) @ np.matrix(trial_fourier).H\n",
      "/home/inffzy/Desktop/cogs189/cogs189_final_project/scripts/SACSP.py:410: ComplexWarning: Casting complex values to real discards the imaginary part\n",
      "  extracted_features[i, j] = extracted_feature[0, 0]\n"
     ]
    },
    {
     "name": "stdout",
     "output_type": "stream",
     "text": [
      "Cross validation score average:  0.9326797385620915\n"
     ]
    },
    {
     "name": "stderr",
     "output_type": "stream",
     "text": [
      "/home/inffzy/Desktop/cogs189/cogs189_final_project/scripts/SACSP.py:410: ComplexWarning: Casting complex values to real discards the imaginary part\n",
      "  extracted_features[i, j] = extracted_feature[0, 0]\n"
     ]
    },
    {
     "name": "stdout",
     "output_type": "stream",
     "text": [
      "Training accuracy:  0.9318181818181818\n",
      "Testing accuracy:  0.8636363636363636\n"
     ]
    },
    {
     "name": "stderr",
     "output_type": "stream",
     "text": [
      "/home/inffzy/Desktop/cogs189/cogs189_final_project/scripts/SACSP.py:410: ComplexWarning: Casting complex values to real discards the imaginary part\n",
      "  extracted_features[i, j] = extracted_feature[0, 0]\n",
      "/home/inffzy/Desktop/cogs189/cogs189_final_project/scripts/SACSP.py:198: ComplexWarning: Casting complex values to real discards the imaginary part\n",
      "  E[i] = trial_fourier @ np.diag(h_or_l) @ np.matrix(trial_fourier).H\n",
      "/home/inffzy/Desktop/cogs189/cogs189_final_project/scripts/SACSP.py:225: ComplexWarning: Casting complex values to real discards the imaginary part\n",
      "  E[i] = np.matrix(trial_fourier).H @ w_or_v @ w_or_v.T @ trial_fourier\n",
      "/home/inffzy/Desktop/cogs189/cogs189_final_project/scripts/SACSP.py:177: ComplexWarning: Casting complex values to real discards the imaginary part\n",
      "  E[i] = trial_fourier @ np.diag(h_or_l) @ np.matrix(trial_fourier).H\n",
      "/home/inffzy/Desktop/cogs189/cogs189_final_project/scripts/SACSP.py:410: ComplexWarning: Casting complex values to real discards the imaginary part\n",
      "  extracted_features[i, j] = extracted_feature[0, 0]\n"
     ]
    },
    {
     "name": "stdout",
     "output_type": "stream",
     "text": [
      "Cross validation score average:  0.6483333333333332\n"
     ]
    },
    {
     "name": "stderr",
     "output_type": "stream",
     "text": [
      "/home/inffzy/Desktop/cogs189/cogs189_final_project/scripts/SACSP.py:410: ComplexWarning: Casting complex values to real discards the imaginary part\n",
      "  extracted_features[i, j] = extracted_feature[0, 0]\n"
     ]
    },
    {
     "name": "stdout",
     "output_type": "stream",
     "text": [
      "Training accuracy:  0.6493506493506493\n",
      "Testing accuracy:  0.717948717948718\n"
     ]
    },
    {
     "name": "stderr",
     "output_type": "stream",
     "text": [
      "/home/inffzy/Desktop/cogs189/cogs189_final_project/scripts/SACSP.py:410: ComplexWarning: Casting complex values to real discards the imaginary part\n",
      "  extracted_features[i, j] = extracted_feature[0, 0]\n",
      "/home/inffzy/Desktop/cogs189/cogs189_final_project/scripts/SACSP.py:198: ComplexWarning: Casting complex values to real discards the imaginary part\n",
      "  E[i] = trial_fourier @ np.diag(h_or_l) @ np.matrix(trial_fourier).H\n",
      "/home/inffzy/Desktop/cogs189/cogs189_final_project/scripts/SACSP.py:225: ComplexWarning: Casting complex values to real discards the imaginary part\n",
      "  E[i] = np.matrix(trial_fourier).H @ w_or_v @ w_or_v.T @ trial_fourier\n",
      "/home/inffzy/Desktop/cogs189/cogs189_final_project/scripts/SACSP.py:177: ComplexWarning: Casting complex values to real discards the imaginary part\n",
      "  E[i] = trial_fourier @ np.diag(h_or_l) @ np.matrix(trial_fourier).H\n",
      "/home/inffzy/Desktop/cogs189/cogs189_final_project/scripts/SACSP.py:410: ComplexWarning: Casting complex values to real discards the imaginary part\n",
      "  extracted_features[i, j] = extracted_feature[0, 0]\n",
      "/home/inffzy/Desktop/cogs189/cogs189_final_project/scripts/SACSP.py:410: ComplexWarning: Casting complex values to real discards the imaginary part\n",
      "  extracted_features[i, j] = extracted_feature[0, 0]\n"
     ]
    },
    {
     "name": "stdout",
     "output_type": "stream",
     "text": [
      "Cross validation score average:  0.7911111111111111\n",
      "Training accuracy:  0.8125\n"
     ]
    },
    {
     "name": "stderr",
     "output_type": "stream",
     "text": [
      "/home/inffzy/Desktop/cogs189/cogs189_final_project/scripts/SACSP.py:410: ComplexWarning: Casting complex values to real discards the imaginary part\n",
      "  extracted_features[i, j] = extracted_feature[0, 0]\n",
      "/home/inffzy/Desktop/cogs189/cogs189_final_project/scripts/SACSP.py:198: ComplexWarning: Casting complex values to real discards the imaginary part\n",
      "  E[i] = trial_fourier @ np.diag(h_or_l) @ np.matrix(trial_fourier).H\n",
      "/home/inffzy/Desktop/cogs189/cogs189_final_project/scripts/SACSP.py:225: ComplexWarning: Casting complex values to real discards the imaginary part\n",
      "  E[i] = np.matrix(trial_fourier).H @ w_or_v @ w_or_v.T @ trial_fourier\n",
      "/home/inffzy/Desktop/cogs189/cogs189_final_project/scripts/SACSP.py:177: ComplexWarning: Casting complex values to real discards the imaginary part\n",
      "  E[i] = trial_fourier @ np.diag(h_or_l) @ np.matrix(trial_fourier).H\n"
     ]
    },
    {
     "name": "stdout",
     "output_type": "stream",
     "text": [
      "Testing accuracy:  0.6\n"
     ]
    },
    {
     "name": "stderr",
     "output_type": "stream",
     "text": [
      "/home/inffzy/Desktop/cogs189/cogs189_final_project/scripts/SACSP.py:410: ComplexWarning: Casting complex values to real discards the imaginary part\n",
      "  extracted_features[i, j] = extracted_feature[0, 0]\n",
      "/home/inffzy/Desktop/cogs189/cogs189_final_project/scripts/SACSP.py:410: ComplexWarning: Casting complex values to real discards the imaginary part\n",
      "  extracted_features[i, j] = extracted_feature[0, 0]\n"
     ]
    },
    {
     "name": "stdout",
     "output_type": "stream",
     "text": [
      "Cross validation score average:  0.719047619047619\n",
      "Training accuracy:  0.7419354838709677\n",
      "Testing accuracy:  0.5\n"
     ]
    },
    {
     "name": "stderr",
     "output_type": "stream",
     "text": [
      "/home/inffzy/Desktop/cogs189/cogs189_final_project/scripts/SACSP.py:410: ComplexWarning: Casting complex values to real discards the imaginary part\n",
      "  extracted_features[i, j] = extracted_feature[0, 0]\n",
      "/home/inffzy/Desktop/cogs189/cogs189_final_project/scripts/SACSP.py:198: ComplexWarning: Casting complex values to real discards the imaginary part\n",
      "  E[i] = trial_fourier @ np.diag(h_or_l) @ np.matrix(trial_fourier).H\n",
      "/home/inffzy/Desktop/cogs189/cogs189_final_project/scripts/SACSP.py:225: ComplexWarning: Casting complex values to real discards the imaginary part\n",
      "  E[i] = np.matrix(trial_fourier).H @ w_or_v @ w_or_v.T @ trial_fourier\n",
      "/home/inffzy/Desktop/cogs189/cogs189_final_project/scripts/SACSP.py:177: ComplexWarning: Casting complex values to real discards the imaginary part\n",
      "  E[i] = trial_fourier @ np.diag(h_or_l) @ np.matrix(trial_fourier).H\n",
      "/home/inffzy/Desktop/cogs189/cogs189_final_project/scripts/SACSP.py:410: ComplexWarning: Casting complex values to real discards the imaginary part\n",
      "  extracted_features[i, j] = extracted_feature[0, 0]\n",
      "/home/inffzy/Desktop/cogs189/cogs189_final_project/scripts/SACSP.py:410: ComplexWarning: Casting complex values to real discards the imaginary part\n",
      "  extracted_features[i, j] = extracted_feature[0, 0]\n"
     ]
    },
    {
     "name": "stdout",
     "output_type": "stream",
     "text": [
      "Cross validation score average:  0.8400000000000001\n",
      "Training accuracy:  0.8888888888888888\n",
      "Testing accuracy:  0.5714285714285714\n"
     ]
    },
    {
     "name": "stderr",
     "output_type": "stream",
     "text": [
      "/home/inffzy/Desktop/cogs189/cogs189_final_project/scripts/SACSP.py:410: ComplexWarning: Casting complex values to real discards the imaginary part\n",
      "  extracted_features[i, j] = extracted_feature[0, 0]\n",
      "/home/inffzy/Desktop/cogs189/cogs189_final_project/scripts/SACSP.py:198: ComplexWarning: Casting complex values to real discards the imaginary part\n",
      "  E[i] = trial_fourier @ np.diag(h_or_l) @ np.matrix(trial_fourier).H\n",
      "/home/inffzy/Desktop/cogs189/cogs189_final_project/scripts/SACSP.py:225: ComplexWarning: Casting complex values to real discards the imaginary part\n",
      "  E[i] = np.matrix(trial_fourier).H @ w_or_v @ w_or_v.T @ trial_fourier\n",
      "/home/inffzy/Desktop/cogs189/cogs189_final_project/scripts/SACSP.py:177: ComplexWarning: Casting complex values to real discards the imaginary part\n",
      "  E[i] = trial_fourier @ np.diag(h_or_l) @ np.matrix(trial_fourier).H\n",
      "/home/inffzy/Desktop/cogs189/cogs189_final_project/scripts/SACSP.py:410: ComplexWarning: Casting complex values to real discards the imaginary part\n",
      "  extracted_features[i, j] = extracted_feature[0, 0]\n"
     ]
    },
    {
     "name": "stdout",
     "output_type": "stream",
     "text": [
      "Cross validation score average:  0.552046783625731\n"
     ]
    },
    {
     "name": "stderr",
     "output_type": "stream",
     "text": [
      "/home/inffzy/Desktop/cogs189/cogs189_final_project/scripts/SACSP.py:410: ComplexWarning: Casting complex values to real discards the imaginary part\n",
      "  extracted_features[i, j] = extracted_feature[0, 0]\n"
     ]
    },
    {
     "name": "stdout",
     "output_type": "stream",
     "text": [
      "Training accuracy:  0.5434782608695652\n",
      "Testing accuracy:  0.5217391304347826\n"
     ]
    },
    {
     "name": "stderr",
     "output_type": "stream",
     "text": [
      "/home/inffzy/Desktop/cogs189/cogs189_final_project/scripts/SACSP.py:410: ComplexWarning: Casting complex values to real discards the imaginary part\n",
      "  extracted_features[i, j] = extracted_feature[0, 0]\n",
      "/home/inffzy/Desktop/cogs189/cogs189_final_project/scripts/SACSP.py:198: ComplexWarning: Casting complex values to real discards the imaginary part\n",
      "  E[i] = trial_fourier @ np.diag(h_or_l) @ np.matrix(trial_fourier).H\n",
      "/home/inffzy/Desktop/cogs189/cogs189_final_project/scripts/SACSP.py:225: ComplexWarning: Casting complex values to real discards the imaginary part\n",
      "  E[i] = np.matrix(trial_fourier).H @ w_or_v @ w_or_v.T @ trial_fourier\n",
      "/home/inffzy/Desktop/cogs189/cogs189_final_project/scripts/SACSP.py:177: ComplexWarning: Casting complex values to real discards the imaginary part\n",
      "  E[i] = trial_fourier @ np.diag(h_or_l) @ np.matrix(trial_fourier).H\n",
      "/home/inffzy/Desktop/cogs189/cogs189_final_project/scripts/SACSP.py:410: ComplexWarning: Casting complex values to real discards the imaginary part\n",
      "  extracted_features[i, j] = extracted_feature[0, 0]\n"
     ]
    },
    {
     "name": "stdout",
     "output_type": "stream",
     "text": [
      "Cross validation score average:  0.5502923976608187\n"
     ]
    },
    {
     "name": "stderr",
     "output_type": "stream",
     "text": [
      "/home/inffzy/Desktop/cogs189/cogs189_final_project/scripts/SACSP.py:410: ComplexWarning: Casting complex values to real discards the imaginary part\n",
      "  extracted_features[i, j] = extracted_feature[0, 0]\n"
     ]
    },
    {
     "name": "stdout",
     "output_type": "stream",
     "text": [
      "Training accuracy:  0.5714285714285714\n",
      "Testing accuracy:  0.4\n"
     ]
    },
    {
     "name": "stderr",
     "output_type": "stream",
     "text": [
      "/home/inffzy/Desktop/cogs189/cogs189_final_project/scripts/SACSP.py:410: ComplexWarning: Casting complex values to real discards the imaginary part\n",
      "  extracted_features[i, j] = extracted_feature[0, 0]\n",
      "/home/inffzy/Desktop/cogs189/cogs189_final_project/scripts/SACSP.py:198: ComplexWarning: Casting complex values to real discards the imaginary part\n",
      "  E[i] = trial_fourier @ np.diag(h_or_l) @ np.matrix(trial_fourier).H\n",
      "/home/inffzy/Desktop/cogs189/cogs189_final_project/scripts/SACSP.py:225: ComplexWarning: Casting complex values to real discards the imaginary part\n",
      "  E[i] = np.matrix(trial_fourier).H @ w_or_v @ w_or_v.T @ trial_fourier\n",
      "/home/inffzy/Desktop/cogs189/cogs189_final_project/scripts/SACSP.py:177: ComplexWarning: Casting complex values to real discards the imaginary part\n",
      "  E[i] = trial_fourier @ np.diag(h_or_l) @ np.matrix(trial_fourier).H\n",
      "/home/inffzy/Desktop/cogs189/cogs189_final_project/scripts/SACSP.py:410: ComplexWarning: Casting complex values to real discards the imaginary part\n",
      "  extracted_features[i, j] = extracted_feature[0, 0]\n"
     ]
    },
    {
     "name": "stdout",
     "output_type": "stream",
     "text": [
      "Cross validation score average:  0.9005847953216375\n"
     ]
    },
    {
     "name": "stderr",
     "output_type": "stream",
     "text": [
      "/home/inffzy/Desktop/cogs189/cogs189_final_project/scripts/SACSP.py:410: ComplexWarning: Casting complex values to real discards the imaginary part\n",
      "  extracted_features[i, j] = extracted_feature[0, 0]\n"
     ]
    },
    {
     "name": "stdout",
     "output_type": "stream",
     "text": [
      "Training accuracy:  0.9120879120879121\n",
      "Testing accuracy:  0.9565217391304348\n"
     ]
    },
    {
     "name": "stderr",
     "output_type": "stream",
     "text": [
      "/home/inffzy/Desktop/cogs189/cogs189_final_project/scripts/SACSP.py:410: ComplexWarning: Casting complex values to real discards the imaginary part\n",
      "  extracted_features[i, j] = extracted_feature[0, 0]\n",
      "/home/inffzy/Desktop/cogs189/cogs189_final_project/scripts/SACSP.py:198: ComplexWarning: Casting complex values to real discards the imaginary part\n",
      "  E[i] = trial_fourier @ np.diag(h_or_l) @ np.matrix(trial_fourier).H\n",
      "/home/inffzy/Desktop/cogs189/cogs189_final_project/scripts/SACSP.py:225: ComplexWarning: Casting complex values to real discards the imaginary part\n",
      "  E[i] = np.matrix(trial_fourier).H @ w_or_v @ w_or_v.T @ trial_fourier\n",
      "/home/inffzy/Desktop/cogs189/cogs189_final_project/scripts/SACSP.py:177: ComplexWarning: Casting complex values to real discards the imaginary part\n",
      "  E[i] = trial_fourier @ np.diag(h_or_l) @ np.matrix(trial_fourier).H\n",
      "/home/inffzy/Desktop/cogs189/cogs189_final_project/scripts/SACSP.py:410: ComplexWarning: Casting complex values to real discards the imaginary part\n",
      "  extracted_features[i, j] = extracted_feature[0, 0]\n"
     ]
    },
    {
     "name": "stdout",
     "output_type": "stream",
     "text": [
      "Cross validation score average:  0.5849673202614379\n"
     ]
    },
    {
     "name": "stderr",
     "output_type": "stream",
     "text": [
      "/home/inffzy/Desktop/cogs189/cogs189_final_project/scripts/SACSP.py:410: ComplexWarning: Casting complex values to real discards the imaginary part\n",
      "  extracted_features[i, j] = extracted_feature[0, 0]\n"
     ]
    },
    {
     "name": "stdout",
     "output_type": "stream",
     "text": [
      "Training accuracy:  0.6162790697674418\n",
      "Testing accuracy:  0.46511627906976744\n"
     ]
    },
    {
     "name": "stderr",
     "output_type": "stream",
     "text": [
      "/home/inffzy/Desktop/cogs189/cogs189_final_project/scripts/SACSP.py:410: ComplexWarning: Casting complex values to real discards the imaginary part\n",
      "  extracted_features[i, j] = extracted_feature[0, 0]\n",
      "/home/inffzy/Desktop/cogs189/cogs189_final_project/scripts/SACSP.py:198: ComplexWarning: Casting complex values to real discards the imaginary part\n",
      "  E[i] = trial_fourier @ np.diag(h_or_l) @ np.matrix(trial_fourier).H\n",
      "/home/inffzy/Desktop/cogs189/cogs189_final_project/scripts/SACSP.py:225: ComplexWarning: Casting complex values to real discards the imaginary part\n",
      "  E[i] = np.matrix(trial_fourier).H @ w_or_v @ w_or_v.T @ trial_fourier\n",
      "/home/inffzy/Desktop/cogs189/cogs189_final_project/scripts/SACSP.py:177: ComplexWarning: Casting complex values to real discards the imaginary part\n",
      "  E[i] = trial_fourier @ np.diag(h_or_l) @ np.matrix(trial_fourier).H\n",
      "/home/inffzy/Desktop/cogs189/cogs189_final_project/scripts/SACSP.py:410: ComplexWarning: Casting complex values to real discards the imaginary part\n",
      "  extracted_features[i, j] = extracted_feature[0, 0]\n"
     ]
    },
    {
     "name": "stdout",
     "output_type": "stream",
     "text": [
      "Cross validation score average:  0.6503267973856209\n"
     ]
    },
    {
     "name": "stderr",
     "output_type": "stream",
     "text": [
      "/home/inffzy/Desktop/cogs189/cogs189_final_project/scripts/SACSP.py:410: ComplexWarning: Casting complex values to real discards the imaginary part\n",
      "  extracted_features[i, j] = extracted_feature[0, 0]\n"
     ]
    },
    {
     "name": "stdout",
     "output_type": "stream",
     "text": [
      "Training accuracy:  0.6511627906976745\n",
      "Testing accuracy:  0.5813953488372093\n"
     ]
    },
    {
     "name": "stderr",
     "output_type": "stream",
     "text": [
      "/home/inffzy/Desktop/cogs189/cogs189_final_project/scripts/SACSP.py:410: ComplexWarning: Casting complex values to real discards the imaginary part\n",
      "  extracted_features[i, j] = extracted_feature[0, 0]\n",
      "/home/inffzy/Desktop/cogs189/cogs189_final_project/scripts/SACSP.py:198: ComplexWarning: Casting complex values to real discards the imaginary part\n",
      "  E[i] = trial_fourier @ np.diag(h_or_l) @ np.matrix(trial_fourier).H\n",
      "/home/inffzy/Desktop/cogs189/cogs189_final_project/scripts/SACSP.py:225: ComplexWarning: Casting complex values to real discards the imaginary part\n",
      "  E[i] = np.matrix(trial_fourier).H @ w_or_v @ w_or_v.T @ trial_fourier\n",
      "/home/inffzy/Desktop/cogs189/cogs189_final_project/scripts/SACSP.py:177: ComplexWarning: Casting complex values to real discards the imaginary part\n",
      "  E[i] = trial_fourier @ np.diag(h_or_l) @ np.matrix(trial_fourier).H\n",
      "/home/inffzy/Desktop/cogs189/cogs189_final_project/scripts/SACSP.py:410: ComplexWarning: Casting complex values to real discards the imaginary part\n",
      "  extracted_features[i, j] = extracted_feature[0, 0]\n"
     ]
    },
    {
     "name": "stdout",
     "output_type": "stream",
     "text": [
      "Cross validation score average:  0.6133333333333334\n"
     ]
    },
    {
     "name": "stderr",
     "output_type": "stream",
     "text": [
      "/home/inffzy/Desktop/cogs189/cogs189_final_project/scripts/SACSP.py:410: ComplexWarning: Casting complex values to real discards the imaginary part\n",
      "  extracted_features[i, j] = extracted_feature[0, 0]\n"
     ]
    },
    {
     "name": "stdout",
     "output_type": "stream",
     "text": [
      "Training accuracy:  0.68\n",
      "Testing accuracy:  0.4473684210526316\n"
     ]
    },
    {
     "name": "stderr",
     "output_type": "stream",
     "text": [
      "/home/inffzy/Desktop/cogs189/cogs189_final_project/scripts/SACSP.py:410: ComplexWarning: Casting complex values to real discards the imaginary part\n",
      "  extracted_features[i, j] = extracted_feature[0, 0]\n",
      "/home/inffzy/Desktop/cogs189/cogs189_final_project/scripts/SACSP.py:198: ComplexWarning: Casting complex values to real discards the imaginary part\n",
      "  E[i] = trial_fourier @ np.diag(h_or_l) @ np.matrix(trial_fourier).H\n",
      "/home/inffzy/Desktop/cogs189/cogs189_final_project/scripts/SACSP.py:225: ComplexWarning: Casting complex values to real discards the imaginary part\n",
      "  E[i] = np.matrix(trial_fourier).H @ w_or_v @ w_or_v.T @ trial_fourier\n",
      "/home/inffzy/Desktop/cogs189/cogs189_final_project/scripts/SACSP.py:177: ComplexWarning: Casting complex values to real discards the imaginary part\n",
      "  E[i] = trial_fourier @ np.diag(h_or_l) @ np.matrix(trial_fourier).H\n",
      "/home/inffzy/Desktop/cogs189/cogs189_final_project/scripts/SACSP.py:410: ComplexWarning: Casting complex values to real discards the imaginary part\n",
      "  extracted_features[i, j] = extracted_feature[0, 0]\n"
     ]
    },
    {
     "name": "stdout",
     "output_type": "stream",
     "text": [
      "Cross validation score average:  0.6156862745098038\n"
     ]
    },
    {
     "name": "stderr",
     "output_type": "stream",
     "text": [
      "/home/inffzy/Desktop/cogs189/cogs189_final_project/scripts/SACSP.py:410: ComplexWarning: Casting complex values to real discards the imaginary part\n",
      "  extracted_features[i, j] = extracted_feature[0, 0]\n"
     ]
    },
    {
     "name": "stdout",
     "output_type": "stream",
     "text": [
      "Training accuracy:  0.6179775280898876\n",
      "Testing accuracy:  0.45454545454545453\n"
     ]
    },
    {
     "name": "stderr",
     "output_type": "stream",
     "text": [
      "/home/inffzy/Desktop/cogs189/cogs189_final_project/scripts/SACSP.py:410: ComplexWarning: Casting complex values to real discards the imaginary part\n",
      "  extracted_features[i, j] = extracted_feature[0, 0]\n",
      "/home/inffzy/Desktop/cogs189/cogs189_final_project/scripts/SACSP.py:198: ComplexWarning: Casting complex values to real discards the imaginary part\n",
      "  E[i] = trial_fourier @ np.diag(h_or_l) @ np.matrix(trial_fourier).H\n",
      "/home/inffzy/Desktop/cogs189/cogs189_final_project/scripts/SACSP.py:225: ComplexWarning: Casting complex values to real discards the imaginary part\n",
      "  E[i] = np.matrix(trial_fourier).H @ w_or_v @ w_or_v.T @ trial_fourier\n",
      "/home/inffzy/Desktop/cogs189/cogs189_final_project/scripts/SACSP.py:177: ComplexWarning: Casting complex values to real discards the imaginary part\n",
      "  E[i] = trial_fourier @ np.diag(h_or_l) @ np.matrix(trial_fourier).H\n",
      "/home/inffzy/Desktop/cogs189/cogs189_final_project/scripts/SACSP.py:410: ComplexWarning: Casting complex values to real discards the imaginary part\n",
      "  extracted_features[i, j] = extracted_feature[0, 0]\n"
     ]
    },
    {
     "name": "stdout",
     "output_type": "stream",
     "text": [
      "Cross validation score average:  0.9098039215686274\n"
     ]
    },
    {
     "name": "stderr",
     "output_type": "stream",
     "text": [
      "/home/inffzy/Desktop/cogs189/cogs189_final_project/scripts/SACSP.py:410: ComplexWarning: Casting complex values to real discards the imaginary part\n",
      "  extracted_features[i, j] = extracted_feature[0, 0]\n"
     ]
    },
    {
     "name": "stdout",
     "output_type": "stream",
     "text": [
      "Training accuracy:  0.9204545454545454\n",
      "Testing accuracy:  0.9318181818181818\n"
     ]
    },
    {
     "name": "stderr",
     "output_type": "stream",
     "text": [
      "/home/inffzy/Desktop/cogs189/cogs189_final_project/scripts/SACSP.py:410: ComplexWarning: Casting complex values to real discards the imaginary part\n",
      "  extracted_features[i, j] = extracted_feature[0, 0]\n",
      "/home/inffzy/Desktop/cogs189/cogs189_final_project/scripts/SACSP.py:198: ComplexWarning: Casting complex values to real discards the imaginary part\n",
      "  E[i] = trial_fourier @ np.diag(h_or_l) @ np.matrix(trial_fourier).H\n",
      "/home/inffzy/Desktop/cogs189/cogs189_final_project/scripts/SACSP.py:225: ComplexWarning: Casting complex values to real discards the imaginary part\n",
      "  E[i] = np.matrix(trial_fourier).H @ w_or_v @ w_or_v.T @ trial_fourier\n",
      "/home/inffzy/Desktop/cogs189/cogs189_final_project/scripts/SACSP.py:177: ComplexWarning: Casting complex values to real discards the imaginary part\n",
      "  E[i] = trial_fourier @ np.diag(h_or_l) @ np.matrix(trial_fourier).H\n",
      "/home/inffzy/Desktop/cogs189/cogs189_final_project/scripts/SACSP.py:410: ComplexWarning: Casting complex values to real discards the imaginary part\n",
      "  extracted_features[i, j] = extracted_feature[0, 0]\n"
     ]
    },
    {
     "name": "stdout",
     "output_type": "stream",
     "text": [
      "Cross validation score average:  0.6116666666666666\n"
     ]
    },
    {
     "name": "stderr",
     "output_type": "stream",
     "text": [
      "/home/inffzy/Desktop/cogs189/cogs189_final_project/scripts/SACSP.py:410: ComplexWarning: Casting complex values to real discards the imaginary part\n",
      "  extracted_features[i, j] = extracted_feature[0, 0]\n"
     ]
    },
    {
     "name": "stdout",
     "output_type": "stream",
     "text": [
      "Training accuracy:  0.6233766233766234\n",
      "Testing accuracy:  0.6923076923076923\n"
     ]
    },
    {
     "name": "stderr",
     "output_type": "stream",
     "text": [
      "/home/inffzy/Desktop/cogs189/cogs189_final_project/scripts/SACSP.py:410: ComplexWarning: Casting complex values to real discards the imaginary part\n",
      "  extracted_features[i, j] = extracted_feature[0, 0]\n",
      "/home/inffzy/Desktop/cogs189/cogs189_final_project/scripts/SACSP.py:198: ComplexWarning: Casting complex values to real discards the imaginary part\n",
      "  E[i] = trial_fourier @ np.diag(h_or_l) @ np.matrix(trial_fourier).H\n",
      "/home/inffzy/Desktop/cogs189/cogs189_final_project/scripts/SACSP.py:225: ComplexWarning: Casting complex values to real discards the imaginary part\n",
      "  E[i] = np.matrix(trial_fourier).H @ w_or_v @ w_or_v.T @ trial_fourier\n",
      "/home/inffzy/Desktop/cogs189/cogs189_final_project/scripts/SACSP.py:177: ComplexWarning: Casting complex values to real discards the imaginary part\n",
      "  E[i] = trial_fourier @ np.diag(h_or_l) @ np.matrix(trial_fourier).H\n",
      "/home/inffzy/Desktop/cogs189/cogs189_final_project/scripts/SACSP.py:410: ComplexWarning: Casting complex values to real discards the imaginary part\n",
      "  extracted_features[i, j] = extracted_feature[0, 0]\n",
      "/home/inffzy/Desktop/cogs189/cogs189_final_project/scripts/SACSP.py:410: ComplexWarning: Casting complex values to real discards the imaginary part\n",
      "  extracted_features[i, j] = extracted_feature[0, 0]\n"
     ]
    },
    {
     "name": "stdout",
     "output_type": "stream",
     "text": [
      "Cross validation score average:  0.8755555555555556\n",
      "Training accuracy:  0.9375\n"
     ]
    },
    {
     "name": "stderr",
     "output_type": "stream",
     "text": [
      "/home/inffzy/Desktop/cogs189/cogs189_final_project/scripts/SACSP.py:410: ComplexWarning: Casting complex values to real discards the imaginary part\n",
      "  extracted_features[i, j] = extracted_feature[0, 0]\n",
      "/home/inffzy/Desktop/cogs189/cogs189_final_project/scripts/SACSP.py:198: ComplexWarning: Casting complex values to real discards the imaginary part\n",
      "  E[i] = trial_fourier @ np.diag(h_or_l) @ np.matrix(trial_fourier).H\n",
      "/home/inffzy/Desktop/cogs189/cogs189_final_project/scripts/SACSP.py:225: ComplexWarning: Casting complex values to real discards the imaginary part\n",
      "  E[i] = np.matrix(trial_fourier).H @ w_or_v @ w_or_v.T @ trial_fourier\n",
      "/home/inffzy/Desktop/cogs189/cogs189_final_project/scripts/SACSP.py:177: ComplexWarning: Casting complex values to real discards the imaginary part\n",
      "  E[i] = trial_fourier @ np.diag(h_or_l) @ np.matrix(trial_fourier).H\n"
     ]
    },
    {
     "name": "stdout",
     "output_type": "stream",
     "text": [
      "Testing accuracy:  0.56\n"
     ]
    },
    {
     "name": "stderr",
     "output_type": "stream",
     "text": [
      "/home/inffzy/Desktop/cogs189/cogs189_final_project/scripts/SACSP.py:410: ComplexWarning: Casting complex values to real discards the imaginary part\n",
      "  extracted_features[i, j] = extracted_feature[0, 0]\n",
      "/home/inffzy/Desktop/cogs189/cogs189_final_project/scripts/SACSP.py:410: ComplexWarning: Casting complex values to real discards the imaginary part\n",
      "  extracted_features[i, j] = extracted_feature[0, 0]\n"
     ]
    },
    {
     "name": "stdout",
     "output_type": "stream",
     "text": [
      "Cross validation score average:  0.6476190476190476\n",
      "Training accuracy:  0.7096774193548387\n",
      "Testing accuracy:  0.5625\n"
     ]
    },
    {
     "name": "stderr",
     "output_type": "stream",
     "text": [
      "/home/inffzy/Desktop/cogs189/cogs189_final_project/scripts/SACSP.py:410: ComplexWarning: Casting complex values to real discards the imaginary part\n",
      "  extracted_features[i, j] = extracted_feature[0, 0]\n",
      "/home/inffzy/Desktop/cogs189/cogs189_final_project/scripts/SACSP.py:198: ComplexWarning: Casting complex values to real discards the imaginary part\n",
      "  E[i] = trial_fourier @ np.diag(h_or_l) @ np.matrix(trial_fourier).H\n",
      "/home/inffzy/Desktop/cogs189/cogs189_final_project/scripts/SACSP.py:225: ComplexWarning: Casting complex values to real discards the imaginary part\n",
      "  E[i] = np.matrix(trial_fourier).H @ w_or_v @ w_or_v.T @ trial_fourier\n",
      "/home/inffzy/Desktop/cogs189/cogs189_final_project/scripts/SACSP.py:177: ComplexWarning: Casting complex values to real discards the imaginary part\n",
      "  E[i] = trial_fourier @ np.diag(h_or_l) @ np.matrix(trial_fourier).H\n",
      "/home/inffzy/Desktop/cogs189/cogs189_final_project/scripts/SACSP.py:410: ComplexWarning: Casting complex values to real discards the imaginary part\n",
      "  extracted_features[i, j] = extracted_feature[0, 0]\n",
      "/home/inffzy/Desktop/cogs189/cogs189_final_project/scripts/SACSP.py:410: ComplexWarning: Casting complex values to real discards the imaginary part\n",
      "  extracted_features[i, j] = extracted_feature[0, 0]\n"
     ]
    },
    {
     "name": "stdout",
     "output_type": "stream",
     "text": [
      "Cross validation score average:  0.96\n",
      "Training accuracy:  0.9629629629629629\n",
      "Testing accuracy:  0.7857142857142857\n"
     ]
    },
    {
     "name": "stderr",
     "output_type": "stream",
     "text": [
      "/home/inffzy/Desktop/cogs189/cogs189_final_project/scripts/SACSP.py:410: ComplexWarning: Casting complex values to real discards the imaginary part\n",
      "  extracted_features[i, j] = extracted_feature[0, 0]\n",
      "/home/inffzy/Desktop/cogs189/cogs189_final_project/scripts/SACSP.py:198: ComplexWarning: Casting complex values to real discards the imaginary part\n",
      "  E[i] = trial_fourier @ np.diag(h_or_l) @ np.matrix(trial_fourier).H\n",
      "/home/inffzy/Desktop/cogs189/cogs189_final_project/scripts/SACSP.py:225: ComplexWarning: Casting complex values to real discards the imaginary part\n",
      "  E[i] = np.matrix(trial_fourier).H @ w_or_v @ w_or_v.T @ trial_fourier\n",
      "/home/inffzy/Desktop/cogs189/cogs189_final_project/scripts/SACSP.py:177: ComplexWarning: Casting complex values to real discards the imaginary part\n",
      "  E[i] = trial_fourier @ np.diag(h_or_l) @ np.matrix(trial_fourier).H\n",
      "/home/inffzy/Desktop/cogs189/cogs189_final_project/scripts/SACSP.py:410: ComplexWarning: Casting complex values to real discards the imaginary part\n",
      "  extracted_features[i, j] = extracted_feature[0, 0]\n"
     ]
    },
    {
     "name": "stdout",
     "output_type": "stream",
     "text": [
      "Cross validation score average:  0.5871345029239766\n"
     ]
    },
    {
     "name": "stderr",
     "output_type": "stream",
     "text": [
      "/home/inffzy/Desktop/cogs189/cogs189_final_project/scripts/SACSP.py:410: ComplexWarning: Casting complex values to real discards the imaginary part\n",
      "  extracted_features[i, j] = extracted_feature[0, 0]\n"
     ]
    },
    {
     "name": "stdout",
     "output_type": "stream",
     "text": [
      "Training accuracy:  0.6086956521739131\n",
      "Testing accuracy:  0.6304347826086957\n"
     ]
    },
    {
     "name": "stderr",
     "output_type": "stream",
     "text": [
      "/home/inffzy/Desktop/cogs189/cogs189_final_project/scripts/SACSP.py:410: ComplexWarning: Casting complex values to real discards the imaginary part\n",
      "  extracted_features[i, j] = extracted_feature[0, 0]\n",
      "/home/inffzy/Desktop/cogs189/cogs189_final_project/scripts/SACSP.py:198: ComplexWarning: Casting complex values to real discards the imaginary part\n",
      "  E[i] = trial_fourier @ np.diag(h_or_l) @ np.matrix(trial_fourier).H\n",
      "/home/inffzy/Desktop/cogs189/cogs189_final_project/scripts/SACSP.py:225: ComplexWarning: Casting complex values to real discards the imaginary part\n",
      "  E[i] = np.matrix(trial_fourier).H @ w_or_v @ w_or_v.T @ trial_fourier\n",
      "/home/inffzy/Desktop/cogs189/cogs189_final_project/scripts/SACSP.py:177: ComplexWarning: Casting complex values to real discards the imaginary part\n",
      "  E[i] = trial_fourier @ np.diag(h_or_l) @ np.matrix(trial_fourier).H\n",
      "/home/inffzy/Desktop/cogs189/cogs189_final_project/scripts/SACSP.py:410: ComplexWarning: Casting complex values to real discards the imaginary part\n",
      "  extracted_features[i, j] = extracted_feature[0, 0]\n"
     ]
    },
    {
     "name": "stdout",
     "output_type": "stream",
     "text": [
      "Cross validation score average:  0.6046783625730995\n"
     ]
    },
    {
     "name": "stderr",
     "output_type": "stream",
     "text": [
      "/home/inffzy/Desktop/cogs189/cogs189_final_project/scripts/SACSP.py:410: ComplexWarning: Casting complex values to real discards the imaginary part\n",
      "  extracted_features[i, j] = extracted_feature[0, 0]\n"
     ]
    },
    {
     "name": "stdout",
     "output_type": "stream",
     "text": [
      "Training accuracy:  0.6263736263736264\n",
      "Testing accuracy:  0.28888888888888886\n"
     ]
    },
    {
     "name": "stderr",
     "output_type": "stream",
     "text": [
      "/home/inffzy/Desktop/cogs189/cogs189_final_project/scripts/SACSP.py:410: ComplexWarning: Casting complex values to real discards the imaginary part\n",
      "  extracted_features[i, j] = extracted_feature[0, 0]\n",
      "/home/inffzy/Desktop/cogs189/cogs189_final_project/scripts/SACSP.py:198: ComplexWarning: Casting complex values to real discards the imaginary part\n",
      "  E[i] = trial_fourier @ np.diag(h_or_l) @ np.matrix(trial_fourier).H\n",
      "/home/inffzy/Desktop/cogs189/cogs189_final_project/scripts/SACSP.py:225: ComplexWarning: Casting complex values to real discards the imaginary part\n",
      "  E[i] = np.matrix(trial_fourier).H @ w_or_v @ w_or_v.T @ trial_fourier\n",
      "/home/inffzy/Desktop/cogs189/cogs189_final_project/scripts/SACSP.py:177: ComplexWarning: Casting complex values to real discards the imaginary part\n",
      "  E[i] = trial_fourier @ np.diag(h_or_l) @ np.matrix(trial_fourier).H\n",
      "/home/inffzy/Desktop/cogs189/cogs189_final_project/scripts/SACSP.py:410: ComplexWarning: Casting complex values to real discards the imaginary part\n",
      "  extracted_features[i, j] = extracted_feature[0, 0]\n"
     ]
    },
    {
     "name": "stdout",
     "output_type": "stream",
     "text": [
      "Cross validation score average:  0.7789473684210526\n"
     ]
    },
    {
     "name": "stderr",
     "output_type": "stream",
     "text": [
      "/home/inffzy/Desktop/cogs189/cogs189_final_project/scripts/SACSP.py:410: ComplexWarning: Casting complex values to real discards the imaginary part\n",
      "  extracted_features[i, j] = extracted_feature[0, 0]\n"
     ]
    },
    {
     "name": "stdout",
     "output_type": "stream",
     "text": [
      "Training accuracy:  0.8021978021978022\n",
      "Testing accuracy:  0.6956521739130435\n"
     ]
    },
    {
     "name": "stderr",
     "output_type": "stream",
     "text": [
      "/home/inffzy/Desktop/cogs189/cogs189_final_project/scripts/SACSP.py:410: ComplexWarning: Casting complex values to real discards the imaginary part\n",
      "  extracted_features[i, j] = extracted_feature[0, 0]\n",
      "/home/inffzy/Desktop/cogs189/cogs189_final_project/scripts/SACSP.py:198: ComplexWarning: Casting complex values to real discards the imaginary part\n",
      "  E[i] = trial_fourier @ np.diag(h_or_l) @ np.matrix(trial_fourier).H\n",
      "/home/inffzy/Desktop/cogs189/cogs189_final_project/scripts/SACSP.py:225: ComplexWarning: Casting complex values to real discards the imaginary part\n",
      "  E[i] = np.matrix(trial_fourier).H @ w_or_v @ w_or_v.T @ trial_fourier\n",
      "/home/inffzy/Desktop/cogs189/cogs189_final_project/scripts/SACSP.py:177: ComplexWarning: Casting complex values to real discards the imaginary part\n",
      "  E[i] = trial_fourier @ np.diag(h_or_l) @ np.matrix(trial_fourier).H\n",
      "/home/inffzy/Desktop/cogs189/cogs189_final_project/scripts/SACSP.py:410: ComplexWarning: Casting complex values to real discards the imaginary part\n",
      "  extracted_features[i, j] = extracted_feature[0, 0]\n"
     ]
    },
    {
     "name": "stdout",
     "output_type": "stream",
     "text": [
      "Cross validation score average:  0.6496732026143792\n"
     ]
    },
    {
     "name": "stderr",
     "output_type": "stream",
     "text": [
      "/home/inffzy/Desktop/cogs189/cogs189_final_project/scripts/SACSP.py:410: ComplexWarning: Casting complex values to real discards the imaginary part\n",
      "  extracted_features[i, j] = extracted_feature[0, 0]\n"
     ]
    },
    {
     "name": "stdout",
     "output_type": "stream",
     "text": [
      "Training accuracy:  0.6627906976744186\n",
      "Testing accuracy:  0.4418604651162791\n"
     ]
    },
    {
     "name": "stderr",
     "output_type": "stream",
     "text": [
      "/home/inffzy/Desktop/cogs189/cogs189_final_project/scripts/SACSP.py:410: ComplexWarning: Casting complex values to real discards the imaginary part\n",
      "  extracted_features[i, j] = extracted_feature[0, 0]\n",
      "/home/inffzy/Desktop/cogs189/cogs189_final_project/scripts/SACSP.py:198: ComplexWarning: Casting complex values to real discards the imaginary part\n",
      "  E[i] = trial_fourier @ np.diag(h_or_l) @ np.matrix(trial_fourier).H\n",
      "/home/inffzy/Desktop/cogs189/cogs189_final_project/scripts/SACSP.py:225: ComplexWarning: Casting complex values to real discards the imaginary part\n",
      "  E[i] = np.matrix(trial_fourier).H @ w_or_v @ w_or_v.T @ trial_fourier\n",
      "/home/inffzy/Desktop/cogs189/cogs189_final_project/scripts/SACSP.py:177: ComplexWarning: Casting complex values to real discards the imaginary part\n",
      "  E[i] = trial_fourier @ np.diag(h_or_l) @ np.matrix(trial_fourier).H\n",
      "/home/inffzy/Desktop/cogs189/cogs189_final_project/scripts/SACSP.py:410: ComplexWarning: Casting complex values to real discards the imaginary part\n",
      "  extracted_features[i, j] = extracted_feature[0, 0]\n"
     ]
    },
    {
     "name": "stdout",
     "output_type": "stream",
     "text": [
      "Cross validation score average:  0.6176470588235294\n"
     ]
    },
    {
     "name": "stderr",
     "output_type": "stream",
     "text": [
      "/home/inffzy/Desktop/cogs189/cogs189_final_project/scripts/SACSP.py:410: ComplexWarning: Casting complex values to real discards the imaginary part\n",
      "  extracted_features[i, j] = extracted_feature[0, 0]\n"
     ]
    },
    {
     "name": "stdout",
     "output_type": "stream",
     "text": [
      "Training accuracy:  0.627906976744186\n",
      "Testing accuracy:  0.4883720930232558\n"
     ]
    },
    {
     "name": "stderr",
     "output_type": "stream",
     "text": [
      "/home/inffzy/Desktop/cogs189/cogs189_final_project/scripts/SACSP.py:410: ComplexWarning: Casting complex values to real discards the imaginary part\n",
      "  extracted_features[i, j] = extracted_feature[0, 0]\n",
      "/home/inffzy/Desktop/cogs189/cogs189_final_project/scripts/SACSP.py:198: ComplexWarning: Casting complex values to real discards the imaginary part\n",
      "  E[i] = trial_fourier @ np.diag(h_or_l) @ np.matrix(trial_fourier).H\n",
      "/home/inffzy/Desktop/cogs189/cogs189_final_project/scripts/SACSP.py:225: ComplexWarning: Casting complex values to real discards the imaginary part\n",
      "  E[i] = np.matrix(trial_fourier).H @ w_or_v @ w_or_v.T @ trial_fourier\n",
      "/home/inffzy/Desktop/cogs189/cogs189_final_project/scripts/SACSP.py:177: ComplexWarning: Casting complex values to real discards the imaginary part\n",
      "  E[i] = trial_fourier @ np.diag(h_or_l) @ np.matrix(trial_fourier).H\n",
      "/home/inffzy/Desktop/cogs189/cogs189_final_project/scripts/SACSP.py:410: ComplexWarning: Casting complex values to real discards the imaginary part\n",
      "  extracted_features[i, j] = extracted_feature[0, 0]\n"
     ]
    },
    {
     "name": "stdout",
     "output_type": "stream",
     "text": [
      "Cross validation score average:  0.6933333333333332\n"
     ]
    },
    {
     "name": "stderr",
     "output_type": "stream",
     "text": [
      "/home/inffzy/Desktop/cogs189/cogs189_final_project/scripts/SACSP.py:410: ComplexWarning: Casting complex values to real discards the imaginary part\n",
      "  extracted_features[i, j] = extracted_feature[0, 0]\n"
     ]
    },
    {
     "name": "stdout",
     "output_type": "stream",
     "text": [
      "Training accuracy:  0.76\n",
      "Testing accuracy:  0.42105263157894735\n"
     ]
    },
    {
     "name": "stderr",
     "output_type": "stream",
     "text": [
      "/home/inffzy/Desktop/cogs189/cogs189_final_project/scripts/SACSP.py:410: ComplexWarning: Casting complex values to real discards the imaginary part\n",
      "  extracted_features[i, j] = extracted_feature[0, 0]\n",
      "/home/inffzy/Desktop/cogs189/cogs189_final_project/scripts/SACSP.py:198: ComplexWarning: Casting complex values to real discards the imaginary part\n",
      "  E[i] = trial_fourier @ np.diag(h_or_l) @ np.matrix(trial_fourier).H\n",
      "/home/inffzy/Desktop/cogs189/cogs189_final_project/scripts/SACSP.py:225: ComplexWarning: Casting complex values to real discards the imaginary part\n",
      "  E[i] = np.matrix(trial_fourier).H @ w_or_v @ w_or_v.T @ trial_fourier\n",
      "/home/inffzy/Desktop/cogs189/cogs189_final_project/scripts/SACSP.py:177: ComplexWarning: Casting complex values to real discards the imaginary part\n",
      "  E[i] = trial_fourier @ np.diag(h_or_l) @ np.matrix(trial_fourier).H\n",
      "/home/inffzy/Desktop/cogs189/cogs189_final_project/scripts/SACSP.py:410: ComplexWarning: Casting complex values to real discards the imaginary part\n",
      "  extracted_features[i, j] = extracted_feature[0, 0]\n"
     ]
    },
    {
     "name": "stdout",
     "output_type": "stream",
     "text": [
      "Cross validation score average:  0.5496732026143791\n"
     ]
    },
    {
     "name": "stderr",
     "output_type": "stream",
     "text": [
      "/home/inffzy/Desktop/cogs189/cogs189_final_project/scripts/SACSP.py:410: ComplexWarning: Casting complex values to real discards the imaginary part\n",
      "  extracted_features[i, j] = extracted_feature[0, 0]\n"
     ]
    },
    {
     "name": "stdout",
     "output_type": "stream",
     "text": [
      "Training accuracy:  0.6179775280898876\n",
      "Testing accuracy:  0.4090909090909091\n"
     ]
    },
    {
     "name": "stderr",
     "output_type": "stream",
     "text": [
      "/home/inffzy/Desktop/cogs189/cogs189_final_project/scripts/SACSP.py:410: ComplexWarning: Casting complex values to real discards the imaginary part\n",
      "  extracted_features[i, j] = extracted_feature[0, 0]\n",
      "/home/inffzy/Desktop/cogs189/cogs189_final_project/scripts/SACSP.py:198: ComplexWarning: Casting complex values to real discards the imaginary part\n",
      "  E[i] = trial_fourier @ np.diag(h_or_l) @ np.matrix(trial_fourier).H\n",
      "/home/inffzy/Desktop/cogs189/cogs189_final_project/scripts/SACSP.py:225: ComplexWarning: Casting complex values to real discards the imaginary part\n",
      "  E[i] = np.matrix(trial_fourier).H @ w_or_v @ w_or_v.T @ trial_fourier\n",
      "/home/inffzy/Desktop/cogs189/cogs189_final_project/scripts/SACSP.py:177: ComplexWarning: Casting complex values to real discards the imaginary part\n",
      "  E[i] = trial_fourier @ np.diag(h_or_l) @ np.matrix(trial_fourier).H\n",
      "/home/inffzy/Desktop/cogs189/cogs189_final_project/scripts/SACSP.py:410: ComplexWarning: Casting complex values to real discards the imaginary part\n",
      "  extracted_features[i, j] = extracted_feature[0, 0]\n"
     ]
    },
    {
     "name": "stdout",
     "output_type": "stream",
     "text": [
      "Cross validation score average:  0.8986928104575164\n"
     ]
    },
    {
     "name": "stderr",
     "output_type": "stream",
     "text": [
      "/home/inffzy/Desktop/cogs189/cogs189_final_project/scripts/SACSP.py:410: ComplexWarning: Casting complex values to real discards the imaginary part\n",
      "  extracted_features[i, j] = extracted_feature[0, 0]\n"
     ]
    },
    {
     "name": "stdout",
     "output_type": "stream",
     "text": [
      "Training accuracy:  0.9318181818181818\n",
      "Testing accuracy:  0.9318181818181818\n"
     ]
    },
    {
     "name": "stderr",
     "output_type": "stream",
     "text": [
      "/home/inffzy/Desktop/cogs189/cogs189_final_project/scripts/SACSP.py:410: ComplexWarning: Casting complex values to real discards the imaginary part\n",
      "  extracted_features[i, j] = extracted_feature[0, 0]\n",
      "/home/inffzy/Desktop/cogs189/cogs189_final_project/scripts/SACSP.py:198: ComplexWarning: Casting complex values to real discards the imaginary part\n",
      "  E[i] = trial_fourier @ np.diag(h_or_l) @ np.matrix(trial_fourier).H\n",
      "/home/inffzy/Desktop/cogs189/cogs189_final_project/scripts/SACSP.py:225: ComplexWarning: Casting complex values to real discards the imaginary part\n",
      "  E[i] = np.matrix(trial_fourier).H @ w_or_v @ w_or_v.T @ trial_fourier\n",
      "/home/inffzy/Desktop/cogs189/cogs189_final_project/scripts/SACSP.py:177: ComplexWarning: Casting complex values to real discards the imaginary part\n",
      "  E[i] = trial_fourier @ np.diag(h_or_l) @ np.matrix(trial_fourier).H\n",
      "/home/inffzy/Desktop/cogs189/cogs189_final_project/scripts/SACSP.py:410: ComplexWarning: Casting complex values to real discards the imaginary part\n",
      "  extracted_features[i, j] = extracted_feature[0, 0]\n"
     ]
    },
    {
     "name": "stdout",
     "output_type": "stream",
     "text": [
      "Cross validation score average:  0.6766666666666665\n"
     ]
    },
    {
     "name": "stderr",
     "output_type": "stream",
     "text": [
      "/home/inffzy/Desktop/cogs189/cogs189_final_project/scripts/SACSP.py:410: ComplexWarning: Casting complex values to real discards the imaginary part\n",
      "  extracted_features[i, j] = extracted_feature[0, 0]\n"
     ]
    },
    {
     "name": "stdout",
     "output_type": "stream",
     "text": [
      "Training accuracy:  0.6883116883116883\n",
      "Testing accuracy:  0.6923076923076923\n"
     ]
    },
    {
     "name": "stderr",
     "output_type": "stream",
     "text": [
      "/home/inffzy/Desktop/cogs189/cogs189_final_project/scripts/SACSP.py:410: ComplexWarning: Casting complex values to real discards the imaginary part\n",
      "  extracted_features[i, j] = extracted_feature[0, 0]\n",
      "/home/inffzy/Desktop/cogs189/cogs189_final_project/scripts/SACSP.py:198: ComplexWarning: Casting complex values to real discards the imaginary part\n",
      "  E[i] = trial_fourier @ np.diag(h_or_l) @ np.matrix(trial_fourier).H\n",
      "/home/inffzy/Desktop/cogs189/cogs189_final_project/scripts/SACSP.py:225: ComplexWarning: Casting complex values to real discards the imaginary part\n",
      "  E[i] = np.matrix(trial_fourier).H @ w_or_v @ w_or_v.T @ trial_fourier\n",
      "/home/inffzy/Desktop/cogs189/cogs189_final_project/scripts/SACSP.py:177: ComplexWarning: Casting complex values to real discards the imaginary part\n",
      "  E[i] = trial_fourier @ np.diag(h_or_l) @ np.matrix(trial_fourier).H\n",
      "/home/inffzy/Desktop/cogs189/cogs189_final_project/scripts/SACSP.py:410: ComplexWarning: Casting complex values to real discards the imaginary part\n",
      "  extracted_features[i, j] = extracted_feature[0, 0]\n",
      "/home/inffzy/Desktop/cogs189/cogs189_final_project/scripts/SACSP.py:410: ComplexWarning: Casting complex values to real discards the imaginary part\n",
      "  extracted_features[i, j] = extracted_feature[0, 0]\n"
     ]
    },
    {
     "name": "stdout",
     "output_type": "stream",
     "text": [
      "Cross validation score average:  0.7533333333333333\n",
      "Training accuracy:  0.8125\n"
     ]
    },
    {
     "name": "stderr",
     "output_type": "stream",
     "text": [
      "/home/inffzy/Desktop/cogs189/cogs189_final_project/scripts/SACSP.py:410: ComplexWarning: Casting complex values to real discards the imaginary part\n",
      "  extracted_features[i, j] = extracted_feature[0, 0]\n",
      "/home/inffzy/Desktop/cogs189/cogs189_final_project/scripts/SACSP.py:198: ComplexWarning: Casting complex values to real discards the imaginary part\n",
      "  E[i] = trial_fourier @ np.diag(h_or_l) @ np.matrix(trial_fourier).H\n",
      "/home/inffzy/Desktop/cogs189/cogs189_final_project/scripts/SACSP.py:225: ComplexWarning: Casting complex values to real discards the imaginary part\n",
      "  E[i] = np.matrix(trial_fourier).H @ w_or_v @ w_or_v.T @ trial_fourier\n",
      "/home/inffzy/Desktop/cogs189/cogs189_final_project/scripts/SACSP.py:177: ComplexWarning: Casting complex values to real discards the imaginary part\n",
      "  E[i] = trial_fourier @ np.diag(h_or_l) @ np.matrix(trial_fourier).H\n"
     ]
    },
    {
     "name": "stdout",
     "output_type": "stream",
     "text": [
      "Testing accuracy:  0.84\n"
     ]
    },
    {
     "name": "stderr",
     "output_type": "stream",
     "text": [
      "/home/inffzy/Desktop/cogs189/cogs189_final_project/scripts/SACSP.py:410: ComplexWarning: Casting complex values to real discards the imaginary part\n",
      "  extracted_features[i, j] = extracted_feature[0, 0]\n",
      "/home/inffzy/Desktop/cogs189/cogs189_final_project/scripts/SACSP.py:410: ComplexWarning: Casting complex values to real discards the imaginary part\n",
      "  extracted_features[i, j] = extracted_feature[0, 0]\n"
     ]
    },
    {
     "name": "stdout",
     "output_type": "stream",
     "text": [
      "Cross validation score average:  0.7666666666666666\n",
      "Training accuracy:  0.7741935483870968\n",
      "Testing accuracy:  0.3125\n"
     ]
    },
    {
     "name": "stderr",
     "output_type": "stream",
     "text": [
      "/home/inffzy/Desktop/cogs189/cogs189_final_project/scripts/SACSP.py:410: ComplexWarning: Casting complex values to real discards the imaginary part\n",
      "  extracted_features[i, j] = extracted_feature[0, 0]\n",
      "/home/inffzy/Desktop/cogs189/cogs189_final_project/scripts/SACSP.py:198: ComplexWarning: Casting complex values to real discards the imaginary part\n",
      "  E[i] = trial_fourier @ np.diag(h_or_l) @ np.matrix(trial_fourier).H\n",
      "/home/inffzy/Desktop/cogs189/cogs189_final_project/scripts/SACSP.py:225: ComplexWarning: Casting complex values to real discards the imaginary part\n",
      "  E[i] = np.matrix(trial_fourier).H @ w_or_v @ w_or_v.T @ trial_fourier\n",
      "/home/inffzy/Desktop/cogs189/cogs189_final_project/scripts/SACSP.py:177: ComplexWarning: Casting complex values to real discards the imaginary part\n",
      "  E[i] = trial_fourier @ np.diag(h_or_l) @ np.matrix(trial_fourier).H\n",
      "/home/inffzy/Desktop/cogs189/cogs189_final_project/scripts/SACSP.py:410: ComplexWarning: Casting complex values to real discards the imaginary part\n",
      "  extracted_features[i, j] = extracted_feature[0, 0]\n",
      "/home/inffzy/Desktop/cogs189/cogs189_final_project/scripts/SACSP.py:410: ComplexWarning: Casting complex values to real discards the imaginary part\n",
      "  extracted_features[i, j] = extracted_feature[0, 0]\n"
     ]
    },
    {
     "name": "stdout",
     "output_type": "stream",
     "text": [
      "Cross validation score average:  0.8933333333333333\n",
      "Training accuracy:  0.9629629629629629\n",
      "Testing accuracy:  1.0\n"
     ]
    },
    {
     "name": "stderr",
     "output_type": "stream",
     "text": [
      "/home/inffzy/Desktop/cogs189/cogs189_final_project/scripts/SACSP.py:410: ComplexWarning: Casting complex values to real discards the imaginary part\n",
      "  extracted_features[i, j] = extracted_feature[0, 0]\n",
      "/home/inffzy/Desktop/cogs189/cogs189_final_project/scripts/SACSP.py:198: ComplexWarning: Casting complex values to real discards the imaginary part\n",
      "  E[i] = trial_fourier @ np.diag(h_or_l) @ np.matrix(trial_fourier).H\n",
      "/home/inffzy/Desktop/cogs189/cogs189_final_project/scripts/SACSP.py:225: ComplexWarning: Casting complex values to real discards the imaginary part\n",
      "  E[i] = np.matrix(trial_fourier).H @ w_or_v @ w_or_v.T @ trial_fourier\n",
      "/home/inffzy/Desktop/cogs189/cogs189_final_project/scripts/SACSP.py:177: ComplexWarning: Casting complex values to real discards the imaginary part\n",
      "  E[i] = trial_fourier @ np.diag(h_or_l) @ np.matrix(trial_fourier).H\n",
      "/home/inffzy/Desktop/cogs189/cogs189_final_project/scripts/SACSP.py:410: ComplexWarning: Casting complex values to real discards the imaginary part\n",
      "  extracted_features[i, j] = extracted_feature[0, 0]\n"
     ]
    },
    {
     "name": "stdout",
     "output_type": "stream",
     "text": [
      "Cross validation score average:  0.5023391812865498\n"
     ]
    },
    {
     "name": "stderr",
     "output_type": "stream",
     "text": [
      "/home/inffzy/Desktop/cogs189/cogs189_final_project/scripts/SACSP.py:410: ComplexWarning: Casting complex values to real discards the imaginary part\n",
      "  extracted_features[i, j] = extracted_feature[0, 0]\n"
     ]
    },
    {
     "name": "stdout",
     "output_type": "stream",
     "text": [
      "Training accuracy:  0.5543478260869565\n",
      "Testing accuracy:  0.4782608695652174\n"
     ]
    },
    {
     "name": "stderr",
     "output_type": "stream",
     "text": [
      "/home/inffzy/Desktop/cogs189/cogs189_final_project/scripts/SACSP.py:410: ComplexWarning: Casting complex values to real discards the imaginary part\n",
      "  extracted_features[i, j] = extracted_feature[0, 0]\n",
      "/home/inffzy/Desktop/cogs189/cogs189_final_project/scripts/SACSP.py:198: ComplexWarning: Casting complex values to real discards the imaginary part\n",
      "  E[i] = trial_fourier @ np.diag(h_or_l) @ np.matrix(trial_fourier).H\n",
      "/home/inffzy/Desktop/cogs189/cogs189_final_project/scripts/SACSP.py:225: ComplexWarning: Casting complex values to real discards the imaginary part\n",
      "  E[i] = np.matrix(trial_fourier).H @ w_or_v @ w_or_v.T @ trial_fourier\n",
      "/home/inffzy/Desktop/cogs189/cogs189_final_project/scripts/SACSP.py:177: ComplexWarning: Casting complex values to real discards the imaginary part\n",
      "  E[i] = trial_fourier @ np.diag(h_or_l) @ np.matrix(trial_fourier).H\n",
      "/home/inffzy/Desktop/cogs189/cogs189_final_project/scripts/SACSP.py:410: ComplexWarning: Casting complex values to real discards the imaginary part\n",
      "  extracted_features[i, j] = extracted_feature[0, 0]\n"
     ]
    },
    {
     "name": "stdout",
     "output_type": "stream",
     "text": [
      "Cross validation score average:  0.5947368421052632\n"
     ]
    },
    {
     "name": "stderr",
     "output_type": "stream",
     "text": [
      "/home/inffzy/Desktop/cogs189/cogs189_final_project/scripts/SACSP.py:410: ComplexWarning: Casting complex values to real discards the imaginary part\n",
      "  extracted_features[i, j] = extracted_feature[0, 0]\n"
     ]
    },
    {
     "name": "stdout",
     "output_type": "stream",
     "text": [
      "Training accuracy:  0.6263736263736264\n",
      "Testing accuracy:  0.26666666666666666\n"
     ]
    },
    {
     "name": "stderr",
     "output_type": "stream",
     "text": [
      "/home/inffzy/Desktop/cogs189/cogs189_final_project/scripts/SACSP.py:410: ComplexWarning: Casting complex values to real discards the imaginary part\n",
      "  extracted_features[i, j] = extracted_feature[0, 0]\n",
      "/home/inffzy/Desktop/cogs189/cogs189_final_project/scripts/SACSP.py:198: ComplexWarning: Casting complex values to real discards the imaginary part\n",
      "  E[i] = trial_fourier @ np.diag(h_or_l) @ np.matrix(trial_fourier).H\n",
      "/home/inffzy/Desktop/cogs189/cogs189_final_project/scripts/SACSP.py:225: ComplexWarning: Casting complex values to real discards the imaginary part\n",
      "  E[i] = np.matrix(trial_fourier).H @ w_or_v @ w_or_v.T @ trial_fourier\n",
      "/home/inffzy/Desktop/cogs189/cogs189_final_project/scripts/SACSP.py:177: ComplexWarning: Casting complex values to real discards the imaginary part\n",
      "  E[i] = trial_fourier @ np.diag(h_or_l) @ np.matrix(trial_fourier).H\n",
      "/home/inffzy/Desktop/cogs189/cogs189_final_project/scripts/SACSP.py:410: ComplexWarning: Casting complex values to real discards the imaginary part\n",
      "  extracted_features[i, j] = extracted_feature[0, 0]\n"
     ]
    },
    {
     "name": "stdout",
     "output_type": "stream",
     "text": [
      "Cross validation score average:  0.8789473684210527\n"
     ]
    },
    {
     "name": "stderr",
     "output_type": "stream",
     "text": [
      "/home/inffzy/Desktop/cogs189/cogs189_final_project/scripts/SACSP.py:410: ComplexWarning: Casting complex values to real discards the imaginary part\n",
      "  extracted_features[i, j] = extracted_feature[0, 0]\n"
     ]
    },
    {
     "name": "stdout",
     "output_type": "stream",
     "text": [
      "Training accuracy:  0.8901098901098901\n",
      "Testing accuracy:  0.9347826086956522\n"
     ]
    },
    {
     "name": "stderr",
     "output_type": "stream",
     "text": [
      "/home/inffzy/Desktop/cogs189/cogs189_final_project/scripts/SACSP.py:410: ComplexWarning: Casting complex values to real discards the imaginary part\n",
      "  extracted_features[i, j] = extracted_feature[0, 0]\n",
      "/home/inffzy/Desktop/cogs189/cogs189_final_project/scripts/SACSP.py:198: ComplexWarning: Casting complex values to real discards the imaginary part\n",
      "  E[i] = trial_fourier @ np.diag(h_or_l) @ np.matrix(trial_fourier).H\n",
      "/home/inffzy/Desktop/cogs189/cogs189_final_project/scripts/SACSP.py:225: ComplexWarning: Casting complex values to real discards the imaginary part\n",
      "  E[i] = np.matrix(trial_fourier).H @ w_or_v @ w_or_v.T @ trial_fourier\n",
      "/home/inffzy/Desktop/cogs189/cogs189_final_project/scripts/SACSP.py:177: ComplexWarning: Casting complex values to real discards the imaginary part\n",
      "  E[i] = trial_fourier @ np.diag(h_or_l) @ np.matrix(trial_fourier).H\n",
      "/home/inffzy/Desktop/cogs189/cogs189_final_project/scripts/SACSP.py:410: ComplexWarning: Casting complex values to real discards the imaginary part\n",
      "  extracted_features[i, j] = extracted_feature[0, 0]\n"
     ]
    },
    {
     "name": "stdout",
     "output_type": "stream",
     "text": [
      "Cross validation score average:  0.5803921568627451\n"
     ]
    },
    {
     "name": "stderr",
     "output_type": "stream",
     "text": [
      "/home/inffzy/Desktop/cogs189/cogs189_final_project/scripts/SACSP.py:410: ComplexWarning: Casting complex values to real discards the imaginary part\n",
      "  extracted_features[i, j] = extracted_feature[0, 0]\n"
     ]
    },
    {
     "name": "stdout",
     "output_type": "stream",
     "text": [
      "Training accuracy:  0.5581395348837209\n",
      "Testing accuracy:  0.627906976744186\n"
     ]
    },
    {
     "name": "stderr",
     "output_type": "stream",
     "text": [
      "/home/inffzy/Desktop/cogs189/cogs189_final_project/scripts/SACSP.py:410: ComplexWarning: Casting complex values to real discards the imaginary part\n",
      "  extracted_features[i, j] = extracted_feature[0, 0]\n",
      "/home/inffzy/Desktop/cogs189/cogs189_final_project/scripts/SACSP.py:198: ComplexWarning: Casting complex values to real discards the imaginary part\n",
      "  E[i] = trial_fourier @ np.diag(h_or_l) @ np.matrix(trial_fourier).H\n",
      "/home/inffzy/Desktop/cogs189/cogs189_final_project/scripts/SACSP.py:225: ComplexWarning: Casting complex values to real discards the imaginary part\n",
      "  E[i] = np.matrix(trial_fourier).H @ w_or_v @ w_or_v.T @ trial_fourier\n",
      "/home/inffzy/Desktop/cogs189/cogs189_final_project/scripts/SACSP.py:177: ComplexWarning: Casting complex values to real discards the imaginary part\n",
      "  E[i] = trial_fourier @ np.diag(h_or_l) @ np.matrix(trial_fourier).H\n",
      "/home/inffzy/Desktop/cogs189/cogs189_final_project/scripts/SACSP.py:410: ComplexWarning: Casting complex values to real discards the imaginary part\n",
      "  extracted_features[i, j] = extracted_feature[0, 0]\n"
     ]
    },
    {
     "name": "stdout",
     "output_type": "stream",
     "text": [
      "Cross validation score average:  0.6287581699346406\n"
     ]
    },
    {
     "name": "stderr",
     "output_type": "stream",
     "text": [
      "/home/inffzy/Desktop/cogs189/cogs189_final_project/scripts/SACSP.py:410: ComplexWarning: Casting complex values to real discards the imaginary part\n",
      "  extracted_features[i, j] = extracted_feature[0, 0]\n"
     ]
    },
    {
     "name": "stdout",
     "output_type": "stream",
     "text": [
      "Training accuracy:  0.627906976744186\n",
      "Testing accuracy:  0.37209302325581395\n"
     ]
    },
    {
     "name": "stderr",
     "output_type": "stream",
     "text": [
      "/home/inffzy/Desktop/cogs189/cogs189_final_project/scripts/SACSP.py:410: ComplexWarning: Casting complex values to real discards the imaginary part\n",
      "  extracted_features[i, j] = extracted_feature[0, 0]\n",
      "/home/inffzy/Desktop/cogs189/cogs189_final_project/scripts/SACSP.py:198: ComplexWarning: Casting complex values to real discards the imaginary part\n",
      "  E[i] = trial_fourier @ np.diag(h_or_l) @ np.matrix(trial_fourier).H\n",
      "/home/inffzy/Desktop/cogs189/cogs189_final_project/scripts/SACSP.py:225: ComplexWarning: Casting complex values to real discards the imaginary part\n",
      "  E[i] = np.matrix(trial_fourier).H @ w_or_v @ w_or_v.T @ trial_fourier\n",
      "/home/inffzy/Desktop/cogs189/cogs189_final_project/scripts/SACSP.py:177: ComplexWarning: Casting complex values to real discards the imaginary part\n",
      "  E[i] = trial_fourier @ np.diag(h_or_l) @ np.matrix(trial_fourier).H\n",
      "/home/inffzy/Desktop/cogs189/cogs189_final_project/scripts/SACSP.py:410: ComplexWarning: Casting complex values to real discards the imaginary part\n",
      "  extracted_features[i, j] = extracted_feature[0, 0]\n"
     ]
    },
    {
     "name": "stdout",
     "output_type": "stream",
     "text": [
      "Cross validation score average:  0.5866666666666667\n"
     ]
    },
    {
     "name": "stderr",
     "output_type": "stream",
     "text": [
      "/home/inffzy/Desktop/cogs189/cogs189_final_project/scripts/SACSP.py:410: ComplexWarning: Casting complex values to real discards the imaginary part\n",
      "  extracted_features[i, j] = extracted_feature[0, 0]\n"
     ]
    },
    {
     "name": "stdout",
     "output_type": "stream",
     "text": [
      "Training accuracy:  0.64\n",
      "Testing accuracy:  0.3157894736842105\n"
     ]
    },
    {
     "name": "stderr",
     "output_type": "stream",
     "text": [
      "/home/inffzy/Desktop/cogs189/cogs189_final_project/scripts/SACSP.py:410: ComplexWarning: Casting complex values to real discards the imaginary part\n",
      "  extracted_features[i, j] = extracted_feature[0, 0]\n",
      "/home/inffzy/Desktop/cogs189/cogs189_final_project/scripts/SACSP.py:198: ComplexWarning: Casting complex values to real discards the imaginary part\n",
      "  E[i] = trial_fourier @ np.diag(h_or_l) @ np.matrix(trial_fourier).H\n",
      "/home/inffzy/Desktop/cogs189/cogs189_final_project/scripts/SACSP.py:225: ComplexWarning: Casting complex values to real discards the imaginary part\n",
      "  E[i] = np.matrix(trial_fourier).H @ w_or_v @ w_or_v.T @ trial_fourier\n",
      "/home/inffzy/Desktop/cogs189/cogs189_final_project/scripts/SACSP.py:177: ComplexWarning: Casting complex values to real discards the imaginary part\n",
      "  E[i] = trial_fourier @ np.diag(h_or_l) @ np.matrix(trial_fourier).H\n",
      "/home/inffzy/Desktop/cogs189/cogs189_final_project/scripts/SACSP.py:410: ComplexWarning: Casting complex values to real discards the imaginary part\n",
      "  extracted_features[i, j] = extracted_feature[0, 0]\n"
     ]
    },
    {
     "name": "stdout",
     "output_type": "stream",
     "text": [
      "Cross validation score average:  0.550326797385621\n"
     ]
    },
    {
     "name": "stderr",
     "output_type": "stream",
     "text": [
      "/home/inffzy/Desktop/cogs189/cogs189_final_project/scripts/SACSP.py:410: ComplexWarning: Casting complex values to real discards the imaginary part\n",
      "  extracted_features[i, j] = extracted_feature[0, 0]\n"
     ]
    },
    {
     "name": "stdout",
     "output_type": "stream",
     "text": [
      "Training accuracy:  0.5730337078651685\n",
      "Testing accuracy:  0.5681818181818182\n"
     ]
    },
    {
     "name": "stderr",
     "output_type": "stream",
     "text": [
      "/home/inffzy/Desktop/cogs189/cogs189_final_project/scripts/SACSP.py:410: ComplexWarning: Casting complex values to real discards the imaginary part\n",
      "  extracted_features[i, j] = extracted_feature[0, 0]\n",
      "/home/inffzy/Desktop/cogs189/cogs189_final_project/scripts/SACSP.py:198: ComplexWarning: Casting complex values to real discards the imaginary part\n",
      "  E[i] = trial_fourier @ np.diag(h_or_l) @ np.matrix(trial_fourier).H\n",
      "/home/inffzy/Desktop/cogs189/cogs189_final_project/scripts/SACSP.py:225: ComplexWarning: Casting complex values to real discards the imaginary part\n",
      "  E[i] = np.matrix(trial_fourier).H @ w_or_v @ w_or_v.T @ trial_fourier\n",
      "/home/inffzy/Desktop/cogs189/cogs189_final_project/scripts/SACSP.py:177: ComplexWarning: Casting complex values to real discards the imaginary part\n",
      "  E[i] = trial_fourier @ np.diag(h_or_l) @ np.matrix(trial_fourier).H\n",
      "/home/inffzy/Desktop/cogs189/cogs189_final_project/scripts/SACSP.py:410: ComplexWarning: Casting complex values to real discards the imaginary part\n",
      "  extracted_features[i, j] = extracted_feature[0, 0]\n"
     ]
    },
    {
     "name": "stdout",
     "output_type": "stream",
     "text": [
      "Cross validation score average:  0.9202614379084967\n"
     ]
    },
    {
     "name": "stderr",
     "output_type": "stream",
     "text": [
      "/home/inffzy/Desktop/cogs189/cogs189_final_project/scripts/SACSP.py:410: ComplexWarning: Casting complex values to real discards the imaginary part\n",
      "  extracted_features[i, j] = extracted_feature[0, 0]\n"
     ]
    },
    {
     "name": "stdout",
     "output_type": "stream",
     "text": [
      "Training accuracy:  0.9318181818181818\n",
      "Testing accuracy:  0.9318181818181818\n"
     ]
    },
    {
     "name": "stderr",
     "output_type": "stream",
     "text": [
      "/home/inffzy/Desktop/cogs189/cogs189_final_project/scripts/SACSP.py:410: ComplexWarning: Casting complex values to real discards the imaginary part\n",
      "  extracted_features[i, j] = extracted_feature[0, 0]\n",
      "/home/inffzy/Desktop/cogs189/cogs189_final_project/scripts/SACSP.py:198: ComplexWarning: Casting complex values to real discards the imaginary part\n",
      "  E[i] = trial_fourier @ np.diag(h_or_l) @ np.matrix(trial_fourier).H\n",
      "/home/inffzy/Desktop/cogs189/cogs189_final_project/scripts/SACSP.py:225: ComplexWarning: Casting complex values to real discards the imaginary part\n",
      "  E[i] = np.matrix(trial_fourier).H @ w_or_v @ w_or_v.T @ trial_fourier\n",
      "/home/inffzy/Desktop/cogs189/cogs189_final_project/scripts/SACSP.py:177: ComplexWarning: Casting complex values to real discards the imaginary part\n",
      "  E[i] = trial_fourier @ np.diag(h_or_l) @ np.matrix(trial_fourier).H\n",
      "/home/inffzy/Desktop/cogs189/cogs189_final_project/scripts/SACSP.py:410: ComplexWarning: Casting complex values to real discards the imaginary part\n",
      "  extracted_features[i, j] = extracted_feature[0, 0]\n"
     ]
    },
    {
     "name": "stdout",
     "output_type": "stream",
     "text": [
      "Cross validation score average:  0.675\n"
     ]
    },
    {
     "name": "stderr",
     "output_type": "stream",
     "text": [
      "/home/inffzy/Desktop/cogs189/cogs189_final_project/scripts/SACSP.py:410: ComplexWarning: Casting complex values to real discards the imaginary part\n",
      "  extracted_features[i, j] = extracted_feature[0, 0]\n"
     ]
    },
    {
     "name": "stdout",
     "output_type": "stream",
     "text": [
      "Training accuracy:  0.7012987012987013\n",
      "Testing accuracy:  0.6666666666666666\n"
     ]
    },
    {
     "name": "stderr",
     "output_type": "stream",
     "text": [
      "/home/inffzy/Desktop/cogs189/cogs189_final_project/scripts/SACSP.py:410: ComplexWarning: Casting complex values to real discards the imaginary part\n",
      "  extracted_features[i, j] = extracted_feature[0, 0]\n",
      "/home/inffzy/Desktop/cogs189/cogs189_final_project/scripts/SACSP.py:198: ComplexWarning: Casting complex values to real discards the imaginary part\n",
      "  E[i] = trial_fourier @ np.diag(h_or_l) @ np.matrix(trial_fourier).H\n",
      "/home/inffzy/Desktop/cogs189/cogs189_final_project/scripts/SACSP.py:225: ComplexWarning: Casting complex values to real discards the imaginary part\n",
      "  E[i] = np.matrix(trial_fourier).H @ w_or_v @ w_or_v.T @ trial_fourier\n",
      "/home/inffzy/Desktop/cogs189/cogs189_final_project/scripts/SACSP.py:177: ComplexWarning: Casting complex values to real discards the imaginary part\n",
      "  E[i] = trial_fourier @ np.diag(h_or_l) @ np.matrix(trial_fourier).H\n",
      "/home/inffzy/Desktop/cogs189/cogs189_final_project/scripts/SACSP.py:410: ComplexWarning: Casting complex values to real discards the imaginary part\n",
      "  extracted_features[i, j] = extracted_feature[0, 0]\n",
      "/home/inffzy/Desktop/cogs189/cogs189_final_project/scripts/SACSP.py:410: ComplexWarning: Casting complex values to real discards the imaginary part\n",
      "  extracted_features[i, j] = extracted_feature[0, 0]\n"
     ]
    },
    {
     "name": "stdout",
     "output_type": "stream",
     "text": [
      "Cross validation score average:  0.7755555555555556\n",
      "Training accuracy:  0.7708333333333334\n"
     ]
    },
    {
     "name": "stderr",
     "output_type": "stream",
     "text": [
      "/home/inffzy/Desktop/cogs189/cogs189_final_project/scripts/SACSP.py:410: ComplexWarning: Casting complex values to real discards the imaginary part\n",
      "  extracted_features[i, j] = extracted_feature[0, 0]\n",
      "/home/inffzy/Desktop/cogs189/cogs189_final_project/scripts/SACSP.py:198: ComplexWarning: Casting complex values to real discards the imaginary part\n",
      "  E[i] = trial_fourier @ np.diag(h_or_l) @ np.matrix(trial_fourier).H\n",
      "/home/inffzy/Desktop/cogs189/cogs189_final_project/scripts/SACSP.py:225: ComplexWarning: Casting complex values to real discards the imaginary part\n",
      "  E[i] = np.matrix(trial_fourier).H @ w_or_v @ w_or_v.T @ trial_fourier\n",
      "/home/inffzy/Desktop/cogs189/cogs189_final_project/scripts/SACSP.py:177: ComplexWarning: Casting complex values to real discards the imaginary part\n",
      "  E[i] = trial_fourier @ np.diag(h_or_l) @ np.matrix(trial_fourier).H\n"
     ]
    },
    {
     "name": "stdout",
     "output_type": "stream",
     "text": [
      "Testing accuracy:  0.68\n"
     ]
    },
    {
     "name": "stderr",
     "output_type": "stream",
     "text": [
      "/home/inffzy/Desktop/cogs189/cogs189_final_project/scripts/SACSP.py:410: ComplexWarning: Casting complex values to real discards the imaginary part\n",
      "  extracted_features[i, j] = extracted_feature[0, 0]\n",
      "/home/inffzy/Desktop/cogs189/cogs189_final_project/scripts/SACSP.py:410: ComplexWarning: Casting complex values to real discards the imaginary part\n",
      "  extracted_features[i, j] = extracted_feature[0, 0]\n"
     ]
    },
    {
     "name": "stdout",
     "output_type": "stream",
     "text": [
      "Cross validation score average:  0.5809523809523809\n",
      "Training accuracy:  0.6451612903225806\n",
      "Testing accuracy:  0.3125\n"
     ]
    },
    {
     "name": "stderr",
     "output_type": "stream",
     "text": [
      "/home/inffzy/Desktop/cogs189/cogs189_final_project/scripts/SACSP.py:410: ComplexWarning: Casting complex values to real discards the imaginary part\n",
      "  extracted_features[i, j] = extracted_feature[0, 0]\n",
      "/home/inffzy/Desktop/cogs189/cogs189_final_project/scripts/SACSP.py:198: ComplexWarning: Casting complex values to real discards the imaginary part\n",
      "  E[i] = trial_fourier @ np.diag(h_or_l) @ np.matrix(trial_fourier).H\n",
      "/home/inffzy/Desktop/cogs189/cogs189_final_project/scripts/SACSP.py:225: ComplexWarning: Casting complex values to real discards the imaginary part\n",
      "  E[i] = np.matrix(trial_fourier).H @ w_or_v @ w_or_v.T @ trial_fourier\n",
      "/home/inffzy/Desktop/cogs189/cogs189_final_project/scripts/SACSP.py:177: ComplexWarning: Casting complex values to real discards the imaginary part\n",
      "  E[i] = trial_fourier @ np.diag(h_or_l) @ np.matrix(trial_fourier).H\n",
      "/home/inffzy/Desktop/cogs189/cogs189_final_project/scripts/SACSP.py:410: ComplexWarning: Casting complex values to real discards the imaginary part\n",
      "  extracted_features[i, j] = extracted_feature[0, 0]\n",
      "/home/inffzy/Desktop/cogs189/cogs189_final_project/scripts/SACSP.py:410: ComplexWarning: Casting complex values to real discards the imaginary part\n",
      "  extracted_features[i, j] = extracted_feature[0, 0]\n"
     ]
    },
    {
     "name": "stdout",
     "output_type": "stream",
     "text": [
      "Cross validation score average:  0.6933333333333334\n",
      "Training accuracy:  0.7777777777777778\n",
      "Testing accuracy:  0.6428571428571429\n"
     ]
    },
    {
     "name": "stderr",
     "output_type": "stream",
     "text": [
      "/home/inffzy/Desktop/cogs189/cogs189_final_project/scripts/SACSP.py:410: ComplexWarning: Casting complex values to real discards the imaginary part\n",
      "  extracted_features[i, j] = extracted_feature[0, 0]\n",
      "/home/inffzy/Desktop/cogs189/cogs189_final_project/scripts/SACSP.py:198: ComplexWarning: Casting complex values to real discards the imaginary part\n",
      "  E[i] = trial_fourier @ np.diag(h_or_l) @ np.matrix(trial_fourier).H\n",
      "/home/inffzy/Desktop/cogs189/cogs189_final_project/scripts/SACSP.py:225: ComplexWarning: Casting complex values to real discards the imaginary part\n",
      "  E[i] = np.matrix(trial_fourier).H @ w_or_v @ w_or_v.T @ trial_fourier\n",
      "/home/inffzy/Desktop/cogs189/cogs189_final_project/scripts/SACSP.py:177: ComplexWarning: Casting complex values to real discards the imaginary part\n",
      "  E[i] = trial_fourier @ np.diag(h_or_l) @ np.matrix(trial_fourier).H\n",
      "/home/inffzy/Desktop/cogs189/cogs189_final_project/scripts/SACSP.py:410: ComplexWarning: Casting complex values to real discards the imaginary part\n",
      "  extracted_features[i, j] = extracted_feature[0, 0]\n"
     ]
    },
    {
     "name": "stdout",
     "output_type": "stream",
     "text": [
      "Cross validation score average:  0.7192982456140351\n"
     ]
    },
    {
     "name": "stderr",
     "output_type": "stream",
     "text": [
      "/home/inffzy/Desktop/cogs189/cogs189_final_project/scripts/SACSP.py:410: ComplexWarning: Casting complex values to real discards the imaginary part\n",
      "  extracted_features[i, j] = extracted_feature[0, 0]\n"
     ]
    },
    {
     "name": "stdout",
     "output_type": "stream",
     "text": [
      "Training accuracy:  0.7282608695652174\n",
      "Testing accuracy:  0.6956521739130435\n"
     ]
    },
    {
     "name": "stderr",
     "output_type": "stream",
     "text": [
      "/home/inffzy/Desktop/cogs189/cogs189_final_project/scripts/SACSP.py:410: ComplexWarning: Casting complex values to real discards the imaginary part\n",
      "  extracted_features[i, j] = extracted_feature[0, 0]\n",
      "/home/inffzy/Desktop/cogs189/cogs189_final_project/scripts/SACSP.py:198: ComplexWarning: Casting complex values to real discards the imaginary part\n",
      "  E[i] = trial_fourier @ np.diag(h_or_l) @ np.matrix(trial_fourier).H\n",
      "/home/inffzy/Desktop/cogs189/cogs189_final_project/scripts/SACSP.py:225: ComplexWarning: Casting complex values to real discards the imaginary part\n",
      "  E[i] = np.matrix(trial_fourier).H @ w_or_v @ w_or_v.T @ trial_fourier\n",
      "/home/inffzy/Desktop/cogs189/cogs189_final_project/scripts/SACSP.py:177: ComplexWarning: Casting complex values to real discards the imaginary part\n",
      "  E[i] = trial_fourier @ np.diag(h_or_l) @ np.matrix(trial_fourier).H\n",
      "/home/inffzy/Desktop/cogs189/cogs189_final_project/scripts/SACSP.py:410: ComplexWarning: Casting complex values to real discards the imaginary part\n",
      "  extracted_features[i, j] = extracted_feature[0, 0]\n"
     ]
    },
    {
     "name": "stdout",
     "output_type": "stream",
     "text": [
      "Cross validation score average:  0.6374269005847953\n"
     ]
    },
    {
     "name": "stderr",
     "output_type": "stream",
     "text": [
      "/home/inffzy/Desktop/cogs189/cogs189_final_project/scripts/SACSP.py:410: ComplexWarning: Casting complex values to real discards the imaginary part\n",
      "  extracted_features[i, j] = extracted_feature[0, 0]\n"
     ]
    },
    {
     "name": "stdout",
     "output_type": "stream",
     "text": [
      "Training accuracy:  0.6483516483516484\n",
      "Testing accuracy:  0.35555555555555557\n"
     ]
    },
    {
     "name": "stderr",
     "output_type": "stream",
     "text": [
      "/home/inffzy/Desktop/cogs189/cogs189_final_project/scripts/SACSP.py:410: ComplexWarning: Casting complex values to real discards the imaginary part\n",
      "  extracted_features[i, j] = extracted_feature[0, 0]\n",
      "/home/inffzy/Desktop/cogs189/cogs189_final_project/scripts/SACSP.py:198: ComplexWarning: Casting complex values to real discards the imaginary part\n",
      "  E[i] = trial_fourier @ np.diag(h_or_l) @ np.matrix(trial_fourier).H\n",
      "/home/inffzy/Desktop/cogs189/cogs189_final_project/scripts/SACSP.py:225: ComplexWarning: Casting complex values to real discards the imaginary part\n",
      "  E[i] = np.matrix(trial_fourier).H @ w_or_v @ w_or_v.T @ trial_fourier\n",
      "/home/inffzy/Desktop/cogs189/cogs189_final_project/scripts/SACSP.py:177: ComplexWarning: Casting complex values to real discards the imaginary part\n",
      "  E[i] = trial_fourier @ np.diag(h_or_l) @ np.matrix(trial_fourier).H\n",
      "/home/inffzy/Desktop/cogs189/cogs189_final_project/scripts/SACSP.py:410: ComplexWarning: Casting complex values to real discards the imaginary part\n",
      "  extracted_features[i, j] = extracted_feature[0, 0]\n"
     ]
    },
    {
     "name": "stdout",
     "output_type": "stream",
     "text": [
      "Cross validation score average:  0.9228070175438597\n"
     ]
    },
    {
     "name": "stderr",
     "output_type": "stream",
     "text": [
      "/home/inffzy/Desktop/cogs189/cogs189_final_project/scripts/SACSP.py:410: ComplexWarning: Casting complex values to real discards the imaginary part\n",
      "  extracted_features[i, j] = extracted_feature[0, 0]\n"
     ]
    },
    {
     "name": "stdout",
     "output_type": "stream",
     "text": [
      "Training accuracy:  0.945054945054945\n",
      "Testing accuracy:  0.9347826086956522\n"
     ]
    },
    {
     "name": "stderr",
     "output_type": "stream",
     "text": [
      "/home/inffzy/Desktop/cogs189/cogs189_final_project/scripts/SACSP.py:410: ComplexWarning: Casting complex values to real discards the imaginary part\n",
      "  extracted_features[i, j] = extracted_feature[0, 0]\n",
      "/home/inffzy/Desktop/cogs189/cogs189_final_project/scripts/SACSP.py:198: ComplexWarning: Casting complex values to real discards the imaginary part\n",
      "  E[i] = trial_fourier @ np.diag(h_or_l) @ np.matrix(trial_fourier).H\n",
      "/home/inffzy/Desktop/cogs189/cogs189_final_project/scripts/SACSP.py:225: ComplexWarning: Casting complex values to real discards the imaginary part\n",
      "  E[i] = np.matrix(trial_fourier).H @ w_or_v @ w_or_v.T @ trial_fourier\n",
      "/home/inffzy/Desktop/cogs189/cogs189_final_project/scripts/SACSP.py:177: ComplexWarning: Casting complex values to real discards the imaginary part\n",
      "  E[i] = trial_fourier @ np.diag(h_or_l) @ np.matrix(trial_fourier).H\n",
      "/home/inffzy/Desktop/cogs189/cogs189_final_project/scripts/SACSP.py:410: ComplexWarning: Casting complex values to real discards the imaginary part\n",
      "  extracted_features[i, j] = extracted_feature[0, 0]\n"
     ]
    },
    {
     "name": "stdout",
     "output_type": "stream",
     "text": [
      "Cross validation score average:  0.5117647058823529\n"
     ]
    },
    {
     "name": "stderr",
     "output_type": "stream",
     "text": [
      "/home/inffzy/Desktop/cogs189/cogs189_final_project/scripts/SACSP.py:410: ComplexWarning: Casting complex values to real discards the imaginary part\n",
      "  extracted_features[i, j] = extracted_feature[0, 0]\n"
     ]
    },
    {
     "name": "stdout",
     "output_type": "stream",
     "text": [
      "Training accuracy:  0.5581395348837209\n",
      "Testing accuracy:  0.6046511627906976\n"
     ]
    },
    {
     "name": "stderr",
     "output_type": "stream",
     "text": [
      "/home/inffzy/Desktop/cogs189/cogs189_final_project/scripts/SACSP.py:410: ComplexWarning: Casting complex values to real discards the imaginary part\n",
      "  extracted_features[i, j] = extracted_feature[0, 0]\n",
      "/home/inffzy/Desktop/cogs189/cogs189_final_project/scripts/SACSP.py:198: ComplexWarning: Casting complex values to real discards the imaginary part\n",
      "  E[i] = trial_fourier @ np.diag(h_or_l) @ np.matrix(trial_fourier).H\n",
      "/home/inffzy/Desktop/cogs189/cogs189_final_project/scripts/SACSP.py:225: ComplexWarning: Casting complex values to real discards the imaginary part\n",
      "  E[i] = np.matrix(trial_fourier).H @ w_or_v @ w_or_v.T @ trial_fourier\n",
      "/home/inffzy/Desktop/cogs189/cogs189_final_project/scripts/SACSP.py:177: ComplexWarning: Casting complex values to real discards the imaginary part\n",
      "  E[i] = trial_fourier @ np.diag(h_or_l) @ np.matrix(trial_fourier).H\n",
      "/home/inffzy/Desktop/cogs189/cogs189_final_project/scripts/SACSP.py:410: ComplexWarning: Casting complex values to real discards the imaginary part\n",
      "  extracted_features[i, j] = extracted_feature[0, 0]\n"
     ]
    },
    {
     "name": "stdout",
     "output_type": "stream",
     "text": [
      "Cross validation score average:  0.592156862745098\n"
     ]
    },
    {
     "name": "stderr",
     "output_type": "stream",
     "text": [
      "/home/inffzy/Desktop/cogs189/cogs189_final_project/scripts/SACSP.py:410: ComplexWarning: Casting complex values to real discards the imaginary part\n",
      "  extracted_features[i, j] = extracted_feature[0, 0]\n"
     ]
    },
    {
     "name": "stdout",
     "output_type": "stream",
     "text": [
      "Training accuracy:  0.6744186046511628\n",
      "Testing accuracy:  0.4186046511627907\n"
     ]
    },
    {
     "name": "stderr",
     "output_type": "stream",
     "text": [
      "/home/inffzy/Desktop/cogs189/cogs189_final_project/scripts/SACSP.py:410: ComplexWarning: Casting complex values to real discards the imaginary part\n",
      "  extracted_features[i, j] = extracted_feature[0, 0]\n",
      "/home/inffzy/Desktop/cogs189/cogs189_final_project/scripts/SACSP.py:198: ComplexWarning: Casting complex values to real discards the imaginary part\n",
      "  E[i] = trial_fourier @ np.diag(h_or_l) @ np.matrix(trial_fourier).H\n",
      "/home/inffzy/Desktop/cogs189/cogs189_final_project/scripts/SACSP.py:225: ComplexWarning: Casting complex values to real discards the imaginary part\n",
      "  E[i] = np.matrix(trial_fourier).H @ w_or_v @ w_or_v.T @ trial_fourier\n",
      "/home/inffzy/Desktop/cogs189/cogs189_final_project/scripts/SACSP.py:177: ComplexWarning: Casting complex values to real discards the imaginary part\n",
      "  E[i] = trial_fourier @ np.diag(h_or_l) @ np.matrix(trial_fourier).H\n",
      "/home/inffzy/Desktop/cogs189/cogs189_final_project/scripts/SACSP.py:410: ComplexWarning: Casting complex values to real discards the imaginary part\n",
      "  extracted_features[i, j] = extracted_feature[0, 0]\n"
     ]
    },
    {
     "name": "stdout",
     "output_type": "stream",
     "text": [
      "Cross validation score average:  0.5599999999999999\n"
     ]
    },
    {
     "name": "stderr",
     "output_type": "stream",
     "text": [
      "/home/inffzy/Desktop/cogs189/cogs189_final_project/scripts/SACSP.py:410: ComplexWarning: Casting complex values to real discards the imaginary part\n",
      "  extracted_features[i, j] = extracted_feature[0, 0]\n"
     ]
    },
    {
     "name": "stdout",
     "output_type": "stream",
     "text": [
      "Training accuracy:  0.6666666666666666\n",
      "Testing accuracy:  0.4473684210526316\n"
     ]
    },
    {
     "name": "stderr",
     "output_type": "stream",
     "text": [
      "/home/inffzy/Desktop/cogs189/cogs189_final_project/scripts/SACSP.py:410: ComplexWarning: Casting complex values to real discards the imaginary part\n",
      "  extracted_features[i, j] = extracted_feature[0, 0]\n",
      "/home/inffzy/Desktop/cogs189/cogs189_final_project/scripts/SACSP.py:198: ComplexWarning: Casting complex values to real discards the imaginary part\n",
      "  E[i] = trial_fourier @ np.diag(h_or_l) @ np.matrix(trial_fourier).H\n",
      "/home/inffzy/Desktop/cogs189/cogs189_final_project/scripts/SACSP.py:225: ComplexWarning: Casting complex values to real discards the imaginary part\n",
      "  E[i] = np.matrix(trial_fourier).H @ w_or_v @ w_or_v.T @ trial_fourier\n",
      "/home/inffzy/Desktop/cogs189/cogs189_final_project/scripts/SACSP.py:177: ComplexWarning: Casting complex values to real discards the imaginary part\n",
      "  E[i] = trial_fourier @ np.diag(h_or_l) @ np.matrix(trial_fourier).H\n",
      "/home/inffzy/Desktop/cogs189/cogs189_final_project/scripts/SACSP.py:410: ComplexWarning: Casting complex values to real discards the imaginary part\n",
      "  extracted_features[i, j] = extracted_feature[0, 0]\n"
     ]
    },
    {
     "name": "stdout",
     "output_type": "stream",
     "text": [
      "Cross validation score average:  0.5169934640522875\n"
     ]
    },
    {
     "name": "stderr",
     "output_type": "stream",
     "text": [
      "/home/inffzy/Desktop/cogs189/cogs189_final_project/scripts/SACSP.py:410: ComplexWarning: Casting complex values to real discards the imaginary part\n",
      "  extracted_features[i, j] = extracted_feature[0, 0]\n"
     ]
    },
    {
     "name": "stdout",
     "output_type": "stream",
     "text": [
      "Training accuracy:  0.5730337078651685\n",
      "Testing accuracy:  0.5227272727272727\n"
     ]
    },
    {
     "name": "stderr",
     "output_type": "stream",
     "text": [
      "/home/inffzy/Desktop/cogs189/cogs189_final_project/scripts/SACSP.py:410: ComplexWarning: Casting complex values to real discards the imaginary part\n",
      "  extracted_features[i, j] = extracted_feature[0, 0]\n",
      "/home/inffzy/Desktop/cogs189/cogs189_final_project/scripts/SACSP.py:198: ComplexWarning: Casting complex values to real discards the imaginary part\n",
      "  E[i] = trial_fourier @ np.diag(h_or_l) @ np.matrix(trial_fourier).H\n",
      "/home/inffzy/Desktop/cogs189/cogs189_final_project/scripts/SACSP.py:225: ComplexWarning: Casting complex values to real discards the imaginary part\n",
      "  E[i] = np.matrix(trial_fourier).H @ w_or_v @ w_or_v.T @ trial_fourier\n",
      "/home/inffzy/Desktop/cogs189/cogs189_final_project/scripts/SACSP.py:177: ComplexWarning: Casting complex values to real discards the imaginary part\n",
      "  E[i] = trial_fourier @ np.diag(h_or_l) @ np.matrix(trial_fourier).H\n",
      "/home/inffzy/Desktop/cogs189/cogs189_final_project/scripts/SACSP.py:410: ComplexWarning: Casting complex values to real discards the imaginary part\n",
      "  extracted_features[i, j] = extracted_feature[0, 0]\n"
     ]
    },
    {
     "name": "stdout",
     "output_type": "stream",
     "text": [
      "Cross validation score average:  0.9424836601307188\n"
     ]
    },
    {
     "name": "stderr",
     "output_type": "stream",
     "text": [
      "/home/inffzy/Desktop/cogs189/cogs189_final_project/scripts/SACSP.py:410: ComplexWarning: Casting complex values to real discards the imaginary part\n",
      "  extracted_features[i, j] = extracted_feature[0, 0]\n"
     ]
    },
    {
     "name": "stdout",
     "output_type": "stream",
     "text": [
      "Training accuracy:  0.9318181818181818\n",
      "Testing accuracy:  0.9318181818181818\n"
     ]
    },
    {
     "name": "stderr",
     "output_type": "stream",
     "text": [
      "/home/inffzy/Desktop/cogs189/cogs189_final_project/scripts/SACSP.py:410: ComplexWarning: Casting complex values to real discards the imaginary part\n",
      "  extracted_features[i, j] = extracted_feature[0, 0]\n",
      "/home/inffzy/Desktop/cogs189/cogs189_final_project/scripts/SACSP.py:198: ComplexWarning: Casting complex values to real discards the imaginary part\n",
      "  E[i] = trial_fourier @ np.diag(h_or_l) @ np.matrix(trial_fourier).H\n",
      "/home/inffzy/Desktop/cogs189/cogs189_final_project/scripts/SACSP.py:225: ComplexWarning: Casting complex values to real discards the imaginary part\n",
      "  E[i] = np.matrix(trial_fourier).H @ w_or_v @ w_or_v.T @ trial_fourier\n",
      "/home/inffzy/Desktop/cogs189/cogs189_final_project/scripts/SACSP.py:177: ComplexWarning: Casting complex values to real discards the imaginary part\n",
      "  E[i] = trial_fourier @ np.diag(h_or_l) @ np.matrix(trial_fourier).H\n",
      "/home/inffzy/Desktop/cogs189/cogs189_final_project/scripts/SACSP.py:410: ComplexWarning: Casting complex values to real discards the imaginary part\n",
      "  extracted_features[i, j] = extracted_feature[0, 0]\n"
     ]
    },
    {
     "name": "stdout",
     "output_type": "stream",
     "text": [
      "Cross validation score average:  0.7533333333333333\n"
     ]
    },
    {
     "name": "stderr",
     "output_type": "stream",
     "text": [
      "/home/inffzy/Desktop/cogs189/cogs189_final_project/scripts/SACSP.py:410: ComplexWarning: Casting complex values to real discards the imaginary part\n",
      "  extracted_features[i, j] = extracted_feature[0, 0]\n"
     ]
    },
    {
     "name": "stdout",
     "output_type": "stream",
     "text": [
      "Training accuracy:  0.7792207792207793\n",
      "Testing accuracy:  0.6410256410256411\n"
     ]
    },
    {
     "name": "stderr",
     "output_type": "stream",
     "text": [
      "/home/inffzy/Desktop/cogs189/cogs189_final_project/scripts/SACSP.py:410: ComplexWarning: Casting complex values to real discards the imaginary part\n",
      "  extracted_features[i, j] = extracted_feature[0, 0]\n",
      "/home/inffzy/Desktop/cogs189/cogs189_final_project/scripts/SACSP.py:198: ComplexWarning: Casting complex values to real discards the imaginary part\n",
      "  E[i] = trial_fourier @ np.diag(h_or_l) @ np.matrix(trial_fourier).H\n",
      "/home/inffzy/Desktop/cogs189/cogs189_final_project/scripts/SACSP.py:225: ComplexWarning: Casting complex values to real discards the imaginary part\n",
      "  E[i] = np.matrix(trial_fourier).H @ w_or_v @ w_or_v.T @ trial_fourier\n",
      "/home/inffzy/Desktop/cogs189/cogs189_final_project/scripts/SACSP.py:177: ComplexWarning: Casting complex values to real discards the imaginary part\n",
      "  E[i] = trial_fourier @ np.diag(h_or_l) @ np.matrix(trial_fourier).H\n",
      "/home/inffzy/Desktop/cogs189/cogs189_final_project/scripts/SACSP.py:410: ComplexWarning: Casting complex values to real discards the imaginary part\n",
      "  extracted_features[i, j] = extracted_feature[0, 0]\n",
      "/home/inffzy/Desktop/cogs189/cogs189_final_project/scripts/SACSP.py:410: ComplexWarning: Casting complex values to real discards the imaginary part\n",
      "  extracted_features[i, j] = extracted_feature[0, 0]\n"
     ]
    },
    {
     "name": "stdout",
     "output_type": "stream",
     "text": [
      "Cross validation score average:  0.6288888888888888\n",
      "Training accuracy:  0.75\n"
     ]
    },
    {
     "name": "stderr",
     "output_type": "stream",
     "text": [
      "/home/inffzy/Desktop/cogs189/cogs189_final_project/scripts/SACSP.py:410: ComplexWarning: Casting complex values to real discards the imaginary part\n",
      "  extracted_features[i, j] = extracted_feature[0, 0]\n",
      "/home/inffzy/Desktop/cogs189/cogs189_final_project/scripts/SACSP.py:198: ComplexWarning: Casting complex values to real discards the imaginary part\n",
      "  E[i] = trial_fourier @ np.diag(h_or_l) @ np.matrix(trial_fourier).H\n",
      "/home/inffzy/Desktop/cogs189/cogs189_final_project/scripts/SACSP.py:225: ComplexWarning: Casting complex values to real discards the imaginary part\n",
      "  E[i] = np.matrix(trial_fourier).H @ w_or_v @ w_or_v.T @ trial_fourier\n",
      "/home/inffzy/Desktop/cogs189/cogs189_final_project/scripts/SACSP.py:177: ComplexWarning: Casting complex values to real discards the imaginary part\n",
      "  E[i] = trial_fourier @ np.diag(h_or_l) @ np.matrix(trial_fourier).H\n"
     ]
    },
    {
     "name": "stdout",
     "output_type": "stream",
     "text": [
      "Testing accuracy:  0.76\n"
     ]
    },
    {
     "name": "stderr",
     "output_type": "stream",
     "text": [
      "/home/inffzy/Desktop/cogs189/cogs189_final_project/scripts/SACSP.py:410: ComplexWarning: Casting complex values to real discards the imaginary part\n",
      "  extracted_features[i, j] = extracted_feature[0, 0]\n",
      "/home/inffzy/Desktop/cogs189/cogs189_final_project/scripts/SACSP.py:410: ComplexWarning: Casting complex values to real discards the imaginary part\n",
      "  extracted_features[i, j] = extracted_feature[0, 0]\n"
     ]
    },
    {
     "name": "stdout",
     "output_type": "stream",
     "text": [
      "Cross validation score average:  0.5476190476190477\n",
      "Training accuracy:  0.6451612903225806\n",
      "Testing accuracy:  0.5625\n"
     ]
    },
    {
     "name": "stderr",
     "output_type": "stream",
     "text": [
      "/home/inffzy/Desktop/cogs189/cogs189_final_project/scripts/SACSP.py:410: ComplexWarning: Casting complex values to real discards the imaginary part\n",
      "  extracted_features[i, j] = extracted_feature[0, 0]\n",
      "/home/inffzy/Desktop/cogs189/cogs189_final_project/scripts/SACSP.py:198: ComplexWarning: Casting complex values to real discards the imaginary part\n",
      "  E[i] = trial_fourier @ np.diag(h_or_l) @ np.matrix(trial_fourier).H\n",
      "/home/inffzy/Desktop/cogs189/cogs189_final_project/scripts/SACSP.py:225: ComplexWarning: Casting complex values to real discards the imaginary part\n",
      "  E[i] = np.matrix(trial_fourier).H @ w_or_v @ w_or_v.T @ trial_fourier\n",
      "/home/inffzy/Desktop/cogs189/cogs189_final_project/scripts/SACSP.py:177: ComplexWarning: Casting complex values to real discards the imaginary part\n",
      "  E[i] = trial_fourier @ np.diag(h_or_l) @ np.matrix(trial_fourier).H\n",
      "/home/inffzy/Desktop/cogs189/cogs189_final_project/scripts/SACSP.py:410: ComplexWarning: Casting complex values to real discards the imaginary part\n",
      "  extracted_features[i, j] = extracted_feature[0, 0]\n",
      "/home/inffzy/Desktop/cogs189/cogs189_final_project/scripts/SACSP.py:410: ComplexWarning: Casting complex values to real discards the imaginary part\n",
      "  extracted_features[i, j] = extracted_feature[0, 0]\n"
     ]
    },
    {
     "name": "stdout",
     "output_type": "stream",
     "text": [
      "Cross validation score average:  0.96\n",
      "Training accuracy:  0.9629629629629629\n",
      "Testing accuracy:  0.9285714285714286\n"
     ]
    },
    {
     "name": "stderr",
     "output_type": "stream",
     "text": [
      "/home/inffzy/Desktop/cogs189/cogs189_final_project/scripts/SACSP.py:410: ComplexWarning: Casting complex values to real discards the imaginary part\n",
      "  extracted_features[i, j] = extracted_feature[0, 0]\n",
      "/home/inffzy/Desktop/cogs189/cogs189_final_project/scripts/SACSP.py:198: ComplexWarning: Casting complex values to real discards the imaginary part\n",
      "  E[i] = trial_fourier @ np.diag(h_or_l) @ np.matrix(trial_fourier).H\n",
      "/home/inffzy/Desktop/cogs189/cogs189_final_project/scripts/SACSP.py:225: ComplexWarning: Casting complex values to real discards the imaginary part\n",
      "  E[i] = np.matrix(trial_fourier).H @ w_or_v @ w_or_v.T @ trial_fourier\n",
      "/home/inffzy/Desktop/cogs189/cogs189_final_project/scripts/SACSP.py:177: ComplexWarning: Casting complex values to real discards the imaginary part\n",
      "  E[i] = trial_fourier @ np.diag(h_or_l) @ np.matrix(trial_fourier).H\n",
      "/home/inffzy/Desktop/cogs189/cogs189_final_project/scripts/SACSP.py:410: ComplexWarning: Casting complex values to real discards the imaginary part\n",
      "  extracted_features[i, j] = extracted_feature[0, 0]\n"
     ]
    },
    {
     "name": "stdout",
     "output_type": "stream",
     "text": [
      "Cross validation score average:  0.752046783625731\n"
     ]
    },
    {
     "name": "stderr",
     "output_type": "stream",
     "text": [
      "/home/inffzy/Desktop/cogs189/cogs189_final_project/scripts/SACSP.py:410: ComplexWarning: Casting complex values to real discards the imaginary part\n",
      "  extracted_features[i, j] = extracted_feature[0, 0]\n"
     ]
    },
    {
     "name": "stdout",
     "output_type": "stream",
     "text": [
      "Training accuracy:  0.7391304347826086\n",
      "Testing accuracy:  0.6086956521739131\n"
     ]
    },
    {
     "name": "stderr",
     "output_type": "stream",
     "text": [
      "/home/inffzy/Desktop/cogs189/cogs189_final_project/scripts/SACSP.py:410: ComplexWarning: Casting complex values to real discards the imaginary part\n",
      "  extracted_features[i, j] = extracted_feature[0, 0]\n",
      "/home/inffzy/Desktop/cogs189/cogs189_final_project/scripts/SACSP.py:198: ComplexWarning: Casting complex values to real discards the imaginary part\n",
      "  E[i] = trial_fourier @ np.diag(h_or_l) @ np.matrix(trial_fourier).H\n",
      "/home/inffzy/Desktop/cogs189/cogs189_final_project/scripts/SACSP.py:225: ComplexWarning: Casting complex values to real discards the imaginary part\n",
      "  E[i] = np.matrix(trial_fourier).H @ w_or_v @ w_or_v.T @ trial_fourier\n",
      "/home/inffzy/Desktop/cogs189/cogs189_final_project/scripts/SACSP.py:177: ComplexWarning: Casting complex values to real discards the imaginary part\n",
      "  E[i] = trial_fourier @ np.diag(h_or_l) @ np.matrix(trial_fourier).H\n",
      "/home/inffzy/Desktop/cogs189/cogs189_final_project/scripts/SACSP.py:410: ComplexWarning: Casting complex values to real discards the imaginary part\n",
      "  extracted_features[i, j] = extracted_feature[0, 0]\n"
     ]
    },
    {
     "name": "stdout",
     "output_type": "stream",
     "text": [
      "Cross validation score average:  0.6263157894736843\n"
     ]
    },
    {
     "name": "stderr",
     "output_type": "stream",
     "text": [
      "/home/inffzy/Desktop/cogs189/cogs189_final_project/scripts/SACSP.py:410: ComplexWarning: Casting complex values to real discards the imaginary part\n",
      "  extracted_features[i, j] = extracted_feature[0, 0]\n"
     ]
    },
    {
     "name": "stdout",
     "output_type": "stream",
     "text": [
      "Training accuracy:  0.6593406593406593\n",
      "Testing accuracy:  0.37777777777777777\n"
     ]
    },
    {
     "name": "stderr",
     "output_type": "stream",
     "text": [
      "/home/inffzy/Desktop/cogs189/cogs189_final_project/scripts/SACSP.py:410: ComplexWarning: Casting complex values to real discards the imaginary part\n",
      "  extracted_features[i, j] = extracted_feature[0, 0]\n",
      "/home/inffzy/Desktop/cogs189/cogs189_final_project/scripts/SACSP.py:198: ComplexWarning: Casting complex values to real discards the imaginary part\n",
      "  E[i] = trial_fourier @ np.diag(h_or_l) @ np.matrix(trial_fourier).H\n",
      "/home/inffzy/Desktop/cogs189/cogs189_final_project/scripts/SACSP.py:225: ComplexWarning: Casting complex values to real discards the imaginary part\n",
      "  E[i] = np.matrix(trial_fourier).H @ w_or_v @ w_or_v.T @ trial_fourier\n",
      "/home/inffzy/Desktop/cogs189/cogs189_final_project/scripts/SACSP.py:177: ComplexWarning: Casting complex values to real discards the imaginary part\n",
      "  E[i] = trial_fourier @ np.diag(h_or_l) @ np.matrix(trial_fourier).H\n",
      "/home/inffzy/Desktop/cogs189/cogs189_final_project/scripts/SACSP.py:410: ComplexWarning: Casting complex values to real discards the imaginary part\n",
      "  extracted_features[i, j] = extracted_feature[0, 0]\n"
     ]
    },
    {
     "name": "stdout",
     "output_type": "stream",
     "text": [
      "Cross validation score average:  0.8906432748538012\n"
     ]
    },
    {
     "name": "stderr",
     "output_type": "stream",
     "text": [
      "/home/inffzy/Desktop/cogs189/cogs189_final_project/scripts/SACSP.py:410: ComplexWarning: Casting complex values to real discards the imaginary part\n",
      "  extracted_features[i, j] = extracted_feature[0, 0]\n"
     ]
    },
    {
     "name": "stdout",
     "output_type": "stream",
     "text": [
      "Training accuracy:  0.9120879120879121\n",
      "Testing accuracy:  0.8913043478260869\n"
     ]
    },
    {
     "name": "stderr",
     "output_type": "stream",
     "text": [
      "/home/inffzy/Desktop/cogs189/cogs189_final_project/scripts/SACSP.py:410: ComplexWarning: Casting complex values to real discards the imaginary part\n",
      "  extracted_features[i, j] = extracted_feature[0, 0]\n",
      "/home/inffzy/Desktop/cogs189/cogs189_final_project/scripts/SACSP.py:198: ComplexWarning: Casting complex values to real discards the imaginary part\n",
      "  E[i] = trial_fourier @ np.diag(h_or_l) @ np.matrix(trial_fourier).H\n",
      "/home/inffzy/Desktop/cogs189/cogs189_final_project/scripts/SACSP.py:225: ComplexWarning: Casting complex values to real discards the imaginary part\n",
      "  E[i] = np.matrix(trial_fourier).H @ w_or_v @ w_or_v.T @ trial_fourier\n",
      "/home/inffzy/Desktop/cogs189/cogs189_final_project/scripts/SACSP.py:177: ComplexWarning: Casting complex values to real discards the imaginary part\n",
      "  E[i] = trial_fourier @ np.diag(h_or_l) @ np.matrix(trial_fourier).H\n",
      "/home/inffzy/Desktop/cogs189/cogs189_final_project/scripts/SACSP.py:410: ComplexWarning: Casting complex values to real discards the imaginary part\n",
      "  extracted_features[i, j] = extracted_feature[0, 0]\n"
     ]
    },
    {
     "name": "stdout",
     "output_type": "stream",
     "text": [
      "Cross validation score average:  0.5104575163398694\n"
     ]
    },
    {
     "name": "stderr",
     "output_type": "stream",
     "text": [
      "/home/inffzy/Desktop/cogs189/cogs189_final_project/scripts/SACSP.py:410: ComplexWarning: Casting complex values to real discards the imaginary part\n",
      "  extracted_features[i, j] = extracted_feature[0, 0]\n"
     ]
    },
    {
     "name": "stdout",
     "output_type": "stream",
     "text": [
      "Training accuracy:  0.5348837209302325\n",
      "Testing accuracy:  0.5581395348837209\n"
     ]
    },
    {
     "name": "stderr",
     "output_type": "stream",
     "text": [
      "/home/inffzy/Desktop/cogs189/cogs189_final_project/scripts/SACSP.py:410: ComplexWarning: Casting complex values to real discards the imaginary part\n",
      "  extracted_features[i, j] = extracted_feature[0, 0]\n",
      "/home/inffzy/Desktop/cogs189/cogs189_final_project/scripts/SACSP.py:198: ComplexWarning: Casting complex values to real discards the imaginary part\n",
      "  E[i] = trial_fourier @ np.diag(h_or_l) @ np.matrix(trial_fourier).H\n",
      "/home/inffzy/Desktop/cogs189/cogs189_final_project/scripts/SACSP.py:225: ComplexWarning: Casting complex values to real discards the imaginary part\n",
      "  E[i] = np.matrix(trial_fourier).H @ w_or_v @ w_or_v.T @ trial_fourier\n",
      "/home/inffzy/Desktop/cogs189/cogs189_final_project/scripts/SACSP.py:177: ComplexWarning: Casting complex values to real discards the imaginary part\n",
      "  E[i] = trial_fourier @ np.diag(h_or_l) @ np.matrix(trial_fourier).H\n",
      "/home/inffzy/Desktop/cogs189/cogs189_final_project/scripts/SACSP.py:410: ComplexWarning: Casting complex values to real discards the imaginary part\n",
      "  extracted_features[i, j] = extracted_feature[0, 0]\n"
     ]
    },
    {
     "name": "stdout",
     "output_type": "stream",
     "text": [
      "Cross validation score average:  0.5947712418300652\n"
     ]
    },
    {
     "name": "stderr",
     "output_type": "stream",
     "text": [
      "/home/inffzy/Desktop/cogs189/cogs189_final_project/scripts/SACSP.py:410: ComplexWarning: Casting complex values to real discards the imaginary part\n",
      "  extracted_features[i, j] = extracted_feature[0, 0]\n"
     ]
    },
    {
     "name": "stdout",
     "output_type": "stream",
     "text": [
      "Training accuracy:  0.6744186046511628\n",
      "Testing accuracy:  0.46511627906976744\n"
     ]
    },
    {
     "name": "stderr",
     "output_type": "stream",
     "text": [
      "/home/inffzy/Desktop/cogs189/cogs189_final_project/scripts/SACSP.py:410: ComplexWarning: Casting complex values to real discards the imaginary part\n",
      "  extracted_features[i, j] = extracted_feature[0, 0]\n",
      "/home/inffzy/Desktop/cogs189/cogs189_final_project/scripts/SACSP.py:198: ComplexWarning: Casting complex values to real discards the imaginary part\n",
      "  E[i] = trial_fourier @ np.diag(h_or_l) @ np.matrix(trial_fourier).H\n",
      "/home/inffzy/Desktop/cogs189/cogs189_final_project/scripts/SACSP.py:225: ComplexWarning: Casting complex values to real discards the imaginary part\n",
      "  E[i] = np.matrix(trial_fourier).H @ w_or_v @ w_or_v.T @ trial_fourier\n",
      "/home/inffzy/Desktop/cogs189/cogs189_final_project/scripts/SACSP.py:177: ComplexWarning: Casting complex values to real discards the imaginary part\n",
      "  E[i] = trial_fourier @ np.diag(h_or_l) @ np.matrix(trial_fourier).H\n",
      "/home/inffzy/Desktop/cogs189/cogs189_final_project/scripts/SACSP.py:410: ComplexWarning: Casting complex values to real discards the imaginary part\n",
      "  extracted_features[i, j] = extracted_feature[0, 0]\n"
     ]
    },
    {
     "name": "stdout",
     "output_type": "stream",
     "text": [
      "Cross validation score average:  0.6533333333333334\n"
     ]
    },
    {
     "name": "stderr",
     "output_type": "stream",
     "text": [
      "/home/inffzy/Desktop/cogs189/cogs189_final_project/scripts/SACSP.py:410: ComplexWarning: Casting complex values to real discards the imaginary part\n",
      "  extracted_features[i, j] = extracted_feature[0, 0]\n"
     ]
    },
    {
     "name": "stdout",
     "output_type": "stream",
     "text": [
      "Training accuracy:  0.6933333333333334\n",
      "Testing accuracy:  0.6578947368421053\n"
     ]
    },
    {
     "name": "stderr",
     "output_type": "stream",
     "text": [
      "/home/inffzy/Desktop/cogs189/cogs189_final_project/scripts/SACSP.py:410: ComplexWarning: Casting complex values to real discards the imaginary part\n",
      "  extracted_features[i, j] = extracted_feature[0, 0]\n",
      "/home/inffzy/Desktop/cogs189/cogs189_final_project/scripts/SACSP.py:198: ComplexWarning: Casting complex values to real discards the imaginary part\n",
      "  E[i] = trial_fourier @ np.diag(h_or_l) @ np.matrix(trial_fourier).H\n",
      "/home/inffzy/Desktop/cogs189/cogs189_final_project/scripts/SACSP.py:225: ComplexWarning: Casting complex values to real discards the imaginary part\n",
      "  E[i] = np.matrix(trial_fourier).H @ w_or_v @ w_or_v.T @ trial_fourier\n",
      "/home/inffzy/Desktop/cogs189/cogs189_final_project/scripts/SACSP.py:177: ComplexWarning: Casting complex values to real discards the imaginary part\n",
      "  E[i] = trial_fourier @ np.diag(h_or_l) @ np.matrix(trial_fourier).H\n",
      "/home/inffzy/Desktop/cogs189/cogs189_final_project/scripts/SACSP.py:410: ComplexWarning: Casting complex values to real discards the imaginary part\n",
      "  extracted_features[i, j] = extracted_feature[0, 0]\n"
     ]
    },
    {
     "name": "stdout",
     "output_type": "stream",
     "text": [
      "Cross validation score average:  0.6862745098039216\n"
     ]
    },
    {
     "name": "stderr",
     "output_type": "stream",
     "text": [
      "/home/inffzy/Desktop/cogs189/cogs189_final_project/scripts/SACSP.py:410: ComplexWarning: Casting complex values to real discards the imaginary part\n",
      "  extracted_features[i, j] = extracted_feature[0, 0]\n"
     ]
    },
    {
     "name": "stdout",
     "output_type": "stream",
     "text": [
      "Training accuracy:  0.6853932584269663\n",
      "Testing accuracy:  0.3181818181818182\n"
     ]
    },
    {
     "name": "stderr",
     "output_type": "stream",
     "text": [
      "/home/inffzy/Desktop/cogs189/cogs189_final_project/scripts/SACSP.py:410: ComplexWarning: Casting complex values to real discards the imaginary part\n",
      "  extracted_features[i, j] = extracted_feature[0, 0]\n",
      "/home/inffzy/Desktop/cogs189/cogs189_final_project/scripts/SACSP.py:198: ComplexWarning: Casting complex values to real discards the imaginary part\n",
      "  E[i] = trial_fourier @ np.diag(h_or_l) @ np.matrix(trial_fourier).H\n",
      "/home/inffzy/Desktop/cogs189/cogs189_final_project/scripts/SACSP.py:225: ComplexWarning: Casting complex values to real discards the imaginary part\n",
      "  E[i] = np.matrix(trial_fourier).H @ w_or_v @ w_or_v.T @ trial_fourier\n",
      "/home/inffzy/Desktop/cogs189/cogs189_final_project/scripts/SACSP.py:177: ComplexWarning: Casting complex values to real discards the imaginary part\n",
      "  E[i] = trial_fourier @ np.diag(h_or_l) @ np.matrix(trial_fourier).H\n",
      "/home/inffzy/Desktop/cogs189/cogs189_final_project/scripts/SACSP.py:410: ComplexWarning: Casting complex values to real discards the imaginary part\n",
      "  extracted_features[i, j] = extracted_feature[0, 0]\n"
     ]
    },
    {
     "name": "stdout",
     "output_type": "stream",
     "text": [
      "Cross validation score average:  0.907843137254902\n"
     ]
    },
    {
     "name": "stderr",
     "output_type": "stream",
     "text": [
      "/home/inffzy/Desktop/cogs189/cogs189_final_project/scripts/SACSP.py:410: ComplexWarning: Casting complex values to real discards the imaginary part\n",
      "  extracted_features[i, j] = extracted_feature[0, 0]\n"
     ]
    },
    {
     "name": "stdout",
     "output_type": "stream",
     "text": [
      "Training accuracy:  0.9431818181818182\n",
      "Testing accuracy:  0.9318181818181818\n"
     ]
    },
    {
     "name": "stderr",
     "output_type": "stream",
     "text": [
      "/home/inffzy/Desktop/cogs189/cogs189_final_project/scripts/SACSP.py:410: ComplexWarning: Casting complex values to real discards the imaginary part\n",
      "  extracted_features[i, j] = extracted_feature[0, 0]\n",
      "/home/inffzy/Desktop/cogs189/cogs189_final_project/scripts/SACSP.py:198: ComplexWarning: Casting complex values to real discards the imaginary part\n",
      "  E[i] = trial_fourier @ np.diag(h_or_l) @ np.matrix(trial_fourier).H\n",
      "/home/inffzy/Desktop/cogs189/cogs189_final_project/scripts/SACSP.py:225: ComplexWarning: Casting complex values to real discards the imaginary part\n",
      "  E[i] = np.matrix(trial_fourier).H @ w_or_v @ w_or_v.T @ trial_fourier\n",
      "/home/inffzy/Desktop/cogs189/cogs189_final_project/scripts/SACSP.py:177: ComplexWarning: Casting complex values to real discards the imaginary part\n",
      "  E[i] = trial_fourier @ np.diag(h_or_l) @ np.matrix(trial_fourier).H\n",
      "/home/inffzy/Desktop/cogs189/cogs189_final_project/scripts/SACSP.py:410: ComplexWarning: Casting complex values to real discards the imaginary part\n",
      "  extracted_features[i, j] = extracted_feature[0, 0]\n"
     ]
    },
    {
     "name": "stdout",
     "output_type": "stream",
     "text": [
      "Cross validation score average:  0.6758333333333334\n"
     ]
    },
    {
     "name": "stderr",
     "output_type": "stream",
     "text": [
      "/home/inffzy/Desktop/cogs189/cogs189_final_project/scripts/SACSP.py:410: ComplexWarning: Casting complex values to real discards the imaginary part\n",
      "  extracted_features[i, j] = extracted_feature[0, 0]\n"
     ]
    },
    {
     "name": "stdout",
     "output_type": "stream",
     "text": [
      "Training accuracy:  0.7142857142857143\n",
      "Testing accuracy:  0.6666666666666666\n"
     ]
    },
    {
     "name": "stderr",
     "output_type": "stream",
     "text": [
      "/home/inffzy/Desktop/cogs189/cogs189_final_project/scripts/SACSP.py:410: ComplexWarning: Casting complex values to real discards the imaginary part\n",
      "  extracted_features[i, j] = extracted_feature[0, 0]\n",
      "/home/inffzy/Desktop/cogs189/cogs189_final_project/scripts/SACSP.py:198: ComplexWarning: Casting complex values to real discards the imaginary part\n",
      "  E[i] = trial_fourier @ np.diag(h_or_l) @ np.matrix(trial_fourier).H\n",
      "/home/inffzy/Desktop/cogs189/cogs189_final_project/scripts/SACSP.py:225: ComplexWarning: Casting complex values to real discards the imaginary part\n",
      "  E[i] = np.matrix(trial_fourier).H @ w_or_v @ w_or_v.T @ trial_fourier\n",
      "/home/inffzy/Desktop/cogs189/cogs189_final_project/scripts/SACSP.py:177: ComplexWarning: Casting complex values to real discards the imaginary part\n",
      "  E[i] = trial_fourier @ np.diag(h_or_l) @ np.matrix(trial_fourier).H\n",
      "/home/inffzy/Desktop/cogs189/cogs189_final_project/scripts/SACSP.py:410: ComplexWarning: Casting complex values to real discards the imaginary part\n",
      "  extracted_features[i, j] = extracted_feature[0, 0]\n",
      "/home/inffzy/Desktop/cogs189/cogs189_final_project/scripts/SACSP.py:410: ComplexWarning: Casting complex values to real discards the imaginary part\n",
      "  extracted_features[i, j] = extracted_feature[0, 0]\n"
     ]
    },
    {
     "name": "stdout",
     "output_type": "stream",
     "text": [
      "Cross validation score average:  0.7466666666666667\n",
      "Training accuracy:  0.7916666666666666\n"
     ]
    },
    {
     "name": "stderr",
     "output_type": "stream",
     "text": [
      "/home/inffzy/Desktop/cogs189/cogs189_final_project/scripts/SACSP.py:410: ComplexWarning: Casting complex values to real discards the imaginary part\n",
      "  extracted_features[i, j] = extracted_feature[0, 0]\n",
      "/home/inffzy/Desktop/cogs189/cogs189_final_project/scripts/SACSP.py:198: ComplexWarning: Casting complex values to real discards the imaginary part\n",
      "  E[i] = trial_fourier @ np.diag(h_or_l) @ np.matrix(trial_fourier).H\n",
      "/home/inffzy/Desktop/cogs189/cogs189_final_project/scripts/SACSP.py:225: ComplexWarning: Casting complex values to real discards the imaginary part\n",
      "  E[i] = np.matrix(trial_fourier).H @ w_or_v @ w_or_v.T @ trial_fourier\n",
      "/home/inffzy/Desktop/cogs189/cogs189_final_project/scripts/SACSP.py:177: ComplexWarning: Casting complex values to real discards the imaginary part\n",
      "  E[i] = trial_fourier @ np.diag(h_or_l) @ np.matrix(trial_fourier).H\n"
     ]
    },
    {
     "name": "stdout",
     "output_type": "stream",
     "text": [
      "Testing accuracy:  0.76\n"
     ]
    },
    {
     "name": "stderr",
     "output_type": "stream",
     "text": [
      "/home/inffzy/Desktop/cogs189/cogs189_final_project/scripts/SACSP.py:410: ComplexWarning: Casting complex values to real discards the imaginary part\n",
      "  extracted_features[i, j] = extracted_feature[0, 0]\n",
      "/home/inffzy/Desktop/cogs189/cogs189_final_project/scripts/SACSP.py:410: ComplexWarning: Casting complex values to real discards the imaginary part\n",
      "  extracted_features[i, j] = extracted_feature[0, 0]\n"
     ]
    },
    {
     "name": "stdout",
     "output_type": "stream",
     "text": [
      "Cross validation score average:  0.7666666666666667\n",
      "Training accuracy:  0.8387096774193549\n",
      "Testing accuracy:  0.5625\n"
     ]
    },
    {
     "name": "stderr",
     "output_type": "stream",
     "text": [
      "/home/inffzy/Desktop/cogs189/cogs189_final_project/scripts/SACSP.py:410: ComplexWarning: Casting complex values to real discards the imaginary part\n",
      "  extracted_features[i, j] = extracted_feature[0, 0]\n",
      "/home/inffzy/Desktop/cogs189/cogs189_final_project/scripts/SACSP.py:198: ComplexWarning: Casting complex values to real discards the imaginary part\n",
      "  E[i] = trial_fourier @ np.diag(h_or_l) @ np.matrix(trial_fourier).H\n",
      "/home/inffzy/Desktop/cogs189/cogs189_final_project/scripts/SACSP.py:225: ComplexWarning: Casting complex values to real discards the imaginary part\n",
      "  E[i] = np.matrix(trial_fourier).H @ w_or_v @ w_or_v.T @ trial_fourier\n",
      "/home/inffzy/Desktop/cogs189/cogs189_final_project/scripts/SACSP.py:177: ComplexWarning: Casting complex values to real discards the imaginary part\n",
      "  E[i] = trial_fourier @ np.diag(h_or_l) @ np.matrix(trial_fourier).H\n",
      "/home/inffzy/Desktop/cogs189/cogs189_final_project/scripts/SACSP.py:410: ComplexWarning: Casting complex values to real discards the imaginary part\n",
      "  extracted_features[i, j] = extracted_feature[0, 0]\n",
      "/home/inffzy/Desktop/cogs189/cogs189_final_project/scripts/SACSP.py:410: ComplexWarning: Casting complex values to real discards the imaginary part\n",
      "  extracted_features[i, j] = extracted_feature[0, 0]\n"
     ]
    },
    {
     "name": "stdout",
     "output_type": "stream",
     "text": [
      "Cross validation score average:  0.96\n",
      "Training accuracy:  0.9629629629629629\n",
      "Testing accuracy:  0.9285714285714286\n"
     ]
    },
    {
     "name": "stderr",
     "output_type": "stream",
     "text": [
      "/home/inffzy/Desktop/cogs189/cogs189_final_project/scripts/SACSP.py:410: ComplexWarning: Casting complex values to real discards the imaginary part\n",
      "  extracted_features[i, j] = extracted_feature[0, 0]\n",
      "/home/inffzy/Desktop/cogs189/cogs189_final_project/scripts/SACSP.py:198: ComplexWarning: Casting complex values to real discards the imaginary part\n",
      "  E[i] = trial_fourier @ np.diag(h_or_l) @ np.matrix(trial_fourier).H\n",
      "/home/inffzy/Desktop/cogs189/cogs189_final_project/scripts/SACSP.py:225: ComplexWarning: Casting complex values to real discards the imaginary part\n",
      "  E[i] = np.matrix(trial_fourier).H @ w_or_v @ w_or_v.T @ trial_fourier\n",
      "/home/inffzy/Desktop/cogs189/cogs189_final_project/scripts/SACSP.py:177: ComplexWarning: Casting complex values to real discards the imaginary part\n",
      "  E[i] = trial_fourier @ np.diag(h_or_l) @ np.matrix(trial_fourier).H\n",
      "/home/inffzy/Desktop/cogs189/cogs189_final_project/scripts/SACSP.py:410: ComplexWarning: Casting complex values to real discards the imaginary part\n",
      "  extracted_features[i, j] = extracted_feature[0, 0]\n"
     ]
    },
    {
     "name": "stdout",
     "output_type": "stream",
     "text": [
      "Cross validation score average:  0.639766081871345\n"
     ]
    },
    {
     "name": "stderr",
     "output_type": "stream",
     "text": [
      "/home/inffzy/Desktop/cogs189/cogs189_final_project/scripts/SACSP.py:410: ComplexWarning: Casting complex values to real discards the imaginary part\n",
      "  extracted_features[i, j] = extracted_feature[0, 0]\n"
     ]
    },
    {
     "name": "stdout",
     "output_type": "stream",
     "text": [
      "Training accuracy:  0.6739130434782609\n",
      "Testing accuracy:  0.5434782608695652\n"
     ]
    },
    {
     "name": "stderr",
     "output_type": "stream",
     "text": [
      "/home/inffzy/Desktop/cogs189/cogs189_final_project/scripts/SACSP.py:410: ComplexWarning: Casting complex values to real discards the imaginary part\n",
      "  extracted_features[i, j] = extracted_feature[0, 0]\n",
      "/home/inffzy/Desktop/cogs189/cogs189_final_project/scripts/SACSP.py:198: ComplexWarning: Casting complex values to real discards the imaginary part\n",
      "  E[i] = trial_fourier @ np.diag(h_or_l) @ np.matrix(trial_fourier).H\n",
      "/home/inffzy/Desktop/cogs189/cogs189_final_project/scripts/SACSP.py:225: ComplexWarning: Casting complex values to real discards the imaginary part\n",
      "  E[i] = np.matrix(trial_fourier).H @ w_or_v @ w_or_v.T @ trial_fourier\n",
      "/home/inffzy/Desktop/cogs189/cogs189_final_project/scripts/SACSP.py:177: ComplexWarning: Casting complex values to real discards the imaginary part\n",
      "  E[i] = trial_fourier @ np.diag(h_or_l) @ np.matrix(trial_fourier).H\n",
      "/home/inffzy/Desktop/cogs189/cogs189_final_project/scripts/SACSP.py:410: ComplexWarning: Casting complex values to real discards the imaginary part\n",
      "  extracted_features[i, j] = extracted_feature[0, 0]\n"
     ]
    },
    {
     "name": "stdout",
     "output_type": "stream",
     "text": [
      "Cross validation score average:  0.5385964912280701\n"
     ]
    },
    {
     "name": "stderr",
     "output_type": "stream",
     "text": [
      "/home/inffzy/Desktop/cogs189/cogs189_final_project/scripts/SACSP.py:410: ComplexWarning: Casting complex values to real discards the imaginary part\n",
      "  extracted_features[i, j] = extracted_feature[0, 0]\n"
     ]
    },
    {
     "name": "stdout",
     "output_type": "stream",
     "text": [
      "Training accuracy:  0.5824175824175825\n",
      "Testing accuracy:  0.4222222222222222\n"
     ]
    },
    {
     "name": "stderr",
     "output_type": "stream",
     "text": [
      "/home/inffzy/Desktop/cogs189/cogs189_final_project/scripts/SACSP.py:410: ComplexWarning: Casting complex values to real discards the imaginary part\n",
      "  extracted_features[i, j] = extracted_feature[0, 0]\n",
      "/home/inffzy/Desktop/cogs189/cogs189_final_project/scripts/SACSP.py:198: ComplexWarning: Casting complex values to real discards the imaginary part\n",
      "  E[i] = trial_fourier @ np.diag(h_or_l) @ np.matrix(trial_fourier).H\n",
      "/home/inffzy/Desktop/cogs189/cogs189_final_project/scripts/SACSP.py:225: ComplexWarning: Casting complex values to real discards the imaginary part\n",
      "  E[i] = np.matrix(trial_fourier).H @ w_or_v @ w_or_v.T @ trial_fourier\n",
      "/home/inffzy/Desktop/cogs189/cogs189_final_project/scripts/SACSP.py:177: ComplexWarning: Casting complex values to real discards the imaginary part\n",
      "  E[i] = trial_fourier @ np.diag(h_or_l) @ np.matrix(trial_fourier).H\n",
      "/home/inffzy/Desktop/cogs189/cogs189_final_project/scripts/SACSP.py:410: ComplexWarning: Casting complex values to real discards the imaginary part\n",
      "  extracted_features[i, j] = extracted_feature[0, 0]\n"
     ]
    },
    {
     "name": "stdout",
     "output_type": "stream",
     "text": [
      "Cross validation score average:  0.9116959064327486\n"
     ]
    },
    {
     "name": "stderr",
     "output_type": "stream",
     "text": [
      "/home/inffzy/Desktop/cogs189/cogs189_final_project/scripts/SACSP.py:410: ComplexWarning: Casting complex values to real discards the imaginary part\n",
      "  extracted_features[i, j] = extracted_feature[0, 0]\n"
     ]
    },
    {
     "name": "stdout",
     "output_type": "stream",
     "text": [
      "Training accuracy:  0.9340659340659341\n",
      "Testing accuracy:  0.9347826086956522\n"
     ]
    },
    {
     "name": "stderr",
     "output_type": "stream",
     "text": [
      "/home/inffzy/Desktop/cogs189/cogs189_final_project/scripts/SACSP.py:410: ComplexWarning: Casting complex values to real discards the imaginary part\n",
      "  extracted_features[i, j] = extracted_feature[0, 0]\n",
      "/home/inffzy/Desktop/cogs189/cogs189_final_project/scripts/SACSP.py:198: ComplexWarning: Casting complex values to real discards the imaginary part\n",
      "  E[i] = trial_fourier @ np.diag(h_or_l) @ np.matrix(trial_fourier).H\n",
      "/home/inffzy/Desktop/cogs189/cogs189_final_project/scripts/SACSP.py:225: ComplexWarning: Casting complex values to real discards the imaginary part\n",
      "  E[i] = np.matrix(trial_fourier).H @ w_or_v @ w_or_v.T @ trial_fourier\n",
      "/home/inffzy/Desktop/cogs189/cogs189_final_project/scripts/SACSP.py:177: ComplexWarning: Casting complex values to real discards the imaginary part\n",
      "  E[i] = trial_fourier @ np.diag(h_or_l) @ np.matrix(trial_fourier).H\n",
      "/home/inffzy/Desktop/cogs189/cogs189_final_project/scripts/SACSP.py:410: ComplexWarning: Casting complex values to real discards the imaginary part\n",
      "  extracted_features[i, j] = extracted_feature[0, 0]\n"
     ]
    },
    {
     "name": "stdout",
     "output_type": "stream",
     "text": [
      "Cross validation score average:  0.5928104575163399\n"
     ]
    },
    {
     "name": "stderr",
     "output_type": "stream",
     "text": [
      "/home/inffzy/Desktop/cogs189/cogs189_final_project/scripts/SACSP.py:410: ComplexWarning: Casting complex values to real discards the imaginary part\n",
      "  extracted_features[i, j] = extracted_feature[0, 0]\n"
     ]
    },
    {
     "name": "stdout",
     "output_type": "stream",
     "text": [
      "Training accuracy:  0.6046511627906976\n",
      "Testing accuracy:  0.4883720930232558\n"
     ]
    },
    {
     "name": "stderr",
     "output_type": "stream",
     "text": [
      "/home/inffzy/Desktop/cogs189/cogs189_final_project/scripts/SACSP.py:410: ComplexWarning: Casting complex values to real discards the imaginary part\n",
      "  extracted_features[i, j] = extracted_feature[0, 0]\n",
      "/home/inffzy/Desktop/cogs189/cogs189_final_project/scripts/SACSP.py:198: ComplexWarning: Casting complex values to real discards the imaginary part\n",
      "  E[i] = trial_fourier @ np.diag(h_or_l) @ np.matrix(trial_fourier).H\n",
      "/home/inffzy/Desktop/cogs189/cogs189_final_project/scripts/SACSP.py:225: ComplexWarning: Casting complex values to real discards the imaginary part\n",
      "  E[i] = np.matrix(trial_fourier).H @ w_or_v @ w_or_v.T @ trial_fourier\n",
      "/home/inffzy/Desktop/cogs189/cogs189_final_project/scripts/SACSP.py:177: ComplexWarning: Casting complex values to real discards the imaginary part\n",
      "  E[i] = trial_fourier @ np.diag(h_or_l) @ np.matrix(trial_fourier).H\n",
      "/home/inffzy/Desktop/cogs189/cogs189_final_project/scripts/SACSP.py:410: ComplexWarning: Casting complex values to real discards the imaginary part\n",
      "  extracted_features[i, j] = extracted_feature[0, 0]\n"
     ]
    },
    {
     "name": "stdout",
     "output_type": "stream",
     "text": [
      "Cross validation score average:  0.6169934640522876\n"
     ]
    },
    {
     "name": "stderr",
     "output_type": "stream",
     "text": [
      "/home/inffzy/Desktop/cogs189/cogs189_final_project/scripts/SACSP.py:410: ComplexWarning: Casting complex values to real discards the imaginary part\n",
      "  extracted_features[i, j] = extracted_feature[0, 0]\n"
     ]
    },
    {
     "name": "stdout",
     "output_type": "stream",
     "text": [
      "Training accuracy:  0.627906976744186\n",
      "Testing accuracy:  0.5116279069767442\n"
     ]
    },
    {
     "name": "stderr",
     "output_type": "stream",
     "text": [
      "/home/inffzy/Desktop/cogs189/cogs189_final_project/scripts/SACSP.py:410: ComplexWarning: Casting complex values to real discards the imaginary part\n",
      "  extracted_features[i, j] = extracted_feature[0, 0]\n",
      "/home/inffzy/Desktop/cogs189/cogs189_final_project/scripts/SACSP.py:198: ComplexWarning: Casting complex values to real discards the imaginary part\n",
      "  E[i] = trial_fourier @ np.diag(h_or_l) @ np.matrix(trial_fourier).H\n",
      "/home/inffzy/Desktop/cogs189/cogs189_final_project/scripts/SACSP.py:225: ComplexWarning: Casting complex values to real discards the imaginary part\n",
      "  E[i] = np.matrix(trial_fourier).H @ w_or_v @ w_or_v.T @ trial_fourier\n",
      "/home/inffzy/Desktop/cogs189/cogs189_final_project/scripts/SACSP.py:177: ComplexWarning: Casting complex values to real discards the imaginary part\n",
      "  E[i] = trial_fourier @ np.diag(h_or_l) @ np.matrix(trial_fourier).H\n",
      "/home/inffzy/Desktop/cogs189/cogs189_final_project/scripts/SACSP.py:410: ComplexWarning: Casting complex values to real discards the imaginary part\n",
      "  extracted_features[i, j] = extracted_feature[0, 0]\n"
     ]
    },
    {
     "name": "stdout",
     "output_type": "stream",
     "text": [
      "Cross validation score average:  0.5866666666666667\n"
     ]
    },
    {
     "name": "stderr",
     "output_type": "stream",
     "text": [
      "/home/inffzy/Desktop/cogs189/cogs189_final_project/scripts/SACSP.py:410: ComplexWarning: Casting complex values to real discards the imaginary part\n",
      "  extracted_features[i, j] = extracted_feature[0, 0]\n"
     ]
    },
    {
     "name": "stdout",
     "output_type": "stream",
     "text": [
      "Training accuracy:  0.6133333333333333\n",
      "Testing accuracy:  0.42105263157894735\n"
     ]
    },
    {
     "name": "stderr",
     "output_type": "stream",
     "text": [
      "/home/inffzy/Desktop/cogs189/cogs189_final_project/scripts/SACSP.py:410: ComplexWarning: Casting complex values to real discards the imaginary part\n",
      "  extracted_features[i, j] = extracted_feature[0, 0]\n",
      "/home/inffzy/Desktop/cogs189/cogs189_final_project/scripts/SACSP.py:198: ComplexWarning: Casting complex values to real discards the imaginary part\n",
      "  E[i] = trial_fourier @ np.diag(h_or_l) @ np.matrix(trial_fourier).H\n",
      "/home/inffzy/Desktop/cogs189/cogs189_final_project/scripts/SACSP.py:225: ComplexWarning: Casting complex values to real discards the imaginary part\n",
      "  E[i] = np.matrix(trial_fourier).H @ w_or_v @ w_or_v.T @ trial_fourier\n",
      "/home/inffzy/Desktop/cogs189/cogs189_final_project/scripts/SACSP.py:177: ComplexWarning: Casting complex values to real discards the imaginary part\n",
      "  E[i] = trial_fourier @ np.diag(h_or_l) @ np.matrix(trial_fourier).H\n",
      "/home/inffzy/Desktop/cogs189/cogs189_final_project/scripts/SACSP.py:410: ComplexWarning: Casting complex values to real discards the imaginary part\n",
      "  extracted_features[i, j] = extracted_feature[0, 0]\n"
     ]
    },
    {
     "name": "stdout",
     "output_type": "stream",
     "text": [
      "Cross validation score average:  0.47124183006535947\n"
     ]
    },
    {
     "name": "stderr",
     "output_type": "stream",
     "text": [
      "/home/inffzy/Desktop/cogs189/cogs189_final_project/scripts/SACSP.py:410: ComplexWarning: Casting complex values to real discards the imaginary part\n",
      "  extracted_features[i, j] = extracted_feature[0, 0]\n"
     ]
    },
    {
     "name": "stdout",
     "output_type": "stream",
     "text": [
      "Training accuracy:  0.5393258426966292\n",
      "Testing accuracy:  0.4772727272727273\n"
     ]
    },
    {
     "name": "stderr",
     "output_type": "stream",
     "text": [
      "/home/inffzy/Desktop/cogs189/cogs189_final_project/scripts/SACSP.py:410: ComplexWarning: Casting complex values to real discards the imaginary part\n",
      "  extracted_features[i, j] = extracted_feature[0, 0]\n",
      "/home/inffzy/Desktop/cogs189/cogs189_final_project/scripts/SACSP.py:198: ComplexWarning: Casting complex values to real discards the imaginary part\n",
      "  E[i] = trial_fourier @ np.diag(h_or_l) @ np.matrix(trial_fourier).H\n",
      "/home/inffzy/Desktop/cogs189/cogs189_final_project/scripts/SACSP.py:225: ComplexWarning: Casting complex values to real discards the imaginary part\n",
      "  E[i] = np.matrix(trial_fourier).H @ w_or_v @ w_or_v.T @ trial_fourier\n",
      "/home/inffzy/Desktop/cogs189/cogs189_final_project/scripts/SACSP.py:177: ComplexWarning: Casting complex values to real discards the imaginary part\n",
      "  E[i] = trial_fourier @ np.diag(h_or_l) @ np.matrix(trial_fourier).H\n",
      "/home/inffzy/Desktop/cogs189/cogs189_final_project/scripts/SACSP.py:410: ComplexWarning: Casting complex values to real discards the imaginary part\n",
      "  extracted_features[i, j] = extracted_feature[0, 0]\n"
     ]
    },
    {
     "name": "stdout",
     "output_type": "stream",
     "text": [
      "Cross validation score average:  0.9202614379084967\n"
     ]
    },
    {
     "name": "stderr",
     "output_type": "stream",
     "text": [
      "/home/inffzy/Desktop/cogs189/cogs189_final_project/scripts/SACSP.py:410: ComplexWarning: Casting complex values to real discards the imaginary part\n",
      "  extracted_features[i, j] = extracted_feature[0, 0]\n"
     ]
    },
    {
     "name": "stdout",
     "output_type": "stream",
     "text": [
      "Training accuracy:  0.9090909090909091\n",
      "Testing accuracy:  0.9090909090909091\n"
     ]
    },
    {
     "name": "stderr",
     "output_type": "stream",
     "text": [
      "/home/inffzy/Desktop/cogs189/cogs189_final_project/scripts/SACSP.py:410: ComplexWarning: Casting complex values to real discards the imaginary part\n",
      "  extracted_features[i, j] = extracted_feature[0, 0]\n",
      "/home/inffzy/Desktop/cogs189/cogs189_final_project/scripts/SACSP.py:198: ComplexWarning: Casting complex values to real discards the imaginary part\n",
      "  E[i] = trial_fourier @ np.diag(h_or_l) @ np.matrix(trial_fourier).H\n",
      "/home/inffzy/Desktop/cogs189/cogs189_final_project/scripts/SACSP.py:225: ComplexWarning: Casting complex values to real discards the imaginary part\n",
      "  E[i] = np.matrix(trial_fourier).H @ w_or_v @ w_or_v.T @ trial_fourier\n",
      "/home/inffzy/Desktop/cogs189/cogs189_final_project/scripts/SACSP.py:177: ComplexWarning: Casting complex values to real discards the imaginary part\n",
      "  E[i] = trial_fourier @ np.diag(h_or_l) @ np.matrix(trial_fourier).H\n",
      "/home/inffzy/Desktop/cogs189/cogs189_final_project/scripts/SACSP.py:410: ComplexWarning: Casting complex values to real discards the imaginary part\n",
      "  extracted_features[i, j] = extracted_feature[0, 0]\n"
     ]
    },
    {
     "name": "stdout",
     "output_type": "stream",
     "text": [
      "Cross validation score average:  0.7150000000000001\n"
     ]
    },
    {
     "name": "stderr",
     "output_type": "stream",
     "text": [
      "/home/inffzy/Desktop/cogs189/cogs189_final_project/scripts/SACSP.py:410: ComplexWarning: Casting complex values to real discards the imaginary part\n",
      "  extracted_features[i, j] = extracted_feature[0, 0]\n"
     ]
    },
    {
     "name": "stdout",
     "output_type": "stream",
     "text": [
      "Training accuracy:  0.7272727272727273\n",
      "Testing accuracy:  0.717948717948718\n"
     ]
    },
    {
     "name": "stderr",
     "output_type": "stream",
     "text": [
      "/home/inffzy/Desktop/cogs189/cogs189_final_project/scripts/SACSP.py:410: ComplexWarning: Casting complex values to real discards the imaginary part\n",
      "  extracted_features[i, j] = extracted_feature[0, 0]\n",
      "/home/inffzy/Desktop/cogs189/cogs189_final_project/scripts/SACSP.py:198: ComplexWarning: Casting complex values to real discards the imaginary part\n",
      "  E[i] = trial_fourier @ np.diag(h_or_l) @ np.matrix(trial_fourier).H\n",
      "/home/inffzy/Desktop/cogs189/cogs189_final_project/scripts/SACSP.py:225: ComplexWarning: Casting complex values to real discards the imaginary part\n",
      "  E[i] = np.matrix(trial_fourier).H @ w_or_v @ w_or_v.T @ trial_fourier\n",
      "/home/inffzy/Desktop/cogs189/cogs189_final_project/scripts/SACSP.py:177: ComplexWarning: Casting complex values to real discards the imaginary part\n",
      "  E[i] = trial_fourier @ np.diag(h_or_l) @ np.matrix(trial_fourier).H\n",
      "/home/inffzy/Desktop/cogs189/cogs189_final_project/scripts/SACSP.py:410: ComplexWarning: Casting complex values to real discards the imaginary part\n",
      "  extracted_features[i, j] = extracted_feature[0, 0]\n",
      "/home/inffzy/Desktop/cogs189/cogs189_final_project/scripts/SACSP.py:410: ComplexWarning: Casting complex values to real discards the imaginary part\n",
      "  extracted_features[i, j] = extracted_feature[0, 0]\n"
     ]
    },
    {
     "name": "stdout",
     "output_type": "stream",
     "text": [
      "Cross validation score average:  0.6799999999999999\n",
      "Training accuracy:  0.7083333333333334\n"
     ]
    },
    {
     "name": "stderr",
     "output_type": "stream",
     "text": [
      "/home/inffzy/Desktop/cogs189/cogs189_final_project/scripts/SACSP.py:410: ComplexWarning: Casting complex values to real discards the imaginary part\n",
      "  extracted_features[i, j] = extracted_feature[0, 0]\n",
      "/home/inffzy/Desktop/cogs189/cogs189_final_project/scripts/SACSP.py:198: ComplexWarning: Casting complex values to real discards the imaginary part\n",
      "  E[i] = trial_fourier @ np.diag(h_or_l) @ np.matrix(trial_fourier).H\n",
      "/home/inffzy/Desktop/cogs189/cogs189_final_project/scripts/SACSP.py:225: ComplexWarning: Casting complex values to real discards the imaginary part\n",
      "  E[i] = np.matrix(trial_fourier).H @ w_or_v @ w_or_v.T @ trial_fourier\n",
      "/home/inffzy/Desktop/cogs189/cogs189_final_project/scripts/SACSP.py:177: ComplexWarning: Casting complex values to real discards the imaginary part\n",
      "  E[i] = trial_fourier @ np.diag(h_or_l) @ np.matrix(trial_fourier).H\n"
     ]
    },
    {
     "name": "stdout",
     "output_type": "stream",
     "text": [
      "Testing accuracy:  0.8\n"
     ]
    },
    {
     "name": "stderr",
     "output_type": "stream",
     "text": [
      "/home/inffzy/Desktop/cogs189/cogs189_final_project/scripts/SACSP.py:410: ComplexWarning: Casting complex values to real discards the imaginary part\n",
      "  extracted_features[i, j] = extracted_feature[0, 0]\n",
      "/home/inffzy/Desktop/cogs189/cogs189_final_project/scripts/SACSP.py:410: ComplexWarning: Casting complex values to real discards the imaginary part\n",
      "  extracted_features[i, j] = extracted_feature[0, 0]\n"
     ]
    },
    {
     "name": "stdout",
     "output_type": "stream",
     "text": [
      "Cross validation score average:  0.6714285714285715\n",
      "Training accuracy:  0.7096774193548387\n",
      "Testing accuracy:  0.375\n"
     ]
    },
    {
     "name": "stderr",
     "output_type": "stream",
     "text": [
      "/home/inffzy/Desktop/cogs189/cogs189_final_project/scripts/SACSP.py:410: ComplexWarning: Casting complex values to real discards the imaginary part\n",
      "  extracted_features[i, j] = extracted_feature[0, 0]\n",
      "/home/inffzy/Desktop/cogs189/cogs189_final_project/scripts/SACSP.py:198: ComplexWarning: Casting complex values to real discards the imaginary part\n",
      "  E[i] = trial_fourier @ np.diag(h_or_l) @ np.matrix(trial_fourier).H\n",
      "/home/inffzy/Desktop/cogs189/cogs189_final_project/scripts/SACSP.py:225: ComplexWarning: Casting complex values to real discards the imaginary part\n",
      "  E[i] = np.matrix(trial_fourier).H @ w_or_v @ w_or_v.T @ trial_fourier\n",
      "/home/inffzy/Desktop/cogs189/cogs189_final_project/scripts/SACSP.py:177: ComplexWarning: Casting complex values to real discards the imaginary part\n",
      "  E[i] = trial_fourier @ np.diag(h_or_l) @ np.matrix(trial_fourier).H\n",
      "/home/inffzy/Desktop/cogs189/cogs189_final_project/scripts/SACSP.py:410: ComplexWarning: Casting complex values to real discards the imaginary part\n",
      "  extracted_features[i, j] = extracted_feature[0, 0]\n",
      "/home/inffzy/Desktop/cogs189/cogs189_final_project/scripts/SACSP.py:410: ComplexWarning: Casting complex values to real discards the imaginary part\n",
      "  extracted_features[i, j] = extracted_feature[0, 0]\n"
     ]
    },
    {
     "name": "stdout",
     "output_type": "stream",
     "text": [
      "Cross validation score average:  0.9666666666666668\n",
      "Training accuracy:  0.9629629629629629\n",
      "Testing accuracy:  0.9285714285714286\n"
     ]
    },
    {
     "name": "stderr",
     "output_type": "stream",
     "text": [
      "/home/inffzy/Desktop/cogs189/cogs189_final_project/scripts/SACSP.py:410: ComplexWarning: Casting complex values to real discards the imaginary part\n",
      "  extracted_features[i, j] = extracted_feature[0, 0]\n",
      "/home/inffzy/Desktop/cogs189/cogs189_final_project/scripts/SACSP.py:198: ComplexWarning: Casting complex values to real discards the imaginary part\n",
      "  E[i] = trial_fourier @ np.diag(h_or_l) @ np.matrix(trial_fourier).H\n",
      "/home/inffzy/Desktop/cogs189/cogs189_final_project/scripts/SACSP.py:225: ComplexWarning: Casting complex values to real discards the imaginary part\n",
      "  E[i] = np.matrix(trial_fourier).H @ w_or_v @ w_or_v.T @ trial_fourier\n",
      "/home/inffzy/Desktop/cogs189/cogs189_final_project/scripts/SACSP.py:177: ComplexWarning: Casting complex values to real discards the imaginary part\n",
      "  E[i] = trial_fourier @ np.diag(h_or_l) @ np.matrix(trial_fourier).H\n",
      "/home/inffzy/Desktop/cogs189/cogs189_final_project/scripts/SACSP.py:410: ComplexWarning: Casting complex values to real discards the imaginary part\n",
      "  extracted_features[i, j] = extracted_feature[0, 0]\n"
     ]
    },
    {
     "name": "stdout",
     "output_type": "stream",
     "text": [
      "Cross validation score average:  0.5654970760233918\n"
     ]
    },
    {
     "name": "stderr",
     "output_type": "stream",
     "text": [
      "/home/inffzy/Desktop/cogs189/cogs189_final_project/scripts/SACSP.py:410: ComplexWarning: Casting complex values to real discards the imaginary part\n",
      "  extracted_features[i, j] = extracted_feature[0, 0]\n"
     ]
    },
    {
     "name": "stdout",
     "output_type": "stream",
     "text": [
      "Training accuracy:  0.6086956521739131\n",
      "Testing accuracy:  0.5652173913043478\n"
     ]
    },
    {
     "name": "stderr",
     "output_type": "stream",
     "text": [
      "/home/inffzy/Desktop/cogs189/cogs189_final_project/scripts/SACSP.py:410: ComplexWarning: Casting complex values to real discards the imaginary part\n",
      "  extracted_features[i, j] = extracted_feature[0, 0]\n",
      "/home/inffzy/Desktop/cogs189/cogs189_final_project/scripts/SACSP.py:198: ComplexWarning: Casting complex values to real discards the imaginary part\n",
      "  E[i] = trial_fourier @ np.diag(h_or_l) @ np.matrix(trial_fourier).H\n",
      "/home/inffzy/Desktop/cogs189/cogs189_final_project/scripts/SACSP.py:225: ComplexWarning: Casting complex values to real discards the imaginary part\n",
      "  E[i] = np.matrix(trial_fourier).H @ w_or_v @ w_or_v.T @ trial_fourier\n",
      "/home/inffzy/Desktop/cogs189/cogs189_final_project/scripts/SACSP.py:177: ComplexWarning: Casting complex values to real discards the imaginary part\n",
      "  E[i] = trial_fourier @ np.diag(h_or_l) @ np.matrix(trial_fourier).H\n",
      "/home/inffzy/Desktop/cogs189/cogs189_final_project/scripts/SACSP.py:410: ComplexWarning: Casting complex values to real discards the imaginary part\n",
      "  extracted_features[i, j] = extracted_feature[0, 0]\n"
     ]
    },
    {
     "name": "stdout",
     "output_type": "stream",
     "text": [
      "Cross validation score average:  0.6157894736842106\n"
     ]
    },
    {
     "name": "stderr",
     "output_type": "stream",
     "text": [
      "/home/inffzy/Desktop/cogs189/cogs189_final_project/scripts/SACSP.py:410: ComplexWarning: Casting complex values to real discards the imaginary part\n",
      "  extracted_features[i, j] = extracted_feature[0, 0]\n"
     ]
    },
    {
     "name": "stdout",
     "output_type": "stream",
     "text": [
      "Training accuracy:  0.6043956043956044\n",
      "Testing accuracy:  0.4666666666666667\n"
     ]
    },
    {
     "name": "stderr",
     "output_type": "stream",
     "text": [
      "/home/inffzy/Desktop/cogs189/cogs189_final_project/scripts/SACSP.py:410: ComplexWarning: Casting complex values to real discards the imaginary part\n",
      "  extracted_features[i, j] = extracted_feature[0, 0]\n",
      "/home/inffzy/Desktop/cogs189/cogs189_final_project/scripts/SACSP.py:198: ComplexWarning: Casting complex values to real discards the imaginary part\n",
      "  E[i] = trial_fourier @ np.diag(h_or_l) @ np.matrix(trial_fourier).H\n",
      "/home/inffzy/Desktop/cogs189/cogs189_final_project/scripts/SACSP.py:225: ComplexWarning: Casting complex values to real discards the imaginary part\n",
      "  E[i] = np.matrix(trial_fourier).H @ w_or_v @ w_or_v.T @ trial_fourier\n",
      "/home/inffzy/Desktop/cogs189/cogs189_final_project/scripts/SACSP.py:177: ComplexWarning: Casting complex values to real discards the imaginary part\n",
      "  E[i] = trial_fourier @ np.diag(h_or_l) @ np.matrix(trial_fourier).H\n",
      "/home/inffzy/Desktop/cogs189/cogs189_final_project/scripts/SACSP.py:410: ComplexWarning: Casting complex values to real discards the imaginary part\n",
      "  extracted_features[i, j] = extracted_feature[0, 0]\n"
     ]
    },
    {
     "name": "stdout",
     "output_type": "stream",
     "text": [
      "Cross validation score average:  0.8473684210526315\n"
     ]
    },
    {
     "name": "stderr",
     "output_type": "stream",
     "text": [
      "/home/inffzy/Desktop/cogs189/cogs189_final_project/scripts/SACSP.py:410: ComplexWarning: Casting complex values to real discards the imaginary part\n",
      "  extracted_features[i, j] = extracted_feature[0, 0]\n"
     ]
    },
    {
     "name": "stdout",
     "output_type": "stream",
     "text": [
      "Training accuracy:  0.8571428571428571\n",
      "Testing accuracy:  0.7391304347826086\n"
     ]
    },
    {
     "name": "stderr",
     "output_type": "stream",
     "text": [
      "/home/inffzy/Desktop/cogs189/cogs189_final_project/scripts/SACSP.py:410: ComplexWarning: Casting complex values to real discards the imaginary part\n",
      "  extracted_features[i, j] = extracted_feature[0, 0]\n",
      "/home/inffzy/Desktop/cogs189/cogs189_final_project/scripts/SACSP.py:198: ComplexWarning: Casting complex values to real discards the imaginary part\n",
      "  E[i] = trial_fourier @ np.diag(h_or_l) @ np.matrix(trial_fourier).H\n",
      "/home/inffzy/Desktop/cogs189/cogs189_final_project/scripts/SACSP.py:225: ComplexWarning: Casting complex values to real discards the imaginary part\n",
      "  E[i] = np.matrix(trial_fourier).H @ w_or_v @ w_or_v.T @ trial_fourier\n",
      "/home/inffzy/Desktop/cogs189/cogs189_final_project/scripts/SACSP.py:177: ComplexWarning: Casting complex values to real discards the imaginary part\n",
      "  E[i] = trial_fourier @ np.diag(h_or_l) @ np.matrix(trial_fourier).H\n",
      "/home/inffzy/Desktop/cogs189/cogs189_final_project/scripts/SACSP.py:410: ComplexWarning: Casting complex values to real discards the imaginary part\n",
      "  extracted_features[i, j] = extracted_feature[0, 0]\n"
     ]
    },
    {
     "name": "stdout",
     "output_type": "stream",
     "text": [
      "Cross validation score average:  0.6379084967320262\n"
     ]
    },
    {
     "name": "stderr",
     "output_type": "stream",
     "text": [
      "/home/inffzy/Desktop/cogs189/cogs189_final_project/scripts/SACSP.py:410: ComplexWarning: Casting complex values to real discards the imaginary part\n",
      "  extracted_features[i, j] = extracted_feature[0, 0]\n"
     ]
    },
    {
     "name": "stdout",
     "output_type": "stream",
     "text": [
      "Training accuracy:  0.6395348837209303\n",
      "Testing accuracy:  0.5116279069767442\n"
     ]
    },
    {
     "name": "stderr",
     "output_type": "stream",
     "text": [
      "/home/inffzy/Desktop/cogs189/cogs189_final_project/scripts/SACSP.py:410: ComplexWarning: Casting complex values to real discards the imaginary part\n",
      "  extracted_features[i, j] = extracted_feature[0, 0]\n",
      "/home/inffzy/Desktop/cogs189/cogs189_final_project/scripts/SACSP.py:198: ComplexWarning: Casting complex values to real discards the imaginary part\n",
      "  E[i] = trial_fourier @ np.diag(h_or_l) @ np.matrix(trial_fourier).H\n",
      "/home/inffzy/Desktop/cogs189/cogs189_final_project/scripts/SACSP.py:225: ComplexWarning: Casting complex values to real discards the imaginary part\n",
      "  E[i] = np.matrix(trial_fourier).H @ w_or_v @ w_or_v.T @ trial_fourier\n",
      "/home/inffzy/Desktop/cogs189/cogs189_final_project/scripts/SACSP.py:177: ComplexWarning: Casting complex values to real discards the imaginary part\n",
      "  E[i] = trial_fourier @ np.diag(h_or_l) @ np.matrix(trial_fourier).H\n",
      "/home/inffzy/Desktop/cogs189/cogs189_final_project/scripts/SACSP.py:410: ComplexWarning: Casting complex values to real discards the imaginary part\n",
      "  extracted_features[i, j] = extracted_feature[0, 0]\n"
     ]
    },
    {
     "name": "stdout",
     "output_type": "stream",
     "text": [
      "Cross validation score average:  0.6405228758169935\n"
     ]
    },
    {
     "name": "stderr",
     "output_type": "stream",
     "text": [
      "/home/inffzy/Desktop/cogs189/cogs189_final_project/scripts/SACSP.py:410: ComplexWarning: Casting complex values to real discards the imaginary part\n",
      "  extracted_features[i, j] = extracted_feature[0, 0]\n"
     ]
    },
    {
     "name": "stdout",
     "output_type": "stream",
     "text": [
      "Training accuracy:  0.6976744186046512\n",
      "Testing accuracy:  0.5116279069767442\n"
     ]
    },
    {
     "name": "stderr",
     "output_type": "stream",
     "text": [
      "/home/inffzy/Desktop/cogs189/cogs189_final_project/scripts/SACSP.py:410: ComplexWarning: Casting complex values to real discards the imaginary part\n",
      "  extracted_features[i, j] = extracted_feature[0, 0]\n",
      "/home/inffzy/Desktop/cogs189/cogs189_final_project/scripts/SACSP.py:198: ComplexWarning: Casting complex values to real discards the imaginary part\n",
      "  E[i] = trial_fourier @ np.diag(h_or_l) @ np.matrix(trial_fourier).H\n",
      "/home/inffzy/Desktop/cogs189/cogs189_final_project/scripts/SACSP.py:225: ComplexWarning: Casting complex values to real discards the imaginary part\n",
      "  E[i] = np.matrix(trial_fourier).H @ w_or_v @ w_or_v.T @ trial_fourier\n",
      "/home/inffzy/Desktop/cogs189/cogs189_final_project/scripts/SACSP.py:177: ComplexWarning: Casting complex values to real discards the imaginary part\n",
      "  E[i] = trial_fourier @ np.diag(h_or_l) @ np.matrix(trial_fourier).H\n",
      "/home/inffzy/Desktop/cogs189/cogs189_final_project/scripts/SACSP.py:410: ComplexWarning: Casting complex values to real discards the imaginary part\n",
      "  extracted_features[i, j] = extracted_feature[0, 0]\n"
     ]
    },
    {
     "name": "stdout",
     "output_type": "stream",
     "text": [
      "Cross validation score average:  0.6\n"
     ]
    },
    {
     "name": "stderr",
     "output_type": "stream",
     "text": [
      "/home/inffzy/Desktop/cogs189/cogs189_final_project/scripts/SACSP.py:410: ComplexWarning: Casting complex values to real discards the imaginary part\n",
      "  extracted_features[i, j] = extracted_feature[0, 0]\n"
     ]
    },
    {
     "name": "stdout",
     "output_type": "stream",
     "text": [
      "Training accuracy:  0.6666666666666666\n",
      "Testing accuracy:  0.631578947368421\n"
     ]
    },
    {
     "name": "stderr",
     "output_type": "stream",
     "text": [
      "/home/inffzy/Desktop/cogs189/cogs189_final_project/scripts/SACSP.py:410: ComplexWarning: Casting complex values to real discards the imaginary part\n",
      "  extracted_features[i, j] = extracted_feature[0, 0]\n",
      "/home/inffzy/Desktop/cogs189/cogs189_final_project/scripts/SACSP.py:198: ComplexWarning: Casting complex values to real discards the imaginary part\n",
      "  E[i] = trial_fourier @ np.diag(h_or_l) @ np.matrix(trial_fourier).H\n",
      "/home/inffzy/Desktop/cogs189/cogs189_final_project/scripts/SACSP.py:225: ComplexWarning: Casting complex values to real discards the imaginary part\n",
      "  E[i] = np.matrix(trial_fourier).H @ w_or_v @ w_or_v.T @ trial_fourier\n",
      "/home/inffzy/Desktop/cogs189/cogs189_final_project/scripts/SACSP.py:177: ComplexWarning: Casting complex values to real discards the imaginary part\n",
      "  E[i] = trial_fourier @ np.diag(h_or_l) @ np.matrix(trial_fourier).H\n",
      "/home/inffzy/Desktop/cogs189/cogs189_final_project/scripts/SACSP.py:410: ComplexWarning: Casting complex values to real discards the imaginary part\n",
      "  extracted_features[i, j] = extracted_feature[0, 0]\n"
     ]
    },
    {
     "name": "stdout",
     "output_type": "stream",
     "text": [
      "Cross validation score average:  0.5490196078431373\n"
     ]
    },
    {
     "name": "stderr",
     "output_type": "stream",
     "text": [
      "/home/inffzy/Desktop/cogs189/cogs189_final_project/scripts/SACSP.py:410: ComplexWarning: Casting complex values to real discards the imaginary part\n",
      "  extracted_features[i, j] = extracted_feature[0, 0]\n"
     ]
    },
    {
     "name": "stdout",
     "output_type": "stream",
     "text": [
      "Training accuracy:  0.5842696629213483\n",
      "Testing accuracy:  0.4090909090909091\n"
     ]
    },
    {
     "name": "stderr",
     "output_type": "stream",
     "text": [
      "/home/inffzy/Desktop/cogs189/cogs189_final_project/scripts/SACSP.py:410: ComplexWarning: Casting complex values to real discards the imaginary part\n",
      "  extracted_features[i, j] = extracted_feature[0, 0]\n",
      "/home/inffzy/Desktop/cogs189/cogs189_final_project/scripts/SACSP.py:198: ComplexWarning: Casting complex values to real discards the imaginary part\n",
      "  E[i] = trial_fourier @ np.diag(h_or_l) @ np.matrix(trial_fourier).H\n",
      "/home/inffzy/Desktop/cogs189/cogs189_final_project/scripts/SACSP.py:225: ComplexWarning: Casting complex values to real discards the imaginary part\n",
      "  E[i] = np.matrix(trial_fourier).H @ w_or_v @ w_or_v.T @ trial_fourier\n",
      "/home/inffzy/Desktop/cogs189/cogs189_final_project/scripts/SACSP.py:177: ComplexWarning: Casting complex values to real discards the imaginary part\n",
      "  E[i] = trial_fourier @ np.diag(h_or_l) @ np.matrix(trial_fourier).H\n",
      "/home/inffzy/Desktop/cogs189/cogs189_final_project/scripts/SACSP.py:410: ComplexWarning: Casting complex values to real discards the imaginary part\n",
      "  extracted_features[i, j] = extracted_feature[0, 0]\n"
     ]
    },
    {
     "name": "stdout",
     "output_type": "stream",
     "text": [
      "Cross validation score average:  0.9653594771241831\n"
     ]
    },
    {
     "name": "stderr",
     "output_type": "stream",
     "text": [
      "/home/inffzy/Desktop/cogs189/cogs189_final_project/scripts/SACSP.py:410: ComplexWarning: Casting complex values to real discards the imaginary part\n",
      "  extracted_features[i, j] = extracted_feature[0, 0]\n"
     ]
    },
    {
     "name": "stdout",
     "output_type": "stream",
     "text": [
      "Training accuracy:  0.9659090909090909\n",
      "Testing accuracy:  0.7954545454545454\n"
     ]
    },
    {
     "name": "stderr",
     "output_type": "stream",
     "text": [
      "/home/inffzy/Desktop/cogs189/cogs189_final_project/scripts/SACSP.py:410: ComplexWarning: Casting complex values to real discards the imaginary part\n",
      "  extracted_features[i, j] = extracted_feature[0, 0]\n",
      "/home/inffzy/Desktop/cogs189/cogs189_final_project/scripts/SACSP.py:198: ComplexWarning: Casting complex values to real discards the imaginary part\n",
      "  E[i] = trial_fourier @ np.diag(h_or_l) @ np.matrix(trial_fourier).H\n",
      "/home/inffzy/Desktop/cogs189/cogs189_final_project/scripts/SACSP.py:225: ComplexWarning: Casting complex values to real discards the imaginary part\n",
      "  E[i] = np.matrix(trial_fourier).H @ w_or_v @ w_or_v.T @ trial_fourier\n",
      "/home/inffzy/Desktop/cogs189/cogs189_final_project/scripts/SACSP.py:177: ComplexWarning: Casting complex values to real discards the imaginary part\n",
      "  E[i] = trial_fourier @ np.diag(h_or_l) @ np.matrix(trial_fourier).H\n",
      "/home/inffzy/Desktop/cogs189/cogs189_final_project/scripts/SACSP.py:410: ComplexWarning: Casting complex values to real discards the imaginary part\n",
      "  extracted_features[i, j] = extracted_feature[0, 0]\n"
     ]
    },
    {
     "name": "stdout",
     "output_type": "stream",
     "text": [
      "Cross validation score average:  0.675\n"
     ]
    },
    {
     "name": "stderr",
     "output_type": "stream",
     "text": [
      "/home/inffzy/Desktop/cogs189/cogs189_final_project/scripts/SACSP.py:410: ComplexWarning: Casting complex values to real discards the imaginary part\n",
      "  extracted_features[i, j] = extracted_feature[0, 0]\n"
     ]
    },
    {
     "name": "stdout",
     "output_type": "stream",
     "text": [
      "Training accuracy:  0.6753246753246753\n",
      "Testing accuracy:  0.6666666666666666\n"
     ]
    },
    {
     "name": "stderr",
     "output_type": "stream",
     "text": [
      "/home/inffzy/Desktop/cogs189/cogs189_final_project/scripts/SACSP.py:410: ComplexWarning: Casting complex values to real discards the imaginary part\n",
      "  extracted_features[i, j] = extracted_feature[0, 0]\n",
      "/home/inffzy/Desktop/cogs189/cogs189_final_project/scripts/SACSP.py:198: ComplexWarning: Casting complex values to real discards the imaginary part\n",
      "  E[i] = trial_fourier @ np.diag(h_or_l) @ np.matrix(trial_fourier).H\n",
      "/home/inffzy/Desktop/cogs189/cogs189_final_project/scripts/SACSP.py:225: ComplexWarning: Casting complex values to real discards the imaginary part\n",
      "  E[i] = np.matrix(trial_fourier).H @ w_or_v @ w_or_v.T @ trial_fourier\n",
      "/home/inffzy/Desktop/cogs189/cogs189_final_project/scripts/SACSP.py:177: ComplexWarning: Casting complex values to real discards the imaginary part\n",
      "  E[i] = trial_fourier @ np.diag(h_or_l) @ np.matrix(trial_fourier).H\n",
      "/home/inffzy/Desktop/cogs189/cogs189_final_project/scripts/SACSP.py:410: ComplexWarning: Casting complex values to real discards the imaginary part\n",
      "  extracted_features[i, j] = extracted_feature[0, 0]\n",
      "/home/inffzy/Desktop/cogs189/cogs189_final_project/scripts/SACSP.py:410: ComplexWarning: Casting complex values to real discards the imaginary part\n",
      "  extracted_features[i, j] = extracted_feature[0, 0]\n"
     ]
    },
    {
     "name": "stdout",
     "output_type": "stream",
     "text": [
      "Cross validation score average:  0.8133333333333332\n",
      "Training accuracy:  0.8333333333333334\n"
     ]
    },
    {
     "name": "stderr",
     "output_type": "stream",
     "text": [
      "/home/inffzy/Desktop/cogs189/cogs189_final_project/scripts/SACSP.py:410: ComplexWarning: Casting complex values to real discards the imaginary part\n",
      "  extracted_features[i, j] = extracted_feature[0, 0]\n",
      "/home/inffzy/Desktop/cogs189/cogs189_final_project/scripts/SACSP.py:198: ComplexWarning: Casting complex values to real discards the imaginary part\n",
      "  E[i] = trial_fourier @ np.diag(h_or_l) @ np.matrix(trial_fourier).H\n",
      "/home/inffzy/Desktop/cogs189/cogs189_final_project/scripts/SACSP.py:225: ComplexWarning: Casting complex values to real discards the imaginary part\n",
      "  E[i] = np.matrix(trial_fourier).H @ w_or_v @ w_or_v.T @ trial_fourier\n",
      "/home/inffzy/Desktop/cogs189/cogs189_final_project/scripts/SACSP.py:177: ComplexWarning: Casting complex values to real discards the imaginary part\n",
      "  E[i] = trial_fourier @ np.diag(h_or_l) @ np.matrix(trial_fourier).H\n"
     ]
    },
    {
     "name": "stdout",
     "output_type": "stream",
     "text": [
      "Testing accuracy:  0.68\n"
     ]
    },
    {
     "name": "stderr",
     "output_type": "stream",
     "text": [
      "/home/inffzy/Desktop/cogs189/cogs189_final_project/scripts/SACSP.py:410: ComplexWarning: Casting complex values to real discards the imaginary part\n",
      "  extracted_features[i, j] = extracted_feature[0, 0]\n",
      "/home/inffzy/Desktop/cogs189/cogs189_final_project/scripts/SACSP.py:410: ComplexWarning: Casting complex values to real discards the imaginary part\n",
      "  extracted_features[i, j] = extracted_feature[0, 0]\n"
     ]
    },
    {
     "name": "stdout",
     "output_type": "stream",
     "text": [
      "Cross validation score average:  0.6142857142857142\n",
      "Training accuracy:  0.6451612903225806\n",
      "Testing accuracy:  0.75\n"
     ]
    },
    {
     "name": "stderr",
     "output_type": "stream",
     "text": [
      "/home/inffzy/Desktop/cogs189/cogs189_final_project/scripts/SACSP.py:410: ComplexWarning: Casting complex values to real discards the imaginary part\n",
      "  extracted_features[i, j] = extracted_feature[0, 0]\n",
      "/home/inffzy/Desktop/cogs189/cogs189_final_project/scripts/SACSP.py:198: ComplexWarning: Casting complex values to real discards the imaginary part\n",
      "  E[i] = trial_fourier @ np.diag(h_or_l) @ np.matrix(trial_fourier).H\n",
      "/home/inffzy/Desktop/cogs189/cogs189_final_project/scripts/SACSP.py:225: ComplexWarning: Casting complex values to real discards the imaginary part\n",
      "  E[i] = np.matrix(trial_fourier).H @ w_or_v @ w_or_v.T @ trial_fourier\n",
      "/home/inffzy/Desktop/cogs189/cogs189_final_project/scripts/SACSP.py:177: ComplexWarning: Casting complex values to real discards the imaginary part\n",
      "  E[i] = trial_fourier @ np.diag(h_or_l) @ np.matrix(trial_fourier).H\n",
      "/home/inffzy/Desktop/cogs189/cogs189_final_project/scripts/SACSP.py:410: ComplexWarning: Casting complex values to real discards the imaginary part\n",
      "  extracted_features[i, j] = extracted_feature[0, 0]\n",
      "/home/inffzy/Desktop/cogs189/cogs189_final_project/scripts/SACSP.py:410: ComplexWarning: Casting complex values to real discards the imaginary part\n",
      "  extracted_features[i, j] = extracted_feature[0, 0]\n"
     ]
    },
    {
     "name": "stdout",
     "output_type": "stream",
     "text": [
      "Cross validation score average:  0.9266666666666667\n",
      "Training accuracy:  0.9629629629629629\n",
      "Testing accuracy:  0.9285714285714286\n"
     ]
    },
    {
     "name": "stderr",
     "output_type": "stream",
     "text": [
      "/home/inffzy/Desktop/cogs189/cogs189_final_project/scripts/SACSP.py:410: ComplexWarning: Casting complex values to real discards the imaginary part\n",
      "  extracted_features[i, j] = extracted_feature[0, 0]\n",
      "/home/inffzy/Desktop/cogs189/cogs189_final_project/scripts/SACSP.py:198: ComplexWarning: Casting complex values to real discards the imaginary part\n",
      "  E[i] = trial_fourier @ np.diag(h_or_l) @ np.matrix(trial_fourier).H\n",
      "/home/inffzy/Desktop/cogs189/cogs189_final_project/scripts/SACSP.py:225: ComplexWarning: Casting complex values to real discards the imaginary part\n",
      "  E[i] = np.matrix(trial_fourier).H @ w_or_v @ w_or_v.T @ trial_fourier\n",
      "/home/inffzy/Desktop/cogs189/cogs189_final_project/scripts/SACSP.py:177: ComplexWarning: Casting complex values to real discards the imaginary part\n",
      "  E[i] = trial_fourier @ np.diag(h_or_l) @ np.matrix(trial_fourier).H\n",
      "/home/inffzy/Desktop/cogs189/cogs189_final_project/scripts/SACSP.py:410: ComplexWarning: Casting complex values to real discards the imaginary part\n",
      "  extracted_features[i, j] = extracted_feature[0, 0]\n"
     ]
    },
    {
     "name": "stdout",
     "output_type": "stream",
     "text": [
      "Cross validation score average:  0.4976608187134503\n"
     ]
    },
    {
     "name": "stderr",
     "output_type": "stream",
     "text": [
      "/home/inffzy/Desktop/cogs189/cogs189_final_project/scripts/SACSP.py:410: ComplexWarning: Casting complex values to real discards the imaginary part\n",
      "  extracted_features[i, j] = extracted_feature[0, 0]\n"
     ]
    },
    {
     "name": "stdout",
     "output_type": "stream",
     "text": [
      "Training accuracy:  0.5543478260869565\n",
      "Testing accuracy:  0.4782608695652174\n"
     ]
    },
    {
     "name": "stderr",
     "output_type": "stream",
     "text": [
      "/home/inffzy/Desktop/cogs189/cogs189_final_project/scripts/SACSP.py:410: ComplexWarning: Casting complex values to real discards the imaginary part\n",
      "  extracted_features[i, j] = extracted_feature[0, 0]\n",
      "/home/inffzy/Desktop/cogs189/cogs189_final_project/scripts/SACSP.py:198: ComplexWarning: Casting complex values to real discards the imaginary part\n",
      "  E[i] = trial_fourier @ np.diag(h_or_l) @ np.matrix(trial_fourier).H\n",
      "/home/inffzy/Desktop/cogs189/cogs189_final_project/scripts/SACSP.py:225: ComplexWarning: Casting complex values to real discards the imaginary part\n",
      "  E[i] = np.matrix(trial_fourier).H @ w_or_v @ w_or_v.T @ trial_fourier\n",
      "/home/inffzy/Desktop/cogs189/cogs189_final_project/scripts/SACSP.py:177: ComplexWarning: Casting complex values to real discards the imaginary part\n",
      "  E[i] = trial_fourier @ np.diag(h_or_l) @ np.matrix(trial_fourier).H\n",
      "/home/inffzy/Desktop/cogs189/cogs189_final_project/scripts/SACSP.py:410: ComplexWarning: Casting complex values to real discards the imaginary part\n",
      "  extracted_features[i, j] = extracted_feature[0, 0]\n"
     ]
    },
    {
     "name": "stdout",
     "output_type": "stream",
     "text": [
      "Cross validation score average:  0.5947368421052632\n"
     ]
    },
    {
     "name": "stderr",
     "output_type": "stream",
     "text": [
      "/home/inffzy/Desktop/cogs189/cogs189_final_project/scripts/SACSP.py:410: ComplexWarning: Casting complex values to real discards the imaginary part\n",
      "  extracted_features[i, j] = extracted_feature[0, 0]\n"
     ]
    },
    {
     "name": "stdout",
     "output_type": "stream",
     "text": [
      "Training accuracy:  0.6043956043956044\n",
      "Testing accuracy:  0.4\n"
     ]
    },
    {
     "name": "stderr",
     "output_type": "stream",
     "text": [
      "/home/inffzy/Desktop/cogs189/cogs189_final_project/scripts/SACSP.py:410: ComplexWarning: Casting complex values to real discards the imaginary part\n",
      "  extracted_features[i, j] = extracted_feature[0, 0]\n",
      "/home/inffzy/Desktop/cogs189/cogs189_final_project/scripts/SACSP.py:198: ComplexWarning: Casting complex values to real discards the imaginary part\n",
      "  E[i] = trial_fourier @ np.diag(h_or_l) @ np.matrix(trial_fourier).H\n",
      "/home/inffzy/Desktop/cogs189/cogs189_final_project/scripts/SACSP.py:225: ComplexWarning: Casting complex values to real discards the imaginary part\n",
      "  E[i] = np.matrix(trial_fourier).H @ w_or_v @ w_or_v.T @ trial_fourier\n",
      "/home/inffzy/Desktop/cogs189/cogs189_final_project/scripts/SACSP.py:177: ComplexWarning: Casting complex values to real discards the imaginary part\n",
      "  E[i] = trial_fourier @ np.diag(h_or_l) @ np.matrix(trial_fourier).H\n",
      "/home/inffzy/Desktop/cogs189/cogs189_final_project/scripts/SACSP.py:410: ComplexWarning: Casting complex values to real discards the imaginary part\n",
      "  extracted_features[i, j] = extracted_feature[0, 0]\n"
     ]
    },
    {
     "name": "stdout",
     "output_type": "stream",
     "text": [
      "Cross validation score average:  0.867251461988304\n"
     ]
    },
    {
     "name": "stderr",
     "output_type": "stream",
     "text": [
      "/home/inffzy/Desktop/cogs189/cogs189_final_project/scripts/SACSP.py:410: ComplexWarning: Casting complex values to real discards the imaginary part\n",
      "  extracted_features[i, j] = extracted_feature[0, 0]\n"
     ]
    },
    {
     "name": "stdout",
     "output_type": "stream",
     "text": [
      "Training accuracy:  0.9010989010989011\n",
      "Testing accuracy:  0.8478260869565217\n"
     ]
    },
    {
     "name": "stderr",
     "output_type": "stream",
     "text": [
      "/home/inffzy/Desktop/cogs189/cogs189_final_project/scripts/SACSP.py:410: ComplexWarning: Casting complex values to real discards the imaginary part\n",
      "  extracted_features[i, j] = extracted_feature[0, 0]\n",
      "/home/inffzy/Desktop/cogs189/cogs189_final_project/scripts/SACSP.py:198: ComplexWarning: Casting complex values to real discards the imaginary part\n",
      "  E[i] = trial_fourier @ np.diag(h_or_l) @ np.matrix(trial_fourier).H\n",
      "/home/inffzy/Desktop/cogs189/cogs189_final_project/scripts/SACSP.py:225: ComplexWarning: Casting complex values to real discards the imaginary part\n",
      "  E[i] = np.matrix(trial_fourier).H @ w_or_v @ w_or_v.T @ trial_fourier\n",
      "/home/inffzy/Desktop/cogs189/cogs189_final_project/scripts/SACSP.py:177: ComplexWarning: Casting complex values to real discards the imaginary part\n",
      "  E[i] = trial_fourier @ np.diag(h_or_l) @ np.matrix(trial_fourier).H\n",
      "/home/inffzy/Desktop/cogs189/cogs189_final_project/scripts/SACSP.py:410: ComplexWarning: Casting complex values to real discards the imaginary part\n",
      "  extracted_features[i, j] = extracted_feature[0, 0]\n"
     ]
    },
    {
     "name": "stdout",
     "output_type": "stream",
     "text": [
      "Cross validation score average:  0.5568627450980392\n"
     ]
    },
    {
     "name": "stderr",
     "output_type": "stream",
     "text": [
      "/home/inffzy/Desktop/cogs189/cogs189_final_project/scripts/SACSP.py:410: ComplexWarning: Casting complex values to real discards the imaginary part\n",
      "  extracted_features[i, j] = extracted_feature[0, 0]\n"
     ]
    },
    {
     "name": "stdout",
     "output_type": "stream",
     "text": [
      "Training accuracy:  0.5813953488372093\n",
      "Testing accuracy:  0.5348837209302325\n"
     ]
    },
    {
     "name": "stderr",
     "output_type": "stream",
     "text": [
      "/home/inffzy/Desktop/cogs189/cogs189_final_project/scripts/SACSP.py:410: ComplexWarning: Casting complex values to real discards the imaginary part\n",
      "  extracted_features[i, j] = extracted_feature[0, 0]\n",
      "/home/inffzy/Desktop/cogs189/cogs189_final_project/scripts/SACSP.py:198: ComplexWarning: Casting complex values to real discards the imaginary part\n",
      "  E[i] = trial_fourier @ np.diag(h_or_l) @ np.matrix(trial_fourier).H\n",
      "/home/inffzy/Desktop/cogs189/cogs189_final_project/scripts/SACSP.py:225: ComplexWarning: Casting complex values to real discards the imaginary part\n",
      "  E[i] = np.matrix(trial_fourier).H @ w_or_v @ w_or_v.T @ trial_fourier\n",
      "/home/inffzy/Desktop/cogs189/cogs189_final_project/scripts/SACSP.py:177: ComplexWarning: Casting complex values to real discards the imaginary part\n",
      "  E[i] = trial_fourier @ np.diag(h_or_l) @ np.matrix(trial_fourier).H\n",
      "/home/inffzy/Desktop/cogs189/cogs189_final_project/scripts/SACSP.py:410: ComplexWarning: Casting complex values to real discards the imaginary part\n",
      "  extracted_features[i, j] = extracted_feature[0, 0]\n"
     ]
    },
    {
     "name": "stdout",
     "output_type": "stream",
     "text": [
      "Cross validation score average:  0.5699346405228759\n"
     ]
    },
    {
     "name": "stderr",
     "output_type": "stream",
     "text": [
      "/home/inffzy/Desktop/cogs189/cogs189_final_project/scripts/SACSP.py:410: ComplexWarning: Casting complex values to real discards the imaginary part\n",
      "  extracted_features[i, j] = extracted_feature[0, 0]\n"
     ]
    },
    {
     "name": "stdout",
     "output_type": "stream",
     "text": [
      "Training accuracy:  0.627906976744186\n",
      "Testing accuracy:  0.5116279069767442\n"
     ]
    },
    {
     "name": "stderr",
     "output_type": "stream",
     "text": [
      "/home/inffzy/Desktop/cogs189/cogs189_final_project/scripts/SACSP.py:410: ComplexWarning: Casting complex values to real discards the imaginary part\n",
      "  extracted_features[i, j] = extracted_feature[0, 0]\n",
      "/home/inffzy/Desktop/cogs189/cogs189_final_project/scripts/SACSP.py:198: ComplexWarning: Casting complex values to real discards the imaginary part\n",
      "  E[i] = trial_fourier @ np.diag(h_or_l) @ np.matrix(trial_fourier).H\n",
      "/home/inffzy/Desktop/cogs189/cogs189_final_project/scripts/SACSP.py:225: ComplexWarning: Casting complex values to real discards the imaginary part\n",
      "  E[i] = np.matrix(trial_fourier).H @ w_or_v @ w_or_v.T @ trial_fourier\n",
      "/home/inffzy/Desktop/cogs189/cogs189_final_project/scripts/SACSP.py:177: ComplexWarning: Casting complex values to real discards the imaginary part\n",
      "  E[i] = trial_fourier @ np.diag(h_or_l) @ np.matrix(trial_fourier).H\n",
      "/home/inffzy/Desktop/cogs189/cogs189_final_project/scripts/SACSP.py:410: ComplexWarning: Casting complex values to real discards the imaginary part\n",
      "  extracted_features[i, j] = extracted_feature[0, 0]\n"
     ]
    },
    {
     "name": "stdout",
     "output_type": "stream",
     "text": [
      "Cross validation score average:  0.7066666666666667\n"
     ]
    },
    {
     "name": "stderr",
     "output_type": "stream",
     "text": [
      "/home/inffzy/Desktop/cogs189/cogs189_final_project/scripts/SACSP.py:410: ComplexWarning: Casting complex values to real discards the imaginary part\n",
      "  extracted_features[i, j] = extracted_feature[0, 0]\n"
     ]
    },
    {
     "name": "stdout",
     "output_type": "stream",
     "text": [
      "Training accuracy:  0.6933333333333334\n",
      "Testing accuracy:  0.47368421052631576\n"
     ]
    },
    {
     "name": "stderr",
     "output_type": "stream",
     "text": [
      "/home/inffzy/Desktop/cogs189/cogs189_final_project/scripts/SACSP.py:410: ComplexWarning: Casting complex values to real discards the imaginary part\n",
      "  extracted_features[i, j] = extracted_feature[0, 0]\n",
      "/home/inffzy/Desktop/cogs189/cogs189_final_project/scripts/SACSP.py:198: ComplexWarning: Casting complex values to real discards the imaginary part\n",
      "  E[i] = trial_fourier @ np.diag(h_or_l) @ np.matrix(trial_fourier).H\n",
      "/home/inffzy/Desktop/cogs189/cogs189_final_project/scripts/SACSP.py:225: ComplexWarning: Casting complex values to real discards the imaginary part\n",
      "  E[i] = np.matrix(trial_fourier).H @ w_or_v @ w_or_v.T @ trial_fourier\n",
      "/home/inffzy/Desktop/cogs189/cogs189_final_project/scripts/SACSP.py:177: ComplexWarning: Casting complex values to real discards the imaginary part\n",
      "  E[i] = trial_fourier @ np.diag(h_or_l) @ np.matrix(trial_fourier).H\n",
      "/home/inffzy/Desktop/cogs189/cogs189_final_project/scripts/SACSP.py:410: ComplexWarning: Casting complex values to real discards the imaginary part\n",
      "  extracted_features[i, j] = extracted_feature[0, 0]\n"
     ]
    },
    {
     "name": "stdout",
     "output_type": "stream",
     "text": [
      "Cross validation score average:  0.44901960784313727\n"
     ]
    },
    {
     "name": "stderr",
     "output_type": "stream",
     "text": [
      "/home/inffzy/Desktop/cogs189/cogs189_final_project/scripts/SACSP.py:410: ComplexWarning: Casting complex values to real discards the imaginary part\n",
      "  extracted_features[i, j] = extracted_feature[0, 0]\n"
     ]
    },
    {
     "name": "stdout",
     "output_type": "stream",
     "text": [
      "Training accuracy:  0.5617977528089888\n",
      "Testing accuracy:  0.4090909090909091\n"
     ]
    },
    {
     "name": "stderr",
     "output_type": "stream",
     "text": [
      "/home/inffzy/Desktop/cogs189/cogs189_final_project/scripts/SACSP.py:410: ComplexWarning: Casting complex values to real discards the imaginary part\n",
      "  extracted_features[i, j] = extracted_feature[0, 0]\n",
      "/home/inffzy/Desktop/cogs189/cogs189_final_project/scripts/SACSP.py:198: ComplexWarning: Casting complex values to real discards the imaginary part\n",
      "  E[i] = trial_fourier @ np.diag(h_or_l) @ np.matrix(trial_fourier).H\n",
      "/home/inffzy/Desktop/cogs189/cogs189_final_project/scripts/SACSP.py:225: ComplexWarning: Casting complex values to real discards the imaginary part\n",
      "  E[i] = np.matrix(trial_fourier).H @ w_or_v @ w_or_v.T @ trial_fourier\n",
      "/home/inffzy/Desktop/cogs189/cogs189_final_project/scripts/SACSP.py:177: ComplexWarning: Casting complex values to real discards the imaginary part\n",
      "  E[i] = trial_fourier @ np.diag(h_or_l) @ np.matrix(trial_fourier).H\n",
      "/home/inffzy/Desktop/cogs189/cogs189_final_project/scripts/SACSP.py:410: ComplexWarning: Casting complex values to real discards the imaginary part\n",
      "  extracted_features[i, j] = extracted_feature[0, 0]\n"
     ]
    },
    {
     "name": "stdout",
     "output_type": "stream",
     "text": [
      "Cross validation score average:  0.9437908496732026\n"
     ]
    },
    {
     "name": "stderr",
     "output_type": "stream",
     "text": [
      "/home/inffzy/Desktop/cogs189/cogs189_final_project/scripts/SACSP.py:410: ComplexWarning: Casting complex values to real discards the imaginary part\n",
      "  extracted_features[i, j] = extracted_feature[0, 0]\n"
     ]
    },
    {
     "name": "stdout",
     "output_type": "stream",
     "text": [
      "Training accuracy:  0.9431818181818182\n",
      "Testing accuracy:  0.8863636363636364\n"
     ]
    },
    {
     "name": "stderr",
     "output_type": "stream",
     "text": [
      "/home/inffzy/Desktop/cogs189/cogs189_final_project/scripts/SACSP.py:410: ComplexWarning: Casting complex values to real discards the imaginary part\n",
      "  extracted_features[i, j] = extracted_feature[0, 0]\n",
      "/home/inffzy/Desktop/cogs189/cogs189_final_project/scripts/SACSP.py:198: ComplexWarning: Casting complex values to real discards the imaginary part\n",
      "  E[i] = trial_fourier @ np.diag(h_or_l) @ np.matrix(trial_fourier).H\n",
      "/home/inffzy/Desktop/cogs189/cogs189_final_project/scripts/SACSP.py:225: ComplexWarning: Casting complex values to real discards the imaginary part\n",
      "  E[i] = np.matrix(trial_fourier).H @ w_or_v @ w_or_v.T @ trial_fourier\n",
      "/home/inffzy/Desktop/cogs189/cogs189_final_project/scripts/SACSP.py:177: ComplexWarning: Casting complex values to real discards the imaginary part\n",
      "  E[i] = trial_fourier @ np.diag(h_or_l) @ np.matrix(trial_fourier).H\n",
      "/home/inffzy/Desktop/cogs189/cogs189_final_project/scripts/SACSP.py:410: ComplexWarning: Casting complex values to real discards the imaginary part\n",
      "  extracted_features[i, j] = extracted_feature[0, 0]\n"
     ]
    },
    {
     "name": "stdout",
     "output_type": "stream",
     "text": [
      "Cross validation score average:  0.7391666666666666\n"
     ]
    },
    {
     "name": "stderr",
     "output_type": "stream",
     "text": [
      "/home/inffzy/Desktop/cogs189/cogs189_final_project/scripts/SACSP.py:410: ComplexWarning: Casting complex values to real discards the imaginary part\n",
      "  extracted_features[i, j] = extracted_feature[0, 0]\n"
     ]
    },
    {
     "name": "stdout",
     "output_type": "stream",
     "text": [
      "Training accuracy:  0.7792207792207793\n",
      "Testing accuracy:  0.6666666666666666\n"
     ]
    },
    {
     "name": "stderr",
     "output_type": "stream",
     "text": [
      "/home/inffzy/Desktop/cogs189/cogs189_final_project/scripts/SACSP.py:410: ComplexWarning: Casting complex values to real discards the imaginary part\n",
      "  extracted_features[i, j] = extracted_feature[0, 0]\n",
      "/home/inffzy/Desktop/cogs189/cogs189_final_project/scripts/SACSP.py:198: ComplexWarning: Casting complex values to real discards the imaginary part\n",
      "  E[i] = trial_fourier @ np.diag(h_or_l) @ np.matrix(trial_fourier).H\n",
      "/home/inffzy/Desktop/cogs189/cogs189_final_project/scripts/SACSP.py:225: ComplexWarning: Casting complex values to real discards the imaginary part\n",
      "  E[i] = np.matrix(trial_fourier).H @ w_or_v @ w_or_v.T @ trial_fourier\n",
      "/home/inffzy/Desktop/cogs189/cogs189_final_project/scripts/SACSP.py:177: ComplexWarning: Casting complex values to real discards the imaginary part\n",
      "  E[i] = trial_fourier @ np.diag(h_or_l) @ np.matrix(trial_fourier).H\n",
      "/home/inffzy/Desktop/cogs189/cogs189_final_project/scripts/SACSP.py:410: ComplexWarning: Casting complex values to real discards the imaginary part\n",
      "  extracted_features[i, j] = extracted_feature[0, 0]\n",
      "/home/inffzy/Desktop/cogs189/cogs189_final_project/scripts/SACSP.py:410: ComplexWarning: Casting complex values to real discards the imaginary part\n",
      "  extracted_features[i, j] = extracted_feature[0, 0]\n"
     ]
    },
    {
     "name": "stdout",
     "output_type": "stream",
     "text": [
      "Cross validation score average:  0.8555555555555555\n",
      "Training accuracy:  0.8541666666666666\n"
     ]
    },
    {
     "name": "stderr",
     "output_type": "stream",
     "text": [
      "/home/inffzy/Desktop/cogs189/cogs189_final_project/scripts/SACSP.py:410: ComplexWarning: Casting complex values to real discards the imaginary part\n",
      "  extracted_features[i, j] = extracted_feature[0, 0]\n",
      "/home/inffzy/Desktop/cogs189/cogs189_final_project/scripts/SACSP.py:198: ComplexWarning: Casting complex values to real discards the imaginary part\n",
      "  E[i] = trial_fourier @ np.diag(h_or_l) @ np.matrix(trial_fourier).H\n",
      "/home/inffzy/Desktop/cogs189/cogs189_final_project/scripts/SACSP.py:225: ComplexWarning: Casting complex values to real discards the imaginary part\n",
      "  E[i] = np.matrix(trial_fourier).H @ w_or_v @ w_or_v.T @ trial_fourier\n",
      "/home/inffzy/Desktop/cogs189/cogs189_final_project/scripts/SACSP.py:177: ComplexWarning: Casting complex values to real discards the imaginary part\n",
      "  E[i] = trial_fourier @ np.diag(h_or_l) @ np.matrix(trial_fourier).H\n"
     ]
    },
    {
     "name": "stdout",
     "output_type": "stream",
     "text": [
      "Testing accuracy:  0.72\n"
     ]
    },
    {
     "name": "stderr",
     "output_type": "stream",
     "text": [
      "/home/inffzy/Desktop/cogs189/cogs189_final_project/scripts/SACSP.py:410: ComplexWarning: Casting complex values to real discards the imaginary part\n",
      "  extracted_features[i, j] = extracted_feature[0, 0]\n",
      "/home/inffzy/Desktop/cogs189/cogs189_final_project/scripts/SACSP.py:410: ComplexWarning: Casting complex values to real discards the imaginary part\n",
      "  extracted_features[i, j] = extracted_feature[0, 0]\n"
     ]
    },
    {
     "name": "stdout",
     "output_type": "stream",
     "text": [
      "Cross validation score average:  0.7761904761904762\n",
      "Training accuracy:  0.8064516129032258\n",
      "Testing accuracy:  0.5625\n"
     ]
    },
    {
     "name": "stderr",
     "output_type": "stream",
     "text": [
      "/home/inffzy/Desktop/cogs189/cogs189_final_project/scripts/SACSP.py:410: ComplexWarning: Casting complex values to real discards the imaginary part\n",
      "  extracted_features[i, j] = extracted_feature[0, 0]\n",
      "/home/inffzy/Desktop/cogs189/cogs189_final_project/scripts/SACSP.py:198: ComplexWarning: Casting complex values to real discards the imaginary part\n",
      "  E[i] = trial_fourier @ np.diag(h_or_l) @ np.matrix(trial_fourier).H\n",
      "/home/inffzy/Desktop/cogs189/cogs189_final_project/scripts/SACSP.py:225: ComplexWarning: Casting complex values to real discards the imaginary part\n",
      "  E[i] = np.matrix(trial_fourier).H @ w_or_v @ w_or_v.T @ trial_fourier\n",
      "/home/inffzy/Desktop/cogs189/cogs189_final_project/scripts/SACSP.py:177: ComplexWarning: Casting complex values to real discards the imaginary part\n",
      "  E[i] = trial_fourier @ np.diag(h_or_l) @ np.matrix(trial_fourier).H\n",
      "/home/inffzy/Desktop/cogs189/cogs189_final_project/scripts/SACSP.py:410: ComplexWarning: Casting complex values to real discards the imaginary part\n",
      "  extracted_features[i, j] = extracted_feature[0, 0]\n",
      "/home/inffzy/Desktop/cogs189/cogs189_final_project/scripts/SACSP.py:410: ComplexWarning: Casting complex values to real discards the imaginary part\n",
      "  extracted_features[i, j] = extracted_feature[0, 0]\n"
     ]
    },
    {
     "name": "stdout",
     "output_type": "stream",
     "text": [
      "Cross validation score average:  0.8933333333333333\n",
      "Training accuracy:  0.9259259259259259\n",
      "Testing accuracy:  0.42857142857142855\n"
     ]
    },
    {
     "name": "stderr",
     "output_type": "stream",
     "text": [
      "/home/inffzy/Desktop/cogs189/cogs189_final_project/scripts/SACSP.py:410: ComplexWarning: Casting complex values to real discards the imaginary part\n",
      "  extracted_features[i, j] = extracted_feature[0, 0]\n",
      "/home/inffzy/Desktop/cogs189/cogs189_final_project/scripts/SACSP.py:198: ComplexWarning: Casting complex values to real discards the imaginary part\n",
      "  E[i] = trial_fourier @ np.diag(h_or_l) @ np.matrix(trial_fourier).H\n",
      "/home/inffzy/Desktop/cogs189/cogs189_final_project/scripts/SACSP.py:225: ComplexWarning: Casting complex values to real discards the imaginary part\n",
      "  E[i] = np.matrix(trial_fourier).H @ w_or_v @ w_or_v.T @ trial_fourier\n",
      "/home/inffzy/Desktop/cogs189/cogs189_final_project/scripts/SACSP.py:177: ComplexWarning: Casting complex values to real discards the imaginary part\n",
      "  E[i] = trial_fourier @ np.diag(h_or_l) @ np.matrix(trial_fourier).H\n",
      "/home/inffzy/Desktop/cogs189/cogs189_final_project/scripts/SACSP.py:410: ComplexWarning: Casting complex values to real discards the imaginary part\n",
      "  extracted_features[i, j] = extracted_feature[0, 0]\n"
     ]
    },
    {
     "name": "stdout",
     "output_type": "stream",
     "text": [
      "Cross validation score average:  0.660233918128655\n"
     ]
    },
    {
     "name": "stderr",
     "output_type": "stream",
     "text": [
      "/home/inffzy/Desktop/cogs189/cogs189_final_project/scripts/SACSP.py:410: ComplexWarning: Casting complex values to real discards the imaginary part\n",
      "  extracted_features[i, j] = extracted_feature[0, 0]\n"
     ]
    },
    {
     "name": "stdout",
     "output_type": "stream",
     "text": [
      "Training accuracy:  0.6847826086956522\n",
      "Testing accuracy:  0.45652173913043476\n"
     ]
    },
    {
     "name": "stderr",
     "output_type": "stream",
     "text": [
      "/home/inffzy/Desktop/cogs189/cogs189_final_project/scripts/SACSP.py:410: ComplexWarning: Casting complex values to real discards the imaginary part\n",
      "  extracted_features[i, j] = extracted_feature[0, 0]\n",
      "/home/inffzy/Desktop/cogs189/cogs189_final_project/scripts/SACSP.py:198: ComplexWarning: Casting complex values to real discards the imaginary part\n",
      "  E[i] = trial_fourier @ np.diag(h_or_l) @ np.matrix(trial_fourier).H\n",
      "/home/inffzy/Desktop/cogs189/cogs189_final_project/scripts/SACSP.py:225: ComplexWarning: Casting complex values to real discards the imaginary part\n",
      "  E[i] = np.matrix(trial_fourier).H @ w_or_v @ w_or_v.T @ trial_fourier\n",
      "/home/inffzy/Desktop/cogs189/cogs189_final_project/scripts/SACSP.py:177: ComplexWarning: Casting complex values to real discards the imaginary part\n",
      "  E[i] = trial_fourier @ np.diag(h_or_l) @ np.matrix(trial_fourier).H\n",
      "/home/inffzy/Desktop/cogs189/cogs189_final_project/scripts/SACSP.py:410: ComplexWarning: Casting complex values to real discards the imaginary part\n",
      "  extracted_features[i, j] = extracted_feature[0, 0]\n"
     ]
    },
    {
     "name": "stdout",
     "output_type": "stream",
     "text": [
      "Cross validation score average:  0.5719298245614035\n"
     ]
    },
    {
     "name": "stderr",
     "output_type": "stream",
     "text": [
      "/home/inffzy/Desktop/cogs189/cogs189_final_project/scripts/SACSP.py:410: ComplexWarning: Casting complex values to real discards the imaginary part\n",
      "  extracted_features[i, j] = extracted_feature[0, 0]\n"
     ]
    },
    {
     "name": "stdout",
     "output_type": "stream",
     "text": [
      "Training accuracy:  0.6043956043956044\n",
      "Testing accuracy:  0.5111111111111111\n"
     ]
    },
    {
     "name": "stderr",
     "output_type": "stream",
     "text": [
      "/home/inffzy/Desktop/cogs189/cogs189_final_project/scripts/SACSP.py:410: ComplexWarning: Casting complex values to real discards the imaginary part\n",
      "  extracted_features[i, j] = extracted_feature[0, 0]\n",
      "/home/inffzy/Desktop/cogs189/cogs189_final_project/scripts/SACSP.py:198: ComplexWarning: Casting complex values to real discards the imaginary part\n",
      "  E[i] = trial_fourier @ np.diag(h_or_l) @ np.matrix(trial_fourier).H\n",
      "/home/inffzy/Desktop/cogs189/cogs189_final_project/scripts/SACSP.py:225: ComplexWarning: Casting complex values to real discards the imaginary part\n",
      "  E[i] = np.matrix(trial_fourier).H @ w_or_v @ w_or_v.T @ trial_fourier\n",
      "/home/inffzy/Desktop/cogs189/cogs189_final_project/scripts/SACSP.py:177: ComplexWarning: Casting complex values to real discards the imaginary part\n",
      "  E[i] = trial_fourier @ np.diag(h_or_l) @ np.matrix(trial_fourier).H\n",
      "/home/inffzy/Desktop/cogs189/cogs189_final_project/scripts/SACSP.py:410: ComplexWarning: Casting complex values to real discards the imaginary part\n",
      "  extracted_features[i, j] = extracted_feature[0, 0]\n"
     ]
    },
    {
     "name": "stdout",
     "output_type": "stream",
     "text": [
      "Cross validation score average:  0.9333333333333332\n"
     ]
    },
    {
     "name": "stderr",
     "output_type": "stream",
     "text": [
      "/home/inffzy/Desktop/cogs189/cogs189_final_project/scripts/SACSP.py:410: ComplexWarning: Casting complex values to real discards the imaginary part\n",
      "  extracted_features[i, j] = extracted_feature[0, 0]\n"
     ]
    },
    {
     "name": "stdout",
     "output_type": "stream",
     "text": [
      "Training accuracy:  0.945054945054945\n",
      "Testing accuracy:  0.9130434782608695\n"
     ]
    },
    {
     "name": "stderr",
     "output_type": "stream",
     "text": [
      "/home/inffzy/Desktop/cogs189/cogs189_final_project/scripts/SACSP.py:410: ComplexWarning: Casting complex values to real discards the imaginary part\n",
      "  extracted_features[i, j] = extracted_feature[0, 0]\n",
      "/home/inffzy/Desktop/cogs189/cogs189_final_project/scripts/SACSP.py:198: ComplexWarning: Casting complex values to real discards the imaginary part\n",
      "  E[i] = trial_fourier @ np.diag(h_or_l) @ np.matrix(trial_fourier).H\n",
      "/home/inffzy/Desktop/cogs189/cogs189_final_project/scripts/SACSP.py:225: ComplexWarning: Casting complex values to real discards the imaginary part\n",
      "  E[i] = np.matrix(trial_fourier).H @ w_or_v @ w_or_v.T @ trial_fourier\n",
      "/home/inffzy/Desktop/cogs189/cogs189_final_project/scripts/SACSP.py:177: ComplexWarning: Casting complex values to real discards the imaginary part\n",
      "  E[i] = trial_fourier @ np.diag(h_or_l) @ np.matrix(trial_fourier).H\n",
      "/home/inffzy/Desktop/cogs189/cogs189_final_project/scripts/SACSP.py:410: ComplexWarning: Casting complex values to real discards the imaginary part\n",
      "  extracted_features[i, j] = extracted_feature[0, 0]\n"
     ]
    },
    {
     "name": "stdout",
     "output_type": "stream",
     "text": [
      "Cross validation score average:  0.580392156862745\n"
     ]
    },
    {
     "name": "stderr",
     "output_type": "stream",
     "text": [
      "/home/inffzy/Desktop/cogs189/cogs189_final_project/scripts/SACSP.py:410: ComplexWarning: Casting complex values to real discards the imaginary part\n",
      "  extracted_features[i, j] = extracted_feature[0, 0]\n"
     ]
    },
    {
     "name": "stdout",
     "output_type": "stream",
     "text": [
      "Training accuracy:  0.6046511627906976\n",
      "Testing accuracy:  0.5116279069767442\n"
     ]
    },
    {
     "name": "stderr",
     "output_type": "stream",
     "text": [
      "/home/inffzy/Desktop/cogs189/cogs189_final_project/scripts/SACSP.py:410: ComplexWarning: Casting complex values to real discards the imaginary part\n",
      "  extracted_features[i, j] = extracted_feature[0, 0]\n",
      "/home/inffzy/Desktop/cogs189/cogs189_final_project/scripts/SACSP.py:198: ComplexWarning: Casting complex values to real discards the imaginary part\n",
      "  E[i] = trial_fourier @ np.diag(h_or_l) @ np.matrix(trial_fourier).H\n",
      "/home/inffzy/Desktop/cogs189/cogs189_final_project/scripts/SACSP.py:225: ComplexWarning: Casting complex values to real discards the imaginary part\n",
      "  E[i] = np.matrix(trial_fourier).H @ w_or_v @ w_or_v.T @ trial_fourier\n",
      "/home/inffzy/Desktop/cogs189/cogs189_final_project/scripts/SACSP.py:177: ComplexWarning: Casting complex values to real discards the imaginary part\n",
      "  E[i] = trial_fourier @ np.diag(h_or_l) @ np.matrix(trial_fourier).H\n",
      "/home/inffzy/Desktop/cogs189/cogs189_final_project/scripts/SACSP.py:410: ComplexWarning: Casting complex values to real discards the imaginary part\n",
      "  extracted_features[i, j] = extracted_feature[0, 0]\n"
     ]
    },
    {
     "name": "stdout",
     "output_type": "stream",
     "text": [
      "Cross validation score average:  0.5346405228758171\n"
     ]
    },
    {
     "name": "stderr",
     "output_type": "stream",
     "text": [
      "/home/inffzy/Desktop/cogs189/cogs189_final_project/scripts/SACSP.py:410: ComplexWarning: Casting complex values to real discards the imaginary part\n",
      "  extracted_features[i, j] = extracted_feature[0, 0]\n"
     ]
    },
    {
     "name": "stdout",
     "output_type": "stream",
     "text": [
      "Training accuracy:  0.5697674418604651\n",
      "Testing accuracy:  0.5348837209302325\n"
     ]
    },
    {
     "name": "stderr",
     "output_type": "stream",
     "text": [
      "/home/inffzy/Desktop/cogs189/cogs189_final_project/scripts/SACSP.py:410: ComplexWarning: Casting complex values to real discards the imaginary part\n",
      "  extracted_features[i, j] = extracted_feature[0, 0]\n",
      "/home/inffzy/Desktop/cogs189/cogs189_final_project/scripts/SACSP.py:198: ComplexWarning: Casting complex values to real discards the imaginary part\n",
      "  E[i] = trial_fourier @ np.diag(h_or_l) @ np.matrix(trial_fourier).H\n",
      "/home/inffzy/Desktop/cogs189/cogs189_final_project/scripts/SACSP.py:225: ComplexWarning: Casting complex values to real discards the imaginary part\n",
      "  E[i] = np.matrix(trial_fourier).H @ w_or_v @ w_or_v.T @ trial_fourier\n",
      "/home/inffzy/Desktop/cogs189/cogs189_final_project/scripts/SACSP.py:177: ComplexWarning: Casting complex values to real discards the imaginary part\n",
      "  E[i] = trial_fourier @ np.diag(h_or_l) @ np.matrix(trial_fourier).H\n",
      "/home/inffzy/Desktop/cogs189/cogs189_final_project/scripts/SACSP.py:410: ComplexWarning: Casting complex values to real discards the imaginary part\n",
      "  extracted_features[i, j] = extracted_feature[0, 0]\n"
     ]
    },
    {
     "name": "stdout",
     "output_type": "stream",
     "text": [
      "Cross validation score average:  0.6133333333333333\n"
     ]
    },
    {
     "name": "stderr",
     "output_type": "stream",
     "text": [
      "/home/inffzy/Desktop/cogs189/cogs189_final_project/scripts/SACSP.py:410: ComplexWarning: Casting complex values to real discards the imaginary part\n",
      "  extracted_features[i, j] = extracted_feature[0, 0]\n"
     ]
    },
    {
     "name": "stdout",
     "output_type": "stream",
     "text": [
      "Training accuracy:  0.6666666666666666\n",
      "Testing accuracy:  0.42105263157894735\n"
     ]
    },
    {
     "name": "stderr",
     "output_type": "stream",
     "text": [
      "/home/inffzy/Desktop/cogs189/cogs189_final_project/scripts/SACSP.py:410: ComplexWarning: Casting complex values to real discards the imaginary part\n",
      "  extracted_features[i, j] = extracted_feature[0, 0]\n",
      "/home/inffzy/Desktop/cogs189/cogs189_final_project/scripts/SACSP.py:198: ComplexWarning: Casting complex values to real discards the imaginary part\n",
      "  E[i] = trial_fourier @ np.diag(h_or_l) @ np.matrix(trial_fourier).H\n",
      "/home/inffzy/Desktop/cogs189/cogs189_final_project/scripts/SACSP.py:225: ComplexWarning: Casting complex values to real discards the imaginary part\n",
      "  E[i] = np.matrix(trial_fourier).H @ w_or_v @ w_or_v.T @ trial_fourier\n",
      "/home/inffzy/Desktop/cogs189/cogs189_final_project/scripts/SACSP.py:177: ComplexWarning: Casting complex values to real discards the imaginary part\n",
      "  E[i] = trial_fourier @ np.diag(h_or_l) @ np.matrix(trial_fourier).H\n",
      "/home/inffzy/Desktop/cogs189/cogs189_final_project/scripts/SACSP.py:410: ComplexWarning: Casting complex values to real discards the imaginary part\n",
      "  extracted_features[i, j] = extracted_feature[0, 0]\n"
     ]
    },
    {
     "name": "stdout",
     "output_type": "stream",
     "text": [
      "Cross validation score average:  0.3699346405228758\n"
     ]
    },
    {
     "name": "stderr",
     "output_type": "stream",
     "text": [
      "/home/inffzy/Desktop/cogs189/cogs189_final_project/scripts/SACSP.py:410: ComplexWarning: Casting complex values to real discards the imaginary part\n",
      "  extracted_features[i, j] = extracted_feature[0, 0]\n"
     ]
    },
    {
     "name": "stdout",
     "output_type": "stream",
     "text": [
      "Training accuracy:  0.47191011235955055\n",
      "Testing accuracy:  0.5\n"
     ]
    },
    {
     "name": "stderr",
     "output_type": "stream",
     "text": [
      "/home/inffzy/Desktop/cogs189/cogs189_final_project/scripts/SACSP.py:410: ComplexWarning: Casting complex values to real discards the imaginary part\n",
      "  extracted_features[i, j] = extracted_feature[0, 0]\n",
      "/home/inffzy/Desktop/cogs189/cogs189_final_project/scripts/SACSP.py:198: ComplexWarning: Casting complex values to real discards the imaginary part\n",
      "  E[i] = trial_fourier @ np.diag(h_or_l) @ np.matrix(trial_fourier).H\n",
      "/home/inffzy/Desktop/cogs189/cogs189_final_project/scripts/SACSP.py:225: ComplexWarning: Casting complex values to real discards the imaginary part\n",
      "  E[i] = np.matrix(trial_fourier).H @ w_or_v @ w_or_v.T @ trial_fourier\n",
      "/home/inffzy/Desktop/cogs189/cogs189_final_project/scripts/SACSP.py:177: ComplexWarning: Casting complex values to real discards the imaginary part\n",
      "  E[i] = trial_fourier @ np.diag(h_or_l) @ np.matrix(trial_fourier).H\n",
      "/home/inffzy/Desktop/cogs189/cogs189_final_project/scripts/SACSP.py:410: ComplexWarning: Casting complex values to real discards the imaginary part\n",
      "  extracted_features[i, j] = extracted_feature[0, 0]\n"
     ]
    },
    {
     "name": "stdout",
     "output_type": "stream",
     "text": [
      "Cross validation score average:  0.9300653594771241\n"
     ]
    },
    {
     "name": "stderr",
     "output_type": "stream",
     "text": [
      "/home/inffzy/Desktop/cogs189/cogs189_final_project/scripts/SACSP.py:410: ComplexWarning: Casting complex values to real discards the imaginary part\n",
      "  extracted_features[i, j] = extracted_feature[0, 0]\n"
     ]
    },
    {
     "name": "stdout",
     "output_type": "stream",
     "text": [
      "Training accuracy:  0.9318181818181818\n",
      "Testing accuracy:  0.9318181818181818\n"
     ]
    },
    {
     "name": "stderr",
     "output_type": "stream",
     "text": [
      "/home/inffzy/Desktop/cogs189/cogs189_final_project/scripts/SACSP.py:410: ComplexWarning: Casting complex values to real discards the imaginary part\n",
      "  extracted_features[i, j] = extracted_feature[0, 0]\n",
      "/home/inffzy/Desktop/cogs189/cogs189_final_project/scripts/SACSP.py:198: ComplexWarning: Casting complex values to real discards the imaginary part\n",
      "  E[i] = trial_fourier @ np.diag(h_or_l) @ np.matrix(trial_fourier).H\n",
      "/home/inffzy/Desktop/cogs189/cogs189_final_project/scripts/SACSP.py:225: ComplexWarning: Casting complex values to real discards the imaginary part\n",
      "  E[i] = np.matrix(trial_fourier).H @ w_or_v @ w_or_v.T @ trial_fourier\n",
      "/home/inffzy/Desktop/cogs189/cogs189_final_project/scripts/SACSP.py:177: ComplexWarning: Casting complex values to real discards the imaginary part\n",
      "  E[i] = trial_fourier @ np.diag(h_or_l) @ np.matrix(trial_fourier).H\n",
      "/home/inffzy/Desktop/cogs189/cogs189_final_project/scripts/SACSP.py:410: ComplexWarning: Casting complex values to real discards the imaginary part\n",
      "  extracted_features[i, j] = extracted_feature[0, 0]\n"
     ]
    },
    {
     "name": "stdout",
     "output_type": "stream",
     "text": [
      "Cross validation score average:  0.6491666666666667\n"
     ]
    },
    {
     "name": "stderr",
     "output_type": "stream",
     "text": [
      "/home/inffzy/Desktop/cogs189/cogs189_final_project/scripts/SACSP.py:410: ComplexWarning: Casting complex values to real discards the imaginary part\n",
      "  extracted_features[i, j] = extracted_feature[0, 0]\n"
     ]
    },
    {
     "name": "stdout",
     "output_type": "stream",
     "text": [
      "Training accuracy:  0.7012987012987013\n",
      "Testing accuracy:  0.6923076923076923\n"
     ]
    },
    {
     "name": "stderr",
     "output_type": "stream",
     "text": [
      "/home/inffzy/Desktop/cogs189/cogs189_final_project/scripts/SACSP.py:410: ComplexWarning: Casting complex values to real discards the imaginary part\n",
      "  extracted_features[i, j] = extracted_feature[0, 0]\n",
      "/home/inffzy/Desktop/cogs189/cogs189_final_project/scripts/SACSP.py:198: ComplexWarning: Casting complex values to real discards the imaginary part\n",
      "  E[i] = trial_fourier @ np.diag(h_or_l) @ np.matrix(trial_fourier).H\n",
      "/home/inffzy/Desktop/cogs189/cogs189_final_project/scripts/SACSP.py:225: ComplexWarning: Casting complex values to real discards the imaginary part\n",
      "  E[i] = np.matrix(trial_fourier).H @ w_or_v @ w_or_v.T @ trial_fourier\n",
      "/home/inffzy/Desktop/cogs189/cogs189_final_project/scripts/SACSP.py:177: ComplexWarning: Casting complex values to real discards the imaginary part\n",
      "  E[i] = trial_fourier @ np.diag(h_or_l) @ np.matrix(trial_fourier).H\n",
      "/home/inffzy/Desktop/cogs189/cogs189_final_project/scripts/SACSP.py:410: ComplexWarning: Casting complex values to real discards the imaginary part\n",
      "  extracted_features[i, j] = extracted_feature[0, 0]\n",
      "/home/inffzy/Desktop/cogs189/cogs189_final_project/scripts/SACSP.py:410: ComplexWarning: Casting complex values to real discards the imaginary part\n",
      "  extracted_features[i, j] = extracted_feature[0, 0]\n"
     ]
    },
    {
     "name": "stdout",
     "output_type": "stream",
     "text": [
      "Cross validation score average:  0.7666666666666666\n",
      "Training accuracy:  0.8125\n"
     ]
    },
    {
     "name": "stderr",
     "output_type": "stream",
     "text": [
      "/home/inffzy/Desktop/cogs189/cogs189_final_project/scripts/SACSP.py:410: ComplexWarning: Casting complex values to real discards the imaginary part\n",
      "  extracted_features[i, j] = extracted_feature[0, 0]\n",
      "/home/inffzy/Desktop/cogs189/cogs189_final_project/scripts/SACSP.py:198: ComplexWarning: Casting complex values to real discards the imaginary part\n",
      "  E[i] = trial_fourier @ np.diag(h_or_l) @ np.matrix(trial_fourier).H\n",
      "/home/inffzy/Desktop/cogs189/cogs189_final_project/scripts/SACSP.py:225: ComplexWarning: Casting complex values to real discards the imaginary part\n",
      "  E[i] = np.matrix(trial_fourier).H @ w_or_v @ w_or_v.T @ trial_fourier\n",
      "/home/inffzy/Desktop/cogs189/cogs189_final_project/scripts/SACSP.py:177: ComplexWarning: Casting complex values to real discards the imaginary part\n",
      "  E[i] = trial_fourier @ np.diag(h_or_l) @ np.matrix(trial_fourier).H\n"
     ]
    },
    {
     "name": "stdout",
     "output_type": "stream",
     "text": [
      "Testing accuracy:  0.84\n"
     ]
    },
    {
     "name": "stderr",
     "output_type": "stream",
     "text": [
      "/home/inffzy/Desktop/cogs189/cogs189_final_project/scripts/SACSP.py:410: ComplexWarning: Casting complex values to real discards the imaginary part\n",
      "  extracted_features[i, j] = extracted_feature[0, 0]\n",
      "/home/inffzy/Desktop/cogs189/cogs189_final_project/scripts/SACSP.py:410: ComplexWarning: Casting complex values to real discards the imaginary part\n",
      "  extracted_features[i, j] = extracted_feature[0, 0]\n"
     ]
    },
    {
     "name": "stdout",
     "output_type": "stream",
     "text": [
      "Cross validation score average:  0.8047619047619048\n",
      "Training accuracy:  0.9032258064516129\n",
      "Testing accuracy:  0.5\n"
     ]
    },
    {
     "name": "stderr",
     "output_type": "stream",
     "text": [
      "/home/inffzy/Desktop/cogs189/cogs189_final_project/scripts/SACSP.py:410: ComplexWarning: Casting complex values to real discards the imaginary part\n",
      "  extracted_features[i, j] = extracted_feature[0, 0]\n",
      "/home/inffzy/Desktop/cogs189/cogs189_final_project/scripts/SACSP.py:198: ComplexWarning: Casting complex values to real discards the imaginary part\n",
      "  E[i] = trial_fourier @ np.diag(h_or_l) @ np.matrix(trial_fourier).H\n",
      "/home/inffzy/Desktop/cogs189/cogs189_final_project/scripts/SACSP.py:225: ComplexWarning: Casting complex values to real discards the imaginary part\n",
      "  E[i] = np.matrix(trial_fourier).H @ w_or_v @ w_or_v.T @ trial_fourier\n",
      "/home/inffzy/Desktop/cogs189/cogs189_final_project/scripts/SACSP.py:177: ComplexWarning: Casting complex values to real discards the imaginary part\n",
      "  E[i] = trial_fourier @ np.diag(h_or_l) @ np.matrix(trial_fourier).H\n",
      "/home/inffzy/Desktop/cogs189/cogs189_final_project/scripts/SACSP.py:410: ComplexWarning: Casting complex values to real discards the imaginary part\n",
      "  extracted_features[i, j] = extracted_feature[0, 0]\n",
      "/home/inffzy/Desktop/cogs189/cogs189_final_project/scripts/SACSP.py:410: ComplexWarning: Casting complex values to real discards the imaginary part\n",
      "  extracted_features[i, j] = extracted_feature[0, 0]\n"
     ]
    },
    {
     "name": "stdout",
     "output_type": "stream",
     "text": [
      "Cross validation score average:  0.7066666666666668\n",
      "Training accuracy:  0.8518518518518519\n",
      "Testing accuracy:  0.5\n"
     ]
    },
    {
     "name": "stderr",
     "output_type": "stream",
     "text": [
      "/home/inffzy/Desktop/cogs189/cogs189_final_project/scripts/SACSP.py:410: ComplexWarning: Casting complex values to real discards the imaginary part\n",
      "  extracted_features[i, j] = extracted_feature[0, 0]\n"
     ]
    }
   ],
   "source": [
    "## results records training accuracy, cross validation average score, and testing accuracy for each subject\n",
    "results = np.zeros((num_experiment, len(all_data_paths), 3))\n",
    "\n",
    "for j in range(num_experiment):\n",
    "    for i, data_path in enumerate(all_data_paths):\n",
    "        \n",
    "        ## Load data\n",
    "        data_npz = np.load(data_path)\n",
    "        data = data_npz['processed_motor_imagery_data']\n",
    "        labels = data_npz['descriptions']\n",
    "        \n",
    "        ## Extract left and right hand epochs\n",
    "        data = data[np.any([labels == label_left_hand, labels == label_right_hand], axis=0)]\n",
    "        labels = labels[np.any([labels == label_left_hand, labels == label_right_hand], axis=0)]\n",
    "        \n",
    "        ## Prepare training and testing data\n",
    "        X_train, X_test, y_train, y_test = train_test_split(data, \n",
    "                                                            labels, \n",
    "                                                            test_size=test_split, \n",
    "                                                            shuffle=True,\n",
    "                                                            random_state=j)\n",
    "        \n",
    "        ## Classification\n",
    "        clf = sacsp.SACSP_LDA_classifier(X_train, y_train, cross_val=num_cross_val)\n",
    "        cross_val_score_avg = clf.train_binary()\n",
    "        predictions, train_accuracy = clf.test_binary()\n",
    "        predictions, test_accuracy = clf.test_binary(X_test, y_test)\n",
    "        results[j, i, :] = [train_accuracy, cross_val_score_avg, test_accuracy]"
   ]
  },
  {
   "cell_type": "code",
   "execution_count": 22,
   "id": "fb5051e2",
   "metadata": {},
   "outputs": [
    {
     "name": "stdout",
     "output_type": "stream",
     "text": [
      "[[[0.57608696 0.55555556 0.45652174]\n",
      "  [0.59340659 0.56140351 0.48888889]\n",
      "  [0.96703297 0.94444444 0.84782609]\n",
      "  [0.61627907 0.58169935 0.46511628]\n",
      "  [0.60465116 0.59411765 0.41860465]\n",
      "  [0.61333333 0.54666667 0.34210526]\n",
      "  [0.58426966 0.50653595 0.59090909]\n",
      "  [0.93181818 0.93267974 0.86363636]\n",
      "  [0.64935065 0.64833333 0.71794872]\n",
      "  [0.8125     0.79111111 0.6       ]\n",
      "  [0.74193548 0.71904762 0.5       ]\n",
      "  [0.88888889 0.84       0.57142857]]\n",
      "\n",
      " [[0.54347826 0.55204678 0.52173913]\n",
      "  [0.57142857 0.5502924  0.4       ]\n",
      "  [0.91208791 0.9005848  0.95652174]\n",
      "  [0.61627907 0.58496732 0.46511628]\n",
      "  [0.65116279 0.6503268  0.58139535]\n",
      "  [0.68       0.61333333 0.44736842]\n",
      "  [0.61797753 0.61568627 0.45454545]\n",
      "  [0.92045455 0.90980392 0.93181818]\n",
      "  [0.62337662 0.61166667 0.69230769]\n",
      "  [0.9375     0.87555556 0.56      ]\n",
      "  [0.70967742 0.64761905 0.5625    ]\n",
      "  [0.96296296 0.96       0.78571429]]\n",
      "\n",
      " [[0.60869565 0.5871345  0.63043478]\n",
      "  [0.62637363 0.60467836 0.28888889]\n",
      "  [0.8021978  0.77894737 0.69565217]\n",
      "  [0.6627907  0.6496732  0.44186047]\n",
      "  [0.62790698 0.61764706 0.48837209]\n",
      "  [0.76       0.69333333 0.42105263]\n",
      "  [0.61797753 0.5496732  0.40909091]\n",
      "  [0.93181818 0.89869281 0.93181818]\n",
      "  [0.68831169 0.67666667 0.69230769]\n",
      "  [0.8125     0.75333333 0.84      ]\n",
      "  [0.77419355 0.76666667 0.3125    ]\n",
      "  [0.96296296 0.89333333 1.        ]]\n",
      "\n",
      " [[0.55434783 0.50233918 0.47826087]\n",
      "  [0.62637363 0.59473684 0.26666667]\n",
      "  [0.89010989 0.87894737 0.93478261]\n",
      "  [0.55813953 0.58039216 0.62790698]\n",
      "  [0.62790698 0.62875817 0.37209302]\n",
      "  [0.64       0.58666667 0.31578947]\n",
      "  [0.57303371 0.5503268  0.56818182]\n",
      "  [0.93181818 0.92026144 0.93181818]\n",
      "  [0.7012987  0.675      0.66666667]\n",
      "  [0.77083333 0.77555556 0.68      ]\n",
      "  [0.64516129 0.58095238 0.3125    ]\n",
      "  [0.77777778 0.69333333 0.64285714]]\n",
      "\n",
      " [[0.72826087 0.71929825 0.69565217]\n",
      "  [0.64835165 0.6374269  0.35555556]\n",
      "  [0.94505495 0.92280702 0.93478261]\n",
      "  [0.55813953 0.51176471 0.60465116]\n",
      "  [0.6744186  0.59215686 0.41860465]\n",
      "  [0.66666667 0.56       0.44736842]\n",
      "  [0.57303371 0.51699346 0.52272727]\n",
      "  [0.93181818 0.94248366 0.93181818]\n",
      "  [0.77922078 0.75333333 0.64102564]\n",
      "  [0.75       0.62888889 0.76      ]\n",
      "  [0.64516129 0.54761905 0.5625    ]\n",
      "  [0.96296296 0.96       0.92857143]]\n",
      "\n",
      " [[0.73913043 0.75204678 0.60869565]\n",
      "  [0.65934066 0.62631579 0.37777778]\n",
      "  [0.91208791 0.89064327 0.89130435]\n",
      "  [0.53488372 0.51045752 0.55813953]\n",
      "  [0.6744186  0.59477124 0.46511628]\n",
      "  [0.69333333 0.65333333 0.65789474]\n",
      "  [0.68539326 0.68627451 0.31818182]\n",
      "  [0.94318182 0.90784314 0.93181818]\n",
      "  [0.71428571 0.67583333 0.66666667]\n",
      "  [0.79166667 0.74666667 0.76      ]\n",
      "  [0.83870968 0.76666667 0.5625    ]\n",
      "  [0.96296296 0.96       0.92857143]]\n",
      "\n",
      " [[0.67391304 0.63976608 0.54347826]\n",
      "  [0.58241758 0.53859649 0.42222222]\n",
      "  [0.93406593 0.91169591 0.93478261]\n",
      "  [0.60465116 0.59281046 0.48837209]\n",
      "  [0.62790698 0.61699346 0.51162791]\n",
      "  [0.61333333 0.58666667 0.42105263]\n",
      "  [0.53932584 0.47124183 0.47727273]\n",
      "  [0.90909091 0.92026144 0.90909091]\n",
      "  [0.72727273 0.715      0.71794872]\n",
      "  [0.70833333 0.68       0.8       ]\n",
      "  [0.70967742 0.67142857 0.375     ]\n",
      "  [0.96296296 0.96666667 0.92857143]]\n",
      "\n",
      " [[0.60869565 0.56549708 0.56521739]\n",
      "  [0.6043956  0.61578947 0.46666667]\n",
      "  [0.85714286 0.84736842 0.73913043]\n",
      "  [0.63953488 0.6379085  0.51162791]\n",
      "  [0.69767442 0.64052288 0.51162791]\n",
      "  [0.66666667 0.6        0.63157895]\n",
      "  [0.58426966 0.54901961 0.40909091]\n",
      "  [0.96590909 0.96535948 0.79545455]\n",
      "  [0.67532468 0.675      0.66666667]\n",
      "  [0.83333333 0.81333333 0.68      ]\n",
      "  [0.64516129 0.61428571 0.75      ]\n",
      "  [0.96296296 0.92666667 0.92857143]]\n",
      "\n",
      " [[0.55434783 0.49766082 0.47826087]\n",
      "  [0.6043956  0.59473684 0.4       ]\n",
      "  [0.9010989  0.86725146 0.84782609]\n",
      "  [0.58139535 0.55686275 0.53488372]\n",
      "  [0.62790698 0.56993464 0.51162791]\n",
      "  [0.69333333 0.70666667 0.47368421]\n",
      "  [0.56179775 0.44901961 0.40909091]\n",
      "  [0.94318182 0.94379085 0.88636364]\n",
      "  [0.77922078 0.73916667 0.66666667]\n",
      "  [0.85416667 0.85555556 0.72      ]\n",
      "  [0.80645161 0.77619048 0.5625    ]\n",
      "  [0.92592593 0.89333333 0.42857143]]\n",
      "\n",
      " [[0.68478261 0.66023392 0.45652174]\n",
      "  [0.6043956  0.57192982 0.51111111]\n",
      "  [0.94505495 0.93333333 0.91304348]\n",
      "  [0.60465116 0.58039216 0.51162791]\n",
      "  [0.56976744 0.53464052 0.53488372]\n",
      "  [0.66666667 0.61333333 0.42105263]\n",
      "  [0.47191011 0.36993464 0.5       ]\n",
      "  [0.93181818 0.93006536 0.93181818]\n",
      "  [0.7012987  0.64916667 0.69230769]\n",
      "  [0.8125     0.76666667 0.84      ]\n",
      "  [0.90322581 0.8047619  0.5       ]\n",
      "  [0.85185185 0.70666667 0.5       ]]]\n",
      "[[0.62717391 0.60315789 0.54347826]\n",
      " [0.61208791 0.58959064 0.39777778]\n",
      " [0.90659341 0.88760234 0.86956522]\n",
      " [0.59767442 0.57869281 0.52093023]\n",
      " [0.63837209 0.60398693 0.48139535]\n",
      " [0.66933333 0.616      0.45789474]\n",
      " [0.58089888 0.52647059 0.46590909]\n",
      " [0.93409091 0.92712418 0.90454545]\n",
      " [0.7038961  0.68191667 0.68205128]\n",
      " [0.80833333 0.76866667 0.724     ]\n",
      " [0.74193548 0.68952381 0.5       ]\n",
      " [0.92222222 0.88       0.76428571]]\n"
     ]
    }
   ],
   "source": [
    "print(results)\n",
    "results_avg = np.mean(results, axis=0)\n",
    "print(results_avg)\n",
    "\n",
    "results_path = os.path.join(results_dir, '2_LDA_SACSP.npy')\n",
    "np.save(results_path, results)"
   ]
  },
  {
   "cell_type": "markdown",
   "id": "48930b87",
   "metadata": {},
   "source": [
    "## 4-Class One-vs-One Classification with LDA"
   ]
  },
  {
   "cell_type": "code",
   "execution_count": 23,
   "id": "60a90bbb",
   "metadata": {},
   "outputs": [
    {
     "name": "stdout",
     "output_type": "stream",
     "text": [
      "Cross validation scores for labels  769  and  770 :  0.5736842105263158\n",
      "Cross validation scores for labels  769  and  771 :  0.47192982456140353\n",
      "Cross validation scores for labels  769  and  772 :  0.5152046783625732\n",
      "Cross validation scores for labels  770  and  771 :  0.4514619883040936\n",
      "Cross validation scores for labels  770  and  772 :  0.5590643274853802\n",
      "Cross validation scores for labels  771  and  772 :  0.5777777777777777\n",
      "Training accuracy:  0.8241758241758241\n",
      "Testing accuracy:  0.3076923076923077\n",
      "Cross validation scores for labels  769  and  770 :  0.4747368421052632\n",
      "Cross validation scores for labels  769  and  771 :  0.47953216374269003\n",
      "Cross validation scores for labels  769  and  772 :  0.4631578947368421\n",
      "Cross validation scores for labels  770  and  771 :  0.40326797385620916\n",
      "Cross validation scores for labels  770  and  772 :  0.5013071895424837\n",
      "Cross validation scores for labels  771  and  772 :  0.3970588235294118\n",
      "Training accuracy:  0.7611111111111111\n",
      "Testing accuracy:  0.3\n",
      "Cross validation scores for labels  769  and  770 :  0.45359477124183006\n",
      "Cross validation scores for labels  769  and  771 :  0.4567251461988304\n",
      "Cross validation scores for labels  769  and  772 :  0.39999999999999997\n",
      "Cross validation scores for labels  770  and  771 :  0.45555555555555555\n",
      "Cross validation scores for labels  770  and  772 :  0.41830065359477125\n",
      "Cross validation scores for labels  771  and  772 :  0.41461988304093567\n",
      "Training accuracy:  0.7722222222222223\n",
      "Testing accuracy:  0.28888888888888886\n",
      "Cross validation scores for labels  769  and  770 :  0.4196078431372549\n",
      "Cross validation scores for labels  769  and  771 :  0.5176470588235295\n",
      "Cross validation scores for labels  769  and  772 :  0.55\n",
      "Cross validation scores for labels  770  and  771 :  0.3368421052631579\n",
      "Cross validation scores for labels  770  and  772 :  0.5222222222222223\n",
      "Cross validation scores for labels  771  and  772 :  0.5300653594771242\n",
      "Training accuracy:  0.6514285714285715\n",
      "Testing accuracy:  0.3333333333333333\n",
      "Cross validation scores for labels  769  and  770 :  0.4470588235294118\n",
      "Cross validation scores for labels  769  and  771 :  0.5836601307189542\n",
      "Cross validation scores for labels  769  and  772 :  0.41637426900584795\n",
      "Cross validation scores for labels  770  and  771 :  0.536764705882353\n",
      "Cross validation scores for labels  770  and  772 :  0.4882352941176471\n",
      "Cross validation scores for labels  771  and  772 :  0.6026143790849673\n",
      "Training accuracy:  0.7085714285714285\n",
      "Testing accuracy:  0.16091954022988506\n",
      "Cross validation scores for labels  769  and  770 :  0.47714285714285715\n",
      "Cross validation scores for labels  769  and  771 :  0.5095238095238095\n",
      "Cross validation scores for labels  769  and  772 :  0.4458333333333333\n",
      "Cross validation scores for labels  770  and  771 :  0.6703296703296703\n",
      "Cross validation scores for labels  770  and  772 :  0.5066666666666666\n",
      "Cross validation scores for labels  771  and  772 :  0.46190476190476193\n",
      "Training accuracy:  0.8835616438356164\n",
      "Testing accuracy:  0.2876712328767123\n",
      "Cross validation scores for labels  769  and  770 :  0.5\n",
      "Cross validation scores for labels  769  and  771 :  0.4725146198830409\n",
      "Cross validation scores for labels  769  and  772 :  0.46725146198830403\n",
      "Cross validation scores for labels  770  and  771 :  0.5287581699346405\n",
      "Cross validation scores for labels  770  and  772 :  0.4666666666666666\n",
      "Cross validation scores for labels  771  and  772 :  0.4947368421052632\n",
      "Training accuracy:  0.7182320441988951\n",
      "Testing accuracy:  0.25555555555555554\n",
      "Cross validation scores for labels  769  and  770 :  0.5552631578947368\n",
      "Cross validation scores for labels  769  and  771 :  0.47777777777777775\n",
      "Cross validation scores for labels  769  and  772 :  0.5294117647058825\n",
      "Cross validation scores for labels  770  and  771 :  0.5596491228070175\n",
      "Cross validation scores for labels  770  and  772 :  0.47777777777777775\n",
      "Cross validation scores for labels  771  and  772 :  0.585\n",
      "Training accuracy:  0.8125\n",
      "Testing accuracy:  0.2727272727272727\n",
      "Cross validation scores for labels  769  and  770 :  0.5933823529411765\n",
      "Cross validation scores for labels  769  and  771 :  0.4633333333333334\n",
      "Cross validation scores for labels  769  and  772 :  0.43583333333333335\n",
      "Cross validation scores for labels  770  and  771 :  0.5375\n",
      "Cross validation scores for labels  770  and  772 :  0.5691176470588235\n",
      "Cross validation scores for labels  771  and  772 :  0.5449999999999999\n",
      "Training accuracy:  0.8544303797468354\n",
      "Testing accuracy:  0.24050632911392406\n",
      "Cross validation scores for labels  769  and  770 :  0.5018181818181818\n",
      "Cross validation scores for labels  769  and  771 :  0.54\n",
      "Cross validation scores for labels  769  and  772 :  0.48888888888888893\n",
      "Cross validation scores for labels  770  and  771 :  0.4418181818181818\n",
      "Cross validation scores for labels  770  and  772 :  0.5836363636363636\n",
      "Cross validation scores for labels  771  and  772 :  0.44666666666666666\n",
      "Training accuracy:  0.9797979797979798\n",
      "Testing accuracy:  0.36\n",
      "Cross validation scores for labels  769  and  770 :  0.5666666666666667\n",
      "Cross validation scores for labels  769  and  771 :  0.37\n",
      "Cross validation scores for labels  769  and  772 :  0.48\n",
      "Cross validation scores for labels  770  and  771 :  0.4333333333333333\n",
      "Cross validation scores for labels  770  and  772 :  0.37857142857142856\n",
      "Cross validation scores for labels  771  and  772 :  0.29047619047619044\n",
      "Training accuracy:  1.0\n",
      "Testing accuracy:  0.2903225806451613\n",
      "Cross validation scores for labels  769  and  770 :  0.6466666666666667\n",
      "Cross validation scores for labels  769  and  771 :  0.5900000000000001\n",
      "Cross validation scores for labels  769  and  772 :  0.52\n",
      "Cross validation scores for labels  770  and  771 :  0.6666666666666667\n",
      "Cross validation scores for labels  770  and  772 :  0.5571428571428572\n",
      "Cross validation scores for labels  771  and  772 :  0.6333333333333334\n",
      "Training accuracy:  1.0\n",
      "Testing accuracy:  0.21428571428571427\n",
      "Cross validation scores for labels  769  and  770 :  0.4928104575163399\n",
      "Cross validation scores for labels  769  and  771 :  0.5\n",
      "Cross validation scores for labels  769  and  772 :  0.4625730994152047\n",
      "Cross validation scores for labels  770  and  771 :  0.5286549707602338\n",
      "Cross validation scores for labels  770  and  772 :  0.5421052631578946\n",
      "Cross validation scores for labels  771  and  772 :  0.5157894736842105\n",
      "Training accuracy:  0.7967032967032966\n",
      "Testing accuracy:  0.23076923076923078\n",
      "Cross validation scores for labels  769  and  770 :  0.4588235294117647\n",
      "Cross validation scores for labels  769  and  771 :  0.47777777777777775\n",
      "Cross validation scores for labels  769  and  772 :  0.5058479532163742\n",
      "Cross validation scores for labels  770  and  771 :  0.46013071895424834\n",
      "Cross validation scores for labels  770  and  772 :  0.5888888888888888\n",
      "Cross validation scores for labels  771  and  772 :  0.5157894736842106\n",
      "Training accuracy:  0.7888888888888889\n",
      "Testing accuracy:  0.28888888888888886\n",
      "Cross validation scores for labels  769  and  770 :  0.5398692810457516\n",
      "Cross validation scores for labels  769  and  771 :  0.5385620915032681\n",
      "Cross validation scores for labels  769  and  772 :  0.4444444444444445\n",
      "Cross validation scores for labels  770  and  771 :  0.49064327485380116\n",
      "Cross validation scores for labels  770  and  772 :  0.4385964912280702\n",
      "Cross validation scores for labels  771  and  772 :  0.4385964912280702\n",
      "Training accuracy:  0.7388888888888889\n",
      "Testing accuracy:  0.25555555555555554\n",
      "Cross validation scores for labels  769  and  770 :  0.6125\n",
      "Cross validation scores for labels  769  and  771 :  0.43235294117647055\n",
      "Cross validation scores for labels  769  and  772 :  0.6588235294117647\n",
      "Cross validation scores for labels  770  and  771 :  0.36432748538011694\n",
      "Cross validation scores for labels  770  and  772 :  0.5222222222222223\n",
      "Cross validation scores for labels  771  and  772 :  0.5684210526315789\n",
      "Training accuracy:  0.7371428571428571\n",
      "Testing accuracy:  0.22988505747126436\n",
      "Cross validation scores for labels  769  and  770 :  0.4350877192982455\n",
      "Cross validation scores for labels  769  and  771 :  0.34044117647058825\n",
      "Cross validation scores for labels  769  and  772 :  0.3985294117647059\n",
      "Cross validation scores for labels  770  and  771 :  0.4228070175438596\n",
      "Cross validation scores for labels  770  and  772 :  0.4725146198830409\n",
      "Cross validation scores for labels  771  and  772 :  0.39338235294117646\n",
      "Training accuracy:  0.6628571428571428\n",
      "Testing accuracy:  0.26436781609195403\n"
     ]
    },
    {
     "name": "stdout",
     "output_type": "stream",
     "text": [
      "Cross validation scores for labels  769  and  770 :  0.48916666666666664\n",
      "Cross validation scores for labels  769  and  771 :  0.6208333333333333\n",
      "Cross validation scores for labels  769  and  772 :  0.575\n",
      "Cross validation scores for labels  770  and  771 :  0.5439560439560439\n",
      "Cross validation scores for labels  770  and  772 :  0.47142857142857136\n",
      "Cross validation scores for labels  771  and  772 :  0.4\n",
      "Training accuracy:  0.910958904109589\n",
      "Testing accuracy:  0.2191780821917808\n",
      "Cross validation scores for labels  769  and  770 :  0.45555555555555555\n",
      "Cross validation scores for labels  769  and  771 :  0.5742647058823529\n",
      "Cross validation scores for labels  769  and  772 :  0.47320261437908495\n",
      "Cross validation scores for labels  770  and  771 :  0.532748538011696\n",
      "Cross validation scores for labels  770  and  772 :  0.47368421052631576\n",
      "Cross validation scores for labels  771  and  772 :  0.5941520467836258\n",
      "Training accuracy:  0.6464088397790055\n",
      "Testing accuracy:  0.2111111111111111\n",
      "Cross validation scores for labels  769  and  770 :  0.5496732026143791\n",
      "Cross validation scores for labels  769  and  771 :  0.5006535947712418\n",
      "Cross validation scores for labels  769  and  772 :  0.44152046783625726\n",
      "Cross validation scores for labels  770  and  771 :  0.5419117647058823\n",
      "Cross validation scores for labels  770  and  772 :  0.5568627450980392\n",
      "Cross validation scores for labels  771  and  772 :  0.49411764705882355\n",
      "Training accuracy:  0.8352272727272727\n",
      "Testing accuracy:  0.22727272727272727\n",
      "Cross validation scores for labels  769  and  770 :  0.44952380952380955\n",
      "Cross validation scores for labels  769  and  771 :  0.6161904761904762\n",
      "Cross validation scores for labels  769  and  772 :  0.4666666666666666\n",
      "Cross validation scores for labels  770  and  771 :  0.49485294117647055\n",
      "Cross validation scores for labels  770  and  772 :  0.5529411764705883\n",
      "Cross validation scores for labels  771  and  772 :  0.5125\n",
      "Training accuracy:  0.8987341772151899\n",
      "Testing accuracy:  0.20253164556962025\n",
      "Cross validation scores for labels  769  and  770 :  0.5399999999999999\n",
      "Cross validation scores for labels  769  and  771 :  0.48\n",
      "Cross validation scores for labels  769  and  772 :  0.42444444444444446\n",
      "Cross validation scores for labels  770  and  771 :  0.39454545454545453\n",
      "Cross validation scores for labels  770  and  772 :  0.48888888888888893\n",
      "Cross validation scores for labels  771  and  772 :  0.5533333333333333\n",
      "Training accuracy:  0.98989898989899\n",
      "Testing accuracy:  0.2\n",
      "Cross validation scores for labels  769  and  770 :  0.6476190476190475\n",
      "Cross validation scores for labels  769  and  771 :  0.5333333333333333\n",
      "Cross validation scores for labels  769  and  772 :  0.4133333333333334\n",
      "Cross validation scores for labels  770  and  771 :  0.5904761904761904\n",
      "Cross validation scores for labels  770  and  772 :  0.5523809523809524\n",
      "Cross validation scores for labels  771  and  772 :  0.48\n",
      "Training accuracy:  1.0\n",
      "Testing accuracy:  0.25806451612903225\n",
      "Cross validation scores for labels  769  and  770 :  0.8133333333333335\n",
      "Cross validation scores for labels  769  and  771 :  0.67\n",
      "Cross validation scores for labels  769  and  772 :  0.4523809523809524\n",
      "Cross validation scores for labels  770  and  771 :  0.58\n",
      "Cross validation scores for labels  770  and  772 :  0.4428571428571429\n",
      "Cross validation scores for labels  771  and  772 :  0.56\n",
      "Training accuracy:  1.0\n",
      "Testing accuracy:  0.21428571428571427\n",
      "Cross validation scores for labels  769  and  770 :  0.5176470588235295\n",
      "Cross validation scores for labels  769  and  771 :  0.4447368421052632\n",
      "Cross validation scores for labels  769  and  772 :  0.4875\n",
      "Cross validation scores for labels  770  and  771 :  0.5780952380952381\n",
      "Cross validation scores for labels  770  and  772 :  0.5536764705882353\n",
      "Cross validation scores for labels  771  and  772 :  0.5251461988304094\n",
      "Training accuracy:  0.8461538461538461\n",
      "Testing accuracy:  0.2857142857142857\n",
      "Cross validation scores for labels  769  and  770 :  0.4385620915032679\n",
      "Cross validation scores for labels  769  and  771 :  0.47058823529411764\n",
      "Cross validation scores for labels  769  and  772 :  0.5006535947712419\n",
      "Cross validation scores for labels  770  and  771 :  0.5210526315789473\n",
      "Cross validation scores for labels  770  and  772 :  0.36257309941520466\n",
      "Cross validation scores for labels  771  and  772 :  0.571345029239766\n",
      "Training accuracy:  0.7777777777777778\n",
      "Testing accuracy:  0.25555555555555554\n",
      "Cross validation scores for labels  769  and  770 :  0.4847953216374269\n",
      "Cross validation scores for labels  769  and  771 :  0.42947368421052634\n",
      "Cross validation scores for labels  769  and  772 :  0.5372549019607843\n",
      "Cross validation scores for labels  770  and  771 :  0.44152046783625726\n",
      "Cross validation scores for labels  770  and  772 :  0.41470588235294115\n",
      "Cross validation scores for labels  771  and  772 :  0.5392156862745099\n",
      "Training accuracy:  0.7444444444444445\n",
      "Testing accuracy:  0.16666666666666666\n",
      "Cross validation scores for labels  769  and  770 :  0.44901960784313727\n",
      "Cross validation scores for labels  769  and  771 :  0.5196078431372549\n",
      "Cross validation scores for labels  769  and  772 :  0.6281045751633987\n",
      "Cross validation scores for labels  770  and  771 :  0.5117647058823529\n",
      "Cross validation scores for labels  770  and  772 :  0.6496732026143791\n",
      "Cross validation scores for labels  771  and  772 :  0.5130718954248366\n",
      "Training accuracy:  0.6742857142857143\n",
      "Testing accuracy:  0.19540229885057472\n",
      "Cross validation scores for labels  769  and  770 :  0.40261437908496733\n",
      "Cross validation scores for labels  769  and  771 :  0.44901960784313716\n",
      "Cross validation scores for labels  769  and  772 :  0.40326797385620916\n",
      "Cross validation scores for labels  770  and  771 :  0.4764705882352941\n",
      "Cross validation scores for labels  770  and  772 :  0.442483660130719\n",
      "Cross validation scores for labels  771  and  772 :  0.43202614379084964\n",
      "Training accuracy:  0.72\n",
      "Testing accuracy:  0.26436781609195403\n",
      "Cross validation scores for labels  769  and  770 :  0.5933333333333333\n",
      "Cross validation scores for labels  769  and  771 :  0.6057142857142856\n",
      "Cross validation scores for labels  769  and  772 :  0.535\n",
      "Cross validation scores for labels  770  and  771 :  0.5637362637362637\n",
      "Cross validation scores for labels  770  and  772 :  0.52\n",
      "Cross validation scores for labels  771  and  772 :  0.5171428571428571\n",
      "Training accuracy:  0.9657534246575342\n",
      "Testing accuracy:  0.3013698630136986\n",
      "Cross validation scores for labels  769  and  770 :  0.4473684210526316\n",
      "Cross validation scores for labels  769  and  771 :  0.486764705882353\n",
      "Cross validation scores for labels  769  and  772 :  0.47192982456140353\n",
      "Cross validation scores for labels  770  and  771 :  0.4771241830065359\n",
      "Cross validation scores for labels  770  and  772 :  0.4231578947368422\n",
      "Cross validation scores for labels  771  and  772 :  0.5411764705882354\n",
      "Training accuracy:  0.6685082872928176\n",
      "Testing accuracy:  0.3111111111111111\n",
      "Cross validation scores for labels  769  and  770 :  0.5405228758169934\n",
      "Cross validation scores for labels  769  and  771 :  0.5045751633986929\n",
      "Cross validation scores for labels  769  and  772 :  0.41684210526315785\n",
      "Cross validation scores for labels  770  and  771 :  0.55\n",
      "Cross validation scores for labels  770  and  772 :  0.44117647058823534\n",
      "Cross validation scores for labels  771  and  772 :  0.4934640522875817\n",
      "Training accuracy:  0.7954545454545454\n",
      "Testing accuracy:  0.2840909090909091\n",
      "Cross validation scores for labels  769  and  770 :  0.55\n",
      "Cross validation scores for labels  769  and  771 :  0.5066666666666666\n",
      "Cross validation scores for labels  769  and  772 :  0.5504761904761905\n",
      "Cross validation scores for labels  770  and  771 :  0.5529411764705883\n",
      "Cross validation scores for labels  770  and  772 :  0.6036764705882354\n",
      "Cross validation scores for labels  771  and  772 :  0.5233333333333333\n",
      "Training accuracy:  0.8354430379746836\n",
      "Testing accuracy:  0.21518987341772153\n",
      "Cross validation scores for labels  769  and  770 :  0.4644444444444444\n",
      "Cross validation scores for labels  769  and  771 :  0.48\n",
      "Cross validation scores for labels  769  and  772 :  0.3733333333333334\n",
      "Cross validation scores for labels  770  and  771 :  0.5272727272727272\n"
     ]
    },
    {
     "name": "stdout",
     "output_type": "stream",
     "text": [
      "Cross validation scores for labels  770  and  772 :  0.48888888888888893\n",
      "Cross validation scores for labels  771  and  772 :  0.6181818181818182\n",
      "Training accuracy:  1.0\n",
      "Testing accuracy:  0.26\n",
      "Cross validation scores for labels  769  and  770 :  0.5142857142857142\n",
      "Cross validation scores for labels  769  and  771 :  0.52\n",
      "Cross validation scores for labels  769  and  772 :  0.6466666666666666\n",
      "Cross validation scores for labels  770  and  771 :  0.5142857142857142\n",
      "Cross validation scores for labels  770  and  772 :  0.4\n",
      "Cross validation scores for labels  771  and  772 :  0.5\n",
      "Training accuracy:  1.0\n",
      "Testing accuracy:  0.2903225806451613\n",
      "Cross validation scores for labels  769  and  770 :  0.33999999999999997\n",
      "Cross validation scores for labels  769  and  771 :  0.38\n",
      "Cross validation scores for labels  769  and  772 :  0.4066666666666666\n",
      "Cross validation scores for labels  770  and  771 :  0.5533333333333333\n",
      "Cross validation scores for labels  770  and  772 :  0.5933333333333334\n",
      "Cross validation scores for labels  771  and  772 :  0.6\n",
      "Training accuracy:  1.0\n",
      "Testing accuracy:  0.14285714285714285\n",
      "Cross validation scores for labels  769  and  770 :  0.47581699346405226\n",
      "Cross validation scores for labels  769  and  771 :  0.4647058823529412\n",
      "Cross validation scores for labels  769  and  772 :  0.4901960784313726\n",
      "Cross validation scores for labels  770  and  771 :  0.5526315789473684\n",
      "Cross validation scores for labels  770  and  772 :  0.4468421052631578\n",
      "Cross validation scores for labels  771  and  772 :  0.49064327485380116\n",
      "Training accuracy:  0.8516483516483516\n",
      "Testing accuracy:  0.25274725274725274\n",
      "Cross validation scores for labels  769  and  770 :  0.40233918128654966\n",
      "Cross validation scores for labels  769  and  771 :  0.5294117647058825\n",
      "Cross validation scores for labels  769  and  772 :  0.5176470588235295\n",
      "Cross validation scores for labels  770  and  771 :  0.41052631578947363\n",
      "Cross validation scores for labels  770  and  772 :  0.48421052631578937\n",
      "Cross validation scores for labels  771  and  772 :  0.5228758169934641\n",
      "Training accuracy:  0.7777777777777778\n",
      "Testing accuracy:  0.2777777777777778\n",
      "Cross validation scores for labels  769  and  770 :  0.5649122807017545\n",
      "Cross validation scores for labels  769  and  771 :  0.6257309941520468\n",
      "Cross validation scores for labels  769  and  772 :  0.5522058823529412\n",
      "Cross validation scores for labels  770  and  771 :  0.4836842105263158\n",
      "Cross validation scores for labels  770  and  772 :  0.4718954248366013\n",
      "Cross validation scores for labels  771  and  772 :  0.3516339869281046\n",
      "Training accuracy:  0.7555555555555555\n",
      "Testing accuracy:  0.24444444444444444\n",
      "Cross validation scores for labels  769  and  770 :  0.5679738562091503\n",
      "Cross validation scores for labels  769  and  771 :  0.5686274509803921\n",
      "Cross validation scores for labels  769  and  772 :  0.6426470588235295\n",
      "Cross validation scores for labels  770  and  771 :  0.5093567251461988\n",
      "Cross validation scores for labels  770  and  772 :  0.5385620915032681\n",
      "Cross validation scores for labels  771  and  772 :  0.5758169934640522\n",
      "Training accuracy:  0.7085714285714285\n",
      "Testing accuracy:  0.1839080459770115\n",
      "Cross validation scores for labels  769  and  770 :  0.42046783625731\n",
      "Cross validation scores for labels  769  and  771 :  0.5058479532163742\n",
      "Cross validation scores for labels  769  and  772 :  0.5287581699346405\n",
      "Cross validation scores for labels  770  and  771 :  0.5575163398692811\n",
      "Cross validation scores for labels  770  and  772 :  0.3095588235294118\n",
      "Cross validation scores for labels  771  and  772 :  0.4875\n",
      "Training accuracy:  0.6971428571428572\n",
      "Testing accuracy:  0.20689655172413793\n",
      "Cross validation scores for labels  769  and  770 :  0.49411764705882355\n",
      "Cross validation scores for labels  769  and  771 :  0.5923076923076923\n",
      "Cross validation scores for labels  769  and  772 :  0.6483333333333333\n",
      "Cross validation scores for labels  770  and  771 :  0.5087912087912088\n",
      "Cross validation scores for labels  770  and  772 :  0.4875\n",
      "Cross validation scores for labels  771  and  772 :  0.49230769230769234\n",
      "Training accuracy:  0.9315068493150684\n",
      "Testing accuracy:  0.136986301369863\n",
      "Cross validation scores for labels  769  and  770 :  0.49411764705882355\n",
      "Cross validation scores for labels  769  and  771 :  0.5602339181286549\n",
      "Cross validation scores for labels  769  and  772 :  0.5509803921568628\n",
      "Cross validation scores for labels  770  and  771 :  0.5976608187134503\n",
      "Cross validation scores for labels  770  and  772 :  0.6\n",
      "Cross validation scores for labels  771  and  772 :  0.5305263157894736\n",
      "Training accuracy:  0.7790055248618785\n",
      "Testing accuracy:  0.17777777777777778\n",
      "Cross validation scores for labels  769  and  770 :  0.5602339181286549\n",
      "Cross validation scores for labels  769  and  771 :  0.5955882352941176\n",
      "Cross validation scores for labels  769  and  772 :  0.5374269005847954\n",
      "Cross validation scores for labels  770  and  771 :  0.4588235294117647\n",
      "Cross validation scores for labels  770  and  772 :  0.5081871345029241\n",
      "Cross validation scores for labels  771  and  772 :  0.588235294117647\n",
      "Training accuracy:  0.7613636363636364\n",
      "Testing accuracy:  0.2840909090909091\n",
      "Cross validation scores for labels  769  and  770 :  0.5266666666666666\n",
      "Cross validation scores for labels  769  and  771 :  0.42857142857142855\n",
      "Cross validation scores for labels  769  and  772 :  0.3666666666666666\n",
      "Cross validation scores for labels  770  and  771 :  0.5242647058823529\n",
      "Cross validation scores for labels  770  and  772 :  0.5339869281045753\n",
      "Cross validation scores for labels  771  and  772 :  0.5389705882352941\n",
      "Training accuracy:  0.8924050632911392\n",
      "Testing accuracy:  0.27848101265822783\n",
      "Cross validation scores for labels  769  and  770 :  0.5777777777777777\n",
      "Cross validation scores for labels  769  and  771 :  0.49444444444444446\n",
      "Cross validation scores for labels  769  and  772 :  0.76\n",
      "Cross validation scores for labels  770  and  771 :  0.47111111111111104\n",
      "Cross validation scores for labels  770  and  772 :  0.6181818181818182\n",
      "Cross validation scores for labels  771  and  772 :  0.556060606060606\n",
      "Training accuracy:  1.0\n",
      "Testing accuracy:  0.2\n",
      "Cross validation scores for labels  769  and  770 :  0.6\n",
      "Cross validation scores for labels  769  and  771 :  0.33999999999999997\n",
      "Cross validation scores for labels  769  and  772 :  0.4533333333333333\n",
      "Cross validation scores for labels  770  and  771 :  0.5714285714285714\n",
      "Cross validation scores for labels  770  and  772 :  0.38095238095238093\n",
      "Cross validation scores for labels  771  and  772 :  0.44666666666666666\n",
      "Training accuracy:  1.0\n",
      "Testing accuracy:  0.3225806451612903\n",
      "Cross validation scores for labels  769  and  770 :  0.4\n",
      "Cross validation scores for labels  769  and  771 :  0.62\n",
      "Cross validation scores for labels  769  and  772 :  0.4800000000000001\n",
      "Cross validation scores for labels  770  and  771 :  0.5761904761904763\n",
      "Cross validation scores for labels  770  and  772 :  0.5666666666666667\n",
      "Cross validation scores for labels  771  and  772 :  0.5809523809523809\n",
      "Training accuracy:  1.0\n",
      "Testing accuracy:  0.25\n",
      "Cross validation scores for labels  769  and  770 :  0.5818713450292398\n",
      "Cross validation scores for labels  769  and  771 :  0.5566176470588236\n",
      "Cross validation scores for labels  769  and  772 :  0.5684210526315789\n",
      "Cross validation scores for labels  770  and  771 :  0.5254901960784314\n",
      "Cross validation scores for labels  770  and  772 :  0.5710526315789474\n",
      "Cross validation scores for labels  771  and  772 :  0.4830409356725146\n",
      "Training accuracy:  0.7747252747252747\n",
      "Testing accuracy:  0.2857142857142857\n",
      "Cross validation scores for labels  769  and  770 :  0.45842105263157895\n",
      "Cross validation scores for labels  769  and  771 :  0.491578947368421\n",
      "Cross validation scores for labels  769  and  772 :  0.3566666666666667\n",
      "Cross validation scores for labels  770  and  771 :  0.49416666666666664\n",
      "Cross validation scores for labels  770  and  772 :  0.5669117647058823\n",
      "Cross validation scores for labels  771  and  772 :  0.5345588235294118\n",
      "Training accuracy:  0.8222222222222222\n",
      "Testing accuracy:  0.2222222222222222\n",
      "Cross validation scores for labels  769  and  770 :  0.53\n",
      "Cross validation scores for labels  769  and  771 :  0.547953216374269\n",
      "Cross validation scores for labels  769  and  772 :  0.5046783625730994\n"
     ]
    },
    {
     "name": "stdout",
     "output_type": "stream",
     "text": [
      "Cross validation scores for labels  770  and  771 :  0.381045751633987\n",
      "Cross validation scores for labels  770  and  772 :  0.5411764705882354\n",
      "Cross validation scores for labels  771  and  772 :  0.45\n",
      "Training accuracy:  0.7444444444444445\n",
      "Testing accuracy:  0.2111111111111111\n",
      "Cross validation scores for labels  769  and  770 :  0.5150326797385621\n",
      "Cross validation scores for labels  769  and  771 :  0.6610294117647059\n",
      "Cross validation scores for labels  769  and  772 :  0.6251461988304093\n",
      "Cross validation scores for labels  770  and  771 :  0.4867647058823529\n",
      "Cross validation scores for labels  770  and  772 :  0.5532163742690059\n",
      "Cross validation scores for labels  771  and  772 :  0.5346405228758171\n",
      "Training accuracy:  0.6514285714285715\n",
      "Testing accuracy:  0.22988505747126436\n",
      "Cross validation scores for labels  769  and  770 :  0.4588235294117647\n",
      "Cross validation scores for labels  769  and  771 :  0.5411764705882354\n",
      "Cross validation scores for labels  769  and  772 :  0.42745098039215695\n",
      "Cross validation scores for labels  770  and  771 :  0.42026143790849674\n",
      "Cross validation scores for labels  770  and  772 :  0.3333333333333333\n",
      "Cross validation scores for labels  771  and  772 :  0.5111111111111111\n",
      "Training accuracy:  0.6742857142857143\n",
      "Testing accuracy:  0.25287356321839083\n",
      "Cross validation scores for labels  769  and  770 :  0.4769230769230769\n",
      "Cross validation scores for labels  769  and  771 :  0.5901098901098901\n",
      "Cross validation scores for labels  769  and  772 :  0.4133333333333333\n",
      "Cross validation scores for labels  770  and  771 :  0.6628571428571428\n",
      "Cross validation scores for labels  770  and  772 :  0.5125\n",
      "Cross validation scores for labels  771  and  772 :  0.4325\n",
      "Training accuracy:  0.9178082191780822\n",
      "Testing accuracy:  0.3013698630136986\n",
      "Cross validation scores for labels  769  and  770 :  0.5\n",
      "Cross validation scores for labels  769  and  771 :  0.40701754385964917\n",
      "Cross validation scores for labels  769  and  772 :  0.5421052631578946\n",
      "Cross validation scores for labels  770  and  771 :  0.4470588235294117\n",
      "Cross validation scores for labels  770  and  772 :  0.5352941176470589\n",
      "Cross validation scores for labels  771  and  772 :  0.5633986928104575\n",
      "Training accuracy:  0.6629834254143646\n",
      "Testing accuracy:  0.23333333333333334\n",
      "Cross validation scores for labels  769  and  770 :  0.4784313725490196\n",
      "Cross validation scores for labels  769  and  771 :  0.5058823529411764\n",
      "Cross validation scores for labels  769  and  772 :  0.4257309941520468\n",
      "Cross validation scores for labels  770  and  771 :  0.5294117647058824\n",
      "Cross validation scores for labels  770  and  772 :  0.5485380116959064\n",
      "Cross validation scores for labels  771  and  772 :  0.5777777777777777\n",
      "Training accuracy:  0.7613636363636364\n",
      "Testing accuracy:  0.25\n",
      "Cross validation scores for labels  769  and  770 :  0.43999999999999995\n",
      "Cross validation scores for labels  769  and  771 :  0.45809523809523806\n",
      "Cross validation scores for labels  769  and  772 :  0.4133333333333333\n",
      "Cross validation scores for labels  770  and  771 :  0.6235294117647058\n",
      "Cross validation scores for labels  770  and  772 :  0.5235294117647059\n",
      "Cross validation scores for labels  771  and  772 :  0.4698529411764706\n",
      "Training accuracy:  0.8734177215189873\n",
      "Testing accuracy:  0.26582278481012656\n",
      "Cross validation scores for labels  769  and  770 :  0.6422222222222221\n",
      "Cross validation scores for labels  769  and  771 :  0.6333333333333333\n",
      "Cross validation scores for labels  769  and  772 :  0.5311111111111112\n",
      "Cross validation scores for labels  770  and  771 :  0.5800000000000001\n",
      "Cross validation scores for labels  770  and  772 :  0.62\n",
      "Cross validation scores for labels  771  and  772 :  0.5363636363636364\n",
      "Training accuracy:  1.0\n",
      "Testing accuracy:  0.24\n",
      "Cross validation scores for labels  769  and  770 :  0.7785714285714287\n",
      "Cross validation scores for labels  769  and  771 :  0.5466666666666666\n",
      "Cross validation scores for labels  769  and  772 :  0.5857142857142857\n",
      "Cross validation scores for labels  770  and  771 :  0.58\n",
      "Cross validation scores for labels  770  and  772 :  0.6\n",
      "Cross validation scores for labels  771  and  772 :  0.68\n",
      "Training accuracy:  1.0\n",
      "Testing accuracy:  0.1935483870967742\n",
      "Cross validation scores for labels  769  and  770 :  0.5866666666666667\n",
      "Cross validation scores for labels  769  and  771 :  0.4533333333333334\n",
      "Cross validation scores for labels  769  and  772 :  0.3466666666666667\n",
      "Cross validation scores for labels  770  and  771 :  0.52\n",
      "Cross validation scores for labels  770  and  772 :  0.6199999999999999\n",
      "Cross validation scores for labels  771  and  772 :  0.74\n",
      "Training accuracy:  1.0\n",
      "Testing accuracy:  0.25\n",
      "Cross validation scores for labels  769  and  770 :  0.5578947368421052\n",
      "Cross validation scores for labels  769  and  771 :  0.4333333333333333\n",
      "Cross validation scores for labels  769  and  772 :  0.4725490196078431\n",
      "Cross validation scores for labels  770  and  771 :  0.5368421052631579\n",
      "Cross validation scores for labels  770  and  772 :  0.5216374269005848\n",
      "Cross validation scores for labels  771  and  772 :  0.45816993464052286\n",
      "Training accuracy:  0.8296703296703297\n",
      "Testing accuracy:  0.21978021978021978\n",
      "Cross validation scores for labels  769  and  770 :  0.4345029239766081\n",
      "Cross validation scores for labels  769  and  771 :  0.4783625730994152\n",
      "Cross validation scores for labels  769  and  772 :  0.5333333333333333\n",
      "Cross validation scores for labels  770  and  771 :  0.4431372549019608\n",
      "Cross validation scores for labels  770  and  772 :  0.4771241830065359\n",
      "Cross validation scores for labels  771  and  772 :  0.5254901960784314\n",
      "Training accuracy:  0.7944444444444444\n",
      "Testing accuracy:  0.2111111111111111\n",
      "Cross validation scores for labels  769  and  770 :  0.5392156862745098\n",
      "Cross validation scores for labels  769  and  771 :  0.411764705882353\n",
      "Cross validation scores for labels  769  and  772 :  0.4444444444444445\n",
      "Cross validation scores for labels  770  and  771 :  0.6\n",
      "Cross validation scores for labels  770  and  772 :  0.4280701754385965\n",
      "Cross validation scores for labels  771  and  772 :  0.4947368421052631\n",
      "Training accuracy:  0.8111111111111111\n",
      "Testing accuracy:  0.25555555555555554\n",
      "Cross validation scores for labels  769  and  770 :  0.48308823529411765\n",
      "Cross validation scores for labels  769  and  771 :  0.5163742690058479\n",
      "Cross validation scores for labels  769  and  772 :  0.6263157894736842\n",
      "Cross validation scores for labels  770  and  771 :  0.5125\n",
      "Cross validation scores for labels  770  and  772 :  0.5338235294117648\n",
      "Cross validation scores for labels  771  and  772 :  0.532748538011696\n",
      "Training accuracy:  0.68\n",
      "Testing accuracy:  0.21839080459770116\n",
      "Cross validation scores for labels  769  and  770 :  0.44117647058823534\n",
      "Cross validation scores for labels  769  and  771 :  0.46842105263157896\n",
      "Cross validation scores for labels  769  and  772 :  0.45588235294117646\n",
      "Cross validation scores for labels  770  and  771 :  0.4883040935672514\n",
      "Cross validation scores for labels  770  and  772 :  0.5294117647058824\n",
      "Cross validation scores for labels  771  and  772 :  0.48421052631578954\n",
      "Training accuracy:  0.6742857142857143\n",
      "Testing accuracy:  0.16091954022988506\n",
      "Cross validation scores for labels  769  and  770 :  0.5066666666666666\n",
      "Cross validation scores for labels  769  and  771 :  0.5666666666666667\n",
      "Cross validation scores for labels  769  and  772 :  0.4790476190476191\n",
      "Cross validation scores for labels  770  and  771 :  0.5876190476190477\n",
      "Cross validation scores for labels  770  and  772 :  0.5692810457516341\n",
      "Cross validation scores for labels  771  and  772 :  0.5800000000000001\n",
      "Training accuracy:  0.8835616438356164\n",
      "Testing accuracy:  0.2328767123287671\n",
      "Cross validation scores for labels  769  and  770 :  0.5764705882352941\n",
      "Cross validation scores for labels  769  and  771 :  0.49411764705882355\n",
      "Cross validation scores for labels  769  and  772 :  0.483625730994152\n",
      "Cross validation scores for labels  770  and  771 :  0.5235294117647059\n",
      "Cross validation scores for labels  770  and  772 :  0.5599999999999999\n",
      "Cross validation scores for labels  771  and  772 :  0.5199999999999999\n",
      "Training accuracy:  0.6795580110497238\n",
      "Testing accuracy:  0.18888888888888888\n",
      "Cross validation scores for labels  769  and  770 :  0.5375\n",
      "Cross validation scores for labels  769  and  771 :  0.5411764705882354\n",
      "Cross validation scores for labels  769  and  772 :  0.5751633986928104\n"
     ]
    },
    {
     "name": "stdout",
     "output_type": "stream",
     "text": [
      "Cross validation scores for labels  770  and  771 :  0.5620915032679739\n",
      "Cross validation scores for labels  770  and  772 :  0.43725490196078426\n",
      "Cross validation scores for labels  771  and  772 :  0.4567251461988304\n",
      "Training accuracy:  0.8011363636363636\n",
      "Testing accuracy:  0.25\n",
      "Cross validation scores for labels  769  and  770 :  0.46029411764705885\n",
      "Cross validation scores for labels  769  and  771 :  0.49416666666666664\n",
      "Cross validation scores for labels  769  and  772 :  0.5333333333333333\n",
      "Cross validation scores for labels  770  and  771 :  0.3985294117647059\n",
      "Cross validation scores for labels  770  and  772 :  0.585\n",
      "Cross validation scores for labels  771  and  772 :  0.5\n",
      "Training accuracy:  0.8987341772151899\n",
      "Testing accuracy:  0.26582278481012656\n",
      "Cross validation scores for labels  769  and  770 :  0.35111111111111104\n",
      "Cross validation scores for labels  769  and  771 :  0.509090909090909\n",
      "Cross validation scores for labels  769  and  772 :  0.4600000000000001\n",
      "Cross validation scores for labels  770  and  771 :  0.39111111111111113\n",
      "Cross validation scores for labels  770  and  772 :  0.6644444444444445\n",
      "Cross validation scores for labels  771  and  772 :  0.4709090909090909\n",
      "Training accuracy:  0.9797979797979798\n",
      "Testing accuracy:  0.36\n",
      "Cross validation scores for labels  769  and  770 :  0.5333333333333333\n",
      "Cross validation scores for labels  769  and  771 :  0.48\n",
      "Cross validation scores for labels  769  and  772 :  0.42666666666666664\n",
      "Cross validation scores for labels  770  and  771 :  0.4238095238095238\n",
      "Cross validation scores for labels  770  and  772 :  0.5285714285714286\n",
      "Cross validation scores for labels  771  and  772 :  0.6142857142857143\n",
      "Training accuracy:  1.0\n",
      "Testing accuracy:  0.1935483870967742\n",
      "Cross validation scores for labels  769  and  770 :  0.31\n",
      "Cross validation scores for labels  769  and  771 :  0.4533333333333333\n",
      "Cross validation scores for labels  769  and  772 :  0.6\n",
      "Cross validation scores for labels  770  and  771 :  0.5904761904761904\n",
      "Cross validation scores for labels  770  and  772 :  0.6333333333333333\n",
      "Cross validation scores for labels  771  and  772 :  0.6571428571428571\n",
      "Training accuracy:  1.0\n",
      "Testing accuracy:  0.2857142857142857\n",
      "Cross validation scores for labels  769  and  770 :  0.48578947368421055\n",
      "Cross validation scores for labels  769  and  771 :  0.4444444444444445\n",
      "Cross validation scores for labels  769  and  772 :  0.5544117647058824\n",
      "Cross validation scores for labels  770  and  771 :  0.5628571428571428\n",
      "Cross validation scores for labels  770  and  772 :  0.5333333333333333\n",
      "Cross validation scores for labels  771  and  772 :  0.5058823529411764\n",
      "Training accuracy:  0.7967032967032966\n",
      "Testing accuracy:  0.27472527472527475\n",
      "Cross validation scores for labels  769  and  770 :  0.5529411764705883\n",
      "Cross validation scores for labels  769  and  771 :  0.4549019607843137\n",
      "Cross validation scores for labels  769  and  772 :  0.49411764705882355\n",
      "Cross validation scores for labels  770  and  771 :  0.5181286549707603\n",
      "Cross validation scores for labels  770  and  772 :  0.5093567251461988\n",
      "Cross validation scores for labels  771  and  772 :  0.48479532163742683\n",
      "Training accuracy:  0.8555555555555555\n",
      "Testing accuracy:  0.23333333333333334\n",
      "Cross validation scores for labels  769  and  770 :  0.5045751633986929\n",
      "Cross validation scores for labels  769  and  771 :  0.5222222222222223\n",
      "Cross validation scores for labels  769  and  772 :  0.37894736842105264\n",
      "Cross validation scores for labels  770  and  771 :  0.6147058823529412\n",
      "Cross validation scores for labels  770  and  772 :  0.4678362573099415\n",
      "Cross validation scores for labels  771  and  772 :  0.45029239766081874\n",
      "Training accuracy:  0.75\n",
      "Testing accuracy:  0.25555555555555554\n",
      "Cross validation scores for labels  769  and  770 :  0.4083333333333334\n",
      "Cross validation scores for labels  769  and  771 :  0.3411764705882353\n",
      "Cross validation scores for labels  769  and  772 :  0.5617647058823529\n",
      "Cross validation scores for labels  770  and  771 :  0.3771929824561403\n",
      "Cross validation scores for labels  770  and  772 :  0.5333333333333334\n",
      "Cross validation scores for labels  771  and  772 :  0.38421052631578945\n",
      "Training accuracy:  0.6742857142857143\n",
      "Testing accuracy:  0.3448275862068966\n",
      "Cross validation scores for labels  769  and  770 :  0.3601307189542484\n",
      "Cross validation scores for labels  769  and  771 :  0.4666666666666667\n",
      "Cross validation scores for labels  769  and  772 :  0.3647058823529412\n",
      "Cross validation scores for labels  770  and  771 :  0.5555555555555556\n",
      "Cross validation scores for labels  770  and  772 :  0.4045751633986928\n",
      "Cross validation scores for labels  771  and  772 :  0.40522875816993464\n",
      "Training accuracy:  0.7085714285714285\n",
      "Testing accuracy:  0.20689655172413793\n",
      "Cross validation scores for labels  769  and  770 :  0.45666666666666667\n",
      "Cross validation scores for labels  769  and  771 :  0.6230769230769231\n",
      "Cross validation scores for labels  769  and  772 :  0.485\n",
      "Cross validation scores for labels  770  and  771 :  0.6\n",
      "Cross validation scores for labels  770  and  772 :  0.5599999999999999\n",
      "Cross validation scores for labels  771  and  772 :  0.49340659340659343\n",
      "Training accuracy:  0.8904109589041096\n",
      "Testing accuracy:  0.2054794520547945\n",
      "Cross validation scores for labels  769  and  770 :  0.5169934640522876\n",
      "Cross validation scores for labels  769  and  771 :  0.5235294117647059\n",
      "Cross validation scores for labels  769  and  772 :  0.46238095238095234\n",
      "Cross validation scores for labels  770  and  771 :  0.595\n",
      "Cross validation scores for labels  770  and  772 :  0.5625730994152046\n",
      "Cross validation scores for labels  771  and  772 :  0.46900584795321637\n",
      "Training accuracy:  0.6906077348066298\n",
      "Testing accuracy:  0.2111111111111111\n",
      "Cross validation scores for labels  769  and  770 :  0.6099415204678362\n",
      "Cross validation scores for labels  769  and  771 :  0.41985294117647054\n",
      "Cross validation scores for labels  769  and  772 :  0.5183006535947713\n",
      "Cross validation scores for labels  770  and  771 :  0.5281045751633986\n",
      "Cross validation scores for labels  770  and  772 :  0.5473684210526316\n",
      "Cross validation scores for labels  771  and  772 :  0.5360294117647059\n",
      "Training accuracy:  0.7670454545454546\n",
      "Testing accuracy:  0.23863636363636365\n",
      "Cross validation scores for labels  769  and  770 :  0.4341666666666667\n",
      "Cross validation scores for labels  769  and  771 :  0.4019047619047619\n",
      "Cross validation scores for labels  769  and  772 :  0.3897058823529412\n",
      "Cross validation scores for labels  770  and  771 :  0.5658333333333334\n",
      "Cross validation scores for labels  770  and  772 :  0.5110294117647058\n",
      "Cross validation scores for labels  771  and  772 :  0.55\n",
      "Training accuracy:  0.8354430379746836\n",
      "Testing accuracy:  0.3037974683544304\n",
      "Cross validation scores for labels  769  and  770 :  0.40545454545454546\n",
      "Cross validation scores for labels  769  and  771 :  0.5488888888888889\n",
      "Cross validation scores for labels  769  and  772 :  0.6072727272727272\n",
      "Cross validation scores for labels  770  and  771 :  0.4777777777777777\n",
      "Cross validation scores for labels  770  and  772 :  0.4872727272727272\n",
      "Cross validation scores for labels  771  and  772 :  0.48888888888888893\n",
      "Training accuracy:  1.0\n",
      "Testing accuracy:  0.36\n",
      "Cross validation scores for labels  769  and  770 :  0.6599999999999999\n",
      "Cross validation scores for labels  769  and  771 :  0.6142857142857142\n",
      "Cross validation scores for labels  769  and  772 :  0.5285714285714287\n",
      "Cross validation scores for labels  770  and  771 :  0.7933333333333333\n",
      "Cross validation scores for labels  770  and  772 :  0.4333333333333333\n",
      "Cross validation scores for labels  771  and  772 :  0.5428571428571429\n",
      "Training accuracy:  1.0\n",
      "Testing accuracy:  0.22580645161290322\n",
      "Cross validation scores for labels  769  and  770 :  0.5333333333333333\n",
      "Cross validation scores for labels  769  and  771 :  0.36\n",
      "Cross validation scores for labels  769  and  772 :  0.44666666666666666\n",
      "Cross validation scores for labels  770  and  771 :  0.5199999999999999\n",
      "Cross validation scores for labels  770  and  772 :  0.6142857142857142\n",
      "Cross validation scores for labels  771  and  772 :  0.4666666666666666\n",
      "Training accuracy:  1.0\n",
      "Testing accuracy:  0.2857142857142857\n"
     ]
    },
    {
     "name": "stdout",
     "output_type": "stream",
     "text": [
      "Cross validation scores for labels  769  and  770 :  0.5900584795321638\n",
      "Cross validation scores for labels  769  and  771 :  0.4742105263157895\n",
      "Cross validation scores for labels  769  and  772 :  0.4222222222222222\n",
      "Cross validation scores for labels  770  and  771 :  0.5304093567251462\n",
      "Cross validation scores for labels  770  and  772 :  0.49264705882352944\n",
      "Cross validation scores for labels  771  and  772 :  0.3947712418300654\n",
      "Training accuracy:  0.7747252747252747\n",
      "Testing accuracy:  0.3626373626373626\n",
      "Cross validation scores for labels  769  and  770 :  0.3368421052631579\n",
      "Cross validation scores for labels  769  and  771 :  0.3941176470588236\n",
      "Cross validation scores for labels  769  and  772 :  0.43801169590643274\n",
      "Cross validation scores for labels  770  and  771 :  0.4699346405228758\n",
      "Cross validation scores for labels  770  and  772 :  0.4794736842105262\n",
      "Cross validation scores for labels  771  and  772 :  0.49411764705882344\n",
      "Training accuracy:  0.7833333333333333\n",
      "Testing accuracy:  0.35555555555555557\n",
      "Cross validation scores for labels  769  and  770 :  0.4614035087719298\n",
      "Cross validation scores for labels  769  and  771 :  0.5125\n",
      "Cross validation scores for labels  769  and  772 :  0.3588235294117647\n",
      "Cross validation scores for labels  770  and  771 :  0.4847953216374269\n",
      "Cross validation scores for labels  770  and  772 :  0.3952631578947368\n",
      "Cross validation scores for labels  771  and  772 :  0.40588235294117647\n",
      "Training accuracy:  0.7388888888888889\n",
      "Testing accuracy:  0.25555555555555554\n",
      "Cross validation scores for labels  769  and  770 :  0.3411764705882353\n",
      "Cross validation scores for labels  769  and  771 :  0.45588235294117646\n",
      "Cross validation scores for labels  769  and  772 :  0.5457516339869282\n",
      "Cross validation scores for labels  770  and  771 :  0.426797385620915\n",
      "Cross validation scores for labels  770  and  772 :  0.5233918128654971\n",
      "Cross validation scores for labels  771  and  772 :  0.5280701754385965\n",
      "Training accuracy:  0.6857142857142857\n",
      "Testing accuracy:  0.22988505747126436\n",
      "Cross validation scores for labels  769  and  770 :  0.4980392156862745\n",
      "Cross validation scores for labels  769  and  771 :  0.5345588235294118\n",
      "Cross validation scores for labels  769  and  772 :  0.5745098039215686\n",
      "Cross validation scores for labels  770  and  771 :  0.5\n",
      "Cross validation scores for labels  770  and  772 :  0.42982456140350883\n",
      "Cross validation scores for labels  771  and  772 :  0.5496732026143791\n",
      "Training accuracy:  0.72\n",
      "Testing accuracy:  0.22988505747126436\n",
      "Cross validation scores for labels  769  and  770 :  0.49916666666666665\n",
      "Cross validation scores for labels  769  and  771 :  0.5742857142857142\n",
      "Cross validation scores for labels  769  and  772 :  0.5333333333333333\n",
      "Cross validation scores for labels  770  and  771 :  0.4769230769230769\n",
      "Cross validation scores for labels  770  and  772 :  0.5352380952380952\n",
      "Cross validation scores for labels  771  and  772 :  0.5714285714285714\n",
      "Training accuracy:  0.9041095890410958\n",
      "Testing accuracy:  0.2602739726027397\n",
      "Cross validation scores for labels  769  and  770 :  0.4666666666666666\n",
      "Cross validation scores for labels  769  and  771 :  0.5794117647058823\n",
      "Cross validation scores for labels  769  and  772 :  0.521578947368421\n",
      "Cross validation scores for labels  770  and  771 :  0.4463235294117647\n",
      "Cross validation scores for labels  770  and  772 :  0.51\n",
      "Cross validation scores for labels  771  and  772 :  0.4830409356725146\n",
      "Training accuracy:  0.6298342541436464\n",
      "Testing accuracy:  0.2222222222222222\n",
      "Cross validation scores for labels  769  and  770 :  0.5359477124183007\n",
      "Cross validation scores for labels  769  and  771 :  0.49411764705882355\n",
      "Cross validation scores for labels  769  and  772 :  0.5849673202614378\n",
      "Cross validation scores for labels  770  and  771 :  0.4045751633986928\n",
      "Cross validation scores for labels  770  and  772 :  0.5894736842105264\n",
      "Cross validation scores for labels  771  and  772 :  0.4444444444444445\n",
      "Training accuracy:  0.7784090909090909\n",
      "Testing accuracy:  0.25\n",
      "Cross validation scores for labels  769  and  770 :  0.5713235294117647\n",
      "Cross validation scores for labels  769  and  771 :  0.40083333333333326\n",
      "Cross validation scores for labels  769  and  772 :  0.5308333333333333\n",
      "Cross validation scores for labels  770  and  771 :  0.5058823529411764\n",
      "Cross validation scores for labels  770  and  772 :  0.5301470588235294\n",
      "Cross validation scores for labels  771  and  772 :  0.4216666666666667\n",
      "Training accuracy:  0.8670886075949367\n",
      "Testing accuracy:  0.3670886075949367\n",
      "Cross validation scores for labels  769  and  770 :  0.5866666666666667\n",
      "Cross validation scores for labels  769  and  771 :  0.5763636363636364\n",
      "Cross validation scores for labels  769  and  772 :  0.58\n",
      "Cross validation scores for labels  770  and  771 :  0.5355555555555556\n",
      "Cross validation scores for labels  770  and  772 :  0.5977777777777777\n",
      "Cross validation scores for labels  771  and  772 :  0.5\n",
      "Training accuracy:  1.0\n",
      "Testing accuracy:  0.16\n",
      "Cross validation scores for labels  769  and  770 :  0.5047619047619047\n",
      "Cross validation scores for labels  769  and  771 :  0.5\n",
      "Cross validation scores for labels  769  and  772 :  0.5266666666666666\n",
      "Cross validation scores for labels  770  and  771 :  0.49523809523809526\n",
      "Cross validation scores for labels  770  and  772 :  0.6142857142857142\n",
      "Cross validation scores for labels  771  and  772 :  0.45999999999999996\n",
      "Training accuracy:  1.0\n",
      "Testing accuracy:  0.2903225806451613\n",
      "Cross validation scores for labels  769  and  770 :  0.5\n",
      "Cross validation scores for labels  769  and  771 :  0.32\n",
      "Cross validation scores for labels  769  and  772 :  0.44000000000000006\n",
      "Cross validation scores for labels  770  and  771 :  0.35714285714285715\n",
      "Cross validation scores for labels  770  and  772 :  0.5523809523809524\n",
      "Cross validation scores for labels  771  and  772 :  0.47333333333333333\n",
      "Training accuracy:  1.0\n",
      "Testing accuracy:  0.25\n",
      "Cross validation scores for labels  769  and  770 :  0.47368421052631576\n",
      "Cross validation scores for labels  769  and  771 :  0.5058479532163742\n",
      "Cross validation scores for labels  769  and  772 :  0.5011695906432749\n",
      "Cross validation scores for labels  770  and  771 :  0.5111111111111111\n",
      "Cross validation scores for labels  770  and  772 :  0.4725490196078431\n",
      "Cross validation scores for labels  771  and  772 :  0.526797385620915\n",
      "Training accuracy:  0.8131868131868132\n",
      "Testing accuracy:  0.2087912087912088\n",
      "Cross validation scores for labels  769  and  770 :  0.5647058823529412\n",
      "Cross validation scores for labels  769  and  771 :  0.4286764705882353\n",
      "Cross validation scores for labels  769  and  772 :  0.4588235294117647\n",
      "Cross validation scores for labels  770  and  771 :  0.4526315789473684\n",
      "Cross validation scores for labels  770  and  772 :  0.4468421052631578\n",
      "Cross validation scores for labels  771  and  772 :  0.3684210526315789\n",
      "Training accuracy:  0.8166666666666667\n",
      "Testing accuracy:  0.26666666666666666\n",
      "Cross validation scores for labels  769  and  770 :  0.47058823529411764\n",
      "Cross validation scores for labels  769  and  771 :  0.43006535947712415\n",
      "Cross validation scores for labels  769  and  772 :  0.38315789473684214\n",
      "Cross validation scores for labels  770  and  771 :  0.46691176470588236\n",
      "Cross validation scores for labels  770  and  772 :  0.3935672514619883\n",
      "Cross validation scores for labels  771  and  772 :  0.47368421052631576\n",
      "Training accuracy:  0.7722222222222223\n",
      "Testing accuracy:  0.2111111111111111\n",
      "Cross validation scores for labels  769  and  770 :  0.6011695906432748\n",
      "Cross validation scores for labels  769  and  771 :  0.6897058823529412\n",
      "Cross validation scores for labels  769  and  772 :  0.5235294117647059\n",
      "Cross validation scores for labels  770  and  771 :  0.48235294117647054\n",
      "Cross validation scores for labels  770  and  772 :  0.527485380116959\n",
      "Cross validation scores for labels  771  and  772 :  0.5977941176470589\n",
      "Training accuracy:  0.6342857142857142\n",
      "Testing accuracy:  0.26436781609195403\n",
      "Cross validation scores for labels  769  and  770 :  0.47251461988304094\n",
      "Cross validation scores for labels  769  and  771 :  0.6\n",
      "Cross validation scores for labels  769  and  772 :  0.5485380116959064\n",
      "Cross validation scores for labels  770  and  771 :  0.5125\n",
      "Cross validation scores for labels  770  and  772 :  0.5222222222222224\n",
      "Cross validation scores for labels  771  and  772 :  0.5330882352941176\n",
      "Training accuracy:  0.7257142857142858\n",
      "Testing accuracy:  0.2413793103448276\n"
     ]
    },
    {
     "name": "stdout",
     "output_type": "stream",
     "text": [
      "Cross validation scores for labels  769  and  770 :  0.379047619047619\n",
      "Cross validation scores for labels  769  and  771 :  0.5647619047619047\n",
      "Cross validation scores for labels  769  and  772 :  0.4733333333333333\n",
      "Cross validation scores for labels  770  and  771 :  0.5723809523809524\n",
      "Cross validation scores for labels  770  and  772 :  0.6028571428571429\n",
      "Cross validation scores for labels  771  and  772 :  0.4666666666666667\n",
      "Training accuracy:  0.910958904109589\n",
      "Testing accuracy:  0.3013698630136986\n",
      "Cross validation scores for labels  769  and  770 :  0.4261437908496732\n",
      "Cross validation scores for labels  769  and  771 :  0.48235294117647054\n",
      "Cross validation scores for labels  769  and  772 :  0.5064327485380118\n",
      "Cross validation scores for labels  770  and  771 :  0.41111111111111115\n",
      "Cross validation scores for labels  770  and  772 :  0.551578947368421\n",
      "Cross validation scores for labels  771  and  772 :  0.4444444444444445\n",
      "Training accuracy:  0.6187845303867403\n",
      "Testing accuracy:  0.2111111111111111\n",
      "Cross validation scores for labels  769  and  770 :  0.5529411764705883\n",
      "Cross validation scores for labels  769  and  771 :  0.6794117647058824\n",
      "Cross validation scores for labels  769  and  772 :  0.3509803921568628\n",
      "Cross validation scores for labels  770  and  771 :  0.5333333333333334\n",
      "Cross validation scores for labels  770  and  772 :  0.5052631578947369\n",
      "Cross validation scores for labels  771  and  772 :  0.5385964912280702\n",
      "Training accuracy:  0.8125\n",
      "Testing accuracy:  0.26136363636363635\n",
      "Cross validation scores for labels  769  and  770 :  0.4208333333333333\n",
      "Cross validation scores for labels  769  and  771 :  0.5441176470588236\n",
      "Cross validation scores for labels  769  and  772 :  0.4588235294117647\n",
      "Cross validation scores for labels  770  and  771 :  0.5733333333333333\n",
      "Cross validation scores for labels  770  and  772 :  0.40249999999999997\n",
      "Cross validation scores for labels  771  and  772 :  0.4522058823529411\n",
      "Training accuracy:  0.8354430379746836\n",
      "Testing accuracy:  0.22784810126582278\n",
      "Cross validation scores for labels  769  and  770 :  0.571111111111111\n",
      "Cross validation scores for labels  769  and  771 :  0.43454545454545457\n",
      "Cross validation scores for labels  769  and  772 :  0.5854545454545456\n",
      "Cross validation scores for labels  770  and  771 :  0.35333333333333333\n",
      "Cross validation scores for labels  770  and  772 :  0.5844444444444444\n",
      "Cross validation scores for labels  771  and  772 :  0.34\n",
      "Training accuracy:  0.98989898989899\n",
      "Testing accuracy:  0.3\n",
      "Cross validation scores for labels  769  and  770 :  0.48571428571428565\n",
      "Cross validation scores for labels  769  and  771 :  0.5999999999999999\n",
      "Cross validation scores for labels  769  and  772 :  0.3866666666666666\n",
      "Cross validation scores for labels  770  and  771 :  0.6761904761904762\n",
      "Cross validation scores for labels  770  and  772 :  0.35238095238095235\n",
      "Cross validation scores for labels  771  and  772 :  0.4333333333333333\n",
      "Training accuracy:  1.0\n",
      "Testing accuracy:  0.3225806451612903\n",
      "Cross validation scores for labels  769  and  770 :  0.58\n",
      "Cross validation scores for labels  769  and  771 :  0.53\n",
      "Cross validation scores for labels  769  and  772 :  0.6733333333333332\n",
      "Cross validation scores for labels  770  and  771 :  0.58\n",
      "Cross validation scores for labels  770  and  772 :  0.6857142857142857\n",
      "Cross validation scores for labels  771  and  772 :  0.6333333333333333\n",
      "Training accuracy:  1.0\n",
      "Testing accuracy:  0.21428571428571427\n",
      "Cross validation scores for labels  769  and  770 :  0.4947712418300654\n",
      "Cross validation scores for labels  769  and  771 :  0.5111111111111111\n",
      "Cross validation scores for labels  769  and  772 :  0.3953216374269005\n",
      "Cross validation scores for labels  770  and  771 :  0.5286549707602338\n",
      "Cross validation scores for labels  770  and  772 :  0.5\n",
      "Cross validation scores for labels  771  and  772 :  0.40994152046783616\n",
      "Training accuracy:  0.8076923076923077\n",
      "Testing accuracy:  0.25274725274725274\n",
      "Cross validation scores for labels  769  and  770 :  0.4816993464052287\n",
      "Cross validation scores for labels  769  and  771 :  0.4496732026143791\n",
      "Cross validation scores for labels  769  and  772 :  0.46789473684210525\n",
      "Cross validation scores for labels  770  and  771 :  0.3573529411764706\n",
      "Cross validation scores for labels  770  and  772 :  0.571345029239766\n",
      "Cross validation scores for labels  771  and  772 :  0.460233918128655\n",
      "Training accuracy:  0.7888888888888889\n",
      "Testing accuracy:  0.17777777777777778\n",
      "Cross validation scores for labels  769  and  770 :  0.44210526315789467\n",
      "Cross validation scores for labels  769  and  771 :  0.5529411764705883\n",
      "Cross validation scores for labels  769  and  772 :  0.4333333333333334\n",
      "Cross validation scores for labels  770  and  771 :  0.5111111111111111\n",
      "Cross validation scores for labels  770  and  772 :  0.41052631578947374\n",
      "Cross validation scores for labels  771  and  772 :  0.3673202614379084\n",
      "Training accuracy:  0.7555555555555555\n",
      "Testing accuracy:  0.2777777777777778\n",
      "Cross validation scores for labels  769  and  770 :  0.5411764705882353\n",
      "Cross validation scores for labels  769  and  771 :  0.5359477124183007\n",
      "Cross validation scores for labels  769  and  772 :  0.552046783625731\n",
      "Cross validation scores for labels  770  and  771 :  0.4713235294117647\n",
      "Cross validation scores for labels  770  and  772 :  0.5163398692810458\n",
      "Cross validation scores for labels  771  and  772 :  0.47777777777777775\n",
      "Training accuracy:  0.6514285714285715\n",
      "Testing accuracy:  0.19540229885057472\n",
      "Cross validation scores for labels  769  and  770 :  0.5507352941176471\n",
      "Cross validation scores for labels  769  and  771 :  0.580392156862745\n",
      "Cross validation scores for labels  769  and  772 :  0.36432748538011694\n",
      "Cross validation scores for labels  770  and  771 :  0.4867647058823529\n",
      "Cross validation scores for labels  770  and  772 :  0.4594771241830065\n",
      "Cross validation scores for labels  771  and  772 :  0.5467836257309941\n",
      "Training accuracy:  0.7828571428571428\n",
      "Testing accuracy:  0.22988505747126436\n",
      "Cross validation scores for labels  769  and  770 :  0.5308333333333334\n",
      "Cross validation scores for labels  769  and  771 :  0.5419047619047619\n",
      "Cross validation scores for labels  769  and  772 :  0.4628571428571428\n",
      "Cross validation scores for labels  770  and  771 :  0.5742857142857142\n",
      "Cross validation scores for labels  770  and  772 :  0.5352380952380952\n",
      "Cross validation scores for labels  771  and  772 :  0.612087912087912\n",
      "Training accuracy:  0.9246575342465754\n",
      "Testing accuracy:  0.273972602739726\n",
      "Cross validation scores for labels  769  and  770 :  0.40915032679738567\n",
      "Cross validation scores for labels  769  and  771 :  0.5228070175438597\n",
      "Cross validation scores for labels  769  and  772 :  0.47251461988304094\n",
      "Cross validation scores for labels  770  and  771 :  0.48888888888888893\n",
      "Cross validation scores for labels  770  and  772 :  0.34248366013071896\n",
      "Cross validation scores for labels  771  and  772 :  0.552046783625731\n",
      "Training accuracy:  0.6740331491712708\n",
      "Testing accuracy:  0.23333333333333334\n",
      "Cross validation scores for labels  769  and  770 :  0.5830409356725146\n",
      "Cross validation scores for labels  769  and  771 :  0.5544117647058824\n",
      "Cross validation scores for labels  769  and  772 :  0.5013071895424837\n",
      "Cross validation scores for labels  770  and  771 :  0.3503267973856209\n",
      "Cross validation scores for labels  770  and  772 :  0.42865497076023396\n",
      "Cross validation scores for labels  771  and  772 :  0.5176470588235295\n",
      "Training accuracy:  0.7670454545454546\n",
      "Testing accuracy:  0.3409090909090909\n",
      "Cross validation scores for labels  769  and  770 :  0.5533333333333333\n",
      "Cross validation scores for labels  769  and  771 :  0.4514285714285714\n",
      "Cross validation scores for labels  769  and  772 :  0.5183333333333333\n",
      "Cross validation scores for labels  770  and  771 :  0.5958333333333333\n",
      "Cross validation scores for labels  770  and  772 :  0.5967320261437908\n",
      "Cross validation scores for labels  771  and  772 :  0.5110294117647058\n",
      "Training accuracy:  0.8481012658227848\n",
      "Testing accuracy:  0.27848101265822783\n",
      "Cross validation scores for labels  769  and  770 :  0.4888888888888888\n",
      "Cross validation scores for labels  769  and  771 :  0.5199999999999999\n",
      "Cross validation scores for labels  769  and  772 :  0.5666666666666667\n",
      "Cross validation scores for labels  770  and  771 :  0.509090909090909\n"
     ]
    },
    {
     "name": "stdout",
     "output_type": "stream",
     "text": [
      "Cross validation scores for labels  770  and  772 :  0.5690909090909091\n",
      "Cross validation scores for labels  771  and  772 :  0.5181818181818182\n",
      "Training accuracy:  0.98989898989899\n",
      "Testing accuracy:  0.3\n",
      "Cross validation scores for labels  769  and  770 :  0.56\n",
      "Cross validation scores for labels  769  and  771 :  0.4333333333333333\n",
      "Cross validation scores for labels  769  and  772 :  0.48666666666666664\n",
      "Cross validation scores for labels  770  and  771 :  0.4333333333333333\n",
      "Cross validation scores for labels  770  and  772 :  0.6476190476190476\n",
      "Cross validation scores for labels  771  and  772 :  0.5809523809523809\n",
      "Training accuracy:  1.0\n",
      "Testing accuracy:  0.16129032258064516\n",
      "Cross validation scores for labels  769  and  770 :  0.5333333333333333\n",
      "Cross validation scores for labels  769  and  771 :  0.64\n",
      "Cross validation scores for labels  769  and  772 :  0.52\n",
      "Cross validation scores for labels  770  and  771 :  0.6933333333333334\n",
      "Cross validation scores for labels  770  and  772 :  0.44761904761904764\n",
      "Cross validation scores for labels  771  and  772 :  0.5066666666666666\n",
      "Training accuracy:  1.0\n",
      "Testing accuracy:  0.17857142857142858\n"
     ]
    }
   ],
   "source": [
    "## results records training accuracy, cross validation average score, and testing accuracy for each subject\n",
    "results = np.zeros((num_experiment, len(all_data_paths), 3))\n",
    "\n",
    "for j in range(num_experiment):\n",
    "    for i, data_path in enumerate(all_data_paths):\n",
    "        \n",
    "        ## Load data\n",
    "        data_npz = np.load(data_path)\n",
    "        data = data_npz['processed_motor_imagery_data']\n",
    "        labels = data_npz['descriptions']\n",
    "    \n",
    "        ## Downsample with windowed means\n",
    "        data_ds = utils.windowed_means(data, num_samples)\n",
    "        \n",
    "        ## Flatten data\n",
    "        data_ds_flattened = utils.flatten_dim12(data_ds)\n",
    "        \n",
    "        ## Prepare training and testing data\n",
    "        X_train, X_test, y_train, y_test = train_test_split(data_ds_flattened, \n",
    "                                                            labels, \n",
    "                                                            test_size=test_split, \n",
    "                                                            shuffle=True,\n",
    "                                                            random_state=j)\n",
    "        \n",
    "        ## Classification\n",
    "        clf = utils.LDA_classifier(X_train, y_train, cross_val=num_cross_val)\n",
    "        cross_val_scores = clf.train_1_vs_1()\n",
    "        predictions, train_accuracy = clf.test_1_vs_1()\n",
    "        predictions, test_accuracy = clf.test_1_vs_1(X_test, y_test)\n",
    "        results[j, i, :] = [train_accuracy, np.mean(cross_val_scores), test_accuracy]"
   ]
  },
  {
   "cell_type": "code",
   "execution_count": 24,
   "id": "a9eec499",
   "metadata": {},
   "outputs": [
    {
     "name": "stdout",
     "output_type": "stream",
     "text": [
      "[[[0.82417582 0.5248538  0.30769231]\n",
      "  [0.76111111 0.45317681 0.3       ]\n",
      "  [0.77222222 0.43313267 0.28888889]\n",
      "  [0.65142857 0.47939743 0.33333333]\n",
      "  [0.70857143 0.51245127 0.16091954]\n",
      "  [0.88356164 0.51190018 0.28767123]\n",
      "  [0.71823204 0.48832129 0.25555556]\n",
      "  [0.8125     0.53081327 0.27272727]\n",
      "  [0.85443038 0.52402778 0.24050633]\n",
      "  [0.97979798 0.50047138 0.36      ]\n",
      "  [1.         0.41984127 0.29032258]\n",
      "  [1.         0.60230159 0.21428571]]\n",
      "\n",
      " [[0.7967033  0.50698888 0.23076923]\n",
      "  [0.78888889 0.50120972 0.28888889]\n",
      "  [0.73888889 0.48178535 0.25555556]\n",
      "  [0.73714286 0.52644121 0.22988506]\n",
      "  [0.66285714 0.41046038 0.26436782]\n",
      "  [0.9109589  0.51673077 0.21917808]\n",
      "  [0.64640884 0.51726795 0.21111111]\n",
      "  [0.83522727 0.51412324 0.22727273]\n",
      "  [0.89873418 0.51544585 0.20253165]\n",
      "  [0.98989899 0.48020202 0.2       ]\n",
      "  [1.         0.53619048 0.25806452]\n",
      "  [1.         0.58642857 0.21428571]]\n",
      "\n",
      " [[0.84615385 0.5178003  0.28571429]\n",
      "  [0.77777778 0.47746245 0.25555556]\n",
      "  [0.74444444 0.47449432 0.16666667]\n",
      "  [0.67428571 0.54520697 0.1954023 ]\n",
      "  [0.72       0.43431373 0.26436782]\n",
      "  [0.96575342 0.55582112 0.30136986]\n",
      "  [0.66850829 0.47458692 0.31111111]\n",
      "  [0.79545455 0.49109678 0.28409091]\n",
      "  [0.83544304 0.54784897 0.21518987]\n",
      "  [1.         0.4920202  0.26      ]\n",
      "  [1.         0.51587302 0.29032258]\n",
      "  [1.         0.47888889 0.14285714]]\n",
      "\n",
      " [[0.85164835 0.48680599 0.25274725]\n",
      "  [0.77777778 0.47783511 0.27777778]\n",
      "  [0.75555556 0.5083438  0.24444444]\n",
      "  [0.70857143 0.56716403 0.18390805]\n",
      "  [0.69714286 0.46827485 0.20689655]\n",
      "  [0.93150685 0.53722626 0.1369863 ]\n",
      "  [0.77900552 0.55558652 0.17777778]\n",
      "  [0.76136364 0.54141584 0.28409091]\n",
      "  [0.89240506 0.48652116 0.27848101]\n",
      "  [1.         0.57959596 0.2       ]\n",
      "  [1.         0.46539683 0.32258065]\n",
      "  [1.         0.53730159 0.25      ]]\n",
      "\n",
      " [[0.77472527 0.54774897 0.28571429]\n",
      "  [0.82222222 0.48371732 0.22222222]\n",
      "  [0.74444444 0.49247563 0.21111111]\n",
      "  [0.65142857 0.56263832 0.22988506]\n",
      "  [0.67428571 0.44869281 0.25287356]\n",
      "  [0.91780822 0.51470391 0.30136986]\n",
      "  [0.66298343 0.49914574 0.23333333]\n",
      "  [0.76136364 0.51096205 0.25      ]\n",
      "  [0.87341772 0.48805672 0.26582278]\n",
      "  [1.         0.59050505 0.24      ]\n",
      "  [1.         0.62849206 0.19354839]\n",
      "  [1.         0.54444444 0.25      ]]\n",
      "\n",
      " [[0.82967033 0.49673776 0.21978022]\n",
      "  [0.79444444 0.48199174 0.21111111]\n",
      "  [0.81111111 0.48637198 0.25555556]\n",
      "  [0.68       0.53414173 0.2183908 ]\n",
      "  [0.67428571 0.47790104 0.16091954]\n",
      "  [0.88356164 0.54821351 0.23287671]\n",
      "  [0.67955801 0.52629056 0.18888889]\n",
      "  [0.80113636 0.51831857 0.25      ]\n",
      "  [0.89873418 0.49522059 0.26582278]\n",
      "  [0.97979798 0.47444444 0.36      ]\n",
      "  [1.         0.50111111 0.19354839]\n",
      "  [1.         0.54071429 0.28571429]]\n",
      "\n",
      " [[0.7967033  0.51445309 0.27472527]\n",
      "  [0.85555556 0.50237358 0.23333333]\n",
      "  [0.75       0.48976322 0.25555556]\n",
      "  [0.67428571 0.43433523 0.34482759]\n",
      "  [0.70857143 0.42614379 0.20689655]\n",
      "  [0.89041096 0.53635836 0.20547945]\n",
      "  [0.69060773 0.52158046 0.21111111]\n",
      "  [0.76704545 0.52659959 0.23863636]\n",
      "  [0.83544304 0.47544001 0.30379747]\n",
      "  [1.         0.50259259 0.36      ]\n",
      "  [1.         0.59539683 0.22580645]\n",
      "  [1.         0.49015873 0.28571429]]\n",
      "\n",
      " [[0.77472527 0.48405315 0.36263736]\n",
      "  [0.78333333 0.43541624 0.35555556]\n",
      "  [0.73888889 0.43644465 0.25555556]\n",
      "  [0.68571429 0.47017831 0.22988506]\n",
      "  [0.72       0.51443427 0.22988506]\n",
      "  [0.90410959 0.53172924 0.26027397]\n",
      "  [0.62983425 0.50117031 0.22222222]\n",
      "  [0.77840909 0.508921   0.25      ]\n",
      "  [0.86708861 0.49344771 0.36708861]\n",
      "  [1.         0.56272727 0.16      ]\n",
      "  [1.         0.5168254  0.29032258]\n",
      "  [1.         0.44047619 0.25      ]]\n",
      "\n",
      " [[0.81318681 0.49852655 0.20879121]\n",
      "  [0.81666667 0.4533501  0.26666667]\n",
      "  [0.77222222 0.43632912 0.21111111]\n",
      "  [0.63428571 0.57033955 0.26436782]\n",
      "  [0.72571429 0.53147718 0.24137931]\n",
      "  [0.9109589  0.50984127 0.30136986]\n",
      "  [0.61878453 0.470344   0.21111111]\n",
      "  [0.8125     0.52675439 0.26136364]\n",
      "  [0.83544304 0.47530229 0.2278481 ]\n",
      "  [0.98989899 0.47814815 0.3       ]\n",
      "  [1.         0.48904762 0.32258065]\n",
      "  [1.         0.61373016 0.21428571]]\n",
      "\n",
      " [[0.80769231 0.47330008 0.25274725]\n",
      "  [0.78888889 0.46469986 0.17777778]\n",
      "  [0.75555556 0.45288958 0.27777778]\n",
      "  [0.65142857 0.51576869 0.1954023 ]\n",
      "  [0.78285714 0.49808007 0.22988506]\n",
      "  [0.92465753 0.54286783 0.2739726 ]\n",
      "  [0.67403315 0.46464855 0.23333333]\n",
      "  [0.76704545 0.48923145 0.34090909]\n",
      "  [0.84810127 0.53778167 0.27848101]\n",
      "  [0.98989899 0.5286532  0.3       ]\n",
      "  [1.         0.52365079 0.16129032]\n",
      "  [1.         0.5568254  0.17857143]]]\n",
      "[[0.81153846 0.50512686 0.26813187]\n",
      " [0.79666667 0.47312329 0.25888889]\n",
      " [0.75833333 0.46920303 0.24222222]\n",
      " [0.67485714 0.52056115 0.24252874]\n",
      " [0.70742857 0.47222294 0.22183908]\n",
      " [0.91232877 0.53053925 0.25205479]\n",
      " [0.67679558 0.50189423 0.22555556]\n",
      " [0.78920455 0.51582362 0.26590909]\n",
      " [0.86392405 0.50390927 0.26455696]\n",
      " [0.99292929 0.51893603 0.274     ]\n",
      " [1.         0.51918254 0.25483871]\n",
      " [1.         0.53912698 0.22857143]]\n"
     ]
    }
   ],
   "source": [
    "print(results)\n",
    "results_avg = np.mean(results, axis=0)\n",
    "print(results_avg)\n",
    "\n",
    "results_path = os.path.join(results_dir, '4_LDA.npy')\n",
    "np.save(results_path, results)"
   ]
  },
  {
   "cell_type": "markdown",
   "id": "4c11c94a",
   "metadata": {},
   "source": [
    "## 4-Class One-vs-One Classification with Regular CSP + LDA"
   ]
  },
  {
   "cell_type": "code",
   "execution_count": 25,
   "id": "44a78440",
   "metadata": {},
   "outputs": [
    {
     "name": "stdout",
     "output_type": "stream",
     "text": [
      "Cross validation scores for labels  769  and  770 :  0.7292397660818712\n",
      "Cross validation scores for labels  769  and  771 :  0.9450292397660819\n",
      "Cross validation scores for labels  769  and  772 :  0.9333333333333333\n",
      "Cross validation scores for labels  770  and  771 :  0.9678362573099415\n",
      "Cross validation scores for labels  770  and  772 :  0.967251461988304\n",
      "Cross validation scores for labels  771  and  772 :  0.7222222222222222\n",
      "Training accuracy:  0.7252747252747253\n",
      "Testing accuracy:  0.5494505494505495\n",
      "Cross validation scores for labels  769  and  770 :  0.718421052631579\n",
      "Cross validation scores for labels  769  and  771 :  0.9245614035087719\n",
      "Cross validation scores for labels  769  and  772 :  0.7333333333333333\n",
      "Cross validation scores for labels  770  and  771 :  0.8843137254901959\n",
      "Cross validation scores for labels  770  and  772 :  0.8084967320261438\n",
      "Cross validation scores for labels  771  and  772 :  0.9161764705882354\n",
      "Training accuracy:  0.6611111111111111\n",
      "Testing accuracy:  0.5\n",
      "Cross validation scores for labels  769  and  770 :  0.9215686274509804\n",
      "Cross validation scores for labels  769  and  771 :  0.8824561403508773\n",
      "Cross validation scores for labels  769  and  772 :  0.8777777777777779\n",
      "Cross validation scores for labels  770  and  771 :  0.9222222222222222\n",
      "Cross validation scores for labels  770  and  772 :  0.9065359477124183\n",
      "Cross validation scores for labels  771  and  772 :  0.8274853801169592\n",
      "Training accuracy:  0.7611111111111111\n",
      "Testing accuracy:  0.7333333333333333\n",
      "Cross validation scores for labels  769  and  770 :  0.6718954248366014\n",
      "Cross validation scores for labels  769  and  771 :  0.7294117647058824\n",
      "Cross validation scores for labels  769  and  772 :  0.725\n",
      "Cross validation scores for labels  770  and  771 :  0.7684210526315789\n",
      "Cross validation scores for labels  770  and  772 :  0.7444444444444445\n",
      "Cross validation scores for labels  771  and  772 :  0.607843137254902\n",
      "Training accuracy:  0.5028571428571429\n",
      "Testing accuracy:  0.367816091954023\n",
      "Cross validation scores for labels  769  and  770 :  0.5895424836601307\n",
      "Cross validation scores for labels  769  and  771 :  0.6320261437908496\n",
      "Cross validation scores for labels  769  and  772 :  0.6485380116959065\n",
      "Cross validation scores for labels  770  and  771 :  0.6772058823529411\n",
      "Cross validation scores for labels  770  and  772 :  0.6261437908496733\n",
      "Cross validation scores for labels  771  and  772 :  0.5568627450980392\n",
      "Training accuracy:  0.44571428571428573\n",
      "Testing accuracy:  0.3448275862068966\n",
      "Cross validation scores for labels  769  and  770 :  0.7647619047619048\n",
      "Cross validation scores for labels  769  and  771 :  0.7761904761904761\n",
      "Cross validation scores for labels  769  and  772 :  0.6841666666666667\n",
      "Cross validation scores for labels  770  and  771 :  0.7626373626373626\n",
      "Cross validation scores for labels  770  and  772 :  0.7866666666666667\n",
      "Cross validation scores for labels  771  and  772 :  0.7171428571428571\n",
      "Training accuracy:  0.5273972602739726\n",
      "Testing accuracy:  0.3424657534246575\n",
      "Cross validation scores for labels  769  and  770 :  0.8254901960784313\n",
      "Cross validation scores for labels  769  and  771 :  0.967251461988304\n",
      "Cross validation scores for labels  769  and  772 :  0.9894736842105264\n",
      "Cross validation scores for labels  770  and  771 :  0.9529411764705882\n",
      "Cross validation scores for labels  770  and  772 :  0.9444444444444444\n",
      "Cross validation scores for labels  771  and  772 :  0.8421052631578947\n",
      "Training accuracy:  0.8232044198895028\n",
      "Testing accuracy:  0.7\n",
      "Cross validation scores for labels  769  and  770 :  0.9489473684210525\n",
      "Cross validation scores for labels  769  and  771 :  0.8836601307189541\n",
      "Cross validation scores for labels  769  and  772 :  0.9294117647058823\n",
      "Cross validation scores for labels  770  and  771 :  0.9555555555555555\n",
      "Cross validation scores for labels  770  and  772 :  0.9222222222222223\n",
      "Cross validation scores for labels  771  and  772 :  0.9358333333333334\n",
      "Training accuracy:  0.8636363636363636\n",
      "Testing accuracy:  0.7727272727272727\n",
      "Cross validation scores for labels  769  and  770 :  0.7897058823529411\n",
      "Cross validation scores for labels  769  and  771 :  0.8841666666666667\n",
      "Cross validation scores for labels  769  and  772 :  0.9341666666666667\n",
      "Cross validation scores for labels  770  and  771 :  0.875\n",
      "Cross validation scores for labels  770  and  772 :  0.8632352941176471\n",
      "Cross validation scores for labels  771  and  772 :  0.8183333333333334\n",
      "Training accuracy:  0.7531645569620253\n",
      "Testing accuracy:  0.5316455696202531\n",
      "Cross validation scores for labels  769  and  770 :  0.9800000000000001\n",
      "Cross validation scores for labels  769  and  771 :  1.0\n",
      "Cross validation scores for labels  769  and  772 :  0.9555555555555555\n",
      "Cross validation scores for labels  770  and  771 :  0.9818181818181818\n",
      "Cross validation scores for labels  770  and  772 :  0.9636363636363636\n",
      "Cross validation scores for labels  771  and  772 :  0.9777777777777779\n",
      "Training accuracy:  0.9595959595959596\n",
      "Testing accuracy:  0.76\n",
      "Cross validation scores for labels  769  and  770 :  0.9666666666666668\n",
      "Cross validation scores for labels  769  and  771 :  1.0\n",
      "Cross validation scores for labels  769  and  772 :  0.9666666666666668\n",
      "Cross validation scores for labels  770  and  771 :  0.8857142857142858\n",
      "Cross validation scores for labels  770  and  772 :  0.9214285714285714\n",
      "Cross validation scores for labels  771  and  772 :  1.0\n",
      "Training accuracy:  0.9344262295081968\n",
      "Testing accuracy:  0.41935483870967744\n",
      "Cross validation scores for labels  769  and  770 :  0.9666666666666668\n",
      "Cross validation scores for labels  769  and  771 :  1.0\n",
      "Cross validation scores for labels  769  and  772 :  1.0\n",
      "Cross validation scores for labels  770  and  771 :  0.9\n",
      "Cross validation scores for labels  770  and  772 :  0.9333333333333333\n",
      "Cross validation scores for labels  771  and  772 :  0.9666666666666668\n",
      "Training accuracy:  0.9642857142857143\n",
      "Testing accuracy:  0.4642857142857143\n",
      "Cross validation scores for labels  769  and  770 :  0.726797385620915\n",
      "Cross validation scores for labels  769  and  771 :  0.9111111111111111\n",
      "Cross validation scores for labels  769  and  772 :  0.9339181286549707\n",
      "Cross validation scores for labels  770  and  771 :  0.9339181286549707\n",
      "Cross validation scores for labels  770  and  772 :  0.9888888888888889\n",
      "Cross validation scores for labels  771  and  772 :  0.8210526315789473\n",
      "Training accuracy:  0.7582417582417582\n",
      "Testing accuracy:  0.6813186813186813\n",
      "Cross validation scores for labels  769  and  770 :  0.6588235294117648\n",
      "Cross validation scores for labels  769  and  771 :  0.888888888888889\n",
      "Cross validation scores for labels  769  and  772 :  0.6754385964912281\n",
      "Cross validation scores for labels  770  and  771 :  0.8732026143790849\n",
      "Cross validation scores for labels  770  and  772 :  0.7\n",
      "Cross validation scores for labels  771  and  772 :  0.9157894736842105\n",
      "Training accuracy:  0.6277777777777778\n",
      "Testing accuracy:  0.5666666666666667\n",
      "Cross validation scores for labels  769  and  770 :  0.9222222222222222\n",
      "Cross validation scores for labels  769  and  771 :  0.877124183006536\n",
      "Cross validation scores for labels  769  and  772 :  0.9300653594771241\n",
      "Cross validation scores for labels  770  and  771 :  0.9257309941520468\n",
      "Cross validation scores for labels  770  and  772 :  0.9116959064327486\n",
      "Cross validation scores for labels  771  and  772 :  0.8678362573099415\n",
      "Training accuracy:  0.8\n",
      "Testing accuracy:  0.6555555555555556\n",
      "Cross validation scores for labels  769  and  770 :  0.775\n",
      "Cross validation scores for labels  769  and  771 :  0.7169117647058824\n",
      "Cross validation scores for labels  769  and  772 :  0.7073529411764706\n",
      "Cross validation scores for labels  770  and  771 :  0.8058479532163743\n",
      "Cross validation scores for labels  770  and  772 :  0.7128654970760234\n",
      "Cross validation scores for labels  771  and  772 :  0.6736842105263158\n",
      "Training accuracy:  0.6\n",
      "Testing accuracy:  0.41379310344827586\n",
      "Cross validation scores for labels  769  and  770 :  0.5982456140350878\n",
      "Cross validation scores for labels  769  and  771 :  0.5867647058823529\n",
      "Cross validation scores for labels  769  and  772 :  0.7720588235294118\n",
      "Cross validation scores for labels  770  and  771 :  0.683625730994152\n",
      "Cross validation scores for labels  770  and  772 :  0.7309941520467835\n",
      "Cross validation scores for labels  771  and  772 :  0.7838235294117647\n",
      "Training accuracy:  0.4742857142857143\n"
     ]
    },
    {
     "name": "stdout",
     "output_type": "stream",
     "text": [
      "Testing accuracy:  0.27586206896551724\n",
      "Cross validation scores for labels  769  and  770 :  0.7491666666666666\n",
      "Cross validation scores for labels  769  and  771 :  0.7883333333333333\n",
      "Cross validation scores for labels  769  and  772 :  0.7\n",
      "Cross validation scores for labels  770  and  771 :  0.7406593406593407\n",
      "Cross validation scores for labels  770  and  772 :  0.8\n",
      "Cross validation scores for labels  771  and  772 :  0.7285714285714285\n",
      "Training accuracy:  0.5684931506849316\n",
      "Testing accuracy:  0.3424657534246575\n",
      "Cross validation scores for labels  769  and  770 :  0.8555555555555555\n",
      "Cross validation scores for labels  769  and  771 :  0.9764705882352942\n",
      "Cross validation scores for labels  769  and  772 :  0.9777777777777779\n",
      "Cross validation scores for labels  770  and  771 :  0.9777777777777779\n",
      "Cross validation scores for labels  770  and  772 :  0.9194736842105264\n",
      "Cross validation scores for labels  771  and  772 :  0.8567251461988304\n",
      "Training accuracy:  0.8453038674033149\n",
      "Testing accuracy:  0.6555555555555556\n",
      "Cross validation scores for labels  769  and  770 :  0.9424836601307189\n",
      "Cross validation scores for labels  769  and  771 :  0.8875816993464053\n",
      "Cross validation scores for labels  769  and  772 :  0.9467836257309943\n",
      "Cross validation scores for labels  770  and  771 :  0.9154411764705882\n",
      "Cross validation scores for labels  770  and  772 :  0.8973856209150327\n",
      "Cross validation scores for labels  771  and  772 :  0.9326797385620915\n",
      "Training accuracy:  0.8579545454545454\n",
      "Testing accuracy:  0.6477272727272727\n",
      "Cross validation scores for labels  769  and  770 :  0.8504761904761905\n",
      "Cross validation scores for labels  769  and  771 :  0.8085714285714285\n",
      "Cross validation scores for labels  769  and  772 :  0.9333333333333333\n",
      "Cross validation scores for labels  770  and  771 :  0.8323529411764706\n",
      "Cross validation scores for labels  770  and  772 :  0.9058823529411765\n",
      "Cross validation scores for labels  771  and  772 :  0.8566176470588236\n",
      "Training accuracy:  0.7531645569620253\n",
      "Testing accuracy:  0.4936708860759494\n",
      "Cross validation scores for labels  769  and  770 :  0.901818181818182\n",
      "Cross validation scores for labels  769  and  771 :  0.96\n",
      "Cross validation scores for labels  769  and  772 :  0.9555555555555555\n",
      "Cross validation scores for labels  770  and  771 :  0.96\n",
      "Cross validation scores for labels  770  and  772 :  0.9800000000000001\n",
      "Cross validation scores for labels  771  and  772 :  0.8688888888888888\n",
      "Training accuracy:  0.898989898989899\n",
      "Testing accuracy:  0.82\n",
      "Cross validation scores for labels  769  and  770 :  0.9714285714285715\n",
      "Cross validation scores for labels  769  and  771 :  1.0\n",
      "Cross validation scores for labels  769  and  772 :  0.9266666666666667\n",
      "Cross validation scores for labels  770  and  771 :  1.0\n",
      "Cross validation scores for labels  770  and  772 :  0.9380952380952381\n",
      "Cross validation scores for labels  771  and  772 :  0.96\n",
      "Training accuracy:  0.9672131147540983\n",
      "Testing accuracy:  0.3548387096774194\n",
      "Cross validation scores for labels  769  and  770 :  0.9266666666666667\n",
      "Cross validation scores for labels  769  and  771 :  0.95\n",
      "Cross validation scores for labels  769  and  772 :  1.0\n",
      "Cross validation scores for labels  770  and  771 :  1.0\n",
      "Cross validation scores for labels  770  and  772 :  1.0\n",
      "Cross validation scores for labels  771  and  772 :  1.0\n",
      "Training accuracy:  0.9821428571428571\n",
      "Testing accuracy:  0.5\n",
      "Cross validation scores for labels  769  and  770 :  0.8202614379084968\n",
      "Cross validation scores for labels  769  and  771 :  0.9294736842105265\n",
      "Cross validation scores for labels  769  and  772 :  0.925\n",
      "Cross validation scores for labels  770  and  771 :  0.9209523809523809\n",
      "Cross validation scores for labels  770  and  772 :  0.9764705882352942\n",
      "Cross validation scores for labels  771  and  772 :  0.8163742690058479\n",
      "Training accuracy:  0.7637362637362637\n",
      "Testing accuracy:  0.6043956043956044\n",
      "Cross validation scores for labels  769  and  770 :  0.6065359477124184\n",
      "Cross validation scores for labels  769  and  771 :  0.8869281045751635\n",
      "Cross validation scores for labels  769  and  772 :  0.7797385620915032\n",
      "Cross validation scores for labels  770  and  771 :  0.8614035087719298\n",
      "Cross validation scores for labels  770  and  772 :  0.8\n",
      "Cross validation scores for labels  771  and  772 :  0.9005847953216375\n",
      "Training accuracy:  0.6722222222222223\n",
      "Testing accuracy:  0.5444444444444444\n",
      "Cross validation scores for labels  769  and  770 :  0.9362573099415205\n",
      "Cross validation scores for labels  769  and  771 :  0.8894736842105264\n",
      "Cross validation scores for labels  769  and  772 :  0.8980392156862745\n",
      "Cross validation scores for labels  770  and  771 :  0.9567251461988304\n",
      "Cross validation scores for labels  770  and  772 :  0.9264705882352942\n",
      "Cross validation scores for labels  771  and  772 :  0.8287581699346406\n",
      "Training accuracy:  0.7944444444444444\n",
      "Testing accuracy:  0.6444444444444445\n",
      "Cross validation scores for labels  769  and  770 :  0.8058823529411765\n",
      "Cross validation scores for labels  769  and  771 :  0.7248366013071895\n",
      "Cross validation scores for labels  769  and  772 :  0.7751633986928105\n",
      "Cross validation scores for labels  770  and  771 :  0.8019607843137255\n",
      "Cross validation scores for labels  770  and  772 :  0.6843137254901961\n",
      "Cross validation scores for labels  771  and  772 :  0.6830065359477124\n",
      "Training accuracy:  0.5771428571428572\n",
      "Testing accuracy:  0.3793103448275862\n",
      "Cross validation scores for labels  769  and  770 :  0.6627450980392157\n",
      "Cross validation scores for labels  769  and  771 :  0.6444444444444445\n",
      "Cross validation scores for labels  769  and  772 :  0.7313725490196079\n",
      "Cross validation scores for labels  770  and  771 :  0.6647058823529413\n",
      "Cross validation scores for labels  770  and  772 :  0.6248366013071895\n",
      "Cross validation scores for labels  771  and  772 :  0.6032679738562091\n",
      "Training accuracy:  0.46285714285714286\n",
      "Testing accuracy:  0.28735632183908044\n",
      "Cross validation scores for labels  769  and  770 :  0.7980952380952381\n",
      "Cross validation scores for labels  769  and  771 :  0.7723809523809523\n",
      "Cross validation scores for labels  769  and  772 :  0.7016666666666667\n",
      "Cross validation scores for labels  770  and  771 :  0.7384615384615385\n",
      "Cross validation scores for labels  770  and  772 :  0.72\n",
      "Cross validation scores for labels  771  and  772 :  0.7371428571428571\n",
      "Training accuracy:  0.5547945205479452\n",
      "Testing accuracy:  0.3835616438356164\n",
      "Cross validation scores for labels  769  and  770 :  0.8352631578947369\n",
      "Cross validation scores for labels  769  and  771 :  0.9272058823529411\n",
      "Cross validation scores for labels  769  and  772 :  0.967251461988304\n",
      "Cross validation scores for labels  770  and  771 :  0.977124183006536\n",
      "Cross validation scores for labels  770  and  772 :  0.9284210526315789\n",
      "Cross validation scores for labels  771  and  772 :  0.8117647058823529\n",
      "Training accuracy:  0.7790055248618785\n",
      "Testing accuracy:  0.7333333333333333\n",
      "Cross validation scores for labels  769  and  770 :  0.9666666666666666\n",
      "Cross validation scores for labels  769  and  771 :  0.8156862745098039\n",
      "Cross validation scores for labels  769  and  772 :  0.9294736842105262\n",
      "Cross validation scores for labels  770  and  771 :  0.9375\n",
      "Cross validation scores for labels  770  and  772 :  0.888888888888889\n",
      "Cross validation scores for labels  771  and  772 :  0.8856209150326798\n",
      "Training accuracy:  0.8181818181818182\n",
      "Testing accuracy:  0.7159090909090909\n",
      "Cross validation scores for labels  769  and  770 :  0.7875\n",
      "Cross validation scores for labels  769  and  771 :  0.8266666666666668\n",
      "Cross validation scores for labels  769  and  772 :  0.9866666666666667\n",
      "Cross validation scores for labels  770  and  771 :  0.7764705882352941\n",
      "Cross validation scores for labels  770  and  772 :  0.8691176470588236\n",
      "Cross validation scores for labels  771  and  772 :  0.8074999999999999\n",
      "Training accuracy:  0.7088607594936709\n",
      "Testing accuracy:  0.5443037974683544\n",
      "Cross validation scores for labels  769  and  770 :  0.9555555555555555\n",
      "Cross validation scores for labels  769  and  771 :  1.0\n",
      "Cross validation scores for labels  769  and  772 :  0.9577777777777777\n",
      "Cross validation scores for labels  770  and  771 :  1.0\n",
      "Cross validation scores for labels  770  and  772 :  0.96\n",
      "Cross validation scores for labels  771  and  772 :  0.9618181818181819\n"
     ]
    },
    {
     "name": "stdout",
     "output_type": "stream",
     "text": [
      "Training accuracy:  0.9494949494949495\n",
      "Testing accuracy:  0.8\n",
      "Cross validation scores for labels  769  and  770 :  0.9666666666666668\n",
      "Cross validation scores for labels  769  and  771 :  1.0\n",
      "Cross validation scores for labels  769  and  772 :  0.96\n",
      "Cross validation scores for labels  770  and  771 :  0.9714285714285715\n",
      "Cross validation scores for labels  770  and  772 :  0.9380952380952381\n",
      "Cross validation scores for labels  771  and  772 :  0.9666666666666668\n",
      "Training accuracy:  0.9508196721311475\n",
      "Testing accuracy:  0.6129032258064516\n",
      "Cross validation scores for labels  769  and  770 :  1.0\n",
      "Cross validation scores for labels  769  and  771 :  0.9266666666666667\n",
      "Cross validation scores for labels  769  and  772 :  0.9333333333333332\n",
      "Cross validation scores for labels  770  and  771 :  1.0\n",
      "Cross validation scores for labels  770  and  772 :  0.9333333333333332\n",
      "Cross validation scores for labels  771  and  772 :  0.8666666666666666\n",
      "Training accuracy:  0.9107142857142857\n",
      "Testing accuracy:  0.5714285714285714\n",
      "Cross validation scores for labels  769  and  770 :  0.819607843137255\n",
      "Cross validation scores for labels  769  and  771 :  0.9320261437908497\n",
      "Cross validation scores for labels  769  and  772 :  0.9653594771241829\n",
      "Cross validation scores for labels  770  and  771 :  0.9163157894736843\n",
      "Cross validation scores for labels  770  and  772 :  0.9789473684210526\n",
      "Cross validation scores for labels  771  and  772 :  0.8198830409356725\n",
      "Training accuracy:  0.7692307692307693\n",
      "Testing accuracy:  0.6263736263736264\n",
      "Cross validation scores for labels  769  and  770 :  0.7830409356725145\n",
      "Cross validation scores for labels  769  and  771 :  0.8705882352941178\n",
      "Cross validation scores for labels  769  and  772 :  0.788235294117647\n",
      "Cross validation scores for labels  770  and  771 :  0.9263157894736842\n",
      "Cross validation scores for labels  770  and  772 :  0.8105263157894737\n",
      "Cross validation scores for labels  771  and  772 :  0.9437908496732026\n",
      "Training accuracy:  0.7055555555555556\n",
      "Testing accuracy:  0.5888888888888889\n",
      "Cross validation scores for labels  769  and  770 :  0.9111111111111111\n",
      "Cross validation scores for labels  769  and  771 :  0.8894736842105262\n",
      "Cross validation scores for labels  769  and  772 :  0.8926470588235293\n",
      "Cross validation scores for labels  770  and  771 :  0.9384210526315788\n",
      "Cross validation scores for labels  770  and  772 :  0.9431372549019607\n",
      "Cross validation scores for labels  771  and  772 :  0.7856209150326798\n",
      "Training accuracy:  0.7833333333333333\n",
      "Testing accuracy:  0.7555555555555555\n",
      "Cross validation scores for labels  769  and  770 :  0.6699346405228759\n",
      "Cross validation scores for labels  769  and  771 :  0.6980392156862745\n",
      "Cross validation scores for labels  769  and  772 :  0.8382352941176471\n",
      "Cross validation scores for labels  770  and  771 :  0.7678362573099415\n",
      "Cross validation scores for labels  770  and  772 :  0.7215686274509803\n",
      "Cross validation scores for labels  771  and  772 :  0.7588235294117647\n",
      "Training accuracy:  0.5085714285714286\n",
      "Testing accuracy:  0.3448275862068966\n",
      "Cross validation scores for labels  769  and  770 :  0.6456140350877193\n",
      "Cross validation scores for labels  769  and  771 :  0.7573099415204678\n",
      "Cross validation scores for labels  769  and  772 :  0.7071895424836601\n",
      "Cross validation scores for labels  770  and  771 :  0.6496732026143792\n",
      "Cross validation scores for labels  770  and  772 :  0.726470588235294\n",
      "Cross validation scores for labels  771  and  772 :  0.6705882352941177\n",
      "Training accuracy:  0.48\n",
      "Testing accuracy:  0.28735632183908044\n",
      "Cross validation scores for labels  769  and  770 :  0.7272058823529411\n",
      "Cross validation scores for labels  769  and  771 :  0.8164835164835166\n",
      "Cross validation scores for labels  769  and  772 :  0.7283333333333333\n",
      "Cross validation scores for labels  770  and  771 :  0.7813186813186814\n",
      "Cross validation scores for labels  770  and  772 :  0.7625\n",
      "Cross validation scores for labels  771  and  772 :  0.7692307692307694\n",
      "Training accuracy:  0.5753424657534246\n",
      "Testing accuracy:  0.2876712328767123\n",
      "Cross validation scores for labels  769  and  770 :  0.8\n",
      "Cross validation scores for labels  769  and  771 :  0.956140350877193\n",
      "Cross validation scores for labels  769  and  772 :  0.9555555555555555\n",
      "Cross validation scores for labels  770  and  771 :  0.967251461988304\n",
      "Cross validation scores for labels  770  and  772 :  0.9777777777777779\n",
      "Cross validation scores for labels  771  and  772 :  0.8542105263157895\n",
      "Training accuracy:  0.8176795580110497\n",
      "Testing accuracy:  0.6888888888888889\n",
      "Cross validation scores for labels  769  and  770 :  0.967251461988304\n",
      "Cross validation scores for labels  769  and  771 :  0.8330882352941176\n",
      "Cross validation scores for labels  769  and  772 :  0.9333333333333333\n",
      "Cross validation scores for labels  770  and  771 :  0.9294117647058824\n",
      "Cross validation scores for labels  770  and  772 :  0.9017543859649123\n",
      "Cross validation scores for labels  771  and  772 :  0.9176470588235294\n",
      "Training accuracy:  0.8295454545454546\n",
      "Testing accuracy:  0.6818181818181818\n",
      "Cross validation scores for labels  769  and  770 :  0.8799999999999999\n",
      "Cross validation scores for labels  769  and  771 :  0.8457142857142858\n",
      "Cross validation scores for labels  769  and  772 :  0.9349999999999999\n",
      "Cross validation scores for labels  770  and  771 :  0.8632352941176471\n",
      "Cross validation scores for labels  770  and  772 :  0.8712418300653596\n",
      "Cross validation scores for labels  771  and  772 :  0.8764705882352942\n",
      "Training accuracy:  0.7531645569620253\n",
      "Testing accuracy:  0.5189873417721519\n",
      "Cross validation scores for labels  769  and  770 :  0.9777777777777779\n",
      "Cross validation scores for labels  769  and  771 :  0.9777777777777779\n",
      "Cross validation scores for labels  769  and  772 :  0.9400000000000001\n",
      "Cross validation scores for labels  770  and  771 :  0.9577777777777777\n",
      "Cross validation scores for labels  770  and  772 :  0.9454545454545455\n",
      "Cross validation scores for labels  771  and  772 :  0.9272727272727274\n",
      "Training accuracy:  0.9090909090909091\n",
      "Testing accuracy:  0.84\n",
      "Cross validation scores for labels  769  and  770 :  1.0\n",
      "Cross validation scores for labels  769  and  771 :  0.96\n",
      "Cross validation scores for labels  769  and  772 :  1.0\n",
      "Cross validation scores for labels  770  and  771 :  0.9714285714285715\n",
      "Cross validation scores for labels  770  and  772 :  0.9333333333333332\n",
      "Cross validation scores for labels  771  and  772 :  0.9666666666666668\n",
      "Training accuracy:  0.9508196721311475\n",
      "Testing accuracy:  0.41935483870967744\n",
      "Cross validation scores for labels  769  and  770 :  1.0\n",
      "Cross validation scores for labels  769  and  771 :  1.0\n",
      "Cross validation scores for labels  769  and  772 :  1.0\n",
      "Cross validation scores for labels  770  and  771 :  0.9714285714285715\n",
      "Cross validation scores for labels  770  and  772 :  0.9333333333333333\n",
      "Cross validation scores for labels  771  and  772 :  0.8380952380952381\n",
      "Training accuracy:  0.9642857142857143\n",
      "Testing accuracy:  0.5714285714285714\n",
      "Cross validation scores for labels  769  and  770 :  0.7807017543859649\n",
      "Cross validation scores for labels  769  and  771 :  0.8926470588235293\n",
      "Cross validation scores for labels  769  and  772 :  0.9263157894736842\n",
      "Cross validation scores for labels  770  and  771 :  0.9313725490196079\n",
      "Cross validation scores for labels  770  and  772 :  0.9694736842105263\n",
      "Cross validation scores for labels  771  and  772 :  0.8134502923976609\n",
      "Training accuracy:  0.7472527472527473\n",
      "Testing accuracy:  0.5824175824175825\n",
      "Cross validation scores for labels  769  and  770 :  0.7073684210526315\n",
      "Cross validation scores for labels  769  and  771 :  0.9373684210526315\n",
      "Cross validation scores for labels  769  and  772 :  0.6833333333333333\n",
      "Cross validation scores for labels  770  and  771 :  0.9375\n",
      "Cross validation scores for labels  770  and  772 :  0.7110294117647059\n",
      "Cross validation scores for labels  771  and  772 :  0.8919117647058823\n",
      "Training accuracy:  0.6555555555555556\n",
      "Testing accuracy:  0.4888888888888889\n",
      "Cross validation scores for labels  769  and  770 :  0.9200000000000002\n",
      "Cross validation scores for labels  769  and  771 :  0.9134502923976608\n",
      "Cross validation scores for labels  769  and  772 :  0.8935672514619883\n",
      "Cross validation scores for labels  770  and  771 :  0.919607843137255\n",
      "Cross validation scores for labels  770  and  772 :  0.9294117647058823\n",
      "Cross validation scores for labels  771  and  772 :  0.85\n"
     ]
    },
    {
     "name": "stdout",
     "output_type": "stream",
     "text": [
      "Training accuracy:  0.8111111111111111\n",
      "Testing accuracy:  0.7\n",
      "Cross validation scores for labels  769  and  770 :  0.7973856209150327\n",
      "Cross validation scores for labels  769  and  771 :  0.7830882352941175\n",
      "Cross validation scores for labels  769  and  772 :  0.7590643274853801\n",
      "Cross validation scores for labels  770  and  771 :  0.7279411764705882\n",
      "Cross validation scores for labels  770  and  772 :  0.6637426900584795\n",
      "Cross validation scores for labels  771  and  772 :  0.6039215686274509\n",
      "Training accuracy:  0.5714285714285714\n",
      "Testing accuracy:  0.3103448275862069\n",
      "Cross validation scores for labels  769  and  770 :  0.5764705882352941\n",
      "Cross validation scores for labels  769  and  771 :  0.6705882352941177\n",
      "Cross validation scores for labels  769  and  772 :  0.6431372549019608\n",
      "Cross validation scores for labels  770  and  771 :  0.5777777777777777\n",
      "Cross validation scores for labels  770  and  772 :  0.6666666666666667\n",
      "Cross validation scores for labels  771  and  772 :  0.5111111111111111\n",
      "Training accuracy:  0.41714285714285715\n",
      "Testing accuracy:  0.4367816091954023\n",
      "Cross validation scores for labels  769  and  770 :  0.8494505494505494\n",
      "Cross validation scores for labels  769  and  771 :  0.7274725274725274\n",
      "Cross validation scores for labels  769  and  772 :  0.7733333333333334\n",
      "Cross validation scores for labels  770  and  771 :  0.7895238095238095\n",
      "Cross validation scores for labels  770  and  772 :  0.7625\n",
      "Cross validation scores for labels  771  and  772 :  0.735\n",
      "Training accuracy:  0.5958904109589042\n",
      "Testing accuracy:  0.4931506849315068\n",
      "Cross validation scores for labels  769  and  770 :  0.8076023391812864\n",
      "Cross validation scores for labels  769  and  771 :  0.9894736842105264\n",
      "Cross validation scores for labels  769  and  772 :  0.9789473684210526\n",
      "Cross validation scores for labels  770  and  771 :  0.9647058823529413\n",
      "Cross validation scores for labels  770  and  772 :  0.9424836601307189\n",
      "Cross validation scores for labels  771  and  772 :  0.8627450980392156\n",
      "Training accuracy:  0.8342541436464088\n",
      "Testing accuracy:  0.6888888888888889\n",
      "Cross validation scores for labels  769  and  770 :  0.9307189542483659\n",
      "Cross validation scores for labels  769  and  771 :  0.8823529411764707\n",
      "Cross validation scores for labels  769  and  772 :  0.9228070175438596\n",
      "Cross validation scores for labels  770  and  771 :  0.9529411764705882\n",
      "Cross validation scores for labels  770  and  772 :  0.923391812865497\n",
      "Cross validation scores for labels  771  and  772 :  0.9333333333333333\n",
      "Training accuracy:  0.8636363636363636\n",
      "Testing accuracy:  0.6931818181818182\n",
      "Cross validation scores for labels  769  and  770 :  0.8\n",
      "Cross validation scores for labels  769  and  771 :  0.8733333333333334\n",
      "Cross validation scores for labels  769  and  772 :  0.9438095238095239\n",
      "Cross validation scores for labels  770  and  771 :  0.8117647058823529\n",
      "Cross validation scores for labels  770  and  772 :  0.9058823529411765\n",
      "Cross validation scores for labels  771  and  772 :  0.8441176470588235\n",
      "Training accuracy:  0.7468354430379747\n",
      "Testing accuracy:  0.4177215189873418\n",
      "Cross validation scores for labels  769  and  770 :  0.9577777777777777\n",
      "Cross validation scores for labels  769  and  771 :  0.9800000000000001\n",
      "Cross validation scores for labels  769  and  772 :  0.9377777777777776\n",
      "Cross validation scores for labels  770  and  771 :  0.9400000000000001\n",
      "Cross validation scores for labels  770  and  772 :  0.9399999999999998\n",
      "Cross validation scores for labels  771  and  772 :  0.9036363636363637\n",
      "Training accuracy:  0.9393939393939394\n",
      "Testing accuracy:  0.84\n",
      "Cross validation scores for labels  769  and  770 :  1.0\n",
      "Cross validation scores for labels  769  and  771 :  0.96\n",
      "Cross validation scores for labels  769  and  772 :  0.9095238095238095\n",
      "Cross validation scores for labels  770  and  771 :  1.0\n",
      "Cross validation scores for labels  770  and  772 :  0.9380952380952381\n",
      "Cross validation scores for labels  771  and  772 :  0.96\n",
      "Training accuracy:  0.9672131147540983\n",
      "Testing accuracy:  0.3870967741935484\n",
      "Cross validation scores for labels  769  and  770 :  1.0\n",
      "Cross validation scores for labels  769  and  771 :  1.0\n",
      "Cross validation scores for labels  769  and  772 :  1.0\n",
      "Cross validation scores for labels  770  and  771 :  1.0\n",
      "Cross validation scores for labels  770  and  772 :  0.96\n",
      "Cross validation scores for labels  771  and  772 :  0.9199999999999999\n",
      "Training accuracy:  1.0\n",
      "Testing accuracy:  0.4642857142857143\n",
      "Cross validation scores for labels  769  and  770 :  0.7684210526315789\n",
      "Cross validation scores for labels  769  and  771 :  0.8777777777777779\n",
      "Cross validation scores for labels  769  and  772 :  0.95359477124183\n",
      "Cross validation scores for labels  770  and  771 :  0.9052631578947368\n",
      "Cross validation scores for labels  770  and  772 :  0.9567251461988304\n",
      "Cross validation scores for labels  771  and  772 :  0.7816993464052288\n",
      "Training accuracy:  0.7307692307692307\n",
      "Testing accuracy:  0.6593406593406593\n",
      "Cross validation scores for labels  769  and  770 :  0.7286549707602339\n",
      "Cross validation scores for labels  769  and  771 :  0.8491228070175438\n",
      "Cross validation scores for labels  769  and  772 :  0.7713450292397661\n",
      "Cross validation scores for labels  770  and  771 :  0.9444444444444444\n",
      "Cross validation scores for labels  770  and  772 :  0.8045751633986928\n",
      "Cross validation scores for labels  771  and  772 :  0.8967320261437909\n",
      "Training accuracy:  0.6888888888888889\n",
      "Testing accuracy:  0.5555555555555556\n",
      "Cross validation scores for labels  769  and  770 :  0.918954248366013\n",
      "Cross validation scores for labels  769  and  771 :  0.8718954248366014\n",
      "Cross validation scores for labels  769  and  772 :  0.9222222222222222\n",
      "Cross validation scores for labels  770  and  771 :  0.9444444444444444\n",
      "Cross validation scores for labels  770  and  772 :  0.9789473684210528\n",
      "Cross validation scores for labels  771  and  772 :  0.8163742690058479\n",
      "Training accuracy:  0.8\n",
      "Testing accuracy:  0.7222222222222222\n",
      "Cross validation scores for labels  769  and  770 :  0.725\n",
      "Cross validation scores for labels  769  and  771 :  0.7239766081871345\n",
      "Cross validation scores for labels  769  and  772 :  0.6912280701754386\n",
      "Cross validation scores for labels  770  and  771 :  0.8205882352941176\n",
      "Cross validation scores for labels  770  and  772 :  0.8205882352941177\n",
      "Cross validation scores for labels  771  and  772 :  0.7719298245614035\n",
      "Training accuracy:  0.5485714285714286\n",
      "Testing accuracy:  0.39080459770114945\n",
      "Cross validation scores for labels  769  and  770 :  0.5720588235294117\n",
      "Cross validation scores for labels  769  and  771 :  0.6847953216374268\n",
      "Cross validation scores for labels  769  and  772 :  0.7397058823529411\n",
      "Cross validation scores for labels  770  and  771 :  0.607017543859649\n",
      "Cross validation scores for labels  770  and  772 :  0.6985294117647058\n",
      "Cross validation scores for labels  771  and  772 :  0.704093567251462\n",
      "Training accuracy:  0.4342857142857143\n",
      "Testing accuracy:  0.3103448275862069\n",
      "Cross validation scores for labels  769  and  770 :  0.7066666666666668\n",
      "Cross validation scores for labels  769  and  771 :  0.7500000000000001\n",
      "Cross validation scores for labels  769  and  772 :  0.740952380952381\n",
      "Cross validation scores for labels  770  and  771 :  0.7933333333333333\n",
      "Cross validation scores for labels  770  and  772 :  0.742483660130719\n",
      "Cross validation scores for labels  771  and  772 :  0.7876190476190477\n",
      "Training accuracy:  0.541095890410959\n",
      "Testing accuracy:  0.3835616438356164\n",
      "Cross validation scores for labels  769  and  770 :  0.8352941176470587\n",
      "Cross validation scores for labels  769  and  771 :  0.9507352941176471\n",
      "Cross validation scores for labels  769  and  772 :  0.967251461988304\n",
      "Cross validation scores for labels  770  and  771 :  0.9660130718954247\n",
      "Cross validation scores for labels  770  and  772 :  0.95\n",
      "Cross validation scores for labels  771  and  772 :  0.8536842105263158\n",
      "Training accuracy:  0.8232044198895028\n",
      "Testing accuracy:  0.7\n",
      "Cross validation scores for labels  769  and  770 :  0.9639705882352942\n",
      "Cross validation scores for labels  769  and  771 :  0.8627450980392158\n",
      "Cross validation scores for labels  769  and  772 :  0.8973856209150327\n",
      "Cross validation scores for labels  770  and  771 :  0.9326797385620915\n",
      "Cross validation scores for labels  770  and  772 :  0.888888888888889\n",
      "Cross validation scores for labels  771  and  772 :  0.9345029239766081\n"
     ]
    },
    {
     "name": "stdout",
     "output_type": "stream",
     "text": [
      "Training accuracy:  0.8409090909090909\n",
      "Testing accuracy:  0.6477272727272727\n",
      "Cross validation scores for labels  769  and  770 :  0.8433823529411765\n",
      "Cross validation scores for labels  769  and  771 :  0.86\n",
      "Cross validation scores for labels  769  and  772 :  0.9866666666666667\n",
      "Cross validation scores for labels  770  and  771 :  0.8066176470588236\n",
      "Cross validation scores for labels  770  and  772 :  0.8866666666666667\n",
      "Cross validation scores for labels  771  and  772 :  0.8691666666666669\n",
      "Training accuracy:  0.7784810126582279\n",
      "Testing accuracy:  0.5063291139240507\n",
      "Cross validation scores for labels  769  and  770 :  0.9199999999999999\n",
      "Cross validation scores for labels  769  and  771 :  0.9618181818181817\n",
      "Cross validation scores for labels  769  and  772 :  0.9400000000000001\n",
      "Cross validation scores for labels  770  and  771 :  0.9800000000000001\n",
      "Cross validation scores for labels  770  and  772 :  0.9577777777777777\n",
      "Cross validation scores for labels  771  and  772 :  0.8818181818181818\n",
      "Training accuracy:  0.8787878787878788\n",
      "Testing accuracy:  0.88\n",
      "Cross validation scores for labels  769  and  770 :  0.9666666666666666\n",
      "Cross validation scores for labels  769  and  771 :  0.9666666666666668\n",
      "Cross validation scores for labels  769  and  772 :  1.0\n",
      "Cross validation scores for labels  770  and  771 :  0.9095238095238095\n",
      "Cross validation scores for labels  770  and  772 :  0.9666666666666668\n",
      "Cross validation scores for labels  771  and  772 :  0.9666666666666666\n",
      "Training accuracy:  0.9672131147540983\n",
      "Testing accuracy:  0.5161290322580645\n",
      "Cross validation scores for labels  769  and  770 :  0.95\n",
      "Cross validation scores for labels  769  and  771 :  0.9666666666666668\n",
      "Cross validation scores for labels  769  and  772 :  1.0\n",
      "Cross validation scores for labels  770  and  771 :  0.9714285714285715\n",
      "Cross validation scores for labels  770  and  772 :  0.9333333333333332\n",
      "Cross validation scores for labels  771  and  772 :  0.9047619047619048\n",
      "Training accuracy:  0.9464285714285714\n",
      "Testing accuracy:  0.5714285714285714\n",
      "Cross validation scores for labels  769  and  770 :  0.8152631578947368\n",
      "Cross validation scores for labels  769  and  771 :  0.9023391812865496\n",
      "Cross validation scores for labels  769  and  772 :  0.9279411764705883\n",
      "Cross validation scores for labels  770  and  771 :  0.9304761904761903\n",
      "Cross validation scores for labels  770  and  772 :  0.9888888888888889\n",
      "Cross validation scores for labels  771  and  772 :  0.7411764705882353\n",
      "Training accuracy:  0.7252747252747253\n",
      "Testing accuracy:  0.6263736263736264\n",
      "Cross validation scores for labels  769  and  770 :  0.6908496732026144\n",
      "Cross validation scores for labels  769  and  771 :  0.8960784313725491\n",
      "Cross validation scores for labels  769  and  772 :  0.730718954248366\n",
      "Cross validation scores for labels  770  and  771 :  0.9228070175438596\n",
      "Cross validation scores for labels  770  and  772 :  0.7444444444444445\n",
      "Cross validation scores for labels  771  and  772 :  0.9146198830409358\n",
      "Training accuracy:  0.6722222222222223\n",
      "Testing accuracy:  0.5444444444444444\n",
      "Cross validation scores for labels  769  and  770 :  0.941830065359477\n",
      "Cross validation scores for labels  769  and  771 :  0.918954248366013\n",
      "Cross validation scores for labels  769  and  772 :  0.9278947368421052\n",
      "Cross validation scores for labels  770  and  771 :  0.9522058823529411\n",
      "Cross validation scores for labels  770  and  772 :  0.9257309941520468\n",
      "Cross validation scores for labels  771  and  772 :  0.8169590643274856\n",
      "Training accuracy:  0.8055555555555556\n",
      "Testing accuracy:  0.7333333333333333\n",
      "Cross validation scores for labels  769  and  770 :  0.8016666666666665\n",
      "Cross validation scores for labels  769  and  771 :  0.7294117647058824\n",
      "Cross validation scores for labels  769  and  772 :  0.7044117647058823\n",
      "Cross validation scores for labels  770  and  771 :  0.7654970760233917\n",
      "Cross validation scores for labels  770  and  772 :  0.7222222222222222\n",
      "Cross validation scores for labels  771  and  772 :  0.7073684210526316\n",
      "Training accuracy:  0.5542857142857143\n",
      "Testing accuracy:  0.40229885057471265\n",
      "Cross validation scores for labels  769  and  770 :  0.6078431372549019\n",
      "Cross validation scores for labels  769  and  771 :  0.7398692810457517\n",
      "Cross validation scores for labels  769  and  772 :  0.7294117647058823\n",
      "Cross validation scores for labels  770  and  771 :  0.7\n",
      "Cross validation scores for labels  770  and  772 :  0.6418300653594771\n",
      "Cross validation scores for labels  771  and  772 :  0.6647058823529411\n",
      "Training accuracy:  0.4742857142857143\n",
      "Testing accuracy:  0.27586206896551724\n",
      "Cross validation scores for labels  769  and  770 :  0.7966666666666667\n",
      "Cross validation scores for labels  769  and  771 :  0.810989010989011\n",
      "Cross validation scores for labels  769  and  772 :  0.6933333333333334\n",
      "Cross validation scores for labels  770  and  771 :  0.676923076923077\n",
      "Cross validation scores for labels  770  and  772 :  0.6883333333333334\n",
      "Cross validation scores for labels  771  and  772 :  0.7835164835164836\n",
      "Training accuracy:  0.5547945205479452\n",
      "Testing accuracy:  0.410958904109589\n",
      "Cross validation scores for labels  769  and  770 :  0.8607843137254904\n",
      "Cross validation scores for labels  769  and  771 :  0.9307189542483659\n",
      "Cross validation scores for labels  769  and  772 :  0.9709523809523809\n",
      "Cross validation scores for labels  770  and  771 :  0.95\n",
      "Cross validation scores for labels  770  and  772 :  0.935672514619883\n",
      "Cross validation scores for labels  771  and  772 :  0.8935672514619883\n",
      "Training accuracy:  0.8453038674033149\n",
      "Testing accuracy:  0.6222222222222222\n",
      "Cross validation scores for labels  769  and  770 :  0.967251461988304\n",
      "Cross validation scores for labels  769  and  771 :  0.8536764705882354\n",
      "Cross validation scores for labels  769  and  772 :  0.95359477124183\n",
      "Cross validation scores for labels  770  and  771 :  0.9437908496732026\n",
      "Cross validation scores for labels  770  and  772 :  0.8947368421052632\n",
      "Cross validation scores for labels  771  and  772 :  0.9514705882352942\n",
      "Training accuracy:  0.875\n",
      "Testing accuracy:  0.7045454545454546\n",
      "Cross validation scores for labels  769  and  770 :  0.8566666666666667\n",
      "Cross validation scores for labels  769  and  771 :  0.7847619047619048\n",
      "Cross validation scores for labels  769  and  772 :  0.9882352941176471\n",
      "Cross validation scores for labels  770  and  771 :  0.7891666666666667\n",
      "Cross validation scores for labels  770  and  772 :  0.8470588235294118\n",
      "Cross validation scores for labels  771  and  772 :  0.8169117647058822\n",
      "Training accuracy:  0.7215189873417721\n",
      "Testing accuracy:  0.5443037974683544\n",
      "Cross validation scores for labels  769  and  770 :  0.9218181818181819\n",
      "Cross validation scores for labels  769  and  771 :  0.9777777777777779\n",
      "Cross validation scores for labels  769  and  772 :  0.9618181818181819\n",
      "Cross validation scores for labels  770  and  771 :  0.9777777777777779\n",
      "Cross validation scores for labels  770  and  772 :  0.9636363636363636\n",
      "Cross validation scores for labels  771  and  772 :  0.8733333333333334\n",
      "Training accuracy:  0.898989898989899\n",
      "Testing accuracy:  0.8\n",
      "Cross validation scores for labels  769  and  770 :  0.9666666666666668\n",
      "Cross validation scores for labels  769  and  771 :  1.0\n",
      "Cross validation scores for labels  769  and  772 :  0.9666666666666668\n",
      "Cross validation scores for labels  770  and  771 :  1.0\n",
      "Cross validation scores for labels  770  and  772 :  0.9666666666666666\n",
      "Cross validation scores for labels  771  and  772 :  1.0\n",
      "Training accuracy:  0.9836065573770492\n",
      "Testing accuracy:  0.45161290322580644\n",
      "Cross validation scores for labels  769  and  770 :  1.0\n",
      "Cross validation scores for labels  769  and  771 :  0.96\n",
      "Cross validation scores for labels  769  and  772 :  1.0\n",
      "Cross validation scores for labels  770  and  771 :  1.0\n",
      "Cross validation scores for labels  770  and  772 :  0.8714285714285713\n",
      "Cross validation scores for labels  771  and  772 :  1.0\n",
      "Training accuracy:  0.9642857142857143\n",
      "Testing accuracy:  0.6428571428571429\n",
      "Cross validation scores for labels  769  and  770 :  0.8263157894736842\n",
      "Cross validation scores for labels  769  and  771 :  0.9\n",
      "Cross validation scores for labels  769  and  772 :  0.9111111111111111\n",
      "Cross validation scores for labels  770  and  771 :  0.9461988304093568\n",
      "Cross validation scores for labels  770  and  772 :  0.9757352941176471\n",
      "Cross validation scores for labels  771  and  772 :  0.7875816993464052\n",
      "Training accuracy:  0.7692307692307693\n",
      "Testing accuracy:  0.6043956043956044\n",
      "Cross validation scores for labels  769  and  770 :  0.6736842105263158\n"
     ]
    },
    {
     "name": "stdout",
     "output_type": "stream",
     "text": [
      "Cross validation scores for labels  769  and  771 :  0.9279411764705883\n",
      "Cross validation scores for labels  769  and  772 :  0.7432748538011695\n",
      "Cross validation scores for labels  770  and  771 :  0.9196078431372549\n",
      "Cross validation scores for labels  770  and  772 :  0.8221052631578948\n",
      "Cross validation scores for labels  771  and  772 :  0.9176470588235294\n",
      "Training accuracy:  0.65\n",
      "Testing accuracy:  0.5888888888888889\n",
      "Cross validation scores for labels  769  and  770 :  0.9222222222222222\n",
      "Cross validation scores for labels  769  and  771 :  0.9044117647058825\n",
      "Cross validation scores for labels  769  and  772 :  0.9209150326797385\n",
      "Cross validation scores for labels  770  and  771 :  0.9456140350877194\n",
      "Cross validation scores for labels  770  and  772 :  0.9378947368421052\n",
      "Cross validation scores for labels  771  and  772 :  0.85359477124183\n",
      "Training accuracy:  0.8111111111111111\n",
      "Testing accuracy:  0.7222222222222222\n",
      "Cross validation scores for labels  769  and  770 :  0.7463235294117647\n",
      "Cross validation scores for labels  769  and  771 :  0.724264705882353\n",
      "Cross validation scores for labels  769  and  772 :  0.8294117647058823\n",
      "Cross validation scores for labels  770  and  771 :  0.7261437908496732\n",
      "Cross validation scores for labels  770  and  772 :  0.6970760233918127\n",
      "Cross validation scores for labels  771  and  772 :  0.6982456140350878\n",
      "Training accuracy:  0.5828571428571429\n",
      "Testing accuracy:  0.4367816091954023\n",
      "Cross validation scores for labels  769  and  770 :  0.6150326797385621\n",
      "Cross validation scores for labels  769  and  771 :  0.5492647058823529\n",
      "Cross validation scores for labels  769  and  772 :  0.6888888888888889\n",
      "Cross validation scores for labels  770  and  771 :  0.6477124183006536\n",
      "Cross validation scores for labels  770  and  772 :  0.6830409356725146\n",
      "Cross validation scores for labels  771  and  772 :  0.5712418300653594\n",
      "Training accuracy:  0.46285714285714286\n",
      "Testing accuracy:  0.41379310344827586\n",
      "Cross validation scores for labels  769  and  770 :  0.765\n",
      "Cross validation scores for labels  769  and  771 :  0.7933333333333333\n",
      "Cross validation scores for labels  769  and  772 :  0.6875\n",
      "Cross validation scores for labels  770  and  771 :  0.7241758241758243\n",
      "Cross validation scores for labels  770  and  772 :  0.8104761904761905\n",
      "Cross validation scores for labels  771  and  772 :  0.7714285714285716\n",
      "Training accuracy:  0.5547945205479452\n",
      "Testing accuracy:  0.3287671232876712\n",
      "Cross validation scores for labels  769  and  770 :  0.8444444444444444\n",
      "Cross validation scores for labels  769  and  771 :  0.9125\n",
      "Cross validation scores for labels  769  and  772 :  0.9589473684210527\n",
      "Cross validation scores for labels  770  and  771 :  0.9764705882352942\n",
      "Cross validation scores for labels  770  and  772 :  0.9400000000000001\n",
      "Cross validation scores for labels  771  and  772 :  0.8467836257309942\n",
      "Training accuracy:  0.8066298342541437\n",
      "Testing accuracy:  0.7222222222222222\n",
      "Cross validation scores for labels  769  and  770 :  0.977124183006536\n",
      "Cross validation scores for labels  769  and  771 :  0.8404411764705882\n",
      "Cross validation scores for labels  769  and  772 :  0.9437908496732026\n",
      "Cross validation scores for labels  770  and  771 :  0.877124183006536\n",
      "Cross validation scores for labels  770  and  772 :  0.9263157894736842\n",
      "Cross validation scores for labels  771  and  772 :  0.9111111111111112\n",
      "Training accuracy:  0.8579545454545454\n",
      "Testing accuracy:  0.7613636363636364\n",
      "Cross validation scores for labels  769  and  770 :  0.8176470588235294\n",
      "Cross validation scores for labels  769  and  771 :  0.7908333333333333\n",
      "Cross validation scores for labels  769  and  772 :  0.9625\n",
      "Cross validation scores for labels  770  and  771 :  0.8522058823529411\n",
      "Cross validation scores for labels  770  and  772 :  0.8404411764705882\n",
      "Cross validation scores for labels  771  and  772 :  0.8574999999999999\n",
      "Training accuracy:  0.7341772151898734\n",
      "Testing accuracy:  0.5063291139240507\n",
      "Cross validation scores for labels  769  and  770 :  0.9800000000000001\n",
      "Cross validation scores for labels  769  and  771 :  0.9800000000000001\n",
      "Cross validation scores for labels  769  and  772 :  0.96\n",
      "Cross validation scores for labels  770  and  771 :  1.0\n",
      "Cross validation scores for labels  770  and  772 :  0.9577777777777777\n",
      "Cross validation scores for labels  771  and  772 :  0.8436363636363635\n",
      "Training accuracy:  0.8888888888888888\n",
      "Testing accuracy:  0.8\n",
      "Cross validation scores for labels  769  and  770 :  1.0\n",
      "Cross validation scores for labels  769  and  771 :  1.0\n",
      "Cross validation scores for labels  769  and  772 :  0.96\n",
      "Cross validation scores for labels  770  and  771 :  1.0\n",
      "Cross validation scores for labels  770  and  772 :  0.9380952380952381\n",
      "Cross validation scores for labels  771  and  772 :  0.96\n",
      "Training accuracy:  0.9672131147540983\n",
      "Testing accuracy:  0.3225806451612903\n",
      "Cross validation scores for labels  769  and  770 :  0.9666666666666666\n",
      "Cross validation scores for labels  769  and  771 :  0.96\n",
      "Cross validation scores for labels  769  and  772 :  0.9199999999999999\n",
      "Cross validation scores for labels  770  and  771 :  0.9666666666666666\n",
      "Cross validation scores for labels  770  and  772 :  0.9333333333333333\n",
      "Cross validation scores for labels  771  and  772 :  0.96\n",
      "Training accuracy:  0.9107142857142857\n",
      "Testing accuracy:  0.4642857142857143\n",
      "Cross validation scores for labels  769  and  770 :  0.8631578947368421\n",
      "Cross validation scores for labels  769  and  771 :  0.9350877192982455\n",
      "Cross validation scores for labels  769  and  772 :  0.9444444444444444\n",
      "Cross validation scores for labels  770  and  771 :  0.9444444444444443\n",
      "Cross validation scores for labels  770  and  772 :  0.9549019607843137\n",
      "Cross validation scores for labels  771  and  772 :  0.7928104575163399\n",
      "Training accuracy:  0.8186813186813187\n",
      "Testing accuracy:  0.6153846153846154\n",
      "Cross validation scores for labels  769  and  770 :  0.7294117647058823\n",
      "Cross validation scores for labels  769  and  771 :  0.9411764705882352\n",
      "Cross validation scores for labels  769  and  772 :  0.7411764705882353\n",
      "Cross validation scores for labels  770  and  771 :  0.9368421052631579\n",
      "Cross validation scores for labels  770  and  772 :  0.7936842105263157\n",
      "Cross validation scores for labels  771  and  772 :  0.9052631578947368\n",
      "Training accuracy:  0.7166666666666667\n",
      "Testing accuracy:  0.5444444444444444\n",
      "Cross validation scores for labels  769  and  770 :  0.9647058823529411\n",
      "Cross validation scores for labels  769  and  771 :  0.8516339869281044\n",
      "Cross validation scores for labels  769  and  772 :  0.8963157894736842\n",
      "Cross validation scores for labels  770  and  771 :  0.8941176470588236\n",
      "Cross validation scores for labels  770  and  772 :  0.905263157894737\n",
      "Cross validation scores for labels  771  and  772 :  0.7789473684210526\n",
      "Training accuracy:  0.7444444444444445\n",
      "Testing accuracy:  0.7333333333333333\n",
      "Cross validation scores for labels  769  and  770 :  0.7847953216374268\n",
      "Cross validation scores for labels  769  and  771 :  0.7867647058823529\n",
      "Cross validation scores for labels  769  and  772 :  0.6980392156862746\n",
      "Cross validation scores for labels  770  and  771 :  0.8098039215686275\n",
      "Cross validation scores for labels  770  and  772 :  0.704093567251462\n",
      "Cross validation scores for labels  771  and  772 :  0.6970588235294117\n",
      "Training accuracy:  0.5942857142857143\n",
      "Testing accuracy:  0.1839080459770115\n",
      "Cross validation scores for labels  769  and  770 :  0.6385964912280702\n",
      "Cross validation scores for labels  769  and  771 :  0.6823529411764706\n",
      "Cross validation scores for labels  769  and  772 :  0.7029239766081872\n",
      "Cross validation scores for labels  770  and  771 :  0.6897058823529412\n",
      "Cross validation scores for labels  770  and  772 :  0.7333333333333334\n",
      "Cross validation scores for labels  771  and  772 :  0.6801470588235293\n",
      "Training accuracy:  0.4857142857142857\n",
      "Testing accuracy:  0.3563218390804598\n",
      "Cross validation scores for labels  769  and  770 :  0.8171428571428571\n",
      "Cross validation scores for labels  769  and  771 :  0.7523809523809524\n",
      "Cross validation scores for labels  769  and  772 :  0.7580952380952382\n",
      "Cross validation scores for labels  770  and  771 :  0.819047619047619\n",
      "Cross validation scores for labels  770  and  772 :  0.8095238095238095\n",
      "Cross validation scores for labels  771  and  772 :  0.8\n"
     ]
    },
    {
     "name": "stdout",
     "output_type": "stream",
     "text": [
      "Training accuracy:  0.6575342465753424\n",
      "Testing accuracy:  0.3150684931506849\n",
      "Cross validation scores for labels  769  and  770 :  0.7869281045751635\n",
      "Cross validation scores for labels  769  and  771 :  0.9529411764705884\n",
      "Cross validation scores for labels  769  and  772 :  0.9783625730994151\n",
      "Cross validation scores for labels  770  and  771 :  0.9777777777777779\n",
      "Cross validation scores for labels  770  and  772 :  0.9578947368421051\n",
      "Cross validation scores for labels  771  and  772 :  0.8818713450292396\n",
      "Training accuracy:  0.8176795580110497\n",
      "Testing accuracy:  0.6555555555555556\n",
      "Cross validation scores for labels  769  and  770 :  0.9764705882352942\n",
      "Cross validation scores for labels  769  and  771 :  0.8889705882352942\n",
      "Cross validation scores for labels  769  and  772 :  0.9437908496732026\n",
      "Cross validation scores for labels  770  and  771 :  0.9424836601307188\n",
      "Cross validation scores for labels  770  and  772 :  0.9052631578947368\n",
      "Cross validation scores for labels  771  and  772 :  0.9228070175438596\n",
      "Training accuracy:  0.875\n",
      "Testing accuracy:  0.7727272727272727\n",
      "Cross validation scores for labels  769  and  770 :  0.8025\n",
      "Cross validation scores for labels  769  and  771 :  0.8625\n",
      "Cross validation scores for labels  769  and  772 :  0.9176470588235294\n",
      "Cross validation scores for labels  770  and  771 :  0.8371428571428572\n",
      "Cross validation scores for labels  770  and  772 :  0.8833333333333332\n",
      "Cross validation scores for labels  771  and  772 :  0.8536764705882354\n",
      "Training accuracy:  0.7658227848101266\n",
      "Testing accuracy:  0.4430379746835443\n",
      "Cross validation scores for labels  769  and  770 :  0.8977777777777778\n",
      "Cross validation scores for labels  769  and  771 :  0.9800000000000001\n",
      "Cross validation scores for labels  769  and  772 :  0.9800000000000001\n",
      "Cross validation scores for labels  770  and  771 :  1.0\n",
      "Cross validation scores for labels  770  and  772 :  0.9800000000000001\n",
      "Cross validation scores for labels  771  and  772 :  0.8399999999999999\n",
      "Training accuracy:  0.9090909090909091\n",
      "Testing accuracy:  0.86\n",
      "Cross validation scores for labels  769  and  770 :  0.9714285714285715\n",
      "Cross validation scores for labels  769  and  771 :  1.0\n",
      "Cross validation scores for labels  769  and  772 :  0.9199999999999999\n",
      "Cross validation scores for labels  770  and  771 :  0.9666666666666668\n",
      "Cross validation scores for labels  770  and  772 :  0.9666666666666668\n",
      "Cross validation scores for labels  771  and  772 :  0.9666666666666668\n",
      "Training accuracy:  0.9180327868852459\n",
      "Testing accuracy:  0.5806451612903226\n",
      "Cross validation scores for labels  769  and  770 :  0.8933333333333333\n",
      "Cross validation scores for labels  769  and  771 :  0.96\n",
      "Cross validation scores for labels  769  and  772 :  0.9333333333333333\n",
      "Cross validation scores for labels  770  and  771 :  0.9666666666666668\n",
      "Cross validation scores for labels  770  and  772 :  0.9428571428571428\n",
      "Cross validation scores for labels  771  and  772 :  0.9333333333333333\n",
      "Training accuracy:  0.8928571428571429\n",
      "Testing accuracy:  0.42857142857142855\n",
      "Cross validation scores for labels  769  and  770 :  0.7529411764705882\n",
      "Cross validation scores for labels  769  and  771 :  0.923391812865497\n",
      "Cross validation scores for labels  769  and  772 :  0.9450292397660819\n",
      "Cross validation scores for labels  770  and  771 :  0.9345029239766081\n",
      "Cross validation scores for labels  770  and  772 :  0.9666666666666666\n",
      "Cross validation scores for labels  771  and  772 :  0.711111111111111\n",
      "Training accuracy:  0.7197802197802198\n",
      "Testing accuracy:  0.5824175824175825\n",
      "Cross validation scores for labels  769  and  770 :  0.673202614379085\n",
      "Cross validation scores for labels  769  and  771 :  0.8758169934640522\n",
      "Cross validation scores for labels  769  and  772 :  0.8026315789473685\n",
      "Cross validation scores for labels  770  and  771 :  0.9294117647058823\n",
      "Cross validation scores for labels  770  and  772 :  0.7690058479532164\n",
      "Cross validation scores for labels  771  and  772 :  0.8812865497076023\n",
      "Training accuracy:  0.6388888888888888\n",
      "Testing accuracy:  0.6444444444444445\n",
      "Cross validation scores for labels  769  and  770 :  0.9239766081871345\n",
      "Cross validation scores for labels  769  and  771 :  0.8823529411764707\n",
      "Cross validation scores for labels  769  and  772 :  0.9111111111111111\n",
      "Cross validation scores for labels  770  and  771 :  0.9555555555555555\n",
      "Cross validation scores for labels  770  and  772 :  0.9368421052631579\n",
      "Cross validation scores for labels  771  and  772 :  0.8045751633986928\n",
      "Training accuracy:  0.8166666666666667\n",
      "Testing accuracy:  0.7555555555555555\n",
      "Cross validation scores for labels  769  and  770 :  0.8235294117647058\n",
      "Cross validation scores for labels  769  and  771 :  0.7666666666666666\n",
      "Cross validation scores for labels  769  and  772 :  0.7941520467836257\n",
      "Cross validation scores for labels  770  and  771 :  0.8301470588235293\n",
      "Cross validation scores for labels  770  and  772 :  0.6633986928104576\n",
      "Cross validation scores for labels  771  and  772 :  0.6777777777777777\n",
      "Training accuracy:  0.5714285714285714\n",
      "Testing accuracy:  0.367816091954023\n",
      "Cross validation scores for labels  769  and  770 :  0.5985294117647059\n",
      "Cross validation scores for labels  769  and  771 :  0.6928104575163399\n",
      "Cross validation scores for labels  769  and  772 :  0.6970760233918128\n",
      "Cross validation scores for labels  770  and  771 :  0.6338235294117647\n",
      "Cross validation scores for labels  770  and  772 :  0.7006535947712419\n",
      "Cross validation scores for labels  771  and  772 :  0.6877192982456141\n",
      "Training accuracy:  0.4857142857142857\n",
      "Testing accuracy:  0.3103448275862069\n",
      "Cross validation scores for labels  769  and  770 :  0.7458333333333333\n",
      "Cross validation scores for labels  769  and  771 :  0.8066666666666666\n",
      "Cross validation scores for labels  769  and  772 :  0.7676190476190476\n",
      "Cross validation scores for labels  770  and  771 :  0.8638095238095238\n",
      "Cross validation scores for labels  770  and  772 :  0.7980952380952381\n",
      "Cross validation scores for labels  771  and  772 :  0.7758241758241758\n",
      "Training accuracy:  0.6301369863013698\n",
      "Testing accuracy:  0.3150684931506849\n",
      "Cross validation scores for labels  769  and  770 :  0.7509803921568627\n",
      "Cross validation scores for labels  769  and  771 :  0.9473684210526315\n",
      "Cross validation scores for labels  769  and  772 :  0.9888888888888889\n",
      "Cross validation scores for labels  770  and  771 :  0.9333333333333332\n",
      "Cross validation scores for labels  770  and  772 :  0.941830065359477\n",
      "Cross validation scores for labels  771  and  772 :  0.8707602339181287\n",
      "Training accuracy:  0.8066298342541437\n",
      "Testing accuracy:  0.6\n",
      "Cross validation scores for labels  769  and  770 :  0.9339181286549707\n",
      "Cross validation scores for labels  769  and  771 :  0.9036764705882353\n",
      "Cross validation scores for labels  769  and  772 :  0.9202614379084967\n",
      "Cross validation scores for labels  770  and  771 :  0.9437908496732026\n",
      "Cross validation scores for labels  770  and  772 :  0.9146198830409358\n",
      "Cross validation scores for labels  771  and  772 :  0.9176470588235294\n",
      "Training accuracy:  0.8693181818181818\n",
      "Testing accuracy:  0.7386363636363636\n",
      "Cross validation scores for labels  769  and  770 :  0.8166666666666668\n",
      "Cross validation scores for labels  769  and  771 :  0.8761904761904761\n",
      "Cross validation scores for labels  769  and  772 :  0.9491666666666667\n",
      "Cross validation scores for labels  770  and  771 :  0.8474999999999999\n",
      "Cross validation scores for labels  770  and  772 :  0.8398692810457516\n",
      "Cross validation scores for labels  771  and  772 :  0.8764705882352942\n",
      "Training accuracy:  0.7468354430379747\n",
      "Testing accuracy:  0.6075949367088608\n",
      "Cross validation scores for labels  769  and  770 :  0.9333333333333332\n",
      "Cross validation scores for labels  769  and  771 :  0.9800000000000001\n",
      "Cross validation scores for labels  769  and  772 :  0.9333333333333332\n",
      "Cross validation scores for labels  770  and  771 :  1.0\n",
      "Cross validation scores for labels  770  and  772 :  0.9618181818181817\n",
      "Cross validation scores for labels  771  and  772 :  0.9254545454545455\n",
      "Training accuracy:  0.9090909090909091\n",
      "Testing accuracy:  0.8\n",
      "Cross validation scores for labels  769  and  770 :  0.9666666666666668\n",
      "Cross validation scores for labels  769  and  771 :  0.9333333333333333\n",
      "Cross validation scores for labels  769  and  772 :  1.0\n",
      "Cross validation scores for labels  770  and  771 :  1.0\n",
      "Cross validation scores for labels  770  and  772 :  0.9666666666666668\n",
      "Cross validation scores for labels  771  and  772 :  0.9666666666666666\n",
      "Training accuracy:  0.9508196721311475\n",
      "Testing accuracy:  0.45161290322580644\n"
     ]
    },
    {
     "name": "stdout",
     "output_type": "stream",
     "text": [
      "Cross validation scores for labels  769  and  770 :  0.9666666666666666\n",
      "Cross validation scores for labels  769  and  771 :  0.96\n",
      "Cross validation scores for labels  769  and  772 :  1.0\n",
      "Cross validation scores for labels  770  and  771 :  0.9\n",
      "Cross validation scores for labels  770  and  772 :  0.9666666666666668\n",
      "Cross validation scores for labels  771  and  772 :  1.0\n",
      "Training accuracy:  0.9642857142857143\n",
      "Testing accuracy:  0.5714285714285714\n"
     ]
    }
   ],
   "source": [
    "## results records training accuracy, cross validation average score, and testing accuracy for each subject\n",
    "results = np.zeros((num_experiment, len(all_data_paths), 3))\n",
    "\n",
    "for j in range(num_experiment):\n",
    "    for i, data_path in enumerate(all_data_paths):\n",
    "        \n",
    "        ## Load data\n",
    "        data_npz = np.load(data_path)\n",
    "        data = data_npz['processed_motor_imagery_data']\n",
    "        labels = data_npz['descriptions']\n",
    "        \n",
    "        ## Prepare training and testing data\n",
    "        X_train, X_test, y_train, y_test = train_test_split(data, \n",
    "                                                            labels, \n",
    "                                                            test_size=test_split, \n",
    "                                                            shuffle=True,\n",
    "                                                            random_state=j)\n",
    "        \n",
    "        ## Classification\n",
    "        clf = csp.CSP_LDA_classifier(X_train, y_train, cross_val=num_cross_val)\n",
    "        cross_val_scores = clf.train_1_vs_1()\n",
    "        predictions, train_accuracy = clf.test_1_vs_1()\n",
    "        predictions, test_accuracy = clf.test_1_vs_1(X_test, y_test)\n",
    "        results[j, i, :] = [train_accuracy, np.mean(cross_val_scores), test_accuracy]"
   ]
  },
  {
   "cell_type": "code",
   "execution_count": 26,
   "id": "f18dabf3",
   "metadata": {},
   "outputs": [
    {
     "name": "stdout",
     "output_type": "stream",
     "text": [
      "[[[0.72527473 0.87748538 0.54945055]\n",
      "  [0.66111111 0.83088379 0.5       ]\n",
      "  [0.76111111 0.88967435 0.73333333]\n",
      "  [0.50285714 0.70783597 0.36781609]\n",
      "  [0.44571429 0.62171984 0.34482759]\n",
      "  [0.52739726 0.74859432 0.34246575]\n",
      "  [0.82320442 0.92028437 0.7       ]\n",
      "  [0.86363636 0.92927173 0.77272727]\n",
      "  [0.75316456 0.86076797 0.53164557]\n",
      "  [0.95959596 0.97646465 0.76      ]\n",
      "  [0.93442623 0.95674603 0.41935484]\n",
      "  [0.96428571 0.96111111 0.46428571]]\n",
      "\n",
      " [[0.75824176 0.88594771 0.68131868]\n",
      "  [0.62777778 0.78535718 0.56666667]\n",
      "  [0.8        0.90577915 0.65555556]\n",
      "  [0.6        0.73194373 0.4137931 ]\n",
      "  [0.47428571 0.69258543 0.27586207]\n",
      "  [0.56849315 0.75112179 0.34246575]\n",
      "  [0.84530387 0.92729675 0.65555556]\n",
      "  [0.85795455 0.92039259 0.64772727]\n",
      "  [0.75316456 0.86453898 0.49367089]\n",
      "  [0.8989899  0.93771044 0.82      ]\n",
      "  [0.96721311 0.96603175 0.35483871]\n",
      "  [0.98214286 0.97944444 0.5       ]]\n",
      "\n",
      " [[0.76373626 0.89808873 0.6043956 ]\n",
      "  [0.67222222 0.80586515 0.54444444]\n",
      "  [0.79444444 0.90595402 0.64444444]\n",
      "  [0.57714286 0.74586057 0.37931034]\n",
      "  [0.46285714 0.65522876 0.28735632]\n",
      "  [0.55479452 0.74462454 0.38356164]\n",
      "  [0.77900552 0.90783841 0.73333333]\n",
      "  [0.81818182 0.90397274 0.71590909]\n",
      "  [0.70886076 0.84232026 0.5443038 ]\n",
      "  [0.94949495 0.97252525 0.8       ]\n",
      "  [0.95081967 0.96714286 0.61290323]\n",
      "  [0.91071429 0.94333333 0.57142857]]\n",
      "\n",
      " [[0.76923077 0.90535661 0.62637363]\n",
      "  [0.70555556 0.85374957 0.58888889]\n",
      "  [0.78333333 0.89340185 0.75555556]\n",
      "  [0.50857143 0.74240626 0.34482759]\n",
      "  [0.48       0.69280759 0.28735632]\n",
      "  [0.57534247 0.7641787  0.28767123]\n",
      "  [0.81767956 0.91848928 0.68888889]\n",
      "  [0.82954545 0.91374771 0.68181818]\n",
      "  [0.75316456 0.87861033 0.51898734]\n",
      "  [0.90909091 0.95434343 0.84      ]\n",
      "  [0.95081967 0.97190476 0.41935484]\n",
      "  [0.96428571 0.95714286 0.57142857]]\n",
      "\n",
      " [[0.74725275 0.88566019 0.58241758]\n",
      "  [0.65555556 0.81141856 0.48888889]\n",
      "  [0.81111111 0.90433953 0.7       ]\n",
      "  [0.57142857 0.72252394 0.31034483]\n",
      "  [0.41714286 0.60762527 0.43678161]\n",
      "  [0.59589041 0.77288004 0.49315068]\n",
      "  [0.83425414 0.92432634 0.68888889]\n",
      "  [0.86363636 0.92425754 0.69318182]\n",
      "  [0.74683544 0.86315126 0.41772152]\n",
      "  [0.93939394 0.94319865 0.84      ]\n",
      "  [0.96721311 0.96126984 0.38709677]\n",
      "  [1.         0.98       0.46428571]]\n",
      "\n",
      " [[0.73076923 0.87391354 0.65934066]\n",
      "  [0.68888889 0.83247907 0.55555556]\n",
      "  [0.8        0.90880633 0.72222222]\n",
      "  [0.54857143 0.75888516 0.3908046 ]\n",
      "  [0.43428571 0.66770009 0.31034483]\n",
      "  [0.54109589 0.75350918 0.38356164]\n",
      "  [0.82320442 0.92049636 0.7       ]\n",
      "  [0.84090909 0.91336214 0.64772727]\n",
      "  [0.77848101 0.87541667 0.50632911]\n",
      "  [0.87878788 0.94023569 0.88      ]\n",
      "  [0.96721311 0.96269841 0.51612903]\n",
      "  [0.94642857 0.95436508 0.57142857]]\n",
      "\n",
      " [[0.72527473 0.88434751 0.62637363]\n",
      "  [0.67222222 0.8165864  0.54444444]\n",
      "  [0.80555556 0.91392917 0.73333333]\n",
      "  [0.55428571 0.73842965 0.40229885]\n",
      "  [0.47428571 0.68061002 0.27586207]\n",
      "  [0.55479452 0.74162698 0.4109589 ]\n",
      "  [0.84530387 0.9236159  0.62222222]\n",
      "  [0.875      0.92742016 0.70454545]\n",
      "  [0.72151899 0.84713352 0.5443038 ]\n",
      "  [0.8989899  0.94602694 0.8       ]\n",
      "  [0.98360656 0.98333333 0.4516129 ]\n",
      "  [0.96428571 0.97190476 0.64285714]]\n",
      "\n",
      " [[0.76923077 0.89115712 0.6043956 ]\n",
      "  [0.65       0.8340434  0.58888889]\n",
      "  [0.81111111 0.91410876 0.72222222]\n",
      "  [0.58285714 0.7369109  0.43678161]\n",
      "  [0.46285714 0.62586358 0.4137931 ]\n",
      "  [0.55479452 0.75865232 0.32876712]\n",
      "  [0.80662983 0.913191   0.72222222]\n",
      "  [0.85795455 0.91265122 0.76136364]\n",
      "  [0.73417722 0.85352124 0.50632911]\n",
      "  [0.88888889 0.95356902 0.8       ]\n",
      "  [0.96721311 0.97634921 0.32258065]\n",
      "  [0.91071429 0.95111111 0.46428571]]\n",
      "\n",
      " [[0.81868132 0.90580782 0.61538462]\n",
      "  [0.71666667 0.84125903 0.54444444]\n",
      "  [0.74444444 0.88183064 0.73333333]\n",
      "  [0.59428571 0.74675926 0.18390805]\n",
      "  [0.48571429 0.68784328 0.35632184]\n",
      "  [0.65753425 0.79269841 0.31506849]\n",
      "  [0.81767956 0.92262929 0.65555556]\n",
      "  [0.875      0.92996431 0.77272727]\n",
      "  [0.76582278 0.85946662 0.44303797]\n",
      "  [0.90909091 0.9462963  0.86      ]\n",
      "  [0.91803279 0.9652381  0.58064516]\n",
      "  [0.89285714 0.93825397 0.42857143]]\n",
      "\n",
      " [[0.71978022 0.87227382 0.58241758]\n",
      "  [0.63888889 0.82189256 0.64444444]\n",
      "  [0.81666667 0.90240225 0.75555556]\n",
      "  [0.57142857 0.75927861 0.36781609]\n",
      "  [0.48571429 0.66843539 0.31034483]\n",
      "  [0.63013699 0.79297466 0.31506849]\n",
      "  [0.80662983 0.90552689 0.6       ]\n",
      "  [0.86931818 0.92231897 0.73863636]\n",
      "  [0.74683544 0.86764395 0.60759494]\n",
      "  [0.90909091 0.95565657 0.8       ]\n",
      "  [0.95081967 0.97222222 0.4516129 ]\n",
      "  [0.96428571 0.96555556 0.57142857]]]\n",
      "[[0.75274725 0.88800384 0.61318681]\n",
      " [0.66888889 0.82335347 0.55666667]\n",
      " [0.79277778 0.9020226  0.71555556]\n",
      " [0.56114286 0.7390834  0.35977011]\n",
      " [0.46228571 0.66004192 0.32988506]\n",
      " [0.5760274  0.7620861  0.36027397]\n",
      " [0.8198895  0.91836946 0.67666667]\n",
      " [0.85511364 0.91973591 0.71363636]\n",
      " [0.74620253 0.86125708 0.51139241]\n",
      " [0.91414141 0.95260269 0.82      ]\n",
      " [0.9557377  0.96829365 0.4516129 ]\n",
      " [0.95       0.96022222 0.525     ]]\n"
     ]
    }
   ],
   "source": [
    "print(results)\n",
    "results_avg = np.mean(results, axis=0)\n",
    "print(results_avg)\n",
    "\n",
    "results_path = os.path.join(results_dir, '4_LDA_CSP.npy')\n",
    "np.save(results_path, results)"
   ]
  },
  {
   "cell_type": "markdown",
   "id": "1ae2e561",
   "metadata": {},
   "source": [
    "## 4-Class One-vs-One Classification with Spectrally Adaptive CSP + LDA"
   ]
  },
  {
   "cell_type": "code",
   "execution_count": null,
   "id": "73bf4b67",
   "metadata": {},
   "outputs": [
    {
     "name": "stderr",
     "output_type": "stream",
     "text": [
      "/home/inffzy/Desktop/cogs189/cogs189_final_project/scripts/SACSP.py:198: ComplexWarning: Casting complex values to real discards the imaginary part\n",
      "  E[i] = trial_fourier @ np.diag(h_or_l) @ np.matrix(trial_fourier).H\n",
      "/home/inffzy/Desktop/cogs189/cogs189_final_project/scripts/SACSP.py:225: ComplexWarning: Casting complex values to real discards the imaginary part\n",
      "  E[i] = np.matrix(trial_fourier).H @ w_or_v @ w_or_v.T @ trial_fourier\n",
      "/home/inffzy/Desktop/cogs189/cogs189_final_project/scripts/SACSP.py:177: ComplexWarning: Casting complex values to real discards the imaginary part\n",
      "  E[i] = trial_fourier @ np.diag(h_or_l) @ np.matrix(trial_fourier).H\n",
      "/home/inffzy/Desktop/cogs189/cogs189_final_project/scripts/SACSP.py:410: ComplexWarning: Casting complex values to real discards the imaginary part\n",
      "  extracted_features[i, j] = extracted_feature[0, 0]\n"
     ]
    },
    {
     "name": "stdout",
     "output_type": "stream",
     "text": [
      "Cross validation scores for labels  769  and  770 :  0.5970760233918129\n"
     ]
    },
    {
     "name": "stderr",
     "output_type": "stream",
     "text": [
      "/home/inffzy/Desktop/cogs189/cogs189_final_project/scripts/SACSP.py:198: ComplexWarning: Casting complex values to real discards the imaginary part\n",
      "  E[i] = trial_fourier @ np.diag(h_or_l) @ np.matrix(trial_fourier).H\n",
      "/home/inffzy/Desktop/cogs189/cogs189_final_project/scripts/SACSP.py:225: ComplexWarning: Casting complex values to real discards the imaginary part\n",
      "  E[i] = np.matrix(trial_fourier).H @ w_or_v @ w_or_v.T @ trial_fourier\n",
      "/home/inffzy/Desktop/cogs189/cogs189_final_project/scripts/SACSP.py:177: ComplexWarning: Casting complex values to real discards the imaginary part\n",
      "  E[i] = trial_fourier @ np.diag(h_or_l) @ np.matrix(trial_fourier).H\n",
      "/home/inffzy/Desktop/cogs189/cogs189_final_project/scripts/SACSP.py:410: ComplexWarning: Casting complex values to real discards the imaginary part\n",
      "  extracted_features[i, j] = extracted_feature[0, 0]\n"
     ]
    },
    {
     "name": "stdout",
     "output_type": "stream",
     "text": [
      "Cross validation scores for labels  769  and  771 :  0.8029239766081873\n"
     ]
    },
    {
     "name": "stderr",
     "output_type": "stream",
     "text": [
      "/home/inffzy/Desktop/cogs189/cogs189_final_project/scripts/SACSP.py:198: ComplexWarning: Casting complex values to real discards the imaginary part\n",
      "  E[i] = trial_fourier @ np.diag(h_or_l) @ np.matrix(trial_fourier).H\n",
      "/home/inffzy/Desktop/cogs189/cogs189_final_project/scripts/SACSP.py:225: ComplexWarning: Casting complex values to real discards the imaginary part\n",
      "  E[i] = np.matrix(trial_fourier).H @ w_or_v @ w_or_v.T @ trial_fourier\n",
      "/home/inffzy/Desktop/cogs189/cogs189_final_project/scripts/SACSP.py:177: ComplexWarning: Casting complex values to real discards the imaginary part\n",
      "  E[i] = trial_fourier @ np.diag(h_or_l) @ np.matrix(trial_fourier).H\n",
      "/home/inffzy/Desktop/cogs189/cogs189_final_project/scripts/SACSP.py:410: ComplexWarning: Casting complex values to real discards the imaginary part\n",
      "  extracted_features[i, j] = extracted_feature[0, 0]\n"
     ]
    },
    {
     "name": "stdout",
     "output_type": "stream",
     "text": [
      "Cross validation scores for labels  769  and  772 :  0.8573099415204679\n"
     ]
    },
    {
     "name": "stderr",
     "output_type": "stream",
     "text": [
      "/home/inffzy/Desktop/cogs189/cogs189_final_project/scripts/SACSP.py:198: ComplexWarning: Casting complex values to real discards the imaginary part\n",
      "  E[i] = trial_fourier @ np.diag(h_or_l) @ np.matrix(trial_fourier).H\n",
      "/home/inffzy/Desktop/cogs189/cogs189_final_project/scripts/SACSP.py:225: ComplexWarning: Casting complex values to real discards the imaginary part\n",
      "  E[i] = np.matrix(trial_fourier).H @ w_or_v @ w_or_v.T @ trial_fourier\n",
      "/home/inffzy/Desktop/cogs189/cogs189_final_project/scripts/SACSP.py:177: ComplexWarning: Casting complex values to real discards the imaginary part\n",
      "  E[i] = trial_fourier @ np.diag(h_or_l) @ np.matrix(trial_fourier).H\n",
      "/home/inffzy/Desktop/cogs189/cogs189_final_project/scripts/SACSP.py:410: ComplexWarning: Casting complex values to real discards the imaginary part\n",
      "  extracted_features[i, j] = extracted_feature[0, 0]\n"
     ]
    },
    {
     "name": "stdout",
     "output_type": "stream",
     "text": [
      "Cross validation scores for labels  770  and  771 :  0.9783625730994153\n"
     ]
    },
    {
     "name": "stderr",
     "output_type": "stream",
     "text": [
      "/home/inffzy/Desktop/cogs189/cogs189_final_project/scripts/SACSP.py:198: ComplexWarning: Casting complex values to real discards the imaginary part\n",
      "  E[i] = trial_fourier @ np.diag(h_or_l) @ np.matrix(trial_fourier).H\n",
      "/home/inffzy/Desktop/cogs189/cogs189_final_project/scripts/SACSP.py:225: ComplexWarning: Casting complex values to real discards the imaginary part\n",
      "  E[i] = np.matrix(trial_fourier).H @ w_or_v @ w_or_v.T @ trial_fourier\n",
      "/home/inffzy/Desktop/cogs189/cogs189_final_project/scripts/SACSP.py:177: ComplexWarning: Casting complex values to real discards the imaginary part\n",
      "  E[i] = trial_fourier @ np.diag(h_or_l) @ np.matrix(trial_fourier).H\n",
      "/home/inffzy/Desktop/cogs189/cogs189_final_project/scripts/SACSP.py:410: ComplexWarning: Casting complex values to real discards the imaginary part\n",
      "  extracted_features[i, j] = extracted_feature[0, 0]\n"
     ]
    },
    {
     "name": "stdout",
     "output_type": "stream",
     "text": [
      "Cross validation scores for labels  770  and  772 :  1.0\n"
     ]
    },
    {
     "name": "stderr",
     "output_type": "stream",
     "text": [
      "/home/inffzy/Desktop/cogs189/cogs189_final_project/scripts/SACSP.py:198: ComplexWarning: Casting complex values to real discards the imaginary part\n",
      "  E[i] = trial_fourier @ np.diag(h_or_l) @ np.matrix(trial_fourier).H\n",
      "/home/inffzy/Desktop/cogs189/cogs189_final_project/scripts/SACSP.py:225: ComplexWarning: Casting complex values to real discards the imaginary part\n",
      "  E[i] = np.matrix(trial_fourier).H @ w_or_v @ w_or_v.T @ trial_fourier\n",
      "/home/inffzy/Desktop/cogs189/cogs189_final_project/scripts/SACSP.py:177: ComplexWarning: Casting complex values to real discards the imaginary part\n",
      "  E[i] = trial_fourier @ np.diag(h_or_l) @ np.matrix(trial_fourier).H\n",
      "/home/inffzy/Desktop/cogs189/cogs189_final_project/scripts/SACSP.py:410: ComplexWarning: Casting complex values to real discards the imaginary part\n",
      "  extracted_features[i, j] = extracted_feature[0, 0]\n"
     ]
    },
    {
     "name": "stdout",
     "output_type": "stream",
     "text": [
      "Cross validation scores for labels  771  and  772 :  0.7444444444444445\n"
     ]
    },
    {
     "name": "stderr",
     "output_type": "stream",
     "text": [
      "/home/inffzy/Desktop/cogs189/cogs189_final_project/scripts/SACSP.py:410: ComplexWarning: Casting complex values to real discards the imaginary part\n",
      "  extracted_features[i, j] = extracted_feature[0, 0]\n",
      "/home/inffzy/Desktop/cogs189/cogs189_final_project/scripts/SACSP.py:410: ComplexWarning: Casting complex values to real discards the imaginary part\n",
      "  extracted_features[i, j] = extracted_feature[0, 0]\n",
      "/home/inffzy/Desktop/cogs189/cogs189_final_project/scripts/SACSP.py:410: ComplexWarning: Casting complex values to real discards the imaginary part\n",
      "  extracted_features[i, j] = extracted_feature[0, 0]\n",
      "/home/inffzy/Desktop/cogs189/cogs189_final_project/scripts/SACSP.py:410: ComplexWarning: Casting complex values to real discards the imaginary part\n",
      "  extracted_features[i, j] = extracted_feature[0, 0]\n",
      "/home/inffzy/Desktop/cogs189/cogs189_final_project/scripts/SACSP.py:410: ComplexWarning: Casting complex values to real discards the imaginary part\n",
      "  extracted_features[i, j] = extracted_feature[0, 0]\n",
      "/home/inffzy/Desktop/cogs189/cogs189_final_project/scripts/SACSP.py:410: ComplexWarning: Casting complex values to real discards the imaginary part\n",
      "  extracted_features[i, j] = extracted_feature[0, 0]\n"
     ]
    },
    {
     "name": "stdout",
     "output_type": "stream",
     "text": [
      "Training accuracy:  0.6428571428571429\n"
     ]
    },
    {
     "name": "stderr",
     "output_type": "stream",
     "text": [
      "/home/inffzy/Desktop/cogs189/cogs189_final_project/scripts/SACSP.py:410: ComplexWarning: Casting complex values to real discards the imaginary part\n",
      "  extracted_features[i, j] = extracted_feature[0, 0]\n",
      "/home/inffzy/Desktop/cogs189/cogs189_final_project/scripts/SACSP.py:410: ComplexWarning: Casting complex values to real discards the imaginary part\n",
      "  extracted_features[i, j] = extracted_feature[0, 0]\n",
      "/home/inffzy/Desktop/cogs189/cogs189_final_project/scripts/SACSP.py:410: ComplexWarning: Casting complex values to real discards the imaginary part\n",
      "  extracted_features[i, j] = extracted_feature[0, 0]\n",
      "/home/inffzy/Desktop/cogs189/cogs189_final_project/scripts/SACSP.py:410: ComplexWarning: Casting complex values to real discards the imaginary part\n",
      "  extracted_features[i, j] = extracted_feature[0, 0]\n",
      "/home/inffzy/Desktop/cogs189/cogs189_final_project/scripts/SACSP.py:410: ComplexWarning: Casting complex values to real discards the imaginary part\n",
      "  extracted_features[i, j] = extracted_feature[0, 0]\n",
      "/home/inffzy/Desktop/cogs189/cogs189_final_project/scripts/SACSP.py:410: ComplexWarning: Casting complex values to real discards the imaginary part\n",
      "  extracted_features[i, j] = extracted_feature[0, 0]\n"
     ]
    },
    {
     "name": "stdout",
     "output_type": "stream",
     "text": [
      "Testing accuracy:  0.6043956043956044\n"
     ]
    },
    {
     "name": "stderr",
     "output_type": "stream",
     "text": [
      "/home/inffzy/Desktop/cogs189/cogs189_final_project/scripts/SACSP.py:198: ComplexWarning: Casting complex values to real discards the imaginary part\n",
      "  E[i] = trial_fourier @ np.diag(h_or_l) @ np.matrix(trial_fourier).H\n",
      "/home/inffzy/Desktop/cogs189/cogs189_final_project/scripts/SACSP.py:225: ComplexWarning: Casting complex values to real discards the imaginary part\n",
      "  E[i] = np.matrix(trial_fourier).H @ w_or_v @ w_or_v.T @ trial_fourier\n",
      "/home/inffzy/Desktop/cogs189/cogs189_final_project/scripts/SACSP.py:177: ComplexWarning: Casting complex values to real discards the imaginary part\n",
      "  E[i] = trial_fourier @ np.diag(h_or_l) @ np.matrix(trial_fourier).H\n",
      "/home/inffzy/Desktop/cogs189/cogs189_final_project/scripts/SACSP.py:410: ComplexWarning: Casting complex values to real discards the imaginary part\n",
      "  extracted_features[i, j] = extracted_feature[0, 0]\n"
     ]
    },
    {
     "name": "stdout",
     "output_type": "stream",
     "text": [
      "Cross validation scores for labels  769  and  770 :  0.5673684210526316\n"
     ]
    },
    {
     "name": "stderr",
     "output_type": "stream",
     "text": [
      "/home/inffzy/Desktop/cogs189/cogs189_final_project/scripts/SACSP.py:198: ComplexWarning: Casting complex values to real discards the imaginary part\n",
      "  E[i] = trial_fourier @ np.diag(h_or_l) @ np.matrix(trial_fourier).H\n",
      "/home/inffzy/Desktop/cogs189/cogs189_final_project/scripts/SACSP.py:225: ComplexWarning: Casting complex values to real discards the imaginary part\n",
      "  E[i] = np.matrix(trial_fourier).H @ w_or_v @ w_or_v.T @ trial_fourier\n",
      "/home/inffzy/Desktop/cogs189/cogs189_final_project/scripts/SACSP.py:177: ComplexWarning: Casting complex values to real discards the imaginary part\n",
      "  E[i] = trial_fourier @ np.diag(h_or_l) @ np.matrix(trial_fourier).H\n",
      "/home/inffzy/Desktop/cogs189/cogs189_final_project/scripts/SACSP.py:410: ComplexWarning: Casting complex values to real discards the imaginary part\n",
      "  extracted_features[i, j] = extracted_feature[0, 0]\n"
     ]
    },
    {
     "name": "stdout",
     "output_type": "stream",
     "text": [
      "Cross validation scores for labels  769  and  771 :  0.5748538011695906\n"
     ]
    },
    {
     "name": "stderr",
     "output_type": "stream",
     "text": [
      "/home/inffzy/Desktop/cogs189/cogs189_final_project/scripts/SACSP.py:198: ComplexWarning: Casting complex values to real discards the imaginary part\n",
      "  E[i] = trial_fourier @ np.diag(h_or_l) @ np.matrix(trial_fourier).H\n",
      "/home/inffzy/Desktop/cogs189/cogs189_final_project/scripts/SACSP.py:225: ComplexWarning: Casting complex values to real discards the imaginary part\n",
      "  E[i] = np.matrix(trial_fourier).H @ w_or_v @ w_or_v.T @ trial_fourier\n",
      "/home/inffzy/Desktop/cogs189/cogs189_final_project/scripts/SACSP.py:177: ComplexWarning: Casting complex values to real discards the imaginary part\n",
      "  E[i] = trial_fourier @ np.diag(h_or_l) @ np.matrix(trial_fourier).H\n",
      "/home/inffzy/Desktop/cogs189/cogs189_final_project/scripts/SACSP.py:410: ComplexWarning: Casting complex values to real discards the imaginary part\n",
      "  extracted_features[i, j] = extracted_feature[0, 0]\n"
     ]
    },
    {
     "name": "stdout",
     "output_type": "stream",
     "text": [
      "Cross validation scores for labels  769  and  772 :  0.47368421052631576\n"
     ]
    },
    {
     "name": "stderr",
     "output_type": "stream",
     "text": [
      "/home/inffzy/Desktop/cogs189/cogs189_final_project/scripts/SACSP.py:198: ComplexWarning: Casting complex values to real discards the imaginary part\n",
      "  E[i] = trial_fourier @ np.diag(h_or_l) @ np.matrix(trial_fourier).H\n",
      "/home/inffzy/Desktop/cogs189/cogs189_final_project/scripts/SACSP.py:225: ComplexWarning: Casting complex values to real discards the imaginary part\n",
      "  E[i] = np.matrix(trial_fourier).H @ w_or_v @ w_or_v.T @ trial_fourier\n",
      "/home/inffzy/Desktop/cogs189/cogs189_final_project/scripts/SACSP.py:177: ComplexWarning: Casting complex values to real discards the imaginary part\n",
      "  E[i] = trial_fourier @ np.diag(h_or_l) @ np.matrix(trial_fourier).H\n",
      "/home/inffzy/Desktop/cogs189/cogs189_final_project/scripts/SACSP.py:410: ComplexWarning: Casting complex values to real discards the imaginary part\n",
      "  extracted_features[i, j] = extracted_feature[0, 0]\n"
     ]
    },
    {
     "name": "stdout",
     "output_type": "stream",
     "text": [
      "Cross validation scores for labels  770  and  771 :  0.6581699346405229\n"
     ]
    },
    {
     "name": "stderr",
     "output_type": "stream",
     "text": [
      "/home/inffzy/Desktop/cogs189/cogs189_final_project/scripts/SACSP.py:198: ComplexWarning: Casting complex values to real discards the imaginary part\n",
      "  E[i] = trial_fourier @ np.diag(h_or_l) @ np.matrix(trial_fourier).H\n",
      "/home/inffzy/Desktop/cogs189/cogs189_final_project/scripts/SACSP.py:225: ComplexWarning: Casting complex values to real discards the imaginary part\n",
      "  E[i] = np.matrix(trial_fourier).H @ w_or_v @ w_or_v.T @ trial_fourier\n",
      "/home/inffzy/Desktop/cogs189/cogs189_final_project/scripts/SACSP.py:177: ComplexWarning: Casting complex values to real discards the imaginary part\n",
      "  E[i] = trial_fourier @ np.diag(h_or_l) @ np.matrix(trial_fourier).H\n",
      "/home/inffzy/Desktop/cogs189/cogs189_final_project/scripts/SACSP.py:410: ComplexWarning: Casting complex values to real discards the imaginary part\n",
      "  extracted_features[i, j] = extracted_feature[0, 0]\n"
     ]
    },
    {
     "name": "stdout",
     "output_type": "stream",
     "text": [
      "Cross validation scores for labels  770  and  772 :  0.6588235294117647\n"
     ]
    },
    {
     "name": "stderr",
     "output_type": "stream",
     "text": [
      "/home/inffzy/Desktop/cogs189/cogs189_final_project/scripts/SACSP.py:198: ComplexWarning: Casting complex values to real discards the imaginary part\n",
      "  E[i] = trial_fourier @ np.diag(h_or_l) @ np.matrix(trial_fourier).H\n",
      "/home/inffzy/Desktop/cogs189/cogs189_final_project/scripts/SACSP.py:225: ComplexWarning: Casting complex values to real discards the imaginary part\n",
      "  E[i] = np.matrix(trial_fourier).H @ w_or_v @ w_or_v.T @ trial_fourier\n",
      "/home/inffzy/Desktop/cogs189/cogs189_final_project/scripts/SACSP.py:177: ComplexWarning: Casting complex values to real discards the imaginary part\n",
      "  E[i] = trial_fourier @ np.diag(h_or_l) @ np.matrix(trial_fourier).H\n",
      "/home/inffzy/Desktop/cogs189/cogs189_final_project/scripts/SACSP.py:410: ComplexWarning: Casting complex values to real discards the imaginary part\n",
      "  extracted_features[i, j] = extracted_feature[0, 0]\n"
     ]
    },
    {
     "name": "stdout",
     "output_type": "stream",
     "text": [
      "Cross validation scores for labels  771  and  772 :  0.49558823529411766\n"
     ]
    },
    {
     "name": "stderr",
     "output_type": "stream",
     "text": [
      "/home/inffzy/Desktop/cogs189/cogs189_final_project/scripts/SACSP.py:410: ComplexWarning: Casting complex values to real discards the imaginary part\n",
      "  extracted_features[i, j] = extracted_feature[0, 0]\n",
      "/home/inffzy/Desktop/cogs189/cogs189_final_project/scripts/SACSP.py:410: ComplexWarning: Casting complex values to real discards the imaginary part\n",
      "  extracted_features[i, j] = extracted_feature[0, 0]\n",
      "/home/inffzy/Desktop/cogs189/cogs189_final_project/scripts/SACSP.py:410: ComplexWarning: Casting complex values to real discards the imaginary part\n",
      "  extracted_features[i, j] = extracted_feature[0, 0]\n",
      "/home/inffzy/Desktop/cogs189/cogs189_final_project/scripts/SACSP.py:410: ComplexWarning: Casting complex values to real discards the imaginary part\n",
      "  extracted_features[i, j] = extracted_feature[0, 0]\n",
      "/home/inffzy/Desktop/cogs189/cogs189_final_project/scripts/SACSP.py:410: ComplexWarning: Casting complex values to real discards the imaginary part\n",
      "  extracted_features[i, j] = extracted_feature[0, 0]\n",
      "/home/inffzy/Desktop/cogs189/cogs189_final_project/scripts/SACSP.py:410: ComplexWarning: Casting complex values to real discards the imaginary part\n",
      "  extracted_features[i, j] = extracted_feature[0, 0]\n"
     ]
    },
    {
     "name": "stdout",
     "output_type": "stream",
     "text": [
      "Training accuracy:  0.32222222222222224\n"
     ]
    },
    {
     "name": "stderr",
     "output_type": "stream",
     "text": [
      "/home/inffzy/Desktop/cogs189/cogs189_final_project/scripts/SACSP.py:410: ComplexWarning: Casting complex values to real discards the imaginary part\n",
      "  extracted_features[i, j] = extracted_feature[0, 0]\n",
      "/home/inffzy/Desktop/cogs189/cogs189_final_project/scripts/SACSP.py:410: ComplexWarning: Casting complex values to real discards the imaginary part\n",
      "  extracted_features[i, j] = extracted_feature[0, 0]\n",
      "/home/inffzy/Desktop/cogs189/cogs189_final_project/scripts/SACSP.py:410: ComplexWarning: Casting complex values to real discards the imaginary part\n",
      "  extracted_features[i, j] = extracted_feature[0, 0]\n",
      "/home/inffzy/Desktop/cogs189/cogs189_final_project/scripts/SACSP.py:410: ComplexWarning: Casting complex values to real discards the imaginary part\n",
      "  extracted_features[i, j] = extracted_feature[0, 0]\n",
      "/home/inffzy/Desktop/cogs189/cogs189_final_project/scripts/SACSP.py:410: ComplexWarning: Casting complex values to real discards the imaginary part\n",
      "  extracted_features[i, j] = extracted_feature[0, 0]\n",
      "/home/inffzy/Desktop/cogs189/cogs189_final_project/scripts/SACSP.py:410: ComplexWarning: Casting complex values to real discards the imaginary part\n",
      "  extracted_features[i, j] = extracted_feature[0, 0]\n"
     ]
    },
    {
     "name": "stdout",
     "output_type": "stream",
     "text": [
      "Testing accuracy:  0.2222222222222222\n"
     ]
    },
    {
     "name": "stderr",
     "output_type": "stream",
     "text": [
      "/home/inffzy/Desktop/cogs189/cogs189_final_project/scripts/SACSP.py:198: ComplexWarning: Casting complex values to real discards the imaginary part\n",
      "  E[i] = trial_fourier @ np.diag(h_or_l) @ np.matrix(trial_fourier).H\n",
      "/home/inffzy/Desktop/cogs189/cogs189_final_project/scripts/SACSP.py:225: ComplexWarning: Casting complex values to real discards the imaginary part\n",
      "  E[i] = np.matrix(trial_fourier).H @ w_or_v @ w_or_v.T @ trial_fourier\n",
      "/home/inffzy/Desktop/cogs189/cogs189_final_project/scripts/SACSP.py:177: ComplexWarning: Casting complex values to real discards the imaginary part\n",
      "  E[i] = trial_fourier @ np.diag(h_or_l) @ np.matrix(trial_fourier).H\n",
      "/home/inffzy/Desktop/cogs189/cogs189_final_project/scripts/SACSP.py:410: ComplexWarning: Casting complex values to real discards the imaginary part\n",
      "  extracted_features[i, j] = extracted_feature[0, 0]\n"
     ]
    },
    {
     "name": "stdout",
     "output_type": "stream",
     "text": [
      "Cross validation scores for labels  769  and  770 :  0.8875816993464053\n"
     ]
    },
    {
     "name": "stderr",
     "output_type": "stream",
     "text": [
      "/home/inffzy/Desktop/cogs189/cogs189_final_project/scripts/SACSP.py:198: ComplexWarning: Casting complex values to real discards the imaginary part\n",
      "  E[i] = trial_fourier @ np.diag(h_or_l) @ np.matrix(trial_fourier).H\n",
      "/home/inffzy/Desktop/cogs189/cogs189_final_project/scripts/SACSP.py:225: ComplexWarning: Casting complex values to real discards the imaginary part\n",
      "  E[i] = np.matrix(trial_fourier).H @ w_or_v @ w_or_v.T @ trial_fourier\n",
      "/home/inffzy/Desktop/cogs189/cogs189_final_project/scripts/SACSP.py:177: ComplexWarning: Casting complex values to real discards the imaginary part\n",
      "  E[i] = trial_fourier @ np.diag(h_or_l) @ np.matrix(trial_fourier).H\n",
      "/home/inffzy/Desktop/cogs189/cogs189_final_project/scripts/SACSP.py:410: ComplexWarning: Casting complex values to real discards the imaginary part\n",
      "  extracted_features[i, j] = extracted_feature[0, 0]\n"
     ]
    },
    {
     "name": "stdout",
     "output_type": "stream",
     "text": [
      "Cross validation scores for labels  769  and  771 :  0.8280701754385966\n"
     ]
    },
    {
     "name": "stderr",
     "output_type": "stream",
     "text": [
      "/home/inffzy/Desktop/cogs189/cogs189_final_project/scripts/SACSP.py:198: ComplexWarning: Casting complex values to real discards the imaginary part\n",
      "  E[i] = trial_fourier @ np.diag(h_or_l) @ np.matrix(trial_fourier).H\n",
      "/home/inffzy/Desktop/cogs189/cogs189_final_project/scripts/SACSP.py:225: ComplexWarning: Casting complex values to real discards the imaginary part\n",
      "  E[i] = np.matrix(trial_fourier).H @ w_or_v @ w_or_v.T @ trial_fourier\n",
      "/home/inffzy/Desktop/cogs189/cogs189_final_project/scripts/SACSP.py:177: ComplexWarning: Casting complex values to real discards the imaginary part\n",
      "  E[i] = trial_fourier @ np.diag(h_or_l) @ np.matrix(trial_fourier).H\n",
      "/home/inffzy/Desktop/cogs189/cogs189_final_project/scripts/SACSP.py:410: ComplexWarning: Casting complex values to real discards the imaginary part\n",
      "  extracted_features[i, j] = extracted_feature[0, 0]\n"
     ]
    },
    {
     "name": "stdout",
     "output_type": "stream",
     "text": [
      "Cross validation scores for labels  769  and  772 :  0.9111111111111111\n"
     ]
    },
    {
     "name": "stderr",
     "output_type": "stream",
     "text": [
      "/home/inffzy/Desktop/cogs189/cogs189_final_project/scripts/SACSP.py:198: ComplexWarning: Casting complex values to real discards the imaginary part\n",
      "  E[i] = trial_fourier @ np.diag(h_or_l) @ np.matrix(trial_fourier).H\n",
      "/home/inffzy/Desktop/cogs189/cogs189_final_project/scripts/SACSP.py:225: ComplexWarning: Casting complex values to real discards the imaginary part\n",
      "  E[i] = np.matrix(trial_fourier).H @ w_or_v @ w_or_v.T @ trial_fourier\n",
      "/home/inffzy/Desktop/cogs189/cogs189_final_project/scripts/SACSP.py:177: ComplexWarning: Casting complex values to real discards the imaginary part\n",
      "  E[i] = trial_fourier @ np.diag(h_or_l) @ np.matrix(trial_fourier).H\n",
      "/home/inffzy/Desktop/cogs189/cogs189_final_project/scripts/SACSP.py:410: ComplexWarning: Casting complex values to real discards the imaginary part\n",
      "  extracted_features[i, j] = extracted_feature[0, 0]\n"
     ]
    },
    {
     "name": "stdout",
     "output_type": "stream",
     "text": [
      "Cross validation scores for labels  770  and  771 :  0.8444444444444444\n"
     ]
    },
    {
     "name": "stderr",
     "output_type": "stream",
     "text": [
      "/home/inffzy/Desktop/cogs189/cogs189_final_project/scripts/SACSP.py:198: ComplexWarning: Casting complex values to real discards the imaginary part\n",
      "  E[i] = trial_fourier @ np.diag(h_or_l) @ np.matrix(trial_fourier).H\n",
      "/home/inffzy/Desktop/cogs189/cogs189_final_project/scripts/SACSP.py:225: ComplexWarning: Casting complex values to real discards the imaginary part\n",
      "  E[i] = np.matrix(trial_fourier).H @ w_or_v @ w_or_v.T @ trial_fourier\n",
      "/home/inffzy/Desktop/cogs189/cogs189_final_project/scripts/SACSP.py:177: ComplexWarning: Casting complex values to real discards the imaginary part\n",
      "  E[i] = trial_fourier @ np.diag(h_or_l) @ np.matrix(trial_fourier).H\n",
      "/home/inffzy/Desktop/cogs189/cogs189_final_project/scripts/SACSP.py:410: ComplexWarning: Casting complex values to real discards the imaginary part\n",
      "  extracted_features[i, j] = extracted_feature[0, 0]\n"
     ]
    },
    {
     "name": "stdout",
     "output_type": "stream",
     "text": [
      "Cross validation scores for labels  770  and  772 :  0.8830065359477125\n"
     ]
    },
    {
     "name": "stderr",
     "output_type": "stream",
     "text": [
      "/home/inffzy/Desktop/cogs189/cogs189_final_project/scripts/SACSP.py:198: ComplexWarning: Casting complex values to real discards the imaginary part\n",
      "  E[i] = trial_fourier @ np.diag(h_or_l) @ np.matrix(trial_fourier).H\n",
      "/home/inffzy/Desktop/cogs189/cogs189_final_project/scripts/SACSP.py:225: ComplexWarning: Casting complex values to real discards the imaginary part\n",
      "  E[i] = np.matrix(trial_fourier).H @ w_or_v @ w_or_v.T @ trial_fourier\n",
      "/home/inffzy/Desktop/cogs189/cogs189_final_project/scripts/SACSP.py:177: ComplexWarning: Casting complex values to real discards the imaginary part\n",
      "  E[i] = trial_fourier @ np.diag(h_or_l) @ np.matrix(trial_fourier).H\n",
      "/home/inffzy/Desktop/cogs189/cogs189_final_project/scripts/SACSP.py:410: ComplexWarning: Casting complex values to real discards the imaginary part\n",
      "  extracted_features[i, j] = extracted_feature[0, 0]\n"
     ]
    },
    {
     "name": "stdout",
     "output_type": "stream",
     "text": [
      "Cross validation scores for labels  771  and  772 :  0.6988304093567251\n"
     ]
    },
    {
     "name": "stderr",
     "output_type": "stream",
     "text": [
      "/home/inffzy/Desktop/cogs189/cogs189_final_project/scripts/SACSP.py:410: ComplexWarning: Casting complex values to real discards the imaginary part\n",
      "  extracted_features[i, j] = extracted_feature[0, 0]\n",
      "/home/inffzy/Desktop/cogs189/cogs189_final_project/scripts/SACSP.py:410: ComplexWarning: Casting complex values to real discards the imaginary part\n",
      "  extracted_features[i, j] = extracted_feature[0, 0]\n",
      "/home/inffzy/Desktop/cogs189/cogs189_final_project/scripts/SACSP.py:410: ComplexWarning: Casting complex values to real discards the imaginary part\n",
      "  extracted_features[i, j] = extracted_feature[0, 0]\n",
      "/home/inffzy/Desktop/cogs189/cogs189_final_project/scripts/SACSP.py:410: ComplexWarning: Casting complex values to real discards the imaginary part\n",
      "  extracted_features[i, j] = extracted_feature[0, 0]\n",
      "/home/inffzy/Desktop/cogs189/cogs189_final_project/scripts/SACSP.py:410: ComplexWarning: Casting complex values to real discards the imaginary part\n",
      "  extracted_features[i, j] = extracted_feature[0, 0]\n",
      "/home/inffzy/Desktop/cogs189/cogs189_final_project/scripts/SACSP.py:410: ComplexWarning: Casting complex values to real discards the imaginary part\n",
      "  extracted_features[i, j] = extracted_feature[0, 0]\n"
     ]
    },
    {
     "name": "stdout",
     "output_type": "stream",
     "text": [
      "Training accuracy:  0.6944444444444444\n"
     ]
    },
    {
     "name": "stderr",
     "output_type": "stream",
     "text": [
      "/home/inffzy/Desktop/cogs189/cogs189_final_project/scripts/SACSP.py:410: ComplexWarning: Casting complex values to real discards the imaginary part\n",
      "  extracted_features[i, j] = extracted_feature[0, 0]\n",
      "/home/inffzy/Desktop/cogs189/cogs189_final_project/scripts/SACSP.py:410: ComplexWarning: Casting complex values to real discards the imaginary part\n",
      "  extracted_features[i, j] = extracted_feature[0, 0]\n",
      "/home/inffzy/Desktop/cogs189/cogs189_final_project/scripts/SACSP.py:410: ComplexWarning: Casting complex values to real discards the imaginary part\n",
      "  extracted_features[i, j] = extracted_feature[0, 0]\n",
      "/home/inffzy/Desktop/cogs189/cogs189_final_project/scripts/SACSP.py:410: ComplexWarning: Casting complex values to real discards the imaginary part\n",
      "  extracted_features[i, j] = extracted_feature[0, 0]\n",
      "/home/inffzy/Desktop/cogs189/cogs189_final_project/scripts/SACSP.py:410: ComplexWarning: Casting complex values to real discards the imaginary part\n",
      "  extracted_features[i, j] = extracted_feature[0, 0]\n",
      "/home/inffzy/Desktop/cogs189/cogs189_final_project/scripts/SACSP.py:410: ComplexWarning: Casting complex values to real discards the imaginary part\n",
      "  extracted_features[i, j] = extracted_feature[0, 0]\n"
     ]
    },
    {
     "name": "stdout",
     "output_type": "stream",
     "text": [
      "Testing accuracy:  0.7333333333333333\n"
     ]
    },
    {
     "name": "stderr",
     "output_type": "stream",
     "text": [
      "/home/inffzy/Desktop/cogs189/cogs189_final_project/scripts/SACSP.py:198: ComplexWarning: Casting complex values to real discards the imaginary part\n",
      "  E[i] = trial_fourier @ np.diag(h_or_l) @ np.matrix(trial_fourier).H\n",
      "/home/inffzy/Desktop/cogs189/cogs189_final_project/scripts/SACSP.py:225: ComplexWarning: Casting complex values to real discards the imaginary part\n",
      "  E[i] = np.matrix(trial_fourier).H @ w_or_v @ w_or_v.T @ trial_fourier\n",
      "/home/inffzy/Desktop/cogs189/cogs189_final_project/scripts/SACSP.py:177: ComplexWarning: Casting complex values to real discards the imaginary part\n",
      "  E[i] = trial_fourier @ np.diag(h_or_l) @ np.matrix(trial_fourier).H\n",
      "/home/inffzy/Desktop/cogs189/cogs189_final_project/scripts/SACSP.py:410: ComplexWarning: Casting complex values to real discards the imaginary part\n",
      "  extracted_features[i, j] = extracted_feature[0, 0]\n"
     ]
    },
    {
     "name": "stdout",
     "output_type": "stream",
     "text": [
      "Cross validation scores for labels  769  and  770 :  0.6261437908496732\n"
     ]
    },
    {
     "name": "stderr",
     "output_type": "stream",
     "text": [
      "/home/inffzy/Desktop/cogs189/cogs189_final_project/scripts/SACSP.py:198: ComplexWarning: Casting complex values to real discards the imaginary part\n",
      "  E[i] = trial_fourier @ np.diag(h_or_l) @ np.matrix(trial_fourier).H\n",
      "/home/inffzy/Desktop/cogs189/cogs189_final_project/scripts/SACSP.py:225: ComplexWarning: Casting complex values to real discards the imaginary part\n",
      "  E[i] = np.matrix(trial_fourier).H @ w_or_v @ w_or_v.T @ trial_fourier\n",
      "/home/inffzy/Desktop/cogs189/cogs189_final_project/scripts/SACSP.py:177: ComplexWarning: Casting complex values to real discards the imaginary part\n",
      "  E[i] = trial_fourier @ np.diag(h_or_l) @ np.matrix(trial_fourier).H\n",
      "/home/inffzy/Desktop/cogs189/cogs189_final_project/scripts/SACSP.py:410: ComplexWarning: Casting complex values to real discards the imaginary part\n",
      "  extracted_features[i, j] = extracted_feature[0, 0]\n"
     ]
    },
    {
     "name": "stdout",
     "output_type": "stream",
     "text": [
      "Cross validation scores for labels  769  and  771 :  0.5647058823529412\n"
     ]
    },
    {
     "name": "stderr",
     "output_type": "stream",
     "text": [
      "/home/inffzy/Desktop/cogs189/cogs189_final_project/scripts/SACSP.py:198: ComplexWarning: Casting complex values to real discards the imaginary part\n",
      "  E[i] = trial_fourier @ np.diag(h_or_l) @ np.matrix(trial_fourier).H\n",
      "/home/inffzy/Desktop/cogs189/cogs189_final_project/scripts/SACSP.py:225: ComplexWarning: Casting complex values to real discards the imaginary part\n",
      "  E[i] = np.matrix(trial_fourier).H @ w_or_v @ w_or_v.T @ trial_fourier\n",
      "/home/inffzy/Desktop/cogs189/cogs189_final_project/scripts/SACSP.py:177: ComplexWarning: Casting complex values to real discards the imaginary part\n",
      "  E[i] = trial_fourier @ np.diag(h_or_l) @ np.matrix(trial_fourier).H\n",
      "/home/inffzy/Desktop/cogs189/cogs189_final_project/scripts/SACSP.py:410: ComplexWarning: Casting complex values to real discards the imaginary part\n",
      "  extracted_features[i, j] = extracted_feature[0, 0]\n"
     ]
    },
    {
     "name": "stdout",
     "output_type": "stream",
     "text": [
      "Cross validation scores for labels  769  and  772 :  0.6\n"
     ]
    },
    {
     "name": "stderr",
     "output_type": "stream",
     "text": [
      "/home/inffzy/Desktop/cogs189/cogs189_final_project/scripts/SACSP.py:198: ComplexWarning: Casting complex values to real discards the imaginary part\n",
      "  E[i] = trial_fourier @ np.diag(h_or_l) @ np.matrix(trial_fourier).H\n",
      "/home/inffzy/Desktop/cogs189/cogs189_final_project/scripts/SACSP.py:225: ComplexWarning: Casting complex values to real discards the imaginary part\n",
      "  E[i] = np.matrix(trial_fourier).H @ w_or_v @ w_or_v.T @ trial_fourier\n",
      "/home/inffzy/Desktop/cogs189/cogs189_final_project/scripts/SACSP.py:177: ComplexWarning: Casting complex values to real discards the imaginary part\n",
      "  E[i] = trial_fourier @ np.diag(h_or_l) @ np.matrix(trial_fourier).H\n",
      "/home/inffzy/Desktop/cogs189/cogs189_final_project/scripts/SACSP.py:410: ComplexWarning: Casting complex values to real discards the imaginary part\n",
      "  extracted_features[i, j] = extracted_feature[0, 0]\n"
     ]
    },
    {
     "name": "stdout",
     "output_type": "stream",
     "text": [
      "Cross validation scores for labels  770  and  771 :  0.631578947368421\n"
     ]
    },
    {
     "name": "stderr",
     "output_type": "stream",
     "text": [
      "/home/inffzy/Desktop/cogs189/cogs189_final_project/scripts/SACSP.py:198: ComplexWarning: Casting complex values to real discards the imaginary part\n",
      "  E[i] = trial_fourier @ np.diag(h_or_l) @ np.matrix(trial_fourier).H\n",
      "/home/inffzy/Desktop/cogs189/cogs189_final_project/scripts/SACSP.py:225: ComplexWarning: Casting complex values to real discards the imaginary part\n",
      "  E[i] = np.matrix(trial_fourier).H @ w_or_v @ w_or_v.T @ trial_fourier\n",
      "/home/inffzy/Desktop/cogs189/cogs189_final_project/scripts/SACSP.py:177: ComplexWarning: Casting complex values to real discards the imaginary part\n",
      "  E[i] = trial_fourier @ np.diag(h_or_l) @ np.matrix(trial_fourier).H\n",
      "/home/inffzy/Desktop/cogs189/cogs189_final_project/scripts/SACSP.py:410: ComplexWarning: Casting complex values to real discards the imaginary part\n",
      "  extracted_features[i, j] = extracted_feature[0, 0]\n"
     ]
    },
    {
     "name": "stdout",
     "output_type": "stream",
     "text": [
      "Cross validation scores for labels  770  and  772 :  0.6222222222222221\n"
     ]
    },
    {
     "name": "stderr",
     "output_type": "stream",
     "text": [
      "/home/inffzy/Desktop/cogs189/cogs189_final_project/scripts/SACSP.py:198: ComplexWarning: Casting complex values to real discards the imaginary part\n",
      "  E[i] = trial_fourier @ np.diag(h_or_l) @ np.matrix(trial_fourier).H\n",
      "/home/inffzy/Desktop/cogs189/cogs189_final_project/scripts/SACSP.py:225: ComplexWarning: Casting complex values to real discards the imaginary part\n",
      "  E[i] = np.matrix(trial_fourier).H @ w_or_v @ w_or_v.T @ trial_fourier\n",
      "/home/inffzy/Desktop/cogs189/cogs189_final_project/scripts/SACSP.py:177: ComplexWarning: Casting complex values to real discards the imaginary part\n",
      "  E[i] = trial_fourier @ np.diag(h_or_l) @ np.matrix(trial_fourier).H\n",
      "/home/inffzy/Desktop/cogs189/cogs189_final_project/scripts/SACSP.py:410: ComplexWarning: Casting complex values to real discards the imaginary part\n",
      "  extracted_features[i, j] = extracted_feature[0, 0]\n"
     ]
    },
    {
     "name": "stdout",
     "output_type": "stream",
     "text": [
      "Cross validation scores for labels  771  and  772 :  0.6202614379084966\n"
     ]
    },
    {
     "name": "stderr",
     "output_type": "stream",
     "text": [
      "/home/inffzy/Desktop/cogs189/cogs189_final_project/scripts/SACSP.py:410: ComplexWarning: Casting complex values to real discards the imaginary part\n",
      "  extracted_features[i, j] = extracted_feature[0, 0]\n",
      "/home/inffzy/Desktop/cogs189/cogs189_final_project/scripts/SACSP.py:410: ComplexWarning: Casting complex values to real discards the imaginary part\n",
      "  extracted_features[i, j] = extracted_feature[0, 0]\n",
      "/home/inffzy/Desktop/cogs189/cogs189_final_project/scripts/SACSP.py:410: ComplexWarning: Casting complex values to real discards the imaginary part\n",
      "  extracted_features[i, j] = extracted_feature[0, 0]\n",
      "/home/inffzy/Desktop/cogs189/cogs189_final_project/scripts/SACSP.py:410: ComplexWarning: Casting complex values to real discards the imaginary part\n",
      "  extracted_features[i, j] = extracted_feature[0, 0]\n",
      "/home/inffzy/Desktop/cogs189/cogs189_final_project/scripts/SACSP.py:410: ComplexWarning: Casting complex values to real discards the imaginary part\n",
      "  extracted_features[i, j] = extracted_feature[0, 0]\n",
      "/home/inffzy/Desktop/cogs189/cogs189_final_project/scripts/SACSP.py:410: ComplexWarning: Casting complex values to real discards the imaginary part\n",
      "  extracted_features[i, j] = extracted_feature[0, 0]\n"
     ]
    },
    {
     "name": "stdout",
     "output_type": "stream",
     "text": [
      "Training accuracy:  0.38857142857142857\n"
     ]
    },
    {
     "name": "stderr",
     "output_type": "stream",
     "text": [
      "/home/inffzy/Desktop/cogs189/cogs189_final_project/scripts/SACSP.py:410: ComplexWarning: Casting complex values to real discards the imaginary part\n",
      "  extracted_features[i, j] = extracted_feature[0, 0]\n",
      "/home/inffzy/Desktop/cogs189/cogs189_final_project/scripts/SACSP.py:410: ComplexWarning: Casting complex values to real discards the imaginary part\n",
      "  extracted_features[i, j] = extracted_feature[0, 0]\n",
      "/home/inffzy/Desktop/cogs189/cogs189_final_project/scripts/SACSP.py:410: ComplexWarning: Casting complex values to real discards the imaginary part\n",
      "  extracted_features[i, j] = extracted_feature[0, 0]\n",
      "/home/inffzy/Desktop/cogs189/cogs189_final_project/scripts/SACSP.py:410: ComplexWarning: Casting complex values to real discards the imaginary part\n",
      "  extracted_features[i, j] = extracted_feature[0, 0]\n",
      "/home/inffzy/Desktop/cogs189/cogs189_final_project/scripts/SACSP.py:410: ComplexWarning: Casting complex values to real discards the imaginary part\n",
      "  extracted_features[i, j] = extracted_feature[0, 0]\n",
      "/home/inffzy/Desktop/cogs189/cogs189_final_project/scripts/SACSP.py:410: ComplexWarning: Casting complex values to real discards the imaginary part\n",
      "  extracted_features[i, j] = extracted_feature[0, 0]\n"
     ]
    },
    {
     "name": "stdout",
     "output_type": "stream",
     "text": [
      "Testing accuracy:  0.27586206896551724\n"
     ]
    },
    {
     "name": "stderr",
     "output_type": "stream",
     "text": [
      "/home/inffzy/Desktop/cogs189/cogs189_final_project/scripts/SACSP.py:198: ComplexWarning: Casting complex values to real discards the imaginary part\n",
      "  E[i] = trial_fourier @ np.diag(h_or_l) @ np.matrix(trial_fourier).H\n",
      "/home/inffzy/Desktop/cogs189/cogs189_final_project/scripts/SACSP.py:225: ComplexWarning: Casting complex values to real discards the imaginary part\n",
      "  E[i] = np.matrix(trial_fourier).H @ w_or_v @ w_or_v.T @ trial_fourier\n",
      "/home/inffzy/Desktop/cogs189/cogs189_final_project/scripts/SACSP.py:177: ComplexWarning: Casting complex values to real discards the imaginary part\n",
      "  E[i] = trial_fourier @ np.diag(h_or_l) @ np.matrix(trial_fourier).H\n",
      "/home/inffzy/Desktop/cogs189/cogs189_final_project/scripts/SACSP.py:410: ComplexWarning: Casting complex values to real discards the imaginary part\n",
      "  extracted_features[i, j] = extracted_feature[0, 0]\n"
     ]
    },
    {
     "name": "stdout",
     "output_type": "stream",
     "text": [
      "Cross validation scores for labels  769  and  770 :  0.5973856209150327\n"
     ]
    },
    {
     "name": "stderr",
     "output_type": "stream",
     "text": [
      "/home/inffzy/Desktop/cogs189/cogs189_final_project/scripts/SACSP.py:198: ComplexWarning: Casting complex values to real discards the imaginary part\n",
      "  E[i] = trial_fourier @ np.diag(h_or_l) @ np.matrix(trial_fourier).H\n",
      "/home/inffzy/Desktop/cogs189/cogs189_final_project/scripts/SACSP.py:225: ComplexWarning: Casting complex values to real discards the imaginary part\n",
      "  E[i] = np.matrix(trial_fourier).H @ w_or_v @ w_or_v.T @ trial_fourier\n",
      "/home/inffzy/Desktop/cogs189/cogs189_final_project/scripts/SACSP.py:177: ComplexWarning: Casting complex values to real discards the imaginary part\n",
      "  E[i] = trial_fourier @ np.diag(h_or_l) @ np.matrix(trial_fourier).H\n",
      "/home/inffzy/Desktop/cogs189/cogs189_final_project/scripts/SACSP.py:410: ComplexWarning: Casting complex values to real discards the imaginary part\n",
      "  extracted_features[i, j] = extracted_feature[0, 0]\n"
     ]
    },
    {
     "name": "stdout",
     "output_type": "stream",
     "text": [
      "Cross validation scores for labels  769  and  771 :  0.5745098039215686\n"
     ]
    },
    {
     "name": "stderr",
     "output_type": "stream",
     "text": [
      "/home/inffzy/Desktop/cogs189/cogs189_final_project/scripts/SACSP.py:198: ComplexWarning: Casting complex values to real discards the imaginary part\n",
      "  E[i] = trial_fourier @ np.diag(h_or_l) @ np.matrix(trial_fourier).H\n",
      "/home/inffzy/Desktop/cogs189/cogs189_final_project/scripts/SACSP.py:225: ComplexWarning: Casting complex values to real discards the imaginary part\n",
      "  E[i] = np.matrix(trial_fourier).H @ w_or_v @ w_or_v.T @ trial_fourier\n",
      "/home/inffzy/Desktop/cogs189/cogs189_final_project/scripts/SACSP.py:177: ComplexWarning: Casting complex values to real discards the imaginary part\n",
      "  E[i] = trial_fourier @ np.diag(h_or_l) @ np.matrix(trial_fourier).H\n",
      "/home/inffzy/Desktop/cogs189/cogs189_final_project/scripts/SACSP.py:410: ComplexWarning: Casting complex values to real discards the imaginary part\n",
      "  extracted_features[i, j] = extracted_feature[0, 0]\n"
     ]
    },
    {
     "name": "stdout",
     "output_type": "stream",
     "text": [
      "Cross validation scores for labels  769  and  772 :  0.6684210526315789\n"
     ]
    },
    {
     "name": "stderr",
     "output_type": "stream",
     "text": [
      "/home/inffzy/Desktop/cogs189/cogs189_final_project/scripts/SACSP.py:198: ComplexWarning: Casting complex values to real discards the imaginary part\n",
      "  E[i] = trial_fourier @ np.diag(h_or_l) @ np.matrix(trial_fourier).H\n",
      "/home/inffzy/Desktop/cogs189/cogs189_final_project/scripts/SACSP.py:225: ComplexWarning: Casting complex values to real discards the imaginary part\n",
      "  E[i] = np.matrix(trial_fourier).H @ w_or_v @ w_or_v.T @ trial_fourier\n",
      "/home/inffzy/Desktop/cogs189/cogs189_final_project/scripts/SACSP.py:177: ComplexWarning: Casting complex values to real discards the imaginary part\n",
      "  E[i] = trial_fourier @ np.diag(h_or_l) @ np.matrix(trial_fourier).H\n",
      "/home/inffzy/Desktop/cogs189/cogs189_final_project/scripts/SACSP.py:410: ComplexWarning: Casting complex values to real discards the imaginary part\n",
      "  extracted_features[i, j] = extracted_feature[0, 0]\n"
     ]
    },
    {
     "name": "stdout",
     "output_type": "stream",
     "text": [
      "Cross validation scores for labels  770  and  771 :  0.6301470588235294\n"
     ]
    },
    {
     "name": "stderr",
     "output_type": "stream",
     "text": [
      "/home/inffzy/Desktop/cogs189/cogs189_final_project/scripts/SACSP.py:198: ComplexWarning: Casting complex values to real discards the imaginary part\n",
      "  E[i] = trial_fourier @ np.diag(h_or_l) @ np.matrix(trial_fourier).H\n",
      "/home/inffzy/Desktop/cogs189/cogs189_final_project/scripts/SACSP.py:225: ComplexWarning: Casting complex values to real discards the imaginary part\n",
      "  E[i] = np.matrix(trial_fourier).H @ w_or_v @ w_or_v.T @ trial_fourier\n",
      "/home/inffzy/Desktop/cogs189/cogs189_final_project/scripts/SACSP.py:177: ComplexWarning: Casting complex values to real discards the imaginary part\n",
      "  E[i] = trial_fourier @ np.diag(h_or_l) @ np.matrix(trial_fourier).H\n",
      "/home/inffzy/Desktop/cogs189/cogs189_final_project/scripts/SACSP.py:410: ComplexWarning: Casting complex values to real discards the imaginary part\n",
      "  extracted_features[i, j] = extracted_feature[0, 0]\n"
     ]
    },
    {
     "name": "stdout",
     "output_type": "stream",
     "text": [
      "Cross validation scores for labels  770  and  772 :  0.44117647058823534\n"
     ]
    },
    {
     "name": "stderr",
     "output_type": "stream",
     "text": [
      "/home/inffzy/Desktop/cogs189/cogs189_final_project/scripts/SACSP.py:198: ComplexWarning: Casting complex values to real discards the imaginary part\n",
      "  E[i] = trial_fourier @ np.diag(h_or_l) @ np.matrix(trial_fourier).H\n",
      "/home/inffzy/Desktop/cogs189/cogs189_final_project/scripts/SACSP.py:225: ComplexWarning: Casting complex values to real discards the imaginary part\n",
      "  E[i] = np.matrix(trial_fourier).H @ w_or_v @ w_or_v.T @ trial_fourier\n",
      "/home/inffzy/Desktop/cogs189/cogs189_final_project/scripts/SACSP.py:177: ComplexWarning: Casting complex values to real discards the imaginary part\n",
      "  E[i] = trial_fourier @ np.diag(h_or_l) @ np.matrix(trial_fourier).H\n",
      "/home/inffzy/Desktop/cogs189/cogs189_final_project/scripts/SACSP.py:410: ComplexWarning: Casting complex values to real discards the imaginary part\n",
      "  extracted_features[i, j] = extracted_feature[0, 0]\n"
     ]
    },
    {
     "name": "stdout",
     "output_type": "stream",
     "text": [
      "Cross validation scores for labels  771  and  772 :  0.6352941176470588\n"
     ]
    },
    {
     "name": "stderr",
     "output_type": "stream",
     "text": [
      "/home/inffzy/Desktop/cogs189/cogs189_final_project/scripts/SACSP.py:410: ComplexWarning: Casting complex values to real discards the imaginary part\n",
      "  extracted_features[i, j] = extracted_feature[0, 0]\n",
      "/home/inffzy/Desktop/cogs189/cogs189_final_project/scripts/SACSP.py:410: ComplexWarning: Casting complex values to real discards the imaginary part\n",
      "  extracted_features[i, j] = extracted_feature[0, 0]\n",
      "/home/inffzy/Desktop/cogs189/cogs189_final_project/scripts/SACSP.py:410: ComplexWarning: Casting complex values to real discards the imaginary part\n",
      "  extracted_features[i, j] = extracted_feature[0, 0]\n",
      "/home/inffzy/Desktop/cogs189/cogs189_final_project/scripts/SACSP.py:410: ComplexWarning: Casting complex values to real discards the imaginary part\n",
      "  extracted_features[i, j] = extracted_feature[0, 0]\n",
      "/home/inffzy/Desktop/cogs189/cogs189_final_project/scripts/SACSP.py:410: ComplexWarning: Casting complex values to real discards the imaginary part\n",
      "  extracted_features[i, j] = extracted_feature[0, 0]\n",
      "/home/inffzy/Desktop/cogs189/cogs189_final_project/scripts/SACSP.py:410: ComplexWarning: Casting complex values to real discards the imaginary part\n",
      "  extracted_features[i, j] = extracted_feature[0, 0]\n"
     ]
    },
    {
     "name": "stdout",
     "output_type": "stream",
     "text": [
      "Training accuracy:  0.37714285714285717\n"
     ]
    },
    {
     "name": "stderr",
     "output_type": "stream",
     "text": [
      "/home/inffzy/Desktop/cogs189/cogs189_final_project/scripts/SACSP.py:410: ComplexWarning: Casting complex values to real discards the imaginary part\n",
      "  extracted_features[i, j] = extracted_feature[0, 0]\n",
      "/home/inffzy/Desktop/cogs189/cogs189_final_project/scripts/SACSP.py:410: ComplexWarning: Casting complex values to real discards the imaginary part\n",
      "  extracted_features[i, j] = extracted_feature[0, 0]\n",
      "/home/inffzy/Desktop/cogs189/cogs189_final_project/scripts/SACSP.py:410: ComplexWarning: Casting complex values to real discards the imaginary part\n",
      "  extracted_features[i, j] = extracted_feature[0, 0]\n",
      "/home/inffzy/Desktop/cogs189/cogs189_final_project/scripts/SACSP.py:410: ComplexWarning: Casting complex values to real discards the imaginary part\n",
      "  extracted_features[i, j] = extracted_feature[0, 0]\n",
      "/home/inffzy/Desktop/cogs189/cogs189_final_project/scripts/SACSP.py:410: ComplexWarning: Casting complex values to real discards the imaginary part\n",
      "  extracted_features[i, j] = extracted_feature[0, 0]\n",
      "/home/inffzy/Desktop/cogs189/cogs189_final_project/scripts/SACSP.py:410: ComplexWarning: Casting complex values to real discards the imaginary part\n",
      "  extracted_features[i, j] = extracted_feature[0, 0]\n"
     ]
    },
    {
     "name": "stdout",
     "output_type": "stream",
     "text": [
      "Testing accuracy:  0.19540229885057472\n"
     ]
    },
    {
     "name": "stderr",
     "output_type": "stream",
     "text": [
      "/home/inffzy/Desktop/cogs189/cogs189_final_project/scripts/SACSP.py:198: ComplexWarning: Casting complex values to real discards the imaginary part\n",
      "  E[i] = trial_fourier @ np.diag(h_or_l) @ np.matrix(trial_fourier).H\n",
      "/home/inffzy/Desktop/cogs189/cogs189_final_project/scripts/SACSP.py:225: ComplexWarning: Casting complex values to real discards the imaginary part\n",
      "  E[i] = np.matrix(trial_fourier).H @ w_or_v @ w_or_v.T @ trial_fourier\n",
      "/home/inffzy/Desktop/cogs189/cogs189_final_project/scripts/SACSP.py:177: ComplexWarning: Casting complex values to real discards the imaginary part\n",
      "  E[i] = trial_fourier @ np.diag(h_or_l) @ np.matrix(trial_fourier).H\n",
      "/home/inffzy/Desktop/cogs189/cogs189_final_project/scripts/SACSP.py:410: ComplexWarning: Casting complex values to real discards the imaginary part\n",
      "  extracted_features[i, j] = extracted_feature[0, 0]\n"
     ]
    },
    {
     "name": "stdout",
     "output_type": "stream",
     "text": [
      "Cross validation scores for labels  769  and  770 :  0.5095238095238095\n"
     ]
    },
    {
     "name": "stderr",
     "output_type": "stream",
     "text": [
      "/home/inffzy/Desktop/cogs189/cogs189_final_project/scripts/SACSP.py:198: ComplexWarning: Casting complex values to real discards the imaginary part\n",
      "  E[i] = trial_fourier @ np.diag(h_or_l) @ np.matrix(trial_fourier).H\n",
      "/home/inffzy/Desktop/cogs189/cogs189_final_project/scripts/SACSP.py:225: ComplexWarning: Casting complex values to real discards the imaginary part\n",
      "  E[i] = np.matrix(trial_fourier).H @ w_or_v @ w_or_v.T @ trial_fourier\n",
      "/home/inffzy/Desktop/cogs189/cogs189_final_project/scripts/SACSP.py:177: ComplexWarning: Casting complex values to real discards the imaginary part\n",
      "  E[i] = trial_fourier @ np.diag(h_or_l) @ np.matrix(trial_fourier).H\n",
      "/home/inffzy/Desktop/cogs189/cogs189_final_project/scripts/SACSP.py:410: ComplexWarning: Casting complex values to real discards the imaginary part\n",
      "  extracted_features[i, j] = extracted_feature[0, 0]\n"
     ]
    },
    {
     "name": "stdout",
     "output_type": "stream",
     "text": [
      "Cross validation scores for labels  769  and  771 :  0.6228571428571429\n"
     ]
    },
    {
     "name": "stderr",
     "output_type": "stream",
     "text": [
      "/home/inffzy/Desktop/cogs189/cogs189_final_project/scripts/SACSP.py:198: ComplexWarning: Casting complex values to real discards the imaginary part\n",
      "  E[i] = trial_fourier @ np.diag(h_or_l) @ np.matrix(trial_fourier).H\n",
      "/home/inffzy/Desktop/cogs189/cogs189_final_project/scripts/SACSP.py:225: ComplexWarning: Casting complex values to real discards the imaginary part\n",
      "  E[i] = np.matrix(trial_fourier).H @ w_or_v @ w_or_v.T @ trial_fourier\n",
      "/home/inffzy/Desktop/cogs189/cogs189_final_project/scripts/SACSP.py:177: ComplexWarning: Casting complex values to real discards the imaginary part\n",
      "  E[i] = trial_fourier @ np.diag(h_or_l) @ np.matrix(trial_fourier).H\n",
      "/home/inffzy/Desktop/cogs189/cogs189_final_project/scripts/SACSP.py:410: ComplexWarning: Casting complex values to real discards the imaginary part\n",
      "  extracted_features[i, j] = extracted_feature[0, 0]\n"
     ]
    },
    {
     "name": "stdout",
     "output_type": "stream",
     "text": [
      "Cross validation scores for labels  769  and  772 :  0.635\n"
     ]
    },
    {
     "name": "stderr",
     "output_type": "stream",
     "text": [
      "/home/inffzy/Desktop/cogs189/cogs189_final_project/scripts/SACSP.py:198: ComplexWarning: Casting complex values to real discards the imaginary part\n",
      "  E[i] = trial_fourier @ np.diag(h_or_l) @ np.matrix(trial_fourier).H\n",
      "/home/inffzy/Desktop/cogs189/cogs189_final_project/scripts/SACSP.py:225: ComplexWarning: Casting complex values to real discards the imaginary part\n",
      "  E[i] = np.matrix(trial_fourier).H @ w_or_v @ w_or_v.T @ trial_fourier\n",
      "/home/inffzy/Desktop/cogs189/cogs189_final_project/scripts/SACSP.py:177: ComplexWarning: Casting complex values to real discards the imaginary part\n",
      "  E[i] = trial_fourier @ np.diag(h_or_l) @ np.matrix(trial_fourier).H\n",
      "/home/inffzy/Desktop/cogs189/cogs189_final_project/scripts/SACSP.py:410: ComplexWarning: Casting complex values to real discards the imaginary part\n",
      "  extracted_features[i, j] = extracted_feature[0, 0]\n"
     ]
    },
    {
     "name": "stdout",
     "output_type": "stream",
     "text": [
      "Cross validation scores for labels  770  and  771 :  0.6879120879120879\n"
     ]
    },
    {
     "name": "stderr",
     "output_type": "stream",
     "text": [
      "/home/inffzy/Desktop/cogs189/cogs189_final_project/scripts/SACSP.py:198: ComplexWarning: Casting complex values to real discards the imaginary part\n",
      "  E[i] = trial_fourier @ np.diag(h_or_l) @ np.matrix(trial_fourier).H\n",
      "/home/inffzy/Desktop/cogs189/cogs189_final_project/scripts/SACSP.py:225: ComplexWarning: Casting complex values to real discards the imaginary part\n",
      "  E[i] = np.matrix(trial_fourier).H @ w_or_v @ w_or_v.T @ trial_fourier\n",
      "/home/inffzy/Desktop/cogs189/cogs189_final_project/scripts/SACSP.py:177: ComplexWarning: Casting complex values to real discards the imaginary part\n",
      "  E[i] = trial_fourier @ np.diag(h_or_l) @ np.matrix(trial_fourier).H\n",
      "/home/inffzy/Desktop/cogs189/cogs189_final_project/scripts/SACSP.py:410: ComplexWarning: Casting complex values to real discards the imaginary part\n",
      "  extracted_features[i, j] = extracted_feature[0, 0]\n"
     ]
    },
    {
     "name": "stdout",
     "output_type": "stream",
     "text": [
      "Cross validation scores for labels  770  and  772 :  0.5466666666666666\n"
     ]
    },
    {
     "name": "stderr",
     "output_type": "stream",
     "text": [
      "/home/inffzy/Desktop/cogs189/cogs189_final_project/scripts/SACSP.py:198: ComplexWarning: Casting complex values to real discards the imaginary part\n",
      "  E[i] = trial_fourier @ np.diag(h_or_l) @ np.matrix(trial_fourier).H\n",
      "/home/inffzy/Desktop/cogs189/cogs189_final_project/scripts/SACSP.py:225: ComplexWarning: Casting complex values to real discards the imaginary part\n",
      "  E[i] = np.matrix(trial_fourier).H @ w_or_v @ w_or_v.T @ trial_fourier\n",
      "/home/inffzy/Desktop/cogs189/cogs189_final_project/scripts/SACSP.py:177: ComplexWarning: Casting complex values to real discards the imaginary part\n",
      "  E[i] = trial_fourier @ np.diag(h_or_l) @ np.matrix(trial_fourier).H\n",
      "/home/inffzy/Desktop/cogs189/cogs189_final_project/scripts/SACSP.py:410: ComplexWarning: Casting complex values to real discards the imaginary part\n",
      "  extracted_features[i, j] = extracted_feature[0, 0]\n"
     ]
    },
    {
     "name": "stdout",
     "output_type": "stream",
     "text": [
      "Cross validation scores for labels  771  and  772 :  0.5952380952380952\n"
     ]
    },
    {
     "name": "stderr",
     "output_type": "stream",
     "text": [
      "/home/inffzy/Desktop/cogs189/cogs189_final_project/scripts/SACSP.py:410: ComplexWarning: Casting complex values to real discards the imaginary part\n",
      "  extracted_features[i, j] = extracted_feature[0, 0]\n",
      "/home/inffzy/Desktop/cogs189/cogs189_final_project/scripts/SACSP.py:410: ComplexWarning: Casting complex values to real discards the imaginary part\n",
      "  extracted_features[i, j] = extracted_feature[0, 0]\n",
      "/home/inffzy/Desktop/cogs189/cogs189_final_project/scripts/SACSP.py:410: ComplexWarning: Casting complex values to real discards the imaginary part\n",
      "  extracted_features[i, j] = extracted_feature[0, 0]\n",
      "/home/inffzy/Desktop/cogs189/cogs189_final_project/scripts/SACSP.py:410: ComplexWarning: Casting complex values to real discards the imaginary part\n",
      "  extracted_features[i, j] = extracted_feature[0, 0]\n",
      "/home/inffzy/Desktop/cogs189/cogs189_final_project/scripts/SACSP.py:410: ComplexWarning: Casting complex values to real discards the imaginary part\n",
      "  extracted_features[i, j] = extracted_feature[0, 0]\n",
      "/home/inffzy/Desktop/cogs189/cogs189_final_project/scripts/SACSP.py:410: ComplexWarning: Casting complex values to real discards the imaginary part\n",
      "  extracted_features[i, j] = extracted_feature[0, 0]\n"
     ]
    },
    {
     "name": "stdout",
     "output_type": "stream",
     "text": [
      "Training accuracy:  0.4315068493150685\n"
     ]
    },
    {
     "name": "stderr",
     "output_type": "stream",
     "text": [
      "/home/inffzy/Desktop/cogs189/cogs189_final_project/scripts/SACSP.py:410: ComplexWarning: Casting complex values to real discards the imaginary part\n",
      "  extracted_features[i, j] = extracted_feature[0, 0]\n",
      "/home/inffzy/Desktop/cogs189/cogs189_final_project/scripts/SACSP.py:410: ComplexWarning: Casting complex values to real discards the imaginary part\n",
      "  extracted_features[i, j] = extracted_feature[0, 0]\n",
      "/home/inffzy/Desktop/cogs189/cogs189_final_project/scripts/SACSP.py:410: ComplexWarning: Casting complex values to real discards the imaginary part\n",
      "  extracted_features[i, j] = extracted_feature[0, 0]\n",
      "/home/inffzy/Desktop/cogs189/cogs189_final_project/scripts/SACSP.py:410: ComplexWarning: Casting complex values to real discards the imaginary part\n",
      "  extracted_features[i, j] = extracted_feature[0, 0]\n",
      "/home/inffzy/Desktop/cogs189/cogs189_final_project/scripts/SACSP.py:410: ComplexWarning: Casting complex values to real discards the imaginary part\n",
      "  extracted_features[i, j] = extracted_feature[0, 0]\n",
      "/home/inffzy/Desktop/cogs189/cogs189_final_project/scripts/SACSP.py:410: ComplexWarning: Casting complex values to real discards the imaginary part\n",
      "  extracted_features[i, j] = extracted_feature[0, 0]\n",
      "/home/inffzy/Desktop/cogs189/cogs189_final_project/scripts/SACSP.py:198: ComplexWarning: Casting complex values to real discards the imaginary part\n",
      "  E[i] = trial_fourier @ np.diag(h_or_l) @ np.matrix(trial_fourier).H\n"
     ]
    },
    {
     "name": "stdout",
     "output_type": "stream",
     "text": [
      "Testing accuracy:  0.2191780821917808\n"
     ]
    },
    {
     "name": "stderr",
     "output_type": "stream",
     "text": [
      "/home/inffzy/Desktop/cogs189/cogs189_final_project/scripts/SACSP.py:225: ComplexWarning: Casting complex values to real discards the imaginary part\n",
      "  E[i] = np.matrix(trial_fourier).H @ w_or_v @ w_or_v.T @ trial_fourier\n",
      "/home/inffzy/Desktop/cogs189/cogs189_final_project/scripts/SACSP.py:177: ComplexWarning: Casting complex values to real discards the imaginary part\n",
      "  E[i] = trial_fourier @ np.diag(h_or_l) @ np.matrix(trial_fourier).H\n",
      "/home/inffzy/Desktop/cogs189/cogs189_final_project/scripts/SACSP.py:410: ComplexWarning: Casting complex values to real discards the imaginary part\n",
      "  extracted_features[i, j] = extracted_feature[0, 0]\n"
     ]
    },
    {
     "name": "stdout",
     "output_type": "stream",
     "text": [
      "Cross validation scores for labels  769  and  770 :  0.5830065359477123\n"
     ]
    },
    {
     "name": "stderr",
     "output_type": "stream",
     "text": [
      "/home/inffzy/Desktop/cogs189/cogs189_final_project/scripts/SACSP.py:198: ComplexWarning: Casting complex values to real discards the imaginary part\n",
      "  E[i] = trial_fourier @ np.diag(h_or_l) @ np.matrix(trial_fourier).H\n",
      "/home/inffzy/Desktop/cogs189/cogs189_final_project/scripts/SACSP.py:225: ComplexWarning: Casting complex values to real discards the imaginary part\n",
      "  E[i] = np.matrix(trial_fourier).H @ w_or_v @ w_or_v.T @ trial_fourier\n",
      "/home/inffzy/Desktop/cogs189/cogs189_final_project/scripts/SACSP.py:177: ComplexWarning: Casting complex values to real discards the imaginary part\n",
      "  E[i] = trial_fourier @ np.diag(h_or_l) @ np.matrix(trial_fourier).H\n",
      "/home/inffzy/Desktop/cogs189/cogs189_final_project/scripts/SACSP.py:410: ComplexWarning: Casting complex values to real discards the imaginary part\n",
      "  extracted_features[i, j] = extracted_feature[0, 0]\n"
     ]
    },
    {
     "name": "stdout",
     "output_type": "stream",
     "text": [
      "Cross validation scores for labels  769  and  771 :  0.572514619883041\n"
     ]
    },
    {
     "name": "stderr",
     "output_type": "stream",
     "text": [
      "/home/inffzy/Desktop/cogs189/cogs189_final_project/scripts/SACSP.py:198: ComplexWarning: Casting complex values to real discards the imaginary part\n",
      "  E[i] = trial_fourier @ np.diag(h_or_l) @ np.matrix(trial_fourier).H\n",
      "/home/inffzy/Desktop/cogs189/cogs189_final_project/scripts/SACSP.py:225: ComplexWarning: Casting complex values to real discards the imaginary part\n",
      "  E[i] = np.matrix(trial_fourier).H @ w_or_v @ w_or_v.T @ trial_fourier\n",
      "/home/inffzy/Desktop/cogs189/cogs189_final_project/scripts/SACSP.py:177: ComplexWarning: Casting complex values to real discards the imaginary part\n",
      "  E[i] = trial_fourier @ np.diag(h_or_l) @ np.matrix(trial_fourier).H\n",
      "/home/inffzy/Desktop/cogs189/cogs189_final_project/scripts/SACSP.py:410: ComplexWarning: Casting complex values to real discards the imaginary part\n",
      "  extracted_features[i, j] = extracted_feature[0, 0]\n"
     ]
    },
    {
     "name": "stdout",
     "output_type": "stream",
     "text": [
      "Cross validation scores for labels  769  and  772 :  0.5538011695906433\n"
     ]
    },
    {
     "name": "stderr",
     "output_type": "stream",
     "text": [
      "/home/inffzy/Desktop/cogs189/cogs189_final_project/scripts/SACSP.py:198: ComplexWarning: Casting complex values to real discards the imaginary part\n",
      "  E[i] = trial_fourier @ np.diag(h_or_l) @ np.matrix(trial_fourier).H\n",
      "/home/inffzy/Desktop/cogs189/cogs189_final_project/scripts/SACSP.py:225: ComplexWarning: Casting complex values to real discards the imaginary part\n",
      "  E[i] = np.matrix(trial_fourier).H @ w_or_v @ w_or_v.T @ trial_fourier\n",
      "/home/inffzy/Desktop/cogs189/cogs189_final_project/scripts/SACSP.py:177: ComplexWarning: Casting complex values to real discards the imaginary part\n",
      "  E[i] = trial_fourier @ np.diag(h_or_l) @ np.matrix(trial_fourier).H\n",
      "/home/inffzy/Desktop/cogs189/cogs189_final_project/scripts/SACSP.py:410: ComplexWarning: Casting complex values to real discards the imaginary part\n",
      "  extracted_features[i, j] = extracted_feature[0, 0]\n"
     ]
    },
    {
     "name": "stdout",
     "output_type": "stream",
     "text": [
      "Cross validation scores for labels  770  and  771 :  0.5294117647058824\n"
     ]
    },
    {
     "name": "stderr",
     "output_type": "stream",
     "text": [
      "/home/inffzy/Desktop/cogs189/cogs189_final_project/scripts/SACSP.py:198: ComplexWarning: Casting complex values to real discards the imaginary part\n",
      "  E[i] = trial_fourier @ np.diag(h_or_l) @ np.matrix(trial_fourier).H\n",
      "/home/inffzy/Desktop/cogs189/cogs189_final_project/scripts/SACSP.py:225: ComplexWarning: Casting complex values to real discards the imaginary part\n",
      "  E[i] = np.matrix(trial_fourier).H @ w_or_v @ w_or_v.T @ trial_fourier\n",
      "/home/inffzy/Desktop/cogs189/cogs189_final_project/scripts/SACSP.py:177: ComplexWarning: Casting complex values to real discards the imaginary part\n",
      "  E[i] = trial_fourier @ np.diag(h_or_l) @ np.matrix(trial_fourier).H\n",
      "/home/inffzy/Desktop/cogs189/cogs189_final_project/scripts/SACSP.py:410: ComplexWarning: Casting complex values to real discards the imaginary part\n",
      "  extracted_features[i, j] = extracted_feature[0, 0]\n"
     ]
    },
    {
     "name": "stdout",
     "output_type": "stream",
     "text": [
      "Cross validation scores for labels  770  and  772 :  0.5555555555555556\n"
     ]
    },
    {
     "name": "stderr",
     "output_type": "stream",
     "text": [
      "/home/inffzy/Desktop/cogs189/cogs189_final_project/scripts/SACSP.py:198: ComplexWarning: Casting complex values to real discards the imaginary part\n",
      "  E[i] = trial_fourier @ np.diag(h_or_l) @ np.matrix(trial_fourier).H\n",
      "/home/inffzy/Desktop/cogs189/cogs189_final_project/scripts/SACSP.py:225: ComplexWarning: Casting complex values to real discards the imaginary part\n",
      "  E[i] = np.matrix(trial_fourier).H @ w_or_v @ w_or_v.T @ trial_fourier\n",
      "/home/inffzy/Desktop/cogs189/cogs189_final_project/scripts/SACSP.py:177: ComplexWarning: Casting complex values to real discards the imaginary part\n",
      "  E[i] = trial_fourier @ np.diag(h_or_l) @ np.matrix(trial_fourier).H\n",
      "/home/inffzy/Desktop/cogs189/cogs189_final_project/scripts/SACSP.py:410: ComplexWarning: Casting complex values to real discards the imaginary part\n",
      "  extracted_features[i, j] = extracted_feature[0, 0]\n"
     ]
    },
    {
     "name": "stdout",
     "output_type": "stream",
     "text": [
      "Cross validation scores for labels  771  and  772 :  0.5894736842105263\n"
     ]
    },
    {
     "name": "stderr",
     "output_type": "stream",
     "text": [
      "/home/inffzy/Desktop/cogs189/cogs189_final_project/scripts/SACSP.py:410: ComplexWarning: Casting complex values to real discards the imaginary part\n",
      "  extracted_features[i, j] = extracted_feature[0, 0]\n",
      "/home/inffzy/Desktop/cogs189/cogs189_final_project/scripts/SACSP.py:410: ComplexWarning: Casting complex values to real discards the imaginary part\n",
      "  extracted_features[i, j] = extracted_feature[0, 0]\n",
      "/home/inffzy/Desktop/cogs189/cogs189_final_project/scripts/SACSP.py:410: ComplexWarning: Casting complex values to real discards the imaginary part\n",
      "  extracted_features[i, j] = extracted_feature[0, 0]\n",
      "/home/inffzy/Desktop/cogs189/cogs189_final_project/scripts/SACSP.py:410: ComplexWarning: Casting complex values to real discards the imaginary part\n",
      "  extracted_features[i, j] = extracted_feature[0, 0]\n",
      "/home/inffzy/Desktop/cogs189/cogs189_final_project/scripts/SACSP.py:410: ComplexWarning: Casting complex values to real discards the imaginary part\n",
      "  extracted_features[i, j] = extracted_feature[0, 0]\n",
      "/home/inffzy/Desktop/cogs189/cogs189_final_project/scripts/SACSP.py:410: ComplexWarning: Casting complex values to real discards the imaginary part\n",
      "  extracted_features[i, j] = extracted_feature[0, 0]\n"
     ]
    },
    {
     "name": "stdout",
     "output_type": "stream",
     "text": [
      "Training accuracy:  0.3314917127071823\n"
     ]
    },
    {
     "name": "stderr",
     "output_type": "stream",
     "text": [
      "/home/inffzy/Desktop/cogs189/cogs189_final_project/scripts/SACSP.py:410: ComplexWarning: Casting complex values to real discards the imaginary part\n",
      "  extracted_features[i, j] = extracted_feature[0, 0]\n",
      "/home/inffzy/Desktop/cogs189/cogs189_final_project/scripts/SACSP.py:410: ComplexWarning: Casting complex values to real discards the imaginary part\n",
      "  extracted_features[i, j] = extracted_feature[0, 0]\n",
      "/home/inffzy/Desktop/cogs189/cogs189_final_project/scripts/SACSP.py:410: ComplexWarning: Casting complex values to real discards the imaginary part\n",
      "  extracted_features[i, j] = extracted_feature[0, 0]\n",
      "/home/inffzy/Desktop/cogs189/cogs189_final_project/scripts/SACSP.py:410: ComplexWarning: Casting complex values to real discards the imaginary part\n",
      "  extracted_features[i, j] = extracted_feature[0, 0]\n",
      "/home/inffzy/Desktop/cogs189/cogs189_final_project/scripts/SACSP.py:410: ComplexWarning: Casting complex values to real discards the imaginary part\n",
      "  extracted_features[i, j] = extracted_feature[0, 0]\n",
      "/home/inffzy/Desktop/cogs189/cogs189_final_project/scripts/SACSP.py:410: ComplexWarning: Casting complex values to real discards the imaginary part\n",
      "  extracted_features[i, j] = extracted_feature[0, 0]\n"
     ]
    },
    {
     "name": "stdout",
     "output_type": "stream",
     "text": [
      "Testing accuracy:  0.2222222222222222\n"
     ]
    },
    {
     "name": "stderr",
     "output_type": "stream",
     "text": [
      "/home/inffzy/Desktop/cogs189/cogs189_final_project/scripts/SACSP.py:198: ComplexWarning: Casting complex values to real discards the imaginary part\n",
      "  E[i] = trial_fourier @ np.diag(h_or_l) @ np.matrix(trial_fourier).H\n",
      "/home/inffzy/Desktop/cogs189/cogs189_final_project/scripts/SACSP.py:225: ComplexWarning: Casting complex values to real discards the imaginary part\n",
      "  E[i] = np.matrix(trial_fourier).H @ w_or_v @ w_or_v.T @ trial_fourier\n",
      "/home/inffzy/Desktop/cogs189/cogs189_final_project/scripts/SACSP.py:177: ComplexWarning: Casting complex values to real discards the imaginary part\n",
      "  E[i] = trial_fourier @ np.diag(h_or_l) @ np.matrix(trial_fourier).H\n",
      "/home/inffzy/Desktop/cogs189/cogs189_final_project/scripts/SACSP.py:410: ComplexWarning: Casting complex values to real discards the imaginary part\n",
      "  extracted_features[i, j] = extracted_feature[0, 0]\n"
     ]
    },
    {
     "name": "stdout",
     "output_type": "stream",
     "text": [
      "Cross validation scores for labels  769  and  770 :  0.9294736842105262\n"
     ]
    },
    {
     "name": "stderr",
     "output_type": "stream",
     "text": [
      "/home/inffzy/Desktop/cogs189/cogs189_final_project/scripts/SACSP.py:198: ComplexWarning: Casting complex values to real discards the imaginary part\n",
      "  E[i] = trial_fourier @ np.diag(h_or_l) @ np.matrix(trial_fourier).H\n",
      "/home/inffzy/Desktop/cogs189/cogs189_final_project/scripts/SACSP.py:225: ComplexWarning: Casting complex values to real discards the imaginary part\n",
      "  E[i] = np.matrix(trial_fourier).H @ w_or_v @ w_or_v.T @ trial_fourier\n",
      "/home/inffzy/Desktop/cogs189/cogs189_final_project/scripts/SACSP.py:177: ComplexWarning: Casting complex values to real discards the imaginary part\n",
      "  E[i] = trial_fourier @ np.diag(h_or_l) @ np.matrix(trial_fourier).H\n",
      "/home/inffzy/Desktop/cogs189/cogs189_final_project/scripts/SACSP.py:410: ComplexWarning: Casting complex values to real discards the imaginary part\n",
      "  extracted_features[i, j] = extracted_feature[0, 0]\n"
     ]
    },
    {
     "name": "stdout",
     "output_type": "stream",
     "text": [
      "Cross validation scores for labels  769  and  771 :  0.8241830065359477\n"
     ]
    },
    {
     "name": "stderr",
     "output_type": "stream",
     "text": [
      "/home/inffzy/Desktop/cogs189/cogs189_final_project/scripts/SACSP.py:198: ComplexWarning: Casting complex values to real discards the imaginary part\n",
      "  E[i] = trial_fourier @ np.diag(h_or_l) @ np.matrix(trial_fourier).H\n",
      "/home/inffzy/Desktop/cogs189/cogs189_final_project/scripts/SACSP.py:225: ComplexWarning: Casting complex values to real discards the imaginary part\n",
      "  E[i] = np.matrix(trial_fourier).H @ w_or_v @ w_or_v.T @ trial_fourier\n",
      "/home/inffzy/Desktop/cogs189/cogs189_final_project/scripts/SACSP.py:177: ComplexWarning: Casting complex values to real discards the imaginary part\n",
      "  E[i] = trial_fourier @ np.diag(h_or_l) @ np.matrix(trial_fourier).H\n",
      "/home/inffzy/Desktop/cogs189/cogs189_final_project/scripts/SACSP.py:410: ComplexWarning: Casting complex values to real discards the imaginary part\n",
      "  extracted_features[i, j] = extracted_feature[0, 0]\n"
     ]
    },
    {
     "name": "stdout",
     "output_type": "stream",
     "text": [
      "Cross validation scores for labels  769  and  772 :  0.8235294117647058\n"
     ]
    },
    {
     "name": "stderr",
     "output_type": "stream",
     "text": [
      "/home/inffzy/Desktop/cogs189/cogs189_final_project/scripts/SACSP.py:198: ComplexWarning: Casting complex values to real discards the imaginary part\n",
      "  E[i] = trial_fourier @ np.diag(h_or_l) @ np.matrix(trial_fourier).H\n",
      "/home/inffzy/Desktop/cogs189/cogs189_final_project/scripts/SACSP.py:225: ComplexWarning: Casting complex values to real discards the imaginary part\n",
      "  E[i] = np.matrix(trial_fourier).H @ w_or_v @ w_or_v.T @ trial_fourier\n",
      "/home/inffzy/Desktop/cogs189/cogs189_final_project/scripts/SACSP.py:177: ComplexWarning: Casting complex values to real discards the imaginary part\n",
      "  E[i] = trial_fourier @ np.diag(h_or_l) @ np.matrix(trial_fourier).H\n",
      "/home/inffzy/Desktop/cogs189/cogs189_final_project/scripts/SACSP.py:410: ComplexWarning: Casting complex values to real discards the imaginary part\n",
      "  extracted_features[i, j] = extracted_feature[0, 0]\n"
     ]
    },
    {
     "name": "stdout",
     "output_type": "stream",
     "text": [
      "Cross validation scores for labels  770  and  771 :  0.8666666666666668\n"
     ]
    },
    {
     "name": "stderr",
     "output_type": "stream",
     "text": [
      "/home/inffzy/Desktop/cogs189/cogs189_final_project/scripts/SACSP.py:198: ComplexWarning: Casting complex values to real discards the imaginary part\n",
      "  E[i] = trial_fourier @ np.diag(h_or_l) @ np.matrix(trial_fourier).H\n",
      "/home/inffzy/Desktop/cogs189/cogs189_final_project/scripts/SACSP.py:225: ComplexWarning: Casting complex values to real discards the imaginary part\n",
      "  E[i] = np.matrix(trial_fourier).H @ w_or_v @ w_or_v.T @ trial_fourier\n",
      "/home/inffzy/Desktop/cogs189/cogs189_final_project/scripts/SACSP.py:177: ComplexWarning: Casting complex values to real discards the imaginary part\n",
      "  E[i] = trial_fourier @ np.diag(h_or_l) @ np.matrix(trial_fourier).H\n",
      "/home/inffzy/Desktop/cogs189/cogs189_final_project/scripts/SACSP.py:410: ComplexWarning: Casting complex values to real discards the imaginary part\n",
      "  extracted_features[i, j] = extracted_feature[0, 0]\n"
     ]
    },
    {
     "name": "stdout",
     "output_type": "stream",
     "text": [
      "Cross validation scores for labels  770  and  772 :  0.8\n"
     ]
    },
    {
     "name": "stderr",
     "output_type": "stream",
     "text": [
      "/home/inffzy/Desktop/cogs189/cogs189_final_project/scripts/SACSP.py:198: ComplexWarning: Casting complex values to real discards the imaginary part\n",
      "  E[i] = trial_fourier @ np.diag(h_or_l) @ np.matrix(trial_fourier).H\n",
      "/home/inffzy/Desktop/cogs189/cogs189_final_project/scripts/SACSP.py:225: ComplexWarning: Casting complex values to real discards the imaginary part\n",
      "  E[i] = np.matrix(trial_fourier).H @ w_or_v @ w_or_v.T @ trial_fourier\n",
      "/home/inffzy/Desktop/cogs189/cogs189_final_project/scripts/SACSP.py:177: ComplexWarning: Casting complex values to real discards the imaginary part\n",
      "  E[i] = trial_fourier @ np.diag(h_or_l) @ np.matrix(trial_fourier).H\n",
      "/home/inffzy/Desktop/cogs189/cogs189_final_project/scripts/SACSP.py:410: ComplexWarning: Casting complex values to real discards the imaginary part\n",
      "  extracted_features[i, j] = extracted_feature[0, 0]\n"
     ]
    },
    {
     "name": "stdout",
     "output_type": "stream",
     "text": [
      "Cross validation scores for labels  771  and  772 :  0.7658333333333334\n"
     ]
    },
    {
     "name": "stderr",
     "output_type": "stream",
     "text": [
      "/home/inffzy/Desktop/cogs189/cogs189_final_project/scripts/SACSP.py:410: ComplexWarning: Casting complex values to real discards the imaginary part\n",
      "  extracted_features[i, j] = extracted_feature[0, 0]\n",
      "/home/inffzy/Desktop/cogs189/cogs189_final_project/scripts/SACSP.py:410: ComplexWarning: Casting complex values to real discards the imaginary part\n",
      "  extracted_features[i, j] = extracted_feature[0, 0]\n",
      "/home/inffzy/Desktop/cogs189/cogs189_final_project/scripts/SACSP.py:410: ComplexWarning: Casting complex values to real discards the imaginary part\n",
      "  extracted_features[i, j] = extracted_feature[0, 0]\n",
      "/home/inffzy/Desktop/cogs189/cogs189_final_project/scripts/SACSP.py:410: ComplexWarning: Casting complex values to real discards the imaginary part\n",
      "  extracted_features[i, j] = extracted_feature[0, 0]\n",
      "/home/inffzy/Desktop/cogs189/cogs189_final_project/scripts/SACSP.py:410: ComplexWarning: Casting complex values to real discards the imaginary part\n",
      "  extracted_features[i, j] = extracted_feature[0, 0]\n",
      "/home/inffzy/Desktop/cogs189/cogs189_final_project/scripts/SACSP.py:410: ComplexWarning: Casting complex values to real discards the imaginary part\n",
      "  extracted_features[i, j] = extracted_feature[0, 0]\n"
     ]
    },
    {
     "name": "stdout",
     "output_type": "stream",
     "text": [
      "Training accuracy:  0.7272727272727273\n"
     ]
    },
    {
     "name": "stderr",
     "output_type": "stream",
     "text": [
      "/home/inffzy/Desktop/cogs189/cogs189_final_project/scripts/SACSP.py:410: ComplexWarning: Casting complex values to real discards the imaginary part\n",
      "  extracted_features[i, j] = extracted_feature[0, 0]\n",
      "/home/inffzy/Desktop/cogs189/cogs189_final_project/scripts/SACSP.py:410: ComplexWarning: Casting complex values to real discards the imaginary part\n",
      "  extracted_features[i, j] = extracted_feature[0, 0]\n",
      "/home/inffzy/Desktop/cogs189/cogs189_final_project/scripts/SACSP.py:410: ComplexWarning: Casting complex values to real discards the imaginary part\n",
      "  extracted_features[i, j] = extracted_feature[0, 0]\n",
      "/home/inffzy/Desktop/cogs189/cogs189_final_project/scripts/SACSP.py:410: ComplexWarning: Casting complex values to real discards the imaginary part\n",
      "  extracted_features[i, j] = extracted_feature[0, 0]\n",
      "/home/inffzy/Desktop/cogs189/cogs189_final_project/scripts/SACSP.py:410: ComplexWarning: Casting complex values to real discards the imaginary part\n",
      "  extracted_features[i, j] = extracted_feature[0, 0]\n",
      "/home/inffzy/Desktop/cogs189/cogs189_final_project/scripts/SACSP.py:410: ComplexWarning: Casting complex values to real discards the imaginary part\n",
      "  extracted_features[i, j] = extracted_feature[0, 0]\n"
     ]
    },
    {
     "name": "stdout",
     "output_type": "stream",
     "text": [
      "Testing accuracy:  0.7045454545454546\n"
     ]
    },
    {
     "name": "stderr",
     "output_type": "stream",
     "text": [
      "/home/inffzy/Desktop/cogs189/cogs189_final_project/scripts/SACSP.py:198: ComplexWarning: Casting complex values to real discards the imaginary part\n",
      "  E[i] = trial_fourier @ np.diag(h_or_l) @ np.matrix(trial_fourier).H\n",
      "/home/inffzy/Desktop/cogs189/cogs189_final_project/scripts/SACSP.py:225: ComplexWarning: Casting complex values to real discards the imaginary part\n",
      "  E[i] = np.matrix(trial_fourier).H @ w_or_v @ w_or_v.T @ trial_fourier\n",
      "/home/inffzy/Desktop/cogs189/cogs189_final_project/scripts/SACSP.py:177: ComplexWarning: Casting complex values to real discards the imaginary part\n",
      "  E[i] = trial_fourier @ np.diag(h_or_l) @ np.matrix(trial_fourier).H\n",
      "/home/inffzy/Desktop/cogs189/cogs189_final_project/scripts/SACSP.py:410: ComplexWarning: Casting complex values to real discards the imaginary part\n",
      "  extracted_features[i, j] = extracted_feature[0, 0]\n"
     ]
    },
    {
     "name": "stdout",
     "output_type": "stream",
     "text": [
      "Cross validation scores for labels  769  and  770 :  0.6794117647058824\n"
     ]
    },
    {
     "name": "stderr",
     "output_type": "stream",
     "text": [
      "/home/inffzy/Desktop/cogs189/cogs189_final_project/scripts/SACSP.py:198: ComplexWarning: Casting complex values to real discards the imaginary part\n",
      "  E[i] = trial_fourier @ np.diag(h_or_l) @ np.matrix(trial_fourier).H\n",
      "/home/inffzy/Desktop/cogs189/cogs189_final_project/scripts/SACSP.py:225: ComplexWarning: Casting complex values to real discards the imaginary part\n",
      "  E[i] = np.matrix(trial_fourier).H @ w_or_v @ w_or_v.T @ trial_fourier\n",
      "/home/inffzy/Desktop/cogs189/cogs189_final_project/scripts/SACSP.py:177: ComplexWarning: Casting complex values to real discards the imaginary part\n",
      "  E[i] = trial_fourier @ np.diag(h_or_l) @ np.matrix(trial_fourier).H\n",
      "/home/inffzy/Desktop/cogs189/cogs189_final_project/scripts/SACSP.py:410: ComplexWarning: Casting complex values to real discards the imaginary part\n",
      "  extracted_features[i, j] = extracted_feature[0, 0]\n"
     ]
    },
    {
     "name": "stdout",
     "output_type": "stream",
     "text": [
      "Cross validation scores for labels  769  and  771 :  0.7391666666666667\n"
     ]
    },
    {
     "name": "stderr",
     "output_type": "stream",
     "text": [
      "/home/inffzy/Desktop/cogs189/cogs189_final_project/scripts/SACSP.py:198: ComplexWarning: Casting complex values to real discards the imaginary part\n",
      "  E[i] = trial_fourier @ np.diag(h_or_l) @ np.matrix(trial_fourier).H\n",
      "/home/inffzy/Desktop/cogs189/cogs189_final_project/scripts/SACSP.py:225: ComplexWarning: Casting complex values to real discards the imaginary part\n",
      "  E[i] = np.matrix(trial_fourier).H @ w_or_v @ w_or_v.T @ trial_fourier\n",
      "/home/inffzy/Desktop/cogs189/cogs189_final_project/scripts/SACSP.py:177: ComplexWarning: Casting complex values to real discards the imaginary part\n",
      "  E[i] = trial_fourier @ np.diag(h_or_l) @ np.matrix(trial_fourier).H\n",
      "/home/inffzy/Desktop/cogs189/cogs189_final_project/scripts/SACSP.py:410: ComplexWarning: Casting complex values to real discards the imaginary part\n",
      "  extracted_features[i, j] = extracted_feature[0, 0]\n"
     ]
    },
    {
     "name": "stdout",
     "output_type": "stream",
     "text": [
      "Cross validation scores for labels  769  and  772 :  0.7425\n"
     ]
    },
    {
     "name": "stderr",
     "output_type": "stream",
     "text": [
      "/home/inffzy/Desktop/cogs189/cogs189_final_project/scripts/SACSP.py:198: ComplexWarning: Casting complex values to real discards the imaginary part\n",
      "  E[i] = trial_fourier @ np.diag(h_or_l) @ np.matrix(trial_fourier).H\n",
      "/home/inffzy/Desktop/cogs189/cogs189_final_project/scripts/SACSP.py:225: ComplexWarning: Casting complex values to real discards the imaginary part\n",
      "  E[i] = np.matrix(trial_fourier).H @ w_or_v @ w_or_v.T @ trial_fourier\n",
      "/home/inffzy/Desktop/cogs189/cogs189_final_project/scripts/SACSP.py:177: ComplexWarning: Casting complex values to real discards the imaginary part\n",
      "  E[i] = trial_fourier @ np.diag(h_or_l) @ np.matrix(trial_fourier).H\n",
      "/home/inffzy/Desktop/cogs189/cogs189_final_project/scripts/SACSP.py:410: ComplexWarning: Casting complex values to real discards the imaginary part\n",
      "  extracted_features[i, j] = extracted_feature[0, 0]\n"
     ]
    },
    {
     "name": "stdout",
     "output_type": "stream",
     "text": [
      "Cross validation scores for labels  770  and  771 :  0.675\n"
     ]
    },
    {
     "name": "stderr",
     "output_type": "stream",
     "text": [
      "/home/inffzy/Desktop/cogs189/cogs189_final_project/scripts/SACSP.py:198: ComplexWarning: Casting complex values to real discards the imaginary part\n",
      "  E[i] = trial_fourier @ np.diag(h_or_l) @ np.matrix(trial_fourier).H\n",
      "/home/inffzy/Desktop/cogs189/cogs189_final_project/scripts/SACSP.py:225: ComplexWarning: Casting complex values to real discards the imaginary part\n",
      "  E[i] = np.matrix(trial_fourier).H @ w_or_v @ w_or_v.T @ trial_fourier\n",
      "/home/inffzy/Desktop/cogs189/cogs189_final_project/scripts/SACSP.py:177: ComplexWarning: Casting complex values to real discards the imaginary part\n",
      "  E[i] = trial_fourier @ np.diag(h_or_l) @ np.matrix(trial_fourier).H\n",
      "/home/inffzy/Desktop/cogs189/cogs189_final_project/scripts/SACSP.py:410: ComplexWarning: Casting complex values to real discards the imaginary part\n",
      "  extracted_features[i, j] = extracted_feature[0, 0]\n"
     ]
    },
    {
     "name": "stdout",
     "output_type": "stream",
     "text": [
      "Cross validation scores for labels  770  and  772 :  0.7772058823529411\n"
     ]
    },
    {
     "name": "stderr",
     "output_type": "stream",
     "text": [
      "/home/inffzy/Desktop/cogs189/cogs189_final_project/scripts/SACSP.py:198: ComplexWarning: Casting complex values to real discards the imaginary part\n",
      "  E[i] = trial_fourier @ np.diag(h_or_l) @ np.matrix(trial_fourier).H\n",
      "/home/inffzy/Desktop/cogs189/cogs189_final_project/scripts/SACSP.py:225: ComplexWarning: Casting complex values to real discards the imaginary part\n",
      "  E[i] = np.matrix(trial_fourier).H @ w_or_v @ w_or_v.T @ trial_fourier\n",
      "/home/inffzy/Desktop/cogs189/cogs189_final_project/scripts/SACSP.py:177: ComplexWarning: Casting complex values to real discards the imaginary part\n",
      "  E[i] = trial_fourier @ np.diag(h_or_l) @ np.matrix(trial_fourier).H\n",
      "/home/inffzy/Desktop/cogs189/cogs189_final_project/scripts/SACSP.py:410: ComplexWarning: Casting complex values to real discards the imaginary part\n",
      "  extracted_features[i, j] = extracted_feature[0, 0]\n"
     ]
    },
    {
     "name": "stdout",
     "output_type": "stream",
     "text": [
      "Cross validation scores for labels  771  and  772 :  0.7141666666666666\n"
     ]
    },
    {
     "name": "stderr",
     "output_type": "stream",
     "text": [
      "/home/inffzy/Desktop/cogs189/cogs189_final_project/scripts/SACSP.py:410: ComplexWarning: Casting complex values to real discards the imaginary part\n",
      "  extracted_features[i, j] = extracted_feature[0, 0]\n",
      "/home/inffzy/Desktop/cogs189/cogs189_final_project/scripts/SACSP.py:410: ComplexWarning: Casting complex values to real discards the imaginary part\n",
      "  extracted_features[i, j] = extracted_feature[0, 0]\n",
      "/home/inffzy/Desktop/cogs189/cogs189_final_project/scripts/SACSP.py:410: ComplexWarning: Casting complex values to real discards the imaginary part\n",
      "  extracted_features[i, j] = extracted_feature[0, 0]\n",
      "/home/inffzy/Desktop/cogs189/cogs189_final_project/scripts/SACSP.py:410: ComplexWarning: Casting complex values to real discards the imaginary part\n",
      "  extracted_features[i, j] = extracted_feature[0, 0]\n",
      "/home/inffzy/Desktop/cogs189/cogs189_final_project/scripts/SACSP.py:410: ComplexWarning: Casting complex values to real discards the imaginary part\n",
      "  extracted_features[i, j] = extracted_feature[0, 0]\n",
      "/home/inffzy/Desktop/cogs189/cogs189_final_project/scripts/SACSP.py:410: ComplexWarning: Casting complex values to real discards the imaginary part\n",
      "  extracted_features[i, j] = extracted_feature[0, 0]\n"
     ]
    },
    {
     "name": "stdout",
     "output_type": "stream",
     "text": [
      "Training accuracy:  0.5569620253164557\n"
     ]
    },
    {
     "name": "stderr",
     "output_type": "stream",
     "text": [
      "/home/inffzy/Desktop/cogs189/cogs189_final_project/scripts/SACSP.py:410: ComplexWarning: Casting complex values to real discards the imaginary part\n",
      "  extracted_features[i, j] = extracted_feature[0, 0]\n",
      "/home/inffzy/Desktop/cogs189/cogs189_final_project/scripts/SACSP.py:410: ComplexWarning: Casting complex values to real discards the imaginary part\n",
      "  extracted_features[i, j] = extracted_feature[0, 0]\n",
      "/home/inffzy/Desktop/cogs189/cogs189_final_project/scripts/SACSP.py:410: ComplexWarning: Casting complex values to real discards the imaginary part\n",
      "  extracted_features[i, j] = extracted_feature[0, 0]\n",
      "/home/inffzy/Desktop/cogs189/cogs189_final_project/scripts/SACSP.py:410: ComplexWarning: Casting complex values to real discards the imaginary part\n",
      "  extracted_features[i, j] = extracted_feature[0, 0]\n",
      "/home/inffzy/Desktop/cogs189/cogs189_final_project/scripts/SACSP.py:410: ComplexWarning: Casting complex values to real discards the imaginary part\n",
      "  extracted_features[i, j] = extracted_feature[0, 0]\n",
      "/home/inffzy/Desktop/cogs189/cogs189_final_project/scripts/SACSP.py:410: ComplexWarning: Casting complex values to real discards the imaginary part\n",
      "  extracted_features[i, j] = extracted_feature[0, 0]\n"
     ]
    },
    {
     "name": "stdout",
     "output_type": "stream",
     "text": [
      "Testing accuracy:  0.4050632911392405\n"
     ]
    },
    {
     "name": "stderr",
     "output_type": "stream",
     "text": [
      "/home/inffzy/Desktop/cogs189/cogs189_final_project/scripts/SACSP.py:198: ComplexWarning: Casting complex values to real discards the imaginary part\n",
      "  E[i] = trial_fourier @ np.diag(h_or_l) @ np.matrix(trial_fourier).H\n",
      "/home/inffzy/Desktop/cogs189/cogs189_final_project/scripts/SACSP.py:225: ComplexWarning: Casting complex values to real discards the imaginary part\n",
      "  E[i] = np.matrix(trial_fourier).H @ w_or_v @ w_or_v.T @ trial_fourier\n",
      "/home/inffzy/Desktop/cogs189/cogs189_final_project/scripts/SACSP.py:177: ComplexWarning: Casting complex values to real discards the imaginary part\n",
      "  E[i] = trial_fourier @ np.diag(h_or_l) @ np.matrix(trial_fourier).H\n",
      "/home/inffzy/Desktop/cogs189/cogs189_final_project/scripts/SACSP.py:410: ComplexWarning: Casting complex values to real discards the imaginary part\n",
      "  extracted_features[i, j] = extracted_feature[0, 0]\n",
      "/home/inffzy/Desktop/cogs189/cogs189_final_project/scripts/SACSP.py:198: ComplexWarning: Casting complex values to real discards the imaginary part\n",
      "  E[i] = trial_fourier @ np.diag(h_or_l) @ np.matrix(trial_fourier).H\n"
     ]
    },
    {
     "name": "stdout",
     "output_type": "stream",
     "text": [
      "Cross validation scores for labels  769  and  770 :  0.8309090909090908\n"
     ]
    },
    {
     "name": "stderr",
     "output_type": "stream",
     "text": [
      "/home/inffzy/Desktop/cogs189/cogs189_final_project/scripts/SACSP.py:225: ComplexWarning: Casting complex values to real discards the imaginary part\n",
      "  E[i] = np.matrix(trial_fourier).H @ w_or_v @ w_or_v.T @ trial_fourier\n",
      "/home/inffzy/Desktop/cogs189/cogs189_final_project/scripts/SACSP.py:177: ComplexWarning: Casting complex values to real discards the imaginary part\n",
      "  E[i] = trial_fourier @ np.diag(h_or_l) @ np.matrix(trial_fourier).H\n",
      "/home/inffzy/Desktop/cogs189/cogs189_final_project/scripts/SACSP.py:410: ComplexWarning: Casting complex values to real discards the imaginary part\n",
      "  extracted_features[i, j] = extracted_feature[0, 0]\n",
      "/home/inffzy/Desktop/cogs189/cogs189_final_project/scripts/SACSP.py:198: ComplexWarning: Casting complex values to real discards the imaginary part\n",
      "  E[i] = trial_fourier @ np.diag(h_or_l) @ np.matrix(trial_fourier).H\n"
     ]
    },
    {
     "name": "stdout",
     "output_type": "stream",
     "text": [
      "Cross validation scores for labels  769  and  771 :  0.8933333333333333\n"
     ]
    },
    {
     "name": "stderr",
     "output_type": "stream",
     "text": [
      "/home/inffzy/Desktop/cogs189/cogs189_final_project/scripts/SACSP.py:225: ComplexWarning: Casting complex values to real discards the imaginary part\n",
      "  E[i] = np.matrix(trial_fourier).H @ w_or_v @ w_or_v.T @ trial_fourier\n",
      "/home/inffzy/Desktop/cogs189/cogs189_final_project/scripts/SACSP.py:177: ComplexWarning: Casting complex values to real discards the imaginary part\n",
      "  E[i] = trial_fourier @ np.diag(h_or_l) @ np.matrix(trial_fourier).H\n",
      "/home/inffzy/Desktop/cogs189/cogs189_final_project/scripts/SACSP.py:410: ComplexWarning: Casting complex values to real discards the imaginary part\n",
      "  extracted_features[i, j] = extracted_feature[0, 0]\n",
      "/home/inffzy/Desktop/cogs189/cogs189_final_project/scripts/SACSP.py:198: ComplexWarning: Casting complex values to real discards the imaginary part\n",
      "  E[i] = trial_fourier @ np.diag(h_or_l) @ np.matrix(trial_fourier).H\n"
     ]
    },
    {
     "name": "stdout",
     "output_type": "stream",
     "text": [
      "Cross validation scores for labels  769  and  772 :  0.9555555555555555\n"
     ]
    },
    {
     "name": "stderr",
     "output_type": "stream",
     "text": [
      "/home/inffzy/Desktop/cogs189/cogs189_final_project/scripts/SACSP.py:225: ComplexWarning: Casting complex values to real discards the imaginary part\n",
      "  E[i] = np.matrix(trial_fourier).H @ w_or_v @ w_or_v.T @ trial_fourier\n",
      "/home/inffzy/Desktop/cogs189/cogs189_final_project/scripts/SACSP.py:177: ComplexWarning: Casting complex values to real discards the imaginary part\n",
      "  E[i] = trial_fourier @ np.diag(h_or_l) @ np.matrix(trial_fourier).H\n",
      "/home/inffzy/Desktop/cogs189/cogs189_final_project/scripts/SACSP.py:410: ComplexWarning: Casting complex values to real discards the imaginary part\n",
      "  extracted_features[i, j] = extracted_feature[0, 0]\n",
      "/home/inffzy/Desktop/cogs189/cogs189_final_project/scripts/SACSP.py:198: ComplexWarning: Casting complex values to real discards the imaginary part\n",
      "  E[i] = trial_fourier @ np.diag(h_or_l) @ np.matrix(trial_fourier).H\n"
     ]
    },
    {
     "name": "stdout",
     "output_type": "stream",
     "text": [
      "Cross validation scores for labels  770  and  771 :  0.7072727272727273\n"
     ]
    },
    {
     "name": "stderr",
     "output_type": "stream",
     "text": [
      "/home/inffzy/Desktop/cogs189/cogs189_final_project/scripts/SACSP.py:225: ComplexWarning: Casting complex values to real discards the imaginary part\n",
      "  E[i] = np.matrix(trial_fourier).H @ w_or_v @ w_or_v.T @ trial_fourier\n",
      "/home/inffzy/Desktop/cogs189/cogs189_final_project/scripts/SACSP.py:177: ComplexWarning: Casting complex values to real discards the imaginary part\n",
      "  E[i] = trial_fourier @ np.diag(h_or_l) @ np.matrix(trial_fourier).H\n",
      "/home/inffzy/Desktop/cogs189/cogs189_final_project/scripts/SACSP.py:410: ComplexWarning: Casting complex values to real discards the imaginary part\n",
      "  extracted_features[i, j] = extracted_feature[0, 0]\n",
      "/home/inffzy/Desktop/cogs189/cogs189_final_project/scripts/SACSP.py:198: ComplexWarning: Casting complex values to real discards the imaginary part\n",
      "  E[i] = trial_fourier @ np.diag(h_or_l) @ np.matrix(trial_fourier).H\n"
     ]
    },
    {
     "name": "stdout",
     "output_type": "stream",
     "text": [
      "Cross validation scores for labels  770  and  772 :  0.9818181818181818\n"
     ]
    },
    {
     "name": "stderr",
     "output_type": "stream",
     "text": [
      "/home/inffzy/Desktop/cogs189/cogs189_final_project/scripts/SACSP.py:225: ComplexWarning: Casting complex values to real discards the imaginary part\n",
      "  E[i] = np.matrix(trial_fourier).H @ w_or_v @ w_or_v.T @ trial_fourier\n",
      "/home/inffzy/Desktop/cogs189/cogs189_final_project/scripts/SACSP.py:177: ComplexWarning: Casting complex values to real discards the imaginary part\n",
      "  E[i] = trial_fourier @ np.diag(h_or_l) @ np.matrix(trial_fourier).H\n",
      "/home/inffzy/Desktop/cogs189/cogs189_final_project/scripts/SACSP.py:410: ComplexWarning: Casting complex values to real discards the imaginary part\n",
      "  extracted_features[i, j] = extracted_feature[0, 0]\n",
      "/home/inffzy/Desktop/cogs189/cogs189_final_project/scripts/SACSP.py:410: ComplexWarning: Casting complex values to real discards the imaginary part\n",
      "  extracted_features[i, j] = extracted_feature[0, 0]\n"
     ]
    },
    {
     "name": "stdout",
     "output_type": "stream",
     "text": [
      "Cross validation scores for labels  771  and  772 :  0.7666666666666666\n"
     ]
    },
    {
     "name": "stderr",
     "output_type": "stream",
     "text": [
      "/home/inffzy/Desktop/cogs189/cogs189_final_project/scripts/SACSP.py:410: ComplexWarning: Casting complex values to real discards the imaginary part\n",
      "  extracted_features[i, j] = extracted_feature[0, 0]\n",
      "/home/inffzy/Desktop/cogs189/cogs189_final_project/scripts/SACSP.py:410: ComplexWarning: Casting complex values to real discards the imaginary part\n",
      "  extracted_features[i, j] = extracted_feature[0, 0]\n",
      "/home/inffzy/Desktop/cogs189/cogs189_final_project/scripts/SACSP.py:410: ComplexWarning: Casting complex values to real discards the imaginary part\n",
      "  extracted_features[i, j] = extracted_feature[0, 0]\n",
      "/home/inffzy/Desktop/cogs189/cogs189_final_project/scripts/SACSP.py:410: ComplexWarning: Casting complex values to real discards the imaginary part\n",
      "  extracted_features[i, j] = extracted_feature[0, 0]\n",
      "/home/inffzy/Desktop/cogs189/cogs189_final_project/scripts/SACSP.py:410: ComplexWarning: Casting complex values to real discards the imaginary part\n",
      "  extracted_features[i, j] = extracted_feature[0, 0]\n"
     ]
    },
    {
     "name": "stdout",
     "output_type": "stream",
     "text": [
      "Training accuracy:  0.7777777777777778\n"
     ]
    },
    {
     "name": "stderr",
     "output_type": "stream",
     "text": [
      "/home/inffzy/Desktop/cogs189/cogs189_final_project/scripts/SACSP.py:410: ComplexWarning: Casting complex values to real discards the imaginary part\n",
      "  extracted_features[i, j] = extracted_feature[0, 0]\n",
      "/home/inffzy/Desktop/cogs189/cogs189_final_project/scripts/SACSP.py:410: ComplexWarning: Casting complex values to real discards the imaginary part\n",
      "  extracted_features[i, j] = extracted_feature[0, 0]\n",
      "/home/inffzy/Desktop/cogs189/cogs189_final_project/scripts/SACSP.py:410: ComplexWarning: Casting complex values to real discards the imaginary part\n",
      "  extracted_features[i, j] = extracted_feature[0, 0]\n",
      "/home/inffzy/Desktop/cogs189/cogs189_final_project/scripts/SACSP.py:410: ComplexWarning: Casting complex values to real discards the imaginary part\n",
      "  extracted_features[i, j] = extracted_feature[0, 0]\n",
      "/home/inffzy/Desktop/cogs189/cogs189_final_project/scripts/SACSP.py:410: ComplexWarning: Casting complex values to real discards the imaginary part\n",
      "  extracted_features[i, j] = extracted_feature[0, 0]\n",
      "/home/inffzy/Desktop/cogs189/cogs189_final_project/scripts/SACSP.py:410: ComplexWarning: Casting complex values to real discards the imaginary part\n",
      "  extracted_features[i, j] = extracted_feature[0, 0]\n"
     ]
    },
    {
     "name": "stdout",
     "output_type": "stream",
     "text": [
      "Testing accuracy:  0.48\n"
     ]
    },
    {
     "name": "stderr",
     "output_type": "stream",
     "text": [
      "/home/inffzy/Desktop/cogs189/cogs189_final_project/scripts/SACSP.py:198: ComplexWarning: Casting complex values to real discards the imaginary part\n",
      "  E[i] = trial_fourier @ np.diag(h_or_l) @ np.matrix(trial_fourier).H\n",
      "/home/inffzy/Desktop/cogs189/cogs189_final_project/scripts/SACSP.py:225: ComplexWarning: Casting complex values to real discards the imaginary part\n",
      "  E[i] = np.matrix(trial_fourier).H @ w_or_v @ w_or_v.T @ trial_fourier\n",
      "/home/inffzy/Desktop/cogs189/cogs189_final_project/scripts/SACSP.py:177: ComplexWarning: Casting complex values to real discards the imaginary part\n",
      "  E[i] = trial_fourier @ np.diag(h_or_l) @ np.matrix(trial_fourier).H\n",
      "/home/inffzy/Desktop/cogs189/cogs189_final_project/scripts/SACSP.py:410: ComplexWarning: Casting complex values to real discards the imaginary part\n",
      "  extracted_features[i, j] = extracted_feature[0, 0]\n",
      "/home/inffzy/Desktop/cogs189/cogs189_final_project/scripts/SACSP.py:198: ComplexWarning: Casting complex values to real discards the imaginary part\n",
      "  E[i] = trial_fourier @ np.diag(h_or_l) @ np.matrix(trial_fourier).H\n",
      "/home/inffzy/Desktop/cogs189/cogs189_final_project/scripts/SACSP.py:225: ComplexWarning: Casting complex values to real discards the imaginary part\n",
      "  E[i] = np.matrix(trial_fourier).H @ w_or_v @ w_or_v.T @ trial_fourier\n",
      "/home/inffzy/Desktop/cogs189/cogs189_final_project/scripts/SACSP.py:177: ComplexWarning: Casting complex values to real discards the imaginary part\n",
      "  E[i] = trial_fourier @ np.diag(h_or_l) @ np.matrix(trial_fourier).H\n"
     ]
    },
    {
     "name": "stdout",
     "output_type": "stream",
     "text": [
      "Cross validation scores for labels  769  and  770 :  0.9666666666666668\n"
     ]
    },
    {
     "name": "stderr",
     "output_type": "stream",
     "text": [
      "/home/inffzy/Desktop/cogs189/cogs189_final_project/scripts/SACSP.py:410: ComplexWarning: Casting complex values to real discards the imaginary part\n",
      "  extracted_features[i, j] = extracted_feature[0, 0]\n",
      "/home/inffzy/Desktop/cogs189/cogs189_final_project/scripts/SACSP.py:198: ComplexWarning: Casting complex values to real discards the imaginary part\n",
      "  E[i] = trial_fourier @ np.diag(h_or_l) @ np.matrix(trial_fourier).H\n",
      "/home/inffzy/Desktop/cogs189/cogs189_final_project/scripts/SACSP.py:225: ComplexWarning: Casting complex values to real discards the imaginary part\n",
      "  E[i] = np.matrix(trial_fourier).H @ w_or_v @ w_or_v.T @ trial_fourier\n",
      "/home/inffzy/Desktop/cogs189/cogs189_final_project/scripts/SACSP.py:177: ComplexWarning: Casting complex values to real discards the imaginary part\n",
      "  E[i] = trial_fourier @ np.diag(h_or_l) @ np.matrix(trial_fourier).H\n"
     ]
    },
    {
     "name": "stdout",
     "output_type": "stream",
     "text": [
      "Cross validation scores for labels  769  and  771 :  0.74\n"
     ]
    },
    {
     "name": "stderr",
     "output_type": "stream",
     "text": [
      "/home/inffzy/Desktop/cogs189/cogs189_final_project/scripts/SACSP.py:410: ComplexWarning: Casting complex values to real discards the imaginary part\n",
      "  extracted_features[i, j] = extracted_feature[0, 0]\n",
      "/home/inffzy/Desktop/cogs189/cogs189_final_project/scripts/SACSP.py:198: ComplexWarning: Casting complex values to real discards the imaginary part\n",
      "  E[i] = trial_fourier @ np.diag(h_or_l) @ np.matrix(trial_fourier).H\n",
      "/home/inffzy/Desktop/cogs189/cogs189_final_project/scripts/SACSP.py:225: ComplexWarning: Casting complex values to real discards the imaginary part\n",
      "  E[i] = np.matrix(trial_fourier).H @ w_or_v @ w_or_v.T @ trial_fourier\n"
     ]
    },
    {
     "name": "stdout",
     "output_type": "stream",
     "text": [
      "Cross validation scores for labels  769  and  772 :  0.9266666666666667\n"
     ]
    },
    {
     "name": "stderr",
     "output_type": "stream",
     "text": [
      "/home/inffzy/Desktop/cogs189/cogs189_final_project/scripts/SACSP.py:177: ComplexWarning: Casting complex values to real discards the imaginary part\n",
      "  E[i] = trial_fourier @ np.diag(h_or_l) @ np.matrix(trial_fourier).H\n",
      "/home/inffzy/Desktop/cogs189/cogs189_final_project/scripts/SACSP.py:410: ComplexWarning: Casting complex values to real discards the imaginary part\n",
      "  extracted_features[i, j] = extracted_feature[0, 0]\n",
      "/home/inffzy/Desktop/cogs189/cogs189_final_project/scripts/SACSP.py:198: ComplexWarning: Casting complex values to real discards the imaginary part\n",
      "  E[i] = trial_fourier @ np.diag(h_or_l) @ np.matrix(trial_fourier).H\n",
      "/home/inffzy/Desktop/cogs189/cogs189_final_project/scripts/SACSP.py:225: ComplexWarning: Casting complex values to real discards the imaginary part\n",
      "  E[i] = np.matrix(trial_fourier).H @ w_or_v @ w_or_v.T @ trial_fourier\n"
     ]
    },
    {
     "name": "stdout",
     "output_type": "stream",
     "text": [
      "Cross validation scores for labels  770  and  771 :  0.7428571428571429\n"
     ]
    },
    {
     "name": "stderr",
     "output_type": "stream",
     "text": [
      "/home/inffzy/Desktop/cogs189/cogs189_final_project/scripts/SACSP.py:177: ComplexWarning: Casting complex values to real discards the imaginary part\n",
      "  E[i] = trial_fourier @ np.diag(h_or_l) @ np.matrix(trial_fourier).H\n",
      "/home/inffzy/Desktop/cogs189/cogs189_final_project/scripts/SACSP.py:410: ComplexWarning: Casting complex values to real discards the imaginary part\n",
      "  extracted_features[i, j] = extracted_feature[0, 0]\n",
      "/home/inffzy/Desktop/cogs189/cogs189_final_project/scripts/SACSP.py:198: ComplexWarning: Casting complex values to real discards the imaginary part\n",
      "  E[i] = trial_fourier @ np.diag(h_or_l) @ np.matrix(trial_fourier).H\n",
      "/home/inffzy/Desktop/cogs189/cogs189_final_project/scripts/SACSP.py:225: ComplexWarning: Casting complex values to real discards the imaginary part\n",
      "  E[i] = np.matrix(trial_fourier).H @ w_or_v @ w_or_v.T @ trial_fourier\n"
     ]
    },
    {
     "name": "stdout",
     "output_type": "stream",
     "text": [
      "Cross validation scores for labels  770  and  772 :  0.975\n"
     ]
    },
    {
     "name": "stderr",
     "output_type": "stream",
     "text": [
      "/home/inffzy/Desktop/cogs189/cogs189_final_project/scripts/SACSP.py:177: ComplexWarning: Casting complex values to real discards the imaginary part\n",
      "  E[i] = trial_fourier @ np.diag(h_or_l) @ np.matrix(trial_fourier).H\n",
      "/home/inffzy/Desktop/cogs189/cogs189_final_project/scripts/SACSP.py:410: ComplexWarning: Casting complex values to real discards the imaginary part\n",
      "  extracted_features[i, j] = extracted_feature[0, 0]\n",
      "/home/inffzy/Desktop/cogs189/cogs189_final_project/scripts/SACSP.py:410: ComplexWarning: Casting complex values to real discards the imaginary part\n",
      "  extracted_features[i, j] = extracted_feature[0, 0]\n"
     ]
    },
    {
     "name": "stdout",
     "output_type": "stream",
     "text": [
      "Cross validation scores for labels  771  and  772 :  1.0\n"
     ]
    },
    {
     "name": "stderr",
     "output_type": "stream",
     "text": [
      "/home/inffzy/Desktop/cogs189/cogs189_final_project/scripts/SACSP.py:410: ComplexWarning: Casting complex values to real discards the imaginary part\n",
      "  extracted_features[i, j] = extracted_feature[0, 0]\n",
      "/home/inffzy/Desktop/cogs189/cogs189_final_project/scripts/SACSP.py:410: ComplexWarning: Casting complex values to real discards the imaginary part\n",
      "  extracted_features[i, j] = extracted_feature[0, 0]\n",
      "/home/inffzy/Desktop/cogs189/cogs189_final_project/scripts/SACSP.py:410: ComplexWarning: Casting complex values to real discards the imaginary part\n",
      "  extracted_features[i, j] = extracted_feature[0, 0]\n",
      "/home/inffzy/Desktop/cogs189/cogs189_final_project/scripts/SACSP.py:410: ComplexWarning: Casting complex values to real discards the imaginary part\n",
      "  extracted_features[i, j] = extracted_feature[0, 0]\n",
      "/home/inffzy/Desktop/cogs189/cogs189_final_project/scripts/SACSP.py:410: ComplexWarning: Casting complex values to real discards the imaginary part\n",
      "  extracted_features[i, j] = extracted_feature[0, 0]\n",
      "/home/inffzy/Desktop/cogs189/cogs189_final_project/scripts/SACSP.py:410: ComplexWarning: Casting complex values to real discards the imaginary part\n",
      "  extracted_features[i, j] = extracted_feature[0, 0]\n"
     ]
    },
    {
     "name": "stdout",
     "output_type": "stream",
     "text": [
      "Training accuracy:  0.8360655737704918\n"
     ]
    },
    {
     "name": "stderr",
     "output_type": "stream",
     "text": [
      "/home/inffzy/Desktop/cogs189/cogs189_final_project/scripts/SACSP.py:410: ComplexWarning: Casting complex values to real discards the imaginary part\n",
      "  extracted_features[i, j] = extracted_feature[0, 0]\n",
      "/home/inffzy/Desktop/cogs189/cogs189_final_project/scripts/SACSP.py:410: ComplexWarning: Casting complex values to real discards the imaginary part\n",
      "  extracted_features[i, j] = extracted_feature[0, 0]\n",
      "/home/inffzy/Desktop/cogs189/cogs189_final_project/scripts/SACSP.py:410: ComplexWarning: Casting complex values to real discards the imaginary part\n",
      "  extracted_features[i, j] = extracted_feature[0, 0]\n",
      "/home/inffzy/Desktop/cogs189/cogs189_final_project/scripts/SACSP.py:410: ComplexWarning: Casting complex values to real discards the imaginary part\n",
      "  extracted_features[i, j] = extracted_feature[0, 0]\n",
      "/home/inffzy/Desktop/cogs189/cogs189_final_project/scripts/SACSP.py:410: ComplexWarning: Casting complex values to real discards the imaginary part\n",
      "  extracted_features[i, j] = extracted_feature[0, 0]\n",
      "/home/inffzy/Desktop/cogs189/cogs189_final_project/scripts/SACSP.py:198: ComplexWarning: Casting complex values to real discards the imaginary part\n",
      "  E[i] = trial_fourier @ np.diag(h_or_l) @ np.matrix(trial_fourier).H\n",
      "/home/inffzy/Desktop/cogs189/cogs189_final_project/scripts/SACSP.py:225: ComplexWarning: Casting complex values to real discards the imaginary part\n",
      "  E[i] = np.matrix(trial_fourier).H @ w_or_v @ w_or_v.T @ trial_fourier\n",
      "/home/inffzy/Desktop/cogs189/cogs189_final_project/scripts/SACSP.py:177: ComplexWarning: Casting complex values to real discards the imaginary part\n",
      "  E[i] = trial_fourier @ np.diag(h_or_l) @ np.matrix(trial_fourier).H\n"
     ]
    },
    {
     "name": "stdout",
     "output_type": "stream",
     "text": [
      "Testing accuracy:  0.41935483870967744\n"
     ]
    },
    {
     "name": "stderr",
     "output_type": "stream",
     "text": [
      "/home/inffzy/Desktop/cogs189/cogs189_final_project/scripts/SACSP.py:410: ComplexWarning: Casting complex values to real discards the imaginary part\n",
      "  extracted_features[i, j] = extracted_feature[0, 0]\n",
      "/home/inffzy/Desktop/cogs189/cogs189_final_project/scripts/SACSP.py:198: ComplexWarning: Casting complex values to real discards the imaginary part\n",
      "  E[i] = trial_fourier @ np.diag(h_or_l) @ np.matrix(trial_fourier).H\n",
      "/home/inffzy/Desktop/cogs189/cogs189_final_project/scripts/SACSP.py:225: ComplexWarning: Casting complex values to real discards the imaginary part\n",
      "  E[i] = np.matrix(trial_fourier).H @ w_or_v @ w_or_v.T @ trial_fourier\n",
      "/home/inffzy/Desktop/cogs189/cogs189_final_project/scripts/SACSP.py:177: ComplexWarning: Casting complex values to real discards the imaginary part\n",
      "  E[i] = trial_fourier @ np.diag(h_or_l) @ np.matrix(trial_fourier).H\n"
     ]
    },
    {
     "name": "stdout",
     "output_type": "stream",
     "text": [
      "Cross validation scores for labels  769  and  770 :  1.0\n"
     ]
    },
    {
     "name": "stderr",
     "output_type": "stream",
     "text": [
      "/home/inffzy/Desktop/cogs189/cogs189_final_project/scripts/SACSP.py:410: ComplexWarning: Casting complex values to real discards the imaginary part\n",
      "  extracted_features[i, j] = extracted_feature[0, 0]\n",
      "/home/inffzy/Desktop/cogs189/cogs189_final_project/scripts/SACSP.py:198: ComplexWarning: Casting complex values to real discards the imaginary part\n",
      "  E[i] = trial_fourier @ np.diag(h_or_l) @ np.matrix(trial_fourier).H\n",
      "/home/inffzy/Desktop/cogs189/cogs189_final_project/scripts/SACSP.py:225: ComplexWarning: Casting complex values to real discards the imaginary part\n",
      "  E[i] = np.matrix(trial_fourier).H @ w_or_v @ w_or_v.T @ trial_fourier\n",
      "/home/inffzy/Desktop/cogs189/cogs189_final_project/scripts/SACSP.py:177: ComplexWarning: Casting complex values to real discards the imaginary part\n",
      "  E[i] = trial_fourier @ np.diag(h_or_l) @ np.matrix(trial_fourier).H\n"
     ]
    },
    {
     "name": "stdout",
     "output_type": "stream",
     "text": [
      "Cross validation scores for labels  769  and  771 :  0.8400000000000001\n"
     ]
    },
    {
     "name": "stderr",
     "output_type": "stream",
     "text": [
      "/home/inffzy/Desktop/cogs189/cogs189_final_project/scripts/SACSP.py:410: ComplexWarning: Casting complex values to real discards the imaginary part\n",
      "  extracted_features[i, j] = extracted_feature[0, 0]\n",
      "/home/inffzy/Desktop/cogs189/cogs189_final_project/scripts/SACSP.py:198: ComplexWarning: Casting complex values to real discards the imaginary part\n",
      "  E[i] = trial_fourier @ np.diag(h_or_l) @ np.matrix(trial_fourier).H\n",
      "/home/inffzy/Desktop/cogs189/cogs189_final_project/scripts/SACSP.py:225: ComplexWarning: Casting complex values to real discards the imaginary part\n",
      "  E[i] = np.matrix(trial_fourier).H @ w_or_v @ w_or_v.T @ trial_fourier\n",
      "/home/inffzy/Desktop/cogs189/cogs189_final_project/scripts/SACSP.py:177: ComplexWarning: Casting complex values to real discards the imaginary part\n",
      "  E[i] = trial_fourier @ np.diag(h_or_l) @ np.matrix(trial_fourier).H\n"
     ]
    },
    {
     "name": "stdout",
     "output_type": "stream",
     "text": [
      "Cross validation scores for labels  769  and  772 :  0.6733333333333333\n"
     ]
    },
    {
     "name": "stderr",
     "output_type": "stream",
     "text": [
      "/home/inffzy/Desktop/cogs189/cogs189_final_project/scripts/SACSP.py:410: ComplexWarning: Casting complex values to real discards the imaginary part\n",
      "  extracted_features[i, j] = extracted_feature[0, 0]\n",
      "/home/inffzy/Desktop/cogs189/cogs189_final_project/scripts/SACSP.py:198: ComplexWarning: Casting complex values to real discards the imaginary part\n",
      "  E[i] = trial_fourier @ np.diag(h_or_l) @ np.matrix(trial_fourier).H\n",
      "/home/inffzy/Desktop/cogs189/cogs189_final_project/scripts/SACSP.py:225: ComplexWarning: Casting complex values to real discards the imaginary part\n",
      "  E[i] = np.matrix(trial_fourier).H @ w_or_v @ w_or_v.T @ trial_fourier\n",
      "/home/inffzy/Desktop/cogs189/cogs189_final_project/scripts/SACSP.py:177: ComplexWarning: Casting complex values to real discards the imaginary part\n",
      "  E[i] = trial_fourier @ np.diag(h_or_l) @ np.matrix(trial_fourier).H\n"
     ]
    },
    {
     "name": "stdout",
     "output_type": "stream",
     "text": [
      "Cross validation scores for labels  770  and  771 :  0.6266666666666666\n"
     ]
    },
    {
     "name": "stderr",
     "output_type": "stream",
     "text": [
      "/home/inffzy/Desktop/cogs189/cogs189_final_project/scripts/SACSP.py:410: ComplexWarning: Casting complex values to real discards the imaginary part\n",
      "  extracted_features[i, j] = extracted_feature[0, 0]\n",
      "/home/inffzy/Desktop/cogs189/cogs189_final_project/scripts/SACSP.py:198: ComplexWarning: Casting complex values to real discards the imaginary part\n",
      "  E[i] = trial_fourier @ np.diag(h_or_l) @ np.matrix(trial_fourier).H\n",
      "/home/inffzy/Desktop/cogs189/cogs189_final_project/scripts/SACSP.py:225: ComplexWarning: Casting complex values to real discards the imaginary part\n",
      "  E[i] = np.matrix(trial_fourier).H @ w_or_v @ w_or_v.T @ trial_fourier\n",
      "/home/inffzy/Desktop/cogs189/cogs189_final_project/scripts/SACSP.py:177: ComplexWarning: Casting complex values to real discards the imaginary part\n",
      "  E[i] = trial_fourier @ np.diag(h_or_l) @ np.matrix(trial_fourier).H\n"
     ]
    },
    {
     "name": "stdout",
     "output_type": "stream",
     "text": [
      "Cross validation scores for labels  770  and  772 :  0.9666666666666666\n"
     ]
    },
    {
     "name": "stderr",
     "output_type": "stream",
     "text": [
      "/home/inffzy/Desktop/cogs189/cogs189_final_project/scripts/SACSP.py:410: ComplexWarning: Casting complex values to real discards the imaginary part\n",
      "  extracted_features[i, j] = extracted_feature[0, 0]\n",
      "/home/inffzy/Desktop/cogs189/cogs189_final_project/scripts/SACSP.py:410: ComplexWarning: Casting complex values to real discards the imaginary part\n",
      "  extracted_features[i, j] = extracted_feature[0, 0]\n"
     ]
    },
    {
     "name": "stdout",
     "output_type": "stream",
     "text": [
      "Cross validation scores for labels  771  and  772 :  0.5933333333333334\n"
     ]
    },
    {
     "name": "stderr",
     "output_type": "stream",
     "text": [
      "/home/inffzy/Desktop/cogs189/cogs189_final_project/scripts/SACSP.py:410: ComplexWarning: Casting complex values to real discards the imaginary part\n",
      "  extracted_features[i, j] = extracted_feature[0, 0]\n",
      "/home/inffzy/Desktop/cogs189/cogs189_final_project/scripts/SACSP.py:410: ComplexWarning: Casting complex values to real discards the imaginary part\n",
      "  extracted_features[i, j] = extracted_feature[0, 0]\n",
      "/home/inffzy/Desktop/cogs189/cogs189_final_project/scripts/SACSP.py:410: ComplexWarning: Casting complex values to real discards the imaginary part\n",
      "  extracted_features[i, j] = extracted_feature[0, 0]\n",
      "/home/inffzy/Desktop/cogs189/cogs189_final_project/scripts/SACSP.py:410: ComplexWarning: Casting complex values to real discards the imaginary part\n",
      "  extracted_features[i, j] = extracted_feature[0, 0]\n",
      "/home/inffzy/Desktop/cogs189/cogs189_final_project/scripts/SACSP.py:410: ComplexWarning: Casting complex values to real discards the imaginary part\n",
      "  extracted_features[i, j] = extracted_feature[0, 0]\n",
      "/home/inffzy/Desktop/cogs189/cogs189_final_project/scripts/SACSP.py:410: ComplexWarning: Casting complex values to real discards the imaginary part\n",
      "  extracted_features[i, j] = extracted_feature[0, 0]\n"
     ]
    },
    {
     "name": "stdout",
     "output_type": "stream",
     "text": [
      "Training accuracy:  0.7142857142857143\n"
     ]
    },
    {
     "name": "stderr",
     "output_type": "stream",
     "text": [
      "/home/inffzy/Desktop/cogs189/cogs189_final_project/scripts/SACSP.py:410: ComplexWarning: Casting complex values to real discards the imaginary part\n",
      "  extracted_features[i, j] = extracted_feature[0, 0]\n",
      "/home/inffzy/Desktop/cogs189/cogs189_final_project/scripts/SACSP.py:410: ComplexWarning: Casting complex values to real discards the imaginary part\n",
      "  extracted_features[i, j] = extracted_feature[0, 0]\n",
      "/home/inffzy/Desktop/cogs189/cogs189_final_project/scripts/SACSP.py:410: ComplexWarning: Casting complex values to real discards the imaginary part\n",
      "  extracted_features[i, j] = extracted_feature[0, 0]\n",
      "/home/inffzy/Desktop/cogs189/cogs189_final_project/scripts/SACSP.py:410: ComplexWarning: Casting complex values to real discards the imaginary part\n",
      "  extracted_features[i, j] = extracted_feature[0, 0]\n",
      "/home/inffzy/Desktop/cogs189/cogs189_final_project/scripts/SACSP.py:410: ComplexWarning: Casting complex values to real discards the imaginary part\n",
      "  extracted_features[i, j] = extracted_feature[0, 0]\n",
      "/home/inffzy/Desktop/cogs189/cogs189_final_project/scripts/SACSP.py:198: ComplexWarning: Casting complex values to real discards the imaginary part\n",
      "  E[i] = trial_fourier @ np.diag(h_or_l) @ np.matrix(trial_fourier).H\n",
      "/home/inffzy/Desktop/cogs189/cogs189_final_project/scripts/SACSP.py:225: ComplexWarning: Casting complex values to real discards the imaginary part\n",
      "  E[i] = np.matrix(trial_fourier).H @ w_or_v @ w_or_v.T @ trial_fourier\n"
     ]
    },
    {
     "name": "stdout",
     "output_type": "stream",
     "text": [
      "Testing accuracy:  0.42857142857142855\n"
     ]
    },
    {
     "name": "stderr",
     "output_type": "stream",
     "text": [
      "/home/inffzy/Desktop/cogs189/cogs189_final_project/scripts/SACSP.py:177: ComplexWarning: Casting complex values to real discards the imaginary part\n",
      "  E[i] = trial_fourier @ np.diag(h_or_l) @ np.matrix(trial_fourier).H\n",
      "/home/inffzy/Desktop/cogs189/cogs189_final_project/scripts/SACSP.py:410: ComplexWarning: Casting complex values to real discards the imaginary part\n",
      "  extracted_features[i, j] = extracted_feature[0, 0]\n"
     ]
    },
    {
     "name": "stdout",
     "output_type": "stream",
     "text": [
      "Cross validation scores for labels  769  and  770 :  0.5294117647058824\n"
     ]
    },
    {
     "name": "stderr",
     "output_type": "stream",
     "text": [
      "/home/inffzy/Desktop/cogs189/cogs189_final_project/scripts/SACSP.py:198: ComplexWarning: Casting complex values to real discards the imaginary part\n",
      "  E[i] = trial_fourier @ np.diag(h_or_l) @ np.matrix(trial_fourier).H\n",
      "/home/inffzy/Desktop/cogs189/cogs189_final_project/scripts/SACSP.py:225: ComplexWarning: Casting complex values to real discards the imaginary part\n",
      "  E[i] = np.matrix(trial_fourier).H @ w_or_v @ w_or_v.T @ trial_fourier\n",
      "/home/inffzy/Desktop/cogs189/cogs189_final_project/scripts/SACSP.py:177: ComplexWarning: Casting complex values to real discards the imaginary part\n",
      "  E[i] = trial_fourier @ np.diag(h_or_l) @ np.matrix(trial_fourier).H\n",
      "/home/inffzy/Desktop/cogs189/cogs189_final_project/scripts/SACSP.py:410: ComplexWarning: Casting complex values to real discards the imaginary part\n",
      "  extracted_features[i, j] = extracted_feature[0, 0]\n"
     ]
    },
    {
     "name": "stdout",
     "output_type": "stream",
     "text": [
      "Cross validation scores for labels  769  and  771 :  0.5111111111111111\n"
     ]
    },
    {
     "name": "stderr",
     "output_type": "stream",
     "text": [
      "/home/inffzy/Desktop/cogs189/cogs189_final_project/scripts/SACSP.py:198: ComplexWarning: Casting complex values to real discards the imaginary part\n",
      "  E[i] = trial_fourier @ np.diag(h_or_l) @ np.matrix(trial_fourier).H\n",
      "/home/inffzy/Desktop/cogs189/cogs189_final_project/scripts/SACSP.py:225: ComplexWarning: Casting complex values to real discards the imaginary part\n",
      "  E[i] = np.matrix(trial_fourier).H @ w_or_v @ w_or_v.T @ trial_fourier\n",
      "/home/inffzy/Desktop/cogs189/cogs189_final_project/scripts/SACSP.py:177: ComplexWarning: Casting complex values to real discards the imaginary part\n",
      "  E[i] = trial_fourier @ np.diag(h_or_l) @ np.matrix(trial_fourier).H\n",
      "/home/inffzy/Desktop/cogs189/cogs189_final_project/scripts/SACSP.py:410: ComplexWarning: Casting complex values to real discards the imaginary part\n",
      "  extracted_features[i, j] = extracted_feature[0, 0]\n"
     ]
    },
    {
     "name": "stdout",
     "output_type": "stream",
     "text": [
      "Cross validation scores for labels  769  and  772 :  0.8894736842105264\n"
     ]
    },
    {
     "name": "stderr",
     "output_type": "stream",
     "text": [
      "/home/inffzy/Desktop/cogs189/cogs189_final_project/scripts/SACSP.py:198: ComplexWarning: Casting complex values to real discards the imaginary part\n",
      "  E[i] = trial_fourier @ np.diag(h_or_l) @ np.matrix(trial_fourier).H\n",
      "/home/inffzy/Desktop/cogs189/cogs189_final_project/scripts/SACSP.py:225: ComplexWarning: Casting complex values to real discards the imaginary part\n",
      "  E[i] = np.matrix(trial_fourier).H @ w_or_v @ w_or_v.T @ trial_fourier\n",
      "/home/inffzy/Desktop/cogs189/cogs189_final_project/scripts/SACSP.py:177: ComplexWarning: Casting complex values to real discards the imaginary part\n",
      "  E[i] = trial_fourier @ np.diag(h_or_l) @ np.matrix(trial_fourier).H\n",
      "/home/inffzy/Desktop/cogs189/cogs189_final_project/scripts/SACSP.py:410: ComplexWarning: Casting complex values to real discards the imaginary part\n",
      "  extracted_features[i, j] = extracted_feature[0, 0]\n"
     ]
    },
    {
     "name": "stdout",
     "output_type": "stream",
     "text": [
      "Cross validation scores for labels  770  and  771 :  0.9228070175438597\n"
     ]
    },
    {
     "name": "stderr",
     "output_type": "stream",
     "text": [
      "/home/inffzy/Desktop/cogs189/cogs189_final_project/scripts/SACSP.py:198: ComplexWarning: Casting complex values to real discards the imaginary part\n",
      "  E[i] = trial_fourier @ np.diag(h_or_l) @ np.matrix(trial_fourier).H\n",
      "/home/inffzy/Desktop/cogs189/cogs189_final_project/scripts/SACSP.py:225: ComplexWarning: Casting complex values to real discards the imaginary part\n",
      "  E[i] = np.matrix(trial_fourier).H @ w_or_v @ w_or_v.T @ trial_fourier\n",
      "/home/inffzy/Desktop/cogs189/cogs189_final_project/scripts/SACSP.py:177: ComplexWarning: Casting complex values to real discards the imaginary part\n",
      "  E[i] = trial_fourier @ np.diag(h_or_l) @ np.matrix(trial_fourier).H\n",
      "/home/inffzy/Desktop/cogs189/cogs189_final_project/scripts/SACSP.py:410: ComplexWarning: Casting complex values to real discards the imaginary part\n",
      "  extracted_features[i, j] = extracted_feature[0, 0]\n"
     ]
    },
    {
     "name": "stdout",
     "output_type": "stream",
     "text": [
      "Cross validation scores for labels  770  and  772 :  1.0\n"
     ]
    },
    {
     "name": "stderr",
     "output_type": "stream",
     "text": [
      "/home/inffzy/Desktop/cogs189/cogs189_final_project/scripts/SACSP.py:198: ComplexWarning: Casting complex values to real discards the imaginary part\n",
      "  E[i] = trial_fourier @ np.diag(h_or_l) @ np.matrix(trial_fourier).H\n",
      "/home/inffzy/Desktop/cogs189/cogs189_final_project/scripts/SACSP.py:225: ComplexWarning: Casting complex values to real discards the imaginary part\n",
      "  E[i] = np.matrix(trial_fourier).H @ w_or_v @ w_or_v.T @ trial_fourier\n",
      "/home/inffzy/Desktop/cogs189/cogs189_final_project/scripts/SACSP.py:177: ComplexWarning: Casting complex values to real discards the imaginary part\n",
      "  E[i] = trial_fourier @ np.diag(h_or_l) @ np.matrix(trial_fourier).H\n",
      "/home/inffzy/Desktop/cogs189/cogs189_final_project/scripts/SACSP.py:410: ComplexWarning: Casting complex values to real discards the imaginary part\n",
      "  extracted_features[i, j] = extracted_feature[0, 0]\n"
     ]
    },
    {
     "name": "stdout",
     "output_type": "stream",
     "text": [
      "Cross validation scores for labels  771  and  772 :  0.8\n"
     ]
    },
    {
     "name": "stderr",
     "output_type": "stream",
     "text": [
      "/home/inffzy/Desktop/cogs189/cogs189_final_project/scripts/SACSP.py:410: ComplexWarning: Casting complex values to real discards the imaginary part\n",
      "  extracted_features[i, j] = extracted_feature[0, 0]\n",
      "/home/inffzy/Desktop/cogs189/cogs189_final_project/scripts/SACSP.py:410: ComplexWarning: Casting complex values to real discards the imaginary part\n",
      "  extracted_features[i, j] = extracted_feature[0, 0]\n",
      "/home/inffzy/Desktop/cogs189/cogs189_final_project/scripts/SACSP.py:410: ComplexWarning: Casting complex values to real discards the imaginary part\n",
      "  extracted_features[i, j] = extracted_feature[0, 0]\n",
      "/home/inffzy/Desktop/cogs189/cogs189_final_project/scripts/SACSP.py:410: ComplexWarning: Casting complex values to real discards the imaginary part\n",
      "  extracted_features[i, j] = extracted_feature[0, 0]\n",
      "/home/inffzy/Desktop/cogs189/cogs189_final_project/scripts/SACSP.py:410: ComplexWarning: Casting complex values to real discards the imaginary part\n",
      "  extracted_features[i, j] = extracted_feature[0, 0]\n",
      "/home/inffzy/Desktop/cogs189/cogs189_final_project/scripts/SACSP.py:410: ComplexWarning: Casting complex values to real discards the imaginary part\n",
      "  extracted_features[i, j] = extracted_feature[0, 0]\n"
     ]
    },
    {
     "name": "stdout",
     "output_type": "stream",
     "text": [
      "Training accuracy:  0.5879120879120879\n"
     ]
    },
    {
     "name": "stderr",
     "output_type": "stream",
     "text": [
      "/home/inffzy/Desktop/cogs189/cogs189_final_project/scripts/SACSP.py:410: ComplexWarning: Casting complex values to real discards the imaginary part\n",
      "  extracted_features[i, j] = extracted_feature[0, 0]\n",
      "/home/inffzy/Desktop/cogs189/cogs189_final_project/scripts/SACSP.py:410: ComplexWarning: Casting complex values to real discards the imaginary part\n",
      "  extracted_features[i, j] = extracted_feature[0, 0]\n",
      "/home/inffzy/Desktop/cogs189/cogs189_final_project/scripts/SACSP.py:410: ComplexWarning: Casting complex values to real discards the imaginary part\n",
      "  extracted_features[i, j] = extracted_feature[0, 0]\n",
      "/home/inffzy/Desktop/cogs189/cogs189_final_project/scripts/SACSP.py:410: ComplexWarning: Casting complex values to real discards the imaginary part\n",
      "  extracted_features[i, j] = extracted_feature[0, 0]\n",
      "/home/inffzy/Desktop/cogs189/cogs189_final_project/scripts/SACSP.py:410: ComplexWarning: Casting complex values to real discards the imaginary part\n",
      "  extracted_features[i, j] = extracted_feature[0, 0]\n",
      "/home/inffzy/Desktop/cogs189/cogs189_final_project/scripts/SACSP.py:410: ComplexWarning: Casting complex values to real discards the imaginary part\n",
      "  extracted_features[i, j] = extracted_feature[0, 0]\n"
     ]
    },
    {
     "name": "stdout",
     "output_type": "stream",
     "text": [
      "Testing accuracy:  0.5384615384615384\n"
     ]
    },
    {
     "name": "stderr",
     "output_type": "stream",
     "text": [
      "/home/inffzy/Desktop/cogs189/cogs189_final_project/scripts/SACSP.py:198: ComplexWarning: Casting complex values to real discards the imaginary part\n",
      "  E[i] = trial_fourier @ np.diag(h_or_l) @ np.matrix(trial_fourier).H\n",
      "/home/inffzy/Desktop/cogs189/cogs189_final_project/scripts/SACSP.py:225: ComplexWarning: Casting complex values to real discards the imaginary part\n",
      "  E[i] = np.matrix(trial_fourier).H @ w_or_v @ w_or_v.T @ trial_fourier\n",
      "/home/inffzy/Desktop/cogs189/cogs189_final_project/scripts/SACSP.py:177: ComplexWarning: Casting complex values to real discards the imaginary part\n",
      "  E[i] = trial_fourier @ np.diag(h_or_l) @ np.matrix(trial_fourier).H\n",
      "/home/inffzy/Desktop/cogs189/cogs189_final_project/scripts/SACSP.py:410: ComplexWarning: Casting complex values to real discards the imaginary part\n",
      "  extracted_features[i, j] = extracted_feature[0, 0]\n"
     ]
    },
    {
     "name": "stdout",
     "output_type": "stream",
     "text": [
      "Cross validation scores for labels  769  and  770 :  0.5411764705882354\n"
     ]
    },
    {
     "name": "stderr",
     "output_type": "stream",
     "text": [
      "/home/inffzy/Desktop/cogs189/cogs189_final_project/scripts/SACSP.py:198: ComplexWarning: Casting complex values to real discards the imaginary part\n",
      "  E[i] = trial_fourier @ np.diag(h_or_l) @ np.matrix(trial_fourier).H\n",
      "/home/inffzy/Desktop/cogs189/cogs189_final_project/scripts/SACSP.py:225: ComplexWarning: Casting complex values to real discards the imaginary part\n",
      "  E[i] = np.matrix(trial_fourier).H @ w_or_v @ w_or_v.T @ trial_fourier\n",
      "/home/inffzy/Desktop/cogs189/cogs189_final_project/scripts/SACSP.py:177: ComplexWarning: Casting complex values to real discards the imaginary part\n",
      "  E[i] = trial_fourier @ np.diag(h_or_l) @ np.matrix(trial_fourier).H\n",
      "/home/inffzy/Desktop/cogs189/cogs189_final_project/scripts/SACSP.py:410: ComplexWarning: Casting complex values to real discards the imaginary part\n",
      "  extracted_features[i, j] = extracted_feature[0, 0]\n"
     ]
    },
    {
     "name": "stdout",
     "output_type": "stream",
     "text": [
      "Cross validation scores for labels  769  and  771 :  0.6555555555555556\n"
     ]
    },
    {
     "name": "stderr",
     "output_type": "stream",
     "text": [
      "/home/inffzy/Desktop/cogs189/cogs189_final_project/scripts/SACSP.py:198: ComplexWarning: Casting complex values to real discards the imaginary part\n",
      "  E[i] = trial_fourier @ np.diag(h_or_l) @ np.matrix(trial_fourier).H\n",
      "/home/inffzy/Desktop/cogs189/cogs189_final_project/scripts/SACSP.py:225: ComplexWarning: Casting complex values to real discards the imaginary part\n",
      "  E[i] = np.matrix(trial_fourier).H @ w_or_v @ w_or_v.T @ trial_fourier\n",
      "/home/inffzy/Desktop/cogs189/cogs189_final_project/scripts/SACSP.py:177: ComplexWarning: Casting complex values to real discards the imaginary part\n",
      "  E[i] = trial_fourier @ np.diag(h_or_l) @ np.matrix(trial_fourier).H\n",
      "/home/inffzy/Desktop/cogs189/cogs189_final_project/scripts/SACSP.py:410: ComplexWarning: Casting complex values to real discards the imaginary part\n",
      "  extracted_features[i, j] = extracted_feature[0, 0]\n"
     ]
    },
    {
     "name": "stdout",
     "output_type": "stream",
     "text": [
      "Cross validation scores for labels  769  and  772 :  0.6023391812865497\n"
     ]
    },
    {
     "name": "stderr",
     "output_type": "stream",
     "text": [
      "/home/inffzy/Desktop/cogs189/cogs189_final_project/scripts/SACSP.py:198: ComplexWarning: Casting complex values to real discards the imaginary part\n",
      "  E[i] = trial_fourier @ np.diag(h_or_l) @ np.matrix(trial_fourier).H\n",
      "/home/inffzy/Desktop/cogs189/cogs189_final_project/scripts/SACSP.py:225: ComplexWarning: Casting complex values to real discards the imaginary part\n",
      "  E[i] = np.matrix(trial_fourier).H @ w_or_v @ w_or_v.T @ trial_fourier\n",
      "/home/inffzy/Desktop/cogs189/cogs189_final_project/scripts/SACSP.py:177: ComplexWarning: Casting complex values to real discards the imaginary part\n",
      "  E[i] = trial_fourier @ np.diag(h_or_l) @ np.matrix(trial_fourier).H\n",
      "/home/inffzy/Desktop/cogs189/cogs189_final_project/scripts/SACSP.py:410: ComplexWarning: Casting complex values to real discards the imaginary part\n",
      "  extracted_features[i, j] = extracted_feature[0, 0]\n"
     ]
    },
    {
     "name": "stdout",
     "output_type": "stream",
     "text": [
      "Cross validation scores for labels  770  and  771 :  0.6215686274509804\n"
     ]
    },
    {
     "name": "stderr",
     "output_type": "stream",
     "text": [
      "/home/inffzy/Desktop/cogs189/cogs189_final_project/scripts/SACSP.py:198: ComplexWarning: Casting complex values to real discards the imaginary part\n",
      "  E[i] = trial_fourier @ np.diag(h_or_l) @ np.matrix(trial_fourier).H\n",
      "/home/inffzy/Desktop/cogs189/cogs189_final_project/scripts/SACSP.py:225: ComplexWarning: Casting complex values to real discards the imaginary part\n",
      "  E[i] = np.matrix(trial_fourier).H @ w_or_v @ w_or_v.T @ trial_fourier\n",
      "/home/inffzy/Desktop/cogs189/cogs189_final_project/scripts/SACSP.py:177: ComplexWarning: Casting complex values to real discards the imaginary part\n",
      "  E[i] = trial_fourier @ np.diag(h_or_l) @ np.matrix(trial_fourier).H\n",
      "/home/inffzy/Desktop/cogs189/cogs189_final_project/scripts/SACSP.py:410: ComplexWarning: Casting complex values to real discards the imaginary part\n",
      "  extracted_features[i, j] = extracted_feature[0, 0]\n"
     ]
    },
    {
     "name": "stdout",
     "output_type": "stream",
     "text": [
      "Cross validation scores for labels  770  and  772 :  0.5444444444444445\n"
     ]
    },
    {
     "name": "stderr",
     "output_type": "stream",
     "text": [
      "/home/inffzy/Desktop/cogs189/cogs189_final_project/scripts/SACSP.py:198: ComplexWarning: Casting complex values to real discards the imaginary part\n",
      "  E[i] = trial_fourier @ np.diag(h_or_l) @ np.matrix(trial_fourier).H\n",
      "/home/inffzy/Desktop/cogs189/cogs189_final_project/scripts/SACSP.py:225: ComplexWarning: Casting complex values to real discards the imaginary part\n",
      "  E[i] = np.matrix(trial_fourier).H @ w_or_v @ w_or_v.T @ trial_fourier\n",
      "/home/inffzy/Desktop/cogs189/cogs189_final_project/scripts/SACSP.py:177: ComplexWarning: Casting complex values to real discards the imaginary part\n",
      "  E[i] = trial_fourier @ np.diag(h_or_l) @ np.matrix(trial_fourier).H\n",
      "/home/inffzy/Desktop/cogs189/cogs189_final_project/scripts/SACSP.py:410: ComplexWarning: Casting complex values to real discards the imaginary part\n",
      "  extracted_features[i, j] = extracted_feature[0, 0]\n"
     ]
    },
    {
     "name": "stdout",
     "output_type": "stream",
     "text": [
      "Cross validation scores for labels  771  and  772 :  0.631578947368421\n"
     ]
    },
    {
     "name": "stderr",
     "output_type": "stream",
     "text": [
      "/home/inffzy/Desktop/cogs189/cogs189_final_project/scripts/SACSP.py:410: ComplexWarning: Casting complex values to real discards the imaginary part\n",
      "  extracted_features[i, j] = extracted_feature[0, 0]\n",
      "/home/inffzy/Desktop/cogs189/cogs189_final_project/scripts/SACSP.py:410: ComplexWarning: Casting complex values to real discards the imaginary part\n",
      "  extracted_features[i, j] = extracted_feature[0, 0]\n",
      "/home/inffzy/Desktop/cogs189/cogs189_final_project/scripts/SACSP.py:410: ComplexWarning: Casting complex values to real discards the imaginary part\n",
      "  extracted_features[i, j] = extracted_feature[0, 0]\n",
      "/home/inffzy/Desktop/cogs189/cogs189_final_project/scripts/SACSP.py:410: ComplexWarning: Casting complex values to real discards the imaginary part\n",
      "  extracted_features[i, j] = extracted_feature[0, 0]\n",
      "/home/inffzy/Desktop/cogs189/cogs189_final_project/scripts/SACSP.py:410: ComplexWarning: Casting complex values to real discards the imaginary part\n",
      "  extracted_features[i, j] = extracted_feature[0, 0]\n",
      "/home/inffzy/Desktop/cogs189/cogs189_final_project/scripts/SACSP.py:410: ComplexWarning: Casting complex values to real discards the imaginary part\n",
      "  extracted_features[i, j] = extracted_feature[0, 0]\n"
     ]
    },
    {
     "name": "stdout",
     "output_type": "stream",
     "text": [
      "Training accuracy:  0.3611111111111111\n"
     ]
    },
    {
     "name": "stderr",
     "output_type": "stream",
     "text": [
      "/home/inffzy/Desktop/cogs189/cogs189_final_project/scripts/SACSP.py:410: ComplexWarning: Casting complex values to real discards the imaginary part\n",
      "  extracted_features[i, j] = extracted_feature[0, 0]\n",
      "/home/inffzy/Desktop/cogs189/cogs189_final_project/scripts/SACSP.py:410: ComplexWarning: Casting complex values to real discards the imaginary part\n",
      "  extracted_features[i, j] = extracted_feature[0, 0]\n",
      "/home/inffzy/Desktop/cogs189/cogs189_final_project/scripts/SACSP.py:410: ComplexWarning: Casting complex values to real discards the imaginary part\n",
      "  extracted_features[i, j] = extracted_feature[0, 0]\n",
      "/home/inffzy/Desktop/cogs189/cogs189_final_project/scripts/SACSP.py:410: ComplexWarning: Casting complex values to real discards the imaginary part\n",
      "  extracted_features[i, j] = extracted_feature[0, 0]\n",
      "/home/inffzy/Desktop/cogs189/cogs189_final_project/scripts/SACSP.py:410: ComplexWarning: Casting complex values to real discards the imaginary part\n",
      "  extracted_features[i, j] = extracted_feature[0, 0]\n",
      "/home/inffzy/Desktop/cogs189/cogs189_final_project/scripts/SACSP.py:410: ComplexWarning: Casting complex values to real discards the imaginary part\n",
      "  extracted_features[i, j] = extracted_feature[0, 0]\n"
     ]
    },
    {
     "name": "stdout",
     "output_type": "stream",
     "text": [
      "Testing accuracy:  0.2111111111111111\n"
     ]
    },
    {
     "name": "stderr",
     "output_type": "stream",
     "text": [
      "/home/inffzy/Desktop/cogs189/cogs189_final_project/scripts/SACSP.py:198: ComplexWarning: Casting complex values to real discards the imaginary part\n",
      "  E[i] = trial_fourier @ np.diag(h_or_l) @ np.matrix(trial_fourier).H\n",
      "/home/inffzy/Desktop/cogs189/cogs189_final_project/scripts/SACSP.py:225: ComplexWarning: Casting complex values to real discards the imaginary part\n",
      "  E[i] = np.matrix(trial_fourier).H @ w_or_v @ w_or_v.T @ trial_fourier\n",
      "/home/inffzy/Desktop/cogs189/cogs189_final_project/scripts/SACSP.py:177: ComplexWarning: Casting complex values to real discards the imaginary part\n",
      "  E[i] = trial_fourier @ np.diag(h_or_l) @ np.matrix(trial_fourier).H\n",
      "/home/inffzy/Desktop/cogs189/cogs189_final_project/scripts/SACSP.py:410: ComplexWarning: Casting complex values to real discards the imaginary part\n",
      "  extracted_features[i, j] = extracted_feature[0, 0]\n"
     ]
    },
    {
     "name": "stdout",
     "output_type": "stream",
     "text": [
      "Cross validation scores for labels  769  and  770 :  0.9104575163398693\n"
     ]
    },
    {
     "name": "stderr",
     "output_type": "stream",
     "text": [
      "/home/inffzy/Desktop/cogs189/cogs189_final_project/scripts/SACSP.py:198: ComplexWarning: Casting complex values to real discards the imaginary part\n",
      "  E[i] = trial_fourier @ np.diag(h_or_l) @ np.matrix(trial_fourier).H\n",
      "/home/inffzy/Desktop/cogs189/cogs189_final_project/scripts/SACSP.py:225: ComplexWarning: Casting complex values to real discards the imaginary part\n",
      "  E[i] = np.matrix(trial_fourier).H @ w_or_v @ w_or_v.T @ trial_fourier\n",
      "/home/inffzy/Desktop/cogs189/cogs189_final_project/scripts/SACSP.py:177: ComplexWarning: Casting complex values to real discards the imaginary part\n",
      "  E[i] = trial_fourier @ np.diag(h_or_l) @ np.matrix(trial_fourier).H\n",
      "/home/inffzy/Desktop/cogs189/cogs189_final_project/scripts/SACSP.py:410: ComplexWarning: Casting complex values to real discards the imaginary part\n",
      "  extracted_features[i, j] = extracted_feature[0, 0]\n"
     ]
    },
    {
     "name": "stdout",
     "output_type": "stream",
     "text": [
      "Cross validation scores for labels  769  and  771 :  0.842483660130719\n"
     ]
    },
    {
     "name": "stderr",
     "output_type": "stream",
     "text": [
      "/home/inffzy/Desktop/cogs189/cogs189_final_project/scripts/SACSP.py:198: ComplexWarning: Casting complex values to real discards the imaginary part\n",
      "  E[i] = trial_fourier @ np.diag(h_or_l) @ np.matrix(trial_fourier).H\n",
      "/home/inffzy/Desktop/cogs189/cogs189_final_project/scripts/SACSP.py:225: ComplexWarning: Casting complex values to real discards the imaginary part\n",
      "  E[i] = np.matrix(trial_fourier).H @ w_or_v @ w_or_v.T @ trial_fourier\n",
      "/home/inffzy/Desktop/cogs189/cogs189_final_project/scripts/SACSP.py:177: ComplexWarning: Casting complex values to real discards the imaginary part\n",
      "  E[i] = trial_fourier @ np.diag(h_or_l) @ np.matrix(trial_fourier).H\n",
      "/home/inffzy/Desktop/cogs189/cogs189_final_project/scripts/SACSP.py:410: ComplexWarning: Casting complex values to real discards the imaginary part\n",
      "  extracted_features[i, j] = extracted_feature[0, 0]\n"
     ]
    },
    {
     "name": "stdout",
     "output_type": "stream",
     "text": [
      "Cross validation scores for labels  769  and  772 :  0.9294117647058823\n"
     ]
    },
    {
     "name": "stderr",
     "output_type": "stream",
     "text": [
      "/home/inffzy/Desktop/cogs189/cogs189_final_project/scripts/SACSP.py:198: ComplexWarning: Casting complex values to real discards the imaginary part\n",
      "  E[i] = trial_fourier @ np.diag(h_or_l) @ np.matrix(trial_fourier).H\n",
      "/home/inffzy/Desktop/cogs189/cogs189_final_project/scripts/SACSP.py:225: ComplexWarning: Casting complex values to real discards the imaginary part\n",
      "  E[i] = np.matrix(trial_fourier).H @ w_or_v @ w_or_v.T @ trial_fourier\n",
      "/home/inffzy/Desktop/cogs189/cogs189_final_project/scripts/SACSP.py:177: ComplexWarning: Casting complex values to real discards the imaginary part\n",
      "  E[i] = trial_fourier @ np.diag(h_or_l) @ np.matrix(trial_fourier).H\n",
      "/home/inffzy/Desktop/cogs189/cogs189_final_project/scripts/SACSP.py:410: ComplexWarning: Casting complex values to real discards the imaginary part\n",
      "  extracted_features[i, j] = extracted_feature[0, 0]\n"
     ]
    },
    {
     "name": "stdout",
     "output_type": "stream",
     "text": [
      "Cross validation scores for labels  770  and  771 :  0.8608187134502924\n"
     ]
    },
    {
     "name": "stderr",
     "output_type": "stream",
     "text": [
      "/home/inffzy/Desktop/cogs189/cogs189_final_project/scripts/SACSP.py:198: ComplexWarning: Casting complex values to real discards the imaginary part\n",
      "  E[i] = trial_fourier @ np.diag(h_or_l) @ np.matrix(trial_fourier).H\n",
      "/home/inffzy/Desktop/cogs189/cogs189_final_project/scripts/SACSP.py:225: ComplexWarning: Casting complex values to real discards the imaginary part\n",
      "  E[i] = np.matrix(trial_fourier).H @ w_or_v @ w_or_v.T @ trial_fourier\n",
      "/home/inffzy/Desktop/cogs189/cogs189_final_project/scripts/SACSP.py:177: ComplexWarning: Casting complex values to real discards the imaginary part\n",
      "  E[i] = trial_fourier @ np.diag(h_or_l) @ np.matrix(trial_fourier).H\n",
      "/home/inffzy/Desktop/cogs189/cogs189_final_project/scripts/SACSP.py:410: ComplexWarning: Casting complex values to real discards the imaginary part\n",
      "  extracted_features[i, j] = extracted_feature[0, 0]\n"
     ]
    },
    {
     "name": "stdout",
     "output_type": "stream",
     "text": [
      "Cross validation scores for labels  770  and  772 :  0.8783625730994153\n"
     ]
    },
    {
     "name": "stderr",
     "output_type": "stream",
     "text": [
      "/home/inffzy/Desktop/cogs189/cogs189_final_project/scripts/SACSP.py:198: ComplexWarning: Casting complex values to real discards the imaginary part\n",
      "  E[i] = trial_fourier @ np.diag(h_or_l) @ np.matrix(trial_fourier).H\n",
      "/home/inffzy/Desktop/cogs189/cogs189_final_project/scripts/SACSP.py:225: ComplexWarning: Casting complex values to real discards the imaginary part\n",
      "  E[i] = np.matrix(trial_fourier).H @ w_or_v @ w_or_v.T @ trial_fourier\n",
      "/home/inffzy/Desktop/cogs189/cogs189_final_project/scripts/SACSP.py:177: ComplexWarning: Casting complex values to real discards the imaginary part\n",
      "  E[i] = trial_fourier @ np.diag(h_or_l) @ np.matrix(trial_fourier).H\n",
      "/home/inffzy/Desktop/cogs189/cogs189_final_project/scripts/SACSP.py:410: ComplexWarning: Casting complex values to real discards the imaginary part\n",
      "  extracted_features[i, j] = extracted_feature[0, 0]\n"
     ]
    },
    {
     "name": "stdout",
     "output_type": "stream",
     "text": [
      "Cross validation scores for labels  771  and  772 :  0.6140350877192983\n"
     ]
    },
    {
     "name": "stderr",
     "output_type": "stream",
     "text": [
      "/home/inffzy/Desktop/cogs189/cogs189_final_project/scripts/SACSP.py:410: ComplexWarning: Casting complex values to real discards the imaginary part\n",
      "  extracted_features[i, j] = extracted_feature[0, 0]\n",
      "/home/inffzy/Desktop/cogs189/cogs189_final_project/scripts/SACSP.py:410: ComplexWarning: Casting complex values to real discards the imaginary part\n",
      "  extracted_features[i, j] = extracted_feature[0, 0]\n",
      "/home/inffzy/Desktop/cogs189/cogs189_final_project/scripts/SACSP.py:410: ComplexWarning: Casting complex values to real discards the imaginary part\n",
      "  extracted_features[i, j] = extracted_feature[0, 0]\n",
      "/home/inffzy/Desktop/cogs189/cogs189_final_project/scripts/SACSP.py:410: ComplexWarning: Casting complex values to real discards the imaginary part\n",
      "  extracted_features[i, j] = extracted_feature[0, 0]\n",
      "/home/inffzy/Desktop/cogs189/cogs189_final_project/scripts/SACSP.py:410: ComplexWarning: Casting complex values to real discards the imaginary part\n",
      "  extracted_features[i, j] = extracted_feature[0, 0]\n",
      "/home/inffzy/Desktop/cogs189/cogs189_final_project/scripts/SACSP.py:410: ComplexWarning: Casting complex values to real discards the imaginary part\n",
      "  extracted_features[i, j] = extracted_feature[0, 0]\n"
     ]
    },
    {
     "name": "stdout",
     "output_type": "stream",
     "text": [
      "Training accuracy:  0.7166666666666667\n"
     ]
    },
    {
     "name": "stderr",
     "output_type": "stream",
     "text": [
      "/home/inffzy/Desktop/cogs189/cogs189_final_project/scripts/SACSP.py:410: ComplexWarning: Casting complex values to real discards the imaginary part\n",
      "  extracted_features[i, j] = extracted_feature[0, 0]\n",
      "/home/inffzy/Desktop/cogs189/cogs189_final_project/scripts/SACSP.py:410: ComplexWarning: Casting complex values to real discards the imaginary part\n",
      "  extracted_features[i, j] = extracted_feature[0, 0]\n",
      "/home/inffzy/Desktop/cogs189/cogs189_final_project/scripts/SACSP.py:410: ComplexWarning: Casting complex values to real discards the imaginary part\n",
      "  extracted_features[i, j] = extracted_feature[0, 0]\n",
      "/home/inffzy/Desktop/cogs189/cogs189_final_project/scripts/SACSP.py:410: ComplexWarning: Casting complex values to real discards the imaginary part\n",
      "  extracted_features[i, j] = extracted_feature[0, 0]\n",
      "/home/inffzy/Desktop/cogs189/cogs189_final_project/scripts/SACSP.py:410: ComplexWarning: Casting complex values to real discards the imaginary part\n",
      "  extracted_features[i, j] = extracted_feature[0, 0]\n",
      "/home/inffzy/Desktop/cogs189/cogs189_final_project/scripts/SACSP.py:410: ComplexWarning: Casting complex values to real discards the imaginary part\n",
      "  extracted_features[i, j] = extracted_feature[0, 0]\n"
     ]
    },
    {
     "name": "stdout",
     "output_type": "stream",
     "text": [
      "Testing accuracy:  0.6777777777777778\n"
     ]
    },
    {
     "name": "stderr",
     "output_type": "stream",
     "text": [
      "/home/inffzy/Desktop/cogs189/cogs189_final_project/scripts/SACSP.py:198: ComplexWarning: Casting complex values to real discards the imaginary part\n",
      "  E[i] = trial_fourier @ np.diag(h_or_l) @ np.matrix(trial_fourier).H\n",
      "/home/inffzy/Desktop/cogs189/cogs189_final_project/scripts/SACSP.py:225: ComplexWarning: Casting complex values to real discards the imaginary part\n",
      "  E[i] = np.matrix(trial_fourier).H @ w_or_v @ w_or_v.T @ trial_fourier\n",
      "/home/inffzy/Desktop/cogs189/cogs189_final_project/scripts/SACSP.py:177: ComplexWarning: Casting complex values to real discards the imaginary part\n",
      "  E[i] = trial_fourier @ np.diag(h_or_l) @ np.matrix(trial_fourier).H\n",
      "/home/inffzy/Desktop/cogs189/cogs189_final_project/scripts/SACSP.py:410: ComplexWarning: Casting complex values to real discards the imaginary part\n",
      "  extracted_features[i, j] = extracted_feature[0, 0]\n"
     ]
    },
    {
     "name": "stdout",
     "output_type": "stream",
     "text": [
      "Cross validation scores for labels  769  and  770 :  0.5875\n"
     ]
    },
    {
     "name": "stderr",
     "output_type": "stream",
     "text": [
      "/home/inffzy/Desktop/cogs189/cogs189_final_project/scripts/SACSP.py:198: ComplexWarning: Casting complex values to real discards the imaginary part\n",
      "  E[i] = trial_fourier @ np.diag(h_or_l) @ np.matrix(trial_fourier).H\n",
      "/home/inffzy/Desktop/cogs189/cogs189_final_project/scripts/SACSP.py:225: ComplexWarning: Casting complex values to real discards the imaginary part\n",
      "  E[i] = np.matrix(trial_fourier).H @ w_or_v @ w_or_v.T @ trial_fourier\n",
      "/home/inffzy/Desktop/cogs189/cogs189_final_project/scripts/SACSP.py:177: ComplexWarning: Casting complex values to real discards the imaginary part\n",
      "  E[i] = trial_fourier @ np.diag(h_or_l) @ np.matrix(trial_fourier).H\n",
      "/home/inffzy/Desktop/cogs189/cogs189_final_project/scripts/SACSP.py:410: ComplexWarning: Casting complex values to real discards the imaginary part\n",
      "  extracted_features[i, j] = extracted_feature[0, 0]\n"
     ]
    },
    {
     "name": "stdout",
     "output_type": "stream",
     "text": [
      "Cross validation scores for labels  769  and  771 :  0.5669117647058823\n"
     ]
    },
    {
     "name": "stderr",
     "output_type": "stream",
     "text": [
      "/home/inffzy/Desktop/cogs189/cogs189_final_project/scripts/SACSP.py:198: ComplexWarning: Casting complex values to real discards the imaginary part\n",
      "  E[i] = trial_fourier @ np.diag(h_or_l) @ np.matrix(trial_fourier).H\n",
      "/home/inffzy/Desktop/cogs189/cogs189_final_project/scripts/SACSP.py:225: ComplexWarning: Casting complex values to real discards the imaginary part\n",
      "  E[i] = np.matrix(trial_fourier).H @ w_or_v @ w_or_v.T @ trial_fourier\n",
      "/home/inffzy/Desktop/cogs189/cogs189_final_project/scripts/SACSP.py:177: ComplexWarning: Casting complex values to real discards the imaginary part\n",
      "  E[i] = trial_fourier @ np.diag(h_or_l) @ np.matrix(trial_fourier).H\n",
      "/home/inffzy/Desktop/cogs189/cogs189_final_project/scripts/SACSP.py:410: ComplexWarning: Casting complex values to real discards the imaginary part\n",
      "  extracted_features[i, j] = extracted_feature[0, 0]\n"
     ]
    },
    {
     "name": "stdout",
     "output_type": "stream",
     "text": [
      "Cross validation scores for labels  769  and  772 :  0.5117647058823529\n"
     ]
    },
    {
     "name": "stderr",
     "output_type": "stream",
     "text": [
      "/home/inffzy/Desktop/cogs189/cogs189_final_project/scripts/SACSP.py:198: ComplexWarning: Casting complex values to real discards the imaginary part\n",
      "  E[i] = trial_fourier @ np.diag(h_or_l) @ np.matrix(trial_fourier).H\n",
      "/home/inffzy/Desktop/cogs189/cogs189_final_project/scripts/SACSP.py:225: ComplexWarning: Casting complex values to real discards the imaginary part\n",
      "  E[i] = np.matrix(trial_fourier).H @ w_or_v @ w_or_v.T @ trial_fourier\n",
      "/home/inffzy/Desktop/cogs189/cogs189_final_project/scripts/SACSP.py:177: ComplexWarning: Casting complex values to real discards the imaginary part\n",
      "  E[i] = trial_fourier @ np.diag(h_or_l) @ np.matrix(trial_fourier).H\n",
      "/home/inffzy/Desktop/cogs189/cogs189_final_project/scripts/SACSP.py:410: ComplexWarning: Casting complex values to real discards the imaginary part\n",
      "  extracted_features[i, j] = extracted_feature[0, 0]\n"
     ]
    },
    {
     "name": "stdout",
     "output_type": "stream",
     "text": [
      "Cross validation scores for labels  770  and  771 :  0.6233918128654972\n"
     ]
    },
    {
     "name": "stderr",
     "output_type": "stream",
     "text": [
      "/home/inffzy/Desktop/cogs189/cogs189_final_project/scripts/SACSP.py:198: ComplexWarning: Casting complex values to real discards the imaginary part\n",
      "  E[i] = trial_fourier @ np.diag(h_or_l) @ np.matrix(trial_fourier).H\n",
      "/home/inffzy/Desktop/cogs189/cogs189_final_project/scripts/SACSP.py:225: ComplexWarning: Casting complex values to real discards the imaginary part\n",
      "  E[i] = np.matrix(trial_fourier).H @ w_or_v @ w_or_v.T @ trial_fourier\n",
      "/home/inffzy/Desktop/cogs189/cogs189_final_project/scripts/SACSP.py:177: ComplexWarning: Casting complex values to real discards the imaginary part\n",
      "  E[i] = trial_fourier @ np.diag(h_or_l) @ np.matrix(trial_fourier).H\n",
      "/home/inffzy/Desktop/cogs189/cogs189_final_project/scripts/SACSP.py:410: ComplexWarning: Casting complex values to real discards the imaginary part\n",
      "  extracted_features[i, j] = extracted_feature[0, 0]\n"
     ]
    },
    {
     "name": "stdout",
     "output_type": "stream",
     "text": [
      "Cross validation scores for labels  770  and  772 :  0.5426900584795321\n"
     ]
    },
    {
     "name": "stderr",
     "output_type": "stream",
     "text": [
      "/home/inffzy/Desktop/cogs189/cogs189_final_project/scripts/SACSP.py:198: ComplexWarning: Casting complex values to real discards the imaginary part\n",
      "  E[i] = trial_fourier @ np.diag(h_or_l) @ np.matrix(trial_fourier).H\n",
      "/home/inffzy/Desktop/cogs189/cogs189_final_project/scripts/SACSP.py:225: ComplexWarning: Casting complex values to real discards the imaginary part\n",
      "  E[i] = np.matrix(trial_fourier).H @ w_or_v @ w_or_v.T @ trial_fourier\n",
      "/home/inffzy/Desktop/cogs189/cogs189_final_project/scripts/SACSP.py:177: ComplexWarning: Casting complex values to real discards the imaginary part\n",
      "  E[i] = trial_fourier @ np.diag(h_or_l) @ np.matrix(trial_fourier).H\n",
      "/home/inffzy/Desktop/cogs189/cogs189_final_project/scripts/SACSP.py:410: ComplexWarning: Casting complex values to real discards the imaginary part\n",
      "  extracted_features[i, j] = extracted_feature[0, 0]\n"
     ]
    },
    {
     "name": "stdout",
     "output_type": "stream",
     "text": [
      "Cross validation scores for labels  771  and  772 :  0.6\n"
     ]
    },
    {
     "name": "stderr",
     "output_type": "stream",
     "text": [
      "/home/inffzy/Desktop/cogs189/cogs189_final_project/scripts/SACSP.py:410: ComplexWarning: Casting complex values to real discards the imaginary part\n",
      "  extracted_features[i, j] = extracted_feature[0, 0]\n",
      "/home/inffzy/Desktop/cogs189/cogs189_final_project/scripts/SACSP.py:410: ComplexWarning: Casting complex values to real discards the imaginary part\n",
      "  extracted_features[i, j] = extracted_feature[0, 0]\n",
      "/home/inffzy/Desktop/cogs189/cogs189_final_project/scripts/SACSP.py:410: ComplexWarning: Casting complex values to real discards the imaginary part\n",
      "  extracted_features[i, j] = extracted_feature[0, 0]\n",
      "/home/inffzy/Desktop/cogs189/cogs189_final_project/scripts/SACSP.py:410: ComplexWarning: Casting complex values to real discards the imaginary part\n",
      "  extracted_features[i, j] = extracted_feature[0, 0]\n",
      "/home/inffzy/Desktop/cogs189/cogs189_final_project/scripts/SACSP.py:410: ComplexWarning: Casting complex values to real discards the imaginary part\n",
      "  extracted_features[i, j] = extracted_feature[0, 0]\n",
      "/home/inffzy/Desktop/cogs189/cogs189_final_project/scripts/SACSP.py:410: ComplexWarning: Casting complex values to real discards the imaginary part\n",
      "  extracted_features[i, j] = extracted_feature[0, 0]\n"
     ]
    },
    {
     "name": "stdout",
     "output_type": "stream",
     "text": [
      "Training accuracy:  0.33714285714285713\n"
     ]
    },
    {
     "name": "stderr",
     "output_type": "stream",
     "text": [
      "/home/inffzy/Desktop/cogs189/cogs189_final_project/scripts/SACSP.py:410: ComplexWarning: Casting complex values to real discards the imaginary part\n",
      "  extracted_features[i, j] = extracted_feature[0, 0]\n",
      "/home/inffzy/Desktop/cogs189/cogs189_final_project/scripts/SACSP.py:410: ComplexWarning: Casting complex values to real discards the imaginary part\n",
      "  extracted_features[i, j] = extracted_feature[0, 0]\n",
      "/home/inffzy/Desktop/cogs189/cogs189_final_project/scripts/SACSP.py:410: ComplexWarning: Casting complex values to real discards the imaginary part\n",
      "  extracted_features[i, j] = extracted_feature[0, 0]\n",
      "/home/inffzy/Desktop/cogs189/cogs189_final_project/scripts/SACSP.py:410: ComplexWarning: Casting complex values to real discards the imaginary part\n",
      "  extracted_features[i, j] = extracted_feature[0, 0]\n",
      "/home/inffzy/Desktop/cogs189/cogs189_final_project/scripts/SACSP.py:410: ComplexWarning: Casting complex values to real discards the imaginary part\n",
      "  extracted_features[i, j] = extracted_feature[0, 0]\n",
      "/home/inffzy/Desktop/cogs189/cogs189_final_project/scripts/SACSP.py:410: ComplexWarning: Casting complex values to real discards the imaginary part\n",
      "  extracted_features[i, j] = extracted_feature[0, 0]\n"
     ]
    },
    {
     "name": "stdout",
     "output_type": "stream",
     "text": [
      "Testing accuracy:  0.22988505747126436\n"
     ]
    },
    {
     "name": "stderr",
     "output_type": "stream",
     "text": [
      "/home/inffzy/Desktop/cogs189/cogs189_final_project/scripts/SACSP.py:198: ComplexWarning: Casting complex values to real discards the imaginary part\n",
      "  E[i] = trial_fourier @ np.diag(h_or_l) @ np.matrix(trial_fourier).H\n",
      "/home/inffzy/Desktop/cogs189/cogs189_final_project/scripts/SACSP.py:225: ComplexWarning: Casting complex values to real discards the imaginary part\n",
      "  E[i] = np.matrix(trial_fourier).H @ w_or_v @ w_or_v.T @ trial_fourier\n",
      "/home/inffzy/Desktop/cogs189/cogs189_final_project/scripts/SACSP.py:177: ComplexWarning: Casting complex values to real discards the imaginary part\n",
      "  E[i] = trial_fourier @ np.diag(h_or_l) @ np.matrix(trial_fourier).H\n",
      "/home/inffzy/Desktop/cogs189/cogs189_final_project/scripts/SACSP.py:410: ComplexWarning: Casting complex values to real discards the imaginary part\n",
      "  extracted_features[i, j] = extracted_feature[0, 0]\n"
     ]
    },
    {
     "name": "stdout",
     "output_type": "stream",
     "text": [
      "Cross validation scores for labels  769  and  770 :  0.5666666666666667\n"
     ]
    },
    {
     "name": "stderr",
     "output_type": "stream",
     "text": [
      "/home/inffzy/Desktop/cogs189/cogs189_final_project/scripts/SACSP.py:198: ComplexWarning: Casting complex values to real discards the imaginary part\n",
      "  E[i] = trial_fourier @ np.diag(h_or_l) @ np.matrix(trial_fourier).H\n",
      "/home/inffzy/Desktop/cogs189/cogs189_final_project/scripts/SACSP.py:225: ComplexWarning: Casting complex values to real discards the imaginary part\n",
      "  E[i] = np.matrix(trial_fourier).H @ w_or_v @ w_or_v.T @ trial_fourier\n",
      "/home/inffzy/Desktop/cogs189/cogs189_final_project/scripts/SACSP.py:177: ComplexWarning: Casting complex values to real discards the imaginary part\n",
      "  E[i] = trial_fourier @ np.diag(h_or_l) @ np.matrix(trial_fourier).H\n",
      "/home/inffzy/Desktop/cogs189/cogs189_final_project/scripts/SACSP.py:410: ComplexWarning: Casting complex values to real discards the imaginary part\n",
      "  extracted_features[i, j] = extracted_feature[0, 0]\n"
     ]
    },
    {
     "name": "stdout",
     "output_type": "stream",
     "text": [
      "Cross validation scores for labels  769  and  771 :  0.6205882352941177\n"
     ]
    },
    {
     "name": "stderr",
     "output_type": "stream",
     "text": [
      "/home/inffzy/Desktop/cogs189/cogs189_final_project/scripts/SACSP.py:198: ComplexWarning: Casting complex values to real discards the imaginary part\n",
      "  E[i] = trial_fourier @ np.diag(h_or_l) @ np.matrix(trial_fourier).H\n",
      "/home/inffzy/Desktop/cogs189/cogs189_final_project/scripts/SACSP.py:225: ComplexWarning: Casting complex values to real discards the imaginary part\n",
      "  E[i] = np.matrix(trial_fourier).H @ w_or_v @ w_or_v.T @ trial_fourier\n",
      "/home/inffzy/Desktop/cogs189/cogs189_final_project/scripts/SACSP.py:177: ComplexWarning: Casting complex values to real discards the imaginary part\n",
      "  E[i] = trial_fourier @ np.diag(h_or_l) @ np.matrix(trial_fourier).H\n",
      "/home/inffzy/Desktop/cogs189/cogs189_final_project/scripts/SACSP.py:410: ComplexWarning: Casting complex values to real discards the imaginary part\n",
      "  extracted_features[i, j] = extracted_feature[0, 0]\n"
     ]
    },
    {
     "name": "stdout",
     "output_type": "stream",
     "text": [
      "Cross validation scores for labels  769  and  772 :  0.65\n"
     ]
    },
    {
     "name": "stderr",
     "output_type": "stream",
     "text": [
      "/home/inffzy/Desktop/cogs189/cogs189_final_project/scripts/SACSP.py:198: ComplexWarning: Casting complex values to real discards the imaginary part\n",
      "  E[i] = trial_fourier @ np.diag(h_or_l) @ np.matrix(trial_fourier).H\n",
      "/home/inffzy/Desktop/cogs189/cogs189_final_project/scripts/SACSP.py:225: ComplexWarning: Casting complex values to real discards the imaginary part\n",
      "  E[i] = np.matrix(trial_fourier).H @ w_or_v @ w_or_v.T @ trial_fourier\n",
      "/home/inffzy/Desktop/cogs189/cogs189_final_project/scripts/SACSP.py:177: ComplexWarning: Casting complex values to real discards the imaginary part\n",
      "  E[i] = trial_fourier @ np.diag(h_or_l) @ np.matrix(trial_fourier).H\n",
      "/home/inffzy/Desktop/cogs189/cogs189_final_project/scripts/SACSP.py:410: ComplexWarning: Casting complex values to real discards the imaginary part\n",
      "  extracted_features[i, j] = extracted_feature[0, 0]\n"
     ]
    },
    {
     "name": "stdout",
     "output_type": "stream",
     "text": [
      "Cross validation scores for labels  770  and  771 :  0.6748538011695906\n"
     ]
    },
    {
     "name": "stderr",
     "output_type": "stream",
     "text": [
      "/home/inffzy/Desktop/cogs189/cogs189_final_project/scripts/SACSP.py:198: ComplexWarning: Casting complex values to real discards the imaginary part\n",
      "  E[i] = trial_fourier @ np.diag(h_or_l) @ np.matrix(trial_fourier).H\n",
      "/home/inffzy/Desktop/cogs189/cogs189_final_project/scripts/SACSP.py:225: ComplexWarning: Casting complex values to real discards the imaginary part\n",
      "  E[i] = np.matrix(trial_fourier).H @ w_or_v @ w_or_v.T @ trial_fourier\n",
      "/home/inffzy/Desktop/cogs189/cogs189_final_project/scripts/SACSP.py:177: ComplexWarning: Casting complex values to real discards the imaginary part\n",
      "  E[i] = trial_fourier @ np.diag(h_or_l) @ np.matrix(trial_fourier).H\n",
      "/home/inffzy/Desktop/cogs189/cogs189_final_project/scripts/SACSP.py:410: ComplexWarning: Casting complex values to real discards the imaginary part\n",
      "  extracted_features[i, j] = extracted_feature[0, 0]\n"
     ]
    },
    {
     "name": "stdout",
     "output_type": "stream",
     "text": [
      "Cross validation scores for labels  770  and  772 :  0.5684210526315789\n"
     ]
    },
    {
     "name": "stderr",
     "output_type": "stream",
     "text": [
      "/home/inffzy/Desktop/cogs189/cogs189_final_project/scripts/SACSP.py:198: ComplexWarning: Casting complex values to real discards the imaginary part\n",
      "  E[i] = trial_fourier @ np.diag(h_or_l) @ np.matrix(trial_fourier).H\n",
      "/home/inffzy/Desktop/cogs189/cogs189_final_project/scripts/SACSP.py:225: ComplexWarning: Casting complex values to real discards the imaginary part\n",
      "  E[i] = np.matrix(trial_fourier).H @ w_or_v @ w_or_v.T @ trial_fourier\n",
      "/home/inffzy/Desktop/cogs189/cogs189_final_project/scripts/SACSP.py:177: ComplexWarning: Casting complex values to real discards the imaginary part\n",
      "  E[i] = trial_fourier @ np.diag(h_or_l) @ np.matrix(trial_fourier).H\n",
      "/home/inffzy/Desktop/cogs189/cogs189_final_project/scripts/SACSP.py:410: ComplexWarning: Casting complex values to real discards the imaginary part\n",
      "  extracted_features[i, j] = extracted_feature[0, 0]\n"
     ]
    },
    {
     "name": "stdout",
     "output_type": "stream",
     "text": [
      "Cross validation scores for labels  771  and  772 :  0.6389705882352941\n"
     ]
    },
    {
     "name": "stderr",
     "output_type": "stream",
     "text": [
      "/home/inffzy/Desktop/cogs189/cogs189_final_project/scripts/SACSP.py:410: ComplexWarning: Casting complex values to real discards the imaginary part\n",
      "  extracted_features[i, j] = extracted_feature[0, 0]\n",
      "/home/inffzy/Desktop/cogs189/cogs189_final_project/scripts/SACSP.py:410: ComplexWarning: Casting complex values to real discards the imaginary part\n",
      "  extracted_features[i, j] = extracted_feature[0, 0]\n",
      "/home/inffzy/Desktop/cogs189/cogs189_final_project/scripts/SACSP.py:410: ComplexWarning: Casting complex values to real discards the imaginary part\n",
      "  extracted_features[i, j] = extracted_feature[0, 0]\n",
      "/home/inffzy/Desktop/cogs189/cogs189_final_project/scripts/SACSP.py:410: ComplexWarning: Casting complex values to real discards the imaginary part\n",
      "  extracted_features[i, j] = extracted_feature[0, 0]\n",
      "/home/inffzy/Desktop/cogs189/cogs189_final_project/scripts/SACSP.py:410: ComplexWarning: Casting complex values to real discards the imaginary part\n",
      "  extracted_features[i, j] = extracted_feature[0, 0]\n",
      "/home/inffzy/Desktop/cogs189/cogs189_final_project/scripts/SACSP.py:410: ComplexWarning: Casting complex values to real discards the imaginary part\n",
      "  extracted_features[i, j] = extracted_feature[0, 0]\n"
     ]
    },
    {
     "name": "stdout",
     "output_type": "stream",
     "text": [
      "Training accuracy:  0.38857142857142857\n"
     ]
    },
    {
     "name": "stderr",
     "output_type": "stream",
     "text": [
      "/home/inffzy/Desktop/cogs189/cogs189_final_project/scripts/SACSP.py:410: ComplexWarning: Casting complex values to real discards the imaginary part\n",
      "  extracted_features[i, j] = extracted_feature[0, 0]\n",
      "/home/inffzy/Desktop/cogs189/cogs189_final_project/scripts/SACSP.py:410: ComplexWarning: Casting complex values to real discards the imaginary part\n",
      "  extracted_features[i, j] = extracted_feature[0, 0]\n",
      "/home/inffzy/Desktop/cogs189/cogs189_final_project/scripts/SACSP.py:410: ComplexWarning: Casting complex values to real discards the imaginary part\n",
      "  extracted_features[i, j] = extracted_feature[0, 0]\n",
      "/home/inffzy/Desktop/cogs189/cogs189_final_project/scripts/SACSP.py:410: ComplexWarning: Casting complex values to real discards the imaginary part\n",
      "  extracted_features[i, j] = extracted_feature[0, 0]\n",
      "/home/inffzy/Desktop/cogs189/cogs189_final_project/scripts/SACSP.py:410: ComplexWarning: Casting complex values to real discards the imaginary part\n",
      "  extracted_features[i, j] = extracted_feature[0, 0]\n",
      "/home/inffzy/Desktop/cogs189/cogs189_final_project/scripts/SACSP.py:410: ComplexWarning: Casting complex values to real discards the imaginary part\n",
      "  extracted_features[i, j] = extracted_feature[0, 0]\n"
     ]
    },
    {
     "name": "stdout",
     "output_type": "stream",
     "text": [
      "Testing accuracy:  0.16091954022988506\n"
     ]
    },
    {
     "name": "stderr",
     "output_type": "stream",
     "text": [
      "/home/inffzy/Desktop/cogs189/cogs189_final_project/scripts/SACSP.py:198: ComplexWarning: Casting complex values to real discards the imaginary part\n",
      "  E[i] = trial_fourier @ np.diag(h_or_l) @ np.matrix(trial_fourier).H\n",
      "/home/inffzy/Desktop/cogs189/cogs189_final_project/scripts/SACSP.py:225: ComplexWarning: Casting complex values to real discards the imaginary part\n",
      "  E[i] = np.matrix(trial_fourier).H @ w_or_v @ w_or_v.T @ trial_fourier\n",
      "/home/inffzy/Desktop/cogs189/cogs189_final_project/scripts/SACSP.py:177: ComplexWarning: Casting complex values to real discards the imaginary part\n",
      "  E[i] = trial_fourier @ np.diag(h_or_l) @ np.matrix(trial_fourier).H\n",
      "/home/inffzy/Desktop/cogs189/cogs189_final_project/scripts/SACSP.py:410: ComplexWarning: Casting complex values to real discards the imaginary part\n",
      "  extracted_features[i, j] = extracted_feature[0, 0]\n"
     ]
    },
    {
     "name": "stdout",
     "output_type": "stream",
     "text": [
      "Cross validation scores for labels  769  and  770 :  0.6299999999999999\n"
     ]
    },
    {
     "name": "stderr",
     "output_type": "stream",
     "text": [
      "/home/inffzy/Desktop/cogs189/cogs189_final_project/scripts/SACSP.py:198: ComplexWarning: Casting complex values to real discards the imaginary part\n",
      "  E[i] = trial_fourier @ np.diag(h_or_l) @ np.matrix(trial_fourier).H\n",
      "/home/inffzy/Desktop/cogs189/cogs189_final_project/scripts/SACSP.py:225: ComplexWarning: Casting complex values to real discards the imaginary part\n",
      "  E[i] = np.matrix(trial_fourier).H @ w_or_v @ w_or_v.T @ trial_fourier\n",
      "/home/inffzy/Desktop/cogs189/cogs189_final_project/scripts/SACSP.py:177: ComplexWarning: Casting complex values to real discards the imaginary part\n",
      "  E[i] = trial_fourier @ np.diag(h_or_l) @ np.matrix(trial_fourier).H\n",
      "/home/inffzy/Desktop/cogs189/cogs189_final_project/scripts/SACSP.py:410: ComplexWarning: Casting complex values to real discards the imaginary part\n",
      "  extracted_features[i, j] = extracted_feature[0, 0]\n"
     ]
    },
    {
     "name": "stdout",
     "output_type": "stream",
     "text": [
      "Cross validation scores for labels  769  and  771 :  0.6824999999999999\n"
     ]
    },
    {
     "name": "stderr",
     "output_type": "stream",
     "text": [
      "/home/inffzy/Desktop/cogs189/cogs189_final_project/scripts/SACSP.py:198: ComplexWarning: Casting complex values to real discards the imaginary part\n",
      "  E[i] = trial_fourier @ np.diag(h_or_l) @ np.matrix(trial_fourier).H\n",
      "/home/inffzy/Desktop/cogs189/cogs189_final_project/scripts/SACSP.py:225: ComplexWarning: Casting complex values to real discards the imaginary part\n",
      "  E[i] = np.matrix(trial_fourier).H @ w_or_v @ w_or_v.T @ trial_fourier\n",
      "/home/inffzy/Desktop/cogs189/cogs189_final_project/scripts/SACSP.py:177: ComplexWarning: Casting complex values to real discards the imaginary part\n",
      "  E[i] = trial_fourier @ np.diag(h_or_l) @ np.matrix(trial_fourier).H\n",
      "/home/inffzy/Desktop/cogs189/cogs189_final_project/scripts/SACSP.py:410: ComplexWarning: Casting complex values to real discards the imaginary part\n",
      "  extracted_features[i, j] = extracted_feature[0, 0]\n"
     ]
    },
    {
     "name": "stdout",
     "output_type": "stream",
     "text": [
      "Cross validation scores for labels  769  and  772 :  0.575\n"
     ]
    },
    {
     "name": "stderr",
     "output_type": "stream",
     "text": [
      "/home/inffzy/Desktop/cogs189/cogs189_final_project/scripts/SACSP.py:198: ComplexWarning: Casting complex values to real discards the imaginary part\n",
      "  E[i] = trial_fourier @ np.diag(h_or_l) @ np.matrix(trial_fourier).H\n",
      "/home/inffzy/Desktop/cogs189/cogs189_final_project/scripts/SACSP.py:225: ComplexWarning: Casting complex values to real discards the imaginary part\n",
      "  E[i] = np.matrix(trial_fourier).H @ w_or_v @ w_or_v.T @ trial_fourier\n",
      "/home/inffzy/Desktop/cogs189/cogs189_final_project/scripts/SACSP.py:177: ComplexWarning: Casting complex values to real discards the imaginary part\n",
      "  E[i] = trial_fourier @ np.diag(h_or_l) @ np.matrix(trial_fourier).H\n",
      "/home/inffzy/Desktop/cogs189/cogs189_final_project/scripts/SACSP.py:410: ComplexWarning: Casting complex values to real discards the imaginary part\n",
      "  extracted_features[i, j] = extracted_feature[0, 0]\n",
      "/home/inffzy/Desktop/cogs189/cogs189_final_project/scripts/SACSP.py:198: ComplexWarning: Casting complex values to real discards the imaginary part\n",
      "  E[i] = trial_fourier @ np.diag(h_or_l) @ np.matrix(trial_fourier).H\n"
     ]
    },
    {
     "name": "stdout",
     "output_type": "stream",
     "text": [
      "Cross validation scores for labels  770  and  771 :  0.6802197802197802\n"
     ]
    },
    {
     "name": "stderr",
     "output_type": "stream",
     "text": [
      "/home/inffzy/Desktop/cogs189/cogs189_final_project/scripts/SACSP.py:225: ComplexWarning: Casting complex values to real discards the imaginary part\n",
      "  E[i] = np.matrix(trial_fourier).H @ w_or_v @ w_or_v.T @ trial_fourier\n",
      "/home/inffzy/Desktop/cogs189/cogs189_final_project/scripts/SACSP.py:177: ComplexWarning: Casting complex values to real discards the imaginary part\n",
      "  E[i] = trial_fourier @ np.diag(h_or_l) @ np.matrix(trial_fourier).H\n",
      "/home/inffzy/Desktop/cogs189/cogs189_final_project/scripts/SACSP.py:410: ComplexWarning: Casting complex values to real discards the imaginary part\n",
      "  extracted_features[i, j] = extracted_feature[0, 0]\n"
     ]
    },
    {
     "name": "stdout",
     "output_type": "stream",
     "text": [
      "Cross validation scores for labels  770  and  772 :  0.6142857142857142\n"
     ]
    },
    {
     "name": "stderr",
     "output_type": "stream",
     "text": [
      "/home/inffzy/Desktop/cogs189/cogs189_final_project/scripts/SACSP.py:198: ComplexWarning: Casting complex values to real discards the imaginary part\n",
      "  E[i] = trial_fourier @ np.diag(h_or_l) @ np.matrix(trial_fourier).H\n",
      "/home/inffzy/Desktop/cogs189/cogs189_final_project/scripts/SACSP.py:225: ComplexWarning: Casting complex values to real discards the imaginary part\n",
      "  E[i] = np.matrix(trial_fourier).H @ w_or_v @ w_or_v.T @ trial_fourier\n",
      "/home/inffzy/Desktop/cogs189/cogs189_final_project/scripts/SACSP.py:177: ComplexWarning: Casting complex values to real discards the imaginary part\n",
      "  E[i] = trial_fourier @ np.diag(h_or_l) @ np.matrix(trial_fourier).H\n",
      "/home/inffzy/Desktop/cogs189/cogs189_final_project/scripts/SACSP.py:410: ComplexWarning: Casting complex values to real discards the imaginary part\n",
      "  extracted_features[i, j] = extracted_feature[0, 0]\n"
     ]
    },
    {
     "name": "stdout",
     "output_type": "stream",
     "text": [
      "Cross validation scores for labels  771  and  772 :  0.6285714285714287\n"
     ]
    },
    {
     "name": "stderr",
     "output_type": "stream",
     "text": [
      "/home/inffzy/Desktop/cogs189/cogs189_final_project/scripts/SACSP.py:410: ComplexWarning: Casting complex values to real discards the imaginary part\n",
      "  extracted_features[i, j] = extracted_feature[0, 0]\n",
      "/home/inffzy/Desktop/cogs189/cogs189_final_project/scripts/SACSP.py:410: ComplexWarning: Casting complex values to real discards the imaginary part\n",
      "  extracted_features[i, j] = extracted_feature[0, 0]\n",
      "/home/inffzy/Desktop/cogs189/cogs189_final_project/scripts/SACSP.py:410: ComplexWarning: Casting complex values to real discards the imaginary part\n",
      "  extracted_features[i, j] = extracted_feature[0, 0]\n",
      "/home/inffzy/Desktop/cogs189/cogs189_final_project/scripts/SACSP.py:410: ComplexWarning: Casting complex values to real discards the imaginary part\n",
      "  extracted_features[i, j] = extracted_feature[0, 0]\n",
      "/home/inffzy/Desktop/cogs189/cogs189_final_project/scripts/SACSP.py:410: ComplexWarning: Casting complex values to real discards the imaginary part\n",
      "  extracted_features[i, j] = extracted_feature[0, 0]\n",
      "/home/inffzy/Desktop/cogs189/cogs189_final_project/scripts/SACSP.py:410: ComplexWarning: Casting complex values to real discards the imaginary part\n",
      "  extracted_features[i, j] = extracted_feature[0, 0]\n"
     ]
    },
    {
     "name": "stdout",
     "output_type": "stream",
     "text": [
      "Training accuracy:  0.4589041095890411\n"
     ]
    },
    {
     "name": "stderr",
     "output_type": "stream",
     "text": [
      "/home/inffzy/Desktop/cogs189/cogs189_final_project/scripts/SACSP.py:410: ComplexWarning: Casting complex values to real discards the imaginary part\n",
      "  extracted_features[i, j] = extracted_feature[0, 0]\n",
      "/home/inffzy/Desktop/cogs189/cogs189_final_project/scripts/SACSP.py:410: ComplexWarning: Casting complex values to real discards the imaginary part\n",
      "  extracted_features[i, j] = extracted_feature[0, 0]\n",
      "/home/inffzy/Desktop/cogs189/cogs189_final_project/scripts/SACSP.py:410: ComplexWarning: Casting complex values to real discards the imaginary part\n",
      "  extracted_features[i, j] = extracted_feature[0, 0]\n",
      "/home/inffzy/Desktop/cogs189/cogs189_final_project/scripts/SACSP.py:410: ComplexWarning: Casting complex values to real discards the imaginary part\n",
      "  extracted_features[i, j] = extracted_feature[0, 0]\n",
      "/home/inffzy/Desktop/cogs189/cogs189_final_project/scripts/SACSP.py:410: ComplexWarning: Casting complex values to real discards the imaginary part\n",
      "  extracted_features[i, j] = extracted_feature[0, 0]\n",
      "/home/inffzy/Desktop/cogs189/cogs189_final_project/scripts/SACSP.py:410: ComplexWarning: Casting complex values to real discards the imaginary part\n",
      "  extracted_features[i, j] = extracted_feature[0, 0]\n",
      "/home/inffzy/Desktop/cogs189/cogs189_final_project/scripts/SACSP.py:198: ComplexWarning: Casting complex values to real discards the imaginary part\n",
      "  E[i] = trial_fourier @ np.diag(h_or_l) @ np.matrix(trial_fourier).H\n"
     ]
    },
    {
     "name": "stdout",
     "output_type": "stream",
     "text": [
      "Testing accuracy:  0.2602739726027397\n"
     ]
    },
    {
     "name": "stderr",
     "output_type": "stream",
     "text": [
      "/home/inffzy/Desktop/cogs189/cogs189_final_project/scripts/SACSP.py:225: ComplexWarning: Casting complex values to real discards the imaginary part\n",
      "  E[i] = np.matrix(trial_fourier).H @ w_or_v @ w_or_v.T @ trial_fourier\n",
      "/home/inffzy/Desktop/cogs189/cogs189_final_project/scripts/SACSP.py:177: ComplexWarning: Casting complex values to real discards the imaginary part\n",
      "  E[i] = trial_fourier @ np.diag(h_or_l) @ np.matrix(trial_fourier).H\n",
      "/home/inffzy/Desktop/cogs189/cogs189_final_project/scripts/SACSP.py:410: ComplexWarning: Casting complex values to real discards the imaginary part\n",
      "  extracted_features[i, j] = extracted_feature[0, 0]\n"
     ]
    },
    {
     "name": "stdout",
     "output_type": "stream",
     "text": [
      "Cross validation scores for labels  769  and  770 :  0.5555555555555556\n"
     ]
    },
    {
     "name": "stderr",
     "output_type": "stream",
     "text": [
      "/home/inffzy/Desktop/cogs189/cogs189_final_project/scripts/SACSP.py:198: ComplexWarning: Casting complex values to real discards the imaginary part\n",
      "  E[i] = trial_fourier @ np.diag(h_or_l) @ np.matrix(trial_fourier).H\n",
      "/home/inffzy/Desktop/cogs189/cogs189_final_project/scripts/SACSP.py:225: ComplexWarning: Casting complex values to real discards the imaginary part\n",
      "  E[i] = np.matrix(trial_fourier).H @ w_or_v @ w_or_v.T @ trial_fourier\n",
      "/home/inffzy/Desktop/cogs189/cogs189_final_project/scripts/SACSP.py:177: ComplexWarning: Casting complex values to real discards the imaginary part\n",
      "  E[i] = trial_fourier @ np.diag(h_or_l) @ np.matrix(trial_fourier).H\n",
      "/home/inffzy/Desktop/cogs189/cogs189_final_project/scripts/SACSP.py:410: ComplexWarning: Casting complex values to real discards the imaginary part\n",
      "  extracted_features[i, j] = extracted_feature[0, 0]\n"
     ]
    },
    {
     "name": "stdout",
     "output_type": "stream",
     "text": [
      "Cross validation scores for labels  769  and  771 :  0.38823529411764707\n"
     ]
    },
    {
     "name": "stderr",
     "output_type": "stream",
     "text": [
      "/home/inffzy/Desktop/cogs189/cogs189_final_project/scripts/SACSP.py:198: ComplexWarning: Casting complex values to real discards the imaginary part\n",
      "  E[i] = trial_fourier @ np.diag(h_or_l) @ np.matrix(trial_fourier).H\n",
      "/home/inffzy/Desktop/cogs189/cogs189_final_project/scripts/SACSP.py:225: ComplexWarning: Casting complex values to real discards the imaginary part\n",
      "  E[i] = np.matrix(trial_fourier).H @ w_or_v @ w_or_v.T @ trial_fourier\n",
      "/home/inffzy/Desktop/cogs189/cogs189_final_project/scripts/SACSP.py:177: ComplexWarning: Casting complex values to real discards the imaginary part\n",
      "  E[i] = trial_fourier @ np.diag(h_or_l) @ np.matrix(trial_fourier).H\n",
      "/home/inffzy/Desktop/cogs189/cogs189_final_project/scripts/SACSP.py:410: ComplexWarning: Casting complex values to real discards the imaginary part\n",
      "  extracted_features[i, j] = extracted_feature[0, 0]\n"
     ]
    },
    {
     "name": "stdout",
     "output_type": "stream",
     "text": [
      "Cross validation scores for labels  769  and  772 :  0.5725490196078431\n"
     ]
    },
    {
     "name": "stderr",
     "output_type": "stream",
     "text": [
      "/home/inffzy/Desktop/cogs189/cogs189_final_project/scripts/SACSP.py:198: ComplexWarning: Casting complex values to real discards the imaginary part\n",
      "  E[i] = trial_fourier @ np.diag(h_or_l) @ np.matrix(trial_fourier).H\n",
      "/home/inffzy/Desktop/cogs189/cogs189_final_project/scripts/SACSP.py:225: ComplexWarning: Casting complex values to real discards the imaginary part\n",
      "  E[i] = np.matrix(trial_fourier).H @ w_or_v @ w_or_v.T @ trial_fourier\n",
      "/home/inffzy/Desktop/cogs189/cogs189_final_project/scripts/SACSP.py:177: ComplexWarning: Casting complex values to real discards the imaginary part\n",
      "  E[i] = trial_fourier @ np.diag(h_or_l) @ np.matrix(trial_fourier).H\n",
      "/home/inffzy/Desktop/cogs189/cogs189_final_project/scripts/SACSP.py:410: ComplexWarning: Casting complex values to real discards the imaginary part\n",
      "  extracted_features[i, j] = extracted_feature[0, 0]\n"
     ]
    },
    {
     "name": "stdout",
     "output_type": "stream",
     "text": [
      "Cross validation scores for labels  770  and  771 :  0.5543859649122806\n"
     ]
    },
    {
     "name": "stderr",
     "output_type": "stream",
     "text": [
      "/home/inffzy/Desktop/cogs189/cogs189_final_project/scripts/SACSP.py:198: ComplexWarning: Casting complex values to real discards the imaginary part\n",
      "  E[i] = trial_fourier @ np.diag(h_or_l) @ np.matrix(trial_fourier).H\n",
      "/home/inffzy/Desktop/cogs189/cogs189_final_project/scripts/SACSP.py:225: ComplexWarning: Casting complex values to real discards the imaginary part\n",
      "  E[i] = np.matrix(trial_fourier).H @ w_or_v @ w_or_v.T @ trial_fourier\n",
      "/home/inffzy/Desktop/cogs189/cogs189_final_project/scripts/SACSP.py:177: ComplexWarning: Casting complex values to real discards the imaginary part\n",
      "  E[i] = trial_fourier @ np.diag(h_or_l) @ np.matrix(trial_fourier).H\n",
      "/home/inffzy/Desktop/cogs189/cogs189_final_project/scripts/SACSP.py:410: ComplexWarning: Casting complex values to real discards the imaginary part\n",
      "  extracted_features[i, j] = extracted_feature[0, 0]\n"
     ]
    },
    {
     "name": "stdout",
     "output_type": "stream",
     "text": [
      "Cross validation scores for labels  770  and  772 :  0.5047368421052633\n"
     ]
    },
    {
     "name": "stderr",
     "output_type": "stream",
     "text": [
      "/home/inffzy/Desktop/cogs189/cogs189_final_project/scripts/SACSP.py:198: ComplexWarning: Casting complex values to real discards the imaginary part\n",
      "  E[i] = trial_fourier @ np.diag(h_or_l) @ np.matrix(trial_fourier).H\n",
      "/home/inffzy/Desktop/cogs189/cogs189_final_project/scripts/SACSP.py:225: ComplexWarning: Casting complex values to real discards the imaginary part\n",
      "  E[i] = np.matrix(trial_fourier).H @ w_or_v @ w_or_v.T @ trial_fourier\n",
      "/home/inffzy/Desktop/cogs189/cogs189_final_project/scripts/SACSP.py:177: ComplexWarning: Casting complex values to real discards the imaginary part\n",
      "  E[i] = trial_fourier @ np.diag(h_or_l) @ np.matrix(trial_fourier).H\n",
      "/home/inffzy/Desktop/cogs189/cogs189_final_project/scripts/SACSP.py:410: ComplexWarning: Casting complex values to real discards the imaginary part\n",
      "  extracted_features[i, j] = extracted_feature[0, 0]\n"
     ]
    },
    {
     "name": "stdout",
     "output_type": "stream",
     "text": [
      "Cross validation scores for labels  771  and  772 :  0.5502923976608186\n"
     ]
    },
    {
     "name": "stderr",
     "output_type": "stream",
     "text": [
      "/home/inffzy/Desktop/cogs189/cogs189_final_project/scripts/SACSP.py:410: ComplexWarning: Casting complex values to real discards the imaginary part\n",
      "  extracted_features[i, j] = extracted_feature[0, 0]\n",
      "/home/inffzy/Desktop/cogs189/cogs189_final_project/scripts/SACSP.py:410: ComplexWarning: Casting complex values to real discards the imaginary part\n",
      "  extracted_features[i, j] = extracted_feature[0, 0]\n",
      "/home/inffzy/Desktop/cogs189/cogs189_final_project/scripts/SACSP.py:410: ComplexWarning: Casting complex values to real discards the imaginary part\n",
      "  extracted_features[i, j] = extracted_feature[0, 0]\n",
      "/home/inffzy/Desktop/cogs189/cogs189_final_project/scripts/SACSP.py:410: ComplexWarning: Casting complex values to real discards the imaginary part\n",
      "  extracted_features[i, j] = extracted_feature[0, 0]\n",
      "/home/inffzy/Desktop/cogs189/cogs189_final_project/scripts/SACSP.py:410: ComplexWarning: Casting complex values to real discards the imaginary part\n",
      "  extracted_features[i, j] = extracted_feature[0, 0]\n",
      "/home/inffzy/Desktop/cogs189/cogs189_final_project/scripts/SACSP.py:410: ComplexWarning: Casting complex values to real discards the imaginary part\n",
      "  extracted_features[i, j] = extracted_feature[0, 0]\n"
     ]
    },
    {
     "name": "stdout",
     "output_type": "stream",
     "text": [
      "Training accuracy:  0.30386740331491713\n"
     ]
    },
    {
     "name": "stderr",
     "output_type": "stream",
     "text": [
      "/home/inffzy/Desktop/cogs189/cogs189_final_project/scripts/SACSP.py:410: ComplexWarning: Casting complex values to real discards the imaginary part\n",
      "  extracted_features[i, j] = extracted_feature[0, 0]\n",
      "/home/inffzy/Desktop/cogs189/cogs189_final_project/scripts/SACSP.py:410: ComplexWarning: Casting complex values to real discards the imaginary part\n",
      "  extracted_features[i, j] = extracted_feature[0, 0]\n",
      "/home/inffzy/Desktop/cogs189/cogs189_final_project/scripts/SACSP.py:410: ComplexWarning: Casting complex values to real discards the imaginary part\n",
      "  extracted_features[i, j] = extracted_feature[0, 0]\n",
      "/home/inffzy/Desktop/cogs189/cogs189_final_project/scripts/SACSP.py:410: ComplexWarning: Casting complex values to real discards the imaginary part\n",
      "  extracted_features[i, j] = extracted_feature[0, 0]\n",
      "/home/inffzy/Desktop/cogs189/cogs189_final_project/scripts/SACSP.py:410: ComplexWarning: Casting complex values to real discards the imaginary part\n",
      "  extracted_features[i, j] = extracted_feature[0, 0]\n",
      "/home/inffzy/Desktop/cogs189/cogs189_final_project/scripts/SACSP.py:410: ComplexWarning: Casting complex values to real discards the imaginary part\n",
      "  extracted_features[i, j] = extracted_feature[0, 0]\n"
     ]
    },
    {
     "name": "stdout",
     "output_type": "stream",
     "text": [
      "Testing accuracy:  0.2222222222222222\n"
     ]
    },
    {
     "name": "stderr",
     "output_type": "stream",
     "text": [
      "/home/inffzy/Desktop/cogs189/cogs189_final_project/scripts/SACSP.py:198: ComplexWarning: Casting complex values to real discards the imaginary part\n",
      "  E[i] = trial_fourier @ np.diag(h_or_l) @ np.matrix(trial_fourier).H\n",
      "/home/inffzy/Desktop/cogs189/cogs189_final_project/scripts/SACSP.py:225: ComplexWarning: Casting complex values to real discards the imaginary part\n",
      "  E[i] = np.matrix(trial_fourier).H @ w_or_v @ w_or_v.T @ trial_fourier\n",
      "/home/inffzy/Desktop/cogs189/cogs189_final_project/scripts/SACSP.py:177: ComplexWarning: Casting complex values to real discards the imaginary part\n",
      "  E[i] = trial_fourier @ np.diag(h_or_l) @ np.matrix(trial_fourier).H\n",
      "/home/inffzy/Desktop/cogs189/cogs189_final_project/scripts/SACSP.py:410: ComplexWarning: Casting complex values to real discards the imaginary part\n",
      "  extracted_features[i, j] = extracted_feature[0, 0]\n"
     ]
    },
    {
     "name": "stdout",
     "output_type": "stream",
     "text": [
      "Cross validation scores for labels  769  and  770 :  0.9071895424836601\n"
     ]
    },
    {
     "name": "stderr",
     "output_type": "stream",
     "text": [
      "/home/inffzy/Desktop/cogs189/cogs189_final_project/scripts/SACSP.py:198: ComplexWarning: Casting complex values to real discards the imaginary part\n",
      "  E[i] = trial_fourier @ np.diag(h_or_l) @ np.matrix(trial_fourier).H\n",
      "/home/inffzy/Desktop/cogs189/cogs189_final_project/scripts/SACSP.py:225: ComplexWarning: Casting complex values to real discards the imaginary part\n",
      "  E[i] = np.matrix(trial_fourier).H @ w_or_v @ w_or_v.T @ trial_fourier\n",
      "/home/inffzy/Desktop/cogs189/cogs189_final_project/scripts/SACSP.py:177: ComplexWarning: Casting complex values to real discards the imaginary part\n",
      "  E[i] = trial_fourier @ np.diag(h_or_l) @ np.matrix(trial_fourier).H\n",
      "/home/inffzy/Desktop/cogs189/cogs189_final_project/scripts/SACSP.py:410: ComplexWarning: Casting complex values to real discards the imaginary part\n",
      "  extracted_features[i, j] = extracted_feature[0, 0]\n"
     ]
    },
    {
     "name": "stdout",
     "output_type": "stream",
     "text": [
      "Cross validation scores for labels  769  and  771 :  0.7398692810457517\n"
     ]
    },
    {
     "name": "stderr",
     "output_type": "stream",
     "text": [
      "/home/inffzy/Desktop/cogs189/cogs189_final_project/scripts/SACSP.py:198: ComplexWarning: Casting complex values to real discards the imaginary part\n",
      "  E[i] = trial_fourier @ np.diag(h_or_l) @ np.matrix(trial_fourier).H\n",
      "/home/inffzy/Desktop/cogs189/cogs189_final_project/scripts/SACSP.py:225: ComplexWarning: Casting complex values to real discards the imaginary part\n",
      "  E[i] = np.matrix(trial_fourier).H @ w_or_v @ w_or_v.T @ trial_fourier\n",
      "/home/inffzy/Desktop/cogs189/cogs189_final_project/scripts/SACSP.py:177: ComplexWarning: Casting complex values to real discards the imaginary part\n",
      "  E[i] = trial_fourier @ np.diag(h_or_l) @ np.matrix(trial_fourier).H\n",
      "/home/inffzy/Desktop/cogs189/cogs189_final_project/scripts/SACSP.py:410: ComplexWarning: Casting complex values to real discards the imaginary part\n",
      "  extracted_features[i, j] = extracted_feature[0, 0]\n"
     ]
    },
    {
     "name": "stdout",
     "output_type": "stream",
     "text": [
      "Cross validation scores for labels  769  and  772 :  0.8380116959064328\n"
     ]
    },
    {
     "name": "stderr",
     "output_type": "stream",
     "text": [
      "/home/inffzy/Desktop/cogs189/cogs189_final_project/scripts/SACSP.py:198: ComplexWarning: Casting complex values to real discards the imaginary part\n",
      "  E[i] = trial_fourier @ np.diag(h_or_l) @ np.matrix(trial_fourier).H\n",
      "/home/inffzy/Desktop/cogs189/cogs189_final_project/scripts/SACSP.py:225: ComplexWarning: Casting complex values to real discards the imaginary part\n",
      "  E[i] = np.matrix(trial_fourier).H @ w_or_v @ w_or_v.T @ trial_fourier\n",
      "/home/inffzy/Desktop/cogs189/cogs189_final_project/scripts/SACSP.py:177: ComplexWarning: Casting complex values to real discards the imaginary part\n",
      "  E[i] = trial_fourier @ np.diag(h_or_l) @ np.matrix(trial_fourier).H\n",
      "/home/inffzy/Desktop/cogs189/cogs189_final_project/scripts/SACSP.py:410: ComplexWarning: Casting complex values to real discards the imaginary part\n",
      "  extracted_features[i, j] = extracted_feature[0, 0]\n"
     ]
    },
    {
     "name": "stdout",
     "output_type": "stream",
     "text": [
      "Cross validation scores for labels  770  and  771 :  0.7595588235294117\n"
     ]
    },
    {
     "name": "stderr",
     "output_type": "stream",
     "text": [
      "/home/inffzy/Desktop/cogs189/cogs189_final_project/scripts/SACSP.py:198: ComplexWarning: Casting complex values to real discards the imaginary part\n",
      "  E[i] = trial_fourier @ np.diag(h_or_l) @ np.matrix(trial_fourier).H\n",
      "/home/inffzy/Desktop/cogs189/cogs189_final_project/scripts/SACSP.py:225: ComplexWarning: Casting complex values to real discards the imaginary part\n",
      "  E[i] = np.matrix(trial_fourier).H @ w_or_v @ w_or_v.T @ trial_fourier\n",
      "/home/inffzy/Desktop/cogs189/cogs189_final_project/scripts/SACSP.py:177: ComplexWarning: Casting complex values to real discards the imaginary part\n",
      "  E[i] = trial_fourier @ np.diag(h_or_l) @ np.matrix(trial_fourier).H\n",
      "/home/inffzy/Desktop/cogs189/cogs189_final_project/scripts/SACSP.py:410: ComplexWarning: Casting complex values to real discards the imaginary part\n",
      "  extracted_features[i, j] = extracted_feature[0, 0]\n"
     ]
    },
    {
     "name": "stdout",
     "output_type": "stream",
     "text": [
      "Cross validation scores for labels  770  and  772 :  0.7954248366013073\n"
     ]
    },
    {
     "name": "stderr",
     "output_type": "stream",
     "text": [
      "/home/inffzy/Desktop/cogs189/cogs189_final_project/scripts/SACSP.py:198: ComplexWarning: Casting complex values to real discards the imaginary part\n",
      "  E[i] = trial_fourier @ np.diag(h_or_l) @ np.matrix(trial_fourier).H\n",
      "/home/inffzy/Desktop/cogs189/cogs189_final_project/scripts/SACSP.py:225: ComplexWarning: Casting complex values to real discards the imaginary part\n",
      "  E[i] = np.matrix(trial_fourier).H @ w_or_v @ w_or_v.T @ trial_fourier\n",
      "/home/inffzy/Desktop/cogs189/cogs189_final_project/scripts/SACSP.py:177: ComplexWarning: Casting complex values to real discards the imaginary part\n",
      "  E[i] = trial_fourier @ np.diag(h_or_l) @ np.matrix(trial_fourier).H\n",
      "/home/inffzy/Desktop/cogs189/cogs189_final_project/scripts/SACSP.py:410: ComplexWarning: Casting complex values to real discards the imaginary part\n",
      "  extracted_features[i, j] = extracted_feature[0, 0]\n"
     ]
    },
    {
     "name": "stdout",
     "output_type": "stream",
     "text": [
      "Cross validation scores for labels  771  and  772 :  0.7993464052287582\n"
     ]
    },
    {
     "name": "stderr",
     "output_type": "stream",
     "text": [
      "/home/inffzy/Desktop/cogs189/cogs189_final_project/scripts/SACSP.py:410: ComplexWarning: Casting complex values to real discards the imaginary part\n",
      "  extracted_features[i, j] = extracted_feature[0, 0]\n",
      "/home/inffzy/Desktop/cogs189/cogs189_final_project/scripts/SACSP.py:410: ComplexWarning: Casting complex values to real discards the imaginary part\n",
      "  extracted_features[i, j] = extracted_feature[0, 0]\n",
      "/home/inffzy/Desktop/cogs189/cogs189_final_project/scripts/SACSP.py:410: ComplexWarning: Casting complex values to real discards the imaginary part\n",
      "  extracted_features[i, j] = extracted_feature[0, 0]\n",
      "/home/inffzy/Desktop/cogs189/cogs189_final_project/scripts/SACSP.py:410: ComplexWarning: Casting complex values to real discards the imaginary part\n",
      "  extracted_features[i, j] = extracted_feature[0, 0]\n",
      "/home/inffzy/Desktop/cogs189/cogs189_final_project/scripts/SACSP.py:410: ComplexWarning: Casting complex values to real discards the imaginary part\n",
      "  extracted_features[i, j] = extracted_feature[0, 0]\n",
      "/home/inffzy/Desktop/cogs189/cogs189_final_project/scripts/SACSP.py:410: ComplexWarning: Casting complex values to real discards the imaginary part\n",
      "  extracted_features[i, j] = extracted_feature[0, 0]\n"
     ]
    },
    {
     "name": "stdout",
     "output_type": "stream",
     "text": [
      "Training accuracy:  0.6931818181818182\n"
     ]
    },
    {
     "name": "stderr",
     "output_type": "stream",
     "text": [
      "/home/inffzy/Desktop/cogs189/cogs189_final_project/scripts/SACSP.py:410: ComplexWarning: Casting complex values to real discards the imaginary part\n",
      "  extracted_features[i, j] = extracted_feature[0, 0]\n",
      "/home/inffzy/Desktop/cogs189/cogs189_final_project/scripts/SACSP.py:410: ComplexWarning: Casting complex values to real discards the imaginary part\n",
      "  extracted_features[i, j] = extracted_feature[0, 0]\n",
      "/home/inffzy/Desktop/cogs189/cogs189_final_project/scripts/SACSP.py:410: ComplexWarning: Casting complex values to real discards the imaginary part\n",
      "  extracted_features[i, j] = extracted_feature[0, 0]\n",
      "/home/inffzy/Desktop/cogs189/cogs189_final_project/scripts/SACSP.py:410: ComplexWarning: Casting complex values to real discards the imaginary part\n",
      "  extracted_features[i, j] = extracted_feature[0, 0]\n",
      "/home/inffzy/Desktop/cogs189/cogs189_final_project/scripts/SACSP.py:410: ComplexWarning: Casting complex values to real discards the imaginary part\n",
      "  extracted_features[i, j] = extracted_feature[0, 0]\n",
      "/home/inffzy/Desktop/cogs189/cogs189_final_project/scripts/SACSP.py:410: ComplexWarning: Casting complex values to real discards the imaginary part\n",
      "  extracted_features[i, j] = extracted_feature[0, 0]\n"
     ]
    },
    {
     "name": "stdout",
     "output_type": "stream",
     "text": [
      "Testing accuracy:  0.7272727272727273\n"
     ]
    },
    {
     "name": "stderr",
     "output_type": "stream",
     "text": [
      "/home/inffzy/Desktop/cogs189/cogs189_final_project/scripts/SACSP.py:198: ComplexWarning: Casting complex values to real discards the imaginary part\n",
      "  E[i] = trial_fourier @ np.diag(h_or_l) @ np.matrix(trial_fourier).H\n",
      "/home/inffzy/Desktop/cogs189/cogs189_final_project/scripts/SACSP.py:225: ComplexWarning: Casting complex values to real discards the imaginary part\n",
      "  E[i] = np.matrix(trial_fourier).H @ w_or_v @ w_or_v.T @ trial_fourier\n",
      "/home/inffzy/Desktop/cogs189/cogs189_final_project/scripts/SACSP.py:177: ComplexWarning: Casting complex values to real discards the imaginary part\n",
      "  E[i] = trial_fourier @ np.diag(h_or_l) @ np.matrix(trial_fourier).H\n",
      "/home/inffzy/Desktop/cogs189/cogs189_final_project/scripts/SACSP.py:410: ComplexWarning: Casting complex values to real discards the imaginary part\n",
      "  extracted_features[i, j] = extracted_feature[0, 0]\n"
     ]
    },
    {
     "name": "stdout",
     "output_type": "stream",
     "text": [
      "Cross validation scores for labels  769  and  770 :  0.7019047619047619\n"
     ]
    },
    {
     "name": "stderr",
     "output_type": "stream",
     "text": [
      "/home/inffzy/Desktop/cogs189/cogs189_final_project/scripts/SACSP.py:198: ComplexWarning: Casting complex values to real discards the imaginary part\n",
      "  E[i] = trial_fourier @ np.diag(h_or_l) @ np.matrix(trial_fourier).H\n",
      "/home/inffzy/Desktop/cogs189/cogs189_final_project/scripts/SACSP.py:225: ComplexWarning: Casting complex values to real discards the imaginary part\n",
      "  E[i] = np.matrix(trial_fourier).H @ w_or_v @ w_or_v.T @ trial_fourier\n",
      "/home/inffzy/Desktop/cogs189/cogs189_final_project/scripts/SACSP.py:177: ComplexWarning: Casting complex values to real discards the imaginary part\n",
      "  E[i] = trial_fourier @ np.diag(h_or_l) @ np.matrix(trial_fourier).H\n",
      "/home/inffzy/Desktop/cogs189/cogs189_final_project/scripts/SACSP.py:410: ComplexWarning: Casting complex values to real discards the imaginary part\n",
      "  extracted_features[i, j] = extracted_feature[0, 0]\n"
     ]
    },
    {
     "name": "stdout",
     "output_type": "stream",
     "text": [
      "Cross validation scores for labels  769  and  771 :  0.7933333333333333\n"
     ]
    },
    {
     "name": "stderr",
     "output_type": "stream",
     "text": [
      "/home/inffzy/Desktop/cogs189/cogs189_final_project/scripts/SACSP.py:198: ComplexWarning: Casting complex values to real discards the imaginary part\n",
      "  E[i] = trial_fourier @ np.diag(h_or_l) @ np.matrix(trial_fourier).H\n",
      "/home/inffzy/Desktop/cogs189/cogs189_final_project/scripts/SACSP.py:225: ComplexWarning: Casting complex values to real discards the imaginary part\n",
      "  E[i] = np.matrix(trial_fourier).H @ w_or_v @ w_or_v.T @ trial_fourier\n",
      "/home/inffzy/Desktop/cogs189/cogs189_final_project/scripts/SACSP.py:177: ComplexWarning: Casting complex values to real discards the imaginary part\n",
      "  E[i] = trial_fourier @ np.diag(h_or_l) @ np.matrix(trial_fourier).H\n",
      "/home/inffzy/Desktop/cogs189/cogs189_final_project/scripts/SACSP.py:410: ComplexWarning: Casting complex values to real discards the imaginary part\n",
      "  extracted_features[i, j] = extracted_feature[0, 0]\n"
     ]
    },
    {
     "name": "stdout",
     "output_type": "stream",
     "text": [
      "Cross validation scores for labels  769  and  772 :  0.8266666666666665\n"
     ]
    },
    {
     "name": "stderr",
     "output_type": "stream",
     "text": [
      "/home/inffzy/Desktop/cogs189/cogs189_final_project/scripts/SACSP.py:198: ComplexWarning: Casting complex values to real discards the imaginary part\n",
      "  E[i] = trial_fourier @ np.diag(h_or_l) @ np.matrix(trial_fourier).H\n",
      "/home/inffzy/Desktop/cogs189/cogs189_final_project/scripts/SACSP.py:225: ComplexWarning: Casting complex values to real discards the imaginary part\n",
      "  E[i] = np.matrix(trial_fourier).H @ w_or_v @ w_or_v.T @ trial_fourier\n",
      "/home/inffzy/Desktop/cogs189/cogs189_final_project/scripts/SACSP.py:177: ComplexWarning: Casting complex values to real discards the imaginary part\n",
      "  E[i] = trial_fourier @ np.diag(h_or_l) @ np.matrix(trial_fourier).H\n",
      "/home/inffzy/Desktop/cogs189/cogs189_final_project/scripts/SACSP.py:410: ComplexWarning: Casting complex values to real discards the imaginary part\n",
      "  extracted_features[i, j] = extracted_feature[0, 0]\n"
     ]
    },
    {
     "name": "stdout",
     "output_type": "stream",
     "text": [
      "Cross validation scores for labels  770  and  771 :  0.6169117647058824\n"
     ]
    },
    {
     "name": "stderr",
     "output_type": "stream",
     "text": [
      "/home/inffzy/Desktop/cogs189/cogs189_final_project/scripts/SACSP.py:198: ComplexWarning: Casting complex values to real discards the imaginary part\n",
      "  E[i] = trial_fourier @ np.diag(h_or_l) @ np.matrix(trial_fourier).H\n",
      "/home/inffzy/Desktop/cogs189/cogs189_final_project/scripts/SACSP.py:225: ComplexWarning: Casting complex values to real discards the imaginary part\n",
      "  E[i] = np.matrix(trial_fourier).H @ w_or_v @ w_or_v.T @ trial_fourier\n",
      "/home/inffzy/Desktop/cogs189/cogs189_final_project/scripts/SACSP.py:177: ComplexWarning: Casting complex values to real discards the imaginary part\n",
      "  E[i] = trial_fourier @ np.diag(h_or_l) @ np.matrix(trial_fourier).H\n",
      "/home/inffzy/Desktop/cogs189/cogs189_final_project/scripts/SACSP.py:410: ComplexWarning: Casting complex values to real discards the imaginary part\n",
      "  extracted_features[i, j] = extracted_feature[0, 0]\n"
     ]
    },
    {
     "name": "stdout",
     "output_type": "stream",
     "text": [
      "Cross validation scores for labels  770  and  772 :  0.6941176470588235\n"
     ]
    },
    {
     "name": "stderr",
     "output_type": "stream",
     "text": [
      "/home/inffzy/Desktop/cogs189/cogs189_final_project/scripts/SACSP.py:198: ComplexWarning: Casting complex values to real discards the imaginary part\n",
      "  E[i] = trial_fourier @ np.diag(h_or_l) @ np.matrix(trial_fourier).H\n",
      "/home/inffzy/Desktop/cogs189/cogs189_final_project/scripts/SACSP.py:225: ComplexWarning: Casting complex values to real discards the imaginary part\n",
      "  E[i] = np.matrix(trial_fourier).H @ w_or_v @ w_or_v.T @ trial_fourier\n",
      "/home/inffzy/Desktop/cogs189/cogs189_final_project/scripts/SACSP.py:177: ComplexWarning: Casting complex values to real discards the imaginary part\n",
      "  E[i] = trial_fourier @ np.diag(h_or_l) @ np.matrix(trial_fourier).H\n",
      "/home/inffzy/Desktop/cogs189/cogs189_final_project/scripts/SACSP.py:410: ComplexWarning: Casting complex values to real discards the imaginary part\n",
      "  extracted_features[i, j] = extracted_feature[0, 0]\n"
     ]
    },
    {
     "name": "stdout",
     "output_type": "stream",
     "text": [
      "Cross validation scores for labels  771  and  772 :  0.6419117647058823\n"
     ]
    },
    {
     "name": "stderr",
     "output_type": "stream",
     "text": [
      "/home/inffzy/Desktop/cogs189/cogs189_final_project/scripts/SACSP.py:410: ComplexWarning: Casting complex values to real discards the imaginary part\n",
      "  extracted_features[i, j] = extracted_feature[0, 0]\n",
      "/home/inffzy/Desktop/cogs189/cogs189_final_project/scripts/SACSP.py:410: ComplexWarning: Casting complex values to real discards the imaginary part\n",
      "  extracted_features[i, j] = extracted_feature[0, 0]\n",
      "/home/inffzy/Desktop/cogs189/cogs189_final_project/scripts/SACSP.py:410: ComplexWarning: Casting complex values to real discards the imaginary part\n",
      "  extracted_features[i, j] = extracted_feature[0, 0]\n",
      "/home/inffzy/Desktop/cogs189/cogs189_final_project/scripts/SACSP.py:410: ComplexWarning: Casting complex values to real discards the imaginary part\n",
      "  extracted_features[i, j] = extracted_feature[0, 0]\n",
      "/home/inffzy/Desktop/cogs189/cogs189_final_project/scripts/SACSP.py:410: ComplexWarning: Casting complex values to real discards the imaginary part\n",
      "  extracted_features[i, j] = extracted_feature[0, 0]\n",
      "/home/inffzy/Desktop/cogs189/cogs189_final_project/scripts/SACSP.py:410: ComplexWarning: Casting complex values to real discards the imaginary part\n",
      "  extracted_features[i, j] = extracted_feature[0, 0]\n"
     ]
    },
    {
     "name": "stdout",
     "output_type": "stream",
     "text": [
      "Training accuracy:  0.4873417721518987\n"
     ]
    },
    {
     "name": "stderr",
     "output_type": "stream",
     "text": [
      "/home/inffzy/Desktop/cogs189/cogs189_final_project/scripts/SACSP.py:410: ComplexWarning: Casting complex values to real discards the imaginary part\n",
      "  extracted_features[i, j] = extracted_feature[0, 0]\n",
      "/home/inffzy/Desktop/cogs189/cogs189_final_project/scripts/SACSP.py:410: ComplexWarning: Casting complex values to real discards the imaginary part\n",
      "  extracted_features[i, j] = extracted_feature[0, 0]\n",
      "/home/inffzy/Desktop/cogs189/cogs189_final_project/scripts/SACSP.py:410: ComplexWarning: Casting complex values to real discards the imaginary part\n",
      "  extracted_features[i, j] = extracted_feature[0, 0]\n",
      "/home/inffzy/Desktop/cogs189/cogs189_final_project/scripts/SACSP.py:410: ComplexWarning: Casting complex values to real discards the imaginary part\n",
      "  extracted_features[i, j] = extracted_feature[0, 0]\n",
      "/home/inffzy/Desktop/cogs189/cogs189_final_project/scripts/SACSP.py:410: ComplexWarning: Casting complex values to real discards the imaginary part\n",
      "  extracted_features[i, j] = extracted_feature[0, 0]\n",
      "/home/inffzy/Desktop/cogs189/cogs189_final_project/scripts/SACSP.py:410: ComplexWarning: Casting complex values to real discards the imaginary part\n",
      "  extracted_features[i, j] = extracted_feature[0, 0]\n"
     ]
    },
    {
     "name": "stdout",
     "output_type": "stream",
     "text": [
      "Testing accuracy:  0.5063291139240507\n"
     ]
    },
    {
     "name": "stderr",
     "output_type": "stream",
     "text": [
      "/home/inffzy/Desktop/cogs189/cogs189_final_project/scripts/SACSP.py:198: ComplexWarning: Casting complex values to real discards the imaginary part\n",
      "  E[i] = trial_fourier @ np.diag(h_or_l) @ np.matrix(trial_fourier).H\n",
      "/home/inffzy/Desktop/cogs189/cogs189_final_project/scripts/SACSP.py:225: ComplexWarning: Casting complex values to real discards the imaginary part\n",
      "  E[i] = np.matrix(trial_fourier).H @ w_or_v @ w_or_v.T @ trial_fourier\n",
      "/home/inffzy/Desktop/cogs189/cogs189_final_project/scripts/SACSP.py:177: ComplexWarning: Casting complex values to real discards the imaginary part\n",
      "  E[i] = trial_fourier @ np.diag(h_or_l) @ np.matrix(trial_fourier).H\n",
      "/home/inffzy/Desktop/cogs189/cogs189_final_project/scripts/SACSP.py:410: ComplexWarning: Casting complex values to real discards the imaginary part\n",
      "  extracted_features[i, j] = extracted_feature[0, 0]\n",
      "/home/inffzy/Desktop/cogs189/cogs189_final_project/scripts/SACSP.py:198: ComplexWarning: Casting complex values to real discards the imaginary part\n",
      "  E[i] = trial_fourier @ np.diag(h_or_l) @ np.matrix(trial_fourier).H\n"
     ]
    },
    {
     "name": "stdout",
     "output_type": "stream",
     "text": [
      "Cross validation scores for labels  769  and  770 :  0.7145454545454545\n"
     ]
    },
    {
     "name": "stderr",
     "output_type": "stream",
     "text": [
      "/home/inffzy/Desktop/cogs189/cogs189_final_project/scripts/SACSP.py:225: ComplexWarning: Casting complex values to real discards the imaginary part\n",
      "  E[i] = np.matrix(trial_fourier).H @ w_or_v @ w_or_v.T @ trial_fourier\n",
      "/home/inffzy/Desktop/cogs189/cogs189_final_project/scripts/SACSP.py:177: ComplexWarning: Casting complex values to real discards the imaginary part\n",
      "  E[i] = trial_fourier @ np.diag(h_or_l) @ np.matrix(trial_fourier).H\n",
      "/home/inffzy/Desktop/cogs189/cogs189_final_project/scripts/SACSP.py:410: ComplexWarning: Casting complex values to real discards the imaginary part\n",
      "  extracted_features[i, j] = extracted_feature[0, 0]\n",
      "/home/inffzy/Desktop/cogs189/cogs189_final_project/scripts/SACSP.py:198: ComplexWarning: Casting complex values to real discards the imaginary part\n",
      "  E[i] = trial_fourier @ np.diag(h_or_l) @ np.matrix(trial_fourier).H\n"
     ]
    },
    {
     "name": "stdout",
     "output_type": "stream",
     "text": [
      "Cross validation scores for labels  769  and  771 :  0.9400000000000001\n"
     ]
    },
    {
     "name": "stderr",
     "output_type": "stream",
     "text": [
      "/home/inffzy/Desktop/cogs189/cogs189_final_project/scripts/SACSP.py:225: ComplexWarning: Casting complex values to real discards the imaginary part\n",
      "  E[i] = np.matrix(trial_fourier).H @ w_or_v @ w_or_v.T @ trial_fourier\n",
      "/home/inffzy/Desktop/cogs189/cogs189_final_project/scripts/SACSP.py:177: ComplexWarning: Casting complex values to real discards the imaginary part\n",
      "  E[i] = trial_fourier @ np.diag(h_or_l) @ np.matrix(trial_fourier).H\n",
      "/home/inffzy/Desktop/cogs189/cogs189_final_project/scripts/SACSP.py:410: ComplexWarning: Casting complex values to real discards the imaginary part\n",
      "  extracted_features[i, j] = extracted_feature[0, 0]\n",
      "/home/inffzy/Desktop/cogs189/cogs189_final_project/scripts/SACSP.py:198: ComplexWarning: Casting complex values to real discards the imaginary part\n",
      "  E[i] = trial_fourier @ np.diag(h_or_l) @ np.matrix(trial_fourier).H\n"
     ]
    },
    {
     "name": "stdout",
     "output_type": "stream",
     "text": [
      "Cross validation scores for labels  769  and  772 :  0.9577777777777777\n"
     ]
    },
    {
     "name": "stderr",
     "output_type": "stream",
     "text": [
      "/home/inffzy/Desktop/cogs189/cogs189_final_project/scripts/SACSP.py:225: ComplexWarning: Casting complex values to real discards the imaginary part\n",
      "  E[i] = np.matrix(trial_fourier).H @ w_or_v @ w_or_v.T @ trial_fourier\n",
      "/home/inffzy/Desktop/cogs189/cogs189_final_project/scripts/SACSP.py:177: ComplexWarning: Casting complex values to real discards the imaginary part\n",
      "  E[i] = trial_fourier @ np.diag(h_or_l) @ np.matrix(trial_fourier).H\n",
      "/home/inffzy/Desktop/cogs189/cogs189_final_project/scripts/SACSP.py:410: ComplexWarning: Casting complex values to real discards the imaginary part\n",
      "  extracted_features[i, j] = extracted_feature[0, 0]\n"
     ]
    },
    {
     "name": "stdout",
     "output_type": "stream",
     "text": [
      "Cross validation scores for labels  770  and  771 :  0.9018181818181817\n"
     ]
    },
    {
     "name": "stderr",
     "output_type": "stream",
     "text": [
      "/home/inffzy/Desktop/cogs189/cogs189_final_project/scripts/SACSP.py:198: ComplexWarning: Casting complex values to real discards the imaginary part\n",
      "  E[i] = trial_fourier @ np.diag(h_or_l) @ np.matrix(trial_fourier).H\n",
      "/home/inffzy/Desktop/cogs189/cogs189_final_project/scripts/SACSP.py:225: ComplexWarning: Casting complex values to real discards the imaginary part\n",
      "  E[i] = np.matrix(trial_fourier).H @ w_or_v @ w_or_v.T @ trial_fourier\n",
      "/home/inffzy/Desktop/cogs189/cogs189_final_project/scripts/SACSP.py:177: ComplexWarning: Casting complex values to real discards the imaginary part\n",
      "  E[i] = trial_fourier @ np.diag(h_or_l) @ np.matrix(trial_fourier).H\n",
      "/home/inffzy/Desktop/cogs189/cogs189_final_project/scripts/SACSP.py:410: ComplexWarning: Casting complex values to real discards the imaginary part\n",
      "  extracted_features[i, j] = extracted_feature[0, 0]\n",
      "/home/inffzy/Desktop/cogs189/cogs189_final_project/scripts/SACSP.py:198: ComplexWarning: Casting complex values to real discards the imaginary part\n",
      "  E[i] = trial_fourier @ np.diag(h_or_l) @ np.matrix(trial_fourier).H\n"
     ]
    },
    {
     "name": "stdout",
     "output_type": "stream",
     "text": [
      "Cross validation scores for labels  770  and  772 :  1.0\n"
     ]
    },
    {
     "name": "stderr",
     "output_type": "stream",
     "text": [
      "/home/inffzy/Desktop/cogs189/cogs189_final_project/scripts/SACSP.py:225: ComplexWarning: Casting complex values to real discards the imaginary part\n",
      "  E[i] = np.matrix(trial_fourier).H @ w_or_v @ w_or_v.T @ trial_fourier\n",
      "/home/inffzy/Desktop/cogs189/cogs189_final_project/scripts/SACSP.py:177: ComplexWarning: Casting complex values to real discards the imaginary part\n",
      "  E[i] = trial_fourier @ np.diag(h_or_l) @ np.matrix(trial_fourier).H\n",
      "/home/inffzy/Desktop/cogs189/cogs189_final_project/scripts/SACSP.py:410: ComplexWarning: Casting complex values to real discards the imaginary part\n",
      "  extracted_features[i, j] = extracted_feature[0, 0]\n",
      "/home/inffzy/Desktop/cogs189/cogs189_final_project/scripts/SACSP.py:410: ComplexWarning: Casting complex values to real discards the imaginary part\n",
      "  extracted_features[i, j] = extracted_feature[0, 0]\n"
     ]
    },
    {
     "name": "stdout",
     "output_type": "stream",
     "text": [
      "Cross validation scores for labels  771  and  772 :  0.8755555555555556\n"
     ]
    },
    {
     "name": "stderr",
     "output_type": "stream",
     "text": [
      "/home/inffzy/Desktop/cogs189/cogs189_final_project/scripts/SACSP.py:410: ComplexWarning: Casting complex values to real discards the imaginary part\n",
      "  extracted_features[i, j] = extracted_feature[0, 0]\n",
      "/home/inffzy/Desktop/cogs189/cogs189_final_project/scripts/SACSP.py:410: ComplexWarning: Casting complex values to real discards the imaginary part\n",
      "  extracted_features[i, j] = extracted_feature[0, 0]\n",
      "/home/inffzy/Desktop/cogs189/cogs189_final_project/scripts/SACSP.py:410: ComplexWarning: Casting complex values to real discards the imaginary part\n",
      "  extracted_features[i, j] = extracted_feature[0, 0]\n",
      "/home/inffzy/Desktop/cogs189/cogs189_final_project/scripts/SACSP.py:410: ComplexWarning: Casting complex values to real discards the imaginary part\n",
      "  extracted_features[i, j] = extracted_feature[0, 0]\n",
      "/home/inffzy/Desktop/cogs189/cogs189_final_project/scripts/SACSP.py:410: ComplexWarning: Casting complex values to real discards the imaginary part\n",
      "  extracted_features[i, j] = extracted_feature[0, 0]\n"
     ]
    },
    {
     "name": "stdout",
     "output_type": "stream",
     "text": [
      "Training accuracy:  0.7777777777777778\n"
     ]
    },
    {
     "name": "stderr",
     "output_type": "stream",
     "text": [
      "/home/inffzy/Desktop/cogs189/cogs189_final_project/scripts/SACSP.py:410: ComplexWarning: Casting complex values to real discards the imaginary part\n",
      "  extracted_features[i, j] = extracted_feature[0, 0]\n",
      "/home/inffzy/Desktop/cogs189/cogs189_final_project/scripts/SACSP.py:410: ComplexWarning: Casting complex values to real discards the imaginary part\n",
      "  extracted_features[i, j] = extracted_feature[0, 0]\n",
      "/home/inffzy/Desktop/cogs189/cogs189_final_project/scripts/SACSP.py:410: ComplexWarning: Casting complex values to real discards the imaginary part\n",
      "  extracted_features[i, j] = extracted_feature[0, 0]\n",
      "/home/inffzy/Desktop/cogs189/cogs189_final_project/scripts/SACSP.py:410: ComplexWarning: Casting complex values to real discards the imaginary part\n",
      "  extracted_features[i, j] = extracted_feature[0, 0]\n",
      "/home/inffzy/Desktop/cogs189/cogs189_final_project/scripts/SACSP.py:410: ComplexWarning: Casting complex values to real discards the imaginary part\n",
      "  extracted_features[i, j] = extracted_feature[0, 0]\n",
      "/home/inffzy/Desktop/cogs189/cogs189_final_project/scripts/SACSP.py:410: ComplexWarning: Casting complex values to real discards the imaginary part\n",
      "  extracted_features[i, j] = extracted_feature[0, 0]\n"
     ]
    },
    {
     "name": "stdout",
     "output_type": "stream",
     "text": [
      "Testing accuracy:  0.76\n"
     ]
    },
    {
     "name": "stderr",
     "output_type": "stream",
     "text": [
      "/home/inffzy/Desktop/cogs189/cogs189_final_project/scripts/SACSP.py:198: ComplexWarning: Casting complex values to real discards the imaginary part\n",
      "  E[i] = trial_fourier @ np.diag(h_or_l) @ np.matrix(trial_fourier).H\n",
      "/home/inffzy/Desktop/cogs189/cogs189_final_project/scripts/SACSP.py:225: ComplexWarning: Casting complex values to real discards the imaginary part\n",
      "  E[i] = np.matrix(trial_fourier).H @ w_or_v @ w_or_v.T @ trial_fourier\n",
      "/home/inffzy/Desktop/cogs189/cogs189_final_project/scripts/SACSP.py:177: ComplexWarning: Casting complex values to real discards the imaginary part\n",
      "  E[i] = trial_fourier @ np.diag(h_or_l) @ np.matrix(trial_fourier).H\n",
      "/home/inffzy/Desktop/cogs189/cogs189_final_project/scripts/SACSP.py:410: ComplexWarning: Casting complex values to real discards the imaginary part\n",
      "  extracted_features[i, j] = extracted_feature[0, 0]\n",
      "/home/inffzy/Desktop/cogs189/cogs189_final_project/scripts/SACSP.py:198: ComplexWarning: Casting complex values to real discards the imaginary part\n",
      "  E[i] = trial_fourier @ np.diag(h_or_l) @ np.matrix(trial_fourier).H\n",
      "/home/inffzy/Desktop/cogs189/cogs189_final_project/scripts/SACSP.py:225: ComplexWarning: Casting complex values to real discards the imaginary part\n",
      "  E[i] = np.matrix(trial_fourier).H @ w_or_v @ w_or_v.T @ trial_fourier\n"
     ]
    },
    {
     "name": "stdout",
     "output_type": "stream",
     "text": [
      "Cross validation scores for labels  769  and  770 :  0.7333333333333333\n"
     ]
    },
    {
     "name": "stderr",
     "output_type": "stream",
     "text": [
      "/home/inffzy/Desktop/cogs189/cogs189_final_project/scripts/SACSP.py:177: ComplexWarning: Casting complex values to real discards the imaginary part\n",
      "  E[i] = trial_fourier @ np.diag(h_or_l) @ np.matrix(trial_fourier).H\n",
      "/home/inffzy/Desktop/cogs189/cogs189_final_project/scripts/SACSP.py:410: ComplexWarning: Casting complex values to real discards the imaginary part\n",
      "  extracted_features[i, j] = extracted_feature[0, 0]\n",
      "/home/inffzy/Desktop/cogs189/cogs189_final_project/scripts/SACSP.py:198: ComplexWarning: Casting complex values to real discards the imaginary part\n",
      "  E[i] = trial_fourier @ np.diag(h_or_l) @ np.matrix(trial_fourier).H\n",
      "/home/inffzy/Desktop/cogs189/cogs189_final_project/scripts/SACSP.py:225: ComplexWarning: Casting complex values to real discards the imaginary part\n",
      "  E[i] = np.matrix(trial_fourier).H @ w_or_v @ w_or_v.T @ trial_fourier\n",
      "/home/inffzy/Desktop/cogs189/cogs189_final_project/scripts/SACSP.py:177: ComplexWarning: Casting complex values to real discards the imaginary part\n",
      "  E[i] = trial_fourier @ np.diag(h_or_l) @ np.matrix(trial_fourier).H\n"
     ]
    },
    {
     "name": "stdout",
     "output_type": "stream",
     "text": [
      "Cross validation scores for labels  769  and  771 :  0.7333333333333333\n"
     ]
    },
    {
     "name": "stderr",
     "output_type": "stream",
     "text": [
      "/home/inffzy/Desktop/cogs189/cogs189_final_project/scripts/SACSP.py:410: ComplexWarning: Casting complex values to real discards the imaginary part\n",
      "  extracted_features[i, j] = extracted_feature[0, 0]\n",
      "/home/inffzy/Desktop/cogs189/cogs189_final_project/scripts/SACSP.py:198: ComplexWarning: Casting complex values to real discards the imaginary part\n",
      "  E[i] = trial_fourier @ np.diag(h_or_l) @ np.matrix(trial_fourier).H\n",
      "/home/inffzy/Desktop/cogs189/cogs189_final_project/scripts/SACSP.py:225: ComplexWarning: Casting complex values to real discards the imaginary part\n",
      "  E[i] = np.matrix(trial_fourier).H @ w_or_v @ w_or_v.T @ trial_fourier\n"
     ]
    },
    {
     "name": "stdout",
     "output_type": "stream",
     "text": [
      "Cross validation scores for labels  769  and  772 :  0.8133333333333332\n"
     ]
    },
    {
     "name": "stderr",
     "output_type": "stream",
     "text": [
      "/home/inffzy/Desktop/cogs189/cogs189_final_project/scripts/SACSP.py:177: ComplexWarning: Casting complex values to real discards the imaginary part\n",
      "  E[i] = trial_fourier @ np.diag(h_or_l) @ np.matrix(trial_fourier).H\n",
      "/home/inffzy/Desktop/cogs189/cogs189_final_project/scripts/SACSP.py:410: ComplexWarning: Casting complex values to real discards the imaginary part\n",
      "  extracted_features[i, j] = extracted_feature[0, 0]\n",
      "/home/inffzy/Desktop/cogs189/cogs189_final_project/scripts/SACSP.py:198: ComplexWarning: Casting complex values to real discards the imaginary part\n",
      "  E[i] = trial_fourier @ np.diag(h_or_l) @ np.matrix(trial_fourier).H\n",
      "/home/inffzy/Desktop/cogs189/cogs189_final_project/scripts/SACSP.py:225: ComplexWarning: Casting complex values to real discards the imaginary part\n",
      "  E[i] = np.matrix(trial_fourier).H @ w_or_v @ w_or_v.T @ trial_fourier\n"
     ]
    },
    {
     "name": "stdout",
     "output_type": "stream",
     "text": [
      "Cross validation scores for labels  770  and  771 :  0.7095238095238094\n"
     ]
    },
    {
     "name": "stderr",
     "output_type": "stream",
     "text": [
      "/home/inffzy/Desktop/cogs189/cogs189_final_project/scripts/SACSP.py:177: ComplexWarning: Casting complex values to real discards the imaginary part\n",
      "  E[i] = trial_fourier @ np.diag(h_or_l) @ np.matrix(trial_fourier).H\n",
      "/home/inffzy/Desktop/cogs189/cogs189_final_project/scripts/SACSP.py:410: ComplexWarning: Casting complex values to real discards the imaginary part\n",
      "  extracted_features[i, j] = extracted_feature[0, 0]\n",
      "/home/inffzy/Desktop/cogs189/cogs189_final_project/scripts/SACSP.py:198: ComplexWarning: Casting complex values to real discards the imaginary part\n",
      "  E[i] = trial_fourier @ np.diag(h_or_l) @ np.matrix(trial_fourier).H\n",
      "/home/inffzy/Desktop/cogs189/cogs189_final_project/scripts/SACSP.py:225: ComplexWarning: Casting complex values to real discards the imaginary part\n",
      "  E[i] = np.matrix(trial_fourier).H @ w_or_v @ w_or_v.T @ trial_fourier\n",
      "/home/inffzy/Desktop/cogs189/cogs189_final_project/scripts/SACSP.py:177: ComplexWarning: Casting complex values to real discards the imaginary part\n",
      "  E[i] = trial_fourier @ np.diag(h_or_l) @ np.matrix(trial_fourier).H\n"
     ]
    },
    {
     "name": "stdout",
     "output_type": "stream",
     "text": [
      "Cross validation scores for labels  770  and  772 :  0.8714285714285716\n"
     ]
    },
    {
     "name": "stderr",
     "output_type": "stream",
     "text": [
      "/home/inffzy/Desktop/cogs189/cogs189_final_project/scripts/SACSP.py:410: ComplexWarning: Casting complex values to real discards the imaginary part\n",
      "  extracted_features[i, j] = extracted_feature[0, 0]\n",
      "/home/inffzy/Desktop/cogs189/cogs189_final_project/scripts/SACSP.py:410: ComplexWarning: Casting complex values to real discards the imaginary part\n",
      "  extracted_features[i, j] = extracted_feature[0, 0]\n"
     ]
    },
    {
     "name": "stdout",
     "output_type": "stream",
     "text": [
      "Cross validation scores for labels  771  and  772 :  0.8866666666666667\n"
     ]
    },
    {
     "name": "stderr",
     "output_type": "stream",
     "text": [
      "/home/inffzy/Desktop/cogs189/cogs189_final_project/scripts/SACSP.py:410: ComplexWarning: Casting complex values to real discards the imaginary part\n",
      "  extracted_features[i, j] = extracted_feature[0, 0]\n",
      "/home/inffzy/Desktop/cogs189/cogs189_final_project/scripts/SACSP.py:410: ComplexWarning: Casting complex values to real discards the imaginary part\n",
      "  extracted_features[i, j] = extracted_feature[0, 0]\n",
      "/home/inffzy/Desktop/cogs189/cogs189_final_project/scripts/SACSP.py:410: ComplexWarning: Casting complex values to real discards the imaginary part\n",
      "  extracted_features[i, j] = extracted_feature[0, 0]\n",
      "/home/inffzy/Desktop/cogs189/cogs189_final_project/scripts/SACSP.py:410: ComplexWarning: Casting complex values to real discards the imaginary part\n",
      "  extracted_features[i, j] = extracted_feature[0, 0]\n",
      "/home/inffzy/Desktop/cogs189/cogs189_final_project/scripts/SACSP.py:410: ComplexWarning: Casting complex values to real discards the imaginary part\n",
      "  extracted_features[i, j] = extracted_feature[0, 0]\n",
      "/home/inffzy/Desktop/cogs189/cogs189_final_project/scripts/SACSP.py:410: ComplexWarning: Casting complex values to real discards the imaginary part\n",
      "  extracted_features[i, j] = extracted_feature[0, 0]\n"
     ]
    },
    {
     "name": "stdout",
     "output_type": "stream",
     "text": [
      "Training accuracy:  0.6721311475409836\n"
     ]
    },
    {
     "name": "stderr",
     "output_type": "stream",
     "text": [
      "/home/inffzy/Desktop/cogs189/cogs189_final_project/scripts/SACSP.py:410: ComplexWarning: Casting complex values to real discards the imaginary part\n",
      "  extracted_features[i, j] = extracted_feature[0, 0]\n",
      "/home/inffzy/Desktop/cogs189/cogs189_final_project/scripts/SACSP.py:410: ComplexWarning: Casting complex values to real discards the imaginary part\n",
      "  extracted_features[i, j] = extracted_feature[0, 0]\n",
      "/home/inffzy/Desktop/cogs189/cogs189_final_project/scripts/SACSP.py:410: ComplexWarning: Casting complex values to real discards the imaginary part\n",
      "  extracted_features[i, j] = extracted_feature[0, 0]\n",
      "/home/inffzy/Desktop/cogs189/cogs189_final_project/scripts/SACSP.py:410: ComplexWarning: Casting complex values to real discards the imaginary part\n",
      "  extracted_features[i, j] = extracted_feature[0, 0]\n",
      "/home/inffzy/Desktop/cogs189/cogs189_final_project/scripts/SACSP.py:410: ComplexWarning: Casting complex values to real discards the imaginary part\n",
      "  extracted_features[i, j] = extracted_feature[0, 0]\n",
      "/home/inffzy/Desktop/cogs189/cogs189_final_project/scripts/SACSP.py:198: ComplexWarning: Casting complex values to real discards the imaginary part\n",
      "  E[i] = trial_fourier @ np.diag(h_or_l) @ np.matrix(trial_fourier).H\n",
      "/home/inffzy/Desktop/cogs189/cogs189_final_project/scripts/SACSP.py:225: ComplexWarning: Casting complex values to real discards the imaginary part\n",
      "  E[i] = np.matrix(trial_fourier).H @ w_or_v @ w_or_v.T @ trial_fourier\n",
      "/home/inffzy/Desktop/cogs189/cogs189_final_project/scripts/SACSP.py:177: ComplexWarning: Casting complex values to real discards the imaginary part\n",
      "  E[i] = trial_fourier @ np.diag(h_or_l) @ np.matrix(trial_fourier).H\n"
     ]
    },
    {
     "name": "stdout",
     "output_type": "stream",
     "text": [
      "Testing accuracy:  0.41935483870967744\n"
     ]
    },
    {
     "name": "stderr",
     "output_type": "stream",
     "text": [
      "/home/inffzy/Desktop/cogs189/cogs189_final_project/scripts/SACSP.py:410: ComplexWarning: Casting complex values to real discards the imaginary part\n",
      "  extracted_features[i, j] = extracted_feature[0, 0]\n",
      "/home/inffzy/Desktop/cogs189/cogs189_final_project/scripts/SACSP.py:198: ComplexWarning: Casting complex values to real discards the imaginary part\n",
      "  E[i] = trial_fourier @ np.diag(h_or_l) @ np.matrix(trial_fourier).H\n",
      "/home/inffzy/Desktop/cogs189/cogs189_final_project/scripts/SACSP.py:225: ComplexWarning: Casting complex values to real discards the imaginary part\n",
      "  E[i] = np.matrix(trial_fourier).H @ w_or_v @ w_or_v.T @ trial_fourier\n",
      "/home/inffzy/Desktop/cogs189/cogs189_final_project/scripts/SACSP.py:177: ComplexWarning: Casting complex values to real discards the imaginary part\n",
      "  E[i] = trial_fourier @ np.diag(h_or_l) @ np.matrix(trial_fourier).H\n"
     ]
    },
    {
     "name": "stdout",
     "output_type": "stream",
     "text": [
      "Cross validation scores for labels  769  and  770 :  0.96\n"
     ]
    },
    {
     "name": "stderr",
     "output_type": "stream",
     "text": [
      "/home/inffzy/Desktop/cogs189/cogs189_final_project/scripts/SACSP.py:410: ComplexWarning: Casting complex values to real discards the imaginary part\n",
      "  extracted_features[i, j] = extracted_feature[0, 0]\n",
      "/home/inffzy/Desktop/cogs189/cogs189_final_project/scripts/SACSP.py:198: ComplexWarning: Casting complex values to real discards the imaginary part\n",
      "  E[i] = trial_fourier @ np.diag(h_or_l) @ np.matrix(trial_fourier).H\n",
      "/home/inffzy/Desktop/cogs189/cogs189_final_project/scripts/SACSP.py:225: ComplexWarning: Casting complex values to real discards the imaginary part\n",
      "  E[i] = np.matrix(trial_fourier).H @ w_or_v @ w_or_v.T @ trial_fourier\n",
      "/home/inffzy/Desktop/cogs189/cogs189_final_project/scripts/SACSP.py:177: ComplexWarning: Casting complex values to real discards the imaginary part\n",
      "  E[i] = trial_fourier @ np.diag(h_or_l) @ np.matrix(trial_fourier).H\n"
     ]
    },
    {
     "name": "stdout",
     "output_type": "stream",
     "text": [
      "Cross validation scores for labels  769  and  771 :  0.76\n"
     ]
    },
    {
     "name": "stderr",
     "output_type": "stream",
     "text": [
      "/home/inffzy/Desktop/cogs189/cogs189_final_project/scripts/SACSP.py:410: ComplexWarning: Casting complex values to real discards the imaginary part\n",
      "  extracted_features[i, j] = extracted_feature[0, 0]\n",
      "/home/inffzy/Desktop/cogs189/cogs189_final_project/scripts/SACSP.py:198: ComplexWarning: Casting complex values to real discards the imaginary part\n",
      "  E[i] = trial_fourier @ np.diag(h_or_l) @ np.matrix(trial_fourier).H\n",
      "/home/inffzy/Desktop/cogs189/cogs189_final_project/scripts/SACSP.py:225: ComplexWarning: Casting complex values to real discards the imaginary part\n",
      "  E[i] = np.matrix(trial_fourier).H @ w_or_v @ w_or_v.T @ trial_fourier\n",
      "/home/inffzy/Desktop/cogs189/cogs189_final_project/scripts/SACSP.py:177: ComplexWarning: Casting complex values to real discards the imaginary part\n",
      "  E[i] = trial_fourier @ np.diag(h_or_l) @ np.matrix(trial_fourier).H\n"
     ]
    },
    {
     "name": "stdout",
     "output_type": "stream",
     "text": [
      "Cross validation scores for labels  769  and  772 :  0.9714285714285715\n"
     ]
    },
    {
     "name": "stderr",
     "output_type": "stream",
     "text": [
      "/home/inffzy/Desktop/cogs189/cogs189_final_project/scripts/SACSP.py:410: ComplexWarning: Casting complex values to real discards the imaginary part\n",
      "  extracted_features[i, j] = extracted_feature[0, 0]\n",
      "/home/inffzy/Desktop/cogs189/cogs189_final_project/scripts/SACSP.py:198: ComplexWarning: Casting complex values to real discards the imaginary part\n",
      "  E[i] = trial_fourier @ np.diag(h_or_l) @ np.matrix(trial_fourier).H\n",
      "/home/inffzy/Desktop/cogs189/cogs189_final_project/scripts/SACSP.py:225: ComplexWarning: Casting complex values to real discards the imaginary part\n",
      "  E[i] = np.matrix(trial_fourier).H @ w_or_v @ w_or_v.T @ trial_fourier\n",
      "/home/inffzy/Desktop/cogs189/cogs189_final_project/scripts/SACSP.py:177: ComplexWarning: Casting complex values to real discards the imaginary part\n",
      "  E[i] = trial_fourier @ np.diag(h_or_l) @ np.matrix(trial_fourier).H\n"
     ]
    },
    {
     "name": "stdout",
     "output_type": "stream",
     "text": [
      "Cross validation scores for labels  770  and  771 :  0.9199999999999999\n"
     ]
    },
    {
     "name": "stderr",
     "output_type": "stream",
     "text": [
      "/home/inffzy/Desktop/cogs189/cogs189_final_project/scripts/SACSP.py:410: ComplexWarning: Casting complex values to real discards the imaginary part\n",
      "  extracted_features[i, j] = extracted_feature[0, 0]\n",
      "/home/inffzy/Desktop/cogs189/cogs189_final_project/scripts/SACSP.py:198: ComplexWarning: Casting complex values to real discards the imaginary part\n",
      "  E[i] = trial_fourier @ np.diag(h_or_l) @ np.matrix(trial_fourier).H\n",
      "/home/inffzy/Desktop/cogs189/cogs189_final_project/scripts/SACSP.py:225: ComplexWarning: Casting complex values to real discards the imaginary part\n",
      "  E[i] = np.matrix(trial_fourier).H @ w_or_v @ w_or_v.T @ trial_fourier\n",
      "/home/inffzy/Desktop/cogs189/cogs189_final_project/scripts/SACSP.py:177: ComplexWarning: Casting complex values to real discards the imaginary part\n",
      "  E[i] = trial_fourier @ np.diag(h_or_l) @ np.matrix(trial_fourier).H\n"
     ]
    },
    {
     "name": "stdout",
     "output_type": "stream",
     "text": [
      "Cross validation scores for labels  770  and  772 :  0.9380952380952381\n"
     ]
    },
    {
     "name": "stderr",
     "output_type": "stream",
     "text": [
      "/home/inffzy/Desktop/cogs189/cogs189_final_project/scripts/SACSP.py:410: ComplexWarning: Casting complex values to real discards the imaginary part\n",
      "  extracted_features[i, j] = extracted_feature[0, 0]\n",
      "/home/inffzy/Desktop/cogs189/cogs189_final_project/scripts/SACSP.py:410: ComplexWarning: Casting complex values to real discards the imaginary part\n",
      "  extracted_features[i, j] = extracted_feature[0, 0]\n"
     ]
    },
    {
     "name": "stdout",
     "output_type": "stream",
     "text": [
      "Cross validation scores for labels  771  and  772 :  0.6466666666666667\n"
     ]
    },
    {
     "name": "stderr",
     "output_type": "stream",
     "text": [
      "/home/inffzy/Desktop/cogs189/cogs189_final_project/scripts/SACSP.py:410: ComplexWarning: Casting complex values to real discards the imaginary part\n",
      "  extracted_features[i, j] = extracted_feature[0, 0]\n",
      "/home/inffzy/Desktop/cogs189/cogs189_final_project/scripts/SACSP.py:410: ComplexWarning: Casting complex values to real discards the imaginary part\n",
      "  extracted_features[i, j] = extracted_feature[0, 0]\n",
      "/home/inffzy/Desktop/cogs189/cogs189_final_project/scripts/SACSP.py:410: ComplexWarning: Casting complex values to real discards the imaginary part\n",
      "  extracted_features[i, j] = extracted_feature[0, 0]\n",
      "/home/inffzy/Desktop/cogs189/cogs189_final_project/scripts/SACSP.py:410: ComplexWarning: Casting complex values to real discards the imaginary part\n",
      "  extracted_features[i, j] = extracted_feature[0, 0]\n",
      "/home/inffzy/Desktop/cogs189/cogs189_final_project/scripts/SACSP.py:410: ComplexWarning: Casting complex values to real discards the imaginary part\n",
      "  extracted_features[i, j] = extracted_feature[0, 0]\n",
      "/home/inffzy/Desktop/cogs189/cogs189_final_project/scripts/SACSP.py:410: ComplexWarning: Casting complex values to real discards the imaginary part\n",
      "  extracted_features[i, j] = extracted_feature[0, 0]\n"
     ]
    },
    {
     "name": "stdout",
     "output_type": "stream",
     "text": [
      "Training accuracy:  0.8392857142857143\n"
     ]
    },
    {
     "name": "stderr",
     "output_type": "stream",
     "text": [
      "/home/inffzy/Desktop/cogs189/cogs189_final_project/scripts/SACSP.py:410: ComplexWarning: Casting complex values to real discards the imaginary part\n",
      "  extracted_features[i, j] = extracted_feature[0, 0]\n",
      "/home/inffzy/Desktop/cogs189/cogs189_final_project/scripts/SACSP.py:410: ComplexWarning: Casting complex values to real discards the imaginary part\n",
      "  extracted_features[i, j] = extracted_feature[0, 0]\n",
      "/home/inffzy/Desktop/cogs189/cogs189_final_project/scripts/SACSP.py:410: ComplexWarning: Casting complex values to real discards the imaginary part\n",
      "  extracted_features[i, j] = extracted_feature[0, 0]\n",
      "/home/inffzy/Desktop/cogs189/cogs189_final_project/scripts/SACSP.py:410: ComplexWarning: Casting complex values to real discards the imaginary part\n",
      "  extracted_features[i, j] = extracted_feature[0, 0]\n",
      "/home/inffzy/Desktop/cogs189/cogs189_final_project/scripts/SACSP.py:410: ComplexWarning: Casting complex values to real discards the imaginary part\n",
      "  extracted_features[i, j] = extracted_feature[0, 0]\n",
      "/home/inffzy/Desktop/cogs189/cogs189_final_project/scripts/SACSP.py:198: ComplexWarning: Casting complex values to real discards the imaginary part\n",
      "  E[i] = trial_fourier @ np.diag(h_or_l) @ np.matrix(trial_fourier).H\n",
      "/home/inffzy/Desktop/cogs189/cogs189_final_project/scripts/SACSP.py:225: ComplexWarning: Casting complex values to real discards the imaginary part\n",
      "  E[i] = np.matrix(trial_fourier).H @ w_or_v @ w_or_v.T @ trial_fourier\n"
     ]
    },
    {
     "name": "stdout",
     "output_type": "stream",
     "text": [
      "Testing accuracy:  0.5\n"
     ]
    },
    {
     "name": "stderr",
     "output_type": "stream",
     "text": [
      "/home/inffzy/Desktop/cogs189/cogs189_final_project/scripts/SACSP.py:177: ComplexWarning: Casting complex values to real discards the imaginary part\n",
      "  E[i] = trial_fourier @ np.diag(h_or_l) @ np.matrix(trial_fourier).H\n",
      "/home/inffzy/Desktop/cogs189/cogs189_final_project/scripts/SACSP.py:410: ComplexWarning: Casting complex values to real discards the imaginary part\n",
      "  extracted_features[i, j] = extracted_feature[0, 0]\n"
     ]
    },
    {
     "name": "stdout",
     "output_type": "stream",
     "text": [
      "Cross validation scores for labels  769  and  770 :  0.6071895424836601\n"
     ]
    },
    {
     "name": "stderr",
     "output_type": "stream",
     "text": [
      "/home/inffzy/Desktop/cogs189/cogs189_final_project/scripts/SACSP.py:198: ComplexWarning: Casting complex values to real discards the imaginary part\n",
      "  E[i] = trial_fourier @ np.diag(h_or_l) @ np.matrix(trial_fourier).H\n",
      "/home/inffzy/Desktop/cogs189/cogs189_final_project/scripts/SACSP.py:225: ComplexWarning: Casting complex values to real discards the imaginary part\n",
      "  E[i] = np.matrix(trial_fourier).H @ w_or_v @ w_or_v.T @ trial_fourier\n",
      "/home/inffzy/Desktop/cogs189/cogs189_final_project/scripts/SACSP.py:177: ComplexWarning: Casting complex values to real discards the imaginary part\n",
      "  E[i] = trial_fourier @ np.diag(h_or_l) @ np.matrix(trial_fourier).H\n",
      "/home/inffzy/Desktop/cogs189/cogs189_final_project/scripts/SACSP.py:410: ComplexWarning: Casting complex values to real discards the imaginary part\n",
      "  extracted_features[i, j] = extracted_feature[0, 0]\n"
     ]
    },
    {
     "name": "stdout",
     "output_type": "stream",
     "text": [
      "Cross validation scores for labels  769  and  771 :  0.5952631578947368\n"
     ]
    },
    {
     "name": "stderr",
     "output_type": "stream",
     "text": [
      "/home/inffzy/Desktop/cogs189/cogs189_final_project/scripts/SACSP.py:198: ComplexWarning: Casting complex values to real discards the imaginary part\n",
      "  E[i] = trial_fourier @ np.diag(h_or_l) @ np.matrix(trial_fourier).H\n",
      "/home/inffzy/Desktop/cogs189/cogs189_final_project/scripts/SACSP.py:225: ComplexWarning: Casting complex values to real discards the imaginary part\n",
      "  E[i] = np.matrix(trial_fourier).H @ w_or_v @ w_or_v.T @ trial_fourier\n",
      "/home/inffzy/Desktop/cogs189/cogs189_final_project/scripts/SACSP.py:177: ComplexWarning: Casting complex values to real discards the imaginary part\n",
      "  E[i] = trial_fourier @ np.diag(h_or_l) @ np.matrix(trial_fourier).H\n",
      "/home/inffzy/Desktop/cogs189/cogs189_final_project/scripts/SACSP.py:410: ComplexWarning: Casting complex values to real discards the imaginary part\n",
      "  extracted_features[i, j] = extracted_feature[0, 0]\n"
     ]
    },
    {
     "name": "stdout",
     "output_type": "stream",
     "text": [
      "Cross validation scores for labels  769  and  772 :  0.9\n"
     ]
    },
    {
     "name": "stderr",
     "output_type": "stream",
     "text": [
      "/home/inffzy/Desktop/cogs189/cogs189_final_project/scripts/SACSP.py:198: ComplexWarning: Casting complex values to real discards the imaginary part\n",
      "  E[i] = trial_fourier @ np.diag(h_or_l) @ np.matrix(trial_fourier).H\n",
      "/home/inffzy/Desktop/cogs189/cogs189_final_project/scripts/SACSP.py:225: ComplexWarning: Casting complex values to real discards the imaginary part\n",
      "  E[i] = np.matrix(trial_fourier).H @ w_or_v @ w_or_v.T @ trial_fourier\n",
      "/home/inffzy/Desktop/cogs189/cogs189_final_project/scripts/SACSP.py:177: ComplexWarning: Casting complex values to real discards the imaginary part\n",
      "  E[i] = trial_fourier @ np.diag(h_or_l) @ np.matrix(trial_fourier).H\n",
      "/home/inffzy/Desktop/cogs189/cogs189_final_project/scripts/SACSP.py:410: ComplexWarning: Casting complex values to real discards the imaginary part\n",
      "  extracted_features[i, j] = extracted_feature[0, 0]\n"
     ]
    },
    {
     "name": "stdout",
     "output_type": "stream",
     "text": [
      "Cross validation scores for labels  770  and  771 :  0.931904761904762\n"
     ]
    },
    {
     "name": "stderr",
     "output_type": "stream",
     "text": [
      "/home/inffzy/Desktop/cogs189/cogs189_final_project/scripts/SACSP.py:198: ComplexWarning: Casting complex values to real discards the imaginary part\n",
      "  E[i] = trial_fourier @ np.diag(h_or_l) @ np.matrix(trial_fourier).H\n",
      "/home/inffzy/Desktop/cogs189/cogs189_final_project/scripts/SACSP.py:225: ComplexWarning: Casting complex values to real discards the imaginary part\n",
      "  E[i] = np.matrix(trial_fourier).H @ w_or_v @ w_or_v.T @ trial_fourier\n",
      "/home/inffzy/Desktop/cogs189/cogs189_final_project/scripts/SACSP.py:177: ComplexWarning: Casting complex values to real discards the imaginary part\n",
      "  E[i] = trial_fourier @ np.diag(h_or_l) @ np.matrix(trial_fourier).H\n",
      "/home/inffzy/Desktop/cogs189/cogs189_final_project/scripts/SACSP.py:410: ComplexWarning: Casting complex values to real discards the imaginary part\n",
      "  extracted_features[i, j] = extracted_feature[0, 0]\n"
     ]
    },
    {
     "name": "stdout",
     "output_type": "stream",
     "text": [
      "Cross validation scores for labels  770  and  772 :  0.9882352941176471\n"
     ]
    },
    {
     "name": "stderr",
     "output_type": "stream",
     "text": [
      "/home/inffzy/Desktop/cogs189/cogs189_final_project/scripts/SACSP.py:198: ComplexWarning: Casting complex values to real discards the imaginary part\n",
      "  E[i] = trial_fourier @ np.diag(h_or_l) @ np.matrix(trial_fourier).H\n",
      "/home/inffzy/Desktop/cogs189/cogs189_final_project/scripts/SACSP.py:225: ComplexWarning: Casting complex values to real discards the imaginary part\n",
      "  E[i] = np.matrix(trial_fourier).H @ w_or_v @ w_or_v.T @ trial_fourier\n",
      "/home/inffzy/Desktop/cogs189/cogs189_final_project/scripts/SACSP.py:177: ComplexWarning: Casting complex values to real discards the imaginary part\n",
      "  E[i] = trial_fourier @ np.diag(h_or_l) @ np.matrix(trial_fourier).H\n",
      "/home/inffzy/Desktop/cogs189/cogs189_final_project/scripts/SACSP.py:410: ComplexWarning: Casting complex values to real discards the imaginary part\n",
      "  extracted_features[i, j] = extracted_feature[0, 0]\n"
     ]
    },
    {
     "name": "stdout",
     "output_type": "stream",
     "text": [
      "Cross validation scores for labels  771  and  772 :  0.7116959064327484\n"
     ]
    },
    {
     "name": "stderr",
     "output_type": "stream",
     "text": [
      "/home/inffzy/Desktop/cogs189/cogs189_final_project/scripts/SACSP.py:410: ComplexWarning: Casting complex values to real discards the imaginary part\n",
      "  extracted_features[i, j] = extracted_feature[0, 0]\n",
      "/home/inffzy/Desktop/cogs189/cogs189_final_project/scripts/SACSP.py:410: ComplexWarning: Casting complex values to real discards the imaginary part\n",
      "  extracted_features[i, j] = extracted_feature[0, 0]\n",
      "/home/inffzy/Desktop/cogs189/cogs189_final_project/scripts/SACSP.py:410: ComplexWarning: Casting complex values to real discards the imaginary part\n",
      "  extracted_features[i, j] = extracted_feature[0, 0]\n",
      "/home/inffzy/Desktop/cogs189/cogs189_final_project/scripts/SACSP.py:410: ComplexWarning: Casting complex values to real discards the imaginary part\n",
      "  extracted_features[i, j] = extracted_feature[0, 0]\n",
      "/home/inffzy/Desktop/cogs189/cogs189_final_project/scripts/SACSP.py:410: ComplexWarning: Casting complex values to real discards the imaginary part\n",
      "  extracted_features[i, j] = extracted_feature[0, 0]\n",
      "/home/inffzy/Desktop/cogs189/cogs189_final_project/scripts/SACSP.py:410: ComplexWarning: Casting complex values to real discards the imaginary part\n",
      "  extracted_features[i, j] = extracted_feature[0, 0]\n"
     ]
    },
    {
     "name": "stdout",
     "output_type": "stream",
     "text": [
      "Training accuracy:  0.5769230769230769\n"
     ]
    },
    {
     "name": "stderr",
     "output_type": "stream",
     "text": [
      "/home/inffzy/Desktop/cogs189/cogs189_final_project/scripts/SACSP.py:410: ComplexWarning: Casting complex values to real discards the imaginary part\n",
      "  extracted_features[i, j] = extracted_feature[0, 0]\n",
      "/home/inffzy/Desktop/cogs189/cogs189_final_project/scripts/SACSP.py:410: ComplexWarning: Casting complex values to real discards the imaginary part\n",
      "  extracted_features[i, j] = extracted_feature[0, 0]\n",
      "/home/inffzy/Desktop/cogs189/cogs189_final_project/scripts/SACSP.py:410: ComplexWarning: Casting complex values to real discards the imaginary part\n",
      "  extracted_features[i, j] = extracted_feature[0, 0]\n",
      "/home/inffzy/Desktop/cogs189/cogs189_final_project/scripts/SACSP.py:410: ComplexWarning: Casting complex values to real discards the imaginary part\n",
      "  extracted_features[i, j] = extracted_feature[0, 0]\n",
      "/home/inffzy/Desktop/cogs189/cogs189_final_project/scripts/SACSP.py:410: ComplexWarning: Casting complex values to real discards the imaginary part\n",
      "  extracted_features[i, j] = extracted_feature[0, 0]\n",
      "/home/inffzy/Desktop/cogs189/cogs189_final_project/scripts/SACSP.py:410: ComplexWarning: Casting complex values to real discards the imaginary part\n",
      "  extracted_features[i, j] = extracted_feature[0, 0]\n"
     ]
    },
    {
     "name": "stdout",
     "output_type": "stream",
     "text": [
      "Testing accuracy:  0.3956043956043956\n"
     ]
    },
    {
     "name": "stderr",
     "output_type": "stream",
     "text": [
      "/home/inffzy/Desktop/cogs189/cogs189_final_project/scripts/SACSP.py:198: ComplexWarning: Casting complex values to real discards the imaginary part\n",
      "  E[i] = trial_fourier @ np.diag(h_or_l) @ np.matrix(trial_fourier).H\n",
      "/home/inffzy/Desktop/cogs189/cogs189_final_project/scripts/SACSP.py:225: ComplexWarning: Casting complex values to real discards the imaginary part\n",
      "  E[i] = np.matrix(trial_fourier).H @ w_or_v @ w_or_v.T @ trial_fourier\n",
      "/home/inffzy/Desktop/cogs189/cogs189_final_project/scripts/SACSP.py:177: ComplexWarning: Casting complex values to real discards the imaginary part\n",
      "  E[i] = trial_fourier @ np.diag(h_or_l) @ np.matrix(trial_fourier).H\n",
      "/home/inffzy/Desktop/cogs189/cogs189_final_project/scripts/SACSP.py:410: ComplexWarning: Casting complex values to real discards the imaginary part\n",
      "  extracted_features[i, j] = extracted_feature[0, 0]\n"
     ]
    },
    {
     "name": "stdout",
     "output_type": "stream",
     "text": [
      "Cross validation scores for labels  769  and  770 :  0.5287581699346405\n"
     ]
    },
    {
     "name": "stderr",
     "output_type": "stream",
     "text": [
      "/home/inffzy/Desktop/cogs189/cogs189_final_project/scripts/SACSP.py:198: ComplexWarning: Casting complex values to real discards the imaginary part\n",
      "  E[i] = trial_fourier @ np.diag(h_or_l) @ np.matrix(trial_fourier).H\n",
      "/home/inffzy/Desktop/cogs189/cogs189_final_project/scripts/SACSP.py:225: ComplexWarning: Casting complex values to real discards the imaginary part\n",
      "  E[i] = np.matrix(trial_fourier).H @ w_or_v @ w_or_v.T @ trial_fourier\n",
      "/home/inffzy/Desktop/cogs189/cogs189_final_project/scripts/SACSP.py:177: ComplexWarning: Casting complex values to real discards the imaginary part\n",
      "  E[i] = trial_fourier @ np.diag(h_or_l) @ np.matrix(trial_fourier).H\n",
      "/home/inffzy/Desktop/cogs189/cogs189_final_project/scripts/SACSP.py:410: ComplexWarning: Casting complex values to real discards the imaginary part\n",
      "  extracted_features[i, j] = extracted_feature[0, 0]\n"
     ]
    },
    {
     "name": "stdout",
     "output_type": "stream",
     "text": [
      "Cross validation scores for labels  769  and  771 :  0.6071895424836602\n"
     ]
    },
    {
     "name": "stderr",
     "output_type": "stream",
     "text": [
      "/home/inffzy/Desktop/cogs189/cogs189_final_project/scripts/SACSP.py:198: ComplexWarning: Casting complex values to real discards the imaginary part\n",
      "  E[i] = trial_fourier @ np.diag(h_or_l) @ np.matrix(trial_fourier).H\n",
      "/home/inffzy/Desktop/cogs189/cogs189_final_project/scripts/SACSP.py:225: ComplexWarning: Casting complex values to real discards the imaginary part\n",
      "  E[i] = np.matrix(trial_fourier).H @ w_or_v @ w_or_v.T @ trial_fourier\n",
      "/home/inffzy/Desktop/cogs189/cogs189_final_project/scripts/SACSP.py:177: ComplexWarning: Casting complex values to real discards the imaginary part\n",
      "  E[i] = trial_fourier @ np.diag(h_or_l) @ np.matrix(trial_fourier).H\n",
      "/home/inffzy/Desktop/cogs189/cogs189_final_project/scripts/SACSP.py:410: ComplexWarning: Casting complex values to real discards the imaginary part\n",
      "  extracted_features[i, j] = extracted_feature[0, 0]\n"
     ]
    },
    {
     "name": "stdout",
     "output_type": "stream",
     "text": [
      "Cross validation scores for labels  769  and  772 :  0.6980392156862745\n"
     ]
    },
    {
     "name": "stderr",
     "output_type": "stream",
     "text": [
      "/home/inffzy/Desktop/cogs189/cogs189_final_project/scripts/SACSP.py:198: ComplexWarning: Casting complex values to real discards the imaginary part\n",
      "  E[i] = trial_fourier @ np.diag(h_or_l) @ np.matrix(trial_fourier).H\n",
      "/home/inffzy/Desktop/cogs189/cogs189_final_project/scripts/SACSP.py:225: ComplexWarning: Casting complex values to real discards the imaginary part\n",
      "  E[i] = np.matrix(trial_fourier).H @ w_or_v @ w_or_v.T @ trial_fourier\n",
      "/home/inffzy/Desktop/cogs189/cogs189_final_project/scripts/SACSP.py:177: ComplexWarning: Casting complex values to real discards the imaginary part\n",
      "  E[i] = trial_fourier @ np.diag(h_or_l) @ np.matrix(trial_fourier).H\n"
     ]
    }
   ],
   "source": [
    "## results records training accuracy, cross validation average score, and testing accuracy for each subject\n",
    "results = np.zeros((num_experiment, len(all_data_paths), 3))\n",
    "\n",
    "for j in range(num_experiment):\n",
    "    for i, data_path in enumerate(all_data_paths):\n",
    "        \n",
    "        ## Load data\n",
    "        data_npz = np.load(data_path)\n",
    "        data = data_npz['processed_motor_imagery_data']\n",
    "        labels = data_npz['descriptions']\n",
    "        \n",
    "        ## Prepare training and testing data\n",
    "        X_train, X_test, y_train, y_test = train_test_split(data, \n",
    "                                                            labels, \n",
    "                                                            test_size=test_split, \n",
    "                                                            shuffle=True,\n",
    "                                                            random_state=j)\n",
    "        \n",
    "        ## Classification\n",
    "        clf = sacsp.SACSP_LDA_classifier(X_train, y_train, cross_val=num_cross_val)\n",
    "        cross_val_scores = clf.train_1_vs_1()\n",
    "        predictions, train_accuracy = clf.test_1_vs_1()\n",
    "        predictions, test_accuracy = clf.test_1_vs_1(X_test, y_test)\n",
    "        results[j, i, :] = [train_accuracy, np.mean(cross_val_scores), test_accuracy]"
   ]
  },
  {
   "cell_type": "code",
   "execution_count": null,
   "id": "57decb66",
   "metadata": {},
   "outputs": [],
   "source": [
    "print(results)\n",
    "results_avg = np.mean(results, axis=0)\n",
    "print(results_avg)\n",
    "\n",
    "results_path = os.path.join(results_dir, '4_LDA_SACSP.npy')\n",
    "np.save(results_path, results)"
   ]
  }
 ],
 "metadata": {
  "kernelspec": {
   "display_name": "Python 3 (ipykernel)",
   "language": "python",
   "name": "python3"
  },
  "language_info": {
   "codemirror_mode": {
    "name": "ipython",
    "version": 3
   },
   "file_extension": ".py",
   "mimetype": "text/x-python",
   "name": "python",
   "nbconvert_exporter": "python",
   "pygments_lexer": "ipython3",
   "version": "3.9.7"
  }
 },
 "nbformat": 4,
 "nbformat_minor": 5
}
