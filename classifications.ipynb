{
 "cells": [
  {
   "cell_type": "code",
   "execution_count": 67,
   "id": "30a4bf62",
   "metadata": {},
   "outputs": [],
   "source": [
    "## Import packages\n",
    "import os\n",
    "import mne\n",
    "import numpy as np\n",
    "import scipy as sp\n",
    "import scipy.io as sio\n",
    "import matplotlib.pyplot as plt\n",
    "\n",
    "from scipy.signal import butter, sosfiltfilt, sosfreqz  \n",
    "from scipy.io import loadmat\n",
    "from sklearn.utils import shuffle\n",
    "from sklearn.model_selection import train_test_split, cross_val_score\n",
    "from sklearn.multiclass import OneVsOneClassifier, OneVsRestClassifier\n",
    "from sklearn.discriminant_analysis import LinearDiscriminantAnalysis\n",
    "from sklearn.metrics import accuracy_score, roc_curve, auc"
   ]
  },
  {
   "cell_type": "code",
   "execution_count": 68,
   "id": "7e558dfd",
   "metadata": {},
   "outputs": [],
   "source": [
    "## Define directories\n",
    "data_dir = '/home/inffzy/Desktop/cogs189/cogs189_final_project/data'"
   ]
  },
  {
   "cell_type": "code",
   "execution_count": 69,
   "id": "3d20a5d1",
   "metadata": {},
   "outputs": [],
   "source": [
    "## Raw data directory names\n",
    "bc4_2a_processed_name = 'bci_competition_4_2a_processed'\n",
    "bc3_3a_processed_name = 'bci_competition_3_3a_processed'\n",
    "\n",
    "## Create list of all data paths\n",
    "bc4_2a_processed_data_paths = []\n",
    "bc3_3a_processed_data_paths = []\n",
    "\n",
    "## Add bc4_2a data paths\n",
    "for subject_idx in range(1, 10):\n",
    "    subject_name = 'A0' + str(subject_idx) + 'T'\n",
    "    bc4_2a_processed_data_paths.append(\n",
    "        os.path.join(data_dir, bc4_2a_processed_name, subject_name + '.npz'))\n",
    "    \n",
    "## Add bc3_3a data paths\n",
    "for subject_idx in range(1, 4):\n",
    "    subject_name = 'bc3_3a_s' + str(subject_idx)\n",
    "    bc3_3a_processed_data_paths.append(\n",
    "        os.path.join(data_dir, bc3_3a_processed_name, subject_name + '.npz'))"
   ]
  },
  {
   "cell_type": "code",
   "execution_count": 70,
   "id": "293f0eaa",
   "metadata": {},
   "outputs": [],
   "source": [
    "bc4_2a_s1_data_npz = np.load(bc4_2a_processed_data_paths[0])\n",
    "bc4_2a_s1_data = bc4_2a_s1_data_npz['processed_motor_imagery_data']\n",
    "bc4_2a_s1_labels = bc4_2a_s1_data_npz['descriptions']"
   ]
  },
  {
   "cell_type": "code",
   "execution_count": 72,
   "id": "f91de37e",
   "metadata": {},
   "outputs": [],
   "source": [
    "bc4_2a_s1_data_ds = windowed_means(bc4_2a_s1_data, 100)"
   ]
  },
  {
   "cell_type": "code",
   "execution_count": 73,
   "id": "176228fa",
   "metadata": {},
   "outputs": [
    {
     "data": {
      "text/plain": [
       "(273, 22, 100)"
      ]
     },
     "execution_count": 73,
     "metadata": {},
     "output_type": "execute_result"
    }
   ],
   "source": [
    "bc4_2a_s1_data_ds.shape"
   ]
  },
  {
   "cell_type": "code",
   "execution_count": null,
   "id": "00f3646b",
   "metadata": {},
   "outputs": [],
   "source": []
  },
  {
   "cell_type": "code",
   "execution_count": 79,
   "id": "f79b2757",
   "metadata": {},
   "outputs": [],
   "source": [
    "## Prepare training and testing data\n",
    "X_train, X_test, y_train, y_test = train_test_split(bc4_2a_s1_data_flattened, \n",
    "                                                    bc4_2a_s1_labels, \n",
    "                                                    test_size=0.33, \n",
    "                                                    shuffle=True,\n",
    "                                                    random_state=42)"
   ]
  },
  {
   "cell_type": "code",
   "execution_count": 80,
   "id": "558f0e6a",
   "metadata": {},
   "outputs": [
    {
     "data": {
      "text/plain": [
       "(182, 2200)"
      ]
     },
     "execution_count": 80,
     "metadata": {},
     "output_type": "execute_result"
    }
   ],
   "source": [
    "X_train.shape"
   ]
  },
  {
   "cell_type": "code",
   "execution_count": 32,
   "id": "8346fd30",
   "metadata": {},
   "outputs": [
    {
     "name": "stdout",
     "output_type": "stream",
     "text": [
      "Cross validation scores for labels  769  and  770 :  [0.6        0.7        0.6        0.35       0.57894737]\n",
      "Cross validation scores for labels  769  and  771 :  [0.42105263 0.61111111 0.44444444 0.5        0.44444444]\n",
      "Cross validation scores for labels  769  and  772 :  [0.55555556 0.38888889 0.61111111 0.52941176 0.52941176]\n",
      "Cross validation scores for labels  770  and  771 :  [0.68421053 0.57894737 0.57894737 0.52631579 0.55555556]\n",
      "Cross validation scores for labels  770  and  772 :  [0.63157895 0.66666667 0.66666667 0.61111111 0.44444444]\n",
      "Cross validation scores for labels  771  and  772 :  [0.47058824 0.29411765 0.47058824 0.4375     0.375     ]\n"
     ]
    }
   ],
   "source": [
    "final_pred = one_vs_one_classifier(X_train, y_train)\n",
    "#final_pred = one_vs_one_classifier(X_train, y_train, X_test, y_test, cross_val=5)"
   ]
  },
  {
   "cell_type": "code",
   "execution_count": 35,
   "id": "20e84255",
   "metadata": {},
   "outputs": [
    {
     "name": "stdout",
     "output_type": "stream",
     "text": [
      "1.0\n"
     ]
    }
   ],
   "source": [
    "print(accuracy_score(y_train, final_pred))\n",
    "#print(accuracy_score(y_test, final_pred))"
   ]
  },
  {
   "cell_type": "code",
   "execution_count": 65,
   "id": "1d2a3680",
   "metadata": {},
   "outputs": [
    {
     "name": "stdout",
     "output_type": "stream",
     "text": [
      "(48, 22, 750)\n",
      "(51, 22, 750)\n",
      "(99, 4500)\n",
      "Mean cross validation score for labels  769  and  770 :  0.5552631578947368\n",
      "(48, 22, 750)\n",
      "(43, 22, 750)\n",
      "(91, 4500)\n",
      "Mean cross validation score for labels  769  and  771 :  0.6929824561403508\n",
      "(48, 22, 750)\n",
      "(40, 22, 750)\n",
      "(88, 4500)\n",
      "Mean cross validation score for labels  769  and  772 :  0.5352941176470588\n",
      "(51, 22, 750)\n",
      "(43, 22, 750)\n",
      "(94, 4500)\n",
      "Mean cross validation score for labels  770  and  771 :  0.6286549707602339\n",
      "(51, 22, 750)\n",
      "(40, 22, 750)\n",
      "(91, 4500)\n",
      "Mean cross validation score for labels  770  and  772 :  0.6046783625730995\n",
      "(43, 22, 750)\n",
      "(40, 22, 750)\n",
      "(83, 4500)\n",
      "Mean cross validation score for labels  771  and  772 :  0.5279411764705882\n"
     ]
    }
   ],
   "source": [
    "#final_pred = one_vs_one_CSP_classifier(X_train, y_train)\n",
    "final_pred = one_vs_one_CSP_classifier(X_train, y_train, X_test, y_test, cross_val=5)"
   ]
  },
  {
   "cell_type": "code",
   "execution_count": 66,
   "id": "b7c2aa4f",
   "metadata": {},
   "outputs": [
    {
     "name": "stdout",
     "output_type": "stream",
     "text": [
      "0.31868131868131866\n"
     ]
    }
   ],
   "source": [
    "#print(accuracy_score(y_train, final_pred))\n",
    "print(accuracy_score(y_test, final_pred))"
   ]
  },
  {
   "cell_type": "code",
   "execution_count": null,
   "id": "4ac79b17",
   "metadata": {},
   "outputs": [],
   "source": []
  },
  {
   "cell_type": "code",
   "execution_count": 81,
   "id": "b62f5723",
   "metadata": {},
   "outputs": [
    {
     "name": "stdout",
     "output_type": "stream",
     "text": [
      "[0.16216216 0.2972973  0.16666667 0.33333333 0.22222222]\n",
      "[769 771 770 770 772 770 770 769 772 769 770 772 769 770 770 771 770 772\n",
      " 770 770 769 771 772 769 769 771 769 771 770 772 771 769 770 771 769 772\n",
      " 770 772 772 771 770 770 771 770 772 769 770 771 769 769 770 771 770 770\n",
      " 770 772 770 770 770 772 769 772 769 769 770 772 771 769 772 769 770 770\n",
      " 770 770 771 770 769 769 772 770 772 769 772 770 769 769 769 770 770 770\n",
      " 771]\n",
      "0.2857142857142857\n"
     ]
    }
   ],
   "source": [
    "## Test LDA\n",
    "lda = LinearDiscriminantAnalysis(solver='lsqr',  shrinkage='auto')\n",
    "#lda.fit(X_train, y_train)\n",
    "\n",
    "# Let's do 5-fold cross validation\n",
    "#score_lda = cross_val_score(lda.fit(X_train, y_train), X_train, y_train, cv = 5)\n",
    "\n",
    "# We will print out the mean score\n",
    "#print(\"solver = lsqr  accuracy: %f\" % np.mean(score_lda))\n",
    "\n",
    "#y_pred = lda.predict(X_test)\n",
    "#print(accuracy_score(y_test, y_pred))\n",
    "\n",
    "\n",
    "one_vs_one = OneVsOneClassifier(lda).fit(X_train, y_train)\n",
    "#one_vs_one_cross_score = cross_val_score(one_vs_one, X_train, y_train, cv = 5)\n",
    "\n",
    "#print(one_vs_one_cross_score)\n",
    "\n",
    "y_pred = one_vs_one.predict(X_test)\n",
    "print(y_pred)\n",
    "print(accuracy_score(y_test, y_pred))\n"
   ]
  },
  {
   "cell_type": "code",
   "execution_count": null,
   "id": "b592e067",
   "metadata": {},
   "outputs": [],
   "source": []
  },
  {
   "cell_type": "code",
   "execution_count": null,
   "id": "27e0666a",
   "metadata": {},
   "outputs": [],
   "source": [
    "num_bc4_2a_channels = bc4_2a_s1_data.shape[1]"
   ]
  },
  {
   "cell_type": "code",
   "execution_count": 39,
   "id": "9509c1b3",
   "metadata": {},
   "outputs": [
    {
     "data": {
      "text/plain": [
       "(273, 22, 750)"
      ]
     },
     "execution_count": 39,
     "metadata": {},
     "output_type": "execute_result"
    }
   ],
   "source": [
    "bc4_2a_s1_data.shape"
   ]
  },
  {
   "cell_type": "code",
   "execution_count": 40,
   "id": "f24a38d1",
   "metadata": {},
   "outputs": [],
   "source": [
    "## Separate subject data by trial label\n",
    "bc4_2a_s1_data_c1 = bc4_2a_s1_data[bc4_2a_s1_labels == 769]\n",
    "bc4_2a_s1_data_c2 = bc4_2a_s1_data[bc4_2a_s1_labels == 770]\n",
    "bc4_2a_s1_data_c3 = bc4_2a_s1_data[bc4_2a_s1_labels == 771]\n",
    "bc4_2a_s1_data_c4 = bc4_2a_s1_data[bc4_2a_s1_labels == 772]\n",
    "\n",
    "num_bc4_2a_s1_c1_trials = bc4_2a_s1_data_c1.shape[0]\n",
    "num_bc4_2a_s1_c2_trials = bc4_2a_s1_data_c2.shape[0]\n",
    "num_bc4_2a_s1_c3_trials = bc4_2a_s1_data_c3.shape[0]\n",
    "num_bc4_2a_s1_c4_trials = bc4_2a_s1_data_c4.shape[0]"
   ]
  },
  {
   "cell_type": "code",
   "execution_count": 46,
   "id": "c1b4b954",
   "metadata": {},
   "outputs": [],
   "source": [
    "W12 = CSP(bc4_2a_s1_data_c1, bc4_2a_s1_data_c2, n_top=3, n_bot=3)"
   ]
  },
  {
   "cell_type": "code",
   "execution_count": 47,
   "id": "45144e22",
   "metadata": {},
   "outputs": [
    {
     "data": {
      "text/plain": [
       "(6, 22)"
      ]
     },
     "execution_count": 47,
     "metadata": {},
     "output_type": "execute_result"
    }
   ],
   "source": [
    "W12.shape"
   ]
  },
  {
   "cell_type": "code",
   "execution_count": null,
   "id": "a464c0fb",
   "metadata": {},
   "outputs": [],
   "source": [
    "def SACSP_Eq_4_or_5(data_fourier, h_or_l, w_or_v, avg_cov_sum):\n",
    "    \n",
    "    numerator = (w_or_v.T @ data_fourier @ np.diag(h_or_l) @ np.matrix(data_fourier).H @ w_or_v)[0, 0]\n",
    "    denominator = (w_or_v.T @ avg_cov_sum @ w_or_v)[0, 0]\n",
    "    \n",
    "    return numerator / denominator"
   ]
  },
  {
   "cell_type": "code",
   "execution_count": null,
   "id": "043090b7",
   "metadata": {},
   "outputs": [],
   "source": [
    "def SACSP_Eq_6_or_7(data_fourier, h_or_l, avg_cov_sum, top_n):\n",
    "    E = data_fourier @ np.diag(h_or_l) @ np.matrix(data_fourier).H\n",
    "    \n",
    "    ## Generalized eigen-decomposition of Eq6 and Eq7 along with sum of class' spatial covariances\n",
    "    eigval, eigvec = sp.linalg.eigh(E, avg_cov_sum)\n",
    "    \n",
    "    ## Extract top n eigen vectors\n",
    "    sort_indices = np.argsort(eigval)\n",
    "    top_n_indices = list(sort_indices[-top_n:])\n",
    "    top_n_eigvec = eigvec[:, top_n_indices]\n",
    "    \n",
    "    return top_n_eigvec"
   ]
  },
  {
   "cell_type": "code",
   "execution_count": null,
   "id": "d136e4d7",
   "metadata": {},
   "outputs": [],
   "source": [
    "def SACSP(c1_data, c2_data, R=3, M=1, e=1e-6):\n",
    "    \n",
    "    ## R = number of spectral/spatial filters for each class\n",
    "    ## M = number of initializations of spectral filters\n",
    "    \n",
    "    t = c1_data.shape[-1]  ## Number of time samples\n",
    "    F = sp.linalg.dft(t)  ## Fourier matrix with shape t x t\n",
    "    \n",
    "    H = np.ones((M, t))  ## Initialize M number of h vectors\n",
    "    L = np.ones((M, t))  ## Initialize M number of l vectors\n",
    " \n",
    "    c1_data_avg = np.mean(c1_data, axis=0)\n",
    "    c2_data_avg = np.mean(c2_data, axis=0)\n",
    "\n",
    "    c1_data_avg_cov = np.cov(c1_data_avg)\n",
    "    c2_data_avg_cov = np.cov(c2_data_avg)\n",
    "    avg_cov_sum = c1_data_avg_cov + c2_data_avg_cov\n",
    "    \n",
    "    c1_data_avg_fourier = np.fft.fft(c1_data_avg)\n",
    "    c2_data_avg_fourier = np.fft.fft(c2_data_avg)\n",
    "    \n",
    "    c1_filter_pairs = []\n",
    "    c2_filter_pairs = []\n",
    "    \n",
    "    for m in range(M):\n",
    "        \n",
    "        ## h and l are spectral filters\n",
    "        h = H[m, :]\n",
    "        l = L[m, :]\n",
    "        \n",
    "        ## w and v are spatial filters\n",
    "        W = SACSP_Eq_6_or_7(c1_data_avg_fourier, h, avg_cov_sum, top_n=R)\n",
    "        V = SACSP_Eq_6_or_7(c2_data_avg_fourier, l, avg_cov_sum, top_n=R)\n",
    "        \n",
    "        for r in range(R):  \n",
    "            \n",
    "            ### Class 1 optimization ###\n",
    "            \n",
    "            w = np.atleast_2d(W[:, r]).T  ## From W, get w as a column vector\n",
    "            \n",
    "            c1_cost = 0\n",
    "            c1_cost_increase = e + 1\n",
    "            \n",
    "            while c1_cost_increase > e:\n",
    "            \n",
    "                ## Update spectral filter h_r_m from Eq9    \n",
    "                E = np.matrix(c1_data_avg_fourier).H @ w @ w.T @ c1_data_avg_fourier\n",
    "                \n",
    "                for k in range(t):\n",
    "                    h[k] = E[k, k] / np.linalg.norm(np.diag(E))\n",
    "                \n",
    "                H[m, :] = h\n",
    "                \n",
    "                ## Update spatial filter w_r by selecting the eigenvector \n",
    "                ##   corresponding to the largest eigenvalue from Eq6\n",
    "                w = SACSP_Eq_6_or_7(c1_data_avg_fourier, h, avg_cov_sum, top_n=1)\n",
    "                W[:, r] = w.flatten()\n",
    "\n",
    "                ## Calculate cost\n",
    "                c1_cost_prev = c1_cost\n",
    "                c1_cost = SACSP_Eq_4_or_5(c1_data_avg_fourier, h, w, avg_cov_sum)\n",
    "                c1_cost_increase = c1_cost - c1_cost_prev\n",
    "   \n",
    "            c1_filter_pairs.append([h, w])\n",
    "            \n",
    "            \n",
    "            ### Class 2 optimization ###\n",
    "            \n",
    "            v = np.atleast_2d(V[:, r]).T  ## From V, get v as a column vector\n",
    "            \n",
    "            c2_cost = 0\n",
    "            c2_cost_increase = e + 1\n",
    "            \n",
    "            while c2_cost_increase > e:\n",
    "            \n",
    "                ## Update spectral filter l_r_m from Eq10    \n",
    "                E = np.matrix(c2_data_avg_fourier).H @ v @ v.T @ c2_data_avg_fourier\n",
    "                \n",
    "                for k in range(t):\n",
    "                    l[k] = E[k, k] / np.linalg.norm(np.diag(E))\n",
    "                \n",
    "                L[m, :] = l\n",
    "                \n",
    "                ## Update spatial filter v_r by selecting the eigenvector \n",
    "                ##   corresponding to the largest eigenvalue from Eq7\n",
    "                v = SACSP_Eq_6_or_7(c2_data_avg_fourier, l, avg_cov_sum, top_n=1)\n",
    "                V[:, r] = v.flatten()\n",
    "\n",
    "                ## Calculate cost\n",
    "                c2_cost_prev = c2_cost\n",
    "                c2_cost = SACSP_Eq_4_or_5(c2_data_avg_fourier, l, v, avg_cov_sum)\n",
    "                c2_cost_increase = c2_cost - c2_cost_prev\n",
    "\n",
    "            c2_filter_pairs.append([l, v])\n",
    "    \n",
    "    ## From the M x R pairs of spatial and spectral filters, select R pairs that maximize the cost function\n",
    "    \n",
    "    \n",
    "    \n",
    "    \n",
    "    return c1_filter_pairs, c2_filter_pairs"
   ]
  },
  {
   "cell_type": "code",
   "execution_count": null,
   "id": "d5344fa5",
   "metadata": {},
   "outputs": [],
   "source": [
    "def SACSP2_Eq_4_or_5(data_fourier, h_or_l, w_or_v, avg_cov_sum):\n",
    "    \n",
    "    numerator = (w_or_v.T @ data_fourier @ np.diag(h_or_l) @ np.matrix(data_fourier).H @ w_or_v)[0, 0]\n",
    "    denominator = (w_or_v.T @ avg_cov_sum @ w_or_v)[0, 0]\n",
    "    \n",
    "    return numerator / denominator"
   ]
  },
  {
   "cell_type": "code",
   "execution_count": null,
   "id": "63021f24",
   "metadata": {},
   "outputs": [],
   "source": [
    "def SACSP2_Eq_6_or_7(data_fourier, h_or_l, avg_cov_sum, top_n):\n",
    "    E = data_fourier @ np.diag(h_or_l) @ np.matrix(data_fourier).H\n",
    "    \n",
    "    ## Generalized eigen-decomposition of Eq6 and Eq7 along with sum of class' spatial covariances\n",
    "    eigval, eigvec = sp.linalg.eigh(E, avg_cov_sum)\n",
    "    \n",
    "    ## Extract top n eigen vectors\n",
    "    sort_indices = np.argsort(eigval)\n",
    "    top_n_indices = list(sort_indices[-top_n:])\n",
    "    top_n_eigvec = eigvec[:, top_n_indices]\n",
    "    \n",
    "    return top_n_eigvec"
   ]
  },
  {
   "cell_type": "code",
   "execution_count": null,
   "id": "1f2c1f8f",
   "metadata": {},
   "outputs": [],
   "source": [
    "def SACSP2(c1_data, c2_data, R=3, M=1, e=1e-6):\n",
    "    \n",
    "    ## R = number of spectral/spatial filters for each class\n",
    "    ## M = number of initializations of spectral filters\n",
    "    \n",
    "    t = c1_data.shape[-1]  ## Number of time samples\n",
    "    F = sp.linalg.dft(t)  ## Fourier matrix with shape t x t\n",
    "    \n",
    "    H = np.ones((M, t))  ## Initialize M number of h vectors\n",
    "    L = np.ones((M, t))  ## Initialize M number of l vectors\n",
    " \n",
    "    c1_data_avg = np.mean(c1_data, axis=0)\n",
    "    c2_data_avg = np.mean(c2_data, axis=0)\n",
    "\n",
    "    c1_data_avg_cov = np.cov(c1_data_avg)\n",
    "    c2_data_avg_cov = np.cov(c2_data_avg)\n",
    "    avg_cov_sum = c1_data_avg_cov + c2_data_avg_cov\n",
    "    \n",
    "    c1_data_avg_fourier = c1_data_avg @ F\n",
    "    c2_data_avg_fourier = c2_data_avg @ F\n",
    "    \n",
    "    c1_filter_pairs = []\n",
    "    c2_filter_pairs = []\n",
    "    \n",
    "    for m in range(M):\n",
    "        \n",
    "        ## h and l are spectral filters\n",
    "        h = H[m, :]\n",
    "        l = L[m, :]\n",
    "        \n",
    "        ## w and v are spatial filters\n",
    "        W = SACSP_Eq_6_or_7(c1_data_avg_fourier, h, avg_cov_sum, top_n=R)\n",
    "        V = SACSP_Eq_6_or_7(c2_data_avg_fourier, l, avg_cov_sum, top_n=R)\n",
    "        \n",
    "        for r in range(R):  \n",
    "            \n",
    "            ### Class 1 optimization ###\n",
    "            \n",
    "            w = np.atleast_2d(W[:, r]).T  ## From W, get w as a column vector\n",
    "            \n",
    "            c1_cost = 0\n",
    "            c1_cost_increase = e + 1\n",
    "            \n",
    "            while c1_cost_increase > e:\n",
    "            \n",
    "                ## Update spectral filter h_r_m from Eq9    \n",
    "                E = np.matrix(c1_data_avg_fourier).H @ w @ w.T @ c1_data_avg_fourier\n",
    "                \n",
    "                for k in range(t):\n",
    "                    h[k] = E[k, k] / np.linalg.norm(np.diag(E))\n",
    "                \n",
    "                H[m, :] = h\n",
    "                \n",
    "                ## Update spatial filter w_r by selecting the eigenvector \n",
    "                ##   corresponding to the largest eigenvalue from Eq6\n",
    "                w = SACSP_Eq_6_or_7(c1_data_avg_fourier, h, avg_cov_sum, top_n=1)\n",
    "                W[:, r] = w.flatten()\n",
    "\n",
    "                ## Calculate cost\n",
    "                c1_cost_prev = c1_cost\n",
    "                c1_cost = SACSP_Eq_4_or_5(c1_data_avg_fourier, h, w, avg_cov_sum)\n",
    "                c1_cost_increase = c1_cost - c1_cost_prev\n",
    "   \n",
    "            c1_filter_pairs.append([h, w])\n",
    "            \n",
    "            \n",
    "            ### Class 2 optimization ###\n",
    "            \n",
    "            v = np.atleast_2d(V[:, r]).T  ## From V, get v as a column vector\n",
    "            \n",
    "            c2_cost = 0\n",
    "            c2_cost_increase = e + 1\n",
    "            \n",
    "            while c2_cost_increase > e:\n",
    "            \n",
    "                ## Update spectral filter l_r_m from Eq10    \n",
    "                E = np.matrix(c2_data_avg_fourier).H @ v @ v.T @ c2_data_avg_fourier\n",
    "                \n",
    "                for k in range(t):\n",
    "                    l[k] = E[k, k] / np.linalg.norm(np.diag(E))\n",
    "                \n",
    "                L[m, :] = l\n",
    "                \n",
    "                ## Update spatial filter v_r by selecting the eigenvector \n",
    "                ##   corresponding to the largest eigenvalue from Eq7\n",
    "                v = SACSP_Eq_6_or_7(c2_data_avg_fourier, l, avg_cov_sum, top_n=1)\n",
    "                V[:, r] = v.flatten()\n",
    "\n",
    "                ## Calculate cost\n",
    "                c2_cost_prev = c2_cost\n",
    "                c2_cost = SACSP_Eq_4_or_5(c2_data_avg_fourier, l, v, avg_cov_sum)\n",
    "                c2_cost_increase = c2_cost - c2_cost_prev\n",
    "\n",
    "            c2_filter_pairs.append([l, v])\n",
    "    \n",
    "    ## From the M x R pairs of spatial and spectral filters, select R pairs that maximize the cost function\n",
    "    \n",
    "    \n",
    "    \n",
    "    \n",
    "    return c1_filter_pairs, c2_filter_pairs"
   ]
  },
  {
   "cell_type": "code",
   "execution_count": null,
   "id": "57f19ba2",
   "metadata": {},
   "outputs": [],
   "source": [
    "bc4_2a_s1_data_c1_filter_pairs, bc4_2a_s1_data_c2_filter_pairs = SACSP(bc4_2a_s1_data_c1, bc4_2a_s1_data_c2)"
   ]
  },
  {
   "cell_type": "code",
   "execution_count": null,
   "id": "9fa7c8ad",
   "metadata": {},
   "outputs": [],
   "source": [
    "np.diag(bc4_2a_s1_data_c1_filter_pairs[0][1][:, 0]).shape"
   ]
  },
  {
   "cell_type": "code",
   "execution_count": null,
   "id": "f192d847",
   "metadata": {},
   "outputs": [],
   "source": [
    "bc4_2a_s1_data_c1_filter_pairs[0][0]"
   ]
  },
  {
   "cell_type": "code",
   "execution_count": null,
   "id": "977cf4d4",
   "metadata": {},
   "outputs": [],
   "source": []
  },
  {
   "cell_type": "code",
   "execution_count": null,
   "id": "11466250",
   "metadata": {},
   "outputs": [],
   "source": []
  },
  {
   "cell_type": "code",
   "execution_count": null,
   "id": "c53d0633",
   "metadata": {},
   "outputs": [],
   "source": [
    "def SACSP_extract_features(all_data, c1_filter_pairs, c2_filter_pairs, R=3):\n",
    "    \n",
    "    t = all_data.shape[-1]  ## Number of time samples\n",
    "    F = sp.linalg.dft(t)  ## Fourier matrix with shape t x t\n",
    "    \n",
    "    extracted_features = np.zeros((all_data.shape[0], 2 * R))\n",
    "    \n",
    "    for i, epoch in enumerate(all_data):    \n",
    "        epoch_fourier = epoch @ F\n",
    "        \n",
    "        for j, filter_pair in enumerate(c1_filter_pairs + c2_filter_pairs):\n",
    "            spectral_filter = filter_pair[0]  \n",
    "            spatial_filter = filter_pair[1]\n",
    "            extracted_feature = np.log(spatial_filter.T @ \n",
    "                                       epoch_fourier @ \n",
    "                                       np.diag(spectral_filter) @ \n",
    "                                       np.matrix(epoch_fourier).H @ \n",
    "                                       spatial_filter)\n",
    "            \n",
    "            extracted_features[i, j] = extracted_feature[0, 0]\n",
    "            \n",
    "    return extracted_features"
   ]
  },
  {
   "cell_type": "code",
   "execution_count": null,
   "id": "fc4d3707",
   "metadata": {},
   "outputs": [],
   "source": [
    "extracted_features = SACSP_extract_features(bc4_2a_s1_data, \n",
    "                                            bc4_2a_s1_data_c1_filter_pairs, \n",
    "                                            bc4_2a_s1_data_c2_filter_pairs)"
   ]
  },
  {
   "cell_type": "code",
   "execution_count": null,
   "id": "7dbe530e",
   "metadata": {},
   "outputs": [],
   "source": [
    "extracted_features[0]"
   ]
  },
  {
   "cell_type": "code",
   "execution_count": null,
   "id": "bc0b7bbc",
   "metadata": {},
   "outputs": [],
   "source": []
  },
  {
   "cell_type": "code",
   "execution_count": null,
   "id": "a0b1329b",
   "metadata": {},
   "outputs": [],
   "source": [
    "h = np.arange(5)"
   ]
  },
  {
   "cell_type": "code",
   "execution_count": null,
   "id": "b8be06df",
   "metadata": {},
   "outputs": [],
   "source": [
    "np.atleast_2d(h).T.shape"
   ]
  },
  {
   "cell_type": "code",
   "execution_count": null,
   "id": "01ccfe8b",
   "metadata": {},
   "outputs": [],
   "source": [
    "np.diag(h)"
   ]
  },
  {
   "cell_type": "code",
   "execution_count": null,
   "id": "385cee71",
   "metadata": {},
   "outputs": [],
   "source": [
    "np.diag(np.diag(h))"
   ]
  },
  {
   "cell_type": "code",
   "execution_count": null,
   "id": "2c6b1123",
   "metadata": {},
   "outputs": [],
   "source": [
    "a = 1\n",
    "b = 2\n",
    "\n",
    "c = []\n",
    "c.append([a, b])\n",
    "\n",
    "a += 1\n",
    "\n",
    "print(c)"
   ]
  },
  {
   "cell_type": "code",
   "execution_count": null,
   "id": "acda8764",
   "metadata": {},
   "outputs": [],
   "source": []
  }
 ],
 "metadata": {
  "kernelspec": {
   "display_name": "Python 3 (ipykernel)",
   "language": "python",
   "name": "python3"
  },
  "language_info": {
   "codemirror_mode": {
    "name": "ipython",
    "version": 3
   },
   "file_extension": ".py",
   "mimetype": "text/x-python",
   "name": "python",
   "nbconvert_exporter": "python",
   "pygments_lexer": "ipython3",
   "version": "3.9.7"
  }
 },
 "nbformat": 4,
 "nbformat_minor": 5
}
